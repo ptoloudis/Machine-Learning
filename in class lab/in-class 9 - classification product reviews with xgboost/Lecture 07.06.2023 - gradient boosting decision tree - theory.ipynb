{
 "cells": [
  {
   "cell_type": "code",
   "execution_count": 6,
   "metadata": {},
   "outputs": [
    {
     "data": {
      "text/html": [
       "<div id=\"my_id_menu_nb\">run previous cell, wait for 2 seconds</div>\n",
       "<script>\n",
       "function repeat_indent_string(n){\n",
       "    var a = \"\" ;\n",
       "    for ( ; n > 0 ; --n)\n",
       "        a += \"    \";\n",
       "    return a;\n",
       "}\n",
       "// look up into all sections and builds an automated menu //\n",
       "var update_menu_string = function(begin, lfirst, llast, sformat, send, keep_item, begin_format, end_format) {\n",
       "    var anchors = document.getElementsByClassName(\"section\");\n",
       "    if (anchors.length == 0) {\n",
       "        anchors = document.getElementsByClassName(\"text_cell_render rendered_html\");\n",
       "    }\n",
       "    var i,t;\n",
       "    var text_menu = begin;\n",
       "    var text_memo = \"<pre>\\nlength:\" + anchors.length + \"\\n\";\n",
       "    var ind = \"\";\n",
       "    var memo_level = 1;\n",
       "    var href;\n",
       "    var tags = [];\n",
       "    var main_item = 0;\n",
       "    var format_open = 0;\n",
       "    for (i = 0; i <= llast; i++)\n",
       "        tags.push(\"h\" + i);\n",
       "\n",
       "    for (i = 0; i < anchors.length; i++) {\n",
       "        text_memo += \"**\" + anchors[i].id + \"--\\n\";\n",
       "\n",
       "        var child = null;\n",
       "        for(t = 0; t < tags.length; t++) {\n",
       "            var r = anchors[i].getElementsByTagName(tags[t]);\n",
       "            if (r.length > 0) {\n",
       "child = r[0];\n",
       "break;\n",
       "            }\n",
       "        }\n",
       "        if (child == null) {\n",
       "            text_memo += \"null\\n\";\n",
       "            continue;\n",
       "        }\n",
       "        if (anchors[i].hasAttribute(\"id\")) {\n",
       "            // when converted in RST\n",
       "            href = anchors[i].id;\n",
       "            text_memo += \"#1-\" + href;\n",
       "            // passer à child suivant (le chercher)\n",
       "        }\n",
       "        else if (child.hasAttribute(\"id\")) {\n",
       "            // in a notebook\n",
       "            href = child.id;\n",
       "            text_memo += \"#2-\" + href;\n",
       "        }\n",
       "        else {\n",
       "            text_memo += \"#3-\" + \"*\" + \"\\n\";\n",
       "            continue;\n",
       "        }\n",
       "        var title = child.textContent;\n",
       "        var level = parseInt(child.tagName.substring(1,2));\n",
       "\n",
       "        text_memo += \"--\" + level + \"?\" + lfirst + \"--\" + title + \"\\n\";\n",
       "\n",
       "        if ((level < lfirst) || (level > llast)) {\n",
       "            continue ;\n",
       "        }\n",
       "        if (title.endsWith('¶')) {\n",
       "            title = title.substring(0,title.length-1).replace(\"<\", \"&lt;\")\n",
       "         .replace(\">\", \"&gt;\").replace(\"&\", \"&amp;\");\n",
       "        }\n",
       "        if (title.length == 0) {\n",
       "            continue;\n",
       "        }\n",
       "\n",
       "        while (level < memo_level) {\n",
       "            text_menu += end_format + \"</ul>\\n\";\n",
       "            format_open -= 1;\n",
       "            memo_level -= 1;\n",
       "        }\n",
       "        if (level == lfirst) {\n",
       "            main_item += 1;\n",
       "        }\n",
       "        if (keep_item != -1 && main_item != keep_item + 1) {\n",
       "            // alert(main_item + \" - \" + level + \" - \" + keep_item);\n",
       "            continue;\n",
       "        }\n",
       "        while (level > memo_level) {\n",
       "            text_menu += \"<ul>\\n\";\n",
       "            memo_level += 1;\n",
       "        }\n",
       "        text_menu += repeat_indent_string(level-2);\n",
       "        text_menu += begin_format + sformat.replace(\"__HREF__\", href).replace(\"__TITLE__\", title);\n",
       "        format_open += 1;\n",
       "    }\n",
       "    while (1 < memo_level) {\n",
       "        text_menu += end_format + \"</ul>\\n\";\n",
       "        memo_level -= 1;\n",
       "        format_open -= 1;\n",
       "    }\n",
       "    text_menu += send;\n",
       "    //text_menu += \"\\n\" + text_memo;\n",
       "\n",
       "    while (format_open > 0) {\n",
       "        text_menu += end_format;\n",
       "        format_open -= 1;\n",
       "    }\n",
       "    return text_menu;\n",
       "};\n",
       "var update_menu = function() {\n",
       "    var sbegin = \"\";\n",
       "    var sformat = '<a href=\"#__HREF__\">__TITLE__</a>';\n",
       "    var send = \"\";\n",
       "    var begin_format = '<li>';\n",
       "    var end_format = '</li>';\n",
       "    var keep_item = -1;\n",
       "    var text_menu = update_menu_string(sbegin, 2, 4, sformat, send, keep_item,\n",
       "       begin_format, end_format);\n",
       "    var menu = document.getElementById(\"my_id_menu_nb\");\n",
       "    menu.innerHTML=text_menu;\n",
       "};\n",
       "window.setTimeout(update_menu,2000);\n",
       "            </script>"
      ],
      "text/plain": [
       "<IPython.core.display.HTML object>"
      ]
     },
     "execution_count": 6,
     "metadata": {},
     "output_type": "execute_result"
    }
   ],
   "source": [
    "from jyquickhelper import add_notebook_menu\n",
    "add_notebook_menu()"
   ]
  },
  {
   "cell_type": "code",
   "execution_count": 1,
   "metadata": {},
   "outputs": [],
   "source": [
    "import matplotlib.pyplot as plt\n",
    "import numpy as np"
   ]
  },
  {
   "cell_type": "markdown",
   "metadata": {},
   "source": [
    "## Supervised Learning Review"
   ]
  },
  {
   "cell_type": "markdown",
   "metadata": {},
   "source": [
    "### Notation\n",
    "$\\left(x_{i}, y_{i}\\right) \\in \\mathbb{R}$ is the $i$ -th training example tuple, where $x_{i}$ is its set of features and $y_{i}$ its label.\n",
    "The training data is denoted by $D_{\\text {train }}=\\left\\{\\left(x_{i}, y_{i}\\right)\\right\\}_{i=1}^{N}$"
   ]
  },
  {
   "cell_type": "markdown",
   "metadata": {},
   "source": [
    "### Score Function (Model Evaluation)\n",
    "Let $\\hat{y}_{i}=f\\left(x_{i} ; \\mathbf{W}\\right)$ be our model prediction of the label of example $i$\n",
    "\n",
    "The score function is our way to evaluate the goodness of a model: \n",
    "\n",
    "\n",
    "\n",
    "$$F\\left(D_{\\text {train }} ; \\mathbf{W}\\right) =\\underbrace{L\\left(D_{\\text {train }} ; \\mathbf{W}\\right)}_{\\text {Training score}\\\\ \\text {measures how well} \\\\ {\\text{describes } D_{train}}} + \\underbrace{\\Omega\\left(\\mathbf{W}\\right)}_{\\text {Regularization,} \\\\ \\text {Parameter prior}}  $$\n",
    "\n",
    "where\n",
    "$$\n",
    "L\\left(D_{\\text {train }} ; \\mathbf{W}\\right)=\\sum_{i=1}^{N} l\\left(y_{i}, \\hat{y}_{i}\\right)\n",
    "$$\n",
    "\n",
    "Examples:\n",
    "  - Training score:\n",
    "  - Square loss: $l\\left(y_{i}, \\hat{y}_{i}\\right)=\\left(y_{i}-\\hat{y}_{i}\\right)^{2}$\n",
    "  \n",
    "* Cross-entropy loss (binary labels): $l\\left(y_{i}, \\hat{y}_{i}\\right)=-y_{i} \\log \\left(\\hat{y}_{i}\\right)-\\left(1-y_{i}\\right) \\log \\left(1-\\hat{y}_{i}\\right)$\n",
    "  - Regularization:\n",
    "  - L2 norm: $\\Omega(\\mathbf{W})=\\lambda\\|\\mathbf{W}\\|^{2}$\n",
    "  - L1 norm: $\\Omega(\\mathbf{W})=\\lambda\\|\\mathbf{W}\\|_{1}$"
   ]
  },
  {
   "cell_type": "markdown",
   "metadata": {},
   "source": [
    "## Consider 1D Regression Problem (x,y)"
   ]
  },
  {
   "cell_type": "code",
   "execution_count": 2,
   "metadata": {},
   "outputs": [
    {
     "data": {
      "image/png": "[encoded data removed]",
      "text/plain": [
       "<Figure size 432x288 with 1 Axes>"
      ]
     },
     "metadata": {
      "needs_background": "light"
     },
     "output_type": "display_data"
    }
   ],
   "source": [
    "# No randomness\n",
    "\n",
    "np.random.seed(42)\n",
    "\n",
    "#Generate N points for training data\n",
    "\n",
    "N = 40\n",
    "\n",
    "# get 1000 equally spaced points between -10 and 10\n",
    "x = np.linspace(-10, 10, N)\n",
    "\n",
    "# calculate the y value for each element of the x vector\n",
    "y = x**2 + 2*x + 1 + np.random.normal(0,20,N)\n",
    "\n",
    "def plotdata():\n",
    "    fig, ax = plt.subplots()\n",
    "    plt.xlabel(\"x\", fontsize=20)\n",
    "    plt.ylabel(\"y\", fontsize=20)\n",
    "    ax.plot(x, y,'.')\n",
    "    \n",
    "plotdata()\n",
    "plt.show()"
   ]
  },
  {
   "cell_type": "markdown",
   "metadata": {},
   "source": [
    "## Regression Tree (CART) Review\n",
    "\n",
    "Regression tree (also known as classification and regression tree) is a set of decision rules (a decision tree) that contains a single prediction at each leaf node.\n",
    "\n",
    "**Example of tree for regression problem given below**\n",
    "\n",
    "![](regression_tree.png)"
   ]
  },
  {
   "cell_type": "markdown",
   "metadata": {},
   "source": [
    "## Tree Ensembles\n",
    "Thinking of a regression tree as a function that maps the attributes to the score:\n",
    "\n",
    "**Model**: assuming we have $K$ trees, $f_{1}, \\ldots, f_{K}$\n",
    "\n",
    "$$\n",
    "\\hat{y}_{i}=\\sum_{k=1}^{K} f_{k}\\left(x_{i}\\right), \\quad f_{k} \\in \\mathcal{F}\n",
    "$$\n",
    "\n",
    "where $\\mathcal{F}$ is the space of **all** functions containing **all regression trees**.\n",
    "\n",
    "Thinking of tree search as an optimization problem (consider a score function where more is worse):\n",
    "\n",
    "$$\n",
    "\\mathbf{W}^{\\star}=\\arg \\min _{\\mathbf{w}} F\\left(D_{\\text {train }} ; \\mathbf{W}\\right)=\\arg \\min _{\\mathbf{W}} \\sum_{i=1}^{N} l\\left(y_{i}, \\hat{y}_{i}\\right)+\\sum_{k=1}^{K} \\Omega\\left(f_{k}\\right)\n",
    "$$\n",
    "\n",
    "where\n",
    "\n",
    "$$\n",
    "\\mathbf{W}=\\left(f_{1}, \\ldots, f_{K}\\right)\n",
    "$$\n",
    "\n",
    "and $\\Omega\\left(f_{k}\\right)$ is a penalty for **tree complexity**.\n",
    "\n",
    "Possible ways to define $\\Omega ?$\n",
    "\n",
    "* Number of nodes in the tree \n",
    "\n",
    "* Tree depth\n",
    "\n",
    "* L2 norm of the leaf weights\n",
    "\n",
    "**\"Small\" problem with the above optimization?**\n",
    "Learning the simplest (smallest) decision tree is an NP-complete problem [Hyafil \\& Rivest'76]"
   ]
  },
  {
   "cell_type": "markdown",
   "metadata": {},
   "source": [
    "## Trees: Optimization vs Heuristics\n",
    "\n",
    "When we talk about learning decision trees, we are often referring to heuristics\n",
    " - Split by information gain (greedy search)\n",
    " - Prune the tree (regularization on number of nodes)\n",
    " - Maximum depth (regularization by constraining the space of possible functions)"
   ]
  },
  {
   "cell_type": "markdown",
   "metadata": {},
   "source": [
    "## Boosting (additive training)\n",
    "\n",
    "Our real objective is still\n",
    "$$\n",
    "\\mathbf{W}^{\\star}=\\arg \\min _{\\mathbf{W}} \\sum_{i=1}^{N} l\\left(y_{i}, \\hat{y}_{i}\\right)+\\sum_{k=1}^{K} \\Omega\\left(f_{k}\\right)\n",
    "$$\n",
    "but we still cannot use gradient descent to find $\\mathbf{W}$ since the search space are trees, not differentiable functions...\n",
    "...but there is another approximation we can make: **Additive training (Boosting)**"
   ]
  },
  {
   "cell_type": "markdown",
   "metadata": {},
   "source": [
    "## Boosting (Additive Training)\n",
    "Start from constant prediction, **add new functions** sequentially\n",
    "$$\n",
    "\\begin{aligned}\n",
    "\\hat{y}_{i}^{(0)} &=0 \\\\\n",
    "\\hat{y}_{i}^{(1)} &=\\hat{y}_{i}^{(0)}+f_{1}\\left(x_{i}\\right) \\\\\n",
    "& \\vdots \\\\\n",
    "\\hat{y}_{i}^{(K)} &=\\hat{y}_{i}^{(K-1)}+f_{K}\\left(x_{i}\\right)\n",
    "\\end{aligned}\n",
    "$$\n",
    "**How can we decide which $f$ to add at each iteration?**"
   ]
  },
  {
   "cell_type": "markdown",
   "metadata": {},
   "source": [
    "Look at the objective function.\n",
    "\n",
    "$$\n",
    "\\mathbf{W}^{\\star}=\\arg \\min _{\\mathbf{W}} \\sum_{i=1}^{N} l\\left(y_{i}, \\hat{y}_{i}\\right)+\\sum_{k=1}^{K} \\Omega\\left(f_{k}\\right)\n",
    "$$\n",
    "We need to add $f_{k}$ to the prediction\n",
    "$$\n",
    "\\hat{y}_{i}^{(k)}=\\hat{y}_{i}^{(k-1)}+f_{k}\\left(x_{i}\\right)\n",
    "$$\n",
    "that will minimize the score.\n",
    "The score function at the $k$ -th step is:\n",
    "$$\n",
    "\\text { Score }^{(k)}=\\sum_{i=1}^{N} l\\left(y_{i}, \\hat{y}_{i}^{(k-1)}+f_{k}\\left(x_{i}\\right)\\right)+\\sum_{m=1}^{k} \\Omega\\left(f_{m}\\right)\n",
    "$$"
   ]
  },
  {
   "cell_type": "markdown",
   "metadata": {},
   "source": [
    "## Square loss example\n",
    "If the score is the square loss,\n",
    "$$\n",
    "\\begin{aligned}\n",
    "\\operatorname{Score}^{(k)} &=\\sum_{i=1}^{N} l\\left(y_{i}, \\hat{y}_{i}^{(k-1)}+f_{k}\\left(x_{i}\\right)\\right)+\\sum_{m=1}^{k} \\Omega\\left(f_{m}\\right) \\\\\n",
    "&=\\sum_{i=1}^{N}\\left(y_{i}-\\hat{y}_{i}^{(k-1)}+f_{k}\\left(x_{i}\\right)\\right)^{2}+\\sum_{m=1}^{k} \\Omega\\left(f_{m}\\right) \\\\\n",
    "&=\\sum_{i=1}^{N}\\left(2\\left(y_{i}-\\hat{y}_{i}^{(k-1)}\\right) f_{k}\\left(x_{i}\\right)+f_{k}\\left(x_{i}\\right)^{2}\\right)+\\sum_{m=1}^{k} \\Omega\\left(f_{m}\\right)+\\text { constant }\n",
    "\\end{aligned}\n",
    "$$\n",
    "The value $h_{i}^{(k)}=\\left(y_{i}-\\hat{y}_{i}^{(k-1)}\\right)$ is called the residual of round $k-1$"
   ]
  },
  {
   "cell_type": "markdown",
   "metadata": {},
   "source": [
    "**Translation**: The problem now becomes one of finding a tree $f_{k}$ that cares about the correct prediction of example $i$ with a weight proportional to the residual $h_{i}^{(k)},$ while trying to keep the overall predicted values not too large due to the $f_{k}\\left(x_{i}\\right)^{2}$ term.\n",
    "\n",
    "This decomposition works for the square loss, but what about cross-entropy or other forms of loss?"
   ]
  },
  {
   "cell_type": "markdown",
   "metadata": {},
   "source": [
    "##  What about other loss functions?\n",
    "$$\n",
    "\\operatorname{Score}^{(k)}=\\sum_{i=1}^{N} l\\left(y_{i}, \\hat{y}_{i}^{(k-1)}+f_{k}\\left(x_{i}\\right)\\right)+\\sum_{m=1}^{k} \\Omega\\left(f_{m}\\right)\n",
    "$$\n",
    "\n",
    "Consider the Taylor expansion of the score:\n",
    "- Recall that $f(x+\\Delta x) \\approx f(x)+\\frac{d}{d x} f(x) \\Delta x$\n",
    "\n",
    "- Define\n",
    "\n",
    "$$\n",
    "h_{i}^{(k)}=\\frac{\\partial}{\\partial \\hat{y}^{(k-1)}} l\\left(y_{i}, \\hat{y}^{(k-1)}\\right)\n",
    "$$\n",
    "\n",
    "- Then, the Taylor series approximation yields:\n",
    "\n",
    "$$\n",
    "\\begin{aligned}\n",
    "\\operatorname{Score}^{(k)} & \\approx \\sum_{i=1}^{N}\\left(l\\left(y_{i}, \\hat{y}_{i}^{(k-1)}\\right)+h_{i}^{(k)} f_{k}\\left(x_{i}\\right)\\right)+\\sum_{m=1}^{k} \\Omega\\left(f_{m}\\right) \\\\\n",
    "& \\approx \\sum_{i=1}^{N} h_{i}^{(k)} f_{k}\\left(x_{i}\\right)+\\Omega\\left(f_{k}\\right)+\\text { constant }\n",
    "\\end{aligned}\n",
    "$$\n",
    "\n",
    "  where in the last equation we used the fact that at the $k$ -th iteration, both\n",
    " \n",
    "\n",
    "\n",
    "$l\\left(y_{i}, \\hat{y}_{i}^{(k-1)}\\right)$   and $ \\sum_{m=1}^{k-1} \\Omega\\left(f_{m}\\right)$  are constant. \n",
    "\n",
    "\n",
    "**Q**: Which algorithm do we get if $y_{i} \\in\\{-1,1\\}$ and the loss is $l\\left(y_{i}, \\hat{y}_{i}^{(k)}\\right)=\\exp \\left(-y_{i} \\hat{y}_{i}^{(k)}\\right) ?$"
   ]
  },
  {
   "cell_type": "markdown",
   "metadata": {},
   "source": [
    "## How can we further improve gradient boosting for trees?\n",
    "\n",
    "So far, at each leaf gives a constant value, determined while we build the tree.\n",
    "\n",
    "In what follows, we decouple these two procedures: learning the tree and giving a prediction once we reach a leaf.\n",
    "\n",
    "* Suppose we have learned tree $f_{k}$\n",
    "\n",
    "* Let $q^{(k)}\\left(x_{i}\\right)$ be the leaf index of example $x_{i}$ once we follow the tree.\n",
    "\n",
    "* We define the output of leaf $q^{(k)}\\left(x_{i}\\right)$ of tree $f_{k}$ as a parameter $w_{q^{(k)}\\left(x_{i}\\right)} \\in \\mathbb{R}$ that we will also try to learn. And let $\\mathbf{w}$ be a $J$ -dimensional vector with all the leaf outputs.\n",
    "\n",
    "* Let $J$ be the number of leaves of $f_{k}$"
   ]
  },
  {
   "cell_type": "markdown",
   "metadata": {},
   "source": [
    "Let $I_{j}^{(k)}=\\left\\{i: q^{(k)}\\left(x_{i}\\right)=j\\right\\}$ be subset of the training data that belongs to leaf $j=1, \\ldots, J$\n",
    "\n",
    "We can rewrite our score function as:\n",
    "\n",
    "\\begin{aligned}\n",
    "\\mathrm{Score}^{(k)} & \\approx \\sum_{i=1}^{N} h_{i}^{(k)} f_{k}\\left(x_{i}\\right)+\\sum_{m=1}^{k} \\Omega\\left(f_{m}\\right)+\\mathrm{constant} \\\\\n",
    "& \\approx \\sum_{j=1}^{J}\\left(\\sum_{i \\in I_{j}} h_{i}^{(k)}\\right) w_{j}+\\Omega\\left(f_{k}\\right)+\\text { constant }\n",
    "\\end{aligned}\n",
    "\n",
    "\n",
    "And note that $\\left(\\sum_{i \\in I_{j}} h_{i}\\right)$ is only a function of $w_{j} .$ Then,\n",
    "\n",
    "\\begin{aligned}\n",
    "\\nabla_{\\mathbf{w}} \\operatorname{Score}^{(k)} & \\approx \\nabla_{\\mathbf{w}}\\left(\\sum_{j=1}^{J}\\left(\\sum_{i \\in I_{j}} h_{i}^{(k)}\\right) w_{j}+\\Omega\\left(f_{k}\\right)\\right) \\\\\n",
    "& \\approx \\sum_{j=1}^{J} \\frac{\\partial}{\\partial w_{j}}\\left(\\sum_{i \\in I_{j}} h_{i}^{(k)}\\right) w_{j}+\\nabla_{\\mathbf{w}} \\Omega\\left(f_{k}\\right)\n",
    "\\end{aligned}\n",
    "\n",
    "\n",
    "That is, after we learn the tree structure $q^{(k)}(\\cdot),$ we can use gradient descent to improve the leaf weights to further reduce the loss over the training data.\n",
    "\n",
    "One possible definition of tree complexity is\n",
    "$$\n",
    "\\Omega\\left(f_{k}\\right)=\\gamma J^{(k)}+\\frac{1}{2} \\lambda \\sum_{j=1}^{J} w_{j}^{2}\n",
    "$$\n",
    "where $w_{j}$ is the prediction given by leaf $j,$ i.e., $w_{q^{(k)}\\left(x_{i}\\right)}=f_{k}\\left(x_{i}\\right)$"
   ]
  },
  {
   "cell_type": "markdown",
   "metadata": {},
   "source": [
    "## Regression Trees"
   ]
  },
  {
   "cell_type": "code",
   "execution_count": 3,
   "metadata": {},
   "outputs": [
    {
     "data": {
      "image/png": "[encoded data removed]",
      "text/plain": [
       "<Figure size 432x288 with 1 Axes>"
      ]
     },
     "metadata": {
      "needs_background": "light"
     },
     "output_type": "display_data"
    }
   ],
   "source": [
    "# Example of a simple regression tree (no boosting or gradient boosting)\n",
    "\n",
    "#Reshape x: \n",
    "x_train = x[:, np.newaxis]\n",
    "y_train = y[:, np.newaxis]\n",
    "\n",
    "new_x = np.linspace(-10, 10, 4*N)\n",
    "\n",
    "from sklearn.tree import DecisionTreeRegressor\n",
    "plotdata()\n",
    "DT = DecisionTreeRegressor(max_depth=1).fit(x_train, y_train) \n",
    "plt.plot(new_x, DT.predict(new_x[:, np.newaxis]),\n",
    "         label='RT max_depth=1', color='r', alpha=0.9, linewidth=2)\n",
    "\n",
    "DT = DecisionTreeRegressor(max_depth=3).fit(x_train, y_train) \n",
    "plt.plot(new_x, DT.predict(new_x[:, np.newaxis]),\n",
    "         label='RT max_depth=3', color='b', alpha=0.9, linewidth=2)\n",
    "\n",
    "plt.legend(loc='upper left')\n",
    "plt.show()"
   ]
  },
  {
   "cell_type": "markdown",
   "metadata": {},
   "source": [
    "## Gradient Boosted Decision Trees"
   ]
  },
  {
   "cell_type": "code",
   "execution_count": 4,
   "metadata": {},
   "outputs": [
    {
     "data": {
      "image/png": "[encoded data removed]",
      "text/plain": [
       "<Figure size 432x288 with 1 Axes>"
      ]
     },
     "metadata": {
      "needs_background": "light"
     },
     "output_type": "display_data"
    }
   ],
   "source": [
    "from itertools import islice\n",
    "from sklearn.ensemble import GradientBoostingRegressor\n",
    "\n",
    "plotdata()\n",
    "DT = GradientBoostingRegressor(n_estimators=100, max_depth=2, learning_rate=1.0)\n",
    "DT.fit(x_train, y)\n",
    "\n",
    "ax = plt.gca() \n",
    "\n",
    "# step through prediction as we add 10 more trees.\n",
    "colorvector = ['g','b']\n",
    "legendvector = ['f_1',\"f_1 + f_2\"]\n",
    "i = 0\n",
    "for pred in islice(DT.staged_predict(new_x[:, np.newaxis]), 0, 2, 1):\n",
    "    plt.plot(new_x, pred, color=colorvector[i], alpha=1,label='GBRT '+legendvector[i])\n",
    "    i += 1\n",
    "\n",
    "pred = DT.predict(new_x[:, np.newaxis])\n",
    "plt.plot(new_x, pred, color='r', label='GBRT f_1+...+f_'+str(DT.n_estimators))\n",
    "\n",
    "plt.legend(loc='upper left')\n",
    "plt.show()"
   ]
  },
  {
   "cell_type": "markdown",
   "metadata": {},
   "source": [
    "## Extra: What about expanding the Taylor series?\n",
    "$$\n",
    "\\operatorname{Score}^{(k)}=\\sum_{i=1}^{N} l\\left(y_{i}, \\hat{y}_{i}^{(k-1)}+f_{k}\\left(x_{i}\\right)\\right)+\\sum_{m=1}^{k} \\Omega\\left(f_{m}\\right)\n",
    "$$\n",
    "$\\cdot$ Consider the Taylor expansion of the score:\n",
    "- Recall that $f(x+\\Delta x) \\approx f(x)+\\frac{d}{d x} f(x) \\Delta x+\\frac{1}{2} \\frac{d^{2}}{d x^{2}} f(x) \\Delta x^{2}$\n",
    "- Define\n",
    "$$\n",
    "h_{i}^{(k)}=\\frac{\\partial}{\\partial \\hat{y}^{(k-1)}} l\\left(y_{i}, \\hat{y}^{(k-1)}\\right)\n",
    "$$\n",
    "and\n",
    "$$\n",
    "g_{i}^{(k)}=\\frac{\\partial^{2}}{\\partial^{2} \\hat{y}^{(k-1)}} l\\left(y_{i}, \\hat{y}^{(k-1)}\\right)\n",
    "$$\n",
    "Then, the Taylor series approximation yields:\n",
    "$$\n",
    "\\begin{aligned}\n",
    "\\mathrm{Score}^{(k)} & \\approx \\sum_{i=1}^{N}\\left(l\\left(y_{i}, \\hat{y}_{i}^{(k-1)}\\right)+h_{i}^{(k)} f_{k}\\left(x_{i}\\right)+\\frac{1}{2} g_{i}^{(k)} f_{k}\\left(x_{i}\\right)^{2}\\right)+\\Omega\\left(f_{k}\\right) \\\\\n",
    "& \\approx \\sum_{i=1}^{N}\\left(h_{i}^{(k)} f_{k}\\left(x_{i}\\right)+\\frac{1}{2} g_{i}^{(k)} f_{k}\\left(x_{i}\\right)^{2}\\right)+\\Omega\\left(f_{k}\\right)+\\mathrm{constant}\n",
    "\\end{aligned}\n",
    "$$\n",
    "where in the last equation we used the fact that at the $k$ -th iteration, $l\\left(y_{i}, \\hat{y}_{i}^{(k-1)}\\right)$ is constant.\n",
    "If we define the tree complexity as\n",
    "$$\n",
    "\\Omega\\left(f_{k}\\right)=\\gamma J^{(k)}+\\frac{1}{2} \\lambda \\sum_{j=1}^{J} w_{j}^{2}\n",
    "$$\n",
    "where $w_{j}$ is the prediction given by leaf $j,$ i.e., $w_{q^{(k)}\\left(x_{i}\\right)}=f\\left(x_{i}\\right)$\n",
    "The final score will be\n",
    "$$\n",
    "\\begin{aligned}\n",
    "\\mathrm{Score}^{(k)} & \\approx \\sum_{i=1}^{N}\\left(h_{i}^{(k)} f_{k}\\left(x_{i}\\right)+\\frac{1}{2} g_{i}^{(k)} f_{k}\\left(x_{i}\\right)^{2}\\right)+\\gamma J^{(k)}+\\frac{1}{2} \\lambda \\sum_{j=1}^{J} w_{j}^{2}+\\text { constant } \\\\\n",
    "& \\approx \\sum_{j=1}^{J}\\left(\\sum_{i \\in I_{j}} h_{i}^{(k)}\\right) w_{j}+\\frac{1}{2}\\left(\\sum_{i \\in I_{j}} g_{i}^{(k)}+\\lambda\\right) w_{j}^{2}+\\gamma J^{(k)}+\\text { constant }\n",
    "\\end{aligned}\n",
    "$$"
   ]
  },
  {
   "cell_type": "markdown",
   "metadata": {},
   "source": [
    "\n",
    "## References\n",
    "\n",
    "* J.H. Friedman, Greedy function approximation a gradient boosting machine, 2001.\n",
    "    - First paper on gradient boosting\n",
    "* J.H. Friedman, Stochastic Gradient Boosting, 2002.\n",
    "    - Presents a stochastic gradient version of gradient boosting.\n",
    "* Elements of Statistical Learning. T. Hastie, R. Tibshirani and J.H. Friedman\n",
    "    -  Contains a chapter about gradient boosted boosting\n",
    "* J.H. Friedman T. Hastie R. Tibshirani, Additive logistic regression a statistical view of boosting, 2000.\n",
    "    - Uses second-order statistics for tree splitting, which is related to the expanded Taylor series.\n",
    "\n"
   ]
  }
 ],
 "metadata": {
  "kernelspec": {
   "display_name": "Python 3",
   "language": "python",
   "name": "python3"
  },
  "language_info": {
   "codemirror_mode": {
    "name": "ipython",
    "version": 3
   },
   "file_extension": ".py",
   "mimetype": "text/x-python",
   "name": "python",
   "nbconvert_exporter": "python",
   "pygments_lexer": "ipython3",
   "version": "3.6.13"
  },
  "latex_envs": {
   "LaTeX_envs_menu_present": true,
   "autoclose": false,
   "autocomplete": true,
   "bibliofile": "biblio.bib",
   "cite_by": "apalike",
   "current_citInitial": 1,
   "eqLabelWithNumbers": true,
   "eqNumInitial": 1,
   "hotkeys": {
    "equation": "Ctrl-E",
    "itemize": "Ctrl-I"
   },
   "labels_anchors": false,
   "latex_user_defs": false,
   "report_style_numbering": false,
   "user_envs_cfg": false
  },
  "nbTranslate": {
   "displayLangs": [
    "*"
   ],
   "hotkey": "alt-t",
   "langInMainMenu": true,
   "sourceLang": "en",
   "targetLang": "fr",
   "useGoogleTranslate": true
  },
  "toc": {
   "base_numbering": 1,
   "nav_menu": {},
   "number_sections": true,
   "sideBar": true,
   "skip_h1_title": false,
   "title_cell": "Table of Contents",
   "title_sidebar": "Contents",
   "toc_cell": false,
   "toc_position": {},
   "toc_section_display": true,
   "toc_window_display": false
  },
  "varInspector": {
   "cols": {
    "lenName": 16,
    "lenType": 16,
    "lenVar": 40
   },
   "kernels_config": {
    "python": {
     "delete_cmd_postfix": "",
     "delete_cmd_prefix": "del ",
     "library": "var_list.py",
     "varRefreshCmd": "print(var_dic_list())"
    },
    "r": {
     "delete_cmd_postfix": ") ",
     "delete_cmd_prefix": "rm(",
     "library": "var_list.r",
     "varRefreshCmd": "cat(var_dic_list()) "
    }
   },
   "types_to_exclude": [
    "module",
    "function",
    "builtin_function_or_method",
    "instance",
    "_Feature"
   ],
   "window_display": false
  }
 },
 "nbformat": 4,
 "nbformat_minor": 2
}
