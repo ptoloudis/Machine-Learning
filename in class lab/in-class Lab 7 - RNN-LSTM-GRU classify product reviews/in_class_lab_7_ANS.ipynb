{
  "cells": [
    {
      "cell_type": "markdown",
      "source": [],
      "metadata": {
        "id": "lJj7OiGGu9hf"
      }
    },
    {
      "cell_type": "markdown",
      "metadata": {
        "id": "WjekFS5Ug9iW"
      },
      "source": [
        "# Exercise\n",
        "Apply LSTM and GRU to the product review problem and change hyper-parameters"
      ]
    },
    {
      "cell_type": "markdown",
      "source": [
        "1. The dataset for the lab6(imdb_train, imdb_test) in class lab not load good for my in colab.\n",
        "Load the (x,6) the shape of the dataset.\n",
        "I use the keras dataset for the imdb."
      ],
      "metadata": {
        "id": "OTTD3Xt0udnV"
      }
    },
    {
      "cell_type": "markdown",
      "metadata": {
        "id": "OdQaSDR4g9ii"
      },
      "source": [
        "2. 1. Define the LSTM model."
      ]
    },
    {
      "cell_type": "code",
      "execution_count": 1,
      "metadata": {
        "colab": {
          "base_uri": "https://localhost:8080/"
        },
        "id": "BYNVKmA6g9ij",
        "outputId": "bd2f48d3-53e2-4b36-ca8d-0c8b335ce28e"
      },
      "outputs": [
        {
          "output_type": "stream",
          "name": "stdout",
          "text": [
            "Downloading data from https://storage.googleapis.com/tensorflow/tf-keras-datasets/imdb.npz\n",
            "17464789/17464789 [==============================] - 0s 0us/step\n"
          ]
        }
      ],
      "source": [
        "from keras.models import Sequential\n",
        "from keras.layers import LSTM, Dense, Embedding\n",
        "from keras.preprocessing.text import Tokenizer\n",
        "from keras.utils import pad_sequences\n",
        "from keras.datasets import imdb\n",
        "\n",
        "top_words = 5000\n",
        "(X_train, y_train), (X_test, y_test) = imdb.load_data(num_words=top_words)\n",
        "\n",
        "max_review_length = 500\n",
        "X_train = pad_sequences(X_train, maxlen=max_review_length)\n",
        "X_test = pad_sequences(X_test, maxlen=max_review_length)\n",
        "\n",
        "\n",
        "# Define the embedding dimension\n",
        "embedding_dim = 64\n",
        "\n",
        "# Define the model architecture\n",
        "model = Sequential()\n",
        "model.add(Embedding(5000, 32, input_length=max_review_length))\n",
        "model.add(LSTM(units=64, dropout=0.2, recurrent_dropout=0.2))\n",
        "model.add(Dense(units=1, activation='sigmoid'))\n",
        "\n",
        "# Compile the model\n",
        "model.compile(loss='binary_crossentropy', optimizer='adam', metrics=['accuracy'])"
      ]
    },
    {
      "cell_type": "markdown",
      "metadata": {
        "id": "X1S6VZSEg9ij"
      },
      "source": [
        "2. 2. Train the model."
      ]
    },
    {
      "cell_type": "code",
      "execution_count": 3,
      "metadata": {
        "colab": {
          "base_uri": "https://localhost:8080/"
        },
        "id": "KRjBwiJqg9ik",
        "outputId": "c3bfab0b-a04e-484c-c54a-aef89e1df6c8"
      },
      "outputs": [
        {
          "output_type": "stream",
          "name": "stdout",
          "text": [
            "Epoch 1/10\n",
            "782/782 [==============================] - 762s 968ms/step - loss: 0.4551 - accuracy: 0.7868 - val_loss: 0.3490 - val_accuracy: 0.8576\n",
            "Epoch 2/10\n",
            "782/782 [==============================] - 745s 953ms/step - loss: 0.3445 - accuracy: 0.8540 - val_loss: 0.3336 - val_accuracy: 0.8596\n",
            "Epoch 3/10\n",
            "782/782 [==============================] - 711s 909ms/step - loss: 0.2795 - accuracy: 0.8917 - val_loss: 0.3158 - val_accuracy: 0.8680\n",
            "Epoch 4/10\n",
            "782/782 [==============================] - 706s 903ms/step - loss: 0.2460 - accuracy: 0.9054 - val_loss: 0.3300 - val_accuracy: 0.8652\n",
            "Epoch 5/10\n",
            "782/782 [==============================] - 724s 926ms/step - loss: 0.2256 - accuracy: 0.9145 - val_loss: 0.3288 - val_accuracy: 0.8700\n",
            "Epoch 6/10\n",
            "782/782 [==============================] - 725s 927ms/step - loss: 0.1976 - accuracy: 0.9260 - val_loss: 0.4577 - val_accuracy: 0.8395\n",
            "Epoch 7/10\n",
            "782/782 [==============================] - 719s 920ms/step - loss: 0.1693 - accuracy: 0.9367 - val_loss: 0.3671 - val_accuracy: 0.8468\n",
            "Epoch 8/10\n",
            "782/782 [==============================] - 720s 922ms/step - loss: 0.1688 - accuracy: 0.9365 - val_loss: 0.4381 - val_accuracy: 0.8562\n",
            "Epoch 9/10\n",
            "782/782 [==============================] - 722s 924ms/step - loss: 0.1452 - accuracy: 0.9453 - val_loss: 0.4584 - val_accuracy: 0.8624\n",
            "Epoch 10/10\n",
            "782/782 [==============================] - 716s 916ms/step - loss: 0.1587 - accuracy: 0.9385 - val_loss: 0.4635 - val_accuracy: 0.8634\n"
          ]
        },
        {
          "output_type": "execute_result",
          "data": {
            "text/plain": [
              "<keras.callbacks.History at 0x7f96709ced70>"
            ]
          },
          "metadata": {},
          "execution_count": 3
        }
      ],
      "source": [
        "# Train the model\n",
        "model.fit(X_train, y_train, validation_data=(X_test, y_test), epochs=10, batch_size=32)"
      ]
    },
    {
      "cell_type": "markdown",
      "metadata": {
        "id": "B2ZtYLs3g9ik"
      },
      "source": [
        "2. 3. Make the predict. "
      ]
    },
    {
      "cell_type": "code",
      "source": [
        "# Final evaluation of the model\n",
        "scores = model.evaluate(X_test, y_test, verbose=0)\n",
        "print(\"Accuracy: %.2f%%\" % (scores[1]*100))"
      ],
      "metadata": {
        "colab": {
          "base_uri": "https://localhost:8080/"
        },
        "id": "3iM5QDpeOU19",
        "outputId": "97f9cf16-e498-42c8-c15f-931b4998a397"
      },
      "execution_count": 4,
      "outputs": [
        {
          "output_type": "stream",
          "name": "stdout",
          "text": [
            "Accuracy: 86.34%\n"
          ]
        }
      ]
    },
    {
      "cell_type": "markdown",
      "source": [
        "3. 1. Define the GRU."
      ],
      "metadata": {
        "id": "F_AyCmWuhbrn"
      }
    },
    {
      "cell_type": "code",
      "source": [
        "from keras.layers import GRU\n",
        "\n",
        "# Define the model architecture\n",
        "model = Sequential()\n",
        "model.add(Embedding(5000, 32, input_length=max_review_length))\n",
        "model.add(GRU(units=64, dropout=0.2, recurrent_dropout=0.2))\n",
        "model.add(Dense(units=1, activation='sigmoid'))\n",
        "\n",
        "# Compile the model\n",
        "model.compile(loss='binary_crossentropy', optimizer='adam', metrics=['accuracy'])"
      ],
      "metadata": {
        "id": "jhPNpXSghilJ"
      },
      "execution_count": 6,
      "outputs": []
    },
    {
      "cell_type": "markdown",
      "source": [
        "3. 2. Train the model"
      ],
      "metadata": {
        "id": "V04cufI-huL4"
      }
    },
    {
      "cell_type": "code",
      "source": [
        "# Train the model\n",
        "model.fit(X_train, y_train, validation_data=(X_test, y_test), epochs=10, batch_size=32)"
      ],
      "metadata": {
        "colab": {
          "base_uri": "https://localhost:8080/"
        },
        "id": "SvT0E_Muhxnm",
        "outputId": "1f715e55-6fee-4e2a-fbfa-6ce338c957c6"
      },
      "execution_count": 7,
      "outputs": [
        {
          "output_type": "stream",
          "name": "stdout",
          "text": [
            "Epoch 1/10\n",
            "782/782 [==============================] - 685s 871ms/step - loss: 0.4446 - accuracy: 0.7835 - val_loss: 0.3121 - val_accuracy: 0.8704\n",
            "Epoch 2/10\n",
            "782/782 [==============================] - 668s 855ms/step - loss: 0.2885 - accuracy: 0.8819 - val_loss: 0.3219 - val_accuracy: 0.8696\n",
            "Epoch 3/10\n",
            "782/782 [==============================] - 664s 849ms/step - loss: 0.2359 - accuracy: 0.9069 - val_loss: 0.2999 - val_accuracy: 0.8719\n",
            "Epoch 4/10\n",
            "782/782 [==============================] - 665s 850ms/step - loss: 0.1991 - accuracy: 0.9233 - val_loss: 0.3190 - val_accuracy: 0.8785\n",
            "Epoch 5/10\n",
            "782/782 [==============================] - 658s 842ms/step - loss: 0.1676 - accuracy: 0.9362 - val_loss: 0.3154 - val_accuracy: 0.8855\n",
            "Epoch 6/10\n",
            "782/782 [==============================] - 663s 848ms/step - loss: 0.1431 - accuracy: 0.9472 - val_loss: 0.3330 - val_accuracy: 0.8782\n",
            "Epoch 7/10\n",
            "782/782 [==============================] - 664s 850ms/step - loss: 0.1189 - accuracy: 0.9564 - val_loss: 0.3584 - val_accuracy: 0.8798\n",
            "Epoch 8/10\n",
            "782/782 [==============================] - 662s 846ms/step - loss: 0.1023 - accuracy: 0.9628 - val_loss: 0.3661 - val_accuracy: 0.8808\n",
            "Epoch 9/10\n",
            "782/782 [==============================] - 658s 842ms/step - loss: 0.0844 - accuracy: 0.9717 - val_loss: 0.4634 - val_accuracy: 0.8736\n",
            "Epoch 10/10\n",
            "782/782 [==============================] - 660s 843ms/step - loss: 0.0725 - accuracy: 0.9742 - val_loss: 0.4493 - val_accuracy: 0.8754\n"
          ]
        },
        {
          "output_type": "execute_result",
          "data": {
            "text/plain": [
              "<keras.callbacks.History at 0x7f966b01a8f0>"
            ]
          },
          "metadata": {},
          "execution_count": 7
        }
      ]
    },
    {
      "cell_type": "markdown",
      "source": [
        "3. 3. Make the prediction"
      ],
      "metadata": {
        "id": "gruUjBithz-P"
      }
    },
    {
      "cell_type": "code",
      "source": [
        "# Final evaluation of the model\n",
        "scores = model.evaluate(X_test, y_test, verbose=0)\n",
        "print(\"Accuracy: %.2f%%\" % (scores[1]*100))"
      ],
      "metadata": {
        "colab": {
          "base_uri": "https://localhost:8080/"
        },
        "outputId": "51d35feb-8162-4398-8e8e-9108799851ab",
        "id": "MVecbvdKsNIM"
      },
      "execution_count": 8,
      "outputs": [
        {
          "output_type": "stream",
          "name": "stdout",
          "text": [
            "Accuracy: 87.54%\n"
          ]
        }
      ]
    }
  ],
  "metadata": {
    "kernelspec": {
      "display_name": "ml",
      "language": "python",
      "name": "python3"
    },
    "language_info": {
      "codemirror_mode": {
        "name": "ipython",
        "version": 3
      },
      "file_extension": ".py",
      "mimetype": "text/x-python",
      "name": "python",
      "nbconvert_exporter": "python",
      "pygments_lexer": "ipython3",
      "version": "3.9.16"
    },
    "orig_nbformat": 4,
    "colab": {
      "provenance": []
    }
  },
  "nbformat": 4,
  "nbformat_minor": 0
}