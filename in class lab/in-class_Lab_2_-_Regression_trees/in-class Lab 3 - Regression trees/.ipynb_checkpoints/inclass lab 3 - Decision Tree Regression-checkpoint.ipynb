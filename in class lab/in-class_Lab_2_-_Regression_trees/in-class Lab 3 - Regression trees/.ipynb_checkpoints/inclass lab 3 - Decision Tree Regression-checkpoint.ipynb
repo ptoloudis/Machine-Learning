{
 "cells": [
  {
   "cell_type": "markdown",
   "metadata": {},
   "source": [
    "# Decision Tree Regressor"
   ]
  },
  {
   "cell_type": "markdown",
   "metadata": {},
   "source": [
    "Tree-based models perform recursive binary splits to optimize some metric, like information gain or Gini impurity. If you have continuous variables, then at each step, the algorithm will look for the variable/cutoff combination that is 'best' according to the metric used. In case of a discrete outcome variable, this relates to the number of correctly classified outcomes. In case of a continuous outcome, then this could for example be the split that reduces the residual variance the most.\n",
    "\n",
    "If you have a mixture of discrete and continuous variables, then the algorithm works no different:\n",
    "- Either split a continuous variable at some optimal threshold\n",
    "- Or split a categorical variable based on the category that results in the largest improvement\n",
    "If you really want to understand how the tree 'comes to its decision' at each step, you should study the metric used for splitting.\n",
    "Edit: An example procedure using MSE\n",
    "1. Define a loss function $\\sum_{i=1}^k \\sum_{j=1}^{n_i}\\left(\\hat{y}_j-y_j\\right)^2$, where $k$ is the current number of nodes (start at $k=1$ ) and $n_i$ is the number of observations in node $i$;\n",
    "2. Define some regression model. This could be just an intercept, like in André's example: $y=\\beta_0+\\epsilon$, or it could include explanatory variables that you don't want to split, but rather regress on, at the terminal nodes;\n",
    "3. Use an optimizer (e.g. the default in R's optim ) to minimize the loss function in (1) by considering splits among all variables. To do this, you need to obtain all $\\hat{y}$ values by running your regression model from (2) on each terminal node's observations;\n",
    "4. Repeat (3) until some criterium has been reached (e.g. the number of observations in each node is less than can be further split, given the number of parameters in (2));\n",
    "5. You now have a full tree that you can prune.\n",
    "Your model in (2) can be all kinds of things. For example, R's party package can do simple linear regression, survival analysis, multivariate regression and more. If you want more specific details, try reading the vignette. Section 3.2 explains splitting criteria.\n"
   ]
  },
  {
   "cell_type": "markdown",
   "metadata": {},
   "source": [
    "Recursive binary splits is a process used in decision tree regressors to create a tree-based model that can be used for making predictions. The process involves splitting the dataset into subsets based on a chosen feature and a chosen split point, and then recursively repeating the process on each resulting subset until a stopping criterion is met.\n",
    "\n",
    "Here is a step-by-step explanation of how recursive binary splits work in a decision tree regressor:\n",
    "\n",
    "1. Start with the entire dataset as the root node of the tree.\n",
    "2. Choose a feature and a split point that will best separate the data into two subsets.\n",
    "3. Create two child nodes that represent the two subsets of the data resulting from the split.\n",
    "4. Repeat steps 2-3 on each child node until a stopping criterion is met, such as a maximum depth of the tree or a minimum number of samples required to make a split.\n",
    "5. At each leaf node (terminal node), assign a predicted value based on the average or median of the target variable for the samples in that node.\n",
    "\n",
    "The recursive binary splits process aims to find the feature and split point that best separates the data into groups with similar target variable values, while also minimizing the variance within each group. This process can be visualized as a tree structure, where each internal node represents a split based on a feature, and each leaf node represents a predicted value.\n",
    "\n",
    "Overall, the recursive binary splits process is a key component of decision tree regressors and is used to build accurate and interpretable models for making predictions on new data."
   ]
  },
  {
   "cell_type": "markdown",
   "metadata": {},
   "source": [
    "![](https://cdn.mathpix.com/snip/images/rfLQdtFqLACMNVkN9zLZnxL7aL9uLsFdEwa8-OwmZL4.original.fullsize.png)"
   ]
  },
  {
   "cell_type": "markdown",
   "metadata": {},
   "source": [
    "![](https://cdn.mathpix.com/snip/images/pmZ25Thzlm_CTjas2-iTOjV9xFyaHYxmn7XwB--NTyE.original.fullsize.png)"
   ]
  },
  {
   "cell_type": "markdown",
   "metadata": {},
   "source": [
    "![](https://cdn.mathpix.com/snip/images/GLsziQHXrZsrcCUDaxWPgSg4fwX4CjUj8fU6Kn9GQ60.original.fullsize.png)"
   ]
  },
  {
   "cell_type": "markdown",
   "metadata": {},
   "source": [
    "![](https://cdn.mathpix.com/snip/images/oJcNID82DcGCT5aDlNrQ56Aq6kJlkXuVwmf29BAsgp8.original.fullsize.png)"
   ]
  },
  {
   "cell_type": "markdown",
   "metadata": {},
   "source": [
    "![](https://cdn.mathpix.com/snip/images/gmZ0O1QZmSEGDG_kNd_EWCFfHhigBSHBvvl4SWvTwAI.original.fullsize.png)"
   ]
  },
  {
   "cell_type": "markdown",
   "metadata": {},
   "source": [
    "# An algorithm\n",
    "\n",
    "Find boxes $R_1, \\ldots, R_J$ that minimize the RSS\n",
    "$$\n",
    "R S S=\\sum_{j=1}^J \\sum_{i \\in R_j}\\left(y_i-\\hat{y}_{R_j}\\right)^2\n",
    "$$\n",
    "where $\\hat{y}_{R_j}$ is the mean response value of all training observations in the $R_j$ region\n",
    "This computationally very expensive!\n",
    "\n",
    "Solution: Top down approach, greedy approach recursive binary splitting"
   ]
  },
  {
   "cell_type": "markdown",
   "metadata": {},
   "source": [
    "## Recursive Binary Splitting\n",
    "1. Consider all predictor $X_p$ and all the all possible values of the cutpoints $s$ for each of the predictors. Choose the predictor and cutpoint s.t. it minimizes the RSS\n",
    "$$\n",
    "\\sum_{i: x_i \\in R_1(j, s)}\\left(y_i-\\hat{y}_{R_1}\\right)^2+\\sum_{i: x_i \\in R_2(j, s)}\\left(y_i-\\hat{y}_{R_2}\\right)^2\n",
    "$$\n",
    "This can be done quickly, assuming number of predictors is not very large\n",
    "2. Repeat \\#1 but only consider the sub-regions\n",
    "3. Stop: node contains only one class or node contains less than $n$ data points or max depth is reached"
   ]
  },
  {
   "cell_type": "markdown",
   "metadata": {},
   "source": [
    "![](https://cdn.mathpix.com/snip/images/Lh6GLE5bpds4yF1D5Kx-B6yxLhNNoakMWTr03qeZb4I.original.fullsize.png)"
   ]
  },
  {
   "cell_type": "markdown",
   "metadata": {},
   "source": [
    "## Pruning\n",
    "Fewer splits or fewer regions lower variance better interpretation at cost of little more bias\n",
    "Ideas?\n",
    "\n",
    "Stop splitting when RSS improvement is lower than a threshold\n",
    "\n",
    "Smaller trees but not effective (short sighted)\n",
    "\n"
   ]
  },
  {
   "cell_type": "code",
   "execution_count": 42,
   "metadata": {},
   "outputs": [],
   "source": [
    "from sklearn.datasets import make_regression\n",
    "import numpy as np\n",
    "import matplotlib.pyplot as plt\n",
    "\n",
    "# Create a random dataset\n",
    "rng = np.random.RandomState(1)\n",
    "X = np.sort(5 * rng.rand(80, 1), axis=0)\n",
    "y = np.sin(X).ravel()\n",
    "y[::5] += 3 * (0.5 - rng.rand(16))"
   ]
  },
  {
   "cell_type": "code",
   "execution_count": 43,
   "metadata": {},
   "outputs": [
    {
     "data": {
      "text/plain": [
       "<matplotlib.collections.PathCollection at 0x1f80038e5c0>"
      ]
     },
     "execution_count": 43,
     "metadata": {},
     "output_type": "execute_result"
    },
    {
     "data": {
      "image/png": "[encoded data removed]",
      "text/plain": [
       "<Figure size 432x288 with 1 Axes>"
      ]
     },
     "metadata": {
      "needs_background": "light"
     },
     "output_type": "display_data"
    }
   ],
   "source": [
    "plt.scatter(X,y)"
   ]
  },
  {
   "cell_type": "code",
   "execution_count": 44,
   "metadata": {},
   "outputs": [
    {
     "name": "stdout",
     "output_type": "stream",
     "text": [
      "(80, 1) (80,)\n"
     ]
    }
   ],
   "source": [
    "print (X.shape,y.shape)"
   ]
  },
  {
   "cell_type": "code",
   "execution_count": 45,
   "metadata": {},
   "outputs": [
    {
     "data": {
      "text/plain": [
       "DecisionTreeRegressor(max_depth=5)"
      ]
     },
     "execution_count": 45,
     "metadata": {},
     "output_type": "execute_result"
    }
   ],
   "source": [
    "# Fit regression model\n",
    "regr_1 = DecisionTreeRegressor(max_depth=2)\n",
    "regr_2 = DecisionTreeRegressor(max_depth=5)\n",
    "regr_1.fit(X, y)\n",
    "regr_2.fit(X, y)"
   ]
  },
  {
   "cell_type": "code",
   "execution_count": 46,
   "metadata": {},
   "outputs": [
    {
     "data": {
      "image/png": "[encoded data removed]",
      "text/plain": [
       "<Figure size 432x288 with 1 Axes>"
      ]
     },
     "metadata": {
      "needs_background": "light"
     },
     "output_type": "display_data"
    }
   ],
   "source": [
    "# Predict\n",
    "X_test = np.arange(0.0, 5.0, 0.01)[:, np.newaxis]\n",
    "y_1 = regr_1.predict(X_test)\n",
    "y_2 = regr_2.predict(X_test)\n",
    "\n",
    "# Plot the results\n",
    "plt.figure()\n",
    "plt.scatter(X, y, s=20, edgecolor=\"black\", c=\"darkorange\", label=\"data\")\n",
    "plt.plot(X_test, y_1, color=\"cornflowerblue\", label=\"max_depth=2\", linewidth=2)\n",
    "plt.plot(X_test, y_2, color=\"yellowgreen\", label=\"max_depth=5\", linewidth=2)\n",
    "plt.xlabel(\"data\")\n",
    "plt.ylabel(\"target\")\n",
    "plt.title(\"Decision Tree Regression\")\n",
    "plt.legend()\n",
    "plt.show()"
   ]
  },
  {
   "cell_type": "markdown",
   "metadata": {},
   "source": [
    "\n",
    "\n",
    "In this notebook we will implement **Decision Tree for regression**. The logic of tree building will remain same with slight modification in implementation. We will try a slight different approach to explore different ways in which we can implement the same logic. Note that previous implementation structure can also be used by changing the splitting criterion and prediction function. We calculate **variance** here as splitting criterion."
   ]
  },
  {
   "cell_type": "markdown",
   "metadata": {},
   "source": [
    "### 1. Decision Tree initialization"
   ]
  },
  {
   "cell_type": "markdown",
   "metadata": {},
   "source": [
    "This time we will not use a fit method as used in previous classification notebook. Hence, we will do most of the heavy lifting during initialization step only. Here are the things we initialize in this step:\n",
    "1. `x` : Feature values of the data(ndarray)\n",
    "2. `y` : Target Value(a vector)\n",
    "3. `idx` : Refers to the data index's related to given node\n",
    "4. `min_leaf`: Minimum data points required on leaf node. Another way to **avoid over fitting** instead of using `max_depth`\n",
    "5. `n`: Number of data points corresponding to the node\n",
    "6. `c`: Number of features\n",
    "7. `val`: It is the mean of the target value associated to the node\n",
    "8. `score`: Variance score for node. \n",
    "9. `find_varsplit` : It finds the best split for the tree and starts splitting if possible."
   ]
  },
  {
   "cell_type": "code",
   "execution_count": 1,
   "metadata": {},
   "outputs": [],
   "source": [
    "import math\n",
    "import numpy as np"
   ]
  },
  {
   "cell_type": "code",
   "execution_count": 2,
   "metadata": {},
   "outputs": [],
   "source": [
    "class DecisionTreeReg():\n",
    "    def __init__(self, x, y, idxs, min_leaf=5):\n",
    "        self.x = x\n",
    "        self.y = y\n",
    "        self.idxs = idxs\n",
    "        self.min_leaf = min_leaf\n",
    "        self.n = len(idxs)\n",
    "        self.c = x.shape[1]\n",
    "        self.val = np.mean(y[idxs])\n",
    "        self.score = float('inf')\n",
    "        self.find_varsplit()"
   ]
  },
  {
   "cell_type": "markdown",
   "metadata": {},
   "source": [
    "### 2. Splitting criterion\n",
    "For **regression** we use variance(Mean Square Error) as the splitting criterion which determines split.\n",
    "\n",
    "Reduction in variance is an algorithm used for continuous target variables (regression problems). This algorithm uses the standard formula of variance to choose the best split. **The split with lower variance is selected as the criteria to split the population:**\n",
    "\n",
    "$$ var = \\sum\\frac{(X-(\\bar X))^2}{n}$$\n",
    "\n",
    "which is also equal to:\n",
    "\n",
    "$$ var = {\\frac{\\sum{x^2}}{n} - (\\bar x)^2}$$\n",
    "\n",
    "\n",
    "Steps to calculate Variance:\n",
    "\n",
    "1. Calculate variance for each node.\n",
    "2. Calculate variance for each split as weighted average of each node variance.\n",
    "3. Compare with parent node and find the best split possible with lowest variance.\n",
    "\n",
    "The function given below calculate the variance using second formula. `cnt` is n, `s1` is $\\sum(x)$ and `s2` is $\\sum(x^2)$"
   ]
  },
  {
   "cell_type": "code",
   "execution_count": 3,
   "metadata": {},
   "outputs": [],
   "source": [
    "def std_agg(cnt, s1, s2): \n",
    "    return (s2/cnt) - (s1/cnt)**2"
   ]
  },
  {
   "cell_type": "markdown",
   "metadata": {},
   "source": [
    "### 3. Finding best split point for a column/feature"
   ]
  },
  {
   "cell_type": "markdown",
   "metadata": {},
   "source": [
    "The objective here is to find the best split:\n",
    "1. Store the x and y values for given column and given node by selecting column and row indexes.\n",
    "2. Sort the x value based on which we will split the data. Use the same order for y as well.\n",
    "3. We start by assigning all the data points to the right side of the child node and store the count, sum of x and sum of x^2 which are required for variance calculation.\n",
    "4. We assign no data point to left side and hence we get 0 as count, sum and sum of x^2.\n",
    "5. Now we run a for loop ranging from 0 to number of items on node - min_leaf-1. This is to ensure that we have min_leaf data points after split.\n",
    "6. As we loop through in the given range, we start assigning one data point at a time to left side by removing it from right side split. So, we update the count, sum and sum of x^2 accordingly. We also ensure that min_leaf data points are initialized first to left side before we compare the splits.\n",
    "7. Now we calculate the weighted sum of the variance of the new split and compare it with the parent node to find the best split point.\n",
    "8. Once we find the best split, we update the column index `var_idx`, `score` and `split` referring to best split value."
   ]
  },
  {
   "cell_type": "code",
   "execution_count": 4,
   "metadata": {},
   "outputs": [],
   "source": [
    "def find_better_split(self, var_idx):\n",
    "    x = self.x.values[self.idxs,var_idx]\n",
    "    y = self.y[self.idxs]\n",
    "    sort_idx = np.argsort(x)\n",
    "    sort_y = y[sort_idx]\n",
    "    sort_x = x[sort_idx]\n",
    "    rhs_cnt = self.n \n",
    "    rhs_sum = sort_y.sum()\n",
    "    rhs_sum2 = (sort_y**2).sum()\n",
    "    lhs_cnt = 0\n",
    "    lhs_sum = 0.\n",
    "    lhs_sum2 = 0.\n",
    "\n",
    "    for i in range(0,self.n-self.min_leaf-1):\n",
    "        xi = sort_x[i]\n",
    "        yi = sort_y[i]\n",
    "        lhs_cnt += 1\n",
    "        rhs_cnt -= 1\n",
    "        lhs_sum += yi\n",
    "        rhs_sum -= yi\n",
    "        lhs_sum2 += yi**2\n",
    "        rhs_sum2 -= yi**2\n",
    "        if i<self.min_leaf or xi==sort_x[i+1]:\n",
    "            continue\n",
    "\n",
    "        lhs_std = std_agg(lhs_cnt, lhs_sum, lhs_sum2)\n",
    "        rhs_std = std_agg(rhs_cnt, rhs_sum, rhs_sum2)\n",
    "        curr_score = lhs_std*lhs_cnt/len(y) + rhs_std*rhs_cnt/len(y)\n",
    "        if curr_score<self.score: \n",
    "            self.var_idx = var_idx\n",
    "            self.score = curr_score\n",
    "            self.split = xi"
   ]
  },
  {
   "cell_type": "markdown",
   "metadata": {},
   "source": [
    "### 4. Finding best split point and column\n",
    "We will now write a wrapper function, which check all the columns in the data to find the best column and best split as shown below. Once we find the best split column and split value, we create two child nodes as `left` and `right` and assign corresponding data points to each. Note `self.split_col` is a class property which gets the column value for best split column. For more understanding on `class property` refer to previous [notebook](https://github.com/jyotipmahes/Implementation-of-ML-algos-in-Python/blob/master/Decision%20Tree%20Classifier.ipynb)"
   ]
  },
  {
   "cell_type": "code",
   "execution_count": 5,
   "metadata": {},
   "outputs": [],
   "source": [
    "@property\n",
    "def split_col(self): return self.x.values[self.idxs,self.var_idx]\n",
    "    \n",
    "def find_varsplit(self):\n",
    "    for i in range(self.c): \n",
    "        self.find_better_split(i)\n",
    "        \n",
    "    if self.score == float('inf'): return\n",
    "    x = self.split_col\n",
    "    lhs = np.nonzero(x<=self.split)[0]\n",
    "    rhs = np.nonzero(x>self.split)[0]\n",
    "    self.lhs = DecisionTree(self.x, self.y, self.idxs[lhs])\n",
    "    self.rhs = DecisionTree(self.x, self.y, self.idxs[rhs])"
   ]
  },
  {
   "cell_type": "markdown",
   "metadata": {},
   "source": [
    "### Few more property which can come handy\n",
    "**split_name**: It gets the name of column on which given node is split<br>\n",
    "**is_leaf**: Checks if given node is leaf or not<br>\n",
    "**__repr__**: Assigning string representation to the object. Helpful while printing and displaying"
   ]
  },
  {
   "cell_type": "code",
   "execution_count": 6,
   "metadata": {},
   "outputs": [],
   "source": [
    "@property\n",
    "def split_name(self): return self.x.columns[self.var_idx]\n",
    "\n",
    "@property\n",
    "def is_leaf(self): return self.score == float('inf')\n",
    "\n",
    "def __repr__(self):\n",
    "    s = f'n: {self.n}; val:{self.val}'\n",
    "    if not self.is_leaf:\n",
    "        s += f'; score:{self.score}; split:{self.split}; var:{self.split_name}'\n",
    "    return s"
   ]
  },
  {
   "cell_type": "markdown",
   "metadata": {},
   "source": [
    "### 5. Making prediction on test data:\n",
    "`predict_row` function transverse the tree by comparing the test data to splitting criterion till it reaches leaf. At leaf, it return the `self.val` which the mean of the training data points corresponding to the leaf.\n",
    "\n",
    "`predict` runs above function on all the test points and returns an array."
   ]
  },
  {
   "cell_type": "code",
   "execution_count": 7,
   "metadata": {},
   "outputs": [],
   "source": [
    "def predict_row(self, xi):\n",
    "    if self.is_leaf: return self.val\n",
    "    t = self.lhs if xi[self.var_idx]<=self.split else self.rhs\n",
    "    return t.predict_row(xi) \n",
    "\n",
    "def predict(self, x):\n",
    "    return np.array([self.predict_row(xi) for xi in x])"
   ]
  },
  {
   "cell_type": "markdown",
   "metadata": {},
   "source": [
    "## Putting Everything together"
   ]
  },
  {
   "cell_type": "code",
   "execution_count": 8,
   "metadata": {},
   "outputs": [],
   "source": [
    "def std_agg(cnt, s1, s2): \n",
    "    return (s2/cnt) - (s1/cnt)**2\n",
    "\n",
    "class DecisionTreeReg():\n",
    "    \n",
    "    def __init__(self, x, y, idxs, min_leaf=5):\n",
    "        self.x = x\n",
    "        self.y = y\n",
    "        self.idxs = idxs\n",
    "        self.min_leaf = min_leaf\n",
    "        self.n = len(idxs)\n",
    "        self.c = x.shape[1]\n",
    "        self.val = np.mean(y[idxs])\n",
    "        self.score = float('inf')\n",
    "        self.find_varsplit()\n",
    "    \n",
    "    def find_better_split(self, var_idx):\n",
    "        x = self.x.values[self.idxs,var_idx]\n",
    "        y = self.y[self.idxs]\n",
    "        sort_idx = np.argsort(x)\n",
    "        sort_y = y[sort_idx]\n",
    "        sort_x = x[sort_idx]\n",
    "        rhs_cnt = self.n \n",
    "        rhs_sum = sort_y.sum()\n",
    "        rhs_sum2 = (sort_y**2).sum()\n",
    "        lhs_cnt = 0\n",
    "        lhs_sum = 0.\n",
    "        lhs_sum2 = 0.\n",
    "\n",
    "        for i in range(0,self.n-self.min_leaf-1):\n",
    "            xi = sort_x[i]\n",
    "            yi = sort_y[i]\n",
    "            lhs_cnt += 1\n",
    "            rhs_cnt -= 1\n",
    "            lhs_sum += yi\n",
    "            rhs_sum -= yi\n",
    "            lhs_sum2 += yi**2\n",
    "            rhs_sum2 -= yi**2\n",
    "            if i<self.min_leaf or xi==sort_x[i+1]:\n",
    "                continue\n",
    "\n",
    "            lhs_std = std_agg(lhs_cnt, lhs_sum, lhs_sum2)\n",
    "            rhs_std = std_agg(rhs_cnt, rhs_sum, rhs_sum2)\n",
    "            curr_score = lhs_std*lhs_cnt/self.n + rhs_std*rhs_cnt/self.n\n",
    "            if curr_score<self.score: \n",
    "                self.var_idx = var_idx\n",
    "                self.score = curr_score\n",
    "                self.split = xi  \n",
    "    \n",
    "    @property\n",
    "    def split_col(self): return self.x.values[self.idxs,self.var_idx]\n",
    "\n",
    "    def find_varsplit(self):\n",
    "        for i in range(self.c): \n",
    "            self.find_better_split(i)\n",
    "\n",
    "        if self.score == float('inf'): return\n",
    "        x = self.split_col\n",
    "        lhs = np.nonzero(x<=self.split)[0]\n",
    "        rhs = np.nonzero(x>self.split)[0]\n",
    "        self.lhs = DecisionTreeReg(self.x, self.y, self.idxs[lhs])\n",
    "        self.rhs = DecisionTreeReg(self.x, self.y, self.idxs[rhs])\n",
    "\n",
    "        \n",
    "    @property\n",
    "    def split_name(self): return self.x.columns[self.var_idx]\n",
    "\n",
    "    @property\n",
    "    def is_leaf(self): return self.score == float('inf')\n",
    "\n",
    "    def __repr__(self):\n",
    "        s = f'n: {self.n}; val:{self.val}'\n",
    "        if not self.is_leaf:\n",
    "            s += f'; score:{self.score}; split:{self.split}; var:{self.split_name}'\n",
    "        return s\n",
    "\n",
    "    def predict_row(self, xi):\n",
    "        if self.is_leaf: return self.val\n",
    "        t = self.lhs if xi[self.var_idx]<=self.split else self.rhs\n",
    "        return t.predict_row(xi) \n",
    "\n",
    "    def predict(self, x):\n",
    "        return np.array([self.predict_row(xi) for xi in x])"
   ]
  },
  {
   "cell_type": "markdown",
   "metadata": {},
   "source": [
    "## Checking Implementation"
   ]
  },
  {
   "cell_type": "code",
   "execution_count": 9,
   "metadata": {},
   "outputs": [],
   "source": [
    "from sklearn.datasets import load_boston\n",
    "import pandas as pd\n",
    "bos = load_boston()\n",
    "x = bos.data\n",
    "y = bos.target\n",
    "x_df = pd.DataFrame(x, columns=bos.feature_names)"
   ]
  },
  {
   "cell_type": "code",
   "execution_count": 10,
   "metadata": {},
   "outputs": [],
   "source": [
    "reg = DecisionTreeReg(x_df, y, np.array(range(0, len(y))))\n"
   ]
  },
  {
   "cell_type": "code",
   "execution_count": 11,
   "metadata": {},
   "outputs": [],
   "source": [
    "pred = reg.predict(np.array(x_df))"
   ]
  },
  {
   "cell_type": "code",
   "execution_count": 12,
   "metadata": {},
   "outputs": [
    {
     "data": {
      "text/plain": [
       "7.9034830839450425"
      ]
     },
     "execution_count": 12,
     "metadata": {},
     "output_type": "execute_result"
    }
   ],
   "source": [
    "sum((y-pred)**2)/(len(y))"
   ]
  },
  {
   "cell_type": "markdown",
   "metadata": {},
   "source": [
    "#### Using sklearn"
   ]
  },
  {
   "cell_type": "code",
   "execution_count": 13,
   "metadata": {},
   "outputs": [],
   "source": [
    "from sklearn.tree import DecisionTreeRegressor\n",
    "skreg = DecisionTreeRegressor(min_samples_leaf=6)"
   ]
  },
  {
   "cell_type": "code",
   "execution_count": 14,
   "metadata": {},
   "outputs": [
    {
     "data": {
      "text/plain": [
       "DecisionTreeRegressor(min_samples_leaf=6)"
      ]
     },
     "execution_count": 14,
     "metadata": {},
     "output_type": "execute_result"
    }
   ],
   "source": [
    "skreg.fit(x,y)"
   ]
  },
  {
   "cell_type": "code",
   "execution_count": 15,
   "metadata": {},
   "outputs": [],
   "source": [
    "pred = skreg.predict(x)"
   ]
  },
  {
   "cell_type": "code",
   "execution_count": 16,
   "metadata": {},
   "outputs": [
    {
     "data": {
      "text/plain": [
       "7.90348308394504"
      ]
     },
     "execution_count": 16,
     "metadata": {},
     "output_type": "execute_result"
    }
   ],
   "source": [
    "sum((y-pred)**2)/(len(y))"
   ]
  },
  {
   "cell_type": "markdown",
   "metadata": {},
   "source": [
    "**We can see that our prediction matches with skelearn's prediction**"
   ]
  },
  {
   "cell_type": "markdown",
   "metadata": {},
   "source": [
    "### Visualizing Decision Tree"
   ]
  },
  {
   "cell_type": "code",
   "execution_count": 18,
   "metadata": {},
   "outputs": [],
   "source": [
    "from sklearn.tree import DecisionTreeClassifier\n",
    "from sklearn import datasets\n",
    "from IPython.display import Image  \n",
    "from sklearn import tree\n",
    "import pydotplus"
   ]
  },
  {
   "cell_type": "code",
   "execution_count": 19,
   "metadata": {},
   "outputs": [
    {
     "data": {
      "image/png": "[encoded data removed]",
      "text/plain": [
       "<IPython.core.display.Image object>"
      ]
     },
     "execution_count": 19,
     "metadata": {},
     "output_type": "execute_result"
    }
   ],
   "source": [
    "from sklearn.tree import DecisionTreeRegressor\n",
    "skreg = DecisionTreeRegressor(min_samples_leaf=30)\n",
    "skreg.fit(x,y)\n",
    "\n",
    "# Create DOT data\n",
    "dot_data = tree.export_graphviz(skreg, out_file=None, \n",
    "                                feature_names=bos.feature_names,  \n",
    "                                class_names=bos.target)\n",
    "\n",
    "# Draw graph\n",
    "graph = pydotplus.graph_from_dot_data(dot_data)  \n",
    "\n",
    "# Show graph\n",
    "Image(graph.create_png())"
   ]
  },
  {
   "cell_type": "markdown",
   "metadata": {},
   "source": [
    "\\begin{exercise}\n",
    "Use the synthetic dataset to apply decision tree regressor using sklearn and the code above. Compare the results obtained.\n",
    "\n",
    "\\end{exercise}\n"
   ]
  }
 ],
 "metadata": {
  "kernelspec": {
   "display_name": "Python 3 (ipykernel)",
   "language": "python",
   "name": "python3"
  },
  "language_info": {
   "codemirror_mode": {
    "name": "ipython",
    "version": 3
   },
   "file_extension": ".py",
   "mimetype": "text/x-python",
   "name": "python",
   "nbconvert_exporter": "python",
   "pygments_lexer": "ipython3",
   "version": "3.9.13"
  },
  "latex_envs": {
   "LaTeX_envs_menu_present": true,
   "autoclose": false,
   "autocomplete": true,
   "bibliofile": "biblio.bib",
   "cite_by": "apalike",
   "current_citInitial": 1,
   "eqLabelWithNumbers": true,
   "eqNumInitial": 1,
   "hotkeys": {
    "equation": "Ctrl-E",
    "itemize": "Ctrl-I"
   },
   "labels_anchors": false,
   "latex_user_defs": false,
   "report_style_numbering": false,
   "user_envs_cfg": false
  },
  "nbTranslate": {
   "displayLangs": [
    "*"
   ],
   "hotkey": "alt-t",
   "langInMainMenu": true,
   "sourceLang": "en",
   "targetLang": "fr",
   "useGoogleTranslate": true
  },
  "toc": {
   "base_numbering": 1,
   "nav_menu": {},
   "number_sections": true,
   "sideBar": true,
   "skip_h1_title": false,
   "title_cell": "Table of Contents",
   "title_sidebar": "Contents",
   "toc_cell": false,
   "toc_position": {},
   "toc_section_display": true,
   "toc_window_display": false
  },
  "varInspector": {
   "cols": {
    "lenName": 16,
    "lenType": 16,
    "lenVar": 40
   },
   "kernels_config": {
    "python": {
     "delete_cmd_postfix": "",
     "delete_cmd_prefix": "del ",
     "library": "var_list.py",
     "varRefreshCmd": "print(var_dic_list())"
    },
    "r": {
     "delete_cmd_postfix": ") ",
     "delete_cmd_prefix": "rm(",
     "library": "var_list.r",
     "varRefreshCmd": "cat(var_dic_list()) "
    }
   },
   "types_to_exclude": [
    "module",
    "function",
    "builtin_function_or_method",
    "instance",
    "_Feature"
   ],
   "window_display": false
  }
 },
 "nbformat": 4,
 "nbformat_minor": 2
}
