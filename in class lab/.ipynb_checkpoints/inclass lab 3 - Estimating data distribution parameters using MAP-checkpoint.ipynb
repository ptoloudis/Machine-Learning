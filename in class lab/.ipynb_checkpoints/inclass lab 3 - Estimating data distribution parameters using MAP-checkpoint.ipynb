{
 "cells": [
  {
   "cell_type": "markdown",
   "id": "52443fdc",
   "metadata": {},
   "source": [
    "\\begin{exercise}\n",
    "Apply the following MAP estimators to 2D data.\n",
    "\n",
    "__Read material of chapter 3 and 4 in the probabilistic machine learning: an introduction__\n",
    "\\end{exercise}\n"
   ]
  },
  {
   "cell_type": "markdown",
   "id": "c3e7af9f",
   "metadata": {},
   "source": [
    "A 2D Gaussian distribution is a probability distribution in two dimensions that has a bell-shaped or Gaussian curve when plotted. It is also known as a normal distribution or a Gaussian function. \n",
    "\n",
    "In mathematical terms, a 2D Gaussian distribution is defined by two parameters: the **mean** and the **covariance matrix**. The mean is a vector that represents the center of the distribution, and the covariance matrix describes the shape and orientation of the distribution. The formula for a 2D Gaussian distribution is as follows:\n",
    "$$\n",
    "f(x, y)=1 /(2 \\pi \\sigma_x \\sigma_y)*e ^{-(x-\\mu_{x})^2/(2\\sigma_x^2) - (y-\\mu_y)^2)/(2\\sigma_y^2)}\n",
    "$$\n",
    "where \n",
    "- x and y are the variables of the distribution, \n",
    "- $\\mu_x$ and $\\mu_y$ are the means, \n",
    "- $\\sigma_x$ and $\\sigma_y$ are the standard deviations, \n",
    "- $\\pi$ is the mathematical constant pi, and \n",
    "- $e$ is the exponential function.\n",
    "\n",
    "The value of f(x,y) gives the probability density at point (x,y) in the distribution. The bell-shaped curve represents the probability density function of the distribution, and it is symmetrical around the mean. The covariance matrix describes the spread and correlation of the distribution in both dimensions."
   ]
  },
  {
   "cell_type": "code",
   "execution_count": 30,
   "id": "378018e6",
   "metadata": {},
   "outputs": [
    {
     "data": {
      "image/png": "[encoded data removed]",
      "text/plain": [
       "<Figure size 432x288 with 1 Axes>"
      ]
     },
     "metadata": {
      "needs_background": "light"
     },
     "output_type": "display_data"
    }
   ],
   "source": [
    "import numpy as np\n",
    "import matplotlib.pyplot as plt\n",
    "\n",
    "# Define the mean vector and covariance matrix\n",
    "mean = np.array([0, 0])\n",
    "cov = np.array([[1, 0], [0, 1]])\n",
    "\n",
    "# Define a grid of points to evaluate the distribution\n",
    "x, y = np.meshgrid(np.linspace(-3, 3, 100), np.linspace(-3, 3, 100))\n",
    "pos = np.dstack((x, y))\n",
    "\n",
    "# Evaluate the 2D Gaussian distribution at each point in the grid\n",
    "z = np.zeros_like(x)\n",
    "for i in range(x.shape[0]):\n",
    "    for j in range(x.shape[1]):\n",
    "        point = np.array([x[i,j], y[i,j]])\n",
    "        z[i,j] = 1/(2*np.pi*np.sqrt(np.linalg.det(cov))) * \\\n",
    "                 np.exp(-0.5 * (point-mean) @ np.linalg.inv(cov) @ (point-mean).T)\n",
    "\n",
    "# Plot the 2D Gaussian distribution\n",
    "fig, ax = plt.subplots()\n",
    "ax.contourf(x, y, z, levels=50)\n",
    "ax.set_aspect('equal')\n",
    "plt.show()\n"
   ]
  },
  {
   "cell_type": "markdown",
   "id": "467f2d86",
   "metadata": {
    "variables": {
     "-1 / 2}{(x-\\mu)^T \\Sigma^{-1}(x-\\mu)": "<p><strong>SyntaxError</strong>: invalid syntax (<ipython-input-1-1db632002496>, line 1)</p>\n"
    }
   },
   "source": [
    "\n",
    "A multivariate Gaussian distribution, also known as a multivariate normal distribution, is a probability distribution that describes the joint probability of a set of random variables. In contrast to a univariate Gaussian distribution, which describes the probability distribution of a single random variable, a multivariate Gaussian distribution describes the probability distribution of a vector of correlated random variables.\n",
    "\n",
    "The multivariate Gaussian distribution is characterized by two parameters: a mean vector and a covariance matrix. The mean vector is a vector of expected values for each variable, and the covariance matrix describes the pairwise covariance between the variables.\n",
    "\n",
    "Mathematically, a multivariate Gaussian distribution with mean vector $\\mu$ and covariance matrix $\\Sigma$ can be written as:\n",
    "\n",
    "\n",
    "A vector-valued random variable $X=\\left[X_1 \\cdots X_n\\right]^T$ is said to have a multivariate normal (or Gaussian) distribution with mean $\\mu \\in \\mathbf{R}^n$ and covariance matrix $\\Sigma \\in \\mathbf{S}_{++}^n$ if its probability density function  is given by\n",
    "$$\n",
    "p(x ; \\mu, \\Sigma)=\\frac{1}{(2 \\pi)^{n / 2}|\\Sigma|^{1 / 2}} \\exp \\left(-\\frac{1}{2}(x-\\mu)^T \\Sigma^{-1}(x-\\mu)\\right) .\n",
    "$$\n",
    "We write this as $X \\sim \\mathcal{N}(\\mu, \\Sigma)$. In these notes, we describe multivariate Gaussians and some of their basic properties.\n",
    "\n",
    "**Proposition 1**. For any random vector $X$ with mean $\\mu$ and covariance matrix $\\Sigma$,\n",
    "$$\n",
    "\\Sigma=E\\left[(X-\\mu)(X-\\mu)^T\\right]=E\\left[X X^T\\right]-\\mu \\mu^T .\n",
    "$$\n",
    "In the definition of multivariate Gaussians, we required that the covariance matrix $\\Sigma$ be symmetric positive definite (i.e., $\\Sigma \\in \\mathbf{S}_{++}^n$ ). Why does this restriction exist? As seen in the following proposition, the covariance matrix of any random vector must always be symmetric positive semidefinite:\n",
    "\n",
    "**Proposition 2**. Suppose that $\\Sigma$ is the covariance matrix corresponding to some random vector $X$. Then $\\Sigma$ is symmetric positive semidefinite."
   ]
  },
  {
   "cell_type": "markdown",
   "id": "48366d26",
   "metadata": {},
   "source": [
    "# Example 1 - Estimate mean of given data using MAP estimator"
   ]
  },
  {
   "cell_type": "markdown",
   "id": "7aaf7690",
   "metadata": {},
   "source": [
    "To perform a Maximum A Posteriori (MAP) estimation of the data mean in Python, you will need to make some assumptions about the prior distribution of the mean. Here, we assume a Gaussian prior distribution with mean 0 and standard deviation 1.\n",
    "First, let's generate some sample data:"
   ]
  },
  {
   "cell_type": "code",
   "execution_count": 3,
   "id": "93a4d641",
   "metadata": {},
   "outputs": [],
   "source": [
    "import numpy as np\n",
    "\n",
    "np.random.seed(42)  # for reproducibility\n",
    "data = np.random.normal(loc=2.0, scale=1.5, size=100)"
   ]
  },
  {
   "cell_type": "markdown",
   "id": "63458286",
   "metadata": {},
   "source": [
    "\n",
    "\n",
    "The log likelihood of the mean is a statistical concept used in maximum likelihood estimation (MLE) to find the most likely value of the mean of a distribution that best fits a set of observed data.\n",
    "\n",
    "Given a set of observations $x_1, x_2, \\ldots, x_n$  from a distribution with an unknown mean $\\mu$ and a known variance $\\sigma^2$, the log likelihood of the mean is given by:\n",
    "\n",
    "$$\n",
    "\\log L(\\mu)=-n / 2 \\log \\left(2 \\pi \\sigma^2\\right)-\\sum(x_i-\\mu)^2 / 2 \\sigma^2\n",
    "$$\n",
    "\n",
    "\n",
    "\n",
    "where n is the sample size, $\\pi$ is the mathematical constant $\\pi$, and $\\Sigma$ denotes the sum of the squared deviations of the observations from the mean.\n",
    "\n",
    "The maximum likelihood estimate of the mean is the value of $\\mu$ that maximizes the log likelihood function. In practice, this is often found by taking the derivative of the log likelihood function with respect to $\\mu$, setting it equal to zero, and solving for $\\mu$. \n",
    "\n",
    "It is important to note that the log likelihood of the mean is only one component of the maximum likelihood estimation process and must be used in conjunction with other components (such as the log likelihood of the variance) to obtain a complete estimate of the distribution parameters."
   ]
  },
  {
   "cell_type": "markdown",
   "id": "3fc95846",
   "metadata": {},
   "source": [
    "Now, we can define the log-likelihood and log-prior functions. \n",
    "\n",
    "\n",
    "\n",
    "If we assume that the mean of a normal distribution follows a normal distribution with a mean of 0 and a standard deviation of 1, we can calculate the log prior of the mean as follows:\n",
    "\n",
    "Let $\\mu$ be the mean of the normal distribution. Then, we can write:\n",
    "\n",
    "$$\\mu ~ N(0, 1)$$\n",
    "\n",
    "The probability density function of a normal distribution is given by:\n",
    "\n",
    "$$f(x) = (1 / {\\sigma \\sqrt(2\\pi))} * \\exp^{-(x - \\mu)^2)/ {2\\sigma^2}}$$\n",
    "\n",
    "where $\\mu$ is the mean, $\\sigma$ is the standard deviation, and $e$ is the base of the natural logarithm.\n",
    "\n",
    "The log prior of $\\mu$ is the natural logarithm of the probability density function of $\\mu$, or:\n",
    "$$\n",
    "\\log (\\operatorname{prior}(\\mu))=\\log (f(\\mu))=\\log (1 / \\sqrt(2 \\pi))-\\left(\\mu^ 2 / 2\\right)\n",
    "$$\n",
    "\n",
    "\n",
    "where log is the natural logarithm.\n"
   ]
  },
  {
   "cell_type": "code",
   "execution_count": 4,
   "id": "f6605748",
   "metadata": {},
   "outputs": [],
   "source": [
    "def log_likelihood(data, mean):\n",
    "    return -0.5 * np.sum((data - mean)**2)\n",
    "\n",
    "def log_prior(mean):\n",
    "    return -0.5 * ((mean - 0)**2 / 1**2)  # Gaussian prior with mean 0 and std 1"
   ]
  },
  {
   "cell_type": "markdown",
   "id": "99c7a522",
   "metadata": {},
   "source": [
    "Next, we can define the log-posterior function by adding the log-likelihood and log-prior:"
   ]
  },
  {
   "cell_type": "code",
   "execution_count": 5,
   "id": "b35b1d86",
   "metadata": {},
   "outputs": [],
   "source": [
    "def log_posterior(data, mean):\n",
    "    return log_likelihood(data, mean) + log_prior(mean)"
   ]
  },
  {
   "cell_type": "markdown",
   "id": "b1106cf0",
   "metadata": {},
   "source": [
    "To find the MAP estimate of the mean, we can use the fmin function from the scipy.optimize module to minimize the negative log-posterior:"
   ]
  },
  {
   "cell_type": "code",
   "execution_count": 6,
   "id": "4daf6ba6",
   "metadata": {},
   "outputs": [
    {
     "name": "stdout",
     "output_type": "stream",
     "text": [
      "Optimization terminated successfully.\n",
      "         Current function value: 93.542502\n",
      "         Iterations: 27\n",
      "         Function evaluations: 54\n"
     ]
    }
   ],
   "source": [
    "from scipy.optimize import fmin\n",
    "\n",
    "map_estimate = fmin(lambda x: -log_posterior(data, x), x0=0.0)"
   ]
  },
  {
   "cell_type": "markdown",
   "id": "9c252984",
   "metadata": {},
   "source": [
    "Here, we pass a lambda function to fmin that takes a single argument x (the mean) and returns the negative log-posterior. We also set the initial guess for the mean to be 0.0.\n",
    "\n",
    "Finally, we can print the MAP estimate:"
   ]
  },
  {
   "cell_type": "code",
   "execution_count": 7,
   "id": "5fc1e5dd",
   "metadata": {},
   "outputs": [
    {
     "name": "stdout",
     "output_type": "stream",
     "text": [
      "MAP estimate of mean: 1.8260000000000023\n"
     ]
    }
   ],
   "source": [
    "print(\"MAP estimate of mean:\", map_estimate[0])"
   ]
  },
  {
   "cell_type": "markdown",
   "id": "4115bf1a",
   "metadata": {},
   "source": [
    "# Example 2 - Apply the MLE for estimating the mean of data sample"
   ]
  },
  {
   "cell_type": "code",
   "execution_count": 19,
   "id": "82371233",
   "metadata": {},
   "outputs": [
    {
     "name": "stdout",
     "output_type": "stream",
     "text": [
      "5.05421814698072\n",
      "      fun: 224.85489933767872\n",
      " hess_inv: array([[0.04]])\n",
      "      jac: array([-3.81469727e-06])\n",
      "  message: 'Optimization terminated successfully.'\n",
      "     nfev: 8\n",
      "      nit: 3\n",
      "     njev: 4\n",
      "   status: 0\n",
      "  success: True\n",
      "        x: array([5.05421797])\n"
     ]
    }
   ],
   "source": [
    "import numpy as np\n",
    "from scipy.optimize import minimize\n",
    "\n",
    "# Generate some random data\n",
    "np.random.seed(123)\n",
    "data = np.random.normal(loc=5, scale=2, size=100)\n",
    "print(np.mean(data))\n",
    "\n",
    "# Define the likelihood function\n",
    "def likelihood(x, data):\n",
    "    return np.prod(1/np.sqrt(2*np.pi*2**2)*np.exp(-(data-x)**2/(2*2**2)))\n",
    "\n",
    "# Take the logarithm of the likelihood function\n",
    "def log_likelihood(x, data):\n",
    "    return np.sum(np.log(likelihood(x, data)))\n",
    "\n",
    "# Define the negative log-likelihood function\n",
    "def neg_log_likelihood(x, data):\n",
    "    return -log_likelihood(x, data)\n",
    "#MAP\n",
    "\n",
    "# Use maximum likelihood estimation to estimate the mean\n",
    "result = minimize(neg_log_likelihood, x0=0, args=(data,))\n",
    "print(result)\n"
   ]
  },
  {
   "cell_type": "markdown",
   "id": "4024bfcf",
   "metadata": {},
   "source": [
    "# Example 3 - Apply MLA to estimate the mean of a sample without simplifications"
   ]
  },
  {
   "cell_type": "markdown",
   "id": "d9c47f4f",
   "metadata": {},
   "source": [
    "Likelihood refers to the probability of observing a given set of data given a certain model or hypothesis. In other words, it measures how well the data fits the model. The likelihood function is defined as the probability of observing the data given a set of model parameters, which is denoted as P(data|parameters).\n",
    "\n",
    "Maximum a posteriori (MAP) estimation is a method for estimating the parameters of a statistical model. It is similar to maximum likelihood estimation, but with the additional step of incorporating prior knowledge or assumptions about the parameters. The MAP estimate is the set of parameters that maximizes the posterior probability, which is the product of the likelihood function and the prior probability distribution over the parameters.\n",
    "\n",
    "To estimate the mean using MAP optimization in Python, we can follow these steps:\n",
    "\n",
    "1. Define the likelihood function for the data. Assuming that the data follows a normal distribution with unknown mean and known variance, the likelihood function is:"
   ]
  },
  {
   "cell_type": "code",
   "execution_count": 20,
   "id": "f2f8d4fa",
   "metadata": {},
   "outputs": [],
   "source": [
    "def likelihood(data, mean):\n",
    "    variance = 1 # assuming known variance\n",
    "    n = len(data)\n",
    "    log_likelihood = -0.5 * n * np.log(2*np.pi*variance) - 0.5 * np.sum((data-mean)**2/variance)\n",
    "    return log_likelihood"
   ]
  },
  {
   "cell_type": "markdown",
   "id": "d90a2d71",
   "metadata": {},
   "source": [
    "2. Define the prior probability distribution over the mean. For simplicity, we can assume a normal distribution with mean 0 and variance 1."
   ]
  },
  {
   "cell_type": "code",
   "execution_count": 21,
   "id": "7cbb54ff",
   "metadata": {},
   "outputs": [],
   "source": [
    "def prior(mean):\n",
    "    prior_mean = 0\n",
    "    prior_variance = 1\n",
    "    log_prior = -0.5 * np.log(2*np.pi*prior_variance) - 0.5 * ((mean-prior_mean)**2/prior_variance)\n",
    "    return log_prior"
   ]
  },
  {
   "cell_type": "markdown",
   "id": "8778a631",
   "metadata": {},
   "source": [
    "3. Combine the likelihood and prior to get the posterior probability:"
   ]
  },
  {
   "cell_type": "code",
   "execution_count": 26,
   "id": "1c13c426",
   "metadata": {},
   "outputs": [],
   "source": [
    "def posterior(data, mean):\n",
    "    return likelihood(data, mean) + prior(mean)"
   ]
  },
  {
   "cell_type": "markdown",
   "id": "53397b7a",
   "metadata": {},
   "source": [
    "4. Use an optimization method, such as the BFGS algorithm implemented in the `scipy.optimize.minimize` function, to find the value of the mean that maximizes the posterior probability:"
   ]
  },
  {
   "cell_type": "code",
   "execution_count": 27,
   "id": "ff0c4bf2",
   "metadata": {},
   "outputs": [
    {
     "name": "stdout",
     "output_type": "stream",
     "text": [
      "MAP estimate of the mean: 2.8380275925151013\n"
     ]
    }
   ],
   "source": [
    "from scipy.optimize import minimize\n",
    "\n",
    "# generate some sample data\n",
    "data = np.random.normal(loc=3, scale=1, size=100)\n",
    "\n",
    "# define the negative posterior probability as the objective function\n",
    "neg_posterior = lambda mean: -posterior(data, mean)\n",
    "\n",
    "# find the MAP estimate using optimization\n",
    "result = minimize(neg_posterior, x0=0)\n",
    "map_estimate = result.x[0]\n",
    "\n",
    "print(\"MAP estimate of the mean:\", map_estimate)"
   ]
  },
  {
   "cell_type": "code",
   "execution_count": 28,
   "id": "39325901",
   "metadata": {},
   "outputs": [
    {
     "data": {
      "text/plain": [
       "2.866407908992594"
      ]
     },
     "execution_count": 28,
     "metadata": {},
     "output_type": "execute_result"
    }
   ],
   "source": [
    "np.mean(data)"
   ]
  },
  {
   "cell_type": "markdown",
   "id": "ac4c45a0",
   "metadata": {},
   "source": [
    "Note that in this example, we assumed that the variance of the data is known. In practice, this is often not the case, and the variance would need to be estimated as well. This can be done using maximum likelihood estimation or Bayesian methods."
   ]
  },
  {
   "cell_type": "markdown",
   "id": "ef5277ec",
   "metadata": {},
   "source": [
    "# Example - Apply MAP to determine both $\\mu$ and $\\sigma$ of sample"
   ]
  },
  {
   "cell_type": "code",
   "execution_count": 1,
   "id": "e765d3d1",
   "metadata": {},
   "outputs": [
    {
     "name": "stdout",
     "output_type": "stream",
     "text": [
      "      fun: 205.20244769763633\n",
      " hess_inv: array([[3.46594592e-02, 5.00342908e-05],\n",
      "       [5.00342908e-05, 1.67283298e-02]])\n",
      "      jac: array([0., 0.])\n",
      "  message: 'Optimization terminated successfully.'\n",
      "     nfev: 88\n",
      "      nit: 21\n",
      "     njev: 28\n",
      "   status: 0\n",
      "  success: True\n",
      "        x: array([10.23683157,  1.8624024 ])\n"
     ]
    },
    {
     "name": "stderr",
     "output_type": "stream",
     "text": [
      "C:\\Users\\enh\\anaconda3\\envs\\py36\\lib\\site-packages\\scipy\\optimize\\_numdiff.py:497: RuntimeWarning: invalid value encountered in subtract\n",
      "  df = fun(x) - f0\n",
      "C:\\Users\\enh\\anaconda3\\envs\\py36\\lib\\site-packages\\scipy\\optimize\\_numdiff.py:497: RuntimeWarning: invalid value encountered in subtract\n",
      "  df = fun(x) - f0\n"
     ]
    }
   ],
   "source": [
    "import numpy as np\n",
    "from scipy.optimize import minimize\n",
    "\n",
    "# define log-likelihood and log-prior functions\n",
    "def log_likelihood(theta, data):\n",
    "    \"\"\"Log-likelihood function for a given parameter theta\"\"\"\n",
    "    mu = theta[0]\n",
    "    sigma = theta[1]\n",
    "    N = len(data)\n",
    "    return -N/2 * np.log(2*np.pi) - N/2 * np.log(sigma**2) \\\n",
    "           - np.sum((data - mu)**2) / (2*sigma**2)\n",
    "\n",
    "def log_prior(theta):\n",
    "    \"\"\"Log-prior function for a given parameter theta\"\"\"\n",
    "    mu = theta[0]\n",
    "    sigma = theta[1]\n",
    "    if mu < 0 or sigma < 0:\n",
    "        return -np.inf  # return negative infinity for invalid values\n",
    "    return -np.log(sigma)  # use a log-uniform prior for sigma\n",
    "\n",
    "# define log-posterior function\n",
    "def log_posterior(theta, data):\n",
    "    \"\"\"Log-posterior function for a given parameter theta\"\"\"\n",
    "    return log_likelihood(theta, data) + log_prior(theta)\n",
    "\n",
    "# generate some fake data\n",
    "#data = np.random.normal(0, 1, 100)\n",
    "data = np.random.normal(loc=10, scale=2, size=100)\n",
    "\n",
    "# minimize negative log-posterior to find maximum posterior probability\n",
    "result = minimize(lambda theta: -log_posterior(theta, data), x0=[0, 1])\n",
    "print(result)\n"
   ]
  }
 ],
 "metadata": {
  "kernelspec": {
   "display_name": "Python 3 (ipykernel)",
   "language": "python",
   "name": "python3"
  },
  "language_info": {
   "codemirror_mode": {
    "name": "ipython",
    "version": 3
   },
   "file_extension": ".py",
   "mimetype": "text/x-python",
   "name": "python",
   "nbconvert_exporter": "python",
   "pygments_lexer": "ipython3",
   "version": "3.9.13"
  },
  "latex_envs": {
   "LaTeX_envs_menu_present": true,
   "autoclose": false,
   "autocomplete": true,
   "bibliofile": "biblio.bib",
   "cite_by": "apalike",
   "current_citInitial": 1,
   "eqLabelWithNumbers": true,
   "eqNumInitial": 1,
   "hotkeys": {
    "equation": "Ctrl-E",
    "itemize": "Ctrl-I"
   },
   "labels_anchors": false,
   "latex_user_defs": false,
   "report_style_numbering": false,
   "user_envs_cfg": false
  },
  "nbTranslate": {
   "displayLangs": [
    "*"
   ],
   "hotkey": "alt-t",
   "langInMainMenu": true,
   "sourceLang": "en",
   "targetLang": "fr",
   "useGoogleTranslate": true
  },
  "toc": {
   "base_numbering": 1,
   "nav_menu": {},
   "number_sections": true,
   "sideBar": true,
   "skip_h1_title": false,
   "title_cell": "Table of Contents",
   "title_sidebar": "Contents",
   "toc_cell": false,
   "toc_position": {},
   "toc_section_display": true,
   "toc_window_display": false
  },
  "varInspector": {
   "cols": {
    "lenName": 16,
    "lenType": 16,
    "lenVar": 40
   },
   "kernels_config": {
    "python": {
     "delete_cmd_postfix": "",
     "delete_cmd_prefix": "del ",
     "library": "var_list.py",
     "varRefreshCmd": "print(var_dic_list())"
    },
    "r": {
     "delete_cmd_postfix": ") ",
     "delete_cmd_prefix": "rm(",
     "library": "var_list.r",
     "varRefreshCmd": "cat(var_dic_list()) "
    }
   },
   "types_to_exclude": [
    "module",
    "function",
    "builtin_function_or_method",
    "instance",
    "_Feature"
   ],
   "window_display": false
  }
 },
 "nbformat": 4,
 "nbformat_minor": 5
}
