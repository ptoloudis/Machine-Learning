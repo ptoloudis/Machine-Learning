{
 "cells": [
  {
   "attachments": {},
   "cell_type": "markdown",
   "metadata": {},
   "source": [
    "Problem: Write a python program to find the polynomials of degrees n= 3,7,15,21 that approximate f(x) = 1/(1+x^2)  from  60 points of this function corresponding to 60 equidistant x  points in the interval [-5,5].  Apply LU,  QR, and SVD methods to find the polynomial approximations.  Draw polynomials from each method and data in the same graph.  Calculate and plan errors for each case. Using the sklearn library."
   ]
  },
  {
   "attachments": {},
   "cell_type": "markdown",
   "metadata": {},
   "source": [
    "Include the library"
   ]
  },
  {
   "cell_type": "code",
   "execution_count": 63,
   "metadata": {},
   "outputs": [],
   "source": [
    "import numpy as np\n",
    "from scipy.linalg import qr\n",
    "import matplotlib.pyplot as plt\n",
    "from sklearn.metrics import mean_squared_error\n",
    "from sklearn.linear_model import LinearRegression"
   ]
  },
  {
   "attachments": {},
   "cell_type": "markdown",
   "metadata": {},
   "source": [
    "Define the function f(x) = 1/(1+x^2)."
   ]
  },
  {
   "cell_type": "code",
   "execution_count": 64,
   "metadata": {},
   "outputs": [],
   "source": [
    "def f(x):\n",
    "    return 1/( 1 + x**2)"
   ]
  },
  {
   "attachments": {},
   "cell_type": "markdown",
   "metadata": {},
   "source": [
    "Generate 60 equidistant x points in the interval [-5,5]."
   ]
  },
  {
   "cell_type": "code",
   "execution_count": 65,
   "metadata": {},
   "outputs": [],
   "source": [
    "x = np.linspace(-5, 5, 60)"
   ]
  },
  {
   "attachments": {},
   "cell_type": "markdown",
   "metadata": {},
   "source": [
    "Calculate the corresponding y values for each x point using the function f(x)."
   ]
  },
  {
   "cell_type": "code",
   "execution_count": 66,
   "metadata": {},
   "outputs": [],
   "source": [
    "y = f(x)"
   ]
  },
  {
   "attachments": {},
   "cell_type": "markdown",
   "metadata": {},
   "source": [
    "Fit polynomial models_QR of degrees 3, 7, 15, and 21."
   ]
  },
  {
   "cell_type": "code",
   "execution_count": 67,
   "metadata": {},
   "outputs": [],
   "source": [
    "degrees = [3, 7, 15, 21]"
   ]
  },
  {
   "attachments": {},
   "cell_type": "markdown",
   "metadata": {},
   "source": [
    "Initialize the arrays to store the coefficients and errors of the polynomials"
   ]
  },
  {
   "cell_type": "code",
   "execution_count": 68,
   "metadata": {},
   "outputs": [],
   "source": [
    "coefficients = np.zeros((len(degrees), max(degrees) + 1))\n",
    "errors = np.zeros(len(degrees))"
   ]
  },
  {
   "attachments": {},
   "cell_type": "markdown",
   "metadata": {},
   "source": [
    "Generated data using the QR decomposition method."
   ]
  },
  {
   "cell_type": "code",
   "execution_count": 69,
   "metadata": {},
   "outputs": [
    {
     "data": {
      "image/png": "[encoded data removed]",
      "text/plain": [
       "<Figure size 432x288 with 1 Axes>"
      ]
     },
     "metadata": {
      "needs_background": "light"
     },
     "output_type": "display_data"
    },
    {
     "name": "stdout",
     "output_type": "stream",
     "text": [
      "Coefficients:\n",
      "[[ 5.03547518e-01  3.24062021e-17 -2.70213777e-02 -3.88364618e-18\n",
      "   0.00000000e+00  0.00000000e+00  0.00000000e+00  0.00000000e+00\n",
      "   0.00000000e+00  0.00000000e+00  0.00000000e+00  0.00000000e+00\n",
      "   0.00000000e+00  0.00000000e+00  0.00000000e+00  0.00000000e+00\n",
      "   0.00000000e+00  0.00000000e+00  0.00000000e+00  0.00000000e+00\n",
      "   0.00000000e+00  0.00000000e+00]\n",
      " [ 7.72836861e-01  6.73558608e-16 -1.77992578e-01 -2.21039368e-16\n",
      "   1.31530152e-02  1.95341739e-17 -2.94369582e-04 -4.91683143e-19\n",
      "   0.00000000e+00  0.00000000e+00  0.00000000e+00  0.00000000e+00\n",
      "   0.00000000e+00  0.00000000e+00  0.00000000e+00  0.00000000e+00\n",
      "   0.00000000e+00  0.00000000e+00  0.00000000e+00  0.00000000e+00\n",
      "   0.00000000e+00  0.00000000e+00]\n",
      " [ 9.53796367e-01 -2.64992438e-14 -5.88076354e-01  2.81632299e-14\n",
      "   1.86271016e-01 -8.07906951e-15 -3.09732711e-02  1.07981112e-15\n",
      "   2.83038059e-03 -7.70352280e-17 -1.42943690e-04  3.04708725e-18\n",
      "   3.73633865e-06 -6.63110182e-20 -3.94126948e-08  6.65068153e-22\n",
      "   0.00000000e+00  0.00000000e+00  0.00000000e+00  0.00000000e+00\n",
      "   0.00000000e+00  0.00000000e+00]\n",
      " [ 9.86530369e-01  1.18867682e-11 -8.00856572e-01 -3.66151244e-11\n",
      "   4.20198809e-01  3.18517692e-11 -1.33027727e-01 -1.26098208e-11\n",
      "   2.59270601e-02  2.74089102e-12 -3.20592492e-03 -3.58060787e-13\n",
      "   2.55681670e-04  2.93153999e-14 -1.30885738e-05 -1.51548382e-15\n",
      "   4.14879432e-07  4.80399897e-17 -7.40576225e-09 -8.52565336e-19\n",
      "   5.68779667e-11  6.48762053e-21]]\n",
      "Errors:\n",
      "[6.21343560e+02 2.98309842e+08 4.11875634e+19 8.98420689e+27]\n"
     ]
    }
   ],
   "source": [
    "for i, n in enumerate(degrees):\n",
    "    # Generate the Vandermonde matrix\n",
    "    V = np.vander(x, n+1, increasing=True)\n",
    "    \n",
    "    # Apply QR decomposition to the Vandermonde matrix\n",
    "    Q, R = qr(V, mode='economic')\n",
    "    \n",
    "    # Solve the least squares problem to find the coefficients of the polynomial\n",
    "    c = np.linalg.solve(R[:n+1, :], np.dot(Q.T, f(x)))\n",
    "    coefficients[i, :n+1] = c\n",
    "    \n",
    "    # Evaluate the polynomial at the x points\n",
    "    y = np.polyval(c, x)\n",
    "    \n",
    "    # Calculate the error of the polynomial\n",
    "    errors[i] = mean_squared_error(f(x), y)\n",
    "    \n",
    "    # Plot the polynomial and data on the same graph\n",
    "    plt.plot(x, y, label=f'n = {n}')\n",
    "\n",
    "plt.plot(x, f(x), 'r--', label='f(x)')\n",
    "plt.legend()\n",
    "plt.show()\n",
    "\n",
    "# Print the coefficients and errors of the polynomials\n",
    "print('Coefficients:')\n",
    "print(coefficients)\n",
    "print('Errors:')\n",
    "print(errors)"
   ]
  },
  {
   "attachments": {},
   "cell_type": "markdown",
   "metadata": {},
   "source": [
    "Generated data using the SVD decomposition method."
   ]
  },
  {
   "attachments": {},
   "cell_type": "markdown",
   "metadata": {},
   "source": [
    "Initialize the arrays to store the coefficients and errors of the polynomials."
   ]
  },
  {
   "cell_type": "code",
   "execution_count": 70,
   "metadata": {},
   "outputs": [],
   "source": [
    "coefficients = np.zeros((len(degrees), max(degrees) + 1))\n",
    "errors = np.zeros(len(degrees))"
   ]
  },
  {
   "attachments": {},
   "cell_type": "markdown",
   "metadata": {},
   "source": [
    "Loop over the degrees of the polynomials to approximate f(x) using the SVD method"
   ]
  },
  {
   "cell_type": "code",
   "execution_count": 71,
   "metadata": {},
   "outputs": [
    {
     "data": {
      "image/png": "[encoded data removed]",
      "text/plain": [
       "<Figure size 432x288 with 1 Axes>"
      ]
     },
     "metadata": {
      "needs_background": "light"
     },
     "output_type": "display_data"
    },
    {
     "name": "stdout",
     "output_type": "stream",
     "text": [
      "Coefficients:\n",
      "[[ 5.03547518e-01  3.20923843e-17 -2.70213777e-02 -4.70272692e-18\n",
      "   0.00000000e+00  0.00000000e+00  0.00000000e+00  0.00000000e+00\n",
      "   0.00000000e+00  0.00000000e+00  0.00000000e+00  0.00000000e+00\n",
      "   0.00000000e+00  0.00000000e+00  0.00000000e+00  0.00000000e+00\n",
      "   0.00000000e+00  0.00000000e+00  0.00000000e+00  0.00000000e+00\n",
      "   0.00000000e+00  0.00000000e+00]\n",
      " [ 7.72836861e-01  4.10370522e-16 -1.77992578e-01 -1.44415729e-16\n",
      "   1.31530152e-02  4.26091454e-17 -2.94369582e-04 -1.56383458e-18\n",
      "   0.00000000e+00  0.00000000e+00  0.00000000e+00  0.00000000e+00\n",
      "   0.00000000e+00  0.00000000e+00  0.00000000e+00  0.00000000e+00\n",
      "   0.00000000e+00  0.00000000e+00  0.00000000e+00  0.00000000e+00\n",
      "   0.00000000e+00  0.00000000e+00]\n",
      " [ 9.53796366e-01  1.29556323e-10 -5.88076354e-01 -1.25844131e-11\n",
      "   1.86271016e-01 -2.25847802e-12 -3.09732711e-02  1.55806520e-13\n",
      "   2.83038059e-03 -2.87145524e-15 -1.42943690e-04  2.47963178e-16\n",
      "   3.73633865e-06  1.16165937e-18 -3.94126948e-08  1.04107952e-16\n",
      "   0.00000000e+00  0.00000000e+00  0.00000000e+00  0.00000000e+00\n",
      "   0.00000000e+00  0.00000000e+00]\n",
      " [ 9.86601376e-01 -1.35594262e-04 -8.00917391e-01 -6.56148416e-06\n",
      "   4.20207191e-01  4.57260192e-06 -1.33027657e-01 -3.81009106e-07\n",
      "   2.59269740e-02  8.32986791e-09 -3.20591744e-03  4.89155975e-10\n",
      "   2.55681347e-04 -3.72085513e-11 -1.30885670e-05  9.79744053e-13\n",
      "   4.14879440e-07 -1.00997646e-14 -7.40576499e-09  6.89233037e-17\n",
      "   5.68779930e-11  9.95423547e-17]]\n",
      "Errors:\n",
      "[6.21343560e+02 2.98309842e+08 4.11875634e+19 8.98549712e+27]\n"
     ]
    }
   ],
   "source": [
    "for i, n in enumerate(degrees):\n",
    "    # Generate the Vandermonde matrix\n",
    "    V = np.vander(x, n+1, increasing=True)\n",
    "    \n",
    "    # Apply SVD decomposition to the Vandermonde matrix\n",
    "    U, s, VT = np.linalg.svd(V, full_matrices=False)\n",
    "    S_inv = np.diag(1 / s)\n",
    "    \n",
    "    # Solve the least squares problem to find the coefficients of the polynomial\n",
    "    c = VT.T @ S_inv @ U.T @ f(x)\n",
    "    coefficients[i, :n+1] = c\n",
    "    \n",
    "    # Evaluate the polynomial at the x points\n",
    "    y = np.polyval(c, x)\n",
    "    \n",
    "    # Calculate the error of the polynomial\n",
    "    errors[i] = mean_squared_error(f(x), y)\n",
    "    \n",
    "    # Plot the polynomial and data on the same graph\n",
    "    plt.plot(x, y, label=f'n = {n}')\n",
    "    \n",
    "plt.plot(x, f(x), 'r--', label='f(x)')\n",
    "plt.legend()\n",
    "plt.show()\n",
    "\n",
    "# Print the coefficients and errors of the polynomials\n",
    "print('Coefficients:')\n",
    "print(coefficients)\n",
    "print('Errors:')\n",
    "print(errors)"
   ]
  },
  {
   "attachments": {},
   "cell_type": "markdown",
   "metadata": {},
   "source": [
    "Generated data using the LU decomposition method."
   ]
  },
  {
   "attachments": {},
   "cell_type": "markdown",
   "metadata": {},
   "source": [
    "Initialize the arrays to store the coefficients and errors of the polynomials."
   ]
  },
  {
   "cell_type": "code",
   "execution_count": 72,
   "metadata": {},
   "outputs": [],
   "source": [
    "coefficients = np.zeros((len(degrees), max(degrees) + 1))\n",
    "errors = np.zeros(len(degrees))"
   ]
  },
  {
   "attachments": {},
   "cell_type": "markdown",
   "metadata": {},
   "source": [
    "Loop over the degrees of the polynomials to approximate f(x) LU method."
   ]
  },
  {
   "cell_type": "code",
   "execution_count": 73,
   "metadata": {},
   "outputs": [],
   "source": [
    "def create_vandermonde_matrix(x, degree):\n",
    "    A = np.vander(x, degree + 1, increasing=True)\n",
    "    return A"
   ]
  },
  {
   "cell_type": "code",
   "execution_count": 80,
   "metadata": {},
   "outputs": [],
   "source": [
    "x = np.linspace(-5, 5, 60)\n",
    "f = 1 / (1 + x**2)"
   ]
  },
  {
   "cell_type": "code",
   "execution_count": 81,
   "metadata": {},
   "outputs": [],
   "source": [
    "\n",
    "# Fit a polynomial of degree 3\n",
    "A = create_vandermonde_matrix(x, 3)\n",
    "reg3 = LinearRegression().fit(A, f)\n",
    "c3 = reg3.coef_\n",
    "\n",
    "# Fit a polynomial of degree 7\n",
    "A = create_vandermonde_matrix(x, 7)\n",
    "reg7 = LinearRegression().fit(A, f)\n",
    "c7 = reg7.coef_\n",
    "\n",
    "# Fit a polynomial of degree 15\n",
    "A = create_vandermonde_matrix(x, 15)\n",
    "reg15 = LinearRegression().fit(A, f)\n",
    "c15 = reg15.coef_\n",
    "\n",
    "# Fit a polynomial of degree 21\n",
    "A = create_vandermonde_matrix(x, 21)\n",
    "reg21 = LinearRegression().fit(A, f)\n",
    "c21 = reg21.coef_"
   ]
  },
  {
   "cell_type": "code",
   "execution_count": 109,
   "metadata": {},
   "outputs": [],
   "source": [
    "def calculate_error(x, f, c):\n",
    "    p = np.polyval(c, x)\n",
    "    return np.sum((f - p)**2) / x.size"
   ]
  },
  {
   "cell_type": "code",
   "execution_count": 110,
   "metadata": {},
   "outputs": [],
   "source": [
    "# Calculate the approximation error for the polynomial of degree 3\n",
    "error3 = calculate_error(x, f, c3)\n",
    "\n",
    "# Calculate the approximation error for the polynomial of degree 7\n",
    "error7 = calculate_error(x, f, c7)\n",
    "\n",
    "# Calculate the approximation error for the polynomial of degree 15\n",
    "error15 = calculate_error(x, f, c15)\n",
    "\n",
    "# Calculate the approximation error for the polynomial of degree 21\n",
    "error21 = calculate_error(x, f, c21)"
   ]
  },
  {
   "cell_type": "code",
   "execution_count": 111,
   "metadata": {},
   "outputs": [
    {
     "name": "stdout",
     "output_type": "stream",
     "text": [
      "Polynomial of degree 3 error: 0.1603\n",
      "Polynomial of degree 7 error: 32873.9717\n",
      "Polynomial of degree 15 error: 27854347372479252.0000\n",
      "Polynomial of degree 21 error: 10146793260282150903611392.0000\n"
     ]
    }
   ],
   "source": [
    "print(f\"Polynomial of degree 3 error: {error3:.4f}\")\n",
    "print(f\"Polynomial of degree 7 error: {error7:.4f}\")\n",
    "print(f\"Polynomial of degree 15 error: {error15:.4f}\")\n",
    "print(f\"Polynomial of degree 21 error: {error21:.4f}\")"
   ]
  },
  {
   "cell_type": "code",
   "execution_count": 108,
   "metadata": {},
   "outputs": [
    {
     "data": {
      "image/png": "[encoded data removed]",
      "text/plain": [
       "<Figure size 720x504 with 1 Axes>"
      ]
     },
     "metadata": {
      "needs_background": "light"
     },
     "output_type": "display_data"
    }
   ],
   "source": [
    "# Step 5: Plot the original function and the polynomial approximations on the same graph.\n",
    "fig, ax = plt.subplots(figsize=(10, 7))\n",
    "\n",
    "# Plot the original function\n",
    "ax.plot(x, f, label=\"f(x)\")\n",
    "\n",
    "# Plot the polynomial approximations\n",
    "ax.plot(x, np.polyval(c3, x), label=\"Polynomial of degree 3\")\n",
    "ax.plot(x, np.polyval(c7, x), label=\"Polynomial of degree 7\")\n",
    "ax.plot(x, np.polyval(c15, x), label=\"Polynomial of degree 15\")\n",
    "ax.plot(x, np.polyval(c21, x), label=\"Polynomial of degree 21\")\n",
    "\n",
    "# Set the x and y axis limits\n",
    "ax.set_xlim([-5, 5])\n",
    "ax.set_ylim([0, 1])\n",
    "\n",
    "# Add a legend and a title\n",
    "ax.legend()\n",
    "ax.set_title(\"Polynomial Approximations of f(x) = 1/(1+x^2)\")\n",
    "\n",
    "# Show the plot\n",
    "plt.show()"
   ]
  }
 ],
 "metadata": {
  "kernelspec": {
   "display_name": "base",
   "language": "python",
   "name": "python3"
  },
  "language_info": {
   "codemirror_mode": {
    "name": "ipython",
    "version": 3
   },
   "file_extension": ".py",
   "mimetype": "text/x-python",
   "name": "python",
   "nbconvert_exporter": "python",
   "pygments_lexer": "ipython3",
   "version": "3.9.7"
  },
  "orig_nbformat": 4
 },
 "nbformat": 4,
 "nbformat_minor": 2
}
