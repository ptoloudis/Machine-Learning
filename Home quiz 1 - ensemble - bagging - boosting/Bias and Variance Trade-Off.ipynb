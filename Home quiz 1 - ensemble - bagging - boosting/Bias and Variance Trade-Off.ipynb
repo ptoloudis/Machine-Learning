{
 "cells": [
  {
   "cell_type": "markdown",
   "metadata": {},
   "source": [
    "# Variance, Bias, and Noise\n",
    "\n",
    "In machine learning algorithms, variance, bias, and noise are fundamental concepts that help understand and analyze the performance and behavior of models. Let's explore each of these terms:\n",
    "\n",
    "__Variance__: Variance refers to the amount of fluctuation or variability in the model's predictions when trained on different subsets of the training data. A high variance indicates that the model is highly sensitive to the training data and can overfit, meaning it may perform well on the training data but poorly on unseen data. High variance models tend to capture noise and random patterns in the training data, leading to reduced generalization performance.\n",
    "\n",
    "__Bias__: Bias represents the difference between the predicted values by the model and the true values in the target variable. A high bias implies that the model is overly simplified and unable to capture the true underlying patterns in the data. High bias models typically have low complexity and can underfit the data, meaning they may have poor performance both on the training data and unseen data.\n",
    "\n",
    "__Noise__: Noise refers to the inherent random variability or irreducible error in the data that cannot be explained or predicted by the model. It represents the random fluctuations in the target variable that are not influenced by the features. Noise is an inherent part of any real-world data and is unrelated to the model's bias or variance."
   ]
  },
  {
   "cell_type": "markdown",
   "metadata": {},
   "source": [
    "The relationship between these concepts can be visualized using the bias-variance tradeoff:\n",
    "![](https://cdn.mathpix.com/snip/images/rlaws70ubuapqEIsjOktT9n0MFAuIXDcUrMe57jNQ0M.original.fullsize.png)"
   ]
  },
  {
   "cell_type": "markdown",
   "metadata": {},
   "source": [
    "__Low Bias, High Variance__: Complex models with high flexibility tend to have low bias but high variance. They can capture intricate patterns and details in the training data but may struggle to generalize to new data due to the sensitivity to variations in the training set.\n",
    "\n",
    "__High Bias, Low Variance__: Simple models with low flexibility often have high bias but low variance. They make strong assumptions or have limited capacity, resulting in a simplified representation of the data. These models may underfit the training data and have limited predictive power.\n",
    "\n",
    "__Optimal Tradeoff__: The goal is to strike a balance between bias and variance, achieving an optimal tradeoff. This involves selecting a model that minimizes both bias and variance, leading to good generalization performance on unseen data.\n",
    "\n",
    "__Managing bias and variance tradeoff is crucial for model selection and training__. Techniques like `cross-validation`, `regularization`, and`ensemble methods` (e.g., __bagging, boosting__) can help mitigate bias and variance issues in different ways, aiming to improve the overall model performance by reducing overfitting or underfitting.\n",
    "\n",
    "Understanding the interplay between bias, variance, and noise provides insights into the strengths and weaknesses of machine learning models and guides the selection of appropriate algorithms and strategies for specific tasks and datasets."
   ]
  },
  {
   "cell_type": "markdown",
   "metadata": {},
   "source": [
    "![](https://cdn.mathpix.com/snip/images/huo4ENfBfqvPsMcrjyWCCr0xtFGEOK56ZQFLSZrzq5I.original.fullsize.png)"
   ]
  },
  {
   "cell_type": "markdown",
   "metadata": {},
   "source": [
    "\\begin{remark}\n",
    "\n",
    "In neural networks, the term \"bias\" has a different meaning depending on the context. Let's clarify the usage of \"bias\" in neural networks and its relationship to the term used for error in classification.\n",
    "\n",
    "__Bias in Neural Networks (Constant Term)__:\n",
    "In the context of neural networks, the term \"bias\" refers to a learnable constant term added to each neuron or unit in the network. It is an additional parameter that allows the neural network to shift the activation function, influencing the decision boundary or output of the neuron. The bias term helps the model account for any offset or deviation from the desired output.\n",
    "\n",
    "__Bias in Classification (Systematic Error)__:\n",
    "In the context of classification, the term \"bias\" refers to the systematic error or tendency of a classifier to consistently misclassify examples in a specific manner, as mentioned earlier. This bias reflects the discrepancy between the predicted values by the classifier and the true values in the target variable.\n",
    "\n",
    "\\end{remark}\n"
   ]
  },
  {
   "cell_type": "markdown",
   "metadata": {},
   "source": [
    "Bias-Variance Analysis in Regression\n",
    "---------------------------------------\n",
    "\n",
    "True function is \n",
    "\n",
    "$$\\mathrm{y}=\\mathrm{f}(\\mathrm{x})+\\varepsilon$$\n",
    "\n",
    "- where $\\varepsilon$ is normally distributed with zero mean and standard deviation $\\sigma$.\n",
    "\n",
    "Given a set of training examples, $\\left\\{\\left(x_{i}, y_{i}\\right)\\right\\},$ we fit an hypothesis $h(x)=w \\cdot x+b$ to the data to minimize the squared error\n",
    "$$\n",
    "\\Sigma_{i}\\left[y_{i}-h\\left(x_{i}\\right)\\right]^{2}\n",
    "$$"
   ]
  },
  {
   "cell_type": "markdown",
   "metadata": {},
   "source": [
    "Bias-Variance Analysis\n",
    "-----------------------\n",
    "\n",
    "Given a new data point $x^{*}$ (with observed value $\\left.\\mathrm{y}^{*}=\\mathrm{f}\\left(\\mathrm{x}^{*}\\right)+\\varepsilon\\right),$ we would\n",
    "like to understand the expected prediction error\n",
    "$$\n",
    "E\\left[\\left(y^{*}-h\\left(x^{\\star}\\right)\\right)^{2}\\right]\n",
    "$$\n",
    "\n"
   ]
  },
  {
   "cell_type": "markdown",
   "metadata": {},
   "source": [
    "Imagine that our particular training sample S is drawn from some population of possible training samples according to distribution $P(S)$\n",
    "\n",
    "Compute $$E_{P}\\left[\\left(y^{*}-h\\left(x^{*}\\right)\\right)^{2}\\right]$$\n",
    "\n",
    "Decompose this into \"bias\", \"variance\", and \"noise\""
   ]
  },
  {
   "cell_type": "markdown",
   "metadata": {},
   "source": [
    "$$\n",
    "\\begin{aligned}\n",
    "E\\left[\\left(h\\left(x^{*}\\right)-y^{*}\\right)^{2}\\right] &=\\\\\n",
    "=& E\\left[\\left(h\\left(x^{*}\\right)-\\bar{h}\\left(x^{*}\\right)\\right)^{2}\\right]+\\\\\n",
    "&\\left(\\bar{h}\\left(x^{*}\\right)-f\\left(x^{*}\\right)\\right)^{2}+\\\\\n",
    "& \\quad E\\left[\\left(y^{*}-f\\left(x^{*}\\right)\\right)^{2}\\right] \\\\\n",
    "=& \\operatorname{Var}\\left(h\\left(x^{*}\\right)\\right)+\\operatorname{Bias}\\left(h\\left(x^{*}\\right)\\right)^{2}+E\\left[\\varepsilon^{2}\\right] \\\\\n",
    "=& \\operatorname{Var}\\left(h\\left(x^{*}\\right)\\right)+\\operatorname{Bias}\\left(h\\left(x^{*}\\right)\\right)^{2}+\\sigma^{2}\n",
    "\\end{aligned}\n",
    "$$\n",
    "\n",
    "$$\n",
    "\\bar{h}(x)=\\frac{1}{M} \\sum_{i=1}^{M} h_{i}(x)\n",
    "$$\n",
    "\n",
    "**Expected prediction error = Variance $+$ Bias $^{2}+$ Noise $^{2}$**\n",
    "\n",
    "\\begin{definition}\n",
    "\n",
    "**Bias**: error term that tells you, on average, how much $\\mathrm{h}  \\neq \\mathrm{f}$. High Bias lead to underfitting\n",
    "\\end{definition}\n",
    "\n",
    "\\begin{definition}\n",
    "\n",
    "**Variance**: tells you how much $\\mathrm{h}$ is inconsistent over different training sets. High Variance lead to overfitting If we decrease Bias then Variance increase. Or Vice versa.\n",
    "\n",
    "\\end{definition}\n",
    "\n",
    "\\begin{definition}\n",
    "**Bias Variance Tradeoff**\n",
    "It is the problem  in trying to simultaneously minimize these two sources of error that prevent supervised learning algorithms from generalizing beyond their training set.\n",
    "\n",
    "\\end{definition}\n",
    "\n",
    "\n"
   ]
  },
  {
   "cell_type": "markdown",
   "metadata": {},
   "source": [
    "# Bias, Variance, and Noise\n",
    "\n",
    "- **Variance**: $E\\left[\\left(h\\left(x^{*}\\right)-\\bar{h}\\left(x^{*}\\right)\\right)^{2}\\right]$\n",
    "Describes how much $\\mathrm{h}\\left(\\mathrm{x}^{*}\\right)$ varies from one training set S to another\n",
    "\n",
    "- **Bias**: $\\left[\\bar {\\mathrm{h}}\\left(\\mathrm{x}^{*}\\right)-\\mathrm{f}\\left(\\mathrm{x}^{*}\\right)\\right]$\n",
    "Describes the average error of $h\\left(x^{\\star}\\right)$.\n",
    "\n",
    "- **Noise**: $E\\left[\\left(y^{*}-f\\left(x^{*}\\right)\\right)^{2}\\right]=E\\left[\\varepsilon^{2}\\right]=\\sigma^{2}$\n",
    "Describes how much $\\mathrm{y}^{*}$ varies from $\\mathrm{f}\\left(\\mathrm{x}^{\\star}\\right)$"
   ]
  },
  {
   "cell_type": "markdown",
   "metadata": {},
   "source": [
    "Training data generation\n",
    "------------------------\n",
    "\n",
    "First we will write a function to generate a random sample. The data generation model is the following:\n",
    "\n",
    "$$r(x) = f(x) + \\epsilon$$\n",
    "\n",
    "with $\\epsilon\\sim\\mathcal{N}(0,1)$"
   ]
  },
  {
   "cell_type": "code",
   "execution_count": 7,
   "metadata": {},
   "outputs": [
    {
     "data": {
      "text/plain": [
       "[<matplotlib.lines.Line2D at 0x18adf4ca4a8>]"
      ]
     },
     "execution_count": 7,
     "metadata": {},
     "output_type": "execute_result"
    },
    {
     "data": {
      "image/png": "[encoded data removed]",
      "text/plain": [
       "<Figure size 432x288 with 1 Axes>"
      ]
     },
     "metadata": {
      "needs_background": "light"
     },
     "output_type": "display_data"
    }
   ],
   "source": [
    "import numpy as np\n",
    "import pylab as pl\n",
    "\n",
    "def f(size):\n",
    "    '''\n",
    "    Returns a sample with 'size' instances without noise.\n",
    "    '''\n",
    "    x = np.linspace(0, 4.5, size)\n",
    "    y = 2 * np.sin(x * 1.5)\n",
    "    return (x,y)\n",
    "\n",
    "def sample(size):\n",
    "    '''\n",
    "    Returns a sample with 'size' instances.\n",
    "    '''\n",
    "    x = np.linspace(0, 4.5, size)\n",
    "    y = 2 * np.sin(x * 1.5) + pl.randn(x.size)\n",
    "    return (x,y)\n",
    "    \n",
    "pl.clf()\n",
    "f_x, f_y = f(50)\n",
    "pl.plot(f_x, f_y)"
   ]
  },
  {
   "cell_type": "code",
   "execution_count": 8,
   "metadata": {},
   "outputs": [
    {
     "data": {
      "text/plain": [
       "[<matplotlib.lines.Line2D at 0x18ae0596390>]"
      ]
     },
     "execution_count": 8,
     "metadata": {},
     "output_type": "execute_result"
    },
    {
     "data": {
      "image/png": "[encoded data removed]",
      "text/plain": [
       "<Figure size 432x288 with 1 Axes>"
      ]
     },
     "metadata": {
      "needs_background": "light"
     },
     "output_type": "display_data"
    }
   ],
   "source": [
    "x, y = sample(50)\n",
    "pl.plot(x, y, 'k.')"
   ]
  },
  {
   "cell_type": "code",
   "execution_count": 9,
   "metadata": {},
   "outputs": [
    {
     "data": {
      "text/plain": [
       "[<matplotlib.lines.Line2D at 0x18ae05b7400>]"
      ]
     },
     "execution_count": 9,
     "metadata": {},
     "output_type": "execute_result"
    },
    {
     "data": {
      "image/png": "[encoded data removed]",
      "text/plain": [
       "<Figure size 432x288 with 1 Axes>"
      ]
     },
     "metadata": {
      "needs_background": "light"
     },
     "output_type": "display_data"
    }
   ],
   "source": [
    "pl.clf()\n",
    "f_x, f_y = f(50)\n",
    "pl.plot(f_x, f_y)\n",
    "pl.plot(x, y, 'k.')"
   ]
  },
  {
   "cell_type": "markdown",
   "metadata": {},
   "source": [
    "Model fitting\n",
    "=============\n",
    "\n",
    "We will use least square regression (LSR) to fit a polynomial to the data. Actually, we will use multivariate linear regression, over a dataset built in the following way:\n",
    "\n",
    "For each sample $x_{i}$ we build a vector $(1 , x_{i} , x_{i}^{2} , \\dots , x_{i}^{n})$  and we use LSR to fit a function $g:\\mathbb{R}^{n+1}\\rightarrow\\mathbb{R}$ to the training data."
   ]
  },
  {
   "cell_type": "code",
   "execution_count": 8,
   "metadata": {},
   "outputs": [
    {
     "name": "stdout",
     "output_type": "stream",
     "text": [
      "[[ 1  1  1  1]\n",
      " [ 8  4  2  1]\n",
      " [27  9  3  1]]\n"
     ]
    }
   ],
   "source": [
    "# This illustrates how vander function works:\n",
    "x1 = np.array([1,2,3])\n",
    "print (np.vander(x1, 4))"
   ]
  },
  {
   "cell_type": "code",
   "execution_count": 3,
   "metadata": {},
   "outputs": [
    {
     "data": {
      "text/plain": [
       "[<matplotlib.lines.Line2D at 0x2efd86bfc50>]"
      ]
     },
     "execution_count": 3,
     "metadata": {},
     "output_type": "execute_result"
    },
    {
     "data": {
      "image/png": "[encoded data removed]",
      "text/plain": [
       "<Figure size 432x288 with 1 Axes>"
      ]
     },
     "metadata": {
      "needs_background": "light"
     },
     "output_type": "display_data"
    }
   ],
   "source": [
    "from sklearn.linear_model import LinearRegression\n",
    "\n",
    "def fit_polynomial(x, y, degree):\n",
    "    '''\n",
    "    Fits a polynomial to the input sample.\n",
    "    (x,y): input sample\n",
    "    degree: polynomial degree\n",
    "    '''\n",
    "    model = LinearRegression()\n",
    "    model.fit(np.vander(x, degree + 1), y)\n",
    "    return model\n",
    "\n",
    "def apply_polynomial(model, x):\n",
    "    '''\n",
    "    Evaluates a linear regression model in an input sample\n",
    "    model: linear regression model\n",
    "    x: input sample\n",
    "    '''\n",
    "    degree = model.coef_.size - 1\n",
    "    y = model.predict(np.vander(x, degree + 1))\n",
    "    return y\n",
    "\n",
    "model = fit_polynomial(x, y, 8)\n",
    "p_y = apply_polynomial(model, x)\n",
    "pl.plot(f_x, f_y)\n",
    "pl.plot(x, y, 'k.')\n",
    "pl.plot(x, p_y)"
   ]
  },
  {
   "cell_type": "markdown",
   "metadata": {},
   "source": [
    "Model averaging\n",
    "---------------\n",
    "\n",
    "The following code generates a set of samples of the same size and fits a poynomial to each sample. Then the average model is calculated. All the models, including the average model, are plotted."
   ]
  },
  {
   "cell_type": "code",
   "execution_count": 5,
   "metadata": {},
   "outputs": [
    {
     "data": {
      "text/plain": [
       "[<matplotlib.lines.Line2D at 0x2efd9e784a8>]"
      ]
     },
     "execution_count": 5,
     "metadata": {},
     "output_type": "execute_result"
    },
    {
     "data": {
      "image/png": "[encoded data removed]",
      "text/plain": [
       "<Figure size 432x288 with 1 Axes>"
      ]
     },
     "metadata": {
      "needs_background": "light"
     },
     "output_type": "display_data"
    }
   ],
   "source": [
    "degree = 4\n",
    "n_samples = 20\n",
    "n_models = 5\n",
    "avg_y = np.zeros(n_samples)\n",
    "for i in range(n_models):\n",
    "    (x,y) = sample(n_samples)\n",
    "    model = fit_polynomial(x, y, degree)\n",
    "    p_y = apply_polynomial(model, x)\n",
    "    avg_y = avg_y + p_y\n",
    "    pl.plot(x, p_y, 'k-')\n",
    "avg_y = avg_y / n_models\n",
    "pl.plot(x, avg_y, 'b--')"
   ]
  },
  {
   "cell_type": "markdown",
   "metadata": {},
   "source": [
    "Calculating bias and variance\n",
    "-----------------------------\n",
    "\n",
    "Same as previous example, we generate several samples and fit a polynomial to each one. We calculate bias and variance among models for different polynomial degrees. Bias, variance and error are plotted against different degree values."
   ]
  },
  {
   "cell_type": "code",
   "execution_count": 7,
   "metadata": {},
   "outputs": [
    {
     "data": {
      "text/plain": [
       "<matplotlib.legend.Legend at 0x2efd9ef3550>"
      ]
     },
     "execution_count": 7,
     "metadata": {},
     "output_type": "execute_result"
    },
    {
     "data": {
      "image/png": "[encoded data removed]",
      "text/plain": [
       "<Figure size 432x288 with 1 Axes>"
      ]
     },
     "metadata": {
      "needs_background": "light"
     },
     "output_type": "display_data"
    }
   ],
   "source": [
    "from numpy.linalg import norm\n",
    "n_samples = 20\n",
    "f_x, f_y = f(n_samples)\n",
    "n_models = 100\n",
    "max_degree = 15\n",
    "var_vals =[]\n",
    "bias_vals = []\n",
    "error_vals = []\n",
    "for degree in range(1, max_degree):\n",
    "    avg_y = np.zeros(n_samples)\n",
    "    models = []\n",
    "    for i in range(n_models):\n",
    "        (x,y) = sample(n_samples)\n",
    "        model = fit_polynomial(x, y, degree)\n",
    "        p_y = apply_polynomial(model, x)\n",
    "        avg_y = avg_y + p_y\n",
    "        models.append(p_y)\n",
    "    avg_y = avg_y / n_models\n",
    "    bias_2 = norm(avg_y - f_y)/f_y.size\n",
    "    bias_vals.append(bias_2)\n",
    "    variance = 0\n",
    "    for p_y in models:\n",
    "        variance += norm(avg_y - p_y)\n",
    "    variance /= f_y.size * n_models\n",
    "    var_vals.append(variance)\n",
    "    error_vals.append(variance + bias_2)\n",
    "pl.plot(range(1, max_degree), bias_vals, label='bias')\n",
    "pl.plot(range(1, max_degree), var_vals, label='variance')\n",
    "pl.plot(range(1, max_degree), error_vals, label='error')\n",
    "pl.legend()"
   ]
  },
  {
   "cell_type": "markdown",
   "metadata": {},
   "source": [
    "Cross Validation\n",
    "----------------\n",
    "\n",
    "Since in a real setup we don't have access to the real $f$ function. We cannot exactly calculate the error, however we can approximate it using cross validation. We generate from samples, a training sample and a validation sample. The validation sample is use to calculate an estimation of the error."
   ]
  },
  {
   "cell_type": "code",
   "execution_count": 10,
   "metadata": {},
   "outputs": [
    {
     "data": {
      "text/plain": [
       "<matplotlib.legend.Legend at 0x107b98250>"
      ]
     },
     "execution_count": 10,
     "metadata": {},
     "output_type": "execute_result"
    },
    {
     "data": {
      "image/png": "[encoded data removed]"
     },
     "metadata": {},
     "output_type": "display_data"
    }
   ],
   "source": [
    "n_samples = 20\n",
    "# train sample\n",
    "train_x, train_y = sample(n_samples)\n",
    "# validation sample\n",
    "test_x, test_y = sample(n_samples)\n",
    "max_degree = 20\n",
    "test_error_vals = []\n",
    "train_error_vals = []\n",
    "for degree in xrange(1, max_degree):\n",
    "    model = fit_polynomial(train_x, train_y, degree)\n",
    "    p_y = apply_polynomial(model, train_x)\n",
    "    train_error_vals.append(pl.norm(train_y - p_y)**2)\n",
    "    p_y = apply_polynomial(model, test_x)\n",
    "    test_error_vals.append(pl.norm(test_y - p_y)**2)\n",
    "pl.plot(range(1, max_degree), test_error_vals, label='test error')\n",
    "pl.plot(range(1, max_degree), train_error_vals, label='train error')\n",
    "pl.legend()"
   ]
  },
  {
   "cell_type": "markdown",
   "metadata": {},
   "source": [
    "__Cross-validation__ is a resampling technique used in machine learning to assess the performance and generalization capability of a model. It involves partitioning the available data into multiple subsets, training and evaluating the model on different combinations of these subsets, and then aggregating the performance metrics to obtain a more reliable estimate of the model's performance.\n",
    "\n",
    "The main idea behind cross-validation is to simulate the model's performance on unseen data by using different subsets of the available data for training and evaluation. This allows for a more robust assessment of the model's performance and helps in mitigating issues such as overfitting or bias in performance estimation.\n",
    "\n",
    "The most common form of cross-validation is __k-fold cross-validation__, which can be summarized as follows:\n",
    "\n",
    ">The available data is divided into k equally sized subsets or \"folds\".\n",
    "The model is trained and evaluated k times. In each iteration, one fold is used as the validation set, and the remaining k-1 folds are used for training.\n",
    "The performance metric (e.g., accuracy, mean squared error) is calculated for each iteration.\n",
    "The performance metrics from the k iterations are then averaged to obtain an overall performance estimate for the model.\n",
    "The advantage of cross-validation is that it provides a more reliable estimate of a model's performance, as it utilizes the entire dataset for both training and evaluation. It helps in assessing the model's ability to generalize to new, unseen data.\n",
    "\n",
    "Some common variations of cross-validation include:\n",
    "\n",
    "Stratified k-fold cross-validation: Ensures that each fold has a similar distribution of target classes, which is useful for imbalanced datasets.\n",
    "Leave-one-out cross-validation: Uses a single data point as the validation set and the remaining data for training. This is computationally expensive but can provide an unbiased estimate for small datasets.\n",
    "Shuffle-split cross-validation: Performs random splits of the data into training and validation sets, allowing more flexibility in the trade-off between training size and validation size.\n",
    "Cross-validation is a valuable tool in model evaluation and selection. It helps in choosing the best model hyperparameters, comparing different models, and assessing the generalization performance before deploying the model to new data.\n",
    "\n"
   ]
  },
  {
   "cell_type": "markdown",
   "metadata": {},
   "source": [
    "Regularization\n",
    "--------------\n",
    "\n",
    "Another way to deal with the model complexity is using regularization. A regularizer is a term that penalizes the model complexity and is part of the loss function. The next portion of code shows how the norm of the coefficients of the linear regression model increased when the complexity of the model (polynomial degree) increases."
   ]
  },
  {
   "cell_type": "code",
   "execution_count": 11,
   "metadata": {},
   "outputs": [
    {
     "data": {
      "text/plain": [
       "<matplotlib.legend.Legend at 0x1079d6b10>"
      ]
     },
     "execution_count": 11,
     "metadata": {},
     "output_type": "execute_result"
    },
    {
     "data": {
      "image/png": "[encoded data removed]"
     },
     "metadata": {},
     "output_type": "display_data"
    }
   ],
   "source": [
    "n_samples = 20\n",
    "train_x, train_y = sample(n_samples)\n",
    "max_degree = 9\n",
    "w_norm = []\n",
    "for degree in xrange(1, max_degree):\n",
    "    model = fit_polynomial(train_x, train_y, degree)\n",
    "    w_norm.append(pl.norm(model.coef_))\n",
    "pl.plot(range(1, max_degree), w_norm, label='||w||')\n",
    "pl.legend()"
   ]
  },
  {
   "cell_type": "markdown",
   "metadata": {},
   "source": [
    "The above result suggests that we can control the complexity by penalizing the norm of the model's weights, $||w||$. This idea is implemented by the *Ridge Regression* method.\n",
    "\n",
    "### Ridge regression ###\n",
    "\n",
    "Ridge regression finds a regression model by minimizing the following loss function:\n",
    "\n",
    "$$ \\min_{W}\\left\\Vert WX-Y\\right\\Vert ^{2}+\\alpha\\left\\Vert W\\right\\Vert ^{2} $$\n",
    "\n",
    "where $X$ and $Y$ are the input matrix and the output vector respectively. The parameter $\\alpha$ controls the amount of regularization. You can find more information in the documentation of [scikit-learn ridge regresion implementation](http://scikit-learn.org/stable/modules/linear_model.html#ridge-regression). \n",
    "\n",
    "\n",
    "#### Exercise ####\n",
    "\n",
    "Repeat the cross validation experiment using ridge regression. Use a fixed polynomial degree (e.g. 10) and vary the $\\alpha$ parameter.\n",
    "\n",
    "___________________\n",
    "\n",
    "<h2 id=\"biblio\"> References </h2>\n",
    "\n",
    "* [Alpaydin10] Alpaydin, E. 2010 [Introduction to Machine Learning][alp10], 2Ed. The MIT Press.\n",
    "\n",
    "[alp10]: http://www.cmpe.boun.edu.tr/~ethem/i2ml2e/\n"
   ]
  },
  {
   "cell_type": "markdown",
   "metadata": {},
   "source": [
    "# Regression Decision Tree"
   ]
  },
  {
   "cell_type": "code",
   "execution_count": 1,
   "metadata": {},
   "outputs": [
    {
     "name": "stdout",
     "output_type": "stream",
     "text": [
      "High Variance Decision Tree - MSE: 22.18254901960784\n",
      "Low Variance Decision Tree - MSE: 46.91780325106487\n"
     ]
    }
   ],
   "source": [
    "from sklearn.datasets import load_boston\n",
    "from sklearn.model_selection import train_test_split\n",
    "from sklearn.tree import DecisionTreeRegressor\n",
    "from sklearn.metrics import mean_squared_error\n",
    "\n",
    "# Load the Boston Housing dataset\n",
    "boston = load_boston()\n",
    "X_train, X_test, y_train, y_test = train_test_split(boston.data, boston.target, test_size=0.2, random_state=42)\n",
    "\n",
    "# Training a Decision Tree with low bias and high variance\n",
    "high_var_tree = DecisionTreeRegressor(max_depth=None)\n",
    "high_var_tree.fit(X_train, y_train)\n",
    "y_pred_high_var = high_var_tree.predict(X_test)\n",
    "mse_high_var = mean_squared_error(y_test, y_pred_high_var)\n",
    "print(\"High Variance Decision Tree - MSE:\", mse_high_var)\n",
    "\n",
    "# Training a Decision Tree with high bias and low variance\n",
    "low_var_tree = DecisionTreeRegressor(max_depth=1)\n",
    "low_var_tree.fit(X_train, y_train)\n",
    "y_pred_low_var = low_var_tree.predict(X_test)\n",
    "mse_low_var = mean_squared_error(y_test, y_pred_low_var)\n",
    "print(\"Low Variance Decision Tree - MSE:\", mse_low_var)\n"
   ]
  },
  {
   "cell_type": "markdown",
   "metadata": {},
   "source": [
    "The __high_var_tree__ represents a decision tree with low bias and high variance. It is trained without imposing any maximum depth, allowing the tree to grow to its maximum complexity. This decision tree can capture intricate patterns in the training data but may overfit and have higher variance, leading to potential performance issues on unseen data.\n",
    "\n",
    "The __low_var_tree__ represents a decision tree with high bias and low variance. It is trained with a maximum depth of 1, limiting the complexity of the tree. This decision tree is simpler and less prone to overfitting, but it may have higher bias and struggle to capture complex relationships in the data.\n",
    "\n",
    "We evaluate the models by predicting the target variable on the test set and calculating the mean squared error (MSE) as the performance metric. The MSE quantifies the difference between the predicted values and the true values, with lower values indicating better performance.\n",
    "\n",
    "By comparing the MSE values of the two decision trees, you can observe the tradeoff between bias and variance. The high_var_tree may have a lower MSE on the training data due to its ability to capture complex patterns, but it is likely to have a higher MSE on the test data, indicating higher variance and potential overfitting. \n",
    "\n",
    "On the other hand, the low_var_tree may have a higher MSE on the training data due to its simplified representation, but it may exhibit lower variance and potentially better generalization performance on unseen data.\n"
   ]
  },
  {
   "cell_type": "markdown",
   "metadata": {},
   "source": [
    "\\begin{definition}\n",
    "__Bootstraping__ is a __resampling__ technique used to estimate the sampling distribution of a statistic or to assess the uncertainty associated with a sample. It involves creating multiple bootstrap samples by randomly sampling with replacement from the original dataset. Each bootstrap sample has the same size as the original dataset but is created by drawing samples from it with replacement.\n",
    "\n",
    "\\end{definition}\n"
   ]
  },
  {
   "cell_type": "code",
   "execution_count": 6,
   "metadata": {},
   "outputs": [
    {
     "name": "stdout",
     "output_type": "stream",
     "text": [
      "Variance for High Variance Tree: 12.602682921568626\n",
      "Variance for Low Variance Tree: 10.940639838469812\n"
     ]
    }
   ],
   "source": [
    "import numpy as np\n",
    "\n",
    "# Number of bootstrap iterations\n",
    "n_iterations = 100\n",
    "\n",
    "# Arrays to store predictions\n",
    "predictions_high_var = np.zeros((n_iterations, len(y_test)))\n",
    "predictions_low_var = np.zeros((n_iterations, len(y_test)))\n",
    "\n",
    "# Bootstrap sampling and model predictions for high variance tree\n",
    "for i in range(n_iterations):\n",
    "    indices = np.random.choice(len(X_train), size=len(X_train), replace=True)\n",
    "    X_bootstrap = X_train[indices]\n",
    "    y_bootstrap = y_train[indices]\n",
    "    high_var_tree.fit(X_bootstrap, y_bootstrap)\n",
    "    predictions_high_var[i] = high_var_tree.predict(X_test)\n",
    "\n",
    "# Bootstrap sampling and model predictions for low variance tree\n",
    "for i in range(n_iterations):\n",
    "    indices = np.random.choice(len(X_train), size=len(X_train), replace=True)\n",
    "    X_bootstrap = X_train[indices]\n",
    "    y_bootstrap = y_train[indices]\n",
    "    low_var_tree.fit(X_bootstrap, y_bootstrap)\n",
    "    predictions_low_var[i] = low_var_tree.predict(X_test)\n",
    "\n",
    "# Variance calculation\n",
    "variance_high_var = np.var(predictions_high_var, axis=0)\n",
    "variance_low_var = np.var(predictions_low_var, axis=0)\n",
    "\n",
    "# Print the variances\n",
    "print(\"Variance for High Variance Tree:\", np.mean(variance_high_var))\n",
    "print(\"Variance for Low Variance Tree:\", np.mean(variance_low_var))\n"
   ]
  },
  {
   "cell_type": "markdown",
   "metadata": {},
   "source": [
    "# Decomposition of Expected Test Error in Decision Tree\n",
    "$$\n",
    "\\begin{aligned}\n",
    "E_{\\mathbf{x}, y, D}\\left[\\left[h_D(\\mathbf{x})-y\\right]^2\\right] & =E_{\\mathbf{x}, y, D}\\left[\\left[\\left(h_D(\\mathbf{x})-\\bar{h}(\\mathbf{x})\\right)+(\\bar{h}(\\mathbf{x})-y)\\right]^2\\right] \\\\\n",
    "& =E_{\\mathbf{x}, D}\\left[\\left(\\bar{h}_D(\\mathbf{x})-\\bar{h}(\\mathbf{x})\\right)^2\\right]+2 E_{\\mathbf{x}, y, D}\\left[\\left(h_D(\\mathbf{x})-\\bar{h}(\\mathbf{x})\\right)(\\bar{h}(\\mathbf{x})-y)\\right]+E_{\\mathbf{x}, y}\\left[(\\bar{h}(\\mathbf{x})-y)^2\\right]\n",
    "\\end{aligned}\n",
    "$$\n",
    "The middle term of the above equation is 0 as we show below\n",
    "$$\n",
    "\\begin{aligned}\n",
    "E_{\\mathbf{x}, y, D}\\left[\\left(h_D(\\mathbf{x})-\\bar{h}(\\mathbf{x})\\right)(\\bar{h}(\\mathbf{x})-y)\\right] & =E_{\\mathbf{x}, y}\\left[E_D\\left[h_D(\\mathbf{x})-\\bar{h}(\\mathbf{x})\\right](\\bar{h}(\\mathbf{x})-y)\\right] \\\\\n",
    "& =E_{\\mathbf{x}, y}\\left[\\left(E_D\\left[h_D(\\mathbf{x})\\right]-\\bar{h}(\\mathbf{x})\\right)(\\bar{h}(\\mathbf{x})-y)\\right] \\\\\n",
    "& =E_{\\mathbf{x}, y}[(\\bar{h}(\\mathbf{x})-\\bar{h}(\\mathbf{x}))(\\bar{h}(\\mathbf{x})-y)] \\\\\n",
    "& =E_{\\mathbf{x}, y}[0] \\\\\n",
    "& =0\n",
    "\\end{aligned}\n",
    "$$\n",
    "Returning to the earlier expression, we're left with the variance and another term\n",
    "$$\n",
    "E_{\\mathbf{x}, y, D}\\left[\\left(h_D(\\mathbf{x})-y\\right)^2\\right]=\\underbrace{E_{\\mathbf{x}, D}\\left[\\left(h_D(\\mathbf{x})-\\bar{h}(\\mathbf{x})\\right)^2\\right]}_{\\text {Variance }}+E_{\\mathbf{x}, y}\\left[(\\bar{h}(\\mathbf{x})-y)^2\\right]\n",
    "$$\n",
    "We can break down the second term in the above equation as follows:\n",
    "$$\n",
    "\\begin{aligned}\n",
    "E_{\\mathbf{x}, y}\\left[(\\bar{h}(\\mathbf{x})-y)^2\\right] & =E_{\\mathbf{x}, y}\\left[(\\bar{h}(\\mathbf{x})-\\bar{y}(\\mathbf{x}))+(\\bar{y}(\\mathbf{x})-y)^2\\right] \\\\\n",
    "& =\\underbrace{E_{\\mathbf{x}, y}\\left[(\\bar{y}(\\mathbf{x})-y)^2\\right]}_{\\text {Noise }}+\\underbrace{E_{\\mathbf{x}}\\left[(\\bar{h}(\\mathbf{x})-\\bar{y}(\\mathbf{x}))^2\\right]}_{\\text {Bias }^2}+2 E_{\\mathbf{x}, y}[(\\bar{h}(\\mathbf{x})-\\bar{y}(\\mathbf{x}))(\\bar{y}(\\mathbf{x})-y)]\n",
    "\\end{aligned}\n",
    "$$"
   ]
  },
  {
   "cell_type": "markdown",
   "metadata": {},
   "source": [
    "This gives us the decomposition of expected test error as follows\n",
    "$$\n",
    "\\underbrace{E_{\\mathbf{x}, y, D}\\left[\\left(h_D(\\mathbf{x})-y\\right)^2\\right]}_{\\text {Expected Test Error }}=\\underbrace{E_{\\mathbf{x}, D}\\left[\\left(h_D(\\mathbf{x})-\\bar{h}(\\mathbf{x})\\right)^2\\right]}_{\\text {Variance }}+\\underbrace{E_{\\mathbf{x}, y}\\left[(\\bar{y}(\\mathbf{x})-y)^2\\right]}_{\\text {Noise }}+\\underbrace{E_{\\mathbf{x}}\\left[(\\bar{h}(\\mathbf{x})-\\bar{y}(\\mathbf{x}))^2\\right]}_{\\text {Bias }^2}\n",
    "$$\n",
    "Variance: Captures how much your classifier changes if you train on a different training set. How \"overspecialized\" is your classifier to a particular training set (overfitting)? If we have the best possible model for our training data, how far off are we from the average classifier?\n",
    "\n",
    "Bias: What is the inherent error that you obtain from your classifier even with infinite training data? This is due to your classifier being \"biased\" to a particular kind of solution (e.g. linear classifier). In other words, bias is inherent to your model.\n",
    "Noise: How big is the data-intrinsic noise? This error measures ambiguity due to your data distribution and feature representation. You can never beat this, it is an aspect of the data."
   ]
  },
  {
   "cell_type": "markdown",
   "metadata": {},
   "source": [
    "![](https://cdn.mathpix.com/snip/images/rlaws70ubuapqEIsjOktT9n0MFAuIXDcUrMe57jNQ0M.original.fullsize.png)"
   ]
  },
  {
   "cell_type": "markdown",
   "metadata": {},
   "source": [
    "![](https://cdn.mathpix.com/snip/images/huo4ENfBfqvPsMcrjyWCCr0xtFGEOK56ZQFLSZrzq5I.original.fullsize.png)\n"
   ]
  }
 ],
 "metadata": {
  "kernelspec": {
   "display_name": "Python 3",
   "language": "python",
   "name": "python3"
  },
  "language_info": {
   "codemirror_mode": {
    "name": "ipython",
    "version": 3
   },
   "file_extension": ".py",
   "mimetype": "text/x-python",
   "name": "python",
   "nbconvert_exporter": "python",
   "pygments_lexer": "ipython3",
   "version": "3.6.13"
  },
  "latex_envs": {
   "LaTeX_envs_menu_present": true,
   "autoclose": false,
   "autocomplete": true,
   "bibliofile": "biblio.bib",
   "cite_by": "apalike",
   "current_citInitial": 1,
   "eqLabelWithNumbers": true,
   "eqNumInitial": 1,
   "hotkeys": {
    "equation": "Ctrl-E",
    "itemize": "Ctrl-I"
   },
   "labels_anchors": false,
   "latex_user_defs": false,
   "report_style_numbering": false,
   "user_envs_cfg": false
  },
  "nbTranslate": {
   "displayLangs": [
    "*"
   ],
   "hotkey": "alt-t",
   "langInMainMenu": true,
   "sourceLang": "en",
   "targetLang": "fr",
   "useGoogleTranslate": true
  },
  "toc": {
   "base_numbering": 1,
   "nav_menu": {},
   "number_sections": true,
   "sideBar": true,
   "skip_h1_title": false,
   "title_cell": "Table of Contents",
   "title_sidebar": "Contents",
   "toc_cell": false,
   "toc_position": {},
   "toc_section_display": true,
   "toc_window_display": false
  },
  "varInspector": {
   "cols": {
    "lenName": 16,
    "lenType": 16,
    "lenVar": 40
   },
   "kernels_config": {
    "python": {
     "delete_cmd_postfix": "",
     "delete_cmd_prefix": "del ",
     "library": "var_list.py",
     "varRefreshCmd": "print(var_dic_list())"
    },
    "r": {
     "delete_cmd_postfix": ") ",
     "delete_cmd_prefix": "rm(",
     "library": "var_list.r",
     "varRefreshCmd": "cat(var_dic_list()) "
    }
   },
   "types_to_exclude": [
    "module",
    "function",
    "builtin_function_or_method",
    "instance",
    "_Feature"
   ],
   "window_display": false
  }
 },
 "nbformat": 4,
 "nbformat_minor": 1
}
