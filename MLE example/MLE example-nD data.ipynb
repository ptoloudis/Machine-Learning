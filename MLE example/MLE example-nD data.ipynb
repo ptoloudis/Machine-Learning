{
 "cells": [
  {
   "cell_type": "code",
   "execution_count": 1,
   "id": "580d5d70",
   "metadata": {},
   "outputs": [],
   "source": [
    "import numpy as np\n",
    "import matplotlib.pyplot as plt\n",
    "from scipy.optimize import minimize\n",
    "import math"
   ]
  },
  {
   "cell_type": "code",
   "execution_count": 2,
   "id": "37963099",
   "metadata": {
    "vscode": {
     "languageId": "latex"
    }
   },
   "outputs": [
    {
     "data": {
      "text/latex": [
       "\\begin{enumerate}\n",
       "\\item Define the function that you want to fit to the data.\n",
       "\\item Modify the  variable to the number of parameters in your function.nvar\n",
       "\\item Update the  variable to contain the initial guess for the parameter values.var\n",
       "\\item Modify the  function to use your function and calculate the likelihood of the predicted values given the actual values.myFunction()\n",
       "\\item Run the  function with your updated function and parameters.minimize()\n",
       "\\end{enumerate}\n"
      ],
      "text/plain": [
       "<IPython.core.display.Latex object>"
      ]
     },
     "metadata": {},
     "output_type": "display_data"
    }
   ],
   "source": [
    "%%latex\n",
    "\\begin{enumerate}\n",
    "\\item Define the function that you want to fit to the data.\n",
    "\\item Modify the  variable to the number of parameters in your function.nvar\n",
    "\\item Update the  variable to contain the initial guess for the parameter values.var\n",
    "\\item Modify the  function to use your function and calculate the likelihood of the predicted values given the actual values.myFunction()\n",
    "\\item Run the  function with your updated function and parameters.minimize()\n",
    "\\end{enumerate}"
   ]
  },
  {
   "cell_type": "code",
   "execution_count": 3,
   "id": "73516deb",
   "metadata": {},
   "outputs": [],
   "source": [
    "# Define the f function\n",
    "def f(x, a, b, c):\n",
    "    return a * np.sin(b * x + c)"
   ]
  },
  {
   "cell_type": "code",
   "execution_count": 4,
   "id": "9700ed5a",
   "metadata": {},
   "outputs": [
    {
     "data": {
      "text/plain": [
       "<matplotlib.collections.PathCollection at 0x22e70c57f28>"
      ]
     },
     "execution_count": 4,
     "metadata": {},
     "output_type": "execute_result"
    },
    {
     "data": {
      "image/png": "[encoded data removed]",
      "text/plain": [
       "<Figure size 432x288 with 1 Axes>"
      ]
     },
     "metadata": {
      "needs_background": "light"
     },
     "output_type": "display_data"
    }
   ],
   "source": [
    "# Generate noisy data from the f function\n",
    "x = np.linspace(0.0, 10.0, num=100)\n",
    "a = 4.0\n",
    "b = 1.5\n",
    "c = 0.0\n",
    "y = f(x, a, b, c)\n",
    "noise = np.random.normal(0, 1., 100)\n",
    "y = y + noise\n",
    "# Plot the noisy data\n",
    "plt.scatter(x, y)"
   ]
  },
  {
   "cell_type": "code",
   "execution_count": 5,
   "id": "93689ccd",
   "metadata": {},
   "outputs": [],
   "source": [
    "# Define the log-likelihood function\n",
    "def calcLogLikelihood(guess, true, n):\n",
    "    error = true - guess\n",
    "    sigma = np.std(error)\n",
    "    f = ((1.0 / (2.0 * math.pi * sigma * sigma)) ** (n / 2)) * \\\n",
    "        np.exp(-1 * ((np.dot(error.T, error)) / (2 * sigma * sigma)))\n",
    "    return np.log(f)"
   ]
  },
  {
   "cell_type": "code",
   "execution_count": 6,
   "id": "ac47e774",
   "metadata": {},
   "outputs": [],
   "source": [
    "#   define my function which will return the objective function to be minimized\n",
    "import math\n",
    "def myFunction(var):\n",
    "    #   load my  data\n",
    "    #[x, y] = np.load('myData.npy')\n",
    "    yGuess = f(x, var[0], var[1], var[2])\n",
    "    fx = calcLogLikelihood(yGuess, y, float(len(yGuess)))\n",
    "    return (-1*fx)"
   ]
  },
  {
   "cell_type": "code",
   "execution_count": 7,
   "id": "2ecf52e8",
   "metadata": {},
   "outputs": [
    {
     "name": "stdout",
     "output_type": "stream",
     "text": [
      "Optimization terminated successfully.\n",
      "         Current function value: 251.610053\n",
      "         Iterations: 169\n",
      "         Function evaluations: 940\n",
      "         Gradient evaluations: 235\n"
     ]
    },
    {
     "data": {
      "text/plain": [
       "      fun: 251.6100532363487\n",
       " hess_inv: array([[ 2.54126820e+02, -9.49490732e-04, -4.59308410e-03],\n",
       "       [-9.49490732e-04,  5.66964892e-06, -2.49923547e-05],\n",
       "       [-4.59308410e-03, -2.49923547e-05,  1.85140756e-04]])\n",
       "      jac: array([-1.90734863e-06,  3.81469727e-06, -5.72204590e-06])\n",
       "  message: 'Optimization terminated successfully.'\n",
       "     nfev: 940\n",
       "      nit: 169\n",
       "     njev: 235\n",
       "   status: 0\n",
       "  success: True\n",
       "        x: array([3.42575601e+01, 1.25595848e-03, 5.34009032e-03])"
      ]
     },
     "execution_count": 7,
     "metadata": {},
     "output_type": "execute_result"
    }
   ],
   "source": [
    "# Set the initial guess for the parameters\n",
    "nvar = 3\n",
    "var = np.zeros(nvar)\n",
    "var[0] = 1.0\n",
    "var[1] = 1.0\n",
    "var[2] = 0.0\n",
    "\n",
    "# Run the optimization\n",
    "res = minimize(myFunction, var, method='BFGS', options={'disp': True})\n",
    "res"
   ]
  },
  {
   "cell_type": "code",
   "execution_count": 8,
   "id": "0551199b",
   "metadata": {},
   "outputs": [
    {
     "data": {
      "text/plain": [
       "array([ 2.56325835, -1.39976831,  0.14428073])"
      ]
     },
     "execution_count": 8,
     "metadata": {},
     "output_type": "execute_result"
    }
   ],
   "source": [
    "#   perform least squares fit using scikitlearn\n",
    "from sklearn.preprocessing import PolynomialFeatures\n",
    "from sklearn.linear_model import LinearRegression\n",
    "from sklearn.pipeline import Pipeline\n",
    "model = Pipeline([('poly', PolynomialFeatures(degree=2)),\n",
    "    ('linear', LinearRegression(fit_intercept=False))])\n",
    "\n",
    "model = model.fit(x.reshape(-1,1),y)\n",
    "coefs = model.named_steps['linear'].coef_\n",
    "coefs"
   ]
  },
  {
   "cell_type": "code",
   "execution_count": 9,
   "id": "eac7b305",
   "metadata": {},
   "outputs": [
    {
     "data": {
      "image/png": "[encoded data removed]",
      "text/plain": [
       "<Figure size 432x288 with 1 Axes>"
      ]
     },
     "metadata": {
      "needs_background": "light"
     },
     "output_type": "display_data"
    }
   ],
   "source": [
    "#   plot the data and model fits\n",
    "plt.figure()\n",
    "plt.plot(x,y, 'ok')\n",
    "plt.plot(x,model.predict(x[:,np.newaxis]), '-r', label='Least Squares')\n",
    "plt.plot(x,f(x, var[0], var[1], var[2]), '--b', label='Max Likelihood')\n",
    "plt.grid(True)\n",
    "plt.legend(loc=2)\n",
    "plt.show()\n"
   ]
  },
  {
   "cell_type": "code",
   "execution_count": 16,
   "id": "2d4e44b0",
   "metadata": {},
   "outputs": [],
   "source": [
    "# Using Autograd to calculate gradients for OLS\n",
    "from random import random, seed\n",
    "import numpy as np\n",
    "import autograd.numpy as np\n",
    "import matplotlib.pyplot as plt\n",
    "from autograd import grad\n",
    "\n",
    "def CostOLS(beta):\n",
    "    return (1.0/n)*np.sum((y-X @ beta)**2)\n",
    "\n",
    "n = 100\n",
    "xx = np.power(x,2)\n",
    "\n",
    "X = np.c_[np.ones((n,1)), x, xx]\n"
   ]
  },
  {
   "cell_type": "markdown",
   "id": "6ae4f216",
   "metadata": {},
   "source": [
    "# OLS"
   ]
  },
  {
   "cell_type": "code",
   "execution_count": 17,
   "id": "0c1cbe9d",
   "metadata": {},
   "outputs": [
    {
     "name": "stdout",
     "output_type": "stream",
     "text": [
      "Own inversion\n",
      "[[ 2.56325835]\n",
      " [-1.39976831]\n",
      " [ 0.14428073]]\n",
      "Eigenvalues of Hessian Matrix:[4.12466600e+03 1.98055138e-01 4.81270845e+00]\n"
     ]
    }
   ],
   "source": [
    "XT_X = X.T @ X\n",
    "theta_linreg = np.linalg.pinv(XT_X) @ (X.T @ y)\n",
    "print(\"Own inversion\")\n",
    "print(theta_linreg)\n",
    "# Hessian matrix\n",
    "H = (2.0/n)* XT_X\n",
    "EigValues, EigVectors = np.linalg.eig(H)\n",
    "print(f\"Eigenvalues of Hessian Matrix:{EigValues}\")"
   ]
  },
  {
   "cell_type": "markdown",
   "id": "9032b8b2",
   "metadata": {},
   "source": [
    "# Gradient with autograd"
   ]
  },
  {
   "cell_type": "code",
   "execution_count": 18,
   "id": "748f41fd",
   "metadata": {},
   "outputs": [
    {
     "name": "stdout",
     "output_type": "stream",
     "text": [
      "(100, 3) (100, 1)\n"
     ]
    }
   ],
   "source": [
    "y = y.reshape(-1,1)\n",
    "print(X.shape,y.shape)"
   ]
  },
  {
   "cell_type": "code",
   "execution_count": 19,
   "id": "158abad0",
   "metadata": {},
   "outputs": [],
   "source": [
    "theta = np.random.randn(3,1)\n",
    "eta = 1.0/np.max(EigValues)\n",
    "Niterations = 100000\n",
    "# define the gradient\n",
    "training_gradient = grad(CostOLS)"
   ]
  },
  {
   "cell_type": "code",
   "execution_count": 20,
   "id": "cfc41f45",
   "metadata": {},
   "outputs": [
    {
     "name": "stdout",
     "output_type": "stream",
     "text": [
      "theta from own gd\n",
      "[[ 2.53989003]\n",
      " [-1.39000149]\n",
      " [ 0.14345152]]\n"
     ]
    }
   ],
   "source": [
    "for iter in range(Niterations):\n",
    "    gradients = training_gradient(theta)\n",
    "    theta -= eta*gradients\n",
    "print(\"theta from own gd\")\n",
    "print(theta)"
   ]
  },
  {
   "cell_type": "code",
   "execution_count": 21,
   "id": "59156ac3",
   "metadata": {
    "run_control": {
     "marked": false
    }
   },
   "outputs": [
    {
     "data": {
      "image/png": "[encoded data removed]",
      "text/plain": [
       "<Figure size 432x288 with 1 Axes>"
      ]
     },
     "metadata": {
      "needs_background": "light"
     },
     "output_type": "display_data"
    }
   ],
   "source": [
    "#   plot the data and model fits\n",
    "plt.figure()\n",
    "plt.plot(x,y, 'ok')\n",
    "plt.plot(x,model.predict(x[:,np.newaxis]), '-r', label='Least Squares')\n",
    "plt.plot(x,(theta_linreg[2]*(x**2)) + (theta_linreg[1]*x) + theta_linreg[0], '--g', label='Linear Regression')\n",
    "plt.plot(x,(theta[2]*(x**2)) + (theta[1]*x) + theta[0], '--b', label='Gradient')\n",
    "plt.grid(True)\n",
    "plt.legend(loc=2)\n",
    "plt.show()"
   ]
  }
 ],
 "metadata": {
  "kernelspec": {
   "display_name": "Python 3",
   "language": "python",
   "name": "python3"
  },
  "language_info": {
   "codemirror_mode": {
    "name": "ipython",
    "version": 3
   },
   "file_extension": ".py",
   "mimetype": "text/x-python",
   "name": "python",
   "nbconvert_exporter": "python",
   "pygments_lexer": "ipython3",
   "version": "3.6.13"
  },
  "latex_envs": {
   "LaTeX_envs_menu_present": true,
   "autoclose": false,
   "autocomplete": true,
   "bibliofile": "biblio.bib",
   "cite_by": "apalike",
   "current_citInitial": 1,
   "eqLabelWithNumbers": true,
   "eqNumInitial": 1,
   "hotkeys": {
    "equation": "Ctrl-E",
    "itemize": "Ctrl-I"
   },
   "labels_anchors": false,
   "latex_user_defs": false,
   "report_style_numbering": false,
   "user_envs_cfg": false
  },
  "nbTranslate": {
   "displayLangs": [
    "*"
   ],
   "hotkey": "alt-t",
   "langInMainMenu": true,
   "sourceLang": "en",
   "targetLang": "fr",
   "useGoogleTranslate": true
  },
  "toc": {
   "base_numbering": 1,
   "nav_menu": {},
   "number_sections": true,
   "sideBar": true,
   "skip_h1_title": false,
   "title_cell": "Table of Contents",
   "title_sidebar": "Contents",
   "toc_cell": false,
   "toc_position": {},
   "toc_section_display": true,
   "toc_window_display": false
  }
 },
 "nbformat": 4,
 "nbformat_minor": 5
}
