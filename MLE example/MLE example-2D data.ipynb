{
 "cells": [
  {
   "cell_type": "code",
   "execution_count": 1,
   "id": "580d5d70",
   "metadata": {},
   "outputs": [
    {
     "data": {
      "text/plain": [
       "<matplotlib.collections.PathCollection at 0x238402f82b0>"
      ]
     },
     "execution_count": 1,
     "metadata": {},
     "output_type": "execute_result"
    },
    {
     "data": {
      "image/png": "[encoded data removed]",
      "text/plain": [
       "<Figure size 432x288 with 1 Axes>"
      ]
     },
     "metadata": {
      "needs_background": "light"
     },
     "output_type": "display_data"
    }
   ],
   "source": [
    "import numpy as np\n",
    "import matplotlib.pyplot as plt\n",
    "x = np.linspace(0.0,10.0, num=100)\n",
    "a = 4.0\n",
    "b = -3.5\n",
    "c = 0.0\n",
    "y = (a*(x**2)) + (b*x) + c\n",
    "\n",
    "#   let's add noise to the data\n",
    "#   np.random.normal(mean, standardDeviation, num)\n",
    "noise = np.random.normal(0, 10., 100)\n",
    "y = y+noise\n",
    "plt.scatter(x,y)"
   ]
  },
  {
   "cell_type": "markdown",
   "id": "df4ca2dc",
   "metadata": {},
   "source": [
    "Now onto the formulation of the likelihood equation that we'll use to determine coefficients of a fitted polynomial.\n",
    "Linear regression is generally of some form\n",
    "$$\n",
    "\\mathbf{Y}=\\mathbf{X} \\beta+\\mathbf{r}\n",
    "$$\n",
    "for a true function $\\mathbf{Y}$, the matrix of independent variables $\\mathbf{X}$, the model coefficients $\\beta$, and some residual difference between the true data and the model $\\mathbf{r}$. For a second order polynomial, $\\mathbf{X}$ is of the form $\\mathbf{X}=\\left[\\mathbf{1}, \\mathbf{x}, \\mathbf{x}^{\\mathbf{2}}\\right]$. We can rewrite the equation of linear regression as\n",
    "$$\n",
    "\\mathbf{r}=\\mathbf{Y}-\\mathbf{X} \\beta\n",
    "$$\n",
    "where the residuals $\\mathbf{r}$ are expressed as the difference between the true model ( $\\mathbf{Y})$ and the linear model $(\\mathbf{X} \\beta)$. If we assume the data to be of an independent and identically distributed sample, and that the residual $\\mathbf{r}$ is from a normal (Gaussian) distribution, then we'll get the following probability density function $f$.\n",
    "$$\n",
    "f\\left(x \\mid \\mu, \\sigma^2\\right)=\\left(2 \\pi \\sigma^2\\right)^{-\\frac{n}{2}} \\exp \\left(-\\frac{(x-\\mu)^2}{2 \\sigma^2}\\right)\n",
    "$$\n",
    "The probability density function $f\\left(x \\mid \\mu, \\sigma^2\\right)$ is for a point $x$, with a mean $\\mu$, and standard deviation $\\sigma$. If we substitute the residual into the equation, and assume that the residual will have a mean of zero $(\\mu=0)$ we get"
   ]
  },
  {
   "cell_type": "markdown",
   "id": "314c7564",
   "metadata": {},
   "source": [
    "The probability density function $f\\left(x \\mid \\mu, \\sigma^2\\right)$ is for a point $x$, with a mean $\\mu$, and standard deviation $\\sigma$. If we substitute the residual into the equation, and assume that the residual will have a mean of zero $(\\mu=0)$ we get\n",
    "$$\n",
    "f\\left(r \\mid 0, \\sigma^2\\right)=\\left(2 \\pi \\sigma^2\\right)^{-\\frac{n}{2}} \\exp \\left(-\\frac{(y-x \\beta)^2}{2 \\sigma^2}\\right)\n",
    "$$\n",
    "which defines the probability density function for a given point. The likelihood function $L$ is defined as\n",
    "$$\n",
    "L\\left(\\beta \\mid x_1, x_2, \\cdots, x_n\\right)=\\prod_{i=1}^n f\\left(x_i \\mid \\beta\\right)\n",
    "$$\n",
    "the multiplication of all probability densities at each $x_i$ point. When we substitute the probability density function into the definition of the maximum likelihood function, we have the following.\n",
    "$$\n",
    "L\\left(\\beta \\mid x_1, x_2, \\cdots, x_n\\right)=\\left(2 \\pi \\sigma^2\\right)^{\\frac{n}{2}} \\exp \\left(-\\frac{(\\mathbf{Y}-\\mathbf{X} \\beta)^{\\mathrm{T}}(\\mathbf{Y}-\\mathbf{X} \\beta)}{2 \\sigma^2}\\right)\n",
    "$$\n",
    "It is practical to work with the log-likelihood as opposed to the likelihood equation as the likelihood equation can be nearly zero. In Python we have created a function which returns the log-likelihood value given a set of 'true' values ( $\\mathbf{Y})$ and a set of 'guess' values $\\mathbf{X} \\beta$."
   ]
  },
  {
   "cell_type": "code",
   "execution_count": 2,
   "id": "93689ccd",
   "metadata": {},
   "outputs": [],
   "source": [
    "#   define a function to calculate the log likelihood\n",
    "def calcLogLikelihood(guess, true, n):\n",
    "    error = true-guess\n",
    "    sigma = np.std(error)\n",
    "    f = ((1.0/(2.0*math.pi*sigma*sigma))**(n/2))* \\\n",
    "        np.exp(-1*((np.dot(error.T,error))/(2*sigma*sigma)))\n",
    "    return np.log(f)"
   ]
  },
  {
   "cell_type": "markdown",
   "id": "f2f76883",
   "metadata": {},
   "source": [
    "Optimization is used to determine which parameters $\\beta$ maximize the loglikelihood function. The optimization problem is expressed below.\n",
    "$$\n",
    "\\left\\{\\hat{\\beta}_{\\mathrm{MLE}}\\right\\} \\subseteq\\left\\{\\arg \\max \\ln \\left(L\\left(\\beta \\mid x_1, x_2, \\cdots, x_n\\right)\\right)\\right\\}\n",
    "$$\n",
    "So since our data originates from a second order polynomial, let's fit a second order polynomial to the data. First we'll have to define a function which will calculate the log likelihood value of the second order polynomial for three different coefficients ('var')."
   ]
  },
  {
   "cell_type": "code",
   "execution_count": 3,
   "id": "ac47e774",
   "metadata": {},
   "outputs": [],
   "source": [
    "#   define my function which will return the objective function to be minimized\n",
    "import math\n",
    "def myFunction(var):\n",
    "    #   load my  data\n",
    "    #[x, y] = np.load('myData.npy')\n",
    "    yGuess = (var[2]*(x**2)) + (var[1]*x) + var[0]\n",
    "    f = calcLogLikelihood(yGuess, y, float(len(yGuess)))\n",
    "    return (-1*f)"
   ]
  },
  {
   "cell_type": "markdown",
   "id": "cb082c4e",
   "metadata": {},
   "source": [
    "We can then use gradient-based optimization to find which polynomial coefficients maximize the log-likelihood. I used scipy and the BFGS algorithm, but other algorithms and optimization methods should work well for this simple problem. I picked some random variable values to start the optimization. The Python code to run the scipy optimizer is presented in the following lines. Note that maximizing the likelihood is the same as minimizing minus 1 times the likelihood."
   ]
  },
  {
   "cell_type": "code",
   "execution_count": 4,
   "id": "2ecf52e8",
   "metadata": {},
   "outputs": [
    {
     "name": "stdout",
     "output_type": "stream",
     "text": [
      "Optimization terminated successfully.\n",
      "         Current function value: 367.463013\n",
      "         Iterations: 15\n",
      "         Function evaluations: 121\n",
      "         Gradient evaluations: 29\n"
     ]
    },
    {
     "name": "stderr",
     "output_type": "stream",
     "text": [
      "d:\\app\\Anaconda3\\envs\\mx\\lib\\site-packages\\ipykernel_launcher.py:7: RuntimeWarning: divide by zero encountered in log\n",
      "  import sys\n",
      "C:\\Users\\ptolo\\AppData\\Roaming\\Python\\Python36\\site-packages\\scipy\\optimize\\_numdiff.py:497: RuntimeWarning: invalid value encountered in subtract\n",
      "  df = fun(x) - f0\n",
      "d:\\app\\Anaconda3\\envs\\mx\\lib\\site-packages\\ipykernel_launcher.py:7: RuntimeWarning: divide by zero encountered in log\n",
      "  import sys\n"
     ]
    },
    {
     "data": {
      "text/plain": [
       "      fun: 367.46301280348393\n",
       " hess_inv: array([[ 2.39130447e+00, -1.54792774e-01, -2.09447310e-02],\n",
       "       [-1.54792774e-01,  7.50404050e-02, -6.53445448e-03],\n",
       "       [-2.09447310e-02, -6.53445448e-03,  1.64662295e-03]])\n",
       "      jac: array([ 0.00000000e+00, -3.81469727e-06, -7.62939453e-06])\n",
       "  message: 'Optimization terminated successfully.'\n",
       "     nfev: 121\n",
       "      nit: 15\n",
       "     njev: 29\n",
       "   status: 0\n",
       "  success: True\n",
       "        x: array([ 0.78607297, -3.73041508,  4.01311063])"
      ]
     },
     "execution_count": 4,
     "metadata": {},
     "output_type": "execute_result"
    }
   ],
   "source": [
    "#  Let's pick some random starting points for the optimization    \n",
    "nvar = 3\n",
    "var = np.zeros(nvar)\n",
    "var[0] = -5\n",
    "var[1] = -6\n",
    "var[2] = 1\n",
    "\n",
    "#   let's maximize the likelihood (minimize -1*max(likelihood)\n",
    "from scipy.optimize import minimize\n",
    "res = minimize(myFunction, var, method='BFGS',options={'disp': True})\n",
    "res"
   ]
  },
  {
   "cell_type": "markdown",
   "id": "9f3c1398",
   "metadata": {},
   "source": [
    "As it turns out, with the assumptions we have made (Gaussian distribution, independent and identically distributed, μ=0\n",
    ") the result of maximizing the likelihood should be the same as performing a least squares fit. So let’s go ahead and perform a least squares fit to determine the coefficients of a second order polynomial from the data points. This can be done with scikit-learn easily with the following lines of Python code."
   ]
  },
  {
   "cell_type": "code",
   "execution_count": 15,
   "id": "0551199b",
   "metadata": {},
   "outputs": [
    {
     "data": {
      "text/plain": [
       "array([[ 0.78607229, -3.73041573,  4.01311073]])"
      ]
     },
     "execution_count": 15,
     "metadata": {},
     "output_type": "execute_result"
    }
   ],
   "source": [
    "#   perform least squares fit using scikitlearn\n",
    "from sklearn.preprocessing import PolynomialFeatures\n",
    "from sklearn.linear_model import LinearRegression\n",
    "from sklearn.pipeline import Pipeline\n",
    "model = Pipeline([('poly', PolynomialFeatures(degree=2)),\n",
    "    ('linear', LinearRegression(fit_intercept=False))])\n",
    "\n",
    "#model = model.fit(x[:, np.newaxis], y)\n",
    "model = model.fit(x.reshape(-1,1),y)\n",
    "coefs = model.named_steps['linear'].coef_\n",
    "coefs"
   ]
  },
  {
   "cell_type": "code",
   "execution_count": 6,
   "id": "eac7b305",
   "metadata": {},
   "outputs": [
    {
     "data": {
      "image/png": "[encoded data removed]",
      "text/plain": [
       "<Figure size 432x288 with 1 Axes>"
      ]
     },
     "metadata": {
      "needs_background": "light"
     },
     "output_type": "display_data"
    }
   ],
   "source": [
    "#   plot the data and model fits\n",
    "plt.figure()\n",
    "plt.plot(x,y, 'ok')\n",
    "plt.plot(x,model.predict(x[:,np.newaxis]), '-r', label='Least Squares')\n",
    "plt.plot(x,(res.x[2]*(x**2)) + (res.x[1]*x) + res.x[0], '--b', label='Max Likelihood')\n",
    "plt.grid(True)\n",
    "plt.legend(loc=2)\n",
    "plt.show()\n",
    "#plt.savefig('maxLikelihoodComp.png', dpi=300, type='png')\n"
   ]
  },
  {
   "cell_type": "code",
   "execution_count": 7,
   "id": "2d4e44b0",
   "metadata": {},
   "outputs": [],
   "source": [
    "# Using Autograd to calculate gradients for OLS\n",
    "from random import random, seed\n",
    "import numpy as np\n",
    "import autograd.numpy as np\n",
    "import matplotlib.pyplot as plt\n",
    "from autograd import grad\n",
    "\n",
    "def CostOLS(beta):\n",
    "    return (1.0/n)*np.sum((y-X @ beta)**2)\n",
    "\n",
    "n = 100\n",
    "#x = 2*np.random.rand(n,1)\n",
    "#y = 4+3*x+np.random.randn(n,1)\n",
    "xx = np.power(x,2)\n",
    "\n",
    "X = np.c_[np.ones((n,1)), x, xx]\n"
   ]
  },
  {
   "cell_type": "markdown",
   "id": "6ae4f216",
   "metadata": {},
   "source": [
    "# OLS"
   ]
  },
  {
   "cell_type": "code",
   "execution_count": 8,
   "id": "0c1cbe9d",
   "metadata": {},
   "outputs": [
    {
     "name": "stdout",
     "output_type": "stream",
     "text": [
      "Own inversion\n",
      "[ 0.78607229 -3.73041573  4.01311073]\n",
      "Eigenvalues of Hessian Matrix:[4.12466600e+03 1.98055138e-01 4.81270845e+00]\n"
     ]
    }
   ],
   "source": [
    "XT_X = X.T @ X\n",
    "theta_linreg = np.linalg.pinv(XT_X) @ (X.T @ y)\n",
    "print(\"Own inversion\")\n",
    "print(theta_linreg)\n",
    "# Hessian matrix\n",
    "H = (2.0/n)* XT_X\n",
    "EigValues, EigVectors = np.linalg.eig(H)\n",
    "print(f\"Eigenvalues of Hessian Matrix:{EigValues}\")"
   ]
  },
  {
   "cell_type": "markdown",
   "id": "9032b8b2",
   "metadata": {},
   "source": [
    "# Gradient with autograd"
   ]
  },
  {
   "cell_type": "code",
   "execution_count": 9,
   "id": "748f41fd",
   "metadata": {},
   "outputs": [
    {
     "name": "stdout",
     "output_type": "stream",
     "text": [
      "(100, 3) (100, 1)\n"
     ]
    }
   ],
   "source": [
    "y = y.reshape(-1,1)\n",
    "print(X.shape,y.shape)"
   ]
  },
  {
   "cell_type": "code",
   "execution_count": 10,
   "id": "158abad0",
   "metadata": {},
   "outputs": [],
   "source": [
    "theta = np.random.randn(3,1)\n",
    "eta = 1.0/np.max(EigValues)\n",
    "Niterations = 100000\n",
    "# define the gradient\n",
    "training_gradient = grad(CostOLS)"
   ]
  },
  {
   "cell_type": "code",
   "execution_count": 11,
   "id": "cfc41f45",
   "metadata": {},
   "outputs": [
    {
     "name": "stdout",
     "output_type": "stream",
     "text": [
      "theta from own gd\n",
      "[[ 0.75947047]\n",
      " [-3.71929746]\n",
      " [ 4.01216678]]\n"
     ]
    }
   ],
   "source": [
    "for iter in range(Niterations):\n",
    "    gradients = training_gradient(theta)\n",
    "    theta -= eta*gradients\n",
    "print(\"theta from own gd\")\n",
    "print(theta)"
   ]
  },
  {
   "cell_type": "code",
   "execution_count": 12,
   "id": "59156ac3",
   "metadata": {
    "run_control": {
     "marked": false
    }
   },
   "outputs": [
    {
     "data": {
      "image/png": "[encoded data removed]",
      "text/plain": [
       "<Figure size 432x288 with 1 Axes>"
      ]
     },
     "metadata": {
      "needs_background": "light"
     },
     "output_type": "display_data"
    }
   ],
   "source": [
    "#   plot the data and model fits\n",
    "plt.figure()\n",
    "plt.plot(x,y, 'ok')\n",
    "plt.plot(x,model.predict(x[:,np.newaxis]), '-r', label='Least Squares')\n",
    "plt.plot(x,(theta_linreg[2]*(x**2)) + (theta_linreg[1]*x) + theta_linreg[0], '--g', label='Linear Regression')\n",
    "plt.plot(x,(theta[2]*(x**2)) + (theta[1]*x) + theta[0], '--b', label='Gradient')\n",
    "plt.grid(True)\n",
    "plt.legend(loc=2)\n",
    "plt.show()"
   ]
  }
 ],
 "metadata": {
  "kernelspec": {
   "display_name": "Python 3",
   "language": "python",
   "name": "python3"
  },
  "language_info": {
   "codemirror_mode": {
    "name": "ipython",
    "version": 3
   },
   "file_extension": ".py",
   "mimetype": "text/x-python",
   "name": "python",
   "nbconvert_exporter": "python",
   "pygments_lexer": "ipython3",
   "version": "3.6.13"
  },
  "latex_envs": {
   "LaTeX_envs_menu_present": true,
   "autoclose": false,
   "autocomplete": true,
   "bibliofile": "biblio.bib",
   "cite_by": "apalike",
   "current_citInitial": 1,
   "eqLabelWithNumbers": true,
   "eqNumInitial": 1,
   "hotkeys": {
    "equation": "Ctrl-E",
    "itemize": "Ctrl-I"
   },
   "labels_anchors": false,
   "latex_user_defs": false,
   "report_style_numbering": false,
   "user_envs_cfg": false
  },
  "nbTranslate": {
   "displayLangs": [
    "*"
   ],
   "hotkey": "alt-t",
   "langInMainMenu": true,
   "sourceLang": "en",
   "targetLang": "fr",
   "useGoogleTranslate": true
  },
  "toc": {
   "base_numbering": 1,
   "nav_menu": {},
   "number_sections": true,
   "sideBar": true,
   "skip_h1_title": false,
   "title_cell": "Table of Contents",
   "title_sidebar": "Contents",
   "toc_cell": false,
   "toc_position": {},
   "toc_section_display": true,
   "toc_window_display": false
  }
 },
 "nbformat": 4,
 "nbformat_minor": 5
}
