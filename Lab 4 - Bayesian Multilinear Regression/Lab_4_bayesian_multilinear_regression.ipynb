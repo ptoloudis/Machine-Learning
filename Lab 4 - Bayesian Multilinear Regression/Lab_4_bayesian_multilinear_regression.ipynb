{
  "cells": [
    {
      "cell_type": "code",
      "execution_count": null,
      "id": "d2e70401",
      "metadata": {},
      "outputs": [],
      "source": [
        "# TODO: change the dataset sinthetic dataset. \n",
        "# not use pymc3 use pymc\n",
        "# The notebook for Lecture 5.04.2023 is from pymc\n",
        "# TODO: Modify this notebook to apply bayesian multilinear regression to boston housing dataset."
      ]
    },
    {
      "cell_type": "markdown",
      "id": "00f1c4ba",
      "metadata": {
        "id": "00f1c4ba"
      },
      "source": [
        "# Robust Linear Regression\n",
        "\n",
        "This example has been lifted from the [PyMC Docs](https://docs.pymc.io/notebooks/GLM-robust.html), and adapted to for Bambi by Tyler James Burch ([\\@tjburch](https://github.com/tjburch) on GitHub).\n",
        "\n",
        "Many toy datasets circumvent problems that practitioners run into with real data. Specifically, the assumption of normality can be easily violated by outliers, which can cause havoc in traditional linear regression. One way to navigate this is through _robust linear regression_, outlined in this example.\n",
        "\n",
        "First load modules and set the RNG for reproducibility."
      ]
    },
    {
      "cell_type": "markdown",
      "id": "FNH7yK2-f5_5",
      "metadata": {
        "id": "FNH7yK2-f5_5"
      },
      "source": [
        "**Exercise: Modify this notebook to apply bayesian multilinear regression to boston housing dataset.**"
      ]
    },
    {
      "cell_type": "code",
      "execution_count": null,
      "id": "qgrwGh-dPQTl",
      "metadata": {
        "colab": {
          "base_uri": "https://localhost:8080/"
        },
        "id": "qgrwGh-dPQTl",
        "outputId": "f2e15b57-38c9-42c4-a96c-95cfb33fd6c8"
      },
      "outputs": [
        {
          "name": "stdout",
          "output_type": "stream",
          "text": [
            "Looking in indexes: https://pypi.org/simple, https://us-python.pkg.dev/colab-wheels/public/simple/\n",
            "Collecting bambi\n",
            "  Downloading bambi-0.10.0-py3-none-any.whl (64 kB)\n",
            "\u001b[2K     \u001b[90m━━━━━━━━━━━━━━━━━━━━━━━━━━━━━━━━━━━━━━━━\u001b[0m \u001b[32m64.3/64.3 KB\u001b[0m \u001b[31m4.5 MB/s\u001b[0m eta \u001b[36m0:00:00\u001b[0m\n",
            "\u001b[?25hRequirement already satisfied: arviz>=0.12.0 in /usr/local/lib/python3.9/dist-packages (from bambi) (0.15.1)\n",
            "Requirement already satisfied: numpy>1.22 in /usr/local/lib/python3.9/dist-packages (from bambi) (1.22.4)\n",
            "Requirement already satisfied: pandas>=1.0.0 in /usr/local/lib/python3.9/dist-packages (from bambi) (1.4.4)\n",
            "Requirement already satisfied: pymc>=5.0.0 in /usr/local/lib/python3.9/dist-packages (from bambi) (5.1.2)\n",
            "Requirement already satisfied: graphviz in /usr/local/lib/python3.9/dist-packages (from bambi) (0.20.1)\n",
            "Requirement already satisfied: scipy>=1.7.0 in /usr/local/lib/python3.9/dist-packages (from bambi) (1.10.1)\n",
            "Collecting formulae==0.3.4\n",
            "  Downloading formulae-0.3.4-py3-none-any.whl (44 kB)\n",
            "\u001b[2K     \u001b[90m━━━━━━━━━━━━━━━━━━━━━━━━━━━━━━━━━━━━━━━━\u001b[0m \u001b[32m44.1/44.1 KB\u001b[0m \u001b[31m5.3 MB/s\u001b[0m eta \u001b[36m0:00:00\u001b[0m\n",
            "\u001b[?25hRequirement already satisfied: matplotlib>=3.2 in /usr/local/lib/python3.9/dist-packages (from arviz>=0.12.0->bambi) (3.7.1)\n",
            "Requirement already satisfied: typing-extensions>=4.1.0 in /usr/local/lib/python3.9/dist-packages (from arviz>=0.12.0->bambi) (4.5.0)\n",
            "Requirement already satisfied: packaging in /usr/local/lib/python3.9/dist-packages (from arviz>=0.12.0->bambi) (23.0)\n",
            "Requirement already satisfied: h5netcdf>=1.0.2 in /usr/local/lib/python3.9/dist-packages (from arviz>=0.12.0->bambi) (1.1.0)\n",
            "Requirement already satisfied: setuptools>=60.0.0 in /usr/local/lib/python3.9/dist-packages (from arviz>=0.12.0->bambi) (67.6.1)\n",
            "Requirement already satisfied: xarray>=0.21.0 in /usr/local/lib/python3.9/dist-packages (from arviz>=0.12.0->bambi) (2022.12.0)\n",
            "Requirement already satisfied: xarray-einstats>=0.3 in /usr/local/lib/python3.9/dist-packages (from arviz>=0.12.0->bambi) (0.5.1)\n",
            "Requirement already satisfied: python-dateutil>=2.8.1 in /usr/local/lib/python3.9/dist-packages (from pandas>=1.0.0->bambi) (2.8.2)\n",
            "Requirement already satisfied: pytz>=2020.1 in /usr/local/lib/python3.9/dist-packages (from pandas>=1.0.0->bambi) (2022.7.1)\n",
            "Requirement already satisfied: cachetools>=4.2.1 in /usr/local/lib/python3.9/dist-packages (from pymc>=5.0.0->bambi) (5.3.0)\n",
            "Requirement already satisfied: cloudpickle in /usr/local/lib/python3.9/dist-packages (from pymc>=5.0.0->bambi) (2.2.1)\n",
            "Requirement already satisfied: fastprogress>=0.2.0 in /usr/local/lib/python3.9/dist-packages (from pymc>=5.0.0->bambi) (1.0.3)\n",
            "Requirement already satisfied: pytensor==2.10.1 in /usr/local/lib/python3.9/dist-packages (from pymc>=5.0.0->bambi) (2.10.1)\n",
            "Requirement already satisfied: miniKanren in /usr/local/lib/python3.9/dist-packages (from pytensor==2.10.1->pymc>=5.0.0->bambi) (1.0.3)\n",
            "Requirement already satisfied: cons in /usr/local/lib/python3.9/dist-packages (from pytensor==2.10.1->pymc>=5.0.0->bambi) (0.4.5)\n",
            "Requirement already satisfied: logical-unification in /usr/local/lib/python3.9/dist-packages (from pytensor==2.10.1->pymc>=5.0.0->bambi) (0.4.5)\n",
            "Requirement already satisfied: etuples in /usr/local/lib/python3.9/dist-packages (from pytensor==2.10.1->pymc>=5.0.0->bambi) (0.3.8)\n",
            "Requirement already satisfied: filelock in /usr/local/lib/python3.9/dist-packages (from pytensor==2.10.1->pymc>=5.0.0->bambi) (3.10.7)\n",
            "Requirement already satisfied: h5py in /usr/local/lib/python3.9/dist-packages (from h5netcdf>=1.0.2->arviz>=0.12.0->bambi) (3.8.0)\n",
            "Requirement already satisfied: pyparsing>=2.3.1 in /usr/local/lib/python3.9/dist-packages (from matplotlib>=3.2->arviz>=0.12.0->bambi) (3.0.9)\n",
            "Requirement already satisfied: kiwisolver>=1.0.1 in /usr/local/lib/python3.9/dist-packages (from matplotlib>=3.2->arviz>=0.12.0->bambi) (1.4.4)\n",
            "Requirement already satisfied: contourpy>=1.0.1 in /usr/local/lib/python3.9/dist-packages (from matplotlib>=3.2->arviz>=0.12.0->bambi) (1.0.7)\n",
            "Requirement already satisfied: pillow>=6.2.0 in /usr/local/lib/python3.9/dist-packages (from matplotlib>=3.2->arviz>=0.12.0->bambi) (8.4.0)\n",
            "Requirement already satisfied: cycler>=0.10 in /usr/local/lib/python3.9/dist-packages (from matplotlib>=3.2->arviz>=0.12.0->bambi) (0.11.0)\n",
            "Requirement already satisfied: fonttools>=4.22.0 in /usr/local/lib/python3.9/dist-packages (from matplotlib>=3.2->arviz>=0.12.0->bambi) (4.39.3)\n",
            "Requirement already satisfied: importlib-resources>=3.2.0 in /usr/local/lib/python3.9/dist-packages (from matplotlib>=3.2->arviz>=0.12.0->bambi) (5.12.0)\n",
            "Requirement already satisfied: six>=1.5 in /usr/local/lib/python3.9/dist-packages (from python-dateutil>=2.8.1->pandas>=1.0.0->bambi) (1.16.0)\n",
            "Requirement already satisfied: zipp>=3.1.0 in /usr/local/lib/python3.9/dist-packages (from importlib-resources>=3.2.0->matplotlib>=3.2->arviz>=0.12.0->bambi) (3.15.0)\n",
            "Requirement already satisfied: multipledispatch in /usr/local/lib/python3.9/dist-packages (from logical-unification->pytensor==2.10.1->pymc>=5.0.0->bambi) (0.6.0)\n",
            "Requirement already satisfied: toolz in /usr/local/lib/python3.9/dist-packages (from logical-unification->pytensor==2.10.1->pymc>=5.0.0->bambi) (0.12.0)\n",
            "Installing collected packages: formulae, bambi\n",
            "Successfully installed bambi-0.10.0 formulae-0.3.4\n"
          ]
        }
      ],
      "source": [
        "!pip3 install bambi"
      ]
    },
    {
      "cell_type": "code",
      "execution_count": null,
      "id": "6eb36093",
      "metadata": {
        "id": "6eb36093"
      },
      "outputs": [],
      "source": [
        "import arviz as az\n",
        "import bambi as bmb\n",
        "import matplotlib.pyplot as plt\n",
        "import numpy as np\n",
        "import pandas as pd"
      ]
    },
    {
      "cell_type": "code",
      "execution_count": null,
      "id": "080438e6",
      "metadata": {
        "id": "080438e6"
      },
      "outputs": [],
      "source": [
        "az.style.use(\"arviz-darkgrid\")\n",
        "np.random.seed(1111)"
      ]
    },
    {
      "cell_type": "markdown",
      "id": "21b9a74d",
      "metadata": {
        "id": "21b9a74d"
      },
      "source": [
        "Next, generate pseudodata. The bulk of the data will be linear with noise distributed normally, but additionally several outliers will be interjected."
      ]
    },
    {
      "cell_type": "code",
      "execution_count": null,
      "id": "b3b8fb29",
      "metadata": {
        "id": "b3b8fb29"
      },
      "outputs": [],
      "source": [
        "size = 100\n",
        "true_intercept = 1\n",
        "true_slope = 2\n",
        "\n",
        "x = np.linspace(0, 1, size)\n",
        "# y = a + b*x\n",
        "true_regression_line = true_intercept + true_slope * x\n",
        "# add noise\n",
        "y = true_regression_line + np.random.normal(scale=0.5, size=size)\n",
        "\n",
        "# Add outliers\n",
        "x_out = np.append(x, [0.1, 0.15, 0.2])\n",
        "y_out = np.append(y, [8, 6, 9])\n",
        "\n",
        "data = pd.DataFrame({\n",
        "    \"x\": x_out, \n",
        "    \"y\": y_out\n",
        "})"
      ]
    },
    {
      "cell_type": "markdown",
      "id": "9b2c491c",
      "metadata": {
        "id": "9b2c491c"
      },
      "source": [
        "Plot this data. The three data points in the top left are the interjected data."
      ]
    },
    {
      "cell_type": "code",
      "execution_count": null,
      "id": "5251d460",
      "metadata": {
        "colab": {
          "base_uri": "https://localhost:8080/",
          "height": 728
        },
        "id": "5251d460",
        "outputId": "8b6e6460-edab-4796-f037-74a6ca992d8a"
      },
      "outputs": [
        {
          "data": {
            "image/png": "[encoded data removed]",
            "text/plain": [
              "<Figure size 700x700 with 1 Axes>"
            ]
          },
          "metadata": {},
          "output_type": "display_data"
        }
      ],
      "source": [
        "fig = plt.figure(figsize=(7, 7))\n",
        "ax = fig.add_subplot(111, xlabel=\"x\", ylabel=\"y\", title=\"Generated data and underlying model\")\n",
        "ax.plot(x_out, y_out, \"x\", label=\"sampled data\")\n",
        "ax.plot(x, true_regression_line, label=\"true regression line\", lw=2.0)\n",
        "plt.legend(loc=0);"
      ]
    },
    {
      "cell_type": "markdown",
      "id": "295964ad",
      "metadata": {
        "id": "295964ad"
      },
      "source": [
        "To highlight the problem, first fit a standard normally-distributed linear regression."
      ]
    },
    {
      "cell_type": "code",
      "execution_count": null,
      "id": "cdb8834d",
      "metadata": {
        "colab": {
          "base_uri": "https://localhost:8080/",
          "height": 57
        },
        "id": "cdb8834d",
        "outputId": "6f22effd-7b0e-415c-b1b1-3c72a0cca630"
      },
      "outputs": [
        {
          "data": {
            "text/html": [
              "\n",
              "<style>\n",
              "    /* Turns off some styling */\n",
              "    progress {\n",
              "        /* gets rid of default border in Firefox and Opera. */\n",
              "        border: none;\n",
              "        /* Needs to be in here for Safari polyfill so background images work as expected. */\n",
              "        background-size: auto;\n",
              "    }\n",
              "    progress:not([value]), progress:not([value])::-webkit-progress-bar {\n",
              "        background: repeating-linear-gradient(45deg, #7e7e7e, #7e7e7e 10px, #5c5c5c 10px, #5c5c5c 20px);\n",
              "    }\n",
              "    .progress-bar-interrupted, .progress-bar-interrupted::-webkit-progress-bar {\n",
              "        background: #F44336;\n",
              "    }\n",
              "</style>\n"
            ],
            "text/plain": [
              "<IPython.core.display.HTML object>"
            ]
          },
          "metadata": {},
          "output_type": "display_data"
        },
        {
          "data": {
            "text/html": [
              "\n",
              "    <div>\n",
              "      <progress value='3000' class='' max='3000' style='width:300px; height:20px; vertical-align: middle;'></progress>\n",
              "      100.00% [3000/3000 00:02&lt;00:00 Sampling chain 0, 0 divergences]\n",
              "    </div>\n",
              "    "
            ],
            "text/plain": [
              "<IPython.core.display.HTML object>"
            ]
          },
          "metadata": {},
          "output_type": "display_data"
        },
        {
          "data": {
            "text/html": [
              "\n",
              "<style>\n",
              "    /* Turns off some styling */\n",
              "    progress {\n",
              "        /* gets rid of default border in Firefox and Opera. */\n",
              "        border: none;\n",
              "        /* Needs to be in here for Safari polyfill so background images work as expected. */\n",
              "        background-size: auto;\n",
              "    }\n",
              "    progress:not([value]), progress:not([value])::-webkit-progress-bar {\n",
              "        background: repeating-linear-gradient(45deg, #7e7e7e, #7e7e7e 10px, #5c5c5c 10px, #5c5c5c 20px);\n",
              "    }\n",
              "    .progress-bar-interrupted, .progress-bar-interrupted::-webkit-progress-bar {\n",
              "        background: #F44336;\n",
              "    }\n",
              "</style>\n"
            ],
            "text/plain": [
              "<IPython.core.display.HTML object>"
            ]
          },
          "metadata": {},
          "output_type": "display_data"
        },
        {
          "data": {
            "text/html": [
              "\n",
              "    <div>\n",
              "      <progress value='3000' class='' max='3000' style='width:300px; height:20px; vertical-align: middle;'></progress>\n",
              "      100.00% [3000/3000 00:02&lt;00:00 Sampling chain 1, 0 divergences]\n",
              "    </div>\n",
              "    "
            ],
            "text/plain": [
              "<IPython.core.display.HTML object>"
            ]
          },
          "metadata": {},
          "output_type": "display_data"
        }
      ],
      "source": [
        "# Note, \"gaussian\" is the default argument for family. Added to be explicit. \n",
        "gauss_model = bmb.Model(\"y ~ x\", data, family=\"gaussian\")\n",
        "gauss_fitted = gauss_model.fit(draws=2000, idata_kwargs={\"log_likelihood\": True})\n",
        "gauss_model.predict(gauss_fitted, kind=\"pps\")"
      ]
    },
    {
      "cell_type": "code",
      "execution_count": null,
      "id": "2869adc9",
      "metadata": {
        "colab": {
          "base_uri": "https://localhost:8080/",
          "height": 423
        },
        "id": "2869adc9",
        "outputId": "0acf1cf5-8117-4e1f-ba87-075a7fc49ad9"
      },
      "outputs": [
        {
          "data": {
            "text/html": [
              "\n",
              "  <div id=\"df-b8552537-9842-4df1-a18f-af00a81842d5\">\n",
              "    <div class=\"colab-df-container\">\n",
              "      <div>\n",
              "<style scoped>\n",
              "    .dataframe tbody tr th:only-of-type {\n",
              "        vertical-align: middle;\n",
              "    }\n",
              "\n",
              "    .dataframe tbody tr th {\n",
              "        vertical-align: top;\n",
              "    }\n",
              "\n",
              "    .dataframe thead th {\n",
              "        text-align: right;\n",
              "    }\n",
              "</style>\n",
              "<table border=\"1\" class=\"dataframe\">\n",
              "  <thead>\n",
              "    <tr style=\"text-align: right;\">\n",
              "      <th></th>\n",
              "      <th>mean</th>\n",
              "      <th>sd</th>\n",
              "      <th>hdi_3%</th>\n",
              "      <th>hdi_97%</th>\n",
              "      <th>mcse_mean</th>\n",
              "      <th>mcse_sd</th>\n",
              "      <th>ess_bulk</th>\n",
              "      <th>ess_tail</th>\n",
              "      <th>r_hat</th>\n",
              "    </tr>\n",
              "  </thead>\n",
              "  <tbody>\n",
              "    <tr>\n",
              "      <th>Intercept</th>\n",
              "      <td>1.531</td>\n",
              "      <td>0.227</td>\n",
              "      <td>1.104</td>\n",
              "      <td>1.942</td>\n",
              "      <td>0.003</td>\n",
              "      <td>0.002</td>\n",
              "      <td>5931.0</td>\n",
              "      <td>3176.0</td>\n",
              "      <td>1.0</td>\n",
              "    </tr>\n",
              "    <tr>\n",
              "      <th>x</th>\n",
              "      <td>1.206</td>\n",
              "      <td>0.398</td>\n",
              "      <td>0.514</td>\n",
              "      <td>2.014</td>\n",
              "      <td>0.005</td>\n",
              "      <td>0.004</td>\n",
              "      <td>5492.0</td>\n",
              "      <td>3123.0</td>\n",
              "      <td>1.0</td>\n",
              "    </tr>\n",
              "    <tr>\n",
              "      <th>y_sigma</th>\n",
              "      <td>1.186</td>\n",
              "      <td>0.084</td>\n",
              "      <td>1.029</td>\n",
              "      <td>1.336</td>\n",
              "      <td>0.001</td>\n",
              "      <td>0.001</td>\n",
              "      <td>5695.0</td>\n",
              "      <td>2994.0</td>\n",
              "      <td>1.0</td>\n",
              "    </tr>\n",
              "    <tr>\n",
              "      <th>y_mean[0]</th>\n",
              "      <td>1.531</td>\n",
              "      <td>0.227</td>\n",
              "      <td>1.104</td>\n",
              "      <td>1.942</td>\n",
              "      <td>0.003</td>\n",
              "      <td>0.002</td>\n",
              "      <td>5931.0</td>\n",
              "      <td>3176.0</td>\n",
              "      <td>1.0</td>\n",
              "    </tr>\n",
              "    <tr>\n",
              "      <th>y_mean[1]</th>\n",
              "      <td>1.543</td>\n",
              "      <td>0.223</td>\n",
              "      <td>1.122</td>\n",
              "      <td>1.948</td>\n",
              "      <td>0.003</td>\n",
              "      <td>0.002</td>\n",
              "      <td>5934.0</td>\n",
              "      <td>3176.0</td>\n",
              "      <td>1.0</td>\n",
              "    </tr>\n",
              "    <tr>\n",
              "      <th>...</th>\n",
              "      <td>...</td>\n",
              "      <td>...</td>\n",
              "      <td>...</td>\n",
              "      <td>...</td>\n",
              "      <td>...</td>\n",
              "      <td>...</td>\n",
              "      <td>...</td>\n",
              "      <td>...</td>\n",
              "      <td>...</td>\n",
              "    </tr>\n",
              "    <tr>\n",
              "      <th>y_mean[98]</th>\n",
              "      <td>2.724</td>\n",
              "      <td>0.231</td>\n",
              "      <td>2.299</td>\n",
              "      <td>3.159</td>\n",
              "      <td>0.003</td>\n",
              "      <td>0.002</td>\n",
              "      <td>5411.0</td>\n",
              "      <td>3103.0</td>\n",
              "      <td>1.0</td>\n",
              "    </tr>\n",
              "    <tr>\n",
              "      <th>y_mean[99]</th>\n",
              "      <td>2.737</td>\n",
              "      <td>0.235</td>\n",
              "      <td>2.301</td>\n",
              "      <td>3.174</td>\n",
              "      <td>0.003</td>\n",
              "      <td>0.002</td>\n",
              "      <td>5420.0</td>\n",
              "      <td>3127.0</td>\n",
              "      <td>1.0</td>\n",
              "    </tr>\n",
              "    <tr>\n",
              "      <th>y_mean[100]</th>\n",
              "      <td>1.651</td>\n",
              "      <td>0.194</td>\n",
              "      <td>1.294</td>\n",
              "      <td>2.016</td>\n",
              "      <td>0.003</td>\n",
              "      <td>0.002</td>\n",
              "      <td>5976.0</td>\n",
              "      <td>3029.0</td>\n",
              "      <td>1.0</td>\n",
              "    </tr>\n",
              "    <tr>\n",
              "      <th>y_mean[101]</th>\n",
              "      <td>1.712</td>\n",
              "      <td>0.178</td>\n",
              "      <td>1.386</td>\n",
              "      <td>2.050</td>\n",
              "      <td>0.002</td>\n",
              "      <td>0.002</td>\n",
              "      <td>6015.0</td>\n",
              "      <td>2836.0</td>\n",
              "      <td>1.0</td>\n",
              "    </tr>\n",
              "    <tr>\n",
              "      <th>y_mean[102]</th>\n",
              "      <td>1.772</td>\n",
              "      <td>0.164</td>\n",
              "      <td>1.460</td>\n",
              "      <td>2.074</td>\n",
              "      <td>0.002</td>\n",
              "      <td>0.001</td>\n",
              "      <td>6069.0</td>\n",
              "      <td>2518.0</td>\n",
              "      <td>1.0</td>\n",
              "    </tr>\n",
              "  </tbody>\n",
              "</table>\n",
              "<p>106 rows × 9 columns</p>\n",
              "</div>\n",
              "      <button class=\"colab-df-convert\" onclick=\"convertToInteractive('df-b8552537-9842-4df1-a18f-af00a81842d5')\"\n",
              "              title=\"Convert this dataframe to an interactive table.\"\n",
              "              style=\"display:none;\">\n",
              "        \n",
              "  <svg xmlns=\"http://www.w3.org/2000/svg\" height=\"24px\"viewBox=\"0 0 24 24\"\n",
              "       width=\"24px\">\n",
              "    <path d=\"M0 0h24v24H0V0z\" fill=\"none\"/>\n",
              "    <path d=\"M18.56 5.44l.94 2.06.94-2.06 2.06-.94-2.06-.94-.94-2.06-.94 2.06-2.06.94zm-11 1L8.5 8.5l.94-2.06 2.06-.94-2.06-.94L8.5 2.5l-.94 2.06-2.06.94zm10 10l.94 2.06.94-2.06 2.06-.94-2.06-.94-.94-2.06-.94 2.06-2.06.94z\"/><path d=\"M17.41 7.96l-1.37-1.37c-.4-.4-.92-.59-1.43-.59-.52 0-1.04.2-1.43.59L10.3 9.45l-7.72 7.72c-.78.78-.78 2.05 0 2.83L4 21.41c.39.39.9.59 1.41.59.51 0 1.02-.2 1.41-.59l7.78-7.78 2.81-2.81c.8-.78.8-2.07 0-2.86zM5.41 20L4 18.59l7.72-7.72 1.47 1.35L5.41 20z\"/>\n",
              "  </svg>\n",
              "      </button>\n",
              "      \n",
              "  <style>\n",
              "    .colab-df-container {\n",
              "      display:flex;\n",
              "      flex-wrap:wrap;\n",
              "      gap: 12px;\n",
              "    }\n",
              "\n",
              "    .colab-df-convert {\n",
              "      background-color: #E8F0FE;\n",
              "      border: none;\n",
              "      border-radius: 50%;\n",
              "      cursor: pointer;\n",
              "      display: none;\n",
              "      fill: #1967D2;\n",
              "      height: 32px;\n",
              "      padding: 0 0 0 0;\n",
              "      width: 32px;\n",
              "    }\n",
              "\n",
              "    .colab-df-convert:hover {\n",
              "      background-color: #E2EBFA;\n",
              "      box-shadow: 0px 1px 2px rgba(60, 64, 67, 0.3), 0px 1px 3px 1px rgba(60, 64, 67, 0.15);\n",
              "      fill: #174EA6;\n",
              "    }\n",
              "\n",
              "    [theme=dark] .colab-df-convert {\n",
              "      background-color: #3B4455;\n",
              "      fill: #D2E3FC;\n",
              "    }\n",
              "\n",
              "    [theme=dark] .colab-df-convert:hover {\n",
              "      background-color: #434B5C;\n",
              "      box-shadow: 0px 1px 3px 1px rgba(0, 0, 0, 0.15);\n",
              "      filter: drop-shadow(0px 1px 2px rgba(0, 0, 0, 0.3));\n",
              "      fill: #FFFFFF;\n",
              "    }\n",
              "  </style>\n",
              "\n",
              "      <script>\n",
              "        const buttonEl =\n",
              "          document.querySelector('#df-b8552537-9842-4df1-a18f-af00a81842d5 button.colab-df-convert');\n",
              "        buttonEl.style.display =\n",
              "          google.colab.kernel.accessAllowed ? 'block' : 'none';\n",
              "\n",
              "        async function convertToInteractive(key) {\n",
              "          const element = document.querySelector('#df-b8552537-9842-4df1-a18f-af00a81842d5');\n",
              "          const dataTable =\n",
              "            await google.colab.kernel.invokeFunction('convertToInteractive',\n",
              "                                                     [key], {});\n",
              "          if (!dataTable) return;\n",
              "\n",
              "          const docLinkHtml = 'Like what you see? Visit the ' +\n",
              "            '<a target=\"_blank\" href=https://colab.research.google.com/notebooks/data_table.ipynb>data table notebook</a>'\n",
              "            + ' to learn more about interactive tables.';\n",
              "          element.innerHTML = '';\n",
              "          dataTable['output_type'] = 'display_data';\n",
              "          await google.colab.output.renderOutput(dataTable, element);\n",
              "          const docLink = document.createElement('div');\n",
              "          docLink.innerHTML = docLinkHtml;\n",
              "          element.appendChild(docLink);\n",
              "        }\n",
              "      </script>\n",
              "    </div>\n",
              "  </div>\n",
              "  "
            ],
            "text/plain": [
              "              mean     sd  hdi_3%  hdi_97%  mcse_mean  mcse_sd  ess_bulk  \\\n",
              "Intercept    1.531  0.227   1.104    1.942      0.003    0.002    5931.0   \n",
              "x            1.206  0.398   0.514    2.014      0.005    0.004    5492.0   \n",
              "y_sigma      1.186  0.084   1.029    1.336      0.001    0.001    5695.0   \n",
              "y_mean[0]    1.531  0.227   1.104    1.942      0.003    0.002    5931.0   \n",
              "y_mean[1]    1.543  0.223   1.122    1.948      0.003    0.002    5934.0   \n",
              "...            ...    ...     ...      ...        ...      ...       ...   \n",
              "y_mean[98]   2.724  0.231   2.299    3.159      0.003    0.002    5411.0   \n",
              "y_mean[99]   2.737  0.235   2.301    3.174      0.003    0.002    5420.0   \n",
              "y_mean[100]  1.651  0.194   1.294    2.016      0.003    0.002    5976.0   \n",
              "y_mean[101]  1.712  0.178   1.386    2.050      0.002    0.002    6015.0   \n",
              "y_mean[102]  1.772  0.164   1.460    2.074      0.002    0.001    6069.0   \n",
              "\n",
              "             ess_tail  r_hat  \n",
              "Intercept      3176.0    1.0  \n",
              "x              3123.0    1.0  \n",
              "y_sigma        2994.0    1.0  \n",
              "y_mean[0]      3176.0    1.0  \n",
              "y_mean[1]      3176.0    1.0  \n",
              "...               ...    ...  \n",
              "y_mean[98]     3103.0    1.0  \n",
              "y_mean[99]     3127.0    1.0  \n",
              "y_mean[100]    3029.0    1.0  \n",
              "y_mean[101]    2836.0    1.0  \n",
              "y_mean[102]    2518.0    1.0  \n",
              "\n",
              "[106 rows x 9 columns]"
            ]
          },
          "execution_count": 8,
          "metadata": {},
          "output_type": "execute_result"
        }
      ],
      "source": [
        "az.summary(gauss_fitted)"
      ]
    },
    {
      "cell_type": "markdown",
      "id": "c0c2b7d0",
      "metadata": {
        "id": "c0c2b7d0"
      },
      "source": [
        "Remember, the true intercept was 1, the true slope was 2. The recovered intercept is much higher, and the slope is much lower, so the influence of the outliers is apparent.\n",
        "\n",
        "Visually, looking at the recovered regression line and posterior predictive HDI highlights the problem further."
      ]
    },
    {
      "cell_type": "code",
      "execution_count": null,
      "id": "336fb8b6",
      "metadata": {
        "colab": {
          "base_uri": "https://localhost:8080/",
          "height": 528
        },
        "id": "336fb8b6",
        "outputId": "72331618-1b97-45f7-eea3-b3c485654fc2"
      },
      "outputs": [
        {
          "data": {
            "image/png": "[encoded data removed]",
            "text/plain": [
              "<Figure size 700x500 with 1 Axes>"
            ]
          },
          "metadata": {},
          "output_type": "display_data"
        }
      ],
      "source": [
        "plt.figure(figsize=(7, 5))\n",
        "# Plot Data\n",
        "plt.plot(x_out, y_out, \"x\", label=\"data\")\n",
        "# Plot recovered linear regression\n",
        "x_range = np.linspace(min(x_out), max(x_out), 2000)\n",
        "y_pred = gauss_fitted.posterior.x.mean().item() * x_range + gauss_fitted.posterior.Intercept.mean().item()\n",
        "plt.plot(x_range, y_pred, \n",
        "         color=\"black\",linestyle=\"--\",\n",
        "         label=\"Recovered regression line\"\n",
        "        )\n",
        "# Plot HDIs\n",
        "for interval in [0.38, 0.68]:\n",
        "    az.plot_hdi(x_out, gauss_fitted.posterior_predictive.y, \n",
        "                hdi_prob=interval, color=\"firebrick\")\n",
        "# Plot true regression line\n",
        "plt.plot(x, true_regression_line, \n",
        "        label=\"True regression line\", lw=2.0, color=\"black\")\n",
        "plt.legend(loc=0);\n"
      ]
    },
    {
      "cell_type": "markdown",
      "id": "a8dc33cf",
      "metadata": {
        "id": "a8dc33cf"
      },
      "source": [
        "The recovered regression line, as well as the $0.5\\sigma$ and $1\\sigma$ bands are shown. \n",
        "\n",
        "Clearly there is skew in the fit. At lower $x$ values, the regression line is far higher than the true line. This is a result of the outliers, which cause the model to assume a higher value in that regime.\n",
        "\n",
        "Additionally the uncertainty bands are too wide (remember, the $1\\sigma$ band ought to cover 68% of the data, while here it covers most of the points). Due to the small probability mass in the tails of a normal distribution, the outliers have an large effect, causing the uncertainty bands to be oversized. "
      ]
    },
    {
      "cell_type": "markdown",
      "id": "1ca15f83",
      "metadata": {
        "id": "1ca15f83"
      },
      "source": [
        "Clearly, assuming the data are distributed normally is inducing problems here. Bayesian robust linear regression forgoes the normality assumption by instead using a Student T distribution to describe the distribution of the data. The Student T distribution has thicker tails, and by allocating more probability mass to the tails, outliers have a less strong effect.\n",
        "\n",
        "Comparing the two distributions,"
      ]
    },
    {
      "cell_type": "code",
      "execution_count": null,
      "id": "4e021729",
      "metadata": {
        "colab": {
          "base_uri": "https://localhost:8080/",
          "height": 508
        },
        "id": "4e021729",
        "outputId": "f0227cb5-ddb4-446f-db0f-359088b0d7c0"
      },
      "outputs": [
        {
          "data": {
            "image/png": "[encoded data removed]",
            "text/plain": [
              "<Figure size 720x480 with 1 Axes>"
            ]
          },
          "metadata": {},
          "output_type": "display_data"
        }
      ],
      "source": [
        "normal_data = np.random.normal(loc=0, scale=1, size=100_000)\n",
        "t_data = np.random.standard_t(df=1, size=100_000)\n",
        "\n",
        "bins = np.arange(-8,8,0.15)\n",
        "plt.hist(normal_data, \n",
        "         bins=bins, density=True,\n",
        "         alpha=0.6,\n",
        "         label=\"Normal\"\n",
        "        )\n",
        "plt.hist(t_data, \n",
        "         bins=bins,density=True,\n",
        "         alpha=0.6,\n",
        "         label=\"Student T\"\n",
        "        )\n",
        "plt.xlabel(\"x\")\n",
        "plt.ylabel(\"Probability density\")\n",
        "plt.xlim(-8,8)\n",
        "plt.legend()"
      ]
    },
    {
      "cell_type": "markdown",
      "id": "643a5afb",
      "metadata": {
        "id": "643a5afb"
      },
      "source": [
        "As we can see, the tails of the Student T are much larger, which means values far from the mean are more likely when compared to the normal distribution.\n",
        "\n",
        "The T distribution is specified by a number of degrees of freedom ($\\nu$). In [`numpy.random.standard_t`](https://numpy.org/doc/stable/reference/random/generated/numpy.random.standard_t.html) this is the parameter `df`, in the [pymc T distribution](https://docs.pymc.io/api/distributions/continuous.html#pymc3.distributions.continuous.StudentT), it's `nu`. It is constrained to real numbers greater than 0. As the degrees of freedom increase, the probability in the tails Student T distribution decrease. In the limit of $\\nu \\rightarrow + \\infty$, the Student T distribution is a normal distribution. Below, the T distribution is plotted for various $\\nu$."
      ]
    },
    {
      "cell_type": "code",
      "execution_count": null,
      "id": "c51f3e1a",
      "metadata": {
        "colab": {
          "base_uri": "https://localhost:8080/",
          "height": 508
        },
        "id": "c51f3e1a",
        "outputId": "b9ac150a-8004-4f16-93b4-315368b75ece"
      },
      "outputs": [
        {
          "data": {
            "image/png": "[encoded data removed]",
            "text/plain": [
              "<Figure size 720x480 with 1 Axes>"
            ]
          },
          "metadata": {},
          "output_type": "display_data"
        }
      ],
      "source": [
        "bins = np.arange(-8,8,0.15)\n",
        "for ndof in [0.1, 1, 10]:\n",
        "\n",
        "    t_data = np.random.standard_t(df=ndof, size=100_000)\n",
        "\n",
        "    plt.hist(t_data, \n",
        "             bins=bins,density=True,\n",
        "             label=f\"$\\\\nu = {ndof}$\",\n",
        "             histtype=\"step\"\n",
        "            )\n",
        "plt.hist(normal_data, \n",
        "         bins=bins, density=True,\n",
        "         histtype=\"step\",\n",
        "         label=\"Normal\"\n",
        "        )    \n",
        "    \n",
        "plt.xlabel(\"x\")\n",
        "plt.ylabel(\"Probability density\")\n",
        "plt.xlim(-6,6)\n",
        "plt.legend()"
      ]
    },
    {
      "cell_type": "markdown",
      "id": "2f8bfa8b",
      "metadata": {
        "id": "2f8bfa8b"
      },
      "source": [
        "In Bambi, the way to specify a regression with Student T distributed data is by passing `\"t\"` to the `family` parameter of a Model."
      ]
    },
    {
      "cell_type": "code",
      "execution_count": null,
      "id": "64ded684",
      "metadata": {
        "colab": {
          "base_uri": "https://localhost:8080/",
          "height": 57
        },
        "id": "64ded684",
        "outputId": "ecca050c-35e5-497a-db58-96ac65e06a43"
      },
      "outputs": [
        {
          "data": {
            "text/html": [
              "\n",
              "<style>\n",
              "    /* Turns off some styling */\n",
              "    progress {\n",
              "        /* gets rid of default border in Firefox and Opera. */\n",
              "        border: none;\n",
              "        /* Needs to be in here for Safari polyfill so background images work as expected. */\n",
              "        background-size: auto;\n",
              "    }\n",
              "    progress:not([value]), progress:not([value])::-webkit-progress-bar {\n",
              "        background: repeating-linear-gradient(45deg, #7e7e7e, #7e7e7e 10px, #5c5c5c 10px, #5c5c5c 20px);\n",
              "    }\n",
              "    .progress-bar-interrupted, .progress-bar-interrupted::-webkit-progress-bar {\n",
              "        background: #F44336;\n",
              "    }\n",
              "</style>\n"
            ],
            "text/plain": [
              "<IPython.core.display.HTML object>"
            ]
          },
          "metadata": {},
          "output_type": "display_data"
        },
        {
          "data": {
            "text/html": [
              "\n",
              "    <div>\n",
              "      <progress value='3000' class='' max='3000' style='width:300px; height:20px; vertical-align: middle;'></progress>\n",
              "      100.00% [3000/3000 00:04&lt;00:00 Sampling chain 0, 0 divergences]\n",
              "    </div>\n",
              "    "
            ],
            "text/plain": [
              "<IPython.core.display.HTML object>"
            ]
          },
          "metadata": {},
          "output_type": "display_data"
        },
        {
          "data": {
            "text/html": [
              "\n",
              "<style>\n",
              "    /* Turns off some styling */\n",
              "    progress {\n",
              "        /* gets rid of default border in Firefox and Opera. */\n",
              "        border: none;\n",
              "        /* Needs to be in here for Safari polyfill so background images work as expected. */\n",
              "        background-size: auto;\n",
              "    }\n",
              "    progress:not([value]), progress:not([value])::-webkit-progress-bar {\n",
              "        background: repeating-linear-gradient(45deg, #7e7e7e, #7e7e7e 10px, #5c5c5c 10px, #5c5c5c 20px);\n",
              "    }\n",
              "    .progress-bar-interrupted, .progress-bar-interrupted::-webkit-progress-bar {\n",
              "        background: #F44336;\n",
              "    }\n",
              "</style>\n"
            ],
            "text/plain": [
              "<IPython.core.display.HTML object>"
            ]
          },
          "metadata": {},
          "output_type": "display_data"
        },
        {
          "data": {
            "text/html": [
              "\n",
              "    <div>\n",
              "      <progress value='3000' class='' max='3000' style='width:300px; height:20px; vertical-align: middle;'></progress>\n",
              "      100.00% [3000/3000 00:03&lt;00:00 Sampling chain 1, 0 divergences]\n",
              "    </div>\n",
              "    "
            ],
            "text/plain": [
              "<IPython.core.display.HTML object>"
            ]
          },
          "metadata": {},
          "output_type": "display_data"
        }
      ],
      "source": [
        "t_model = bmb.Model(\"y ~ x\", data, family=\"t\")\n",
        "t_fitted = t_model.fit(draws=2000, idata_kwargs={\"log_likelihood\": True})\n",
        "t_model.predict(t_fitted, kind=\"pps\")"
      ]
    },
    {
      "cell_type": "code",
      "execution_count": null,
      "id": "a1ed117e",
      "metadata": {
        "colab": {
          "base_uri": "https://localhost:8080/",
          "height": 423
        },
        "id": "a1ed117e",
        "outputId": "862b846b-803e-4390-af82-59adc3de178f"
      },
      "outputs": [
        {
          "data": {
            "text/html": [
              "\n",
              "  <div id=\"df-e8273e4c-30ef-47e8-8155-50f4dac17053\">\n",
              "    <div class=\"colab-df-container\">\n",
              "      <div>\n",
              "<style scoped>\n",
              "    .dataframe tbody tr th:only-of-type {\n",
              "        vertical-align: middle;\n",
              "    }\n",
              "\n",
              "    .dataframe tbody tr th {\n",
              "        vertical-align: top;\n",
              "    }\n",
              "\n",
              "    .dataframe thead th {\n",
              "        text-align: right;\n",
              "    }\n",
              "</style>\n",
              "<table border=\"1\" class=\"dataframe\">\n",
              "  <thead>\n",
              "    <tr style=\"text-align: right;\">\n",
              "      <th></th>\n",
              "      <th>mean</th>\n",
              "      <th>sd</th>\n",
              "      <th>hdi_3%</th>\n",
              "      <th>hdi_97%</th>\n",
              "      <th>mcse_mean</th>\n",
              "      <th>mcse_sd</th>\n",
              "      <th>ess_bulk</th>\n",
              "      <th>ess_tail</th>\n",
              "      <th>r_hat</th>\n",
              "    </tr>\n",
              "  </thead>\n",
              "  <tbody>\n",
              "    <tr>\n",
              "      <th>Intercept</th>\n",
              "      <td>0.995</td>\n",
              "      <td>0.110</td>\n",
              "      <td>0.785</td>\n",
              "      <td>1.201</td>\n",
              "      <td>0.002</td>\n",
              "      <td>0.001</td>\n",
              "      <td>5128.0</td>\n",
              "      <td>3208.0</td>\n",
              "      <td>1.0</td>\n",
              "    </tr>\n",
              "    <tr>\n",
              "      <th>x</th>\n",
              "      <td>1.899</td>\n",
              "      <td>0.192</td>\n",
              "      <td>1.516</td>\n",
              "      <td>2.236</td>\n",
              "      <td>0.003</td>\n",
              "      <td>0.002</td>\n",
              "      <td>5502.0</td>\n",
              "      <td>3130.0</td>\n",
              "      <td>1.0</td>\n",
              "    </tr>\n",
              "    <tr>\n",
              "      <th>y_sigma</th>\n",
              "      <td>0.405</td>\n",
              "      <td>0.045</td>\n",
              "      <td>0.317</td>\n",
              "      <td>0.485</td>\n",
              "      <td>0.001</td>\n",
              "      <td>0.001</td>\n",
              "      <td>3769.0</td>\n",
              "      <td>3092.0</td>\n",
              "      <td>1.0</td>\n",
              "    </tr>\n",
              "    <tr>\n",
              "      <th>y_nu</th>\n",
              "      <td>2.587</td>\n",
              "      <td>0.603</td>\n",
              "      <td>1.551</td>\n",
              "      <td>3.689</td>\n",
              "      <td>0.010</td>\n",
              "      <td>0.007</td>\n",
              "      <td>3810.0</td>\n",
              "      <td>3205.0</td>\n",
              "      <td>1.0</td>\n",
              "    </tr>\n",
              "    <tr>\n",
              "      <th>y_mean[0]</th>\n",
              "      <td>0.995</td>\n",
              "      <td>0.110</td>\n",
              "      <td>0.785</td>\n",
              "      <td>1.201</td>\n",
              "      <td>0.002</td>\n",
              "      <td>0.001</td>\n",
              "      <td>5128.0</td>\n",
              "      <td>3208.0</td>\n",
              "      <td>1.0</td>\n",
              "    </tr>\n",
              "    <tr>\n",
              "      <th>...</th>\n",
              "      <td>...</td>\n",
              "      <td>...</td>\n",
              "      <td>...</td>\n",
              "      <td>...</td>\n",
              "      <td>...</td>\n",
              "      <td>...</td>\n",
              "      <td>...</td>\n",
              "      <td>...</td>\n",
              "      <td>...</td>\n",
              "    </tr>\n",
              "    <tr>\n",
              "      <th>y_mean[98]</th>\n",
              "      <td>2.874</td>\n",
              "      <td>0.106</td>\n",
              "      <td>2.677</td>\n",
              "      <td>3.071</td>\n",
              "      <td>0.001</td>\n",
              "      <td>0.001</td>\n",
              "      <td>5179.0</td>\n",
              "      <td>3115.0</td>\n",
              "      <td>1.0</td>\n",
              "    </tr>\n",
              "    <tr>\n",
              "      <th>y_mean[99]</th>\n",
              "      <td>2.893</td>\n",
              "      <td>0.108</td>\n",
              "      <td>2.694</td>\n",
              "      <td>3.093</td>\n",
              "      <td>0.001</td>\n",
              "      <td>0.001</td>\n",
              "      <td>5187.0</td>\n",
              "      <td>3131.0</td>\n",
              "      <td>1.0</td>\n",
              "    </tr>\n",
              "    <tr>\n",
              "      <th>y_mean[100]</th>\n",
              "      <td>1.185</td>\n",
              "      <td>0.094</td>\n",
              "      <td>1.006</td>\n",
              "      <td>1.360</td>\n",
              "      <td>0.001</td>\n",
              "      <td>0.001</td>\n",
              "      <td>5025.0</td>\n",
              "      <td>3209.0</td>\n",
              "      <td>1.0</td>\n",
              "    </tr>\n",
              "    <tr>\n",
              "      <th>y_mean[101]</th>\n",
              "      <td>1.280</td>\n",
              "      <td>0.086</td>\n",
              "      <td>1.111</td>\n",
              "      <td>1.435</td>\n",
              "      <td>0.001</td>\n",
              "      <td>0.001</td>\n",
              "      <td>4960.0</td>\n",
              "      <td>3182.0</td>\n",
              "      <td>1.0</td>\n",
              "    </tr>\n",
              "    <tr>\n",
              "      <th>y_mean[102]</th>\n",
              "      <td>1.375</td>\n",
              "      <td>0.079</td>\n",
              "      <td>1.222</td>\n",
              "      <td>1.518</td>\n",
              "      <td>0.001</td>\n",
              "      <td>0.001</td>\n",
              "      <td>4888.0</td>\n",
              "      <td>3129.0</td>\n",
              "      <td>1.0</td>\n",
              "    </tr>\n",
              "  </tbody>\n",
              "</table>\n",
              "<p>107 rows × 9 columns</p>\n",
              "</div>\n",
              "      <button class=\"colab-df-convert\" onclick=\"convertToInteractive('df-e8273e4c-30ef-47e8-8155-50f4dac17053')\"\n",
              "              title=\"Convert this dataframe to an interactive table.\"\n",
              "              style=\"display:none;\">\n",
              "        \n",
              "  <svg xmlns=\"http://www.w3.org/2000/svg\" height=\"24px\"viewBox=\"0 0 24 24\"\n",
              "       width=\"24px\">\n",
              "    <path d=\"M0 0h24v24H0V0z\" fill=\"none\"/>\n",
              "    <path d=\"M18.56 5.44l.94 2.06.94-2.06 2.06-.94-2.06-.94-.94-2.06-.94 2.06-2.06.94zm-11 1L8.5 8.5l.94-2.06 2.06-.94-2.06-.94L8.5 2.5l-.94 2.06-2.06.94zm10 10l.94 2.06.94-2.06 2.06-.94-2.06-.94-.94-2.06-.94 2.06-2.06.94z\"/><path d=\"M17.41 7.96l-1.37-1.37c-.4-.4-.92-.59-1.43-.59-.52 0-1.04.2-1.43.59L10.3 9.45l-7.72 7.72c-.78.78-.78 2.05 0 2.83L4 21.41c.39.39.9.59 1.41.59.51 0 1.02-.2 1.41-.59l7.78-7.78 2.81-2.81c.8-.78.8-2.07 0-2.86zM5.41 20L4 18.59l7.72-7.72 1.47 1.35L5.41 20z\"/>\n",
              "  </svg>\n",
              "      </button>\n",
              "      \n",
              "  <style>\n",
              "    .colab-df-container {\n",
              "      display:flex;\n",
              "      flex-wrap:wrap;\n",
              "      gap: 12px;\n",
              "    }\n",
              "\n",
              "    .colab-df-convert {\n",
              "      background-color: #E8F0FE;\n",
              "      border: none;\n",
              "      border-radius: 50%;\n",
              "      cursor: pointer;\n",
              "      display: none;\n",
              "      fill: #1967D2;\n",
              "      height: 32px;\n",
              "      padding: 0 0 0 0;\n",
              "      width: 32px;\n",
              "    }\n",
              "\n",
              "    .colab-df-convert:hover {\n",
              "      background-color: #E2EBFA;\n",
              "      box-shadow: 0px 1px 2px rgba(60, 64, 67, 0.3), 0px 1px 3px 1px rgba(60, 64, 67, 0.15);\n",
              "      fill: #174EA6;\n",
              "    }\n",
              "\n",
              "    [theme=dark] .colab-df-convert {\n",
              "      background-color: #3B4455;\n",
              "      fill: #D2E3FC;\n",
              "    }\n",
              "\n",
              "    [theme=dark] .colab-df-convert:hover {\n",
              "      background-color: #434B5C;\n",
              "      box-shadow: 0px 1px 3px 1px rgba(0, 0, 0, 0.15);\n",
              "      filter: drop-shadow(0px 1px 2px rgba(0, 0, 0, 0.3));\n",
              "      fill: #FFFFFF;\n",
              "    }\n",
              "  </style>\n",
              "\n",
              "      <script>\n",
              "        const buttonEl =\n",
              "          document.querySelector('#df-e8273e4c-30ef-47e8-8155-50f4dac17053 button.colab-df-convert');\n",
              "        buttonEl.style.display =\n",
              "          google.colab.kernel.accessAllowed ? 'block' : 'none';\n",
              "\n",
              "        async function convertToInteractive(key) {\n",
              "          const element = document.querySelector('#df-e8273e4c-30ef-47e8-8155-50f4dac17053');\n",
              "          const dataTable =\n",
              "            await google.colab.kernel.invokeFunction('convertToInteractive',\n",
              "                                                     [key], {});\n",
              "          if (!dataTable) return;\n",
              "\n",
              "          const docLinkHtml = 'Like what you see? Visit the ' +\n",
              "            '<a target=\"_blank\" href=https://colab.research.google.com/notebooks/data_table.ipynb>data table notebook</a>'\n",
              "            + ' to learn more about interactive tables.';\n",
              "          element.innerHTML = '';\n",
              "          dataTable['output_type'] = 'display_data';\n",
              "          await google.colab.output.renderOutput(dataTable, element);\n",
              "          const docLink = document.createElement('div');\n",
              "          docLink.innerHTML = docLinkHtml;\n",
              "          element.appendChild(docLink);\n",
              "        }\n",
              "      </script>\n",
              "    </div>\n",
              "  </div>\n",
              "  "
            ],
            "text/plain": [
              "              mean     sd  hdi_3%  hdi_97%  mcse_mean  mcse_sd  ess_bulk  \\\n",
              "Intercept    0.995  0.110   0.785    1.201      0.002    0.001    5128.0   \n",
              "x            1.899  0.192   1.516    2.236      0.003    0.002    5502.0   \n",
              "y_sigma      0.405  0.045   0.317    0.485      0.001    0.001    3769.0   \n",
              "y_nu         2.587  0.603   1.551    3.689      0.010    0.007    3810.0   \n",
              "y_mean[0]    0.995  0.110   0.785    1.201      0.002    0.001    5128.0   \n",
              "...            ...    ...     ...      ...        ...      ...       ...   \n",
              "y_mean[98]   2.874  0.106   2.677    3.071      0.001    0.001    5179.0   \n",
              "y_mean[99]   2.893  0.108   2.694    3.093      0.001    0.001    5187.0   \n",
              "y_mean[100]  1.185  0.094   1.006    1.360      0.001    0.001    5025.0   \n",
              "y_mean[101]  1.280  0.086   1.111    1.435      0.001    0.001    4960.0   \n",
              "y_mean[102]  1.375  0.079   1.222    1.518      0.001    0.001    4888.0   \n",
              "\n",
              "             ess_tail  r_hat  \n",
              "Intercept      3208.0    1.0  \n",
              "x              3130.0    1.0  \n",
              "y_sigma        3092.0    1.0  \n",
              "y_nu           3205.0    1.0  \n",
              "y_mean[0]      3208.0    1.0  \n",
              "...               ...    ...  \n",
              "y_mean[98]     3115.0    1.0  \n",
              "y_mean[99]     3131.0    1.0  \n",
              "y_mean[100]    3209.0    1.0  \n",
              "y_mean[101]    3182.0    1.0  \n",
              "y_mean[102]    3129.0    1.0  \n",
              "\n",
              "[107 rows x 9 columns]"
            ]
          },
          "execution_count": 13,
          "metadata": {},
          "output_type": "execute_result"
        }
      ],
      "source": [
        "az.summary(t_fitted)"
      ]
    },
    {
      "cell_type": "markdown",
      "id": "e655e175",
      "metadata": {
        "id": "e655e175"
      },
      "source": [
        "Note the new parameter in the model, `y_nu`. This is the aforementioned degrees of freedom. If this number were very high, we would expect it to be well described by a normal distribution. However, the HDI of this spans from 1.5 to 3.7, meaning that the tails are much heavier than a normal distribution. As a result of the heavier tails, `y_sigma` has also dropped precipitously from the normal model, meaning the oversized uncertainty bands from above have shrunk.\n",
        "\n",
        "\n",
        "Comparing the extracted values of the two models,"
      ]
    },
    {
      "cell_type": "code",
      "execution_count": null,
      "id": "4e88de57",
      "metadata": {
        "colab": {
          "base_uri": "https://localhost:8080/",
          "height": 112
        },
        "id": "4e88de57",
        "outputId": "bfbe49a4-620e-4c4b-b867-6df938dd9cec"
      },
      "outputs": [
        {
          "data": {
            "text/html": [
              "\n",
              "  <div id=\"df-a0282987-f03a-47d4-8627-5828a6ac03a3\">\n",
              "    <div class=\"colab-df-container\">\n",
              "      <div>\n",
              "<style scoped>\n",
              "    .dataframe tbody tr th:only-of-type {\n",
              "        vertical-align: middle;\n",
              "    }\n",
              "\n",
              "    .dataframe tbody tr th {\n",
              "        vertical-align: top;\n",
              "    }\n",
              "\n",
              "    .dataframe thead th {\n",
              "        text-align: right;\n",
              "    }\n",
              "</style>\n",
              "<table border=\"1\" class=\"dataframe\">\n",
              "  <thead>\n",
              "    <tr style=\"text-align: right;\">\n",
              "      <th>Model</th>\n",
              "      <th>True</th>\n",
              "      <th>Normal</th>\n",
              "      <th>T</th>\n",
              "    </tr>\n",
              "  </thead>\n",
              "  <tbody>\n",
              "    <tr>\n",
              "      <th>Slope</th>\n",
              "      <td>2.0</td>\n",
              "      <td>1.21</td>\n",
              "      <td>1.90</td>\n",
              "    </tr>\n",
              "    <tr>\n",
              "      <th>Intercept</th>\n",
              "      <td>1.0</td>\n",
              "      <td>1.53</td>\n",
              "      <td>0.99</td>\n",
              "    </tr>\n",
              "  </tbody>\n",
              "</table>\n",
              "</div>\n",
              "      <button class=\"colab-df-convert\" onclick=\"convertToInteractive('df-a0282987-f03a-47d4-8627-5828a6ac03a3')\"\n",
              "              title=\"Convert this dataframe to an interactive table.\"\n",
              "              style=\"display:none;\">\n",
              "        \n",
              "  <svg xmlns=\"http://www.w3.org/2000/svg\" height=\"24px\"viewBox=\"0 0 24 24\"\n",
              "       width=\"24px\">\n",
              "    <path d=\"M0 0h24v24H0V0z\" fill=\"none\"/>\n",
              "    <path d=\"M18.56 5.44l.94 2.06.94-2.06 2.06-.94-2.06-.94-.94-2.06-.94 2.06-2.06.94zm-11 1L8.5 8.5l.94-2.06 2.06-.94-2.06-.94L8.5 2.5l-.94 2.06-2.06.94zm10 10l.94 2.06.94-2.06 2.06-.94-2.06-.94-.94-2.06-.94 2.06-2.06.94z\"/><path d=\"M17.41 7.96l-1.37-1.37c-.4-.4-.92-.59-1.43-.59-.52 0-1.04.2-1.43.59L10.3 9.45l-7.72 7.72c-.78.78-.78 2.05 0 2.83L4 21.41c.39.39.9.59 1.41.59.51 0 1.02-.2 1.41-.59l7.78-7.78 2.81-2.81c.8-.78.8-2.07 0-2.86zM5.41 20L4 18.59l7.72-7.72 1.47 1.35L5.41 20z\"/>\n",
              "  </svg>\n",
              "      </button>\n",
              "      \n",
              "  <style>\n",
              "    .colab-df-container {\n",
              "      display:flex;\n",
              "      flex-wrap:wrap;\n",
              "      gap: 12px;\n",
              "    }\n",
              "\n",
              "    .colab-df-convert {\n",
              "      background-color: #E8F0FE;\n",
              "      border: none;\n",
              "      border-radius: 50%;\n",
              "      cursor: pointer;\n",
              "      display: none;\n",
              "      fill: #1967D2;\n",
              "      height: 32px;\n",
              "      padding: 0 0 0 0;\n",
              "      width: 32px;\n",
              "    }\n",
              "\n",
              "    .colab-df-convert:hover {\n",
              "      background-color: #E2EBFA;\n",
              "      box-shadow: 0px 1px 2px rgba(60, 64, 67, 0.3), 0px 1px 3px 1px rgba(60, 64, 67, 0.15);\n",
              "      fill: #174EA6;\n",
              "    }\n",
              "\n",
              "    [theme=dark] .colab-df-convert {\n",
              "      background-color: #3B4455;\n",
              "      fill: #D2E3FC;\n",
              "    }\n",
              "\n",
              "    [theme=dark] .colab-df-convert:hover {\n",
              "      background-color: #434B5C;\n",
              "      box-shadow: 0px 1px 3px 1px rgba(0, 0, 0, 0.15);\n",
              "      filter: drop-shadow(0px 1px 2px rgba(0, 0, 0, 0.3));\n",
              "      fill: #FFFFFF;\n",
              "    }\n",
              "  </style>\n",
              "\n",
              "      <script>\n",
              "        const buttonEl =\n",
              "          document.querySelector('#df-a0282987-f03a-47d4-8627-5828a6ac03a3 button.colab-df-convert');\n",
              "        buttonEl.style.display =\n",
              "          google.colab.kernel.accessAllowed ? 'block' : 'none';\n",
              "\n",
              "        async function convertToInteractive(key) {\n",
              "          const element = document.querySelector('#df-a0282987-f03a-47d4-8627-5828a6ac03a3');\n",
              "          const dataTable =\n",
              "            await google.colab.kernel.invokeFunction('convertToInteractive',\n",
              "                                                     [key], {});\n",
              "          if (!dataTable) return;\n",
              "\n",
              "          const docLinkHtml = 'Like what you see? Visit the ' +\n",
              "            '<a target=\"_blank\" href=https://colab.research.google.com/notebooks/data_table.ipynb>data table notebook</a>'\n",
              "            + ' to learn more about interactive tables.';\n",
              "          element.innerHTML = '';\n",
              "          dataTable['output_type'] = 'display_data';\n",
              "          await google.colab.output.renderOutput(dataTable, element);\n",
              "          const docLink = document.createElement('div');\n",
              "          docLink.innerHTML = docLinkHtml;\n",
              "          element.appendChild(docLink);\n",
              "        }\n",
              "      </script>\n",
              "    </div>\n",
              "  </div>\n",
              "  "
            ],
            "text/plain": [
              "Model      True  Normal     T\n",
              "Slope       2.0    1.21  1.90\n",
              "Intercept   1.0    1.53  0.99"
            ]
          },
          "execution_count": 14,
          "metadata": {},
          "output_type": "execute_result"
        }
      ],
      "source": [
        "def get_slope_intercept(mod):\n",
        "    return (\n",
        "        mod.posterior.x.mean().item(),\n",
        "        mod.posterior.Intercept.mean().item()\n",
        "    )\n",
        "gauss_slope, gauss_int = get_slope_intercept(gauss_fitted)\n",
        "t_slope, t_int = get_slope_intercept(t_fitted)\n",
        "\n",
        "pd.DataFrame({\n",
        "    \"Model\":[\"True\",\"Normal\",\"T\"],\n",
        "    \"Slope\":[2, gauss_slope, t_slope],\n",
        "    \"Intercept\": [1, gauss_int, t_int]\n",
        "}).set_index(\"Model\").T.round(decimals=2)"
      ]
    },
    {
      "cell_type": "markdown",
      "id": "21396175",
      "metadata": {
        "id": "21396175"
      },
      "source": [
        "Here we can see the mean recovered values of both the slope and intercept are far closer to the true values using the robust regression model compared to the normally distributed one.\n",
        "\n",
        "Visually comparing the robust regression line,"
      ]
    },
    {
      "cell_type": "code",
      "execution_count": null,
      "id": "6f0be4bd",
      "metadata": {
        "colab": {
          "base_uri": "https://localhost:8080/",
          "height": 528
        },
        "id": "6f0be4bd",
        "outputId": "1f6576a2-6f39-46e8-8e0a-ddf4ab3b9710"
      },
      "outputs": [
        {
          "data": {
            "image/png": "[encoded data removed]",
            "text/plain": [
              "<Figure size 700x500 with 1 Axes>"
            ]
          },
          "metadata": {},
          "output_type": "display_data"
        }
      ],
      "source": [
        "plt.figure(figsize=(7, 5))\n",
        "# Plot Data\n",
        "plt.plot(x_out, y_out, \"x\", label=\"data\")\n",
        "# Plot recovered robust linear regression\n",
        "x_range = np.linspace(min(x_out), max(x_out), 2000)\n",
        "y_pred = t_fitted.posterior.x.mean().item() * x_range + t_fitted.posterior.Intercept.mean().item()\n",
        "plt.plot(x_range, y_pred, \n",
        "         color=\"black\",linestyle=\"--\",\n",
        "         label=\"Recovered regression line\"\n",
        "        )\n",
        "# Plot HDIs\n",
        "for interval in [0.05, 0.38, 0.68]:\n",
        "    az.plot_hdi(x_out, t_fitted.posterior_predictive.y, \n",
        "                hdi_prob=interval, color=\"firebrick\")\n",
        "# Plot true regression line\n",
        "plt.plot(x, true_regression_line, \n",
        "        label=\"true regression line\", lw=2.0, color=\"black\")\n",
        "plt.legend(loc=0)"
      ]
    },
    {
      "cell_type": "markdown",
      "id": "e7b65b16",
      "metadata": {
        "id": "e7b65b16"
      },
      "source": [
        "This is much better. The true and recovered regression lines are much closer, and the uncertainty bands are appropriate sized. The effect of the outliers is not _entirely_ gone, the recovered line still slightly differs from the true line, but the effect is far smaller, which is a result of the Student T likelihood function ascribing a higher probability to outliers than the normal distribution. Additionally, this inference is based on sampling methods, so it is expected to have small differences (especially given a relatively small number of samples).\n",
        "\n",
        "Last, another way to evaluate the models is to compare based on Leave-one-out Cross-validation (LOO), which provides an estimate of accuracy on out-of-sample predictions."
      ]
    },
    {
      "cell_type": "markdown",
      "id": "icAtuyLfRR3j",
      "metadata": {
        "id": "icAtuyLfRR3j"
      },
      "source": [
        "Leave-One-Out Cross-Validation (LOO) is a type of cross-validation technique used to evaluate the performance of a machine learning model. In LOO, the dataset is divided into n subsets, and the model is trained n times, each time leaving out one of the subsets for testing and using the rest for training. This means that for each iteration, only a single data point is used for testing, and the remaining data points are used for training.\n",
        "\n",
        "The advantage of LOO is that it provides an unbiased estimate of the model's generalization error since each data point is used for testing exactly once. However, the downside is that it can be computationally expensive, especially for large datasets, since the model needs to be trained n times.\n",
        "\n",
        "LOO is often used when the dataset is small or when there is a high cost associated with collecting additional data. It is also commonly used in the evaluation of regression models since it provides a good estimate of the model's prediction error. Overall, LOO is a useful technique for evaluating the performance of a machine learning model and is a valuable tool in the data scientist's toolbox."
      ]
    },
    {
      "cell_type": "markdown",
      "id": "3l7HzCMtRq9r",
      "metadata": {
        "id": "3l7HzCMtRq9r"
      },
      "source": [
        "ELPD-LOO (expected log pointwise predictive density using leave-one-out cross-validation) is a measure used in Bayesian statistics to compare the predictive accuracy of different models.\n",
        "\n",
        "It involves fitting the model to all but one of the data points and then using the fitted model to predict the left-out data point. This process is repeated for each data point, and the resulting predictions are used to calculate the log pointwise predictive density (LPD).\n",
        "\n",
        "The ELPD-LOO is the expected value of the LPD across all possible leave-one-out combinations. It provides a way to estimate the out-of-sample predictive accuracy of a model, taking into account both model complexity and goodness-of-fit.\n",
        "\n",
        "ELPD-LOO is often used to compare different models fit to the same data set, with a lower ELPD-LOO indicating better predictive accuracy."
      ]
    },
    {
      "cell_type": "markdown",
      "id": "Dr3QiiIpSTkg",
      "metadata": {
        "id": "Dr3QiiIpSTkg"
      },
      "source": [
        "The p_loo measure (also known as Pareto smoothed importance sampling leave-one-out cross-validation) is a statistical method used for model selection and comparison in Bayesian data analysis. It is particularly useful for evaluating the out-of-sample predictive performance of a Bayesian model.\n",
        "\n",
        "In LOO (leave-one-out) cross-validation, the data set is repeatedly partitioned into training and testing sets, with one observation removed at a time to form the testing set. The model is then fit on the training set and used to predict the removed observation in the testing set. This process is repeated for each observation in the data set, and the resulting predictive accuracy is used to evaluate the model.\n",
        "\n",
        "The p_loo measure is a way of estimating the out-of-sample predictive accuracy of a Bayesian model using importance sampling. It is defined as the expected log pointwise predictive density of a new data point, averaged over all possible training sets with one observation removed. This measure can be used to compare the predictive performance of different models, and to identify which variables are most important for making accurate predictions. A lower p_loo value indicates better predictive performance.\n",
        "\n",
        "The p_loo measure is calculated using posterior samples from the model, and can be computed using various software packages for Bayesian analysis, such as Stan, JAGS, or PyMC3."
      ]
    },
    {
      "cell_type": "markdown",
      "id": "7XDzmqUGSi3O",
      "metadata": {
        "id": "7XDzmqUGSi3O"
      },
      "source": [
        "\"SE\" standard error and \n",
        "\"DSE\" typically stands for \"deviation from standard error,\" which is a statistical measure used in regression analysis to evaluate the goodness of fit of a model. However, I'm not sure what you mean by \"LOO.\""
      ]
    },
    {
      "cell_type": "markdown",
      "id": "3C0LmwVPTJv6",
      "metadata": {
        "id": "3C0LmwVPTJv6"
      },
      "source": [
        "The warning you are referring to is related to the Pareto diagnostics in the loo package. The Pareto diagnostics indicate that for some observations, the leave-one-out posteriors are different enough from the full posterior that importance-sampling is not able to correct the difference"
      ]
    },
    {
      "cell_type": "code",
      "execution_count": null,
      "id": "855b0070",
      "metadata": {
        "colab": {
          "base_uri": "https://localhost:8080/",
          "height": 167
        },
        "id": "855b0070",
        "outputId": "7f10c0ba-484a-48be-901a-d278691f7a5e"
      },
      "outputs": [
        {
          "name": "stderr",
          "output_type": "stream",
          "text": [
            "/usr/local/lib/python3.9/dist-packages/arviz/stats/stats.py:803: UserWarning: Estimated shape parameter of Pareto distribution is greater than 0.7 for one or more samples. You should consider using a more robust model, this is because importance sampling is less likely to work well if the marginal posterior and LOO posterior are very different. This is more likely to happen with a non-robust model and highly influential observations.\n",
            "  warnings.warn(\n"
          ]
        },
        {
          "data": {
            "text/html": [
              "\n",
              "  <div id=\"df-ab1184a1-f4a5-40d0-9ce2-d8472cf3ba85\">\n",
              "    <div class=\"colab-df-container\">\n",
              "      <div>\n",
              "<style scoped>\n",
              "    .dataframe tbody tr th:only-of-type {\n",
              "        vertical-align: middle;\n",
              "    }\n",
              "\n",
              "    .dataframe tbody tr th {\n",
              "        vertical-align: top;\n",
              "    }\n",
              "\n",
              "    .dataframe thead th {\n",
              "        text-align: right;\n",
              "    }\n",
              "</style>\n",
              "<table border=\"1\" class=\"dataframe\">\n",
              "  <thead>\n",
              "    <tr style=\"text-align: right;\">\n",
              "      <th></th>\n",
              "      <th>rank</th>\n",
              "      <th>elpd_loo</th>\n",
              "      <th>p_loo</th>\n",
              "      <th>elpd_diff</th>\n",
              "      <th>weight</th>\n",
              "      <th>se</th>\n",
              "      <th>dse</th>\n",
              "      <th>warning</th>\n",
              "      <th>scale</th>\n",
              "    </tr>\n",
              "  </thead>\n",
              "  <tbody>\n",
              "    <tr>\n",
              "      <th>Student T</th>\n",
              "      <td>0</td>\n",
              "      <td>-101.677321</td>\n",
              "      <td>5.527944</td>\n",
              "      <td>0.000000</td>\n",
              "      <td>1.0</td>\n",
              "      <td>14.885440</td>\n",
              "      <td>0.000000</td>\n",
              "      <td>False</td>\n",
              "      <td>log</td>\n",
              "    </tr>\n",
              "    <tr>\n",
              "      <th>gaussian</th>\n",
              "      <td>1</td>\n",
              "      <td>-171.243763</td>\n",
              "      <td>13.222263</td>\n",
              "      <td>69.566442</td>\n",
              "      <td>0.0</td>\n",
              "      <td>29.098323</td>\n",
              "      <td>17.372273</td>\n",
              "      <td>True</td>\n",
              "      <td>log</td>\n",
              "    </tr>\n",
              "  </tbody>\n",
              "</table>\n",
              "</div>\n",
              "      <button class=\"colab-df-convert\" onclick=\"convertToInteractive('df-ab1184a1-f4a5-40d0-9ce2-d8472cf3ba85')\"\n",
              "              title=\"Convert this dataframe to an interactive table.\"\n",
              "              style=\"display:none;\">\n",
              "        \n",
              "  <svg xmlns=\"http://www.w3.org/2000/svg\" height=\"24px\"viewBox=\"0 0 24 24\"\n",
              "       width=\"24px\">\n",
              "    <path d=\"M0 0h24v24H0V0z\" fill=\"none\"/>\n",
              "    <path d=\"M18.56 5.44l.94 2.06.94-2.06 2.06-.94-2.06-.94-.94-2.06-.94 2.06-2.06.94zm-11 1L8.5 8.5l.94-2.06 2.06-.94-2.06-.94L8.5 2.5l-.94 2.06-2.06.94zm10 10l.94 2.06.94-2.06 2.06-.94-2.06-.94-.94-2.06-.94 2.06-2.06.94z\"/><path d=\"M17.41 7.96l-1.37-1.37c-.4-.4-.92-.59-1.43-.59-.52 0-1.04.2-1.43.59L10.3 9.45l-7.72 7.72c-.78.78-.78 2.05 0 2.83L4 21.41c.39.39.9.59 1.41.59.51 0 1.02-.2 1.41-.59l7.78-7.78 2.81-2.81c.8-.78.8-2.07 0-2.86zM5.41 20L4 18.59l7.72-7.72 1.47 1.35L5.41 20z\"/>\n",
              "  </svg>\n",
              "      </button>\n",
              "      \n",
              "  <style>\n",
              "    .colab-df-container {\n",
              "      display:flex;\n",
              "      flex-wrap:wrap;\n",
              "      gap: 12px;\n",
              "    }\n",
              "\n",
              "    .colab-df-convert {\n",
              "      background-color: #E8F0FE;\n",
              "      border: none;\n",
              "      border-radius: 50%;\n",
              "      cursor: pointer;\n",
              "      display: none;\n",
              "      fill: #1967D2;\n",
              "      height: 32px;\n",
              "      padding: 0 0 0 0;\n",
              "      width: 32px;\n",
              "    }\n",
              "\n",
              "    .colab-df-convert:hover {\n",
              "      background-color: #E2EBFA;\n",
              "      box-shadow: 0px 1px 2px rgba(60, 64, 67, 0.3), 0px 1px 3px 1px rgba(60, 64, 67, 0.15);\n",
              "      fill: #174EA6;\n",
              "    }\n",
              "\n",
              "    [theme=dark] .colab-df-convert {\n",
              "      background-color: #3B4455;\n",
              "      fill: #D2E3FC;\n",
              "    }\n",
              "\n",
              "    [theme=dark] .colab-df-convert:hover {\n",
              "      background-color: #434B5C;\n",
              "      box-shadow: 0px 1px 3px 1px rgba(0, 0, 0, 0.15);\n",
              "      filter: drop-shadow(0px 1px 2px rgba(0, 0, 0, 0.3));\n",
              "      fill: #FFFFFF;\n",
              "    }\n",
              "  </style>\n",
              "\n",
              "      <script>\n",
              "        const buttonEl =\n",
              "          document.querySelector('#df-ab1184a1-f4a5-40d0-9ce2-d8472cf3ba85 button.colab-df-convert');\n",
              "        buttonEl.style.display =\n",
              "          google.colab.kernel.accessAllowed ? 'block' : 'none';\n",
              "\n",
              "        async function convertToInteractive(key) {\n",
              "          const element = document.querySelector('#df-ab1184a1-f4a5-40d0-9ce2-d8472cf3ba85');\n",
              "          const dataTable =\n",
              "            await google.colab.kernel.invokeFunction('convertToInteractive',\n",
              "                                                     [key], {});\n",
              "          if (!dataTable) return;\n",
              "\n",
              "          const docLinkHtml = 'Like what you see? Visit the ' +\n",
              "            '<a target=\"_blank\" href=https://colab.research.google.com/notebooks/data_table.ipynb>data table notebook</a>'\n",
              "            + ' to learn more about interactive tables.';\n",
              "          element.innerHTML = '';\n",
              "          dataTable['output_type'] = 'display_data';\n",
              "          await google.colab.output.renderOutput(dataTable, element);\n",
              "          const docLink = document.createElement('div');\n",
              "          docLink.innerHTML = docLinkHtml;\n",
              "          element.appendChild(docLink);\n",
              "        }\n",
              "      </script>\n",
              "    </div>\n",
              "  </div>\n",
              "  "
            ],
            "text/plain": [
              "           rank    elpd_loo      p_loo  elpd_diff  weight         se  \\\n",
              "Student T     0 -101.677321   5.527944   0.000000     1.0  14.885440   \n",
              "gaussian      1 -171.243763  13.222263  69.566442     0.0  29.098323   \n",
              "\n",
              "                 dse  warning scale  \n",
              "Student T   0.000000    False   log  \n",
              "gaussian   17.372273     True   log  "
            ]
          },
          "execution_count": 16,
          "metadata": {},
          "output_type": "execute_result"
        }
      ],
      "source": [
        "models = {\n",
        "    \"gaussian\": gauss_fitted,\n",
        "    \"Student T\": t_fitted\n",
        "}\n",
        "df_compare = az.compare(models)\n",
        "df_compare"
      ]
    },
    {
      "cell_type": "code",
      "execution_count": null,
      "id": "f1f1e08f",
      "metadata": {
        "colab": {
          "base_uri": "https://localhost:8080/",
          "height": 228
        },
        "id": "f1f1e08f",
        "outputId": "0e42a14c-3033-4f76-b254-037901048632"
      },
      "outputs": [
        {
          "data": {
            "image/png": "[encoded data removed]",
            "text/plain": [
              "<Figure size 600x200 with 1 Axes>"
            ]
          },
          "metadata": {},
          "output_type": "display_data"
        }
      ],
      "source": [
        "az.plot_compare(df_compare, insample_dev=False)"
      ]
    },
    {
      "cell_type": "markdown",
      "id": "2b62d1df",
      "metadata": {
        "id": "2b62d1df"
      },
      "source": [
        "Here it is quite obvious that the Student T model is much better, due to having a clearly larger value of LOO."
      ]
    }
  ],
  "metadata": {
    "colab": {
      "provenance": []
    },
    "kernelspec": {
      "display_name": "bambi",
      "language": "python",
      "name": "python3"
    },
    "language_info": {
      "codemirror_mode": {
        "name": "ipython",
        "version": 3
      },
      "file_extension": ".py",
      "mimetype": "text/x-python",
      "name": "python",
      "nbconvert_exporter": "python",
      "pygments_lexer": "ipython3",
      "version": "3.10.4"
    },
    "vscode": {
      "interpreter": {
        "hash": "1008626715a3728f1d66c057190bde332dc65ea99517a942c5f170959679b77d"
      }
    }
  },
  "nbformat": 4,
  "nbformat_minor": 5
}
