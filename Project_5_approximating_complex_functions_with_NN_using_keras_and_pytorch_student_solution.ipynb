{
  "cells": [
    {
      "cell_type": "code",
      "execution_count": null,
      "id": "jpyUN8c7X0NB",
      "metadata": {
        "colab": {
          "base_uri": "https://localhost:8080/"
        },
        "id": "jpyUN8c7X0NB",
        "outputId": "aaab630b-9b1e-4573-9627-bb8ba3922b09"
      },
      "outputs": [
        {
          "output_type": "stream",
          "name": "stdout",
          "text": [
            "Mounted at /content/drive\n"
          ]
        }
      ],
      "source": [
        "\n",
        "from google.colab import drive\n",
        "drive.mount('/content/drive')"
      ]
    },
    {
      "cell_type": "markdown",
      "id": "4da12f83",
      "metadata": {
        "id": "4da12f83"
      },
      "source": [
        "\\begin{exercise}\n",
        "Modify the following  keras code to approximate the function given in Lab 1.\n",
        "\n",
        "\\end{exercise}\n"
      ]
    },
    {
      "cell_type": "markdown",
      "id": "d497facf",
      "metadata": {
        "id": "d497facf"
      },
      "source": [
        "# Approximate Functions using Neural Nets with Keras implementation"
      ]
    },
    {
      "cell_type": "markdown",
      "id": "0c0f1b8f",
      "metadata": {
        "id": "0c0f1b8f"
      },
      "source": [
        "\\begin{example}\n",
        "Consider the nonlinear function $\\exp(x)$ and try to approximate it with a neural network using keras platform\n",
        "\n",
        "\\end{example}\n"
      ]
    },
    {
      "cell_type": "code",
      "execution_count": null,
      "id": "17fdb301",
      "metadata": {
        "id": "17fdb301"
      },
      "outputs": [],
      "source": [
        "import keras as K\n",
        "import numpy as np\n",
        "import matplotlib.pyplot as plt\n",
        "%matplotlib inline"
      ]
    },
    {
      "cell_type": "code",
      "execution_count": null,
      "id": "9d86dacb",
      "metadata": {
        "colab": {
          "base_uri": "https://localhost:8080/",
          "height": 430
        },
        "id": "9d86dacb",
        "outputId": "cda1078c-4e72-46a6-f271-6e2e07c6c7f5"
      },
      "outputs": [
        {
          "output_type": "display_data",
          "data": {
            "text/plain": [
              "<Figure size 640x480 with 1 Axes>"
            ],
            "image/png": "[encoded data removed]"
          },
          "metadata": {}
        }
      ],
      "source": [
        "DATA_SIZE = 500\n",
        "\n",
        "def gen_data():\n",
        "    x_ = 5 * np.random.rand(DATA_SIZE)\n",
        "    y_ = np.exp(-x_)\n",
        "    return x_, y_\n",
        "\n",
        "x, y = gen_data()\n",
        "plt.scatter(x,y)\n",
        "plt.show()"
      ]
    },
    {
      "cell_type": "code",
      "execution_count": null,
      "id": "71625152",
      "metadata": {
        "id": "71625152"
      },
      "outputs": [],
      "source": [
        "from tensorflow import keras\n",
        "from keras.models import Sequential\n",
        "from keras.layers import Dense, Activation\n",
        "from keras.callbacks import Callback\n",
        "from keras import regularizers\n",
        "from keras import optimizers\n",
        "import tensorflow as tf"
      ]
    },
    {
      "cell_type": "markdown",
      "id": "e74244fe",
      "metadata": {
        "id": "e74244fe"
      },
      "source": [
        "## neural net solution\n",
        "\n",
        "- one intermediate layer with 8 cells, \n",
        "\n",
        "- activation elu, \n",
        "\n",
        "- optimizer: stochastic gradient optimizer with batch size 32\n",
        "\n",
        "- loss function: mean square error\n",
        "\n",
        "- metrics for the performance of the network: Root Mean Square Error, Mean Absolute Error\n",
        "\n",
        "- number of iterations or epochs is 10 in this example"
      ]
    },
    {
      "cell_type": "code",
      "execution_count": null,
      "id": "6cc05e5f",
      "metadata": {
        "colab": {
          "base_uri": "https://localhost:8080/"
        },
        "id": "6cc05e5f",
        "outputId": "bec2f5d6-2d21-4164-8c3f-066ed55fc56b"
      },
      "outputs": [
        {
          "output_type": "stream",
          "name": "stdout",
          "text": [
            "Epoch 1/10\n",
            "16/16 [==============================] - 1s 21ms/step - loss: 0.0555 - root_mean_squared_error: 0.2355 - mean_absolute_error: 0.1431 - val_loss: 0.0208 - val_root_mean_squared_error: 0.1442 - val_mean_absolute_error: 0.0913\n",
            "Epoch 2/10\n",
            "16/16 [==============================] - 0s 5ms/step - loss: 0.0153 - root_mean_squared_error: 0.1236 - mean_absolute_error: 0.1016 - val_loss: 0.0170 - val_root_mean_squared_error: 0.1303 - val_mean_absolute_error: 0.1129\n",
            "Epoch 3/10\n",
            "16/16 [==============================] - 0s 4ms/step - loss: 0.0158 - root_mean_squared_error: 0.1258 - mean_absolute_error: 0.1068 - val_loss: 0.0168 - val_root_mean_squared_error: 0.1295 - val_mean_absolute_error: 0.1015\n",
            "Epoch 4/10\n",
            "16/16 [==============================] - 0s 5ms/step - loss: 0.0131 - root_mean_squared_error: 0.1145 - mean_absolute_error: 0.0902 - val_loss: 0.0132 - val_root_mean_squared_error: 0.1150 - val_mean_absolute_error: 0.0862\n",
            "Epoch 5/10\n",
            "16/16 [==============================] - 0s 4ms/step - loss: 0.0114 - root_mean_squared_error: 0.1070 - mean_absolute_error: 0.0844 - val_loss: 0.0117 - val_root_mean_squared_error: 0.1084 - val_mean_absolute_error: 0.0832\n",
            "Epoch 6/10\n",
            "16/16 [==============================] - 0s 5ms/step - loss: 0.0104 - root_mean_squared_error: 0.1018 - mean_absolute_error: 0.0813 - val_loss: 0.0112 - val_root_mean_squared_error: 0.1057 - val_mean_absolute_error: 0.0795\n",
            "Epoch 7/10\n",
            "16/16 [==============================] - 0s 5ms/step - loss: 0.0094 - root_mean_squared_error: 0.0969 - mean_absolute_error: 0.0772 - val_loss: 0.0102 - val_root_mean_squared_error: 0.1008 - val_mean_absolute_error: 0.0789\n",
            "Epoch 8/10\n",
            "16/16 [==============================] - 0s 5ms/step - loss: 0.0088 - root_mean_squared_error: 0.0937 - mean_absolute_error: 0.0741 - val_loss: 0.0110 - val_root_mean_squared_error: 0.1051 - val_mean_absolute_error: 0.0788\n",
            "Epoch 9/10\n",
            "16/16 [==============================] - 0s 5ms/step - loss: 0.0083 - root_mean_squared_error: 0.0910 - mean_absolute_error: 0.0717 - val_loss: 0.0080 - val_root_mean_squared_error: 0.0893 - val_mean_absolute_error: 0.0679\n",
            "Epoch 10/10\n",
            "16/16 [==============================] - 0s 4ms/step - loss: 0.0074 - root_mean_squared_error: 0.0860 - mean_absolute_error: 0.0692 - val_loss: 0.0070 - val_root_mean_squared_error: 0.0837 - val_mean_absolute_error: 0.0645\n"
          ]
        },
        {
          "output_type": "execute_result",
          "data": {
            "text/plain": [
              "<keras.callbacks.History at 0x7f9450c47fd0>"
            ]
          },
          "metadata": {},
          "execution_count": 5
        }
      ],
      "source": [
        "x_test, y_test = gen_data()\n",
        "model = K.Sequential([\n",
        "    K.layers.Dense(8, input_shape=(1,)),\n",
        "    K.layers.Activation(\"elu\"),\n",
        "    K.layers.Dense(1),\n",
        "])\n",
        "sgd = tf.keras.optimizers.SGD(0.01, momentum=0.9)\n",
        "\n",
        "#model.compile(optimizer=sgd, loss=\"mse\")\n",
        "model.compile(\n",
        "    optimizer = sgd,\n",
        "    loss='mean_squared_error',\n",
        "    metrics=[\n",
        "        'RootMeanSquaredError',\n",
        "        'MeanAbsoluteError',\n",
        "    ]\n",
        ")\n",
        "\n",
        "model.fit(x=x,y=y,epochs=10, verbose=1,batch_size=32,validation_data=(x_test,y_test))"
      ]
    },
    {
      "cell_type": "markdown",
      "id": "bee8385a",
      "metadata": {
        "id": "bee8385a"
      },
      "source": [
        "## The architecture of the above NN"
      ]
    },
    {
      "cell_type": "code",
      "execution_count": null,
      "id": "XRdEasyEYhEF",
      "metadata": {
        "colab": {
          "base_uri": "https://localhost:8080/"
        },
        "id": "XRdEasyEYhEF",
        "outputId": "e9c7c0a6-4b89-4008-ebf4-a200d6e3e821"
      },
      "outputs": [
        {
          "output_type": "stream",
          "name": "stdout",
          "text": [
            "Model: \"sequential\"\n",
            "_________________________________________________________________\n",
            " Layer (type)                Output Shape              Param #   \n",
            "=================================================================\n",
            " dense (Dense)               (None, 8)                 16        \n",
            "                                                                 \n",
            " activation (Activation)     (None, 8)                 0         \n",
            "                                                                 \n",
            " dense_1 (Dense)             (None, 1)                 9         \n",
            "                                                                 \n",
            "=================================================================\n",
            "Total params: 25\n",
            "Trainable params: 25\n",
            "Non-trainable params: 0\n",
            "_________________________________________________________________\n"
          ]
        }
      ],
      "source": [
        "model.summary()"
      ]
    },
    {
      "cell_type": "markdown",
      "id": "26100aaa",
      "metadata": {
        "id": "26100aaa"
      },
      "source": [
        "## k - fold evaluation of the NN model"
      ]
    },
    {
      "cell_type": "code",
      "execution_count": null,
      "id": "CHrbCS1_ZNIt",
      "metadata": {
        "colab": {
          "base_uri": "https://localhost:8080/"
        },
        "id": "CHrbCS1_ZNIt",
        "outputId": "e4db2ad4-563e-42ee-a7f6-436e5796cc1b"
      },
      "outputs": [
        {
          "output_type": "stream",
          "name": "stdout",
          "text": [
            "16/16 [==============================] - 0s 2ms/step - loss: 0.0067 - root_mean_squared_error: 0.0820 - mean_absolute_error: 0.0657\n",
            "root_mean_squared_error 0.08197758346796036\n",
            "16/16 [==============================] - 0s 3ms/step - loss: 0.0070 - root_mean_squared_error: 0.0837 - mean_absolute_error: 0.0642\n",
            "root_mean_squared_error 0.08371195197105408\n",
            "16/16 [==============================] - 0s 3ms/step - loss: 0.0071 - root_mean_squared_error: 0.0844 - mean_absolute_error: 0.0666\n",
            "root_mean_squared_error 0.08436699956655502\n",
            "16/16 [==============================] - 0s 2ms/step - loss: 0.0059 - root_mean_squared_error: 0.0770 - mean_absolute_error: 0.0605\n",
            "root_mean_squared_error 0.0770440623164177\n",
            "16/16 [==============================] - 0s 2ms/step - loss: 0.0068 - root_mean_squared_error: 0.0825 - mean_absolute_error: 0.0663\n",
            "root_mean_squared_error 0.0825207307934761\n",
            "K fold evaluation: mean loss= 0.08192426562309266, std = 0.002582160700025232\n"
          ]
        }
      ],
      "source": [
        "# k fold evaluation\n",
        "# our data have a random noise so every time we generate new data we get different evaluation score\n",
        "# for k = 1 it performs just an evaluation and returns\n",
        "def kfold_eval(model, k_fold = 5):\n",
        "  cvscores = []\n",
        "  for k in range(k_fold):\n",
        "    x_test,y_test = gen_data()\n",
        "    scores = model.evaluate(x_test, y_test, verbose=1)\n",
        "    print(model.metrics_names[1], scores[1])\n",
        "    cvscores.append(scores[1])\n",
        "  return cvscores\n",
        "\n",
        "cvscores = kfold_eval(model)\n",
        "print(f'K fold evaluation: mean loss= {np.mean(cvscores)}, std = {np.std(cvscores)}')"
      ]
    },
    {
      "cell_type": "markdown",
      "id": "d80b84fa",
      "metadata": {
        "id": "d80b84fa"
      },
      "source": [
        "## print the test results"
      ]
    },
    {
      "cell_type": "code",
      "execution_count": null,
      "id": "Jb2iWWBSfsUg",
      "metadata": {
        "colab": {
          "base_uri": "https://localhost:8080/"
        },
        "id": "Jb2iWWBSfsUg",
        "outputId": "5666c64b-c667-42ed-c642-86e2e9951536"
      },
      "outputs": [
        {
          "output_type": "stream",
          "name": "stdout",
          "text": [
            "16/16 [==============================] - 0s 2ms/step - loss: 0.0070 - root_mean_squared_error: 0.0837 - mean_absolute_error: 0.0645\n",
            "Test loss: 0.006999884266406298\n",
            "Test MAE: 0.08366531133651733\n",
            "Test RMSE 0.0644955262541771\n"
          ]
        }
      ],
      "source": [
        "def print_test(model, x_test, y_test):\n",
        "  scores = model.evaluate(x_test, y_test, verbose=1)\n",
        "  print('Test loss:', scores[0])\n",
        "  print('Test MAE:', scores[1])\n",
        "  print('Test RMSE', scores[2])\n",
        "\n",
        "def print_train(model, x_train, y_train):\n",
        "  scores = model.evaluate(x_train, y_train, verbose=1)\n",
        "  print('Train loss:', scores[0])\n",
        "  print('Train MAE:', scores[1])\n",
        "  print('Train RMSE', scores[2])\n",
        "\n",
        "\n",
        "print_test(model, x_test, y_test)"
      ]
    },
    {
      "cell_type": "markdown",
      "id": "6cd82d62",
      "metadata": {
        "id": "6cd82d62"
      },
      "source": [
        "## Plots the function and its NN approximation"
      ]
    },
    {
      "cell_type": "code",
      "execution_count": null,
      "id": "3e40bdaf",
      "metadata": {
        "colab": {
          "base_uri": "https://localhost:8080/",
          "height": 517
        },
        "id": "3e40bdaf",
        "outputId": "e94ba837-4981-412f-aa0e-b38eba8ec789"
      },
      "outputs": [
        {
          "output_type": "stream",
          "name": "stdout",
          "text": [
            "16/16 [==============================] - 0s 2ms/step - loss: 0.0064 - root_mean_squared_error: 0.0800 - mean_absolute_error: 0.0641\n",
            "Train loss: 0.006395348813384771\n",
            "Train MAE: 0.07997092604637146\n",
            "Train RMSE 0.06405710428953171\n",
            "16/16 [==============================] - 0s 2ms/step\n"
          ]
        },
        {
          "output_type": "display_data",
          "data": {
            "text/plain": [
              "<Figure size 640x480 with 1 Axes>"
            ],
            "image/png": "[encoded data removed]"
          },
          "metadata": {}
        }
      ],
      "source": [
        "def plot_approx(model,x,y):\n",
        "  print_train(model,x,y)\n",
        "  plt.scatter(x,y)\n",
        "  plt.scatter(x, model.predict(x))\n",
        "  plt.legend(['Function', 'Approx'])\n",
        "  plt.show()\n",
        "plot_approx(model,x,y)"
      ]
    },
    {
      "cell_type": "markdown",
      "id": "VoRMr8zFqry2",
      "metadata": {
        "id": "VoRMr8zFqry2"
      },
      "source": [
        "## Solution with more iterations \n",
        "If we train this model with more epochs we will get a better approximation"
      ]
    },
    {
      "cell_type": "code",
      "execution_count": null,
      "id": "RRC7_rpYqgL2",
      "metadata": {
        "colab": {
          "base_uri": "https://localhost:8080/"
        },
        "id": "RRC7_rpYqgL2",
        "outputId": "5fa7ce74-e53d-467f-dc3b-4ccaa976056a"
      },
      "outputs": [
        {
          "output_type": "stream",
          "name": "stdout",
          "text": [
            "Epoch 1/20\n",
            "16/16 [==============================] - 1s 22ms/step - loss: 0.0678 - root_mean_squared_error: 0.2603 - mean_absolute_error: 0.1974 - val_loss: 0.0329 - val_root_mean_squared_error: 0.1815 - val_mean_absolute_error: 0.1449\n",
            "Epoch 2/20\n",
            "16/16 [==============================] - 0s 7ms/step - loss: 0.0236 - root_mean_squared_error: 0.1538 - mean_absolute_error: 0.1282 - val_loss: 0.0175 - val_root_mean_squared_error: 0.1322 - val_mean_absolute_error: 0.1102\n",
            "Epoch 3/20\n",
            "16/16 [==============================] - 0s 9ms/step - loss: 0.0157 - root_mean_squared_error: 0.1252 - mean_absolute_error: 0.1045 - val_loss: 0.0132 - val_root_mean_squared_error: 0.1147 - val_mean_absolute_error: 0.0908\n",
            "Epoch 4/20\n",
            "16/16 [==============================] - 0s 9ms/step - loss: 0.0105 - root_mean_squared_error: 0.1024 - mean_absolute_error: 0.0811 - val_loss: 0.0092 - val_root_mean_squared_error: 0.0958 - val_mean_absolute_error: 0.0723\n",
            "Epoch 5/20\n",
            "16/16 [==============================] - 0s 6ms/step - loss: 0.0077 - root_mean_squared_error: 0.0878 - mean_absolute_error: 0.0666 - val_loss: 0.0071 - val_root_mean_squared_error: 0.0844 - val_mean_absolute_error: 0.0633\n",
            "Epoch 6/20\n",
            "16/16 [==============================] - 0s 6ms/step - loss: 0.0056 - root_mean_squared_error: 0.0746 - mean_absolute_error: 0.0581 - val_loss: 0.0049 - val_root_mean_squared_error: 0.0699 - val_mean_absolute_error: 0.0531\n",
            "Epoch 7/20\n",
            "16/16 [==============================] - 0s 6ms/step - loss: 0.0040 - root_mean_squared_error: 0.0632 - mean_absolute_error: 0.0501 - val_loss: 0.0034 - val_root_mean_squared_error: 0.0587 - val_mean_absolute_error: 0.0443\n",
            "Epoch 8/20\n",
            "16/16 [==============================] - 0s 9ms/step - loss: 0.0028 - root_mean_squared_error: 0.0532 - mean_absolute_error: 0.0406 - val_loss: 0.0025 - val_root_mean_squared_error: 0.0499 - val_mean_absolute_error: 0.0361\n",
            "Epoch 9/20\n",
            "16/16 [==============================] - 0s 9ms/step - loss: 0.0020 - root_mean_squared_error: 0.0448 - mean_absolute_error: 0.0319 - val_loss: 0.0018 - val_root_mean_squared_error: 0.0427 - val_mean_absolute_error: 0.0287\n",
            "Epoch 10/20\n",
            "16/16 [==============================] - 0s 9ms/step - loss: 0.0014 - root_mean_squared_error: 0.0379 - mean_absolute_error: 0.0265 - val_loss: 0.0014 - val_root_mean_squared_error: 0.0370 - val_mean_absolute_error: 0.0250\n",
            "Epoch 11/20\n",
            "16/16 [==============================] - 0s 7ms/step - loss: 0.0011 - root_mean_squared_error: 0.0330 - mean_absolute_error: 0.0231 - val_loss: 0.0011 - val_root_mean_squared_error: 0.0326 - val_mean_absolute_error: 0.0217\n",
            "Epoch 12/20\n",
            "16/16 [==============================] - 0s 9ms/step - loss: 8.5218e-04 - root_mean_squared_error: 0.0292 - mean_absolute_error: 0.0207 - val_loss: 8.7215e-04 - val_root_mean_squared_error: 0.0295 - val_mean_absolute_error: 0.0210\n",
            "Epoch 13/20\n",
            "16/16 [==============================] - 0s 5ms/step - loss: 6.8007e-04 - root_mean_squared_error: 0.0261 - mean_absolute_error: 0.0181 - val_loss: 7.1171e-04 - val_root_mean_squared_error: 0.0267 - val_mean_absolute_error: 0.0180\n",
            "Epoch 14/20\n",
            "16/16 [==============================] - 0s 4ms/step - loss: 5.6342e-04 - root_mean_squared_error: 0.0237 - mean_absolute_error: 0.0165 - val_loss: 6.2368e-04 - val_root_mean_squared_error: 0.0250 - val_mean_absolute_error: 0.0172\n",
            "Epoch 15/20\n",
            "16/16 [==============================] - 0s 5ms/step - loss: 4.9709e-04 - root_mean_squared_error: 0.0223 - mean_absolute_error: 0.0158 - val_loss: 5.7438e-04 - val_root_mean_squared_error: 0.0240 - val_mean_absolute_error: 0.0169\n",
            "Epoch 16/20\n",
            "16/16 [==============================] - 0s 5ms/step - loss: 4.5251e-04 - root_mean_squared_error: 0.0213 - mean_absolute_error: 0.0155 - val_loss: 5.2986e-04 - val_root_mean_squared_error: 0.0230 - val_mean_absolute_error: 0.0169\n",
            "Epoch 17/20\n",
            "16/16 [==============================] - 0s 5ms/step - loss: 4.2965e-04 - root_mean_squared_error: 0.0207 - mean_absolute_error: 0.0157 - val_loss: 4.9805e-04 - val_root_mean_squared_error: 0.0223 - val_mean_absolute_error: 0.0171\n",
            "Epoch 18/20\n",
            "16/16 [==============================] - 0s 5ms/step - loss: 3.9954e-04 - root_mean_squared_error: 0.0200 - mean_absolute_error: 0.0152 - val_loss: 4.7417e-04 - val_root_mean_squared_error: 0.0218 - val_mean_absolute_error: 0.0168\n",
            "Epoch 19/20\n",
            "16/16 [==============================] - 0s 4ms/step - loss: 3.8920e-04 - root_mean_squared_error: 0.0197 - mean_absolute_error: 0.0153 - val_loss: 4.6021e-04 - val_root_mean_squared_error: 0.0215 - val_mean_absolute_error: 0.0167\n",
            "Epoch 20/20\n",
            "16/16 [==============================] - 0s 7ms/step - loss: 3.7717e-04 - root_mean_squared_error: 0.0194 - mean_absolute_error: 0.0151 - val_loss: 4.5857e-04 - val_root_mean_squared_error: 0.0214 - val_mean_absolute_error: 0.0165\n"
          ]
        },
        {
          "output_type": "execute_result",
          "data": {
            "text/plain": [
              "<keras.callbacks.History at 0x7f943ad0dd90>"
            ]
          },
          "metadata": {},
          "execution_count": 10
        }
      ],
      "source": [
        "x_test, y_test = gen_data()\n",
        "model = K.Sequential([\n",
        "    K.layers.Dense(8, input_shape=(1,)),\n",
        "    K.layers.Activation(\"elu\"),\n",
        "    K.layers.Dense(1),\n",
        "])\n",
        "sgd = tf.keras.optimizers.SGD(0.01, momentum=0.9)\n",
        "\n",
        "#model.compile(optimizer=sgd, loss=\"mse\")\n",
        "model.compile(\n",
        "    optimizer = sgd,\n",
        "    loss='mean_squared_error',\n",
        "    metrics=[\n",
        "        'RootMeanSquaredError',\n",
        "        'MeanAbsoluteError',\n",
        "    ]\n",
        ")\n",
        "\n",
        "model.fit(x=x,y=y,epochs=20, verbose=1,batch_size=32,validation_data=(x_test,y_test))"
      ]
    },
    {
      "cell_type": "code",
      "execution_count": null,
      "id": "lbkerKgFq7R9",
      "metadata": {
        "colab": {
          "base_uri": "https://localhost:8080/",
          "height": 517
        },
        "id": "lbkerKgFq7R9",
        "outputId": "edb008b3-e093-4186-dcb6-e17aed761695"
      },
      "outputs": [
        {
          "output_type": "stream",
          "name": "stdout",
          "text": [
            "16/16 [==============================] - 0s 2ms/step - loss: 3.7205e-04 - root_mean_squared_error: 0.0193 - mean_absolute_error: 0.0149\n",
            "Train loss: 0.0003720504464581609\n",
            "Train MAE: 0.01928860880434513\n",
            "Train RMSE 0.014852755703032017\n",
            "16/16 [==============================] - 0s 2ms/step\n"
          ]
        },
        {
          "output_type": "display_data",
          "data": {
            "text/plain": [
              "<Figure size 640x480 with 1 Axes>"
            ],
            "image/png": "[encoded data removed]"
          },
          "metadata": {}
        }
      ],
      "source": [
        "plot_approx(model,x,y)"
      ]
    },
    {
      "cell_type": "markdown",
      "id": "FHXILUHgM5-o",
      "metadata": {
        "id": "FHXILUHgM5-o"
      },
      "source": [
        "# Exercise 1\n",
        "\n",
        "Try to use two internal layers with upp to 10 cells"
      ]
    },
    {
      "cell_type": "code",
      "execution_count": null,
      "id": "VA_kUrs4M5fR",
      "metadata": {
        "id": "VA_kUrs4M5fR",
        "colab": {
          "base_uri": "https://localhost:8080/",
          "height": 430
        },
        "outputId": "168627ac-4e79-41fd-c8c5-73e32e157a24"
      },
      "outputs": [
        {
          "output_type": "display_data",
          "data": {
            "text/plain": [
              "<Figure size 640x480 with 1 Axes>"
            ],
            "image/png": "[encoded data removed]"
          },
          "metadata": {}
        }
      ],
      "source": [
        "#the function we want to approach using OLS\n",
        "import numpy as np\n",
        "import matplotlib.pyplot as plt\n",
        "def f(x):\n",
        "    return 1 / (1 + np.multiply(x,x))\n",
        "\n",
        "def get_points():\n",
        "    return np.linspace(start=-5, stop=5, num=60)\n",
        "\n",
        "x = get_points()\n",
        "y = f(x)\n",
        "\n",
        "def plot_f(x, y):\n",
        "  plt.scatter(x, y)\n",
        "  plt.show()\n",
        "\n",
        "plot_f(x,y)"
      ]
    },
    {
      "cell_type": "code",
      "source": [
        "# Define the neural network model\n",
        "model = K.Sequential([\n",
        "    K.layers.Dense(10, input_shape=(1,)),\n",
        "    K.layers.Activation(\"relu\"),\n",
        "    K.layers.Dense(10, input_shape=(1,)),\n",
        "    K.layers.Activation(\"relu\"),\n",
        "    K.layers.Dense(1),\n",
        "])\n",
        "sgd = tf.keras.optimizers.SGD(0.01, momentum=0.9)\n",
        "\n",
        "model.compile(\n",
        "    optimizer = sgd,\n",
        "    loss='mean_squared_error',\n",
        "    metrics=[\n",
        "        'RootMeanSquaredError',\n",
        "        'MeanAbsoluteError',\n",
        "    ]\n",
        ")"
      ],
      "metadata": {
        "id": "f7jH8qebo4YA"
      },
      "id": "f7jH8qebo4YA",
      "execution_count": null,
      "outputs": []
    },
    {
      "cell_type": "code",
      "source": [
        "model.summary()"
      ],
      "metadata": {
        "colab": {
          "base_uri": "https://localhost:8080/"
        },
        "id": "8-SViybFp_U4",
        "outputId": "4665edba-dcab-4e24-c9c3-c6fb93e211ff"
      },
      "id": "8-SViybFp_U4",
      "execution_count": null,
      "outputs": [
        {
          "output_type": "stream",
          "name": "stdout",
          "text": [
            "Model: \"sequential_2\"\n",
            "_________________________________________________________________\n",
            " Layer (type)                Output Shape              Param #   \n",
            "=================================================================\n",
            " dense_4 (Dense)             (None, 10)                20        \n",
            "                                                                 \n",
            " activation_2 (Activation)   (None, 10)                0         \n",
            "                                                                 \n",
            " dense_5 (Dense)             (None, 10)                110       \n",
            "                                                                 \n",
            " activation_3 (Activation)   (None, 10)                0         \n",
            "                                                                 \n",
            " dense_6 (Dense)             (None, 1)                 11        \n",
            "                                                                 \n",
            "=================================================================\n",
            "Total params: 141\n",
            "Trainable params: 141\n",
            "Non-trainable params: 0\n",
            "_________________________________________________________________\n"
          ]
        }
      ]
    },
    {
      "cell_type": "code",
      "source": [
        "# Train the model on the cached dataset\n",
        "model.fit(x, y, epochs=200, verbose=1,batch_size=32, validation_split=0.2)"
      ],
      "metadata": {
        "colab": {
          "base_uri": "https://localhost:8080/"
        },
        "id": "QG-whxGBrDON",
        "outputId": "9d66079a-a986-4254-b041-bd8db68ee17c"
      },
      "id": "QG-whxGBrDON",
      "execution_count": null,
      "outputs": [
        {
          "output_type": "stream",
          "name": "stdout",
          "text": [
            "Epoch 1/200\n",
            "2/2 [==============================] - 1s 202ms/step - loss: 1.0617 - root_mean_squared_error: 1.0304 - mean_absolute_error: 0.9753 - val_loss: 0.3668 - val_root_mean_squared_error: 0.6056 - val_mean_absolute_error: 0.6006\n",
            "Epoch 2/200\n",
            "2/2 [==============================] - 0s 33ms/step - loss: 0.2808 - root_mean_squared_error: 0.5299 - mean_absolute_error: 0.4837 - val_loss: 0.0153 - val_root_mean_squared_error: 0.1236 - val_mean_absolute_error: 0.1198\n",
            "Epoch 3/200\n",
            "2/2 [==============================] - 0s 52ms/step - loss: 0.1137 - root_mean_squared_error: 0.3372 - mean_absolute_error: 0.2652 - val_loss: 0.0983 - val_root_mean_squared_error: 0.3136 - val_mean_absolute_error: 0.3134\n",
            "Epoch 4/200\n",
            "2/2 [==============================] - 0s 52ms/step - loss: 0.2148 - root_mean_squared_error: 0.4635 - mean_absolute_error: 0.4017 - val_loss: 0.3517 - val_root_mean_squared_error: 0.5930 - val_mean_absolute_error: 0.5919\n",
            "Epoch 5/200\n",
            "2/2 [==============================] - 0s 36ms/step - loss: 0.2784 - root_mean_squared_error: 0.5277 - mean_absolute_error: 0.4680 - val_loss: 0.4627 - val_root_mean_squared_error: 0.6802 - val_mean_absolute_error: 0.6789\n",
            "Epoch 6/200\n",
            "2/2 [==============================] - 0s 53ms/step - loss: 0.2370 - root_mean_squared_error: 0.4868 - mean_absolute_error: 0.4410 - val_loss: 0.3576 - val_root_mean_squared_error: 0.5980 - val_mean_absolute_error: 0.5972\n",
            "Epoch 7/200\n",
            "2/2 [==============================] - 0s 33ms/step - loss: 0.1650 - root_mean_squared_error: 0.4062 - mean_absolute_error: 0.3685 - val_loss: 0.1650 - val_root_mean_squared_error: 0.4063 - val_mean_absolute_error: 0.4062\n",
            "Epoch 8/200\n",
            "2/2 [==============================] - 0s 35ms/step - loss: 0.0989 - root_mean_squared_error: 0.3145 - mean_absolute_error: 0.2772 - val_loss: 0.0400 - val_root_mean_squared_error: 0.1999 - val_mean_absolute_error: 0.1989\n",
            "Epoch 9/200\n",
            "2/2 [==============================] - 0s 49ms/step - loss: 0.0698 - root_mean_squared_error: 0.2642 - mean_absolute_error: 0.1990 - val_loss: 0.0018 - val_root_mean_squared_error: 0.0422 - val_mean_absolute_error: 0.0364\n",
            "Epoch 10/200\n",
            "2/2 [==============================] - 0s 33ms/step - loss: 0.0661 - root_mean_squared_error: 0.2571 - mean_absolute_error: 0.1551 - val_loss: 0.0152 - val_root_mean_squared_error: 0.1233 - val_mean_absolute_error: 0.1097\n",
            "Epoch 11/200\n",
            "2/2 [==============================] - 0s 36ms/step - loss: 0.0704 - root_mean_squared_error: 0.2652 - mean_absolute_error: 0.1720 - val_loss: 0.0397 - val_root_mean_squared_error: 0.1993 - val_mean_absolute_error: 0.1870\n",
            "Epoch 12/200\n",
            "2/2 [==============================] - 0s 34ms/step - loss: 0.0710 - root_mean_squared_error: 0.2664 - mean_absolute_error: 0.1889 - val_loss: 0.0545 - val_root_mean_squared_error: 0.2334 - val_mean_absolute_error: 0.2202\n",
            "Epoch 13/200\n",
            "2/2 [==============================] - 0s 50ms/step - loss: 0.0648 - root_mean_squared_error: 0.2546 - mean_absolute_error: 0.1788 - val_loss: 0.0531 - val_root_mean_squared_error: 0.2303 - val_mean_absolute_error: 0.2153\n",
            "Epoch 14/200\n",
            "2/2 [==============================] - 0s 33ms/step - loss: 0.0522 - root_mean_squared_error: 0.2286 - mean_absolute_error: 0.1464 - val_loss: 0.0424 - val_root_mean_squared_error: 0.2058 - val_mean_absolute_error: 0.1880\n",
            "Epoch 15/200\n",
            "2/2 [==============================] - 0s 35ms/step - loss: 0.0421 - root_mean_squared_error: 0.2053 - mean_absolute_error: 0.1217 - val_loss: 0.0296 - val_root_mean_squared_error: 0.1720 - val_mean_absolute_error: 0.1499\n",
            "Epoch 16/200\n",
            "2/2 [==============================] - 0s 53ms/step - loss: 0.0344 - root_mean_squared_error: 0.1853 - mean_absolute_error: 0.1196 - val_loss: 0.0210 - val_root_mean_squared_error: 0.1450 - val_mean_absolute_error: 0.1193\n",
            "Epoch 17/200\n",
            "2/2 [==============================] - 0s 51ms/step - loss: 0.0328 - root_mean_squared_error: 0.1811 - mean_absolute_error: 0.1341 - val_loss: 0.0171 - val_root_mean_squared_error: 0.1306 - val_mean_absolute_error: 0.1055\n",
            "Epoch 18/200\n",
            "2/2 [==============================] - 0s 51ms/step - loss: 0.0323 - root_mean_squared_error: 0.1797 - mean_absolute_error: 0.1472 - val_loss: 0.0179 - val_root_mean_squared_error: 0.1337 - val_mean_absolute_error: 0.1078\n",
            "Epoch 19/200\n",
            "2/2 [==============================] - 0s 32ms/step - loss: 0.0325 - root_mean_squared_error: 0.1804 - mean_absolute_error: 0.1540 - val_loss: 0.0236 - val_root_mean_squared_error: 0.1535 - val_mean_absolute_error: 0.1248\n",
            "Epoch 20/200\n",
            "2/2 [==============================] - 0s 50ms/step - loss: 0.0309 - root_mean_squared_error: 0.1759 - mean_absolute_error: 0.1506 - val_loss: 0.0377 - val_root_mean_squared_error: 0.1941 - val_mean_absolute_error: 0.1634\n",
            "Epoch 21/200\n",
            "2/2 [==============================] - 0s 53ms/step - loss: 0.0281 - root_mean_squared_error: 0.1675 - mean_absolute_error: 0.1400 - val_loss: 0.0616 - val_root_mean_squared_error: 0.2483 - val_mean_absolute_error: 0.2208\n",
            "Epoch 22/200\n",
            "2/2 [==============================] - 0s 55ms/step - loss: 0.0247 - root_mean_squared_error: 0.1572 - mean_absolute_error: 0.1250 - val_loss: 0.0932 - val_root_mean_squared_error: 0.3053 - val_mean_absolute_error: 0.2799\n",
            "Epoch 23/200\n",
            "2/2 [==============================] - 0s 38ms/step - loss: 0.0221 - root_mean_squared_error: 0.1485 - mean_absolute_error: 0.1120 - val_loss: 0.1276 - val_root_mean_squared_error: 0.3572 - val_mean_absolute_error: 0.3330\n",
            "Epoch 24/200\n",
            "2/2 [==============================] - 0s 35ms/step - loss: 0.0205 - root_mean_squared_error: 0.1433 - mean_absolute_error: 0.1059 - val_loss: 0.1575 - val_root_mean_squared_error: 0.3969 - val_mean_absolute_error: 0.3732\n",
            "Epoch 25/200\n",
            "2/2 [==============================] - 0s 53ms/step - loss: 0.0201 - root_mean_squared_error: 0.1418 - mean_absolute_error: 0.1035 - val_loss: 0.1742 - val_root_mean_squared_error: 0.4174 - val_mean_absolute_error: 0.3938\n",
            "Epoch 26/200\n",
            "2/2 [==============================] - 0s 50ms/step - loss: 0.0197 - root_mean_squared_error: 0.1403 - mean_absolute_error: 0.1020 - val_loss: 0.1795 - val_root_mean_squared_error: 0.4236 - val_mean_absolute_error: 0.3999\n",
            "Epoch 27/200\n",
            "2/2 [==============================] - 0s 50ms/step - loss: 0.0195 - root_mean_squared_error: 0.1398 - mean_absolute_error: 0.1027 - val_loss: 0.1758 - val_root_mean_squared_error: 0.4193 - val_mean_absolute_error: 0.3952\n",
            "Epoch 28/200\n",
            "2/2 [==============================] - 0s 33ms/step - loss: 0.0191 - root_mean_squared_error: 0.1380 - mean_absolute_error: 0.1026 - val_loss: 0.1646 - val_root_mean_squared_error: 0.4057 - val_mean_absolute_error: 0.3809\n",
            "Epoch 29/200\n",
            "2/2 [==============================] - 0s 32ms/step - loss: 0.0181 - root_mean_squared_error: 0.1344 - mean_absolute_error: 0.1019 - val_loss: 0.1493 - val_root_mean_squared_error: 0.3864 - val_mean_absolute_error: 0.3607\n",
            "Epoch 30/200\n",
            "2/2 [==============================] - 0s 50ms/step - loss: 0.0173 - root_mean_squared_error: 0.1315 - mean_absolute_error: 0.1025 - val_loss: 0.1349 - val_root_mean_squared_error: 0.3673 - val_mean_absolute_error: 0.3406\n",
            "Epoch 31/200\n",
            "2/2 [==============================] - 0s 50ms/step - loss: 0.0163 - root_mean_squared_error: 0.1275 - mean_absolute_error: 0.1017 - val_loss: 0.1249 - val_root_mean_squared_error: 0.3534 - val_mean_absolute_error: 0.3259\n",
            "Epoch 32/200\n",
            "2/2 [==============================] - 0s 33ms/step - loss: 0.0161 - root_mean_squared_error: 0.1270 - mean_absolute_error: 0.1027 - val_loss: 0.1191 - val_root_mean_squared_error: 0.3451 - val_mean_absolute_error: 0.3168\n",
            "Epoch 33/200\n",
            "2/2 [==============================] - 0s 34ms/step - loss: 0.0160 - root_mean_squared_error: 0.1265 - mean_absolute_error: 0.1038 - val_loss: 0.1200 - val_root_mean_squared_error: 0.3465 - val_mean_absolute_error: 0.3178\n",
            "Epoch 34/200\n",
            "2/2 [==============================] - 0s 56ms/step - loss: 0.0159 - root_mean_squared_error: 0.1263 - mean_absolute_error: 0.1048 - val_loss: 0.1261 - val_root_mean_squared_error: 0.3551 - val_mean_absolute_error: 0.3264\n",
            "Epoch 35/200\n",
            "2/2 [==============================] - 0s 31ms/step - loss: 0.0157 - root_mean_squared_error: 0.1255 - mean_absolute_error: 0.1049 - val_loss: 0.1392 - val_root_mean_squared_error: 0.3731 - val_mean_absolute_error: 0.3447\n",
            "Epoch 36/200\n",
            "2/2 [==============================] - 0s 51ms/step - loss: 0.0154 - root_mean_squared_error: 0.1243 - mean_absolute_error: 0.1042 - val_loss: 0.1541 - val_root_mean_squared_error: 0.3925 - val_mean_absolute_error: 0.3646\n",
            "Epoch 37/200\n",
            "2/2 [==============================] - 0s 51ms/step - loss: 0.0151 - root_mean_squared_error: 0.1230 - mean_absolute_error: 0.1027 - val_loss: 0.1687 - val_root_mean_squared_error: 0.4108 - val_mean_absolute_error: 0.3832\n",
            "Epoch 38/200\n",
            "2/2 [==============================] - 0s 55ms/step - loss: 0.0149 - root_mean_squared_error: 0.1219 - mean_absolute_error: 0.1019 - val_loss: 0.1810 - val_root_mean_squared_error: 0.4254 - val_mean_absolute_error: 0.3981\n",
            "Epoch 39/200\n",
            "2/2 [==============================] - 0s 51ms/step - loss: 0.0147 - root_mean_squared_error: 0.1211 - mean_absolute_error: 0.1010 - val_loss: 0.1897 - val_root_mean_squared_error: 0.4355 - val_mean_absolute_error: 0.4083\n",
            "Epoch 40/200\n",
            "2/2 [==============================] - 0s 52ms/step - loss: 0.0146 - root_mean_squared_error: 0.1210 - mean_absolute_error: 0.1009 - val_loss: 0.1959 - val_root_mean_squared_error: 0.4426 - val_mean_absolute_error: 0.4155\n",
            "Epoch 41/200\n",
            "2/2 [==============================] - 0s 52ms/step - loss: 0.0145 - root_mean_squared_error: 0.1203 - mean_absolute_error: 0.1003 - val_loss: 0.1986 - val_root_mean_squared_error: 0.4457 - val_mean_absolute_error: 0.4186\n",
            "Epoch 42/200\n",
            "2/2 [==============================] - 0s 34ms/step - loss: 0.0144 - root_mean_squared_error: 0.1200 - mean_absolute_error: 0.1001 - val_loss: 0.1998 - val_root_mean_squared_error: 0.4470 - val_mean_absolute_error: 0.4199\n",
            "Epoch 43/200\n",
            "2/2 [==============================] - 0s 53ms/step - loss: 0.0143 - root_mean_squared_error: 0.1197 - mean_absolute_error: 0.1002 - val_loss: 0.1963 - val_root_mean_squared_error: 0.4430 - val_mean_absolute_error: 0.4157\n",
            "Epoch 44/200\n",
            "2/2 [==============================] - 0s 34ms/step - loss: 0.0142 - root_mean_squared_error: 0.1192 - mean_absolute_error: 0.1005 - val_loss: 0.1935 - val_root_mean_squared_error: 0.4399 - val_mean_absolute_error: 0.4124\n",
            "Epoch 45/200\n",
            "2/2 [==============================] - 0s 34ms/step - loss: 0.0140 - root_mean_squared_error: 0.1184 - mean_absolute_error: 0.1001 - val_loss: 0.1918 - val_root_mean_squared_error: 0.4380 - val_mean_absolute_error: 0.4104\n",
            "Epoch 46/200\n",
            "2/2 [==============================] - 0s 35ms/step - loss: 0.0139 - root_mean_squared_error: 0.1179 - mean_absolute_error: 0.1001 - val_loss: 0.1858 - val_root_mean_squared_error: 0.4310 - val_mean_absolute_error: 0.4033\n",
            "Epoch 47/200\n",
            "2/2 [==============================] - 0s 32ms/step - loss: 0.0138 - root_mean_squared_error: 0.1176 - mean_absolute_error: 0.1003 - val_loss: 0.1787 - val_root_mean_squared_error: 0.4228 - val_mean_absolute_error: 0.3948\n",
            "Epoch 48/200\n",
            "2/2 [==============================] - 0s 34ms/step - loss: 0.0137 - root_mean_squared_error: 0.1172 - mean_absolute_error: 0.1005 - val_loss: 0.1718 - val_root_mean_squared_error: 0.4145 - val_mean_absolute_error: 0.3863\n",
            "Epoch 49/200\n",
            "2/2 [==============================] - 0s 33ms/step - loss: 0.0137 - root_mean_squared_error: 0.1171 - mean_absolute_error: 0.1006 - val_loss: 0.1680 - val_root_mean_squared_error: 0.4098 - val_mean_absolute_error: 0.3816\n",
            "Epoch 50/200\n",
            "2/2 [==============================] - 0s 35ms/step - loss: 0.0136 - root_mean_squared_error: 0.1167 - mean_absolute_error: 0.1004 - val_loss: 0.1701 - val_root_mean_squared_error: 0.4124 - val_mean_absolute_error: 0.3842\n",
            "Epoch 51/200\n",
            "2/2 [==============================] - 0s 53ms/step - loss: 0.0135 - root_mean_squared_error: 0.1162 - mean_absolute_error: 0.1000 - val_loss: 0.1739 - val_root_mean_squared_error: 0.4170 - val_mean_absolute_error: 0.3890\n",
            "Epoch 52/200\n",
            "2/2 [==============================] - 0s 51ms/step - loss: 0.0134 - root_mean_squared_error: 0.1157 - mean_absolute_error: 0.0995 - val_loss: 0.1782 - val_root_mean_squared_error: 0.4222 - val_mean_absolute_error: 0.3943\n",
            "Epoch 53/200\n",
            "2/2 [==============================] - 0s 40ms/step - loss: 0.0133 - root_mean_squared_error: 0.1155 - mean_absolute_error: 0.0991 - val_loss: 0.1816 - val_root_mean_squared_error: 0.4261 - val_mean_absolute_error: 0.3984\n",
            "Epoch 54/200\n",
            "2/2 [==============================] - 0s 34ms/step - loss: 0.0132 - root_mean_squared_error: 0.1149 - mean_absolute_error: 0.0986 - val_loss: 0.1833 - val_root_mean_squared_error: 0.4282 - val_mean_absolute_error: 0.4005\n",
            "Epoch 55/200\n",
            "2/2 [==============================] - 0s 53ms/step - loss: 0.0131 - root_mean_squared_error: 0.1145 - mean_absolute_error: 0.0982 - val_loss: 0.1879 - val_root_mean_squared_error: 0.4335 - val_mean_absolute_error: 0.4060\n",
            "Epoch 56/200\n",
            "2/2 [==============================] - 0s 32ms/step - loss: 0.0130 - root_mean_squared_error: 0.1139 - mean_absolute_error: 0.0976 - val_loss: 0.1908 - val_root_mean_squared_error: 0.4368 - val_mean_absolute_error: 0.4093\n",
            "Epoch 57/200\n",
            "2/2 [==============================] - 0s 35ms/step - loss: 0.0129 - root_mean_squared_error: 0.1135 - mean_absolute_error: 0.0973 - val_loss: 0.1922 - val_root_mean_squared_error: 0.4385 - val_mean_absolute_error: 0.4111\n",
            "Epoch 58/200\n",
            "2/2 [==============================] - 0s 50ms/step - loss: 0.0127 - root_mean_squared_error: 0.1129 - mean_absolute_error: 0.0969 - val_loss: 0.1934 - val_root_mean_squared_error: 0.4398 - val_mean_absolute_error: 0.4125\n",
            "Epoch 59/200\n",
            "2/2 [==============================] - 0s 49ms/step - loss: 0.0126 - root_mean_squared_error: 0.1122 - mean_absolute_error: 0.0964 - val_loss: 0.1952 - val_root_mean_squared_error: 0.4418 - val_mean_absolute_error: 0.4145\n",
            "Epoch 60/200\n",
            "2/2 [==============================] - 0s 50ms/step - loss: 0.0125 - root_mean_squared_error: 0.1116 - mean_absolute_error: 0.0958 - val_loss: 0.1945 - val_root_mean_squared_error: 0.4411 - val_mean_absolute_error: 0.4139\n",
            "Epoch 61/200\n",
            "2/2 [==============================] - 0s 41ms/step - loss: 0.0123 - root_mean_squared_error: 0.1110 - mean_absolute_error: 0.0954 - val_loss: 0.1907 - val_root_mean_squared_error: 0.4367 - val_mean_absolute_error: 0.4095\n",
            "Epoch 62/200\n",
            "2/2 [==============================] - 0s 54ms/step - loss: 0.0121 - root_mean_squared_error: 0.1102 - mean_absolute_error: 0.0950 - val_loss: 0.1831 - val_root_mean_squared_error: 0.4279 - val_mean_absolute_error: 0.4006\n",
            "Epoch 63/200\n",
            "2/2 [==============================] - 0s 54ms/step - loss: 0.0120 - root_mean_squared_error: 0.1096 - mean_absolute_error: 0.0948 - val_loss: 0.1785 - val_root_mean_squared_error: 0.4225 - val_mean_absolute_error: 0.3951\n",
            "Epoch 64/200\n",
            "2/2 [==============================] - 0s 34ms/step - loss: 0.0118 - root_mean_squared_error: 0.1088 - mean_absolute_error: 0.0941 - val_loss: 0.1772 - val_root_mean_squared_error: 0.4210 - val_mean_absolute_error: 0.3936\n",
            "Epoch 65/200\n",
            "2/2 [==============================] - 0s 53ms/step - loss: 0.0117 - root_mean_squared_error: 0.1081 - mean_absolute_error: 0.0935 - val_loss: 0.1746 - val_root_mean_squared_error: 0.4178 - val_mean_absolute_error: 0.3905\n",
            "Epoch 66/200\n",
            "2/2 [==============================] - 0s 39ms/step - loss: 0.0115 - root_mean_squared_error: 0.1074 - mean_absolute_error: 0.0929 - val_loss: 0.1743 - val_root_mean_squared_error: 0.4175 - val_mean_absolute_error: 0.3902\n",
            "Epoch 67/200\n",
            "2/2 [==============================] - 0s 34ms/step - loss: 0.0114 - root_mean_squared_error: 0.1069 - mean_absolute_error: 0.0924 - val_loss: 0.1759 - val_root_mean_squared_error: 0.4194 - val_mean_absolute_error: 0.3923\n",
            "Epoch 68/200\n",
            "2/2 [==============================] - 0s 33ms/step - loss: 0.0113 - root_mean_squared_error: 0.1062 - mean_absolute_error: 0.0917 - val_loss: 0.1758 - val_root_mean_squared_error: 0.4192 - val_mean_absolute_error: 0.3922\n",
            "Epoch 69/200\n",
            "2/2 [==============================] - 0s 50ms/step - loss: 0.0112 - root_mean_squared_error: 0.1057 - mean_absolute_error: 0.0912 - val_loss: 0.1756 - val_root_mean_squared_error: 0.4191 - val_mean_absolute_error: 0.3921\n",
            "Epoch 70/200\n",
            "2/2 [==============================] - 0s 58ms/step - loss: 0.0110 - root_mean_squared_error: 0.1050 - mean_absolute_error: 0.0904 - val_loss: 0.1773 - val_root_mean_squared_error: 0.4211 - val_mean_absolute_error: 0.3943\n",
            "Epoch 71/200\n",
            "2/2 [==============================] - 0s 42ms/step - loss: 0.0109 - root_mean_squared_error: 0.1043 - mean_absolute_error: 0.0897 - val_loss: 0.1762 - val_root_mean_squared_error: 0.4198 - val_mean_absolute_error: 0.3931\n",
            "Epoch 72/200\n",
            "2/2 [==============================] - 0s 51ms/step - loss: 0.0107 - root_mean_squared_error: 0.1036 - mean_absolute_error: 0.0890 - val_loss: 0.1743 - val_root_mean_squared_error: 0.4175 - val_mean_absolute_error: 0.3909\n",
            "Epoch 73/200\n",
            "2/2 [==============================] - 0s 53ms/step - loss: 0.0106 - root_mean_squared_error: 0.1031 - mean_absolute_error: 0.0883 - val_loss: 0.1710 - val_root_mean_squared_error: 0.4136 - val_mean_absolute_error: 0.3871\n",
            "Epoch 74/200\n",
            "2/2 [==============================] - 0s 34ms/step - loss: 0.0105 - root_mean_squared_error: 0.1024 - mean_absolute_error: 0.0876 - val_loss: 0.1649 - val_root_mean_squared_error: 0.4061 - val_mean_absolute_error: 0.3795\n",
            "Epoch 75/200\n",
            "2/2 [==============================] - 0s 34ms/step - loss: 0.0104 - root_mean_squared_error: 0.1019 - mean_absolute_error: 0.0871 - val_loss: 0.1593 - val_root_mean_squared_error: 0.3992 - val_mean_absolute_error: 0.3726\n",
            "Epoch 76/200\n",
            "2/2 [==============================] - 0s 65ms/step - loss: 0.0103 - root_mean_squared_error: 0.1013 - mean_absolute_error: 0.0867 - val_loss: 0.1545 - val_root_mean_squared_error: 0.3931 - val_mean_absolute_error: 0.3665\n",
            "Epoch 77/200\n",
            "2/2 [==============================] - 0s 53ms/step - loss: 0.0101 - root_mean_squared_error: 0.1006 - mean_absolute_error: 0.0862 - val_loss: 0.1499 - val_root_mean_squared_error: 0.3872 - val_mean_absolute_error: 0.3605\n",
            "Epoch 78/200\n",
            "2/2 [==============================] - 0s 53ms/step - loss: 0.0100 - root_mean_squared_error: 0.0999 - mean_absolute_error: 0.0859 - val_loss: 0.1481 - val_root_mean_squared_error: 0.3848 - val_mean_absolute_error: 0.3581\n",
            "Epoch 79/200\n",
            "2/2 [==============================] - 0s 52ms/step - loss: 0.0099 - root_mean_squared_error: 0.0995 - mean_absolute_error: 0.0857 - val_loss: 0.1472 - val_root_mean_squared_error: 0.3837 - val_mean_absolute_error: 0.3570\n",
            "Epoch 80/200\n",
            "2/2 [==============================] - 0s 54ms/step - loss: 0.0097 - root_mean_squared_error: 0.0986 - mean_absolute_error: 0.0853 - val_loss: 0.1481 - val_root_mean_squared_error: 0.3848 - val_mean_absolute_error: 0.3582\n",
            "Epoch 81/200\n",
            "2/2 [==============================] - 0s 53ms/step - loss: 0.0096 - root_mean_squared_error: 0.0981 - mean_absolute_error: 0.0849 - val_loss: 0.1499 - val_root_mean_squared_error: 0.3872 - val_mean_absolute_error: 0.3608\n",
            "Epoch 82/200\n",
            "2/2 [==============================] - 0s 33ms/step - loss: 0.0094 - root_mean_squared_error: 0.0972 - mean_absolute_error: 0.0841 - val_loss: 0.1506 - val_root_mean_squared_error: 0.3881 - val_mean_absolute_error: 0.3618\n",
            "Epoch 83/200\n",
            "2/2 [==============================] - 0s 33ms/step - loss: 0.0093 - root_mean_squared_error: 0.0964 - mean_absolute_error: 0.0835 - val_loss: 0.1533 - val_root_mean_squared_error: 0.3916 - val_mean_absolute_error: 0.3656\n",
            "Epoch 84/200\n",
            "2/2 [==============================] - 0s 52ms/step - loss: 0.0091 - root_mean_squared_error: 0.0956 - mean_absolute_error: 0.0826 - val_loss: 0.1579 - val_root_mean_squared_error: 0.3973 - val_mean_absolute_error: 0.3716\n",
            "Epoch 85/200\n",
            "2/2 [==============================] - 0s 39ms/step - loss: 0.0090 - root_mean_squared_error: 0.0951 - mean_absolute_error: 0.0818 - val_loss: 0.1621 - val_root_mean_squared_error: 0.4027 - val_mean_absolute_error: 0.3772\n",
            "Epoch 86/200\n",
            "2/2 [==============================] - 0s 37ms/step - loss: 0.0089 - root_mean_squared_error: 0.0945 - mean_absolute_error: 0.0810 - val_loss: 0.1649 - val_root_mean_squared_error: 0.4060 - val_mean_absolute_error: 0.3807\n",
            "Epoch 87/200\n",
            "2/2 [==============================] - 0s 35ms/step - loss: 0.0088 - root_mean_squared_error: 0.0939 - mean_absolute_error: 0.0804 - val_loss: 0.1625 - val_root_mean_squared_error: 0.4031 - val_mean_absolute_error: 0.3779\n",
            "Epoch 88/200\n",
            "2/2 [==============================] - 0s 34ms/step - loss: 0.0087 - root_mean_squared_error: 0.0932 - mean_absolute_error: 0.0798 - val_loss: 0.1575 - val_root_mean_squared_error: 0.3968 - val_mean_absolute_error: 0.3716\n",
            "Epoch 89/200\n",
            "2/2 [==============================] - 0s 57ms/step - loss: 0.0086 - root_mean_squared_error: 0.0926 - mean_absolute_error: 0.0795 - val_loss: 0.1538 - val_root_mean_squared_error: 0.3921 - val_mean_absolute_error: 0.3669\n",
            "Epoch 90/200\n",
            "2/2 [==============================] - 0s 51ms/step - loss: 0.0085 - root_mean_squared_error: 0.0920 - mean_absolute_error: 0.0791 - val_loss: 0.1504 - val_root_mean_squared_error: 0.3878 - val_mean_absolute_error: 0.3626\n",
            "Epoch 91/200\n",
            "2/2 [==============================] - 0s 52ms/step - loss: 0.0083 - root_mean_squared_error: 0.0914 - mean_absolute_error: 0.0787 - val_loss: 0.1478 - val_root_mean_squared_error: 0.3844 - val_mean_absolute_error: 0.3593\n",
            "Epoch 92/200\n",
            "2/2 [==============================] - 0s 34ms/step - loss: 0.0084 - root_mean_squared_error: 0.0915 - mean_absolute_error: 0.0787 - val_loss: 0.1456 - val_root_mean_squared_error: 0.3815 - val_mean_absolute_error: 0.3564\n",
            "Epoch 93/200\n",
            "2/2 [==============================] - 0s 35ms/step - loss: 0.0082 - root_mean_squared_error: 0.0905 - mean_absolute_error: 0.0779 - val_loss: 0.1435 - val_root_mean_squared_error: 0.3788 - val_mean_absolute_error: 0.3539\n",
            "Epoch 94/200\n",
            "2/2 [==============================] - 0s 50ms/step - loss: 0.0081 - root_mean_squared_error: 0.0898 - mean_absolute_error: 0.0772 - val_loss: 0.1425 - val_root_mean_squared_error: 0.3775 - val_mean_absolute_error: 0.3527\n",
            "Epoch 95/200\n",
            "2/2 [==============================] - 0s 35ms/step - loss: 0.0080 - root_mean_squared_error: 0.0892 - mean_absolute_error: 0.0765 - val_loss: 0.1416 - val_root_mean_squared_error: 0.3763 - val_mean_absolute_error: 0.3517\n",
            "Epoch 96/200\n",
            "2/2 [==============================] - 0s 51ms/step - loss: 0.0078 - root_mean_squared_error: 0.0884 - mean_absolute_error: 0.0757 - val_loss: 0.1384 - val_root_mean_squared_error: 0.3720 - val_mean_absolute_error: 0.3475\n",
            "Epoch 97/200\n",
            "2/2 [==============================] - 0s 54ms/step - loss: 0.0077 - root_mean_squared_error: 0.0876 - mean_absolute_error: 0.0751 - val_loss: 0.1348 - val_root_mean_squared_error: 0.3671 - val_mean_absolute_error: 0.3426\n",
            "Epoch 98/200\n",
            "2/2 [==============================] - 0s 34ms/step - loss: 0.0076 - root_mean_squared_error: 0.0870 - mean_absolute_error: 0.0747 - val_loss: 0.1295 - val_root_mean_squared_error: 0.3599 - val_mean_absolute_error: 0.3354\n",
            "Epoch 99/200\n",
            "2/2 [==============================] - 0s 52ms/step - loss: 0.0075 - root_mean_squared_error: 0.0863 - mean_absolute_error: 0.0742 - val_loss: 0.1268 - val_root_mean_squared_error: 0.3560 - val_mean_absolute_error: 0.3316\n",
            "Epoch 100/200\n",
            "2/2 [==============================] - 0s 51ms/step - loss: 0.0073 - root_mean_squared_error: 0.0855 - mean_absolute_error: 0.0736 - val_loss: 0.1250 - val_root_mean_squared_error: 0.3536 - val_mean_absolute_error: 0.3293\n",
            "Epoch 101/200\n",
            "2/2 [==============================] - 0s 52ms/step - loss: 0.0072 - root_mean_squared_error: 0.0847 - mean_absolute_error: 0.0729 - val_loss: 0.1245 - val_root_mean_squared_error: 0.3528 - val_mean_absolute_error: 0.3287\n",
            "Epoch 102/200\n",
            "2/2 [==============================] - 0s 53ms/step - loss: 0.0071 - root_mean_squared_error: 0.0841 - mean_absolute_error: 0.0723 - val_loss: 0.1242 - val_root_mean_squared_error: 0.3524 - val_mean_absolute_error: 0.3284\n",
            "Epoch 103/200\n",
            "2/2 [==============================] - 0s 52ms/step - loss: 0.0069 - root_mean_squared_error: 0.0834 - mean_absolute_error: 0.0716 - val_loss: 0.1237 - val_root_mean_squared_error: 0.3516 - val_mean_absolute_error: 0.3277\n",
            "Epoch 104/200\n",
            "2/2 [==============================] - 0s 62ms/step - loss: 0.0068 - root_mean_squared_error: 0.0826 - mean_absolute_error: 0.0709 - val_loss: 0.1228 - val_root_mean_squared_error: 0.3505 - val_mean_absolute_error: 0.3267\n",
            "Epoch 105/200\n",
            "2/2 [==============================] - 0s 32ms/step - loss: 0.0067 - root_mean_squared_error: 0.0821 - mean_absolute_error: 0.0704 - val_loss: 0.1230 - val_root_mean_squared_error: 0.3508 - val_mean_absolute_error: 0.3271\n",
            "Epoch 106/200\n",
            "2/2 [==============================] - 0s 55ms/step - loss: 0.0066 - root_mean_squared_error: 0.0813 - mean_absolute_error: 0.0696 - val_loss: 0.1235 - val_root_mean_squared_error: 0.3515 - val_mean_absolute_error: 0.3279\n",
            "Epoch 107/200\n",
            "2/2 [==============================] - 0s 58ms/step - loss: 0.0065 - root_mean_squared_error: 0.0805 - mean_absolute_error: 0.0690 - val_loss: 0.1239 - val_root_mean_squared_error: 0.3520 - val_mean_absolute_error: 0.3286\n",
            "Epoch 108/200\n",
            "2/2 [==============================] - 0s 51ms/step - loss: 0.0064 - root_mean_squared_error: 0.0797 - mean_absolute_error: 0.0683 - val_loss: 0.1227 - val_root_mean_squared_error: 0.3503 - val_mean_absolute_error: 0.3270\n",
            "Epoch 109/200\n",
            "2/2 [==============================] - 0s 35ms/step - loss: 0.0063 - root_mean_squared_error: 0.0791 - mean_absolute_error: 0.0677 - val_loss: 0.1197 - val_root_mean_squared_error: 0.3460 - val_mean_absolute_error: 0.3226\n",
            "Epoch 110/200\n",
            "2/2 [==============================] - 0s 37ms/step - loss: 0.0062 - root_mean_squared_error: 0.0788 - mean_absolute_error: 0.0677 - val_loss: 0.1173 - val_root_mean_squared_error: 0.3425 - val_mean_absolute_error: 0.3191\n",
            "Epoch 111/200\n",
            "2/2 [==============================] - 0s 51ms/step - loss: 0.0062 - root_mean_squared_error: 0.0785 - mean_absolute_error: 0.0676 - val_loss: 0.1153 - val_root_mean_squared_error: 0.3395 - val_mean_absolute_error: 0.3162\n",
            "Epoch 112/200\n",
            "2/2 [==============================] - 0s 34ms/step - loss: 0.0061 - root_mean_squared_error: 0.0782 - mean_absolute_error: 0.0673 - val_loss: 0.1143 - val_root_mean_squared_error: 0.3381 - val_mean_absolute_error: 0.3149\n",
            "Epoch 113/200\n",
            "2/2 [==============================] - 0s 52ms/step - loss: 0.0060 - root_mean_squared_error: 0.0773 - mean_absolute_error: 0.0666 - val_loss: 0.1144 - val_root_mean_squared_error: 0.3383 - val_mean_absolute_error: 0.3152\n",
            "Epoch 114/200\n",
            "2/2 [==============================] - 0s 52ms/step - loss: 0.0059 - root_mean_squared_error: 0.0765 - mean_absolute_error: 0.0656 - val_loss: 0.1152 - val_root_mean_squared_error: 0.3394 - val_mean_absolute_error: 0.3166\n",
            "Epoch 115/200\n",
            "2/2 [==============================] - 0s 35ms/step - loss: 0.0057 - root_mean_squared_error: 0.0754 - mean_absolute_error: 0.0645 - val_loss: 0.1159 - val_root_mean_squared_error: 0.3404 - val_mean_absolute_error: 0.3177\n",
            "Epoch 116/200\n",
            "2/2 [==============================] - 0s 55ms/step - loss: 0.0056 - root_mean_squared_error: 0.0748 - mean_absolute_error: 0.0640 - val_loss: 0.1161 - val_root_mean_squared_error: 0.3407 - val_mean_absolute_error: 0.3183\n",
            "Epoch 117/200\n",
            "2/2 [==============================] - 0s 38ms/step - loss: 0.0055 - root_mean_squared_error: 0.0740 - mean_absolute_error: 0.0631 - val_loss: 0.1148 - val_root_mean_squared_error: 0.3388 - val_mean_absolute_error: 0.3165\n",
            "Epoch 118/200\n",
            "2/2 [==============================] - 0s 57ms/step - loss: 0.0054 - root_mean_squared_error: 0.0734 - mean_absolute_error: 0.0625 - val_loss: 0.1135 - val_root_mean_squared_error: 0.3369 - val_mean_absolute_error: 0.3146\n",
            "Epoch 119/200\n",
            "2/2 [==============================] - 0s 33ms/step - loss: 0.0053 - root_mean_squared_error: 0.0726 - mean_absolute_error: 0.0619 - val_loss: 0.1099 - val_root_mean_squared_error: 0.3316 - val_mean_absolute_error: 0.3093\n",
            "Epoch 120/200\n",
            "2/2 [==============================] - 0s 39ms/step - loss: 0.0052 - root_mean_squared_error: 0.0721 - mean_absolute_error: 0.0616 - val_loss: 0.1062 - val_root_mean_squared_error: 0.3258 - val_mean_absolute_error: 0.3035\n",
            "Epoch 121/200\n",
            "2/2 [==============================] - 0s 36ms/step - loss: 0.0051 - root_mean_squared_error: 0.0715 - mean_absolute_error: 0.0611 - val_loss: 0.1039 - val_root_mean_squared_error: 0.3224 - val_mean_absolute_error: 0.3001\n",
            "Epoch 122/200\n",
            "2/2 [==============================] - 0s 36ms/step - loss: 0.0050 - root_mean_squared_error: 0.0708 - mean_absolute_error: 0.0605 - val_loss: 0.1035 - val_root_mean_squared_error: 0.3218 - val_mean_absolute_error: 0.2996\n",
            "Epoch 123/200\n",
            "2/2 [==============================] - 0s 35ms/step - loss: 0.0049 - root_mean_squared_error: 0.0701 - mean_absolute_error: 0.0599 - val_loss: 0.1032 - val_root_mean_squared_error: 0.3212 - val_mean_absolute_error: 0.2992\n",
            "Epoch 124/200\n",
            "2/2 [==============================] - 0s 51ms/step - loss: 0.0048 - root_mean_squared_error: 0.0694 - mean_absolute_error: 0.0593 - val_loss: 0.1022 - val_root_mean_squared_error: 0.3197 - val_mean_absolute_error: 0.2978\n",
            "Epoch 125/200\n",
            "2/2 [==============================] - 0s 37ms/step - loss: 0.0047 - root_mean_squared_error: 0.0688 - mean_absolute_error: 0.0588 - val_loss: 0.1010 - val_root_mean_squared_error: 0.3178 - val_mean_absolute_error: 0.2958\n",
            "Epoch 126/200\n",
            "2/2 [==============================] - 0s 54ms/step - loss: 0.0047 - root_mean_squared_error: 0.0683 - mean_absolute_error: 0.0585 - val_loss: 0.0993 - val_root_mean_squared_error: 0.3151 - val_mean_absolute_error: 0.2932\n",
            "Epoch 127/200\n",
            "2/2 [==============================] - 0s 35ms/step - loss: 0.0046 - root_mean_squared_error: 0.0675 - mean_absolute_error: 0.0580 - val_loss: 0.0975 - val_root_mean_squared_error: 0.3122 - val_mean_absolute_error: 0.2903\n",
            "Epoch 128/200\n",
            "2/2 [==============================] - 0s 51ms/step - loss: 0.0045 - root_mean_squared_error: 0.0672 - mean_absolute_error: 0.0577 - val_loss: 0.0949 - val_root_mean_squared_error: 0.3081 - val_mean_absolute_error: 0.2863\n",
            "Epoch 129/200\n",
            "2/2 [==============================] - 0s 53ms/step - loss: 0.0044 - root_mean_squared_error: 0.0665 - mean_absolute_error: 0.0571 - val_loss: 0.0935 - val_root_mean_squared_error: 0.3058 - val_mean_absolute_error: 0.2840\n",
            "Epoch 130/200\n",
            "2/2 [==============================] - 0s 36ms/step - loss: 0.0043 - root_mean_squared_error: 0.0659 - mean_absolute_error: 0.0566 - val_loss: 0.0921 - val_root_mean_squared_error: 0.3034 - val_mean_absolute_error: 0.2818\n",
            "Epoch 131/200\n",
            "2/2 [==============================] - 0s 38ms/step - loss: 0.0043 - root_mean_squared_error: 0.0654 - mean_absolute_error: 0.0562 - val_loss: 0.0897 - val_root_mean_squared_error: 0.2994 - val_mean_absolute_error: 0.2778\n",
            "Epoch 132/200\n",
            "2/2 [==============================] - 0s 38ms/step - loss: 0.0042 - root_mean_squared_error: 0.0648 - mean_absolute_error: 0.0557 - val_loss: 0.0885 - val_root_mean_squared_error: 0.2974 - val_mean_absolute_error: 0.2759\n",
            "Epoch 133/200\n",
            "2/2 [==============================] - 0s 56ms/step - loss: 0.0042 - root_mean_squared_error: 0.0645 - mean_absolute_error: 0.0554 - val_loss: 0.0873 - val_root_mean_squared_error: 0.2954 - val_mean_absolute_error: 0.2739\n",
            "Epoch 134/200\n",
            "2/2 [==============================] - 0s 54ms/step - loss: 0.0041 - root_mean_squared_error: 0.0637 - mean_absolute_error: 0.0548 - val_loss: 0.0855 - val_root_mean_squared_error: 0.2925 - val_mean_absolute_error: 0.2711\n",
            "Epoch 135/200\n",
            "2/2 [==============================] - 0s 53ms/step - loss: 0.0040 - root_mean_squared_error: 0.0632 - mean_absolute_error: 0.0543 - val_loss: 0.0830 - val_root_mean_squared_error: 0.2882 - val_mean_absolute_error: 0.2667\n",
            "Epoch 136/200\n",
            "2/2 [==============================] - 0s 34ms/step - loss: 0.0039 - root_mean_squared_error: 0.0627 - mean_absolute_error: 0.0541 - val_loss: 0.0817 - val_root_mean_squared_error: 0.2859 - val_mean_absolute_error: 0.2645\n",
            "Epoch 137/200\n",
            "2/2 [==============================] - 0s 49ms/step - loss: 0.0039 - root_mean_squared_error: 0.0624 - mean_absolute_error: 0.0538 - val_loss: 0.0817 - val_root_mean_squared_error: 0.2859 - val_mean_absolute_error: 0.2646\n",
            "Epoch 138/200\n",
            "2/2 [==============================] - 0s 35ms/step - loss: 0.0038 - root_mean_squared_error: 0.0617 - mean_absolute_error: 0.0532 - val_loss: 0.0833 - val_root_mean_squared_error: 0.2886 - val_mean_absolute_error: 0.2675\n",
            "Epoch 139/200\n",
            "2/2 [==============================] - 0s 45ms/step - loss: 0.0037 - root_mean_squared_error: 0.0610 - mean_absolute_error: 0.0525 - val_loss: 0.0846 - val_root_mean_squared_error: 0.2908 - val_mean_absolute_error: 0.2699\n",
            "Epoch 140/200\n",
            "2/2 [==============================] - 0s 69ms/step - loss: 0.0036 - root_mean_squared_error: 0.0604 - mean_absolute_error: 0.0517 - val_loss: 0.0855 - val_root_mean_squared_error: 0.2924 - val_mean_absolute_error: 0.2717\n",
            "Epoch 141/200\n",
            "2/2 [==============================] - 0s 51ms/step - loss: 0.0036 - root_mean_squared_error: 0.0598 - mean_absolute_error: 0.0511 - val_loss: 0.0868 - val_root_mean_squared_error: 0.2946 - val_mean_absolute_error: 0.2740\n",
            "Epoch 142/200\n",
            "2/2 [==============================] - 0s 61ms/step - loss: 0.0035 - root_mean_squared_error: 0.0594 - mean_absolute_error: 0.0506 - val_loss: 0.0867 - val_root_mean_squared_error: 0.2945 - val_mean_absolute_error: 0.2741\n",
            "Epoch 143/200\n",
            "2/2 [==============================] - 0s 67ms/step - loss: 0.0035 - root_mean_squared_error: 0.0589 - mean_absolute_error: 0.0502 - val_loss: 0.0863 - val_root_mean_squared_error: 0.2937 - val_mean_absolute_error: 0.2734\n",
            "Epoch 144/200\n",
            "2/2 [==============================] - 0s 77ms/step - loss: 0.0034 - root_mean_squared_error: 0.0585 - mean_absolute_error: 0.0497 - val_loss: 0.0832 - val_root_mean_squared_error: 0.2885 - val_mean_absolute_error: 0.2682\n",
            "Epoch 145/200\n",
            "2/2 [==============================] - 0s 68ms/step - loss: 0.0034 - root_mean_squared_error: 0.0580 - mean_absolute_error: 0.0495 - val_loss: 0.0796 - val_root_mean_squared_error: 0.2822 - val_mean_absolute_error: 0.2618\n",
            "Epoch 146/200\n",
            "2/2 [==============================] - 0s 73ms/step - loss: 0.0033 - root_mean_squared_error: 0.0573 - mean_absolute_error: 0.0488 - val_loss: 0.0775 - val_root_mean_squared_error: 0.2784 - val_mean_absolute_error: 0.2581\n",
            "Epoch 147/200\n",
            "2/2 [==============================] - 0s 68ms/step - loss: 0.0032 - root_mean_squared_error: 0.0568 - mean_absolute_error: 0.0485 - val_loss: 0.0752 - val_root_mean_squared_error: 0.2743 - val_mean_absolute_error: 0.2540\n",
            "Epoch 148/200\n",
            "2/2 [==============================] - 0s 62ms/step - loss: 0.0032 - root_mean_squared_error: 0.0563 - mean_absolute_error: 0.0481 - val_loss: 0.0733 - val_root_mean_squared_error: 0.2707 - val_mean_absolute_error: 0.2504\n",
            "Epoch 149/200\n",
            "2/2 [==============================] - 0s 64ms/step - loss: 0.0031 - root_mean_squared_error: 0.0558 - mean_absolute_error: 0.0477 - val_loss: 0.0726 - val_root_mean_squared_error: 0.2694 - val_mean_absolute_error: 0.2491\n",
            "Epoch 150/200\n",
            "2/2 [==============================] - 0s 43ms/step - loss: 0.0031 - root_mean_squared_error: 0.0554 - mean_absolute_error: 0.0473 - val_loss: 0.0726 - val_root_mean_squared_error: 0.2695 - val_mean_absolute_error: 0.2494\n",
            "Epoch 151/200\n",
            "2/2 [==============================] - 0s 65ms/step - loss: 0.0030 - root_mean_squared_error: 0.0549 - mean_absolute_error: 0.0469 - val_loss: 0.0725 - val_root_mean_squared_error: 0.2693 - val_mean_absolute_error: 0.2492\n",
            "Epoch 152/200\n",
            "2/2 [==============================] - 0s 58ms/step - loss: 0.0030 - root_mean_squared_error: 0.0546 - mean_absolute_error: 0.0465 - val_loss: 0.0732 - val_root_mean_squared_error: 0.2705 - val_mean_absolute_error: 0.2506\n",
            "Epoch 153/200\n",
            "2/2 [==============================] - 0s 58ms/step - loss: 0.0029 - root_mean_squared_error: 0.0542 - mean_absolute_error: 0.0460 - val_loss: 0.0739 - val_root_mean_squared_error: 0.2719 - val_mean_absolute_error: 0.2521\n",
            "Epoch 154/200\n",
            "2/2 [==============================] - 0s 69ms/step - loss: 0.0029 - root_mean_squared_error: 0.0537 - mean_absolute_error: 0.0456 - val_loss: 0.0735 - val_root_mean_squared_error: 0.2712 - val_mean_absolute_error: 0.2515\n",
            "Epoch 155/200\n",
            "2/2 [==============================] - 0s 48ms/step - loss: 0.0028 - root_mean_squared_error: 0.0531 - mean_absolute_error: 0.0451 - val_loss: 0.0737 - val_root_mean_squared_error: 0.2716 - val_mean_absolute_error: 0.2520\n",
            "Epoch 156/200\n",
            "2/2 [==============================] - 0s 53ms/step - loss: 0.0028 - root_mean_squared_error: 0.0528 - mean_absolute_error: 0.0447 - val_loss: 0.0729 - val_root_mean_squared_error: 0.2700 - val_mean_absolute_error: 0.2505\n",
            "Epoch 157/200\n",
            "2/2 [==============================] - 0s 71ms/step - loss: 0.0027 - root_mean_squared_error: 0.0523 - mean_absolute_error: 0.0443 - val_loss: 0.0719 - val_root_mean_squared_error: 0.2681 - val_mean_absolute_error: 0.2488\n",
            "Epoch 158/200\n",
            "2/2 [==============================] - 0s 75ms/step - loss: 0.0027 - root_mean_squared_error: 0.0519 - mean_absolute_error: 0.0439 - val_loss: 0.0710 - val_root_mean_squared_error: 0.2664 - val_mean_absolute_error: 0.2471\n",
            "Epoch 159/200\n",
            "2/2 [==============================] - 0s 77ms/step - loss: 0.0027 - root_mean_squared_error: 0.0515 - mean_absolute_error: 0.0436 - val_loss: 0.0695 - val_root_mean_squared_error: 0.2636 - val_mean_absolute_error: 0.2443\n",
            "Epoch 160/200\n",
            "2/2 [==============================] - 0s 61ms/step - loss: 0.0026 - root_mean_squared_error: 0.0511 - mean_absolute_error: 0.0433 - val_loss: 0.0676 - val_root_mean_squared_error: 0.2599 - val_mean_absolute_error: 0.2407\n",
            "Epoch 161/200\n",
            "2/2 [==============================] - 0s 51ms/step - loss: 0.0026 - root_mean_squared_error: 0.0506 - mean_absolute_error: 0.0428 - val_loss: 0.0661 - val_root_mean_squared_error: 0.2570 - val_mean_absolute_error: 0.2379\n",
            "Epoch 162/200\n",
            "2/2 [==============================] - 0s 73ms/step - loss: 0.0025 - root_mean_squared_error: 0.0502 - mean_absolute_error: 0.0425 - val_loss: 0.0646 - val_root_mean_squared_error: 0.2541 - val_mean_absolute_error: 0.2350\n",
            "Epoch 163/200\n",
            "2/2 [==============================] - 0s 76ms/step - loss: 0.0025 - root_mean_squared_error: 0.0498 - mean_absolute_error: 0.0421 - val_loss: 0.0624 - val_root_mean_squared_error: 0.2497 - val_mean_absolute_error: 0.2306\n",
            "Epoch 164/200\n",
            "2/2 [==============================] - 0s 72ms/step - loss: 0.0024 - root_mean_squared_error: 0.0494 - mean_absolute_error: 0.0418 - val_loss: 0.0594 - val_root_mean_squared_error: 0.2438 - val_mean_absolute_error: 0.2245\n",
            "Epoch 165/200\n",
            "2/2 [==============================] - 0s 79ms/step - loss: 0.0024 - root_mean_squared_error: 0.0490 - mean_absolute_error: 0.0415 - val_loss: 0.0579 - val_root_mean_squared_error: 0.2405 - val_mean_absolute_error: 0.2213\n",
            "Epoch 166/200\n",
            "2/2 [==============================] - 0s 90ms/step - loss: 0.0024 - root_mean_squared_error: 0.0487 - mean_absolute_error: 0.0412 - val_loss: 0.0574 - val_root_mean_squared_error: 0.2397 - val_mean_absolute_error: 0.2204\n",
            "Epoch 167/200\n",
            "2/2 [==============================] - 0s 82ms/step - loss: 0.0023 - root_mean_squared_error: 0.0482 - mean_absolute_error: 0.0407 - val_loss: 0.0579 - val_root_mean_squared_error: 0.2406 - val_mean_absolute_error: 0.2215\n",
            "Epoch 168/200\n",
            "2/2 [==============================] - 0s 62ms/step - loss: 0.0023 - root_mean_squared_error: 0.0478 - mean_absolute_error: 0.0403 - val_loss: 0.0583 - val_root_mean_squared_error: 0.2415 - val_mean_absolute_error: 0.2226\n",
            "Epoch 169/200\n",
            "2/2 [==============================] - 0s 72ms/step - loss: 0.0022 - root_mean_squared_error: 0.0474 - mean_absolute_error: 0.0398 - val_loss: 0.0581 - val_root_mean_squared_error: 0.2410 - val_mean_absolute_error: 0.2222\n",
            "Epoch 170/200\n",
            "2/2 [==============================] - 0s 70ms/step - loss: 0.0022 - root_mean_squared_error: 0.0470 - mean_absolute_error: 0.0394 - val_loss: 0.0585 - val_root_mean_squared_error: 0.2419 - val_mean_absolute_error: 0.2231\n",
            "Epoch 171/200\n",
            "2/2 [==============================] - 0s 55ms/step - loss: 0.0022 - root_mean_squared_error: 0.0466 - mean_absolute_error: 0.0390 - val_loss: 0.0591 - val_root_mean_squared_error: 0.2431 - val_mean_absolute_error: 0.2245\n",
            "Epoch 172/200\n",
            "2/2 [==============================] - 0s 67ms/step - loss: 0.0021 - root_mean_squared_error: 0.0463 - mean_absolute_error: 0.0386 - val_loss: 0.0599 - val_root_mean_squared_error: 0.2447 - val_mean_absolute_error: 0.2263\n",
            "Epoch 173/200\n",
            "2/2 [==============================] - 0s 50ms/step - loss: 0.0021 - root_mean_squared_error: 0.0459 - mean_absolute_error: 0.0381 - val_loss: 0.0593 - val_root_mean_squared_error: 0.2436 - val_mean_absolute_error: 0.2252\n",
            "Epoch 174/200\n",
            "2/2 [==============================] - 0s 55ms/step - loss: 0.0021 - root_mean_squared_error: 0.0458 - mean_absolute_error: 0.0378 - val_loss: 0.0579 - val_root_mean_squared_error: 0.2406 - val_mean_absolute_error: 0.2223\n",
            "Epoch 175/200\n",
            "2/2 [==============================] - 0s 62ms/step - loss: 0.0021 - root_mean_squared_error: 0.0454 - mean_absolute_error: 0.0374 - val_loss: 0.0562 - val_root_mean_squared_error: 0.2371 - val_mean_absolute_error: 0.2187\n",
            "Epoch 176/200\n",
            "2/2 [==============================] - 0s 61ms/step - loss: 0.0020 - root_mean_squared_error: 0.0450 - mean_absolute_error: 0.0371 - val_loss: 0.0547 - val_root_mean_squared_error: 0.2339 - val_mean_absolute_error: 0.2156\n",
            "Epoch 177/200\n",
            "2/2 [==============================] - 0s 68ms/step - loss: 0.0020 - root_mean_squared_error: 0.0445 - mean_absolute_error: 0.0367 - val_loss: 0.0531 - val_root_mean_squared_error: 0.2305 - val_mean_absolute_error: 0.2121\n",
            "Epoch 178/200\n",
            "2/2 [==============================] - 0s 78ms/step - loss: 0.0019 - root_mean_squared_error: 0.0441 - mean_absolute_error: 0.0365 - val_loss: 0.0512 - val_root_mean_squared_error: 0.2262 - val_mean_absolute_error: 0.2077\n",
            "Epoch 179/200\n",
            "2/2 [==============================] - 0s 61ms/step - loss: 0.0019 - root_mean_squared_error: 0.0437 - mean_absolute_error: 0.0364 - val_loss: 0.0499 - val_root_mean_squared_error: 0.2233 - val_mean_absolute_error: 0.2048\n",
            "Epoch 180/200\n",
            "2/2 [==============================] - 0s 67ms/step - loss: 0.0019 - root_mean_squared_error: 0.0435 - mean_absolute_error: 0.0362 - val_loss: 0.0495 - val_root_mean_squared_error: 0.2224 - val_mean_absolute_error: 0.2039\n",
            "Epoch 181/200\n",
            "2/2 [==============================] - 0s 84ms/step - loss: 0.0019 - root_mean_squared_error: 0.0431 - mean_absolute_error: 0.0359 - val_loss: 0.0500 - val_root_mean_squared_error: 0.2237 - val_mean_absolute_error: 0.2053\n",
            "Epoch 182/200\n",
            "2/2 [==============================] - 0s 69ms/step - loss: 0.0018 - root_mean_squared_error: 0.0428 - mean_absolute_error: 0.0355 - val_loss: 0.0507 - val_root_mean_squared_error: 0.2251 - val_mean_absolute_error: 0.2069\n",
            "Epoch 183/200\n",
            "2/2 [==============================] - 0s 47ms/step - loss: 0.0018 - root_mean_squared_error: 0.0425 - mean_absolute_error: 0.0351 - val_loss: 0.0513 - val_root_mean_squared_error: 0.2266 - val_mean_absolute_error: 0.2085\n",
            "Epoch 184/200\n",
            "2/2 [==============================] - 0s 87ms/step - loss: 0.0018 - root_mean_squared_error: 0.0421 - mean_absolute_error: 0.0348 - val_loss: 0.0516 - val_root_mean_squared_error: 0.2271 - val_mean_absolute_error: 0.2091\n",
            "Epoch 185/200\n",
            "2/2 [==============================] - 0s 68ms/step - loss: 0.0017 - root_mean_squared_error: 0.0418 - mean_absolute_error: 0.0346 - val_loss: 0.0515 - val_root_mean_squared_error: 0.2268 - val_mean_absolute_error: 0.2089\n",
            "Epoch 186/200\n",
            "2/2 [==============================] - 0s 70ms/step - loss: 0.0017 - root_mean_squared_error: 0.0416 - mean_absolute_error: 0.0343 - val_loss: 0.0509 - val_root_mean_squared_error: 0.2255 - val_mean_absolute_error: 0.2077\n",
            "Epoch 187/200\n",
            "2/2 [==============================] - 0s 56ms/step - loss: 0.0017 - root_mean_squared_error: 0.0412 - mean_absolute_error: 0.0340 - val_loss: 0.0500 - val_root_mean_squared_error: 0.2235 - val_mean_absolute_error: 0.2057\n",
            "Epoch 188/200\n",
            "2/2 [==============================] - 0s 66ms/step - loss: 0.0017 - root_mean_squared_error: 0.0409 - mean_absolute_error: 0.0338 - val_loss: 0.0487 - val_root_mean_squared_error: 0.2206 - val_mean_absolute_error: 0.2028\n",
            "Epoch 189/200\n",
            "2/2 [==============================] - 0s 68ms/step - loss: 0.0016 - root_mean_squared_error: 0.0406 - mean_absolute_error: 0.0335 - val_loss: 0.0473 - val_root_mean_squared_error: 0.2175 - val_mean_absolute_error: 0.1997\n",
            "Epoch 190/200\n",
            "2/2 [==============================] - 0s 65ms/step - loss: 0.0016 - root_mean_squared_error: 0.0404 - mean_absolute_error: 0.0334 - val_loss: 0.0462 - val_root_mean_squared_error: 0.2150 - val_mean_absolute_error: 0.1971\n",
            "Epoch 191/200\n",
            "2/2 [==============================] - 0s 65ms/step - loss: 0.0016 - root_mean_squared_error: 0.0402 - mean_absolute_error: 0.0332 - val_loss: 0.0451 - val_root_mean_squared_error: 0.2123 - val_mean_absolute_error: 0.1945\n",
            "Epoch 192/200\n",
            "2/2 [==============================] - 0s 78ms/step - loss: 0.0016 - root_mean_squared_error: 0.0398 - mean_absolute_error: 0.0330 - val_loss: 0.0437 - val_root_mean_squared_error: 0.2091 - val_mean_absolute_error: 0.1912\n",
            "Epoch 193/200\n",
            "2/2 [==============================] - 0s 83ms/step - loss: 0.0016 - root_mean_squared_error: 0.0395 - mean_absolute_error: 0.0327 - val_loss: 0.0429 - val_root_mean_squared_error: 0.2072 - val_mean_absolute_error: 0.1892\n",
            "Epoch 194/200\n",
            "2/2 [==============================] - 0s 79ms/step - loss: 0.0015 - root_mean_squared_error: 0.0393 - mean_absolute_error: 0.0326 - val_loss: 0.0425 - val_root_mean_squared_error: 0.2062 - val_mean_absolute_error: 0.1883\n",
            "Epoch 195/200\n",
            "2/2 [==============================] - 0s 63ms/step - loss: 0.0015 - root_mean_squared_error: 0.0391 - mean_absolute_error: 0.0324 - val_loss: 0.0431 - val_root_mean_squared_error: 0.2076 - val_mean_absolute_error: 0.1897\n",
            "Epoch 196/200\n",
            "2/2 [==============================] - 0s 67ms/step - loss: 0.0015 - root_mean_squared_error: 0.0387 - mean_absolute_error: 0.0320 - val_loss: 0.0445 - val_root_mean_squared_error: 0.2108 - val_mean_absolute_error: 0.1932\n",
            "Epoch 197/200\n",
            "2/2 [==============================] - 0s 58ms/step - loss: 0.0015 - root_mean_squared_error: 0.0385 - mean_absolute_error: 0.0317 - val_loss: 0.0458 - val_root_mean_squared_error: 0.2140 - val_mean_absolute_error: 0.1965\n",
            "Epoch 198/200\n",
            "2/2 [==============================] - 0s 61ms/step - loss: 0.0015 - root_mean_squared_error: 0.0383 - mean_absolute_error: 0.0314 - val_loss: 0.0469 - val_root_mean_squared_error: 0.2166 - val_mean_absolute_error: 0.1993\n",
            "Epoch 199/200\n",
            "2/2 [==============================] - 0s 67ms/step - loss: 0.0014 - root_mean_squared_error: 0.0380 - mean_absolute_error: 0.0312 - val_loss: 0.0471 - val_root_mean_squared_error: 0.2170 - val_mean_absolute_error: 0.1998\n",
            "Epoch 200/200\n",
            "2/2 [==============================] - 0s 40ms/step - loss: 0.0014 - root_mean_squared_error: 0.0378 - mean_absolute_error: 0.0309 - val_loss: 0.0465 - val_root_mean_squared_error: 0.2157 - val_mean_absolute_error: 0.1984\n"
          ]
        },
        {
          "output_type": "execute_result",
          "data": {
            "text/plain": [
              "<keras.callbacks.History at 0x7f943f531a30>"
            ]
          },
          "metadata": {},
          "execution_count": 15
        }
      ]
    },
    {
      "cell_type": "markdown",
      "source": [
        "## k - fold evaluation of the NN model"
      ],
      "metadata": {
        "id": "6TsC1kZiqFhC"
      },
      "id": "6TsC1kZiqFhC"
    },
    {
      "cell_type": "code",
      "source": [
        "# k fold evaluation\n",
        "# our data have a random noise so every time we generate new data we get different evaluation score\n",
        "# for k = 1 it performs just an evaluation and returns\n",
        "def kfold_eval(model, k_fold = 10):\n",
        "  cvscores = []\n",
        "  for k in range(k_fold):\n",
        "    scores = model.evaluate(x, y, verbose=1)\n",
        "    print(model.metrics_names[1], scores[1])\n",
        "    cvscores.append(scores[1])\n",
        "  return cvscores\n",
        "\n",
        "cvscores = kfold_eval(model)\n",
        "print(f'K fold evaluation: mean loss= {np.mean(cvscores)}, std = {np.std(cvscores)}')"
      ],
      "metadata": {
        "colab": {
          "base_uri": "https://localhost:8080/"
        },
        "id": "i0wzSO49qGvK",
        "outputId": "dfe00094-53cb-4ef8-c2e8-45c3c69f26fb"
      },
      "id": "i0wzSO49qGvK",
      "execution_count": null,
      "outputs": [
        {
          "output_type": "stream",
          "name": "stdout",
          "text": [
            "2/2 [==============================] - 0s 7ms/step - loss: 0.0104 - root_mean_squared_error: 0.1021 - mean_absolute_error: 0.0642\n",
            "root_mean_squared_error 0.10212069749832153\n",
            "2/2 [==============================] - 0s 8ms/step - loss: 0.0104 - root_mean_squared_error: 0.1021 - mean_absolute_error: 0.0642\n",
            "root_mean_squared_error 0.10212069749832153\n",
            "2/2 [==============================] - 0s 7ms/step - loss: 0.0104 - root_mean_squared_error: 0.1021 - mean_absolute_error: 0.0642\n",
            "root_mean_squared_error 0.10212069749832153\n",
            "2/2 [==============================] - 0s 7ms/step - loss: 0.0104 - root_mean_squared_error: 0.1021 - mean_absolute_error: 0.0642\n",
            "root_mean_squared_error 0.10212069749832153\n",
            "2/2 [==============================] - 0s 7ms/step - loss: 0.0104 - root_mean_squared_error: 0.1021 - mean_absolute_error: 0.0642\n",
            "root_mean_squared_error 0.10212069749832153\n",
            "2/2 [==============================] - 0s 8ms/step - loss: 0.0104 - root_mean_squared_error: 0.1021 - mean_absolute_error: 0.0642\n",
            "root_mean_squared_error 0.10212069749832153\n",
            "2/2 [==============================] - 0s 8ms/step - loss: 0.0104 - root_mean_squared_error: 0.1021 - mean_absolute_error: 0.0642\n",
            "root_mean_squared_error 0.10212069749832153\n",
            "2/2 [==============================] - 0s 8ms/step - loss: 0.0104 - root_mean_squared_error: 0.1021 - mean_absolute_error: 0.0642\n",
            "root_mean_squared_error 0.10212069749832153\n",
            "2/2 [==============================] - 0s 8ms/step - loss: 0.0104 - root_mean_squared_error: 0.1021 - mean_absolute_error: 0.0642\n",
            "root_mean_squared_error 0.10212069749832153\n",
            "2/2 [==============================] - 0s 8ms/step - loss: 0.0104 - root_mean_squared_error: 0.1021 - mean_absolute_error: 0.0642\n",
            "root_mean_squared_error 0.10212069749832153\n",
            "K fold evaluation: mean loss= 0.10212069749832153, std = 0.0\n"
          ]
        }
      ]
    },
    {
      "cell_type": "markdown",
      "source": [
        "Print the test result "
      ],
      "metadata": {
        "id": "mA_56tgrqTTE"
      },
      "id": "mA_56tgrqTTE"
    },
    {
      "cell_type": "code",
      "execution_count": null,
      "id": "rlvsiPKxPVdI",
      "metadata": {
        "id": "rlvsiPKxPVdI",
        "colab": {
          "base_uri": "https://localhost:8080/",
          "height": 517
        },
        "outputId": "b0935b1a-78af-4dca-9cd6-30e854af037b"
      },
      "outputs": [
        {
          "output_type": "stream",
          "name": "stdout",
          "text": [
            "2/2 [==============================] - 0s 7ms/step - loss: 0.0104 - root_mean_squared_error: 0.1021 - mean_absolute_error: 0.0642\n",
            "Train loss: 0.010428637266159058\n",
            "Train MAE: 0.10212069749832153\n",
            "Train RMSE 0.06421169638633728\n",
            "2/2 [==============================] - 0s 6ms/step\n"
          ]
        },
        {
          "output_type": "display_data",
          "data": {
            "text/plain": [
              "<Figure size 640x480 with 1 Axes>"
            ],
            "image/png": "[encoded data removed]"
          },
          "metadata": {}
        }
      ],
      "source": [
        "plot_approx(model,x,y)\n"
      ]
    },
    {
      "cell_type": "markdown",
      "id": "89623428",
      "metadata": {
        "id": "89623428"
      },
      "source": [
        "\\begin{exercise}\n",
        "Modify the pytorch implementation of neural net for approximating the function given in lab 1.\n",
        "\n",
        "\\end{exercise}\n"
      ]
    },
    {
      "cell_type": "markdown",
      "id": "a6618e62",
      "metadata": {
        "id": "a6618e62"
      },
      "source": [
        "## PyTorch Implementation of the keras NN for approximating the $\\exp(-x)$ Function"
      ]
    },
    {
      "cell_type": "code",
      "execution_count": null,
      "id": "7fc129af",
      "metadata": {
        "id": "7fc129af",
        "colab": {
          "base_uri": "https://localhost:8080/"
        },
        "outputId": "b2b3083d-a4b9-432e-e826-9b854729821c"
      },
      "outputs": [
        {
          "output_type": "stream",
          "name": "stdout",
          "text": [
            "Looking in indexes: https://pypi.org/simple, https://us-python.pkg.dev/colab-wheels/public/simple/\n",
            "Requirement already satisfied: torch in /usr/local/lib/python3.9/dist-packages (2.0.0+cu118)\n",
            "Requirement already satisfied: filelock in /usr/local/lib/python3.9/dist-packages (from torch) (3.11.0)\n",
            "Requirement already satisfied: sympy in /usr/local/lib/python3.9/dist-packages (from torch) (1.11.1)\n",
            "Requirement already satisfied: networkx in /usr/local/lib/python3.9/dist-packages (from torch) (3.1)\n",
            "Requirement already satisfied: triton==2.0.0 in /usr/local/lib/python3.9/dist-packages (from torch) (2.0.0)\n",
            "Requirement already satisfied: typing-extensions in /usr/local/lib/python3.9/dist-packages (from torch) (4.5.0)\n",
            "Requirement already satisfied: jinja2 in /usr/local/lib/python3.9/dist-packages (from torch) (3.1.2)\n",
            "Requirement already satisfied: lit in /usr/local/lib/python3.9/dist-packages (from triton==2.0.0->torch) (16.0.1)\n",
            "Requirement already satisfied: cmake in /usr/local/lib/python3.9/dist-packages (from triton==2.0.0->torch) (3.25.2)\n",
            "Requirement already satisfied: MarkupSafe>=2.0 in /usr/local/lib/python3.9/dist-packages (from jinja2->torch) (2.1.2)\n",
            "Requirement already satisfied: mpmath>=0.19 in /usr/local/lib/python3.9/dist-packages (from sympy->torch) (1.3.0)\n"
          ]
        }
      ],
      "source": [
        "!pip install torch"
      ]
    },
    {
      "cell_type": "code",
      "execution_count": null,
      "id": "ee5e8605",
      "metadata": {
        "colab": {
          "base_uri": "https://localhost:8080/",
          "height": 447
        },
        "id": "ee5e8605",
        "outputId": "f9cc5a05-1168-4444-ba03-bd416fc54f35"
      },
      "outputs": [
        {
          "output_type": "execute_result",
          "data": {
            "text/plain": [
              "<matplotlib.collections.PathCollection at 0x7f943e3976d0>"
            ]
          },
          "metadata": {},
          "execution_count": 19
        },
        {
          "output_type": "display_data",
          "data": {
            "text/plain": [
              "<Figure size 640x480 with 1 Axes>"
            ],
            "image/png": "[encoded data removed]"
          },
          "metadata": {}
        }
      ],
      "source": [
        "import torch\n",
        "import torch.nn as nn\n",
        "import torch.optim as optim\n",
        "\n",
        "# Prepare your dataset\n",
        "# train on 1000 points\n",
        "# test on 100 points\n",
        "x_train = torch.randn(1000, 1)\n",
        "y_train = torch.sin(x_train)\n",
        "x_test = torch.randn(100, 1)\n",
        "y_test = torch.sin(x_test)\n",
        "\n",
        "# Define your neural net model\n",
        "class Net(nn.Module):\n",
        "    def __init__(self):\n",
        "        super(Net, self).__init__()\n",
        "        self.fc1 = nn.Linear(1, 32)\n",
        "        self.fc2 = nn.Linear(32, 1)\n",
        "\n",
        "    def forward(self, x):\n",
        "        x = torch.relu(self.fc1(x))\n",
        "        x = self.fc2(x)\n",
        "        return x\n",
        "\n",
        "# Define your loss function\n",
        "criterion = nn.MSELoss()\n",
        "\n",
        "# Initialize your neural net\n",
        "net = Net()\n",
        "\n",
        "# Define your optimizer\n",
        "optimizer = optim.RMSprop(net.parameters(), lr=0.1)\n",
        "\n",
        "# Train your neural net\n",
        "def train(model, x, y, epochs = 200, verbose = 1):\n",
        "  for epoch in range(1,epochs+1):\n",
        "    outputs = model(x)\n",
        "    loss = criterion(outputs, y)\n",
        "    optimizer.zero_grad()\n",
        "    loss.backward()\n",
        "    optimizer.step()\n",
        "    if verbose:\n",
        "      print(f'Epoch {epoch}: Train loss {loss.item()}')\n",
        "\n",
        "# Test your neural net\n",
        "def evaluate(model, x, y):\n",
        "  outputs = model(x_test)\n",
        "  test_loss = criterion(outputs, y_test)\n",
        "  print('Test loss: ', test_loss.item())\n",
        "\n",
        "# Plot train dataset\n",
        "plt.scatter(x_train, y_train)"
      ]
    },
    {
      "cell_type": "code",
      "execution_count": null,
      "id": "lgYLNQVdSQdB",
      "metadata": {
        "colab": {
          "base_uri": "https://localhost:8080/"
        },
        "id": "lgYLNQVdSQdB",
        "outputId": "6d664f86-e855-4223-a81f-76291a2e6fe8"
      },
      "outputs": [
        {
          "output_type": "stream",
          "name": "stdout",
          "text": [
            "Epoch 1: Train loss 0.5864866971969604\n",
            "Epoch 2: Train loss 125.45431518554688\n",
            "Epoch 3: Train loss 633.3170776367188\n",
            "Epoch 4: Train loss 267.626708984375\n",
            "Epoch 5: Train loss 14.53585147857666\n",
            "Epoch 6: Train loss 10.675342559814453\n",
            "Epoch 7: Train loss 8.246173858642578\n",
            "Epoch 8: Train loss 6.590807914733887\n",
            "Epoch 9: Train loss 5.407838821411133\n",
            "Epoch 10: Train loss 4.528637886047363\n",
            "Epoch 11: Train loss 3.8490748405456543\n",
            "Epoch 12: Train loss 3.2990057468414307\n",
            "Epoch 13: Train loss 2.8396425247192383\n",
            "Epoch 14: Train loss 2.4508206844329834\n",
            "Epoch 15: Train loss 2.119101047515869\n",
            "Epoch 16: Train loss 1.834158182144165\n",
            "Epoch 17: Train loss 1.5916188955307007\n",
            "Epoch 18: Train loss 1.3863577842712402\n",
            "Epoch 19: Train loss 1.2120405435562134\n",
            "Epoch 20: Train loss 1.0637640953063965\n",
            "Epoch 21: Train loss 0.9391036033630371\n",
            "Epoch 22: Train loss 0.83286052942276\n",
            "Epoch 23: Train loss 0.742056131362915\n",
            "Epoch 24: Train loss 0.6645371317863464\n",
            "Epoch 25: Train loss 0.5981341004371643\n",
            "Epoch 26: Train loss 0.5411505103111267\n",
            "Epoch 27: Train loss 0.4922125041484833\n",
            "Epoch 28: Train loss 0.4498143792152405\n",
            "Epoch 29: Train loss 0.41275158524513245\n",
            "Epoch 30: Train loss 0.3802722990512848\n",
            "Epoch 31: Train loss 0.3516576290130615\n",
            "Epoch 32: Train loss 0.3263131380081177\n",
            "Epoch 33: Train loss 0.3036259412765503\n",
            "Epoch 34: Train loss 0.2832198739051819\n",
            "Epoch 35: Train loss 0.26480862498283386\n",
            "Epoch 36: Train loss 0.24813592433929443\n",
            "Epoch 37: Train loss 0.23296613991260529\n",
            "Epoch 38: Train loss 0.21907185018062592\n",
            "Epoch 39: Train loss 0.20631147921085358\n",
            "Epoch 40: Train loss 0.19458119571208954\n",
            "Epoch 41: Train loss 0.18377308547496796\n",
            "Epoch 42: Train loss 0.17379659414291382\n",
            "Epoch 43: Train loss 0.16457663476467133\n",
            "Epoch 44: Train loss 0.15604014694690704\n",
            "Epoch 45: Train loss 0.14814160764217377\n",
            "Epoch 46: Train loss 0.14081652462482452\n",
            "Epoch 47: Train loss 0.13401901721954346\n",
            "Epoch 48: Train loss 0.12771137058734894\n",
            "Epoch 49: Train loss 0.12186241149902344\n",
            "Epoch 50: Train loss 0.11642883718013763\n",
            "Epoch 51: Train loss 0.11139462888240814\n",
            "Epoch 52: Train loss 0.10673128813505173\n",
            "Epoch 53: Train loss 0.10242027044296265\n",
            "Epoch 54: Train loss 0.09839700162410736\n",
            "Epoch 55: Train loss 0.09465650469064713\n",
            "Epoch 56: Train loss 0.09116984903812408\n",
            "Epoch 57: Train loss 0.08792055398225784\n",
            "Epoch 58: Train loss 0.08491100370883942\n",
            "Epoch 59: Train loss 0.08212781697511673\n",
            "Epoch 60: Train loss 0.07953810691833496\n",
            "Epoch 61: Train loss 0.07713188230991364\n",
            "Epoch 62: Train loss 0.07488343119621277\n",
            "Epoch 63: Train loss 0.07279222458600998\n",
            "Epoch 64: Train loss 0.07083112001419067\n",
            "Epoch 65: Train loss 0.06898631900548935\n",
            "Epoch 66: Train loss 0.06725848466157913\n",
            "Epoch 67: Train loss 0.06564169377088547\n",
            "Epoch 68: Train loss 0.06412588804960251\n",
            "Epoch 69: Train loss 0.06270290166139603\n",
            "Epoch 70: Train loss 0.06136834993958473\n",
            "Epoch 71: Train loss 0.06010935828089714\n",
            "Epoch 72: Train loss 0.058923956006765366\n",
            "Epoch 73: Train loss 0.05780487880110741\n",
            "Epoch 74: Train loss 0.05674844607710838\n",
            "Epoch 75: Train loss 0.05575038120150566\n",
            "Epoch 76: Train loss 0.05480119585990906\n",
            "Epoch 77: Train loss 0.053895942866802216\n",
            "Epoch 78: Train loss 0.053037453442811966\n",
            "Epoch 79: Train loss 0.052224572747945786\n",
            "Epoch 80: Train loss 0.05145116522908211\n",
            "Epoch 81: Train loss 0.05070497840642929\n",
            "Epoch 82: Train loss 0.049986831843853\n",
            "Epoch 83: Train loss 0.049298107624053955\n",
            "Epoch 84: Train loss 0.04863039404153824\n",
            "Epoch 85: Train loss 0.04798949137330055\n",
            "Epoch 86: Train loss 0.04737480729818344\n",
            "Epoch 87: Train loss 0.04678322747349739\n",
            "Epoch 88: Train loss 0.04621310532093048\n",
            "Epoch 89: Train loss 0.04566281661391258\n",
            "Epoch 90: Train loss 0.04512477666139603\n",
            "Epoch 91: Train loss 0.044604524970054626\n",
            "Epoch 92: Train loss 0.04410127177834511\n",
            "Epoch 93: Train loss 0.04361455887556076\n",
            "Epoch 94: Train loss 0.043143272399902344\n",
            "Epoch 95: Train loss 0.042685579508543015\n",
            "Epoch 96: Train loss 0.042240362614393234\n",
            "Epoch 97: Train loss 0.04180752485990524\n",
            "Epoch 98: Train loss 0.04138617590069771\n",
            "Epoch 99: Train loss 0.04097567871212959\n",
            "Epoch 100: Train loss 0.04057549312710762\n",
            "Epoch 101: Train loss 0.04018053412437439\n",
            "Epoch 102: Train loss 0.03978562727570534\n",
            "Epoch 103: Train loss 0.03939991071820259\n",
            "Epoch 104: Train loss 0.0390215739607811\n",
            "Epoch 105: Train loss 0.038645464926958084\n",
            "Epoch 106: Train loss 0.038277532905340195\n",
            "Epoch 107: Train loss 0.037917155772447586\n",
            "Epoch 108: Train loss 0.03756050765514374\n",
            "Epoch 109: Train loss 0.03720668703317642\n",
            "Epoch 110: Train loss 0.03685984015464783\n",
            "Epoch 111: Train loss 0.03651927411556244\n",
            "Epoch 112: Train loss 0.03617704659700394\n",
            "Epoch 113: Train loss 0.03584098815917969\n",
            "Epoch 114: Train loss 0.035510994493961334\n",
            "Epoch 115: Train loss 0.0351867601275444\n",
            "Epoch 116: Train loss 0.034867893904447556\n",
            "Epoch 117: Train loss 0.03455229476094246\n",
            "Epoch 118: Train loss 0.03423639386892319\n",
            "Epoch 119: Train loss 0.033925481140613556\n",
            "Epoch 120: Train loss 0.03361924737691879\n",
            "Epoch 121: Train loss 0.03331486135721207\n",
            "Epoch 122: Train loss 0.033008527010679245\n",
            "Epoch 123: Train loss 0.032701365649700165\n",
            "Epoch 124: Train loss 0.03239576891064644\n",
            "Epoch 125: Train loss 0.032090090215206146\n",
            "Epoch 126: Train loss 0.03178931400179863\n",
            "Epoch 127: Train loss 0.03148987889289856\n",
            "Epoch 128: Train loss 0.031190456822514534\n",
            "Epoch 129: Train loss 0.03089553862810135\n",
            "Epoch 130: Train loss 0.030605090782046318\n",
            "Epoch 131: Train loss 0.03031882457435131\n",
            "Epoch 132: Train loss 0.030036956071853638\n",
            "Epoch 133: Train loss 0.029759349301457405\n",
            "Epoch 134: Train loss 0.029486065730452538\n",
            "Epoch 135: Train loss 0.02921702340245247\n",
            "Epoch 136: Train loss 0.02895183488726616\n",
            "Epoch 137: Train loss 0.028690580278635025\n",
            "Epoch 138: Train loss 0.0284330565482378\n",
            "Epoch 139: Train loss 0.02817894145846367\n",
            "Epoch 140: Train loss 0.02792830392718315\n",
            "Epoch 141: Train loss 0.027681244537234306\n",
            "Epoch 142: Train loss 0.02743775025010109\n",
            "Epoch 143: Train loss 0.027197537943720818\n",
            "Epoch 144: Train loss 0.02696060575544834\n",
            "Epoch 145: Train loss 0.02672676555812359\n",
            "Epoch 146: Train loss 0.026495998725295067\n",
            "Epoch 147: Train loss 0.0262637659907341\n",
            "Epoch 148: Train loss 0.02602565661072731\n",
            "Epoch 149: Train loss 0.025784708559513092\n",
            "Epoch 150: Train loss 0.025548342615365982\n",
            "Epoch 151: Train loss 0.02530921809375286\n",
            "Epoch 152: Train loss 0.025068333372473717\n",
            "Epoch 153: Train loss 0.024823619052767754\n",
            "Epoch 154: Train loss 0.02457597851753235\n",
            "Epoch 155: Train loss 0.0243319571018219\n",
            "Epoch 156: Train loss 0.024084899574518204\n",
            "Epoch 157: Train loss 0.023842019960284233\n",
            "Epoch 158: Train loss 0.023603206500411034\n",
            "Epoch 159: Train loss 0.023368414491415024\n",
            "Epoch 160: Train loss 0.023135865107178688\n",
            "Epoch 161: Train loss 0.022901391610503197\n",
            "Epoch 162: Train loss 0.022670604288578033\n",
            "Epoch 163: Train loss 0.022442275658249855\n",
            "Epoch 164: Train loss 0.022212201729416847\n",
            "Epoch 165: Train loss 0.02198624797165394\n",
            "Epoch 166: Train loss 0.021764302626252174\n",
            "Epoch 167: Train loss 0.021544115617871284\n",
            "Epoch 168: Train loss 0.021322008222341537\n",
            "Epoch 169: Train loss 0.021097395569086075\n",
            "Epoch 170: Train loss 0.020877007395029068\n",
            "Epoch 171: Train loss 0.02066066302359104\n",
            "Epoch 172: Train loss 0.02044825069606304\n",
            "Epoch 173: Train loss 0.020237404853105545\n",
            "Epoch 174: Train loss 0.02002633921802044\n",
            "Epoch 175: Train loss 0.019819866865873337\n",
            "Epoch 176: Train loss 0.019616711884737015\n",
            "Epoch 177: Train loss 0.019413668662309647\n",
            "Epoch 178: Train loss 0.019217703491449356\n",
            "Epoch 179: Train loss 0.019025258719921112\n",
            "Epoch 180: Train loss 0.018848920240998268\n",
            "Epoch 181: Train loss 0.01869957149028778\n",
            "Epoch 182: Train loss 0.018596330657601357\n",
            "Epoch 183: Train loss 0.01857972890138626\n",
            "Epoch 184: Train loss 0.018735116347670555\n",
            "Epoch 185: Train loss 0.019246717914938927\n",
            "Epoch 186: Train loss 0.020469188690185547\n",
            "Epoch 187: Train loss 0.023203575983643532\n",
            "Epoch 188: Train loss 0.029017262160778046\n",
            "Epoch 189: Train loss 0.04179544374346733\n",
            "Epoch 190: Train loss 0.06837259978055954\n",
            "Epoch 191: Train loss 0.1274765580892563\n",
            "Epoch 192: Train loss 0.24416522681713104\n",
            "Epoch 193: Train loss 0.4934399127960205\n",
            "Epoch 194: Train loss 0.8759704828262329\n",
            "Epoch 195: Train loss 1.4668972492218018\n",
            "Epoch 196: Train loss 1.7728989124298096\n",
            "Epoch 197: Train loss 1.6790121793746948\n",
            "Epoch 198: Train loss 1.1910957098007202\n",
            "Epoch 199: Train loss 0.6368938088417053\n",
            "Epoch 200: Train loss 0.3539968430995941\n"
          ]
        }
      ],
      "source": [
        "train(net, x_train, y_train)"
      ]
    },
    {
      "cell_type": "code",
      "execution_count": null,
      "id": "DNZZ_pbxT5hx",
      "metadata": {
        "colab": {
          "base_uri": "https://localhost:8080/"
        },
        "id": "DNZZ_pbxT5hx",
        "outputId": "9a43b256-4c3f-42e6-d25d-2576027422fa"
      },
      "outputs": [
        {
          "output_type": "stream",
          "name": "stdout",
          "text": [
            "Test loss:  0.19405420124530792\n"
          ]
        }
      ],
      "source": [
        "evaluate(net, x_test, y_test)"
      ]
    },
    {
      "cell_type": "code",
      "execution_count": null,
      "id": "OWPMa4-nRCK5",
      "metadata": {
        "colab": {
          "base_uri": "https://localhost:8080/",
          "height": 435
        },
        "id": "OWPMa4-nRCK5",
        "outputId": "0e991049-5a83-4a03-b481-15b0a9de4845"
      },
      "outputs": [
        {
          "output_type": "display_data",
          "data": {
            "text/plain": [
              "<Figure size 640x480 with 1 Axes>"
            ],
            "image/png": "[encoded data removed]"
          },
          "metadata": {}
        }
      ],
      "source": [
        "def plot_approx_torch(model, x, y):\n",
        "  plt.scatter(x,y)\n",
        "  plt.scatter(x, model(x).detach().numpy())\n",
        "  plt.legend(['Function', 'Approx'])\n",
        "  plt.show()\n",
        "\n",
        "plot_approx_torch(net, x_train, y_train)"
      ]
    },
    {
      "cell_type": "markdown",
      "id": "eUDOLuP5V0lB",
      "metadata": {
        "id": "eUDOLuP5V0lB"
      },
      "source": [
        "With more epochs it can approximate the function more accuretaly \n",
        "\n",
        "# Exercise 2"
      ]
    },
    {
      "cell_type": "code",
      "execution_count": null,
      "id": "pXfMg9vdVz_5",
      "metadata": {
        "colab": {
          "base_uri": "https://localhost:8080/",
          "height": 430
        },
        "id": "pXfMg9vdVz_5",
        "outputId": "d890140a-5d54-41d9-841f-b7df5fd24c2f"
      },
      "outputs": [
        {
          "output_type": "display_data",
          "data": {
            "text/plain": [
              "<Figure size 640x480 with 1 Axes>"
            ],
            "image/png": "[encoded data removed]"
          },
          "metadata": {}
        }
      ],
      "source": [
        "#the function we want to approach using OLS\n",
        "def f(x):\n",
        "    return 1 / (1 + np.multiply(x,x))\n",
        "\n",
        "def get_points():\n",
        "    return np.linspace(start=-5, stop=5, num=60)\n",
        "\n",
        "x = get_points()\n",
        "y = f(x)\n",
        "\n",
        "def plot_f(x, y):\n",
        "  plt.scatter(x, y)\n",
        "  plt.show()\n",
        "\n",
        "plot_f(x,y)"
      ]
    },
    {
      "cell_type": "markdown",
      "source": [
        "Split the dataset"
      ],
      "metadata": {
        "id": "EFpWu3H9s3OL"
      },
      "id": "EFpWu3H9s3OL"
    },
    {
      "cell_type": "code",
      "source": [
        "from sklearn.model_selection import train_test_split\n",
        "# split the data into training and testing sets\n",
        "x_train, x_test, y_train, y_test = train_test_split(x, y, test_size=0.2)\n",
        "\n",
        "# plot the training and testing sets\n",
        "plt.scatter(x_train, y_train, label='Training set')\n",
        "plt.scatter(x_test, y_test, label='Testing set')\n",
        "plt.legend()\n",
        "plt.show()\n",
        "size = x_train.shape"
      ],
      "metadata": {
        "colab": {
          "base_uri": "https://localhost:8080/",
          "height": 430
        },
        "id": "zdbvi0lUs8-H",
        "outputId": "838c510d-aab0-4422-e71e-bfaea879905c"
      },
      "id": "zdbvi0lUs8-H",
      "execution_count": null,
      "outputs": [
        {
          "output_type": "display_data",
          "data": {
            "text/plain": [
              "<Figure size 640x480 with 1 Axes>"
            ],
            "image/png": "[encoded data removed]"
          },
          "metadata": {}
        }
      ]
    },
    {
      "cell_type": "markdown",
      "source": [
        "Set the data to PyTorch"
      ],
      "metadata": {
        "id": "0PSRB7phtx75"
      },
      "id": "0PSRB7phtx75"
    },
    {
      "cell_type": "code",
      "source": [
        "# Convert data to PyTorch tensors\n",
        "x_tensor = torch.tensor(x, dtype=torch.float32).unsqueeze(1)\n",
        "y_tensor = torch.tensor(y, dtype=torch.float32).unsqueeze(1)\n",
        "\n",
        "# Split the data into training and testing sets\n",
        "x_train, x_test, y_train, y_test = train_test_split(x_tensor, y_tensor, test_size=0.2)"
      ],
      "metadata": {
        "id": "uh09z1lotxp8"
      },
      "id": "uh09z1lotxp8",
      "execution_count": null,
      "outputs": []
    },
    {
      "cell_type": "code",
      "source": [
        "# Define your neural net model\n",
        "class Net(nn.Module):\n",
        "    def __init__(self):\n",
        "        super(Net, self).__init__()\n",
        "        self.fc1 = nn.Linear(1, 20)\n",
        "        self.fc2 = nn.Linear(20, 1)\n",
        "\n",
        "    def forward(self, x):\n",
        "        x = torch.relu(self.fc1(x))\n",
        "        x = self.fc2(x)\n",
        "        return x\n",
        "\n",
        "# Define your loss function\n",
        "criterion = nn.MSELoss()\n",
        "\n",
        "# Initialize your neural net\n",
        "net = Net()\n",
        "\n",
        "# Define your optimizer\n",
        "optimizer = optim.RMSprop(net.parameters(), lr=0.1)\n",
        "\n",
        "# Train your neural net\n",
        "def train(model, x, y, epochs=200, verbose=1):\n",
        "    for epoch in range(1, epochs+1):\n",
        "        outputs = model(x)\n",
        "        loss = criterion(outputs, y)\n",
        "        optimizer.zero_grad()\n",
        "        loss.backward()\n",
        "        optimizer.step()\n",
        "        if verbose:\n",
        "            print(f'Epoch {epoch}: Train loss {loss.item()}')\n",
        "\n",
        "# Test your neural net\n",
        "def evaluate(model, x, y):\n",
        "    outputs = model(x)\n",
        "    test_loss = criterion(outputs, y)\n",
        "    print('Test loss: ', test_loss.item())"
      ],
      "metadata": {
        "id": "OdMByavmtKje"
      },
      "id": "OdMByavmtKje",
      "execution_count": null,
      "outputs": []
    },
    {
      "cell_type": "code",
      "source": [
        "train(net, x_train, y_train)"
      ],
      "metadata": {
        "colab": {
          "base_uri": "https://localhost:8080/"
        },
        "id": "1-sGFODitbn9",
        "outputId": "95cfbcee-e5f5-4314-f4fd-70e83e317920"
      },
      "id": "1-sGFODitbn9",
      "execution_count": null,
      "outputs": [
        {
          "output_type": "stream",
          "name": "stdout",
          "text": [
            "Epoch 1: Train loss 0.4391084611415863\n",
            "Epoch 2: Train loss 634.4075927734375\n",
            "Epoch 3: Train loss 0.6763924956321716\n",
            "Epoch 4: Train loss 0.47568607330322266\n",
            "Epoch 5: Train loss 0.37247252464294434\n",
            "Epoch 6: Train loss 0.3162073791027069\n",
            "Epoch 7: Train loss 0.282713383436203\n",
            "Epoch 8: Train loss 0.2600192725658417\n",
            "Epoch 9: Train loss 0.2425939291715622\n",
            "Epoch 10: Train loss 0.2280130237340927\n",
            "Epoch 11: Train loss 0.21521158516407013\n",
            "Epoch 12: Train loss 0.203726127743721\n",
            "Epoch 13: Train loss 0.19328242540359497\n",
            "Epoch 14: Train loss 0.18370871245861053\n",
            "Epoch 15: Train loss 0.17488278448581696\n",
            "Epoch 16: Train loss 0.16671031713485718\n",
            "Epoch 17: Train loss 0.15911535918712616\n",
            "Epoch 18: Train loss 0.15203532576560974\n",
            "Epoch 19: Train loss 0.14541776478290558\n",
            "Epoch 20: Train loss 0.1392185091972351\n",
            "Epoch 21: Train loss 0.13339979946613312\n",
            "Epoch 22: Train loss 0.12792928516864777\n",
            "Epoch 23: Train loss 0.12277881056070328\n",
            "Epoch 24: Train loss 0.11792388558387756\n",
            "Epoch 25: Train loss 0.11334463953971863\n",
            "Epoch 26: Train loss 0.10902319103479385\n",
            "Epoch 27: Train loss 0.10493873804807663\n",
            "Epoch 28: Train loss 0.10107586532831192\n",
            "Epoch 29: Train loss 0.09742068499326706\n",
            "Epoch 30: Train loss 0.09396033734083176\n",
            "Epoch 31: Train loss 0.09068142622709274\n",
            "Epoch 32: Train loss 0.08757556229829788\n",
            "Epoch 33: Train loss 0.08463282138109207\n",
            "Epoch 34: Train loss 0.08184390515089035\n",
            "Epoch 35: Train loss 0.07920024544000626\n",
            "Epoch 36: Train loss 0.07669378072023392\n",
            "Epoch 37: Train loss 0.07431698590517044\n",
            "Epoch 38: Train loss 0.07206279784440994\n",
            "Epoch 39: Train loss 0.06992456316947937\n",
            "Epoch 40: Train loss 0.0678960382938385\n",
            "Epoch 41: Train loss 0.06597132235765457\n",
            "Epoch 42: Train loss 0.06414487212896347\n",
            "Epoch 43: Train loss 0.06241143122315407\n",
            "Epoch 44: Train loss 0.06076604127883911\n",
            "Epoch 45: Train loss 0.05920401215553284\n",
            "Epoch 46: Train loss 0.05772089958190918\n",
            "Epoch 47: Train loss 0.056312497705221176\n",
            "Epoch 48: Train loss 0.054974813014268875\n",
            "Epoch 49: Train loss 0.05370411276817322\n",
            "Epoch 50: Train loss 0.05249679461121559\n",
            "Epoch 51: Train loss 0.05134947970509529\n",
            "Epoch 52: Train loss 0.050258953124284744\n",
            "Epoch 53: Train loss 0.0492221862077713\n",
            "Epoch 54: Train loss 0.04823626950383186\n",
            "Epoch 55: Train loss 0.04729848727583885\n",
            "Epoch 56: Train loss 0.04640623927116394\n",
            "Epoch 57: Train loss 0.045557066798210144\n",
            "Epoch 58: Train loss 0.04474862292408943\n",
            "Epoch 59: Train loss 0.043978720903396606\n",
            "Epoch 60: Train loss 0.04324525594711304\n",
            "Epoch 61: Train loss 0.04254623129963875\n",
            "Epoch 62: Train loss 0.04187977686524391\n",
            "Epoch 63: Train loss 0.041244104504585266\n",
            "Epoch 64: Train loss 0.04063786193728447\n",
            "Epoch 65: Train loss 0.0400594100356102\n",
            "Epoch 66: Train loss 0.03950686380267143\n",
            "Epoch 67: Train loss 0.03897879272699356\n",
            "Epoch 68: Train loss 0.03847382590174675\n",
            "Epoch 69: Train loss 0.037990737706422806\n",
            "Epoch 70: Train loss 0.037528302520513535\n",
            "Epoch 71: Train loss 0.037085290998220444\n",
            "Epoch 72: Train loss 0.03666061535477638\n",
            "Epoch 73: Train loss 0.03625325486063957\n",
            "Epoch 74: Train loss 0.03586241230368614\n",
            "Epoch 75: Train loss 0.03548716753721237\n",
            "Epoch 76: Train loss 0.03512611985206604\n",
            "Epoch 77: Train loss 0.03477879613637924\n",
            "Epoch 78: Train loss 0.0344444178044796\n",
            "Epoch 79: Train loss 0.03412225469946861\n",
            "Epoch 80: Train loss 0.03381161019206047\n",
            "Epoch 81: Train loss 0.03351183235645294\n",
            "Epoch 82: Train loss 0.03322230651974678\n",
            "Epoch 83: Train loss 0.03294244781136513\n",
            "Epoch 84: Train loss 0.03267170861363411\n",
            "Epoch 85: Train loss 0.03240956738591194\n",
            "Epoch 86: Train loss 0.03215554729104042\n",
            "Epoch 87: Train loss 0.03190917149186134\n",
            "Epoch 88: Train loss 0.03167001157999039\n",
            "Epoch 89: Train loss 0.03143766149878502\n",
            "Epoch 90: Train loss 0.03121173568069935\n",
            "Epoch 91: Train loss 0.030991869047284126\n",
            "Epoch 92: Train loss 0.03077772445976734\n",
            "Epoch 93: Train loss 0.03056897409260273\n",
            "Epoch 94: Train loss 0.03036547638475895\n",
            "Epoch 95: Train loss 0.030166884884238243\n",
            "Epoch 96: Train loss 0.029972843825817108\n",
            "Epoch 97: Train loss 0.02978307008743286\n",
            "Epoch 98: Train loss 0.029597250744700432\n",
            "Epoch 99: Train loss 0.029415220022201538\n",
            "Epoch 100: Train loss 0.029236899688839912\n",
            "Epoch 101: Train loss 0.029061878100037575\n",
            "Epoch 102: Train loss 0.028890026733279228\n",
            "Epoch 103: Train loss 0.028721364215016365\n",
            "Epoch 104: Train loss 0.02855544723570347\n",
            "Epoch 105: Train loss 0.028392264619469643\n",
            "Epoch 106: Train loss 0.028231753036379814\n",
            "Epoch 107: Train loss 0.028073525056242943\n",
            "Epoch 108: Train loss 0.027917800471186638\n",
            "Epoch 109: Train loss 0.027764087542891502\n",
            "Epoch 110: Train loss 0.027612576261162758\n",
            "Epoch 111: Train loss 0.02746296487748623\n",
            "Epoch 112: Train loss 0.027315273880958557\n",
            "Epoch 113: Train loss 0.02716931886970997\n",
            "Epoch 114: Train loss 0.027025094255805016\n",
            "Epoch 115: Train loss 0.026882430538535118\n",
            "Epoch 116: Train loss 0.026741348206996918\n",
            "Epoch 117: Train loss 0.02660164050757885\n",
            "Epoch 118: Train loss 0.026463428512215614\n",
            "Epoch 119: Train loss 0.0263263750821352\n",
            "Epoch 120: Train loss 0.02619078941643238\n",
            "Epoch 121: Train loss 0.026056179776787758\n",
            "Epoch 122: Train loss 0.025922907516360283\n",
            "Epoch 123: Train loss 0.025790588930249214\n",
            "Epoch 124: Train loss 0.02565937303006649\n",
            "Epoch 125: Train loss 0.025529175996780396\n",
            "Epoch 126: Train loss 0.025399820879101753\n",
            "Epoch 127: Train loss 0.025271587073802948\n",
            "Epoch 128: Train loss 0.02514401637017727\n",
            "Epoch 129: Train loss 0.025017419829964638\n",
            "Epoch 130: Train loss 0.024891557171940804\n",
            "Epoch 131: Train loss 0.024765953421592712\n",
            "Epoch 132: Train loss 0.024641254916787148\n",
            "Epoch 133: Train loss 0.024517053738236427\n",
            "Epoch 134: Train loss 0.02439364232122898\n",
            "Epoch 135: Train loss 0.024270853027701378\n",
            "Epoch 136: Train loss 0.02414858341217041\n",
            "Epoch 137: Train loss 0.024027131497859955\n",
            "Epoch 138: Train loss 0.02390604466199875\n",
            "Epoch 139: Train loss 0.02378559671342373\n",
            "Epoch 140: Train loss 0.023665735498070717\n",
            "Epoch 141: Train loss 0.023546257987618446\n",
            "Epoch 142: Train loss 0.02342746965587139\n",
            "Epoch 143: Train loss 0.023309027776122093\n",
            "Epoch 144: Train loss 0.023191062733530998\n",
            "Epoch 145: Train loss 0.023073693737387657\n",
            "Epoch 146: Train loss 0.02295657992362976\n",
            "Epoch 147: Train loss 0.022840047255158424\n",
            "Epoch 148: Train loss 0.022723883390426636\n",
            "Epoch 149: Train loss 0.022608043625950813\n",
            "Epoch 150: Train loss 0.022492824122309685\n",
            "Epoch 151: Train loss 0.022377751767635345\n",
            "Epoch 152: Train loss 0.02226319909095764\n",
            "Epoch 153: Train loss 0.022148996591567993\n",
            "Epoch 154: Train loss 0.022035041823983192\n",
            "Epoch 155: Train loss 0.021921688690781593\n",
            "Epoch 156: Train loss 0.021808424964547157\n",
            "Epoch 157: Train loss 0.02169564925134182\n",
            "Epoch 158: Train loss 0.02158316969871521\n",
            "Epoch 159: Train loss 0.021470932289958\n",
            "Epoch 160: Train loss 0.021359222009778023\n",
            "Epoch 161: Train loss 0.021247578784823418\n",
            "Epoch 162: Train loss 0.02113644778728485\n",
            "Epoch 163: Train loss 0.02102549560368061\n",
            "Epoch 164: Train loss 0.020914854481816292\n",
            "Epoch 165: Train loss 0.02080461196601391\n",
            "Epoch 166: Train loss 0.02069445699453354\n",
            "Epoch 167: Train loss 0.020584886893630028\n",
            "Epoch 168: Train loss 0.020475303754210472\n",
            "Epoch 169: Train loss 0.020366204902529716\n",
            "Epoch 170: Train loss 0.020257271826267242\n",
            "Epoch 171: Train loss 0.020148640498518944\n",
            "Epoch 172: Train loss 0.02004033885896206\n",
            "Epoch 173: Train loss 0.01993217132985592\n",
            "Epoch 174: Train loss 0.01982448436319828\n",
            "Epoch 175: Train loss 0.019716788083314896\n",
            "Epoch 176: Train loss 0.019609684124588966\n",
            "Epoch 177: Train loss 0.01950252242386341\n",
            "Epoch 178: Train loss 0.01939588598906994\n",
            "Epoch 179: Train loss 0.019289301708340645\n",
            "Epoch 180: Train loss 0.01918313466012478\n",
            "Epoch 181: Train loss 0.01907711662352085\n",
            "Epoch 182: Train loss 0.018971433863043785\n",
            "Epoch 183: Train loss 0.01886596903204918\n",
            "Epoch 184: Train loss 0.018760770559310913\n",
            "Epoch 185: Train loss 0.01865568943321705\n",
            "Epoch 186: Train loss 0.018550561740994453\n",
            "Epoch 187: Train loss 0.018446549773216248\n",
            "Epoch 188: Train loss 0.018342694267630577\n",
            "Epoch 189: Train loss 0.018239155411720276\n",
            "Epoch 190: Train loss 0.018135758116841316\n",
            "Epoch 191: Train loss 0.01803269051015377\n",
            "Epoch 192: Train loss 0.017929762601852417\n",
            "Epoch 193: Train loss 0.017827162519097328\n",
            "Epoch 194: Train loss 0.017724715173244476\n",
            "Epoch 195: Train loss 0.017622578889131546\n",
            "Epoch 196: Train loss 0.01752062886953354\n",
            "Epoch 197: Train loss 0.01741894893348217\n",
            "Epoch 198: Train loss 0.01731751672923565\n",
            "Epoch 199: Train loss 0.01721629686653614\n",
            "Epoch 200: Train loss 0.017115389928221703\n"
          ]
        }
      ]
    },
    {
      "cell_type": "code",
      "execution_count": null,
      "id": "iqDfwpSDWTkJ",
      "metadata": {
        "id": "iqDfwpSDWTkJ",
        "colab": {
          "base_uri": "https://localhost:8080/"
        },
        "outputId": "a0b57912-3c96-4d58-bca5-259dafdb40aa"
      },
      "outputs": [
        {
          "output_type": "stream",
          "name": "stdout",
          "text": [
            "Test loss:  0.025182679295539856\n"
          ]
        }
      ],
      "source": [
        "# Evaluate the model on the test set\n",
        "evaluate(net, x_test, y_test)"
      ]
    },
    {
      "cell_type": "code",
      "execution_count": null,
      "id": "ia736H3gX5by",
      "metadata": {
        "id": "ia736H3gX5by",
        "colab": {
          "base_uri": "https://localhost:8080/",
          "height": 430
        },
        "outputId": "d99cfa0c-831b-47a7-fc83-814f62f1070e"
      },
      "outputs": [
        {
          "output_type": "display_data",
          "data": {
            "text/plain": [
              "<Figure size 640x480 with 1 Axes>"
            ],
            "image/png": "[encoded data removed]"
          },
          "metadata": {}
        }
      ],
      "source": [
        "plot_approx_torch(net, x_train, y_train)"
      ]
    },
    {
      "cell_type": "markdown",
      "id": "0eade559",
      "metadata": {
        "id": "0eade559"
      },
      "source": [
        "\\begin{exercise}\n",
        "Compare the neural net solutions with the polynomial least squares you have obtained. Print the accuracies of all methods and comment on the results.\n",
        "\n",
        "\\end{exercise}\n"
      ]
    },
    {
      "cell_type": "markdown",
      "source": [
        "In the Keras fit good in the OLS, but in the end to is good. Maeby the problem is overfitting. In the Py Torch is good in the edge but is not good in the middle of the data. "
      ],
      "metadata": {
        "id": "w8YwUUGNA9qy"
      },
      "id": "w8YwUUGNA9qy"
    }
  ],
  "metadata": {
    "colab": {
      "provenance": []
    },
    "kernelspec": {
      "display_name": "Python 3 (ipykernel)",
      "language": "python",
      "name": "python3"
    },
    "language_info": {
      "codemirror_mode": {
        "name": "ipython",
        "version": 3
      },
      "file_extension": ".py",
      "mimetype": "text/x-python",
      "name": "python",
      "nbconvert_exporter": "python",
      "pygments_lexer": "ipython3",
      "version": "3.9.13"
    },
    "latex_envs": {
      "LaTeX_envs_menu_present": true,
      "autoclose": false,
      "autocomplete": true,
      "bibliofile": "biblio.bib",
      "cite_by": "apalike",
      "current_citInitial": 1,
      "eqLabelWithNumbers": true,
      "eqNumInitial": 1,
      "hotkeys": {
        "equation": "Ctrl-E",
        "itemize": "Ctrl-I"
      },
      "labels_anchors": false,
      "latex_user_defs": false,
      "report_style_numbering": false,
      "user_envs_cfg": false
    },
    "nbTranslate": {
      "displayLangs": [
        "*"
      ],
      "hotkey": "alt-t",
      "langInMainMenu": true,
      "sourceLang": "en",
      "targetLang": "fr",
      "useGoogleTranslate": true
    },
    "toc": {
      "base_numbering": 1,
      "nav_menu": {},
      "number_sections": true,
      "sideBar": true,
      "skip_h1_title": false,
      "title_cell": "Table of Contents",
      "title_sidebar": "Contents",
      "toc_cell": false,
      "toc_position": {},
      "toc_section_display": true,
      "toc_window_display": false
    },
    "varInspector": {
      "cols": {
        "lenName": 16,
        "lenType": 16,
        "lenVar": 40
      },
      "kernels_config": {
        "python": {
          "delete_cmd_postfix": "",
          "delete_cmd_prefix": "del ",
          "library": "var_list.py",
          "varRefreshCmd": "print(var_dic_list())"
        },
        "r": {
          "delete_cmd_postfix": ") ",
          "delete_cmd_prefix": "rm(",
          "library": "var_list.r",
          "varRefreshCmd": "cat(var_dic_list()) "
        }
      },
      "types_to_exclude": [
        "module",
        "function",
        "builtin_function_or_method",
        "instance",
        "_Feature"
      ],
      "window_display": false
    }
  },
  "nbformat": 4,
  "nbformat_minor": 5
}