{
 "cells": [
  {
   "cell_type": "markdown",
   "id": "cb9c2468",
   "metadata": {},
   "source": [
    "# Basic Probability Concepts\n",
    "- A sample space $S$ is the set of all possible outcomes of a conceptual or physical, repeatable experiment. ( $S$ can be finite or infinite.)\n",
    "    - E.g., $S$ may be the set of all possible outcomes of a dice roll: $S \\equiv\\{1,2,3,4,5,6\\}$\n",
    "    - E.g., $S$ may be the set of all possible nucleotides of a DNA site: $S \\equiv\\{\\mathrm{A}, \\mathrm{T}, \\mathrm{C}, \\mathrm{G}\\}$\n",
    "    - E.g., $S$ may be the set of all possible positions time-space positions of a aircraft on a radar screen: $S \\equiv\\left\\{0, R_{\\max }\\right\\} \\times\\left\\{0,360^{\\circ}\\right\\} \\times\\{0,+\\infty\\}$\n",
    "- An event $A$ is the any subset $S$ :\n",
    "    - Seeing \"1\" or \"6\" in a roll; observing a \"G\" at a site; UA007 in space-time interval X\n",
    "- An event space $E$ is the possible worlds the outcomes can happen\n",
    "    - All dice-rolls, reading a genome, monitoring the radar signal"
   ]
  },
  {
   "cell_type": "markdown",
   "id": "32718d17",
   "metadata": {},
   "source": [
    "# Visualizing Probability Space\n",
    "- A probability space is a sample space of which, for every subset $s \\in S$, there is an assignment $P(S) \\in S$ such that:\n",
    "- $0 \\leq P(s) \\leq 1$\n",
    "- $\\Sigma_{s \\in S} P(s)=1$\n",
    "- $P(s)$ is called the probability (or probability mass) of $s$"
   ]
  },
  {
   "cell_type": "markdown",
   "id": "ea78cfb8",
   "metadata": {},
   "source": [
    "# Discrete Prob. Distribution\n",
    "- (In the discrete case), a probability distribution $P$ on $S$ (and hence on the domain of $X$ ) is an assignment of a non-negative real number $P(s)$ to each $s \\in S$ (or each valid value of $x$ ) such that $\\Sigma_{s \\in S} P(s)=1 .(0 \\leq P(s) \\leq 1)$\n",
    "    - intuitively, $P(s)$ corresponds to the frequency (or the likelihood) of getting $s$ in the experiments, if repeated many times\n",
    "    - call $\\theta_{s}=P(s)$ the parameters in a discrete probability distribution"
   ]
  },
  {
   "cell_type": "markdown",
   "id": "3ef35867",
   "metadata": {
    "slideshow": {
     "slide_type": "subslide"
    }
   },
   "source": [
    "# Random Variables\n",
    "\n",
    "- A Random Variable is a variable will have a value. But there is uncertainty as to what value.\n",
    "\n",
    "- (Rough) Definition: Variable with a probability \n",
    "\n",
    "- Probability that $X=a$\n",
    "\n",
    "$$\\triangleq  \\;\n",
    "P_X(X=a)=P(X=a)\n",
    "\\begin{cases}\n",
    "    \\text{1)} \\; P(X=a) \\geq 0 \\\\\n",
    "    \\text{2)} \\; \\sum\\limits_{\\text{all a}} P(X=a)=1\n",
    "\\end{cases}$$\n",
    "\n",
    "where $P$ is a probability distribution\n",
    "\n",
    "- $\\begin{cases}\n",
    "    \\text{continuous r.v.} \\qquad \\text{if} \\;x \\;\\text{is continuous}\\\\\n",
    "    \\text{discrete r.v.} \\quad \\qquad \\, \\text{if} \\;x \\;\\text{is discrete}\n",
    "\\end{cases}$\n",
    "\n",
    "Example:\n",
    "- 3 fair coins are flipped.\n",
    "- $Y=$ number of \"heads\" on 3 coins\n",
    "- $Y$ is a random variable\n",
    "- $P(Y=0)=1 / 8 \\quad(T, T, T)$\n",
    "- $\\mathrm{P}(\\mathrm{Y}=1)=3 / 8 \\quad(\\mathrm{H}, \\mathrm{T}, \\mathrm{T}),(\\mathrm{T}, \\mathrm{H}, \\mathrm{T}),(\\mathrm{T}, \\mathrm{T}, \\mathrm{H})$\n",
    "- $\\mathrm{P}(\\mathrm{Y}=2)=3 / 8 \\quad(\\mathrm{H}, \\mathrm{H}, \\mathrm{T}),(\\mathrm{H}, \\mathrm{T}, \\mathrm{H}),(\\mathrm{T}, \\mathrm{H}, \\mathrm{H})$\n",
    "- $\\mathrm{P}(\\mathrm{Y}=3)=1 / 8 \\quad(\\mathrm{H}, \\mathrm{H}, \\mathrm{H})$\n",
    "- $P(Y \\geq 4)=0$"
   ]
  },
  {
   "cell_type": "markdown",
   "id": "75ee633a",
   "metadata": {},
   "source": [
    "# Random Variables -> Functions\n",
    "$$\n",
    "P(Y=k)\n",
    "$$"
   ]
  },
  {
   "cell_type": "code",
   "execution_count": 15,
   "id": "960b5255",
   "metadata": {},
   "outputs": [
    {
     "data": {
      "text/plain": [
       "0.03125"
      ]
     },
     "execution_count": 15,
     "metadata": {},
     "output_type": "execute_result"
    }
   ],
   "source": [
    "import math\n",
    "def event_probability(k):\n",
    "# probability mass function of Y in python\n",
    "    N = 5 # number of coin flips\n",
    "    P = 0.5 # probability of heads\n",
    "    ways = math.comb(N, k);\n",
    "    prob_heads = math.pow(P, k)\n",
    "    prob_tails = math.pow(P, N-k)\n",
    "    a = prob_heads\n",
    "    b = prob_tails\n",
    "    return ways * a * b\n",
    "event_probability(5)"
   ]
  },
  {
   "cell_type": "markdown",
   "id": "938670af",
   "metadata": {},
   "source": [
    "\\begin{definition}\n",
    "A **random variable** is a function that associates a unique numerical value (a token) with every outcome of an experiment. (The value of the r.v. will vary from trial to trial as the experiment is repeated).\n",
    "\n",
    "\\begin{remark}\n",
    "Notation: To make notation\n",
    "easier, we typically denote random variables in uppercase letters, and\n",
    "the corresponding value in lowercase i.e. $X$ the name of a RV and $x$ its value.\n",
    "\n",
    "\\end{remark}\n",
    "\n",
    "\n",
    "- Discrete r.v.:\n",
    "    - The outcome of a dice-roll\n",
    "    - The outcome of reading a nt at site $i: X_{i}$\n",
    "    - The outcome of measuring the males in a class\n",
    "- Binary event and indicator variable:\n",
    "    - Seeing an \"A\" at a site $\\Rightarrow X=1$, o/w $X=0$.\n",
    "    - This describes the true or false outcome a random event.\n",
    "- Continuous r.v.:\n",
    "    - The outcome of recording the true location of an aircraft: $X_{\\text {true }}$\n",
    "    - The outcome of observing the measured location of an aircraft $X_{o b s}$\n",
    "    - The outcome of measuring the height and weight of a person\n",
    "\\end{definition}\n"
   ]
  },
  {
   "cell_type": "markdown",
   "id": "f5c13c3d",
   "metadata": {},
   "source": [
    "# Probability distributions for discrete and continuous RV\n",
    "\n",
    "\n",
    "\n",
    "| Discrete random variable X | Continuous random variable X |\n",
    "| :---: | :---: |\n",
    "| Probability mass function (PMF): | Probability density function (PDF): |\n",
    "|  p(x) | f(x) |\n",
    "| To get probability: | To get probability: |\n",
    "|  P(X=x)=p(x) | $P(a \\le X \\le b)$=$\\int_{a}^{b}{f(x)dx}$ |\n",
    "\n",
    "Both are measures of how **likely** $X$ is to take on a value."
   ]
  },
  {
   "cell_type": "markdown",
   "id": "47eaea60",
   "metadata": {},
   "source": [
    "\\begin{example}\n",
    "\n",
    "- Bernoulli distribution: $\\operatorname{Ber}(p)$\n",
    "$$\n",
    "P(x)=\\left\\{\\begin{array}{ll}\n",
    "1-p & \\text { for } x=0 \\\\\n",
    "p & \\text { for } x=1\n",
    "\\end{array} \\Rightarrow P(x)=p^{x}(1-p)^{1-x}\\right.\n",
    "$$\n",
    "\\end{example}\n"
   ]
  },
  {
   "cell_type": "code",
   "execution_count": 9,
   "id": "67734ad8",
   "metadata": {},
   "outputs": [
    {
     "data": {
      "text/plain": [
       "0.16000000000000003"
      ]
     },
     "execution_count": 9,
     "metadata": {},
     "output_type": "execute_result"
    }
   ],
   "source": [
    "p = 0.2\n",
    "p*(1-p)"
   ]
  },
  {
   "cell_type": "code",
   "execution_count": 7,
   "id": "74d30413",
   "metadata": {},
   "outputs": [
    {
     "name": "stdout",
     "output_type": "stream",
     "text": [
      "0.2\n",
      "1.0\n",
      "0.2\n",
      "0.16000000000000003\n",
      "0.4\n",
      "0\n",
      "[0 1 0 1 1 0 0 0 1 0]\n",
      "(0, 1)\n"
     ]
    }
   ],
   "source": [
    "from scipy import stats\n",
    "X = stats.bernoulli(0.2) # Declare X to be a Bernoulli random variable\n",
    "print(X.pmf(1))           # P(X = 1)\n",
    "print(X.cdf(2))           # P(X <= 2)\n",
    "print(X.mean())           # E[X]\n",
    "print(X.var())            # Var(X)\n",
    "print(X.std())            # Std(X)\n",
    "print(X.rvs())            # Get a random sample from X\n",
    "print(X.rvs(10))          # Get 10 random samples fromm X\n",
    "print(X.support())"
   ]
  },
  {
   "cell_type": "markdown",
   "id": "85cb1b5a",
   "metadata": {
    "slideshow": {
     "slide_type": "subslide"
    }
   },
   "source": [
    "\\begin{example}\n",
    "As an example, the value showing when a die is rolled can be a\n",
    "random variable $X$ with $\\text{ Val}(X)=\\{1,2,3,4,5,6\\}$, and assuming the die\n",
    "is fair, $P(X=x)=1/6$ for all values of $x \\in \\text{ Val}(X)$. \n",
    "\\end{example}"
   ]
  },
  {
   "cell_type": "markdown",
   "id": "d1ade1cd",
   "metadata": {},
   "source": [
    "# Vectorized operations\n",
    "If you are interested in speeding up your code on Problem Set 3 and beyond:\n",
    "If we want to generate 10,000 samples of a Binomial, we can use the size optional parameter inside of np. random. binomial. The size parameter indicates the number of trials we want. We want to figure out the average value of $X \\sim \\operatorname{Bin}(n=10, p=0.2)$ over 10,000 samples, so we pass in 10,000 to the size parameter. We can check the dimensionality of our array using the .shape property. Finally, if we want to take the mean over all 10,000 samples, we can use np.mean."
   ]
  },
  {
   "cell_type": "code",
   "execution_count": 16,
   "id": "c35357b1",
   "metadata": {},
   "outputs": [
    {
     "name": "stdout",
     "output_type": "stream",
     "text": [
      "(10000,)\n",
      "2.0013\n"
     ]
    }
   ],
   "source": [
    "import numpy as np\n",
    "samples = np.random.binomial(10, 0.2, size=10000)\n",
    "print(samples.shape)\t\t\t # Get array shape: (10000,)\n",
    "print(np.mean(samples))\t\t # Mean over array: 1.9961"
   ]
  },
  {
   "cell_type": "markdown",
   "id": "cdb62da9",
   "metadata": {},
   "source": [
    "# Counting Operations\n",
    "## Factorial\n",
    "\n",
    "Compute n!\n",
    "as an integer. This example computes 20!:"
   ]
  },
  {
   "cell_type": "code",
   "execution_count": 1,
   "id": "78d9b248",
   "metadata": {},
   "outputs": [
    {
     "name": "stdout",
     "output_type": "stream",
     "text": [
      "2432902008176640000\n"
     ]
    }
   ],
   "source": [
    "import math\n",
    "print(math.factorial(20))"
   ]
  },
  {
   "cell_type": "markdown",
   "id": "6f04930c",
   "metadata": {},
   "source": [
    "# Choose\n",
    "\n",
    "Computes (nm)\n",
    "as a float. This example computes (252):"
   ]
  },
  {
   "cell_type": "code",
   "execution_count": 13,
   "id": "b405d5d7",
   "metadata": {},
   "outputs": [
    {
     "name": "stdout",
     "output_type": "stream",
     "text": [
      "252.0\n"
     ]
    }
   ],
   "source": [
    "from scipy import special\n",
    "print(special.binom(10, 5))"
   ]
  },
  {
   "cell_type": "markdown",
   "id": "8a2292cc",
   "metadata": {},
   "source": [
    "# Discrete Random Variables\n",
    "## Binomial\n",
    "\n",
    "Make a Binomial Random variable X\n",
    "and compute its probability mass function (PMF) or cumulative density function (CDF). We love the scipy stats library because it defines all the functions you would care about for a random variable, including expectation, variance, and even things  like entropy. This example declares X∼Bin(n=10,p=0.2). It calculates a few statistics on X. It then calculates P(X=3) and P(X≤4). Finally it generates a few random samples from X\n",
    ":"
   ]
  },
  {
   "cell_type": "code",
   "execution_count": 2,
   "id": "00388ee1",
   "metadata": {},
   "outputs": [
    {
     "name": "stdout",
     "output_type": "stream",
     "text": [
      "0.20132659200000022\n",
      "0.9672065024000001\n",
      "2.0\n",
      "1.6\n",
      "1.2649110640673518\n",
      "1\n",
      "[1 2 1 1 2 2 3 2 1 3]\n",
      "(0, 10)\n"
     ]
    }
   ],
   "source": [
    "from scipy import stats\n",
    "X = stats.binom(10, 0.2) # Declare X to be a binomial random variable\n",
    "print(X.pmf(3))           # P(X = 3)\n",
    "print(X.cdf(4))           # P(X <= 4)\n",
    "print(X.mean())           # E[X]\n",
    "print(X.var())            # Var(X)\n",
    "print(X.std())            # Std(X)\n",
    "print(X.rvs())            # Get a random sample from X\n",
    "print(X.rvs(10))          # Get 10 random samples fromm X\n",
    "print(X.support())"
   ]
  },
  {
   "cell_type": "markdown",
   "id": "594d0d88",
   "metadata": {},
   "source": [
    "\\begin{exercise}\n",
    "Plot a histogram of 100 random samples from X\n",
    "\\end{exercise}\n"
   ]
  },
  {
   "cell_type": "code",
   "execution_count": 31,
   "id": "60c786be",
   "metadata": {},
   "outputs": [
    {
     "data": {
      "image/png": "[encoded data removed]",
      "text/plain": [
       "<Figure size 432x288 with 1 Axes>"
      ]
     },
     "metadata": {
      "needs_background": "light"
     },
     "output_type": "display_data"
    }
   ],
   "source": [
    "import scipy as sp\n",
    "import numpy as np\n",
    "import matplotlib.pyplot as plt\n",
    "\n",
    "plt.hist(X.rvs(100),bins='auto')\n",
    "plt.title(\"Histogram with 'auto' bins\")\n",
    "plt.show()\n"
   ]
  },
  {
   "cell_type": "markdown",
   "id": "17faaa56",
   "metadata": {},
   "source": [
    "\\begin{exercise}\n",
    "A coin is flipped 100 times. Given that there were 55 heads, find the maximum\n",
    "likelihood estimate for the probability p of heads on a single toss.\n",
    "\n",
    "\\end{exercise}\n",
    "\n"
   ]
  },
  {
   "cell_type": "code",
   "execution_count": 3,
   "id": "8190b5ff",
   "metadata": {},
   "outputs": [
    {
     "name": "stdout",
     "output_type": "stream",
     "text": [
      "Help on rv_frozen in module scipy.stats._distn_infrastructure object:\n",
      "\n",
      "class rv_frozen(builtins.object)\n",
      " |  rv_frozen(dist, *args, **kwds)\n",
      " |  \n",
      " |  # Frozen RV class\n",
      " |  \n",
      " |  Methods defined here:\n",
      " |  \n",
      " |  __init__(self, dist, *args, **kwds)\n",
      " |      Initialize self.  See help(type(self)) for accurate signature.\n",
      " |  \n",
      " |  cdf(self, x)\n",
      " |  \n",
      " |  entropy(self)\n",
      " |  \n",
      " |  expect(self, func=None, lb=None, ub=None, conditional=False, **kwds)\n",
      " |  \n",
      " |  interval(self, alpha)\n",
      " |  \n",
      " |  isf(self, q)\n",
      " |  \n",
      " |  logcdf(self, x)\n",
      " |  \n",
      " |  logpdf(self, x)\n",
      " |  \n",
      " |  logpmf(self, k)\n",
      " |  \n",
      " |  logsf(self, x)\n",
      " |  \n",
      " |  mean(self)\n",
      " |  \n",
      " |  median(self)\n",
      " |  \n",
      " |  moment(self, n)\n",
      " |  \n",
      " |  pdf(self, x)\n",
      " |  \n",
      " |  pmf(self, k)\n",
      " |  \n",
      " |  ppf(self, q)\n",
      " |  \n",
      " |  rvs(self, size=None, random_state=None)\n",
      " |  \n",
      " |  sf(self, x)\n",
      " |  \n",
      " |  stats(self, moments='mv')\n",
      " |  \n",
      " |  std(self)\n",
      " |  \n",
      " |  support(self)\n",
      " |  \n",
      " |  var(self)\n",
      " |  \n",
      " |  ----------------------------------------------------------------------\n",
      " |  Data descriptors defined here:\n",
      " |  \n",
      " |  __dict__\n",
      " |      dictionary for instance variables (if defined)\n",
      " |  \n",
      " |  __weakref__\n",
      " |      list of weak references to the object (if defined)\n",
      " |  \n",
      " |  random_state\n",
      "\n"
     ]
    }
   ],
   "source": [
    "from scipy import stats\n",
    "X = stats.bernoulli(0.2) # Declare X to be a bernoulli random variable\n",
    "help(X)                  # List all methods defined for X"
   ]
  },
  {
   "cell_type": "markdown",
   "id": "3dec24d1",
   "metadata": {},
   "source": [
    "# Poisson\n",
    "\n",
    "Make a Poisson Random variable Y\n",
    ". This example declares Y∼Poi(λ=2). It then calculates P(Y=3)\n",
    "\n",
    ":"
   ]
  },
  {
   "cell_type": "markdown",
   "id": "d77b1c9c",
   "metadata": {},
   "source": [
    "\\begin{exercise}\n",
    "Estimate the parameters of binomial distribution from a sample. Remember that we know that $\\mu = np$ and $\\sigma^2 = np(1-p)$\n",
    "Remember that The Binomial distribution is the probability distribution that describes the probability of getting k successes in n trials, if the probability of success at each trial is p.\n",
    "\\end{exercise}\n"
   ]
  },
  {
   "cell_type": "code",
   "execution_count": 5,
   "id": "cf1ca2c6",
   "metadata": {},
   "outputs": [
    {
     "name": "stdout",
     "output_type": "stream",
     "text": [
      "0.18044704431548356\n",
      "3\n"
     ]
    }
   ],
   "source": [
    "from scipy import stats\n",
    "Y = stats.poisson(2)  # Declare Y to be a poisson random variable\n",
    "print(Y.pmf(3))       # P(Y = 3)\n",
    "print(Y.rvs())        # Get a random sample from Y"
   ]
  },
  {
   "cell_type": "markdown",
   "id": "be66a701",
   "metadata": {},
   "source": [
    "# Geometric\n",
    "\n",
    "Make a Geometric Random variable X\n",
    ", the number of trials until a success. This example declares X∼Geo(p=0.75)\n",
    "\n",
    ":"
   ]
  },
  {
   "cell_type": "code",
   "execution_count": 7,
   "id": "94969c96",
   "metadata": {},
   "outputs": [
    {
     "name": "stdout",
     "output_type": "stream",
     "text": [
      "0.046875\n",
      "[1 2 1 1 1 1 1 1 2 1]\n"
     ]
    }
   ],
   "source": [
    "from scipy import stats\n",
    "X = stats.geom(0.75)  # Declare X to be a geometric random variable\n",
    "print(X.pmf(3))       # P(X = 3)\n",
    "print(X.rvs(10))        # Get a random sample from Y"
   ]
  },
  {
   "cell_type": "markdown",
   "id": "726d3dd2",
   "metadata": {},
   "source": [
    "# Continuous Random Variables\n",
    "\n",
    "- A continuous random variable $X$ can assume any value in an interval on the real line or in a region in a high dimensional space\n",
    "    - $X$ usually corresponds to a real-valued measurements of some property, e.g., length, position, ...\n",
    "    - It is not possible to talk about the probability of the random variable assuming a particular value $\\ldots P(x)=0$\n",
    "    - Instead, we talk about the probability of the random variable assuming a value within a given interval, or half interval\n",
    "    \n",
    "        - $P\\left(X \\in\\left[x_{1}, x_{2}\\right]\\right)$,\n",
    "        - $P(X<x)=P(X \\in[-\\infty, x])$\n",
    "        "
   ]
  },
  {
   "cell_type": "markdown",
   "id": "b470414d",
   "metadata": {},
   "source": [
    "- The probability of the random variable assuming a value within some given interval from $x_{1}$ to $x_{2}$ is defined to be the **area under the graph** of the **probability density function** between $x_{1}$ and $x_{2}$.\n",
    "\n",
    "    - Let $p(x)$ is the density function (PDF)\n",
    "\n",
    "    - Probability mass: $P\\left(X \\in\\left[x_{1}, x_{2}\\right]\\right)=\\int_{x_{1}}^{x_{2}} p(x) d x$, note that $\\int_{-\\infty}^{+\\infty} p(x) d x=1$.\n",
    "    - Cumulative distribution function (CDF):\n",
    "$$\n",
    "P(\\bf{x})=P(\\bf{X}<\\bf{x})=\\int_{-\\infty}^{x} p\\left(\\bf{x}^{\\prime}\\right) d \\bf{x}^{\\prime}\n",
    "$$\n",
    "    - Probability density function (PDF):\n",
    "$$\n",
    "\\begin{aligned}\n",
    "&p(x)=\\frac{d}{d x} P(x) \\\\\n",
    "&\\int_{-\\infty}^{+\\infty} p(x) d x=1 ; \\quad p(x)>0, \\forall x\n",
    "\\end{aligned}\n",
    "$$\n"
   ]
  },
  {
   "cell_type": "markdown",
   "id": "816d5d71",
   "metadata": {},
   "source": [
    "# What is the intuitive meaning of $p(x)$\n",
    "\n",
    "- If\n",
    "$$\n",
    "p\\left(x_{1}\\right)=a \\text { and } p\\left(x_{2}\\right)=b\n",
    "$$\n",
    "then when a value $X$ is sampled from the distribution with density $p(x)$, you are $a / b$ times as likely to find that $X$ is \"very close to\" $X_{1}$ than that $X$ is \"very close to\" $x_{2}$.\n",
    "- That is.\n",
    "$$\n",
    "\\lim _{h \\rightarrow 0} \\frac{P\\left(x_{1}-h<X<x_{1}+h\\right)}{P\\left(x_{2}-h<X<x_{2}+h\\right)}=\\frac{\\int_{x_{1}-h}^{x_{1}+h} p(x) d x}{\\int_{x_{2}-h}^{x_{2}+h} p(x) d x}=\\frac{p\\left(x_{1}\\right) \\times 2 h}{p\\left(x_{2}\\right) \\times 2 h}=a / b\n",
    "$$"
   ]
  },
  {
   "cell_type": "markdown",
   "id": "9c5a99ef",
   "metadata": {},
   "source": [
    "- Uniform Probability Density Function\n",
    "$$\n",
    "\\begin{aligned}\n",
    "p(x) &=1 /(b-a) & & \\text { for } a \\leq x \\leq b \\\\\n",
    "&=0 & & \\text { elsewhere }\n",
    "\\end{aligned}\n",
    "$$\n",
    "![](https://cdn.mathpix.com/snip/images/OMzR1qe5dtR8w7XU6XLXD3fhDpxVotoFBuxq9Db_H0Y.original.fullsize.png)\n",
    "- Normal (Gaussian) Probability Density Function\n",
    "$$\n",
    "p(x)=\\frac{1}{\\sqrt{2 \\pi} \\sigma} e^{-(x-\\mu)^{2} / 2 \\sigma^{2}}\n",
    "$$\n",
    "![](https://cdn.mathpix.com/snip/images/HDov7px0L7iP3x7GTRVKD4zcDCx23RZV3Ee2KNqUwbQ.original.fullsize.png)\n",
    "\n",
    "    - The distribution is symmetric, and is often illustrated as a bell-shaped curve.\n",
    "    - Two parameters, $\\mu$ (mean) and $\\sigma$ (standard deviation), determine the location and shape of the distribution.\n",
    "    - The highest point on the normal curve is at the mean, which is also the median and mode.\n",
    "    - The mean can be any numerical value: negative, zero, or positive.\n",
    "- Exponential Probability Distribution density: \n",
    "\n",
    "$$p(x)=\\frac{1}{\\mu} e^{-x / \\mu}, \\quad \\operatorname{CDF}: \\quad P\\left(x \\leq x_{0}\\right)=1-e^{-x_{0} / \\mu}$$  \n",
    "    \n",
    " ![](https://cdn.mathpix.com/snip/images/kOzN6UacpE_LLf-hsO0hnDMjVKPhHlHg5cUo_H2V7tg.original.fullsize.png)   "
   ]
  },
  {
   "cell_type": "markdown",
   "id": "82c97321",
   "metadata": {},
   "source": [
    "#  Statistical Characterizations\n",
    "- Expectation: the centre of mass, mean value, first moment):\n",
    "$$\n",
    "\\begin{gathered}\n",
    "E(X)= \\begin{cases}\\sum_{i \\in S} x_{i} p\\left(x_{i}\\right) & \\text { discrete } \\\\\n",
    "\\int_{-\\infty}^{\\infty} x p(x) d x & \\text { continuous }\\end{cases} \\\\\n",
    "\\text{Sample mean  } \\mu=\\frac{1}{N} \\sum_{i=1}^{N} x_{i}\n",
    "\\end{gathered}\n",
    "$$\n",
    "- Variance: the spreadness:\n",
    "\n",
    "    $\\operatorname{Var}(X)=\\left\\{\\begin{array}{l}\\sum_{x \\in S}\\left[x_{i}-E(X)\\right]^{2} p\\left(x_{i}\\right) \\quad \\text { discrete } \\\\ \\int_{-\\infty}^{\\infty}[x-E(X)]^{2} p(X) d x \\quad \\text { continuous }\\end{array}\\right.\\\\ $ - Sample variance $\\quad \\sigma^{2}=\\frac{1}{N-1} \\sum_{i=1}^{N}\\left(x_{i}-\\mu\\right)^{2}$\n"
   ]
  },
  {
   "cell_type": "markdown",
   "id": "308142e4",
   "metadata": {},
   "source": [
    "# Gaussian (Normal) density in \n",
    "\n",
    "- If $X \\sim N\\left(\\mu, \\sigma^{2}\\right)$, the probability density function (pdf) of $X$ is defined as\n",
    "$$\n",
    "p(x)=\\frac{1}{\\sqrt{2 \\pi} \\sigma} e^{-(x-\\mu)^{2} / 2 \\sigma^{2}}\n",
    "$$\n",
    "    - We will often use the precision $\\lambda=1 / \\sigma^{2}$ instead of the variance $\\sigma^{2}$.\n",
    "    - Here is how we plot the pdf in python\n",
    "$$\n",
    "x s=-10: 0.001: 10 \\text {; }\n",
    "$$"
   ]
  },
  {
   "cell_type": "code",
   "execution_count": 21,
   "id": "026f3a38",
   "metadata": {},
   "outputs": [
    {
     "data": {
      "image/png": "[encoded data removed]",
      "text/plain": [
       "<Figure size 432x288 with 1 Axes>"
      ]
     },
     "metadata": {
      "needs_background": "light"
     },
     "output_type": "display_data"
    }
   ],
   "source": [
    "import numpy as np\n",
    "import matplotlib.pyplot as plt\n",
    "from scipy.stats import norm\n",
    "\n",
    "# Plot between -10 and 10 with .001 steps.\n",
    "x_axis = np.arange(-10, 10, 0.001)\n",
    "# Mean = 0, SD = 2.\n",
    "plt.plot(x_axis, norm.pdf(x_axis,0,2))\n",
    "# mean = 0, SD = 0.5\n",
    "plt.plot(x_axis, norm.pdf(x_axis,0,0.5))\n",
    "plt.show()"
   ]
  },
  {
   "cell_type": "markdown",
   "id": "f19efc9b",
   "metadata": {},
   "source": [
    "# Gaussian CDF\n",
    "- If $Z \\sim N(0,1)$, the cumulative density function is defined as\n",
    "$$\n",
    "\\begin{aligned}\n",
    "\\Phi(x) &=\\int_{-\\infty}^{x} p(z) d z \\\\\n",
    "&=\\frac{1}{\\sqrt{2 \\pi}} \\int_{-\\infty}^{x} e^{-z^{2} / 2} d z\n",
    "\\end{aligned}\n",
    "$$\n",
    "- This has no closed form expression, but is built in to most software packages (eg. norm.cdf in scipy.stat library).\n"
   ]
  },
  {
   "cell_type": "code",
   "execution_count": 23,
   "id": "cf381ffd",
   "metadata": {
    "scrolled": true
   },
   "outputs": [
    {
     "data": {
      "image/png": "[encoded data removed]",
      "text/plain": [
       "<Figure size 432x288 with 1 Axes>"
      ]
     },
     "metadata": {
      "needs_background": "light"
     },
     "output_type": "display_data"
    }
   ],
   "source": [
    "import numpy as np\n",
    "import matplotlib.pyplot as plt\n",
    "from scipy.stats import norm\n",
    "\n",
    "# Plot between -10 and 10 with .001 steps.\n",
    "x_axis = np.arange(-10, 10, 0.001)\n",
    "# Mean = 0, SD = 2.\n",
    "plt.plot(x_axis, norm.pdf(x_axis,0,2))\n",
    "# mean = 0, SD = 0.5\n",
    "plt.plot(x_axis, norm.cdf(x_axis,0,2))\n",
    "plt.show()"
   ]
  },
  {
   "cell_type": "markdown",
   "id": "b5a619a1",
   "metadata": {},
   "source": [
    "# Use of the cdf\n",
    "\n",
    "- If $X \\sim N\\left(\\mu, \\sigma^{2}\\right)$, then $Z=(X-\\mu) / \\sigma \\sim N(0,1)$\n",
    "- How much mass is contained inside the $[-1.98 \\sigma, 1.98 \\sigma]$ interval?\n",
    "$$\n",
    "P(a<X<b)=P\\left(\\frac{a-\\mu}{\\sigma}<Z<\\frac{b-\\mu}{\\sigma}\\right)=\\Phi\\left(\\frac{b-\\mu}{\\sigma}\\right)-\\Phi\\left(\\frac{a-\\mu}{\\sigma}\\right)\n",
    "$$\n",
    "\n",
    "- Since\n",
    "$$\n",
    "p(Z \\leq-1.96)=\\operatorname{norm.cdf}(-1.96)=0.025\n",
    "$$\n",
    "we have\n",
    "$$\n",
    "P(-2 \\sigma<X-\\mu<2 \\sigma) \\approx 1-2 \\times 0.025=0.95\n",
    "$$"
   ]
  },
  {
   "cell_type": "markdown",
   "id": "8f3823d4",
   "metadata": {},
   "source": [
    "# Central limit theorem\n",
    "\n",
    "- If $\\left(X_{1}, X_{2}, \\ldots X_{n}\\right)$ are i.i.d.  continuous random variables\n",
    "- Then define\n",
    "$$\n",
    "\\bar{X}=f\\left(X_{1}, X_{2}, \\ldots, X_{n}\\right)=\\frac{1}{n} \\sum_{i=1}^{n} X_{i}\n",
    "$$\n",
    "- As $n \\rightarrow$ infinity, $p(\\bar{X}) \\rightarrow$ Gaussian with mean $E\\left[X_{i}\\right]$ and variance $\\operatorname{Var}\\left[X_{j}\\right]$\n",
    "\n",
    "\\begin{remark}\n",
    "Somewhat of a justification for assuming Gaussian noise is\n",
    "common\n",
    "\\end{remark}\n",
    "\n"
   ]
  },
  {
   "cell_type": "code",
   "execution_count": 36,
   "id": "66da063c",
   "metadata": {
    "ExecuteTime": {
     "end_time": "2019-07-13T05:53:30.658718Z",
     "start_time": "2019-07-13T05:53:30.655157Z"
    }
   },
   "outputs": [],
   "source": [
    "n = 10000 # 10000 datum points\n",
    "X = np.random.uniform(-10,10, n) \n",
    "Y = stats.norm(0,3) # Gaussian random variable\n",
    "noise = Y.rvs(n) # Gaussian sample - points drawn from Gaussian distribution\n",
    "#noise = np.random.normal(0, 3, n) # Gaussian distribution\n",
    "true_w, true_b = 7.6, -3.3"
   ]
  },
  {
   "cell_type": "code",
   "execution_count": 37,
   "id": "8dad2779",
   "metadata": {
    "ExecuteTime": {
     "end_time": "2019-07-13T05:53:59.353611Z",
     "start_time": "2019-07-13T05:53:59.350757Z"
    }
   },
   "outputs": [],
   "source": [
    "y = true_w * X + true_b + noise # y = w * x + b + ε"
   ]
  },
  {
   "cell_type": "code",
   "execution_count": 38,
   "id": "a5733c71",
   "metadata": {
    "ExecuteTime": {
     "end_time": "2019-07-13T05:54:06.347453Z",
     "start_time": "2019-07-13T05:54:06.134055Z"
    }
   },
   "outputs": [
    {
     "data": {
      "image/png": "[encoded data removed]",
      "text/plain": [
       "<Figure size 432x288 with 1 Axes>"
      ]
     },
     "metadata": {
      "needs_background": "light"
     },
     "output_type": "display_data"
    }
   ],
   "source": [
    "# Optional\n",
    "import matplotlib.pyplot as plt\n",
    "plt.scatter(X,y, s=1)\n",
    "plt.plot(X,true_w * X + true_b, 'red')\n",
    "plt.show()"
   ]
  },
  {
   "cell_type": "markdown",
   "id": "6fbd2c46",
   "metadata": {},
   "source": [
    "## Normal\n",
    "\n",
    "Make a Normal Random variable A. This example declares A∼N(μ=3,σ2=16). It then calculates fY(0) and FY(0). Very Important!!! In class, the second parameter to a normal was the variance ($σ^2$). In the scipy library, the second parameter is the standard deviation (σ):"
   ]
  },
  {
   "cell_type": "code",
   "execution_count": 1,
   "id": "40ba20f4",
   "metadata": {},
   "outputs": [
    {
     "name": "stdout",
     "output_type": "stream",
     "text": [
      "0.09666702920071232\n",
      "0.4012936743170763\n",
      "5.45514165066532\n",
      "[ 3.27371342  7.46895594  1.26491454 -2.1528732   1.85317669  7.7512659\n",
      "  0.10038731  9.51286817 -3.17223152 -4.075977  ]\n"
     ]
    }
   ],
   "source": [
    "import math\n",
    "from scipy import stats\n",
    "A = stats.norm(3, math.sqrt(16)) # Declare A to be a normal random variable\n",
    "print(A.pdf(4))       \t\t\t # f(3), the probability density at 3\n",
    "print(A.cdf(2))       \t\t\t # F(2), which is also P(Y < 2)\n",
    "print(A.rvs())        \t\t\t # Get a random sample from A\n",
    "print(A.rvs(10))"
   ]
  },
  {
   "cell_type": "code",
   "execution_count": 3,
   "id": "a1af4af8",
   "metadata": {},
   "outputs": [
    {
     "data": {
      "image/png": "[encoded data removed]",
      "text/plain": [
       "<Figure size 432x288 with 1 Axes>"
      ]
     },
     "metadata": {
      "needs_background": "light"
     },
     "output_type": "display_data"
    }
   ],
   "source": [
    "import scipy as sp\n",
    "import numpy as np\n",
    "import matplotlib.pyplot as plt\n",
    "\n",
    "plt.hist(A.rvs(1000),bins='auto')\n",
    "plt.title(\"Histogram with 'auto' bins\")\n",
    "plt.show()\n"
   ]
  },
  {
   "cell_type": "markdown",
   "id": "7c241851",
   "metadata": {},
   "source": [
    "# Exponential\n",
    "\n",
    "Make an Exponential Random variable B\n",
    ". This example declares B∼Exp(λ=4):"
   ]
  },
  {
   "cell_type": "code",
   "execution_count": 11,
   "id": "a91c0ab4",
   "metadata": {},
   "outputs": [
    {
     "name": "stdout",
     "output_type": "stream",
     "text": [
      "0.0\n",
      "0.0\n",
      "5.587679583231168\n"
     ]
    }
   ],
   "source": [
    "from scipy import stats\n",
    "B = stats.expon(4)    # Declare B to be a exponential random variable\n",
    "print(B.pdf(1))       # f(1), the probability density at 1\n",
    "print(B.cdf(2))       # F(2) which is also P(B < 2)\n",
    "print(B.rvs())        # Get a random sample from B"
   ]
  },
  {
   "cell_type": "markdown",
   "id": "7f8b75e0",
   "metadata": {},
   "source": [
    "# Beta\n",
    "\n",
    "Make an Beta Random variable X\n",
    ". This example declares X∼Beta(α=1,β=3):"
   ]
  },
  {
   "cell_type": "code",
   "execution_count": 12,
   "id": "9cace9b6",
   "metadata": {},
   "outputs": [
    {
     "name": "stdout",
     "output_type": "stream",
     "text": [
      "0.7500000000000001\n",
      "0.973\n",
      "0.006411448067153457\n"
     ]
    }
   ],
   "source": [
    "from scipy import stats\n",
    "X = stats.beta(1, 3)  # Declare X to be a beta random variable\n",
    "print(X.pdf(0.5))     # f(0.5), the probability density at 1\n",
    "print(X.cdf(0.7))     # F(0.7) which is also P(X < 0.7)\n",
    "print(X.rvs())        # Get a random sample from X"
   ]
  },
  {
   "cell_type": "markdown",
   "id": "e136440e",
   "metadata": {},
   "source": [
    "# Where do probability distributions come from?\n",
    "\n",
    "- Idea One: Human, Domain Experts\n",
    "- Idea Two: Simpler probability facts and some algebra\n",
    "- Idea Three: Learn them from data!\n",
    "    - This course is essentially about various ways of learning various forms of them!"
   ]
  },
  {
   "cell_type": "markdown",
   "id": "e7f1c19f",
   "metadata": {},
   "source": [
    "# Probability Density Estimation\n",
    "\n",
    "- A Density Estimator learns a mapping from a set of attributes to a Probability\n",
    "\n",
    "![](https://cdn.mathpix.com/snip/images/XfEBfiCiFrMrRr_mCOkHnGVhZdcUJQBz_Uw5dMiW5Ws.original.fullsize.png)\n",
    "\n",
    "- Often know as parameter estimation if the distribution form is specified\n",
    "    - Binomial, Gaussian ...\n",
    "    - Three important issues:\n",
    "    - Nature of the data (iid, correlated, ..)\n",
    "    - Objective function (MLE, MAP,$\\ldots$ )\n",
    "    - Algorithm (simple algebra, gradient methods, EM, ...)\n",
    "    - Evolution scheme (likelihood on test data, predictability, consistency, ...)"
   ]
  },
  {
   "cell_type": "markdown",
   "id": "f849c753",
   "metadata": {},
   "source": [
    "# Why knowledge of Independence is useful\n",
    "\n",
    "\\begin{definition}\n",
    "Statistical inference is the process of using data analysis to infer properties of an underlying distribution of probability. Inferential statistical analysis infers properties of a population, for example by testing hypotheses and deriving estimates. It is assumed that the observed data set is sampled from a larger population.\n",
    "\n",
    "\\end{definition}\n",
    "\n",
    "\n",
    "- Motivates efficient inference for all kinds of queries \n",
    "    - Structured knowledge about the domain\n",
    "    - easy to learning (both from expert and from data)\n",
    "    - easy to grow\n"
   ]
  },
  {
   "cell_type": "markdown",
   "id": "6f454665",
   "metadata": {},
   "source": [
    "# Parameter Learning from iid data\n",
    "\n",
    "- Goal: estimate distribution parameters $\\theta$ from a dataset of $N$ independent, identically distributed (iid), fully observed, training cases\n",
    "$$\n",
    "D=\\left\\{x_{1}, \\ldots, x_{N}\\right\\}\n",
    "$$\n",
    "- Maximum likelihood estimation (MLE)\n",
    "    1. One of the most common estimators\n",
    "    2. With iid and full-observability assumption, write $L(\\theta)$ as the likelihood of the data:\n",
    "    $$\n",
    "    \\begin{aligned}\n",
    "    L(\\theta) &=P\\left(x_{1}, x_{2}, \\ldots, x_{N} ; \\theta\\right) \\\\\n",
    "    &=P(x ; \\theta) P\\left(x_{2} ; \\theta\\right), \\ldots, P\\left(x_{N} ; \\theta\\right) \\\\\n",
    "    &=\\prod_{i=1}^{N} P\\left(x_{i} ; \\theta\\right)\n",
    "    \\end{aligned}\n",
    "    $$\n",
    "    3. pick the setting of parameters most likely to have generated the data we saw:\n",
    "    $$\n",
    "    \\theta^{*}=\\arg \\max _{\\theta} L(\\theta)=\\arg \\max _{\\theta} \\log L(\\theta)\n",
    "    $$\n"
   ]
  },
  {
   "cell_type": "markdown",
   "id": "aa5e6900",
   "metadata": {
    "id": "84gJo7RZta6N"
   },
   "source": [
    "# MLE: Uniform distribution\n",
    "\n",
    "_Written by Lisa Yan_"
   ]
  },
  {
   "cell_type": "code",
   "execution_count": 1,
   "id": "d3e4d429",
   "metadata": {
    "id": "c93JZRXM9fVn"
   },
   "outputs": [],
   "source": [
    "# allows simple graphs\n",
    "#%matplotlib inline\n",
    "# allows interactive mode for 3D graphics\n",
    "%matplotlib inline\n",
    "%load_ext autoreload\n",
    "%autoreload 2\n",
    "\n",
    "import numpy as np\n",
    "import random\n",
    "import math\n",
    "\n",
    "import matplotlib.mlab as mlab\n",
    "import matplotlib.pyplot as plt\n",
    "from matplotlib import animation, rc\n",
    "from IPython.display import HTML\n",
    "from mpl_toolkits.mplot3d import Axes3D  \n",
    "from matplotlib import cm\n",
    "import matplotlib.pyplot as plt\n",
    "\n",
    "from scipy.stats import poisson"
   ]
  },
  {
   "cell_type": "markdown",
   "id": "af495a40",
   "metadata": {
    "id": "-k0XrXTz9fVr"
   },
   "source": [
    "# Uniform MLE demo\n",
    "\n",
    "Let $X$ be a Uniform random variable. Suppose we observe the following sample, created from sampling $X$ $n = 7$ times."
   ]
  },
  {
   "cell_type": "code",
   "execution_count": 2,
   "id": "861ed004",
   "metadata": {
    "id": "GTzQL_mm9fVs"
   },
   "outputs": [],
   "source": [
    "sample = [0.15, 0.20, 0.30, 0.40, 0.65, 0.70, 0.75]"
   ]
  },
  {
   "cell_type": "markdown",
   "id": "f5a3065b",
   "metadata": {
    "id": "pX0Pmldv9fVu"
   },
   "source": [
    "What is the MLE of the Uniform random variable $X$, $\\theta_{MLE} = (\\alpha_{MLE}, \\beta_{MLE})$?\n",
    "\n",
    "For a uniform random variable $X\\sim\\text{Uni}(\\alpha, \\beta)$:\n",
    "\n",
    "$$ f(x | \\alpha, \\beta) = \\begin{cases}\n",
    "\\frac{1}{\\beta - \\alpha} & \\alpha \\leq x \\leq \\beta \\\\\n",
    "0 & \\text{otherwise} \\\\\n",
    "\\end{cases}$$\n",
    "\n",
    "Therefore the likelihood $L(\\theta)$ of observing a sample $(X_1, X_2, \\dots, X_n)$ is:\n",
    "\n",
    "$$ L(\\theta) = \\begin{cases}\n",
    "\\bigl( \\frac{1}{\\beta - \\alpha} \\bigr)^n & \\alpha \\leq X_1, X_2, \\dots, X_n \\leq \\beta \\\\\n",
    "0 & \\text{otherwise} \\\\\n",
    "\\end{cases} $$\n",
    "\n",
    "A few observations:\n",
    "* We need to make sure all observed data is in the interval. If not, then $L(\\theta) = 0$.\n",
    "* We want interval size $(\\beta - \\alpha)$ to be as small as possible to maximize likelihood function per datapoint.\n",
    "\n",
    "Therefore, the MLE for the Uniform RV is: $ \\alpha = \\min (\\texttt{sample}), \\beta = \\max(\\texttt{sample}) $\n",
    "\n",
    "Below we graph the likelihood function $L(\\theta)$ for different values of $\\alpha$ and $\\beta$. Notice the dropoff when we make $\\alpha$ too large or $\\beta$ too small\n"
   ]
  },
  {
   "cell_type": "code",
   "execution_count": 3,
   "id": "e357aec0",
   "metadata": {
    "id": "5p2Dmr4G9fVv"
   },
   "outputs": [],
   "source": [
    "# sample size\n",
    "n = len(sample)\n",
    "min_sample = min(sample)\n",
    "max_sample = max(sample)\n",
    "\n",
    "# plot likelihood\n",
    "alphas, betas = np.mgrid[0:1.01:0.01,0:1.01:0.01]\n",
    "xs = np.mgrid[0:1.01:0.01].tolist()\n",
    "likelihood = np.zeros((len(xs), len(xs)))\n",
    "for i, alpha in enumerate(xs):\n",
    "    for j, beta in enumerate(xs):\n",
    "        if alpha <= min_sample and beta >= max_sample:\n",
    "            # alpha <= all of sample <= beta\n",
    "            likelihood[i, j] = (1/(beta - alpha)) ** n"
   ]
  },
  {
   "cell_type": "code",
   "execution_count": 5,
   "id": "814f9c89",
   "metadata": {
    "colab": {
     "base_uri": "https://localhost:8080/",
     "height": 34
    },
    "executionInfo": {
     "elapsed": 327,
     "status": "ok",
     "timestamp": 1589992945415,
     "user": {
      "displayName": "Lisa Yan",
      "photoUrl": "",
      "userId": "06015722385400977805"
     },
     "user_tz": 420
    },
    "id": "Bl7g-4gp9fVx",
    "outputId": "83d42c86-222b-4495-f82d-20f1e2ccfbac"
   },
   "outputs": [
    {
     "name": "stdout",
     "output_type": "stream",
     "text": [
      "[0.15, 0.2, 0.3, 0.4, 0.65, 0.7, 0.75]\n"
     ]
    }
   ],
   "source": [
    "print(sample)"
   ]
  },
  {
   "cell_type": "code",
   "execution_count": 6,
   "id": "f80b3f7d",
   "metadata": {
    "colab": {
     "base_uri": "https://localhost:8080/",
     "height": 296
    },
    "executionInfo": {
     "elapsed": 2306,
     "status": "ok",
     "timestamp": 1603917787760,
     "user": {
      "displayName": "Lisa Yan",
      "photoUrl": "",
      "userId": "06015722385400977805"
     },
     "user_tz": 420
    },
    "id": "3aHWSPUq9fV1",
    "outputId": "0e53251f-f86b-4428-b66e-008cfd9b9fcf"
   },
   "outputs": [
    {
     "name": "stderr",
     "output_type": "stream",
     "text": [
      "C:\\Users\\enh\\AppData\\Local\\Temp\\ipykernel_13192\\2144647570.py:9: UserWarning: FixedFormatter should only be used together with FixedLocator\n",
      "  ax.set_xticklabels([0.0, 0.0, 0.2, 0.4, 0.6, 0.8, 1.0], fontsize=16)\n",
      "C:\\Users\\enh\\AppData\\Local\\Temp\\ipykernel_13192\\2144647570.py:10: UserWarning: FixedFormatter should only be used together with FixedLocator\n",
      "  ax.set_yticklabels([0.0, 0.0, 0.2, 0.4, 0.6, 0.8, 1.0], fontsize=16)\n",
      "C:\\Users\\enh\\AppData\\Local\\Temp\\ipykernel_13192\\2144647570.py:11: UserWarning: FixedFormatter should only be used together with FixedLocator\n",
      "  ax.set_zticklabels(list(map(int, ax.get_zticks())), fontsize=16)\n",
      "C:\\Users\\enh\\AppData\\Local\\Temp\\ipykernel_13192\\2144647570.py:17: UserWarning: Tight layout not applied. The left and right margins cannot be made large enough to accommodate all axes decorations. \n",
      "  fig.tight_layout()\n"
     ]
    },
    {
     "data": {
      "image/png": "[encoded data removed]",
      "text/plain": [
       "<Figure size 432x288 with 1 Axes>"
      ]
     },
     "metadata": {
      "needs_background": "light"
     },
     "output_type": "display_data"
    }
   ],
   "source": [
    "# plot 3-d figure\n",
    "fig = plt.figure()\n",
    "ax = fig.add_subplot(111, projection='3d')\n",
    "\n",
    "ax.plot_surface(alphas, betas, likelihood, alpha=0.5, rstride=1, cstride=1, cmap='jet', edgecolor='none')\n",
    "ax.set_xlabel('α',fontsize=16)\n",
    "ax.set_ylabel('β',fontsize=16)\n",
    "ax.set_zlabel('L(θ)',fontsize=16)\n",
    "ax.set_xticklabels([0.0, 0.0, 0.2, 0.4, 0.6, 0.8, 1.0], fontsize=16)\n",
    "ax.set_yticklabels([0.0, 0.0, 0.2, 0.4, 0.6, 0.8, 1.0], fontsize=16)\n",
    "ax.set_zticklabels(list(map(int, ax.get_zticks())), fontsize=16)\n",
    "#ax.view_init(30, 280) # view both alpha and beta\n",
    "# L(alpha, beta)\n",
    "ax.view_init(0, 0) # view just beta dimension\n",
    "#ax.view_init(0, 270) # view just alpha dimension\n",
    "ax.set_title(\"likelihood function\")\n",
    "fig.tight_layout()\n",
    "plt.show()"
   ]
  },
  {
   "cell_type": "code",
   "execution_count": 7,
   "id": "f58bf84f",
   "metadata": {
    "colab": {
     "base_uri": "https://localhost:8080/",
     "height": 50
    },
    "executionInfo": {
     "elapsed": 1921,
     "status": "ok",
     "timestamp": 1589998978849,
     "user": {
      "displayName": "Lisa Yan",
      "photoUrl": "",
      "userId": "06015722385400977805"
     },
     "user_tz": 420
    },
    "id": "kHHD1KIH-un0",
    "outputId": "54b3e3a1-95c7-494a-eb7d-629619a597ab"
   },
   "outputs": [
    {
     "name": "stdout",
     "output_type": "stream",
     "text": [
      "0.00019883558300293203\n",
      "0.9993032726341023\n"
     ]
    }
   ],
   "source": [
    "from scipy.stats import uniform\n",
    "sample = uniform.rvs(0, 1, size=1000)\n",
    "print(min(sample))\n",
    "print(max(sample))"
   ]
  },
  {
   "cell_type": "markdown",
   "id": "4eea84ea",
   "metadata": {},
   "source": [
    "\\begin{exercise}\n",
    "Estimate the parameters of binomial distribution from a sample. Remember that we know that $\\mu = np$ and $\\sigma^2 = np(1-p)$\n",
    "Remember that The Binomial distribution is the probability distribution that describes the probability of getting k successes in n trials, if the probability of success at each trial is p.\n",
    "\n",
    "\\end{exercise}\n"
   ]
  },
  {
   "cell_type": "markdown",
   "id": "efd06558",
   "metadata": {},
   "source": [
    "# Bernoulli model\n",
    "\n",
    "- Data:\n",
    "    - We observed Niid coin tossing: $D=\\{1,0,1, \\ldots, 0\\}$\n",
    "    - Representation:\n",
    "    Binary r.v:\n",
    "    $$\n",
    "    x_{n}=\\{0,1\\}\n",
    "    $$\n",
    "- Model:\n",
    "    $$\n",
    "    P(x)=\\left\\{\\begin{array}{ll}\n",
    "    1-p & \\text { for } x=0 \\\\\n",
    "    p & \\text { for } x=1\n",
    "    \\end{array} \\quad \\Rightarrow \\quad P(x)=\\theta^{x}(1-\\theta)^{1-x}\\right.\n",
    "    $$\n",
    "- How to write the likelihood of a single observation $x_{i}$ ?\n",
    "    $$\n",
    "    P\\left(x_{i}\\right)=\\theta^{x_{i}}(1-\\theta)^{1-x_{i}}\n",
    "    $$\n",
    "- The likelihood of dataset $D=\\left\\{x_{1}, \\ldots, x_{N}\\right\\}$ :\n",
    "    $$\n",
    "    P\\left(x_{1}, x_{2}, \\ldots, x_{N} \\mid \\theta\\right)=\\prod_{i=1}^{N} P\\left(x_{i} \\mid \\theta\\right)=\\prod_{i=1}^{N}\\left(\\theta^{x_{i}}(1-\\theta)^{1-x_{i}}\\right)=\\theta^{\\sum_{i=1}^{N} x_{i}}(1-\\theta)^{\\sum_{i=1}^{N} 1-x_{i}}=\\theta^{\\sharp \\text { head }}(1-\\theta)^{\\# \\text { tails }}\n",
    "  $$"
   ]
  },
  {
   "cell_type": "markdown",
   "id": "90e4b433",
   "metadata": {},
   "source": [
    "\\begin{exercise}\n",
    "The MLE objective function for Bernoulli model is: \n",
    "$$\n",
    "\\ell(\\theta ; D)=\\log P(D \\mid \\theta)=\\log \\theta^{n_{h}}(1-\\theta)^{n_{t}}=n_{h} \\log \\theta+\\left(N-n_{h}\\right) \\log (1-\\theta)\n",
    "$$\n",
    "Find $\\theta$ that maximizes the objective function.\n",
    "\\end{exercise}\n"
   ]
  },
  {
   "cell_type": "markdown",
   "id": "bd8cd535",
   "metadata": {},
   "source": [
    "\\begin{exercise}\n",
    "# univariate normal\n",
    "- Data:\n",
    "- We observed Niid real samples:\n",
    "$$\n",
    "D=\\{-0.1,10,1,-5.2, \\ldots, 3\\}\n",
    "$$\n",
    "- Model: $P(x)=\\left(2 \\pi \\sigma^{2}\\right)^{-1 / 2} \\exp \\left\\{-(x-\\mu)^{2} / 2 \\sigma^{2}\\right\\}$\n",
    "- Log likelihood:\n",
    "$$\n",
    "\\ell(\\theta ; D)=\\log P(D \\mid \\theta)=-\\frac{N}{2} \\log \\left(2 \\pi \\sigma^{2}\\right)-\\frac{1}{2} \\sum_{n=1}^{N} \\frac{\\left(x_{n}-\\mu\\right)^{2}}{\\sigma^{2}}\n",
    "$$\n",
    "\n",
    "Find MLE estimates for the parameters of the distribution.\n",
    "\n",
    "\\end{exercise}\n"
   ]
  }
 ],
 "metadata": {
  "kernelspec": {
   "display_name": "Python 3 (ipykernel)",
   "language": "python",
   "name": "python3"
  },
  "language_info": {
   "codemirror_mode": {
    "name": "ipython",
    "version": 3
   },
   "file_extension": ".py",
   "mimetype": "text/x-python",
   "name": "python",
   "nbconvert_exporter": "python",
   "pygments_lexer": "ipython3",
   "version": "3.8.8"
  },
  "latex_envs": {
   "LaTeX_envs_menu_present": true,
   "autoclose": false,
   "autocomplete": true,
   "bibliofile": "biblio.bib",
   "cite_by": "apalike",
   "current_citInitial": 1,
   "eqLabelWithNumbers": true,
   "eqNumInitial": 1,
   "hotkeys": {
    "equation": "Ctrl-E",
    "itemize": "Ctrl-I"
   },
   "labels_anchors": false,
   "latex_user_defs": false,
   "report_style_numbering": false,
   "user_envs_cfg": false
  },
  "nbTranslate": {
   "displayLangs": [
    "*"
   ],
   "hotkey": "alt-t",
   "langInMainMenu": true,
   "sourceLang": "en",
   "targetLang": "fr",
   "useGoogleTranslate": true
  },
  "toc": {
   "base_numbering": 1,
   "nav_menu": {},
   "number_sections": true,
   "sideBar": true,
   "skip_h1_title": false,
   "title_cell": "Table of Contents",
   "title_sidebar": "Contents",
   "toc_cell": false,
   "toc_position": {
    "height": "calc(100% - 180px)",
    "left": "10px",
    "top": "150px",
    "width": "303.837px"
   },
   "toc_section_display": true,
   "toc_window_display": true
  }
 },
 "nbformat": 4,
 "nbformat_minor": 5
}
