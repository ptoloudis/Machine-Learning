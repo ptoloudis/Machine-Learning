{
 "cells": [
  {
   "attachments": {},
   "cell_type": "markdown",
   "metadata": {},
   "source": [
    "Plot a histogram of the data of the 100 random variables"
   ]
  },
  {
   "cell_type": "code",
   "execution_count": 3,
   "metadata": {},
   "outputs": [],
   "source": [
    "import  matplotlib.pyplot  as  plt\n",
    "import  scipy.stats  as  stats\n",
    "import  numpy  as  np"
   ]
  },
  {
   "cell_type": "code",
   "execution_count": 27,
   "metadata": {},
   "outputs": [
    {
     "data": {
      "image/png": "[encoded data removed]",
      "text/plain": [
       "<Figure size 640x480 with 1 Axes>"
      ]
     },
     "metadata": {},
     "output_type": "display_data"
    }
   ],
   "source": [
    "x = stats.binom(100, 0.5)\n",
    "plt.hist(x.rvs(1000), bins=10)\n",
    "plt.show()"
   ]
  },
  {
   "cell_type": "markdown",
   "metadata": {},
   "source": [
    "A coin is flipped 100 times. Given that there were 55 heads, find the maximum likelihood estimate for the probability p of heads on a single toss"
   ]
  },
  {
   "cell_type": "code",
   "execution_count": 30,
   "metadata": {},
   "outputs": [
    {
     "name": "stdout",
     "output_type": "stream",
     "text": [
      "Maximum likelihood estimate for p: 0.550\n"
     ]
    }
   ],
   "source": [
    "from math import comb\n",
    "\n",
    "n = 100 # number of coin flips\n",
    "k = 55 # number of heads\n",
    "likelihood = lambda p: comb(n, k) * p**k * (1-p)**(n-k)\n",
    "likelihoods = [likelihood(p) for p in [i/100 for i in range(101)]]\n",
    "max_likelihood = max(likelihoods)\n",
    "p_max_likelihood = likelihoods.index(max_likelihood)/ 100\n",
    "\n",
    "print(f\"Maximum likelihood estimate for p: {p_max_likelihood:.3f}\")\n"
   ]
  },
  {
   "attachments": {},
   "cell_type": "markdown",
   "metadata": {},
   "source": [
    "Estimate the parameters of binomial distribution from a sample. Remember that we know that $\\mu = np$ and $\\sigma^2 = np(1-p)$\n",
    "Remember that The Binomial distribution is the probability distribution that describes the probability of getting k successes in n trials, if the probability of success at each trial is p."
   ]
  },
  {
   "cell_type": "code",
   "execution_count": 32,
   "metadata": {},
   "outputs": [
    {
     "name": "stdout",
     "output_type": "stream",
     "text": [
      "Estimated n: 100\n",
      "Estimated sigma: 4.975\n"
     ]
    }
   ],
   "source": [
    "p = p_max_likelihood\n",
    "\n",
    "# Estimate n\n",
    "mu = n * p # known population mean\n",
    "n_estimate = mu / p\n",
    "print(f\"Estimated n: {n_estimate:.0f}\")\n",
    "\n",
    "# Estimate sigma\n",
    "sigma_estimate = math.sqrt(n_estimate * p * (1 - p))\n",
    "print(f\"Estimated sigma: {sigma_estimate:.3f}\")\n"
   ]
  },
  {
   "attachments": {},
   "cell_type": "markdown",
   "metadata": {},
   "source": [
    "The MLE objective function for Bernoulli model is: \n",
    "$$\n",
    "\\ell(\\theta ; D)=\\log P(D \\mid \\theta)=\\log \\theta^{n_{h}}(1-\\theta)^{n_{t}}=n_{h} \\log \\theta+\\left(N-n_{h}\\right) \\log (1-\\theta)\n",
    "$$\n",
    "Find $\\theta$ that maximizes the objective function."
   ]
  },
  {
   "attachments": {},
   "cell_type": "markdown",
   "metadata": {},
   "source": [
    "The maximum likelihood estimate of $$\\theta$$ is given by: $$\\theta={n_{h}}\\div({n_{h}+n_{t}}) $$"
   ]
  },
  {
   "attachments": {},
   "cell_type": "markdown",
   "metadata": {},
   "source": [
    "\n",
    "Data:\n",
    "We observed Niid real samples:\n",
    "𝐷=−0.1,10,1,−5.2,…,3\n",
    "    \n",
    "Model:  $$\\ell(\\theta ; D)=\\log P(D \\mid \\theta)=\\log \\theta^{n_{h}}(1-\\theta)^{n_{t}}=n_{h} \\log \\theta+\\left(N-n_{h}\\right) \\log (1-\\theta)$$\n",
    "    \n",
    "Log likelihood:\n",
    "ℓ(𝜃;𝐷)=log𝑃(𝐷∣𝜃)=−𝑁2log(2𝜋𝜎2)−12∑𝑛=1𝑁(𝑥𝑛−𝜇)2𝜎2\n",
    "    \n",
    "Find MLE estimates for the parameters of the distribution."
   ]
  },
  {
   "attachments": {},
   "cell_type": "markdown",
   "metadata": {},
   "source": [
    "The maximum likelihood estimate of the mean $\\mu$ is the sample mean, which is calculated as the sum of the observed data points divided by the total number of data points: $\\hat{\\mu} = \\frac{1}{N} \\sum_{n=1}^N x_n$.\n",
    "\n",
    "The maximum likelihood estimate of the variance $\\sigma^2$ is the sample variance, which is calculated as the sum of the squared differences between each data point and the sample mean, divided by the total number of data points: $\\hat{\\sigma^2} = \\frac{1}{N} \\sum_{n=1}^N (x_n - \\hat{\\mu})^2$.\n",
    "\n",
    "Finally, the maximum likelihood estimate of the standard deviation $\\sigma$ is the square root of the sample variance: $\\hat{\\sigma} = \\sqrt{\\frac{1}{N} \\sum_{n=1}^N (x_n - \\hat{\\mu})^2}$.\n",
    "\n",
    "\n",
    "\n"
   ]
  }
 ],
 "metadata": {
  "kernelspec": {
   "display_name": "base",
   "language": "python",
   "name": "python3"
  },
  "language_info": {
   "codemirror_mode": {
    "name": "ipython",
    "version": 3
   },
   "file_extension": ".py",
   "mimetype": "text/x-python",
   "name": "python",
   "nbconvert_exporter": "python",
   "pygments_lexer": "ipython3",
   "version": "3.9.13"
  },
  "orig_nbformat": 4
 },
 "nbformat": 4,
 "nbformat_minor": 2
}
