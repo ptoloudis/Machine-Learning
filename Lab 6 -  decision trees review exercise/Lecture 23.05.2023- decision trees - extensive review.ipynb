{
 "cells": [
  {
   "cell_type": "markdown",
   "metadata": {},
   "source": [
    "# Decision Tree Classification and Regression"
   ]
  },
  {
   "cell_type": "markdown",
   "metadata": {},
   "source": [
    "# Decision Trees\n",
    "\n",
    "Decision Trees are a [non-parametric](https://en.wikipedia.org/wiki/Nonparametric_statistics) [supervised machine learning](https://en.wikipedia.org/wiki/Supervised_learning) algorithm that takes a set of training data and constructs a set of regions in the space of features that is then used to make predictions. These predictions can be continuous values (Decision Tree Regression), or classification (Decision Tree Classification).\n",
    "\n",
    "<img class=\"wp-image-2353 size-full\" src=\"https://bryantravissmithdotcom.files.wordpress.com/2016/11/decision-tree-algorithm-page-1.png\" alt=\"Decision Tree Process\" width=\"1000\" height=\"580\" /> High Level Decision Tree Process[/caption]"
   ]
  },
  {
   "cell_type": "markdown",
   "metadata": {},
   "source": [
    "![](tree_example.png)"
   ]
  },
  {
   "cell_type": "markdown",
   "metadata": {},
   "source": [
    "### Algorithm\n",
    "\n",
    "1. Start at the root node as parent node\n",
    "2. Split the parent node at the feature ***a*** to minimize the sum of the child node impurities (maximize information gain)\n",
    "3. Assign training samples to new child nodes\n",
    "3. Stop if leave nodes are pure or early stopping criteria is satisfied, else repeat steps 1 and 2 for each new child node"
   ]
  },
  {
   "cell_type": "markdown",
   "metadata": {},
   "source": [
    "####  Decision tree: classification and regression\n",
    "\n",
    "* Each path from root to a leaf defines a region $R_{m}$ of input space\n",
    "\n",
    "* Let $\\left\\{\\left(x^{\\left(m_{1}\\right)}, t^{\\left(m_{1}\\right)}\\right), \\ldots,\\left(x^{\\left(m_{k}\\right)}, t^{\\left(m_{k}\\right)}\\right)\\right\\}$ be the training examples that fall into\n",
    "$R_{m}$\n",
    "\n",
    "*  __Classification tree__:\n",
    "\n",
    "    - discrete output \n",
    "\n",
    "    - leaf value $y^{m}$ typically set to the most common value in $\\left\\{t^{\\left(m_{1}\\right)}, \\ldots, t^{\\left(m_{k}\\right)}\\right\\}$\n",
    "\n",
    "*  __Regression tree__:\n",
    "\n",
    "    - continuous output\n",
    "\n",
    "    - leaf value $y^{m}$ typically set to the mean value in $\\left\\{t^{\\left(m_{1}\\right)}, \\ldots, t^{\\left(m_{k}\\right)}\\right\\}$"
   ]
  },
  {
   "cell_type": "markdown",
   "metadata": {},
   "source": [
    "### Stopping Rules\n",
    "\n",
    "- a maximal node depth is reached\n",
    "- splitting a note does not lead to an information gain"
   ]
  },
  {
   "cell_type": "markdown",
   "metadata": {},
   "source": [
    "### Criterion\n",
    "\n",
    "Splitting criterion: Information Gain (IG), sum of node impurities\n",
    "\n",
    "Objective function: Maximize IG at each split, eqiv. minimize the the impurity criterion\n"
   ]
  },
  {
   "cell_type": "markdown",
   "metadata": {},
   "source": [
    "## Decision Trees- Tree Growing Algorithms\n",
    "There are a good number of algorithms to build decision trees\n",
    "\n",
    "* CART - Classification And Regression Trees\n",
    "\n",
    "* ID3 - Iterative Dichotomiser 3\n",
    "* $C4.5$ - improved $ID3$\n",
    "* $C5.0$ - improved $C4.5$\n",
    "* $CHAID$ - Chi - squared Automatic Interaction Detector\n",
    "\n",
    "Read https://scikit-learn.org/stable/modules/tree.html#tree"
   ]
  },
  {
   "cell_type": "markdown",
   "metadata": {},
   "source": [
    "### Information Gain (IG)\n",
    "\n",
    "***Examples below are given for binary splits.***\n",
    "\n",
    "$$IG(D_{p}, a) = I(D_{p}) - \\frac{N_{left}}{N_p} I(D_{left}) - \\frac{N_{right}}{N_p} I(D_{right})$$\n",
    "\n",
    "- $IG$: Information Gain\n",
    "- $a$: feature to perform the split\n",
    "- $N_p$: number of samples in the parent node\n",
    "- $N_{left}$: number of samples in the left child node\n",
    "- $N_{right}$: number of samples in the right child node\n",
    "- $I$: impurity\n",
    "- $D_{p}$: training subset of the parent node\n",
    "- $D_{left}$: training subset of the left child node\n",
    "- $D_{right}$: training subset of the right child node\n",
    "\n"
   ]
  },
  {
   "cell_type": "markdown",
   "metadata": {},
   "source": [
    "# Impurity (I) Indices\n"
   ]
  },
  {
   "cell_type": "markdown",
   "metadata": {},
   "source": [
    "### Entropy\n",
    "\n",
    "The entropy is defined as\n",
    "$$I_H(t) = - \\sum_{i =1}^{C} p(i \\mid t) \\;log_2 \\,p(i \\mid t)$$\n",
    "\n",
    "for all non-empty classes ($p(i \\mid t) \\neq 0$), where $p(i \\mid t)$ is the proportion (or frequency or probability) of the samples that belong to class $i$ for a particular node $t$; $C$ is the number of unique class labels.\n",
    "\n",
    "The entropy is therefore 0 if all samples at a node belong to the same class, and the entropy is maximal if we have an uniform class distribution. For example, in a binary class setting, the entropy is 0 if  $p(i =1 \\mid t) =1$ or $p(i =0 \\mid t) =1$. And if the classes are distributed uniformly with $p(i =1 \\mid t) = 0.5$ and $p(i =0 \\mid t) =0.5$ the entropy is 1 (maximal), which we can visualize by plotting the entropy for binary class setting below.\n",
    "\n",
    "![](entropy.png)\n",
    "![](info_gain.png)"
   ]
  },
  {
   "cell_type": "code",
   "execution_count": 4,
   "metadata": {},
   "outputs": [
    {
     "data": {
      "image/png": "[encoded data removed]",
      "text/plain": [
       "<matplotlib.figure.Figure at 0x1059a6780>"
      ]
     },
     "metadata": {},
     "output_type": "display_data"
    }
   ],
   "source": [
    "import numpy as np\n",
    "import matplotlib.pyplot as plt\n",
    "%matplotlib inline\n",
    "\n",
    "\n",
    "def entropy(p):\n",
    "    return - p*np.log2(p) - (1 - p)*np.log2((1 - p))\n",
    "x = np.arange(0.0, 1.0, 0.01)\n",
    "ent = [entropy(p) if p != 0 else None for p in x]\n",
    "plt.plot(x, ent)\n",
    "plt.ylim([0,1.1])\n",
    "plt.xlabel('p(i=1)')\n",
    "plt.axhline(y=1.0, linewidth=1, color='k', linestyle='--')\n",
    "plt.ylabel('Entropy')\n",
    "plt.show()"
   ]
  },
  {
   "cell_type": "markdown",
   "metadata": {},
   "source": [
    "#### Gini Impurity\n",
    "\n",
    "Gini Impurity is a very intuitive metric to try to improve because it is a measure of the misclassification rate. If the fraction of the data set that has outcome class $  c  $ is $  f_c  $, we can make predictions for each data point as being class $  c  $, $  f_c  $ of the time. **The error rate for a class is the probability of getting the class times the probability of getting it wrong**.\n",
    "\n",
    "$$  Error_c = f_c * \\left( 1 - f_c \\right)  $$\n",
    "\n",
    "The Gini Impurity is the sum of these error rates for all classes.\n",
    "\n",
    "$$  Gini \\ Impurity = \\sum_c Error_c = \\sum_c f_c * \\left( 1 - f_c \\right)  $$\n",
    "$$  Gini \\ Impurity = \\sum_c f_c - \\sum _c f^2_c  $$\n",
    "$$  Gini \\ Impurity = 1 - \\sum _c f^2_c  $$\n",
    "\n",
    "**If we divide the data set in regions that improve the weighted sum of the Gini Impurity, the misclassification rate will be reduced**.\n",
    "\n",
    "#### Gini Impurity for a Coin Flip\n",
    "\n",
    "A coin flip is about as simple as a process there is to calculate the Gini Impurity for. We have a coin with probability of head, $  p_H  $. The Gini Impurity is then\n",
    "$$  Gini \\ Impurity = 1 - p_H^2 - \\left(1-p_H\\right)^2 = 2*p_H*\\left(1-p_H\\right)  $$\n",
    "A plot of the this is below for different values of $  p_H  $."
   ]
  },
  {
   "cell_type": "markdown",
   "metadata": {},
   "source": [
    "### Gini Impurity\n",
    "\n",
    "$$I_G(t) =  \\sum_{i =1}^{C}p(i \\mid t) \\big(1-p(i \\mid t)\\big)$$"
   ]
  },
  {
   "cell_type": "code",
   "execution_count": 5,
   "metadata": {},
   "outputs": [
    {
     "data": {
      "image/png": "[encoded data removed]",
      "text/plain": [
       "<matplotlib.figure.Figure at 0x1067dfeb8>"
      ]
     },
     "metadata": {},
     "output_type": "display_data"
    }
   ],
   "source": [
    "def gini(p):\n",
    "    return (p)*(1 - (p)) + (1-p)*(1 - (1-p))\n",
    "\n",
    "x = np.arange(0.0, 1.0, 0.01)\n",
    "plt.plot(x, gini(x))\n",
    "plt.ylim([0,1.1])\n",
    "plt.xlabel('p(i=1)')\n",
    "plt.axhline(y=0.5, linewidth=1, color='k', linestyle='--')\n",
    "plt.ylabel('Gini Impurity')\n",
    "plt.show()"
   ]
  },
  {
   "cell_type": "markdown",
   "metadata": {},
   "source": [
    "### Misclassification Error\n",
    "\n",
    "$$I_M(t) =  1 - max\\{{p_i}\\}$$\n"
   ]
  },
  {
   "cell_type": "code",
   "execution_count": 6,
   "metadata": {},
   "outputs": [
    {
     "data": {
      "image/png": "[encoded data removed]",
      "text/plain": [
       "<matplotlib.figure.Figure at 0x1068704e0>"
      ]
     },
     "metadata": {},
     "output_type": "display_data"
    }
   ],
   "source": [
    "def error(p):\n",
    "    return 1 - np.max([p, 1-p])\n",
    "\n",
    "x = np.arange(0.0, 1.0, 0.01)\n",
    "err = [error(i) for i in x]\n",
    "plt.plot(x, err)\n",
    "plt.ylim([0,1.1])\n",
    "plt.xlabel('p(i=1)')\n",
    "plt.axhline(y=0.5, linewidth=1, color='k', linestyle='--')\n",
    "plt.ylabel('Misclassification Error')\n",
    "plt.show()"
   ]
  },
  {
   "cell_type": "markdown",
   "metadata": {},
   "source": [
    "### Comparison"
   ]
  },
  {
   "cell_type": "code",
   "execution_count": 7,
   "metadata": {},
   "outputs": [
    {
     "data": {
      "image/png": "[encoded data removed]",
      "text/plain": [
       "<matplotlib.figure.Figure at 0x10693c400>"
      ]
     },
     "metadata": {},
     "output_type": "display_data"
    }
   ],
   "source": [
    "fig = plt.figure()\n",
    "ax = plt.subplot(111)\n",
    "\n",
    "for i, lab in zip([ent, gini(x), err], \n",
    "                  ['Entropy', 'Gini Impurity', 'Misclassification Error']):\n",
    "    line, = ax.plot(x, i, label=lab)\n",
    "\n",
    "ax.legend(loc='upper center', bbox_to_anchor=(0.5, 1.15),\n",
    "          ncol=3, fancybox=True, shadow=False)\n",
    "\n",
    "ax.axhline(y=0.5, linewidth=1, color='k', linestyle='--')\n",
    "ax.axhline(y=1.0, linewidth=1, color='k', linestyle='--')\n",
    "plt.ylim([0,1.1])\n",
    "plt.xlabel('p(i=1)')\n",
    "plt.ylabel('Impurity Index')\n",
    "plt.tight_layout()\n",
    "plt.show()"
   ]
  },
  {
   "cell_type": "markdown",
   "metadata": {},
   "source": [
    "# Decision Trees - CART\n",
    "\n",
    "The CART algorithm was published by Breimanet alin 1984\n",
    "\n",
    "* Find best split for each feature - minimises impurity measure\n",
    "\n",
    "* Find feature that minimises impurity the most\n",
    "\n",
    "* Use the best split on that feature to split the node\n",
    "\n",
    "* Do the same for each of the leaf nodes\n",
    "\n",
    "The CART algorithm depends on an impurity measure.  It uses Gini impurity. \n",
    "\n",
    "Gini impurity measures how often a randomly chosen element from a set would be incorrectly labelled if it was randomly labelled according to the distribution of labels in the set.  The probabilities for each label are summed up"
   ]
  },
  {
   "cell_type": "markdown",
   "metadata": {},
   "source": [
    "# Decision Trees - ID3\n",
    "\n",
    "Similar to CART, Iterative Dichotomy 3 (ID3) minimises entropy instead of Gini impurity Entropy:\n",
    "$$\n",
    "H(S)=\\sum_{x \\in X}-p(x) \\log _{2} p(x)\n",
    "$$\n",
    "Where $S$ is the data set, $X$ is the set of classes in $S, p(x)$ is the proportion of the number of elements in class $x$ to the number of elements in set $S$\n",
    "\n",
    "Information Gain is measured for a split along each possible attribute $A$\n",
    "$$\n",
    "I_{G}(S, A)=H(S)-\\sum_{x \\in X} \\frac{\\left|S_{A}\\right|}{|S|} H\\left(S_{A}\\right)\n",
    "$$\n",
    "ID3 is very similar to CART, though doesn't technically support numerical values"
   ]
  },
  {
   "cell_type": "markdown",
   "metadata": {},
   "source": [
    "# Decision Trees - Regression\n",
    "\n",
    "CART - Classification and Regression Trees How do we usedecision trees for regression?  i.e.  to give numerical values ratherthan a classification.\n",
    "\n",
    "Could use classification, but using each numerical value as a class.\n",
    "\n",
    "* Problems?\n",
    "\n",
    "    - How would you generalize?\n",
    "    - Loses all meaning of ordering, or similarity\n",
    "    \n",
    "* Solution?\n",
    "    - Use Variance instead of Gini or Entropy\n",
    "    \n",
    "Maximize Variance Gain:\n",
    "\n",
    "   - Split on the feature values that give maximum gain in variance\n",
    "   - Should make similar numbers group together\n",
    "   - I. e.  lower numbers on one side, higher on the other\n"
   ]
  },
  {
   "cell_type": "markdown",
   "metadata": {},
   "source": [
    "# Decision Trees - In General\n",
    "\n",
    "There are problems with Decision Trees:\n",
    "   - Finding an optimal Tree is NP-complete\n",
    "   - They overfit, so don't generalize well - Hence need to prune\n",
    "   - Information Gain is biased to features with more categories\n",
    "   - Splits are axis aligned."
   ]
  },
  {
   "cell_type": "markdown",
   "metadata": {},
   "source": [
    "# Decision Trees - Ensemble Methods\n",
    "\n",
    "**Bagging**: Bootstrap  aggregating__\n",
    "\n",
    "Uniformly sample initial dataset with replacement in to $\\mathrm{m}$ subsets \n",
    "\n",
    "For example:\n",
    "\n",
    "if data set has 5 samples, $\\left(s_{1}, s_{2}, s_{3}, s_{4}, s_{5}\\right)$ make a whole bunch of similar data sets:\n",
    "\n",
    "   - $(s_{5}, s_{2}, s_{2}, s_{1}, s_{5})$\n",
    "   - $(s_{4}, s_{2}, s_{1}, s_{3}, s_{3})$\n",
    "   - $(s_{2}, s_{5}, s_{3}, s_{1}, s_{1})$\n",
    "   - $(s_{3}, s_{1}, s_{2}, s_{4}, s_{4})$\n",
    "   \n",
    "Train a different decision tree on each set \n",
    "\n",
    "To classify, apply each classifier and chose the correct one by majority vote\n",
    "\n",
    "If doing regression, take the mean of the values\n",
    "\n",
    "This improves generalization, as decreases variance without increasing bias"
   ]
  },
  {
   "cell_type": "markdown",
   "metadata": {},
   "source": [
    "# Decision Trees - Ensemble Methods\n",
    "\n",
    "**Boosting**\n",
    "\n",
    "* Learn a sequence of weak trees (small fixed size)\n",
    "\n",
    "* Gradient tree boosting\n",
    "\n",
    "**Random Forests**\n",
    "\n",
    "* Apply bagging but when learning the tree for each subset, chose the split by searching over a random sample of the features\n",
    "\n",
    "* Reduces overfitting\n"
   ]
  },
  {
   "cell_type": "markdown",
   "metadata": {
    "collapsed": true
   },
   "source": [
    "### Regressions Metrics for Decision Trees\n",
    "\n",
    "The metric used for decision tree regression is a reduction of  variance around the prediction.\n",
    "\n",
    "$$  Variance = \\frac{1}{N} \\sum_{i}^{N} ( y_i - \\bar{y} )^2  $$\n",
    "\n",
    "#### Simple Linear Example\n",
    "\n",
    "We can take a simple linear example and split it into two regions. The solid black line is the average of the entire dataset, while the red lines are the predictions in each region.\n",
    "\n",
    "<img class=\"aligncenter size-full wp-image-2747\" src=\"https://bryantravissmithdotcom.files.wordpress.com/2016/12/output_11_0.png\" alt=\"output_11_0\" width=\"768\" height=\"384\" />\n",
    "\n",
    "The total variance before the split was 40.00, while the weighted variance after the split is $  \\frac{6}{11} 11.67 + \\frac{5}{11} 8.00  = 10.0 $\n",
    "\n",
    "## Improving Metrics - Splitting on Ibnformation Gain\n",
    "\n",
    "Now that we have metrics to evaluate the prediction from a data set, we can now define the improvement metric to optimize. I will be using the term information gain, which it is the correct term when talking about entropy, for all the optimizations. I can not say conclusively is the name for the measure in decision tree regression. Being wrong hasn't stopped me before!\n",
    "\n",
    "### Decision Tree Classifier \n",
    "\n",
    "$$  Information \\ Gain = Gini \\ Impurity(d) - \\sum_{split \\ s} \\frac{|s|}{|d|} Gini \\ Impurity(s)  $$\n",
    "\n",
    "$$  Information \\ Gain = Entropy(d) - \\sum_{split \\ s} \\frac{|s|}{|d|} Entropy(s)  $$\n",
    "\n",
    "### Decision Tree Regressor\n",
    " \n",
    "\n",
    "$$  Information \\ Gain =  Variance(d) - \\sum_{split \\ s} \\frac{|s|}{|d|} Variance(s)  $$\n",
    "\n",
    "## Parameters of Decision Trees\n",
    "\n",
    "Decisions Trees are prone to overfit because the metrics can be driven to the minimum by making the tree deep enough capture each data point individually. The variance of a single point is zero. The misclassification rate of a single point is also zero. Traditionally this overfit is managed by pruning the tree after it is constructed, or setting parameters the limit how finely the data can be partitioned into regions.\n",
    "\n",
    "The post-pruning of a decision tree uses some sort of statistical evaluation on a validation set. If the error on the sub-nodes is larger than the node, the sub-nodes are removed.\n",
    "\n",
    "The parameters that are commonly used in CART to limit the partitioning of the data:\n",
    "\n",
    "1. Maximum Depth of the Tree\n",
    "2. Minimum Number of Data Points for a New Node\n",
    "3. Minimum Improvement needed for a New Node\n",
    "4. Minimum Metric under which New Nodes are not created.\n",
    "\n",
    "## Pseudo Code\n",
    "Now that we have a metric and measure of improvement, we can outline the pseudo code we will be implementing in the next posts which are based on the CART algorithm for decision trees. Classification and Regression Trees (CART) algorithm that recursively and greedily splits nodes if there is an improve in the metric of choice until some stopping conditions are met.\n",
    "\n",
    "<ol>\n",
    "\t<li>Set Training Parameters</li>\n",
    "\t<li>Create a Root Node</li>\n",
    "\t<li>Determine optimal split the node such that that split minimizes the metrics of concern.</li>\n",
    "\t<li>If stopping parameters are not violated, create two child nodes and apply step 3 and 4 to each child node.</li>\n",
    "</ol>\n",
    "\n",
    "# Code\n",
    "\n",
    "In this code section. I am going to be implementing a Decision Tree algorithm, but I will do it in the following parts:\n",
    "\n",
    "<ol>\n",
    "\t<li>Introduce the Data</li>\n",
    "\t<li>Script Finding the Best First Partition</li>\n",
    "\t<li>Create a Data Structure and Implement Decision Trees</li>\n",
    "\t<li>Comparing with sklearn package.</li>\n",
    "</ol>\n",
    "\n",
    "## Assumptions\n",
    "The implementation will avoid some issues with decision trees. I am going to assume that there never missing values. I will assume that all categorical variables are logical, character, and factor variables. If a variable is numeric, I will assume it is numeric. I am also going to assume that all the data is in a data.frame format.\n",
    "\n",
    "## Data\n",
    "\n",
    "Let's use  the Iris dataset for classification and the Boston dataset for regression. Both are available in the sklearn package."
   ]
  },
  {
   "cell_type": "code",
   "execution_count": 2,
   "metadata": {},
   "outputs": [],
   "source": [
    "from sklearn.datasets import load_iris,load_boston\n",
    "iris = load_iris()\n",
    "boston = load_boston()"
   ]
  },
  {
   "cell_type": "markdown",
   "metadata": {},
   "source": [
    "### Boston Housing Price"
   ]
  },
  {
   "cell_type": "code",
   "execution_count": 3,
   "metadata": {},
   "outputs": [
    {
     "data": {
      "text/html": [
       "<div>\n",
       "<style scoped>\n",
       "    .dataframe tbody tr th:only-of-type {\n",
       "        vertical-align: middle;\n",
       "    }\n",
       "\n",
       "    .dataframe tbody tr th {\n",
       "        vertical-align: top;\n",
       "    }\n",
       "\n",
       "    .dataframe thead th {\n",
       "        text-align: right;\n",
       "    }\n",
       "</style>\n",
       "<table border=\"1\" class=\"dataframe\">\n",
       "  <thead>\n",
       "    <tr style=\"text-align: right;\">\n",
       "      <th></th>\n",
       "      <th>CRIM</th>\n",
       "      <th>ZN</th>\n",
       "      <th>INDUS</th>\n",
       "      <th>CHAS</th>\n",
       "      <th>NOX</th>\n",
       "      <th>RM</th>\n",
       "      <th>AGE</th>\n",
       "      <th>DIS</th>\n",
       "      <th>RAD</th>\n",
       "      <th>TAX</th>\n",
       "      <th>PTRATIO</th>\n",
       "      <th>B</th>\n",
       "      <th>LSTAT</th>\n",
       "      <th>PRICE</th>\n",
       "    </tr>\n",
       "  </thead>\n",
       "  <tbody>\n",
       "    <tr>\n",
       "      <th>0</th>\n",
       "      <td>0.00632</td>\n",
       "      <td>18.0</td>\n",
       "      <td>2.31</td>\n",
       "      <td>0.0</td>\n",
       "      <td>0.538</td>\n",
       "      <td>6.575</td>\n",
       "      <td>65.2</td>\n",
       "      <td>4.0900</td>\n",
       "      <td>1.0</td>\n",
       "      <td>296.0</td>\n",
       "      <td>15.3</td>\n",
       "      <td>396.90</td>\n",
       "      <td>4.98</td>\n",
       "      <td>24.0</td>\n",
       "    </tr>\n",
       "    <tr>\n",
       "      <th>1</th>\n",
       "      <td>0.02731</td>\n",
       "      <td>0.0</td>\n",
       "      <td>7.07</td>\n",
       "      <td>0.0</td>\n",
       "      <td>0.469</td>\n",
       "      <td>6.421</td>\n",
       "      <td>78.9</td>\n",
       "      <td>4.9671</td>\n",
       "      <td>2.0</td>\n",
       "      <td>242.0</td>\n",
       "      <td>17.8</td>\n",
       "      <td>396.90</td>\n",
       "      <td>9.14</td>\n",
       "      <td>21.6</td>\n",
       "    </tr>\n",
       "    <tr>\n",
       "      <th>2</th>\n",
       "      <td>0.02729</td>\n",
       "      <td>0.0</td>\n",
       "      <td>7.07</td>\n",
       "      <td>0.0</td>\n",
       "      <td>0.469</td>\n",
       "      <td>7.185</td>\n",
       "      <td>61.1</td>\n",
       "      <td>4.9671</td>\n",
       "      <td>2.0</td>\n",
       "      <td>242.0</td>\n",
       "      <td>17.8</td>\n",
       "      <td>392.83</td>\n",
       "      <td>4.03</td>\n",
       "      <td>34.7</td>\n",
       "    </tr>\n",
       "    <tr>\n",
       "      <th>3</th>\n",
       "      <td>0.03237</td>\n",
       "      <td>0.0</td>\n",
       "      <td>2.18</td>\n",
       "      <td>0.0</td>\n",
       "      <td>0.458</td>\n",
       "      <td>6.998</td>\n",
       "      <td>45.8</td>\n",
       "      <td>6.0622</td>\n",
       "      <td>3.0</td>\n",
       "      <td>222.0</td>\n",
       "      <td>18.7</td>\n",
       "      <td>394.63</td>\n",
       "      <td>2.94</td>\n",
       "      <td>33.4</td>\n",
       "    </tr>\n",
       "    <tr>\n",
       "      <th>4</th>\n",
       "      <td>0.06905</td>\n",
       "      <td>0.0</td>\n",
       "      <td>2.18</td>\n",
       "      <td>0.0</td>\n",
       "      <td>0.458</td>\n",
       "      <td>7.147</td>\n",
       "      <td>54.2</td>\n",
       "      <td>6.0622</td>\n",
       "      <td>3.0</td>\n",
       "      <td>222.0</td>\n",
       "      <td>18.7</td>\n",
       "      <td>396.90</td>\n",
       "      <td>5.33</td>\n",
       "      <td>36.2</td>\n",
       "    </tr>\n",
       "  </tbody>\n",
       "</table>\n",
       "</div>"
      ],
      "text/plain": [
       "      CRIM    ZN  INDUS  CHAS    NOX     RM   AGE     DIS  RAD    TAX  \\\n",
       "0  0.00632  18.0   2.31   0.0  0.538  6.575  65.2  4.0900  1.0  296.0   \n",
       "1  0.02731   0.0   7.07   0.0  0.469  6.421  78.9  4.9671  2.0  242.0   \n",
       "2  0.02729   0.0   7.07   0.0  0.469  7.185  61.1  4.9671  2.0  242.0   \n",
       "3  0.03237   0.0   2.18   0.0  0.458  6.998  45.8  6.0622  3.0  222.0   \n",
       "4  0.06905   0.0   2.18   0.0  0.458  7.147  54.2  6.0622  3.0  222.0   \n",
       "\n",
       "   PTRATIO       B  LSTAT  PRICE  \n",
       "0     15.3  396.90   4.98   24.0  \n",
       "1     17.8  396.90   9.14   21.6  \n",
       "2     17.8  392.83   4.03   34.7  \n",
       "3     18.7  394.63   2.94   33.4  \n",
       "4     18.7  396.90   5.33   36.2  "
      ]
     },
     "execution_count": 3,
     "metadata": {},
     "output_type": "execute_result"
    }
   ],
   "source": [
    "import pandas as pd\n",
    "bostonX = boston['data']\n",
    "bostonY = boston['target']\n",
    "bostonDF = pd.DataFrame(data = np.hstack((bostonX,bostonY.reshape(bostonY.shape[0],1))),\\\n",
    "                        columns=np.append(boston['feature_names'],'PRICE'))\n",
    "bostonDF.head()"
   ]
  },
  {
   "cell_type": "markdown",
   "metadata": {},
   "source": [
    "### Iris"
   ]
  },
  {
   "cell_type": "code",
   "execution_count": 4,
   "metadata": {},
   "outputs": [
    {
     "data": {
      "text/html": [
       "<div>\n",
       "<style scoped>\n",
       "    .dataframe tbody tr th:only-of-type {\n",
       "        vertical-align: middle;\n",
       "    }\n",
       "\n",
       "    .dataframe tbody tr th {\n",
       "        vertical-align: top;\n",
       "    }\n",
       "\n",
       "    .dataframe thead th {\n",
       "        text-align: right;\n",
       "    }\n",
       "</style>\n",
       "<table border=\"1\" class=\"dataframe\">\n",
       "  <thead>\n",
       "    <tr style=\"text-align: right;\">\n",
       "      <th></th>\n",
       "      <th>sepal length (cm)</th>\n",
       "      <th>sepal width (cm)</th>\n",
       "      <th>petal length (cm)</th>\n",
       "      <th>petal width (cm)</th>\n",
       "      <th>Species</th>\n",
       "    </tr>\n",
       "  </thead>\n",
       "  <tbody>\n",
       "    <tr>\n",
       "      <th>0</th>\n",
       "      <td>5.1</td>\n",
       "      <td>3.5</td>\n",
       "      <td>1.4</td>\n",
       "      <td>0.2</td>\n",
       "      <td>0.0</td>\n",
       "    </tr>\n",
       "    <tr>\n",
       "      <th>1</th>\n",
       "      <td>4.9</td>\n",
       "      <td>3.0</td>\n",
       "      <td>1.4</td>\n",
       "      <td>0.2</td>\n",
       "      <td>0.0</td>\n",
       "    </tr>\n",
       "    <tr>\n",
       "      <th>2</th>\n",
       "      <td>4.7</td>\n",
       "      <td>3.2</td>\n",
       "      <td>1.3</td>\n",
       "      <td>0.2</td>\n",
       "      <td>0.0</td>\n",
       "    </tr>\n",
       "    <tr>\n",
       "      <th>3</th>\n",
       "      <td>4.6</td>\n",
       "      <td>3.1</td>\n",
       "      <td>1.5</td>\n",
       "      <td>0.2</td>\n",
       "      <td>0.0</td>\n",
       "    </tr>\n",
       "    <tr>\n",
       "      <th>4</th>\n",
       "      <td>5.0</td>\n",
       "      <td>3.6</td>\n",
       "      <td>1.4</td>\n",
       "      <td>0.2</td>\n",
       "      <td>0.0</td>\n",
       "    </tr>\n",
       "  </tbody>\n",
       "</table>\n",
       "</div>"
      ],
      "text/plain": [
       "   sepal length (cm)  sepal width (cm)  petal length (cm)  petal width (cm)  \\\n",
       "0                5.1               3.5                1.4               0.2   \n",
       "1                4.9               3.0                1.4               0.2   \n",
       "2                4.7               3.2                1.3               0.2   \n",
       "3                4.6               3.1                1.5               0.2   \n",
       "4                5.0               3.6                1.4               0.2   \n",
       "\n",
       "   Species  \n",
       "0      0.0  \n",
       "1      0.0  \n",
       "2      0.0  \n",
       "3      0.0  \n",
       "4      0.0  "
      ]
     },
     "execution_count": 4,
     "metadata": {},
     "output_type": "execute_result"
    }
   ],
   "source": [
    "irisX = iris['data']\n",
    "irisY = iris['target']\n",
    "irisDF = pd.DataFrame(data = np.hstack((irisX,irisY.reshape(irisY.shape[0],1))),\\\n",
    "                        columns=np.append(iris['feature_names'],\"Species\"))\n",
    "irisDF.head()"
   ]
  },
  {
   "cell_type": "markdown",
   "metadata": {},
   "source": [
    "## Scripting the First Partition\n",
    "\n",
    "Let's implement a brute force search for the best partition in the data set. This will be done by going through each value in each feature and finding the feature-value that will best partition the data. To do this we need to implement our metrics we discussed above:\n",
    "\n",
    "* Entropy: Classification\n",
    "\n",
    "* Gini Impurity: Classification\n",
    "\n",
    "* Variance: Regression"
   ]
  },
  {
   "cell_type": "code",
   "execution_count": 5,
   "metadata": {},
   "outputs": [],
   "source": [
    "def entropy(y):\n",
    "    if y.size == 0: return 0\n",
    "    p = np.unique(y, return_counts = True)[1].astype(float)/len(y)\n",
    "    return -1 * np.sum(p * np.log2(p+1e-9))\n",
    "\n",
    "def gini_impurity(y):\n",
    "    if y.size == 0: return 0\n",
    "    p = np.unique(y, return_counts = True)[1].astype(float)/len(y)\n",
    "    return 1 - np.sum(p**2)\n",
    "\n",
    "def variance(y):\n",
    "    if y.size == 0: return 0\n",
    "    return np.var(y)"
   ]
  },
  {
   "cell_type": "markdown",
   "metadata": {},
   "source": [
    "Calculate these metrics for the iris dataset"
   ]
  },
  {
   "cell_type": "code",
   "execution_count": 6,
   "metadata": {},
   "outputs": [
    {
     "name": "stdout",
     "output_type": "stream",
     "text": [
      "1.584962496393071\n",
      "0.6666666666666667\n",
      "84.41955615616556\n"
     ]
    }
   ],
   "source": [
    "print (entropy(irisY))\n",
    "print (gini_impurity(irisY))\n",
    "print (variance(bostonY))"
   ]
  },
  {
   "cell_type": "markdown",
   "metadata": {},
   "source": [
    "## Information Gain\n",
    "\n",
    "Next calculate the improvement for different partitions. Each partition is going to be calculated using a mask which is a logical vector that states if the row is in the first partition (TRUE) or in the second partition (FALSE). We will call the function information gain, even though it really is only information gain if entropy is the metric."
   ]
  },
  {
   "cell_type": "code",
   "execution_count": 7,
   "metadata": {},
   "outputs": [
    {
     "name": "stdout",
     "output_type": "stream",
     "text": [
      "0.8278615174416875\n",
      "0.3059067626272451\n",
      "0.4568846274610028\n"
     ]
    }
   ],
   "source": [
    "def information_gain(y,mask,func=entropy):\n",
    "    s1 = np.sum(mask)\n",
    "    s2 = mask.size - s1\n",
    "    if (s1 == 0 | s2 == 0): return 0\n",
    "    return func(y) - s1/float(s1+s2) * func(y[mask]) - s2/float(s1+s2) * func(y[np.logical_not(mask)])\n",
    "\n",
    "\n",
    "print (information_gain(irisY,irisX[:,2] < 3.5))\n",
    "print (information_gain(irisY,irisX[:,2] < 3.5,gini_impurity))\n",
    "print (information_gain(bostonY,bostonX[:,5] < 7))"
   ]
  },
  {
   "cell_type": "markdown",
   "metadata": {},
   "source": [
    "## Max Information Gain For A Single Feature\n",
    "\n",
    "We have  a function to calculated the information gain for a given criteria, mask, or split, Now, we will search for the best split among all the values in a given feature. This will give us the best split for that feature:"
   ]
  },
  {
   "cell_type": "code",
   "execution_count": 8,
   "metadata": {},
   "outputs": [
    {
     "data": {
      "text/plain": [
       "array([876.5, 458.6, 563.7, 179.9])"
      ]
     },
     "execution_count": 8,
     "metadata": {},
     "output_type": "execute_result"
    }
   ],
   "source": [
    "np.apply_along_axis(lambda x: np.sum(x),0,irisX)"
   ]
  },
  {
   "cell_type": "code",
   "execution_count": 10,
   "metadata": {},
   "outputs": [
    {
     "name": "stdout",
     "output_type": "stream",
     "text": [
      "{'best_change': 0.3333333333333334, 'split_value': 3.0, 'is_numeric': True}\n",
      "{'best_change': 0.9182958321308963, 'split_value': 3.0, 'is_numeric': True}\n",
      "{'best_change': 2.5930420368499885, 'split_value': 1.0, 'is_numeric': True}\n"
     ]
    }
   ],
   "source": [
    "def max_information_gain_split(y,x,func=gini_impurity):\n",
    "    best_change = None\n",
    "    split_value = None\n",
    "    is_numeric = irisX[:,2].dtype.kind not in ['S','b']\n",
    "    \n",
    "    for val in np.unique(np.sort(x)):\n",
    "        mask = x == val\n",
    "        if(is_numeric): mask = x < val\n",
    "        change = information_gain(y,mask,func)\n",
    "        if best_change is None:\n",
    "            best_change = change\n",
    "            split_value = val\n",
    "        elif change > best_change:\n",
    "            best_change = change\n",
    "            split_value = val\n",
    "            \n",
    "    return {\"best_change\":best_change,\\\n",
    "            \"split_value\":split_value,\\\n",
    "            \"is_numeric\":is_numeric}\n",
    "\n",
    "print(max_information_gain_split(irisY,irisX[:,2]))\n",
    "print(max_information_gain_split(irisY,irisX[:,2],entropy))\n",
    "print(max_information_gain_split(bostonY,bostonX[:,3],variance))"
   ]
  },
  {
   "cell_type": "markdown",
   "metadata": {},
   "source": [
    "All the best split values just happen to be 1 in this case.\n",
    "\n",
    "## Best Feature Split\n",
    "\n",
    "Now we can apply the max_information gain across all columns and return the information for the best split\n"
   ]
  },
  {
   "cell_type": "code",
   "execution_count": 11,
   "metadata": {},
   "outputs": [
    {
     "name": "stdout",
     "output_type": "stream",
     "text": [
      "{'best_change': 0.3333333333333334, 'split_value': 3.0, 'is_numeric': True, 'index': 2}\n",
      "{'best_change': 0.9182958321308963, 'split_value': 3.0, 'is_numeric': True, 'index': 2}\n",
      "{'best_change': 38.22046447905707, 'split_value': 6.943, 'is_numeric': True, 'index': 5}\n"
     ]
    }
   ],
   "source": [
    "def best_feature_split(X,y,func=gini_impurity):\n",
    "    best_result = None\n",
    "    best_index = None\n",
    "    for index in range(X.shape[1]):\n",
    "        result = max_information_gain_split(y,X[:,index],func)\n",
    "        if best_result is None:\n",
    "            best_result = result\n",
    "            best_index = index\n",
    "        elif best_result['best_change'] < result['best_change']:\n",
    "            best_result = result\n",
    "            best_index = index\n",
    "    \n",
    "    best_result['index'] = best_index\n",
    "    return best_result\n",
    "\n",
    "print (best_feature_split(irisX,irisY))\n",
    "print (best_feature_split(irisX,irisY,entropy))\n",
    "print (best_feature_split(bostonX,bostonY,variance))"
   ]
  },
  {
   "cell_type": "markdown",
   "metadata": {},
   "source": [
    "Now that we have the best feature-value combination to partition our data we can partition the data into the two data sets. One we will call 'left', and the other we will call 'right'. This will end up being the data structure use in that each node can have two branches: left and right."
   ]
  },
  {
   "cell_type": "code",
   "execution_count": 12,
   "metadata": {},
   "outputs": [],
   "source": [
    "def get_best_mask(X,best_feature_dict):\n",
    "    best_mask = None\n",
    "    if best_feature_dict['is_numeric']:\n",
    "        best_mask = X[:,best_feature_dict['index']] < best_feature_dict['split_value']\n",
    "    else:\n",
    "        best_mask = X[:,best_feature_dict['index']] == best_feature_dict['split_value']\n",
    "    return best_mask\n",
    "\n",
    "bfs = best_feature_split(irisX,irisY)\n",
    "best_mask = get_best_mask(irisX,bfs)\n",
    "left = irisX[best_mask,:]\n",
    "right = irisX[np.logical_not(best_mask),:]"
   ]
  },
  {
   "cell_type": "markdown",
   "metadata": {},
   "source": [
    "Now that we have scripted a single split, we will now work on creating a tree-based data structure for the decision tree.\n",
    "\n",
    "## Data Structure\n",
    "\n",
    "We are going to make two classes. Decision Tree class that slightly mimics the sklearn API and a Decision Tree Node class will recursively fit the data based on the hyper-parameters we provide. There are many parameters that one could set to control the tree from overfitting. we have have choose: max_depth, min_information_gain, & min_leaf_size. Class diagrams are below.\n",
    "\n",
    "\n",
    "# TO DO - Make Python Diagram\n",
    "[caption id=\"attachment_2649\" align=\"aligncenter\" width=\"768\"]<img class=\"size-full wp-image-2649\" src=\"https://bryantravissmithdotcom.files.wordpress.com/2016/12/decision-tree-algorithm-page-4.png\" alt=\"Class Descriptions of Decision Tree Implementation\" width=\"768\" height=\"448\" /> Class Descriptions of Decision Tree Implementation[/caption]\n",
    "\n",
    " \n",
    "\n",
    "# DecisionTreeNode\n",
    "\n",
    "This is going to be the template we will use for the DecisionTreeNode class. \n",
    "\n",
    "Check the notebook \"Implement decision trees from scratch\" to be loaded in the lab 4 - Decision trees"
   ]
  },
  {
   "cell_type": "markdown",
   "metadata": {},
   "source": [
    "### Information Gain\n",
    "\n",
    "This is the same function as we implemented during the scripting section except that it makes reference to the object variables instead of accepting them as parameters.\n",
    "\n",
    "```python\n",
    "def _information_gain(self,mask):\n",
    "    s1 = np.sum(mask)\n",
    "    s2 = mask.size - s1\n",
    "    if (s1 == 0 | s2 == 0): return 0\n",
    "    return self.minimize_func(self.y) - \\\n",
    "            s1/float(s1+s2) * self.minimize_func(self.y[mask]) - \\\n",
    "            s2/float(s1+s2) * self.minimize_func(self.y[np.logical_not(mask)])\n",
    "```"
   ]
  },
  {
   "cell_type": "markdown",
   "metadata": {},
   "source": [
    "### Max Information Gain Split\n",
    "\n",
    "This function finds the value with the most information gain by a given feature. This is similar to the scripted version above except it also makes reference the object's variables and have added an additional constraint that the best split is only updated if it new leafs are bigger or equal to the min leaf size.   This is finding the optimal split value given the constraint.  The above scrippted solution finds the optimal value then checks to see if it matches the constraint.  These two methods will give different results and produce different trees.\n",
    "\n",
    "```python\n",
    "def _max_information_gain_split(self,x):\n",
    "    best_change = None\n",
    "    split_value = None\n",
    "    previous_val = None\n",
    "    is_numeric = x.dtype.kind not in ['S','b']\n",
    "\n",
    "    for val in np.unique(np.sort(x)):\n",
    "        mask = x == val\n",
    "        if(is_numeric): mask = x < val\n",
    "        change = self._information_gain(mask)\n",
    "        s1 = np.sum(mask)\n",
    "        s2 = mask.size-s1\n",
    "\n",
    "        if best_change is None and s1 >= self.min_leaf_size and s2 >= self.min_leaf_size:\n",
    "            best_change = change\n",
    "            split_value = val\n",
    "        elif change > best_change and s1 >= self.min_leaf_size and s2 >= self.min_leaf_size:\n",
    "            best_change = change\n",
    "            split_value = np.mean([val,previous_val])\n",
    "\n",
    "        previous_val = val\n",
    "\n",
    "    return {\"best_change\":best_change,\\\n",
    "            \"split_value\":split_value,\\\n",
    "            \"is_numeric\":is_numeric}\n",
    "```"
   ]
  },
  {
   "cell_type": "markdown",
   "metadata": {},
   "source": [
    "### Best Feature Split\n",
    "\n",
    "This function finds the feature-value split that gives the most information gain out of the all the features.\n",
    "\n",
    "```python\n",
    "def _best_feature_split(self):\n",
    "    best_result = None\n",
    "    best_index = None\n",
    "    for index in range(self.X.shape[1]):\n",
    "        result = self._max_information_gain_split(self.X[:,index])\n",
    "        if result['best_change'] is not None:\n",
    "            if best_result is None:\n",
    "                best_result = result\n",
    "                best_index = index\n",
    "            elif best_result['best_change'] < result['best_change']:\n",
    "                best_result = result\n",
    "                best_index = index\n",
    "\n",
    "    if best_result is not None:\n",
    "        best_result['index'] = best_index\n",
    "        self.best_split = best_result\n",
    "```"
   ]
  },
  {
   "cell_type": "markdown",
   "metadata": {},
   "source": [
    "### Split Node\n",
    "\n",
    "This function will split the DecisionTreeNode into left and right branches if it is consistent with the hyper-parameters. It is also setting each Node's description so a summary tree can be printed out.\n",
    "\n",
    "```python\n",
    "def _split_node(self):\n",
    "\n",
    "    if self.depth < self.max_depth :\n",
    "\n",
    "        self._best_feature_split() \n",
    "\n",
    "        if self.best_split is not None and self.best_split['best_change'] >= self.min_information_gain :\n",
    "\n",
    "            mask = None\n",
    "            if self.best_split['is_numeric']:\n",
    "                mask = self.X[:,self.best_split['index']] < self.best_split['split_value']\n",
    "            else:\n",
    "                mask = self.X[:,self.best_split['index']] == self.best_split['split_value']\n",
    "\n",
    "            if(np.sum(mask) >= self.min_leaf_size and (mask.size-np.sum(mask)) >= self.min_leaf_size):\n",
    "                self.is_leaf = False\n",
    "\n",
    "                self.left = DecisionTreeNode(self.X[mask,:],\\\n",
    "                                            self.y[mask],\\\n",
    "                                            self.minimize_func,\\\n",
    "                                            self.min_information_gain,\\\n",
    "                                            self.max_depth,\\\n",
    "                                            self.min_leaf_size,\\\n",
    "                                            self.depth+1)\n",
    "\n",
    "                if self.best_split['is_numeric']:\n",
    "                    split_description = 'index ' + str(self.best_split['index']) + \" < \" + str(self.best_split['split_value']) + \" ( \" + str(self.X[mask,:].shape[0]) + \" )\"\n",
    "                    self.left.split_description = str(split_description)\n",
    "                else:\n",
    "                    split_description = 'index ' + str(self.best_split['index']) + \" == \" + str(self.best_split['split_value']) + \" ( \" + str(self.X[mask,:].shape[0]) + \" )\"\n",
    "                    self.left.split_description = str(split_description)\n",
    "\n",
    "                self.left._split_node()\n",
    "\n",
    "\n",
    "                self.right = DecisionTreeNode(self.X[np.logical_not(mask),:],\\\n",
    "                                            self.y[np.logical_not(mask)],\\\n",
    "                                            self.minimize_func,\\\n",
    "                                            self.min_information_gain,\\\n",
    "                                            self.max_depth,\\\n",
    "                                            self.min_leaf_size,\\\n",
    "                                            self.depth+1)\n",
    "\n",
    "                if self.best_split['is_numeric']:\n",
    "                    split_description = 'index ' + str(self.best_split['index']) + \" >= \" + str(self.best_split['split_value']) + \" ( \" + str(self.X[np.logical_not(mask),:].shape[0]) + \" )\"\n",
    "                    self.right.split_description = str(split_description)\n",
    "                else:\n",
    "                    split_description = 'index ' + str(self.best_split['index']) + \" != \" + str(self.best_split['split_value']) + \" ( \" + str(self.X[np.logical_not(mask),:].shape[0]) + \" )\"\n",
    "                    self.right.split_description = str(split_description)\n",
    "\n",
    "\n",
    "                self.right._split_node()\n",
    "\n",
    "    if self.is_leaf:\n",
    "        if self.minimize_func == variance:\n",
    "            self.split_description = self.split_description + \" : predict - \" + str(np.mean(self.y))\n",
    "        else:\n",
    "            values, counts = np.unique(self.y,return_counts=True)\n",
    "            predict = values[np.argmax(counts)]\n",
    "            self.split_description = self.split_description + \" : predict - \" + str(predict)\n",
    "\n",
    "```"
   ]
  },
  {
   "cell_type": "markdown",
   "metadata": {},
   "source": [
    "### Predict Row\n",
    "\n",
    "This function is used to make a prediction for a single row. It with be used by the predict function.\n",
    "\n",
    "```python\n",
    "def _predict_row(self,row):\n",
    "    predict_value = None\n",
    "    if self.is_leaf:\n",
    "        if self.minimize_func==variance:\n",
    "            predict_value = np.mean(self.y)\n",
    "        else:\n",
    "            values, counts = np.unique(self.y,return_counts=True)\n",
    "            predict_value = values[np.argmax(counts)]\n",
    "    else:\n",
    "        left = None\n",
    "        if self.best_split['is_numeric']:\n",
    "            left = row[self.best_split['index']] < self.best_split['split_value']\n",
    "        else:\n",
    "            left = row[self.best_split['index']] == self.best_split['split_value']\n",
    "\n",
    "        if left:\n",
    "            predict_value = self.left._predict_row(row)\n",
    "        else:\n",
    "            predict_value = self.right._predict_row(row)\n",
    "\n",
    "    return predict_value\n",
    "```"
   ]
  },
  {
   "cell_type": "markdown",
   "metadata": {},
   "source": [
    "### Predict\n",
    "\n",
    "This function will predict the values from the fitted tree. If the minimizing function is variance, I assume the problem is a regression problem and return numeric values. If it is not, I assume it is a classification problem and return character values.\n",
    "\n",
    "```python\n",
    "def predict(self,X):\n",
    "        return np.apply_along_axis(lambda x: self._predict_row(x),1,X)\n",
    "```\n",
    "\n"
   ]
  },
  {
   "cell_type": "markdown",
   "metadata": {},
   "source": [
    "### Implementation of the CART algorithm to train decision tree classifiers from scratch "
   ]
  },
  {
   "cell_type": "code",
   "execution_count": null,
   "metadata": {},
   "outputs": [],
   "source": [
    "\"\"\"Implementation of the CART algorithm to train decision tree classifiers.\"\"\"\n",
    "import numpy as np\n",
    "\n",
    "\n",
    "class Node:\n",
    "    def __init__(self, predicted_class):\n",
    "        self.predicted_class = predicted_class\n",
    "        self.feature_index = 0\n",
    "        self.threshold = 0\n",
    "        self.left = None\n",
    "        self.right = None\n",
    "\n",
    "\n",
    "class DecisionTreeClassifier:\n",
    "    def __init__(self, max_depth=None):\n",
    "        self.max_depth = max_depth\n",
    "\n",
    "    def fit(self, X, y):\n",
    "        self.n_classes_ = len(set(y))\n",
    "        self.n_features_ = X.shape[1]\n",
    "        self.tree_ = self._grow_tree(X, y)\n",
    "\n",
    "    def predict(self, X):\n",
    "        return [self._predict(inputs) for inputs in X]\n",
    "\n",
    "    def _best_split(self, X, y):\n",
    "        m = y.size\n",
    "        if m <= 1:\n",
    "            return None, None\n",
    "        num_parent = [np.sum(y == c) for c in range(self.n_classes_)]\n",
    "        best_gini = 1.0 - sum((n / m) ** 2 for n in num_parent)\n",
    "        best_idx, best_thr = None, None\n",
    "        for idx in range(self.n_features_):\n",
    "            thresholds, classes = zip(*sorted(zip(X[:, idx], y)))\n",
    "            num_left = [0] * self.n_classes_\n",
    "            num_right = num_parent.copy()\n",
    "            for i in range(1, m):\n",
    "                c = classes[i - 1]\n",
    "                num_left[c] += 1\n",
    "                num_right[c] -= 1\n",
    "                gini_left = 1.0 - sum(\n",
    "                    (num_left[x] / i) ** 2 for x in range(self.n_classes_)\n",
    "                )\n",
    "                gini_right = 1.0 - sum(\n",
    "                    (num_right[x] / (m - i)) ** 2 for x in range(self.n_classes_)\n",
    "                )\n",
    "                gini = (i * gini_left + (m - i) * gini_right) / m\n",
    "                if thresholds[i] == thresholds[i - 1]:\n",
    "                    continue\n",
    "                if gini < best_gini:\n",
    "                    best_gini = gini\n",
    "                    best_idx = idx\n",
    "                    best_thr = (thresholds[i] + thresholds[i - 1]) / 2\n",
    "        return best_idx, best_thr\n",
    "\n",
    "    def _grow_tree(self, X, y, depth=0):\n",
    "        num_samples_per_class = [np.sum(y == i) for i in range(self.n_classes_)]\n",
    "        predicted_class = np.argmax(num_samples_per_class)\n",
    "        node = Node(predicted_class=predicted_class)\n",
    "        if depth < self.max_depth:\n",
    "            idx, thr = self._best_split(X, y)\n",
    "            if idx is not None:\n",
    "                indices_left = X[:, idx] < thr\n",
    "                X_left, y_left = X[indices_left], y[indices_left]\n",
    "                X_right, y_right = X[~indices_left], y[~indices_left]\n",
    "                node.feature_index = idx\n",
    "                node.threshold = thr\n",
    "                node.left = self._grow_tree(X_left, y_left, depth + 1)\n",
    "                node.right = self._grow_tree(X_right, y_right, depth + 1)\n",
    "        return node\n",
    "\n",
    "    def _predict(self, inputs):\n",
    "        node = self.tree_\n",
    "        while node.left:\n",
    "            if inputs[node.feature_index] < node.threshold:\n",
    "                node = node.left\n",
    "            else:\n",
    "                node = node.right\n",
    "        return node.predicted_class"
   ]
  },
  {
   "cell_type": "markdown",
   "metadata": {},
   "source": [
    "## Testing the implementation for Iris dataset"
   ]
  },
  {
   "cell_type": "code",
   "execution_count": 25,
   "metadata": {},
   "outputs": [
    {
     "name": "stdout",
     "output_type": "stream",
     "text": [
      "class predicted [1]\n"
     ]
    }
   ],
   "source": [
    "\n",
    "import sys\n",
    "from sklearn.datasets import load_iris\n",
    "\n",
    "dataset = load_iris()\n",
    "X, y = dataset.data, dataset.target  # pylint: disable=no-member\n",
    "clf = DecisionTreeClassifier(max_depth=1)\n",
    "clf.fit(X, y)\n",
    "print('class predicted',clf.predict([[0, 0, 5, 1.5]]))"
   ]
  },
  {
   "cell_type": "markdown",
   "metadata": {},
   "source": [
    "### Classification of the Iris Dataset using sklearn library"
   ]
  },
  {
   "cell_type": "code",
   "execution_count": 19,
   "metadata": {},
   "outputs": [
    {
     "name": "stdout",
     "output_type": "stream",
     "text": [
      "|--- petal width (cm) <= 0.80\n",
      "|   |--- class: 0\n",
      "|--- petal width (cm) >  0.80\n",
      "|   |--- petal width (cm) <= 1.75\n",
      "|   |   |--- class: 1\n",
      "|   |--- petal width (cm) >  1.75\n",
      "|   |   |--- class: 2\n",
      "\n"
     ]
    }
   ],
   "source": [
    "from sklearn.datasets import load_iris\n",
    "from sklearn.tree import DecisionTreeClassifier\n",
    "from sklearn.tree.export import export_text\n",
    "iris = load_iris()\n",
    "decision_tree = DecisionTreeClassifier(random_state=0, max_depth=2)\n",
    "decision_tree = decision_tree.fit(iris.data, iris.target)\n",
    "r = export_text(decision_tree, feature_names=iris['feature_names'])\n",
    "print(r)"
   ]
  },
  {
   "cell_type": "code",
   "execution_count": 26,
   "metadata": {},
   "outputs": [
    {
     "name": "stdout",
     "output_type": "stream",
     "text": [
      "class predicted [1]\n"
     ]
    }
   ],
   "source": [
    "print('class predicted', clf.predict([[0, 0, 5, 1.5]]))"
   ]
  },
  {
   "cell_type": "markdown",
   "metadata": {},
   "source": [
    "### Visualizing the decision trees using sklearn  for Iris data set"
   ]
  },
  {
   "cell_type": "code",
   "execution_count": 23,
   "metadata": {},
   "outputs": [
    {
     "data": {
      "image/png": "[encoded data removed]",
      "text/plain": [
       "<Figure size 432x288 with 6 Axes>"
      ]
     },
     "metadata": {
      "needs_background": "light"
     },
     "output_type": "display_data"
    },
    {
     "data": {
      "image/png": "[encoded data removed]",
      "text/plain": [
       "<Figure size 432x288 with 1 Axes>"
      ]
     },
     "metadata": {
      "needs_background": "light"
     },
     "output_type": "display_data"
    }
   ],
   "source": [
    "from sklearn.datasets import load_iris\n",
    "from sklearn.tree import DecisionTreeClassifier, plot_tree\n",
    "\n",
    "# Parameters\n",
    "n_classes = 3\n",
    "plot_colors = \"ryb\"\n",
    "plot_step = 0.02\n",
    "\n",
    "# Load data\n",
    "iris = load_iris()\n",
    "\n",
    "for pairidx, pair in enumerate([[0, 1], [0, 2], [0, 3],\n",
    "                                [1, 2], [1, 3], [2, 3]]):\n",
    "    # We only take the two corresponding features\n",
    "    X = iris.data[:, pair]\n",
    "    y = iris.target\n",
    "\n",
    "    # Train\n",
    "    clf = DecisionTreeClassifier().fit(X, y)\n",
    "\n",
    "    # Plot the decision boundary\n",
    "    plt.subplot(2, 3, pairidx + 1)\n",
    "\n",
    "    x_min, x_max = X[:, 0].min() - 1, X[:, 0].max() + 1\n",
    "    y_min, y_max = X[:, 1].min() - 1, X[:, 1].max() + 1\n",
    "    xx, yy = np.meshgrid(np.arange(x_min, x_max, plot_step),\n",
    "                         np.arange(y_min, y_max, plot_step))\n",
    "    plt.tight_layout(h_pad=0.5, w_pad=0.5, pad=2.5)\n",
    "\n",
    "    Z = clf.predict(np.c_[xx.ravel(), yy.ravel()])\n",
    "    Z = Z.reshape(xx.shape)\n",
    "    cs = plt.contourf(xx, yy, Z, cmap=plt.cm.RdYlBu)\n",
    "\n",
    "    plt.xlabel(iris.feature_names[pair[0]])\n",
    "    plt.ylabel(iris.feature_names[pair[1]])\n",
    "\n",
    "    # Plot the training points\n",
    "    for i, color in zip(range(n_classes), plot_colors):\n",
    "        idx = np.where(y == i)\n",
    "        plt.scatter(X[idx, 0], X[idx, 1], c=color, label=iris.target_names[i],\n",
    "                    cmap=plt.cm.RdYlBu, edgecolor='black', s=15)\n",
    "\n",
    "plt.suptitle(\"Decision surface of a decision tree using paired features\")\n",
    "plt.legend(loc='lower right', borderpad=0, handletextpad=0)\n",
    "plt.axis(\"tight\")\n",
    "\n",
    "plt.figure()\n",
    "clf = DecisionTreeClassifier().fit(iris.data, iris.target)\n",
    "plot_tree(clf, filled=True)\n",
    "plt.show()"
   ]
  },
  {
   "cell_type": "markdown",
   "metadata": {},
   "source": [
    "### Decision Tree Regression of a randomly generated synthetic data set\n"
   ]
  },
  {
   "cell_type": "code",
   "execution_count": 22,
   "metadata": {},
   "outputs": [
    {
     "data": {
      "image/png": "[encoded data removed]",
      "text/plain": [
       "<Figure size 432x288 with 1 Axes>"
      ]
     },
     "metadata": {
      "needs_background": "light"
     },
     "output_type": "display_data"
    }
   ],
   "source": [
    "# Import the necessary modules and libraries\n",
    "import numpy as np\n",
    "from sklearn.tree import DecisionTreeRegressor\n",
    "import matplotlib.pyplot as plt\n",
    "%matplotlib inline\n",
    "\n",
    "# Create a random dataset\n",
    "rng = np.random.RandomState(1)\n",
    "X = np.sort(5 * rng.rand(80, 1), axis=0)\n",
    "y = np.sin(X).ravel()\n",
    "y[::5] += 3 * (0.5 - rng.rand(16))\n",
    "\n",
    "# Fit regression model\n",
    "regr_1 = DecisionTreeRegressor(max_depth=2)\n",
    "regr_2 = DecisionTreeRegressor(max_depth=5)\n",
    "regr_1.fit(X, y)\n",
    "regr_2.fit(X, y)\n",
    "\n",
    "# Predict\n",
    "X_test = np.arange(0.0, 5.0, 0.01)[:, np.newaxis]\n",
    "y_1 = regr_1.predict(X_test)\n",
    "y_2 = regr_2.predict(X_test)\n",
    "\n",
    "# Plot the results\n",
    "plt.figure()\n",
    "plt.scatter(X, y, s=20, edgecolor=\"black\",\n",
    "            c=\"darkorange\", label=\"data\")\n",
    "plt.plot(X_test, y_1, color=\"cornflowerblue\",\n",
    "         label=\"max_depth=2\", linewidth=2)\n",
    "plt.plot(X_test, y_2, color=\"yellowgreen\", label=\"max_depth=5\", linewidth=2)\n",
    "plt.xlabel(\"data\")\n",
    "plt.ylabel(\"target\")\n",
    "plt.title(\"Decision Tree Regression\")\n",
    "plt.legend()\n",
    "plt.show()"
   ]
  },
  {
   "attachments": {},
   "cell_type": "markdown",
   "metadata": {},
   "source": [
    "exercise\n",
    "\n",
    "1) Implement manually the random forest tree method and testing on iris data set \n",
    "\n",
    "2) Compare your implementation to sklearn\n",
    "\n",
    "3) Apply the CART and random forest for Predicting and Forecasting Influenza based on the dataset `h7n9.csv`\n",
    "\n",
    "4) Compare your results with the r-study which is included in the lab 4 folder."
   ]
  }
 ],
 "metadata": {
  "anaconda-cloud": {},
  "kernelspec": {
   "display_name": "Python 3",
   "language": "python",
   "name": "python3"
  },
  "language_info": {
   "codemirror_mode": {
    "name": "ipython",
    "version": 3
   },
   "file_extension": ".py",
   "mimetype": "text/x-python",
   "name": "python",
   "nbconvert_exporter": "python",
   "pygments_lexer": "ipython3",
   "version": "3.6.13"
  },
  "latex_envs": {
   "LaTeX_envs_menu_present": true,
   "autoclose": true,
   "autocomplete": true,
   "bibliofile": "biblio.bib",
   "cite_by": "apalike",
   "current_citInitial": 1,
   "eqLabelWithNumbers": true,
   "eqNumInitial": 1,
   "hotkeys": {
    "equation": "Ctrl-E",
    "itemize": "Ctrl-I"
   },
   "labels_anchors": false,
   "latex_user_defs": false,
   "report_style_numbering": true,
   "user_envs_cfg": false
  },
  "nbTranslate": {
   "displayLangs": [
    "*"
   ],
   "hotkey": "alt-t",
   "langInMainMenu": true,
   "sourceLang": "en",
   "targetLang": "fr",
   "useGoogleTranslate": true
  },
  "toc": {
   "base_numbering": 1,
   "nav_menu": {},
   "number_sections": true,
   "sideBar": true,
   "skip_h1_title": false,
   "title_cell": "Table of Contents",
   "title_sidebar": "Contents",
   "toc_cell": false,
   "toc_position": {},
   "toc_section_display": true,
   "toc_window_display": false
  },
  "varInspector": {
   "cols": {
    "lenName": 16,
    "lenType": 16,
    "lenVar": 40
   },
   "kernels_config": {
    "python": {
     "delete_cmd_postfix": "",
     "delete_cmd_prefix": "del ",
     "library": "var_list.py",
     "varRefreshCmd": "print(var_dic_list())"
    },
    "r": {
     "delete_cmd_postfix": ") ",
     "delete_cmd_prefix": "rm(",
     "library": "var_list.r",
     "varRefreshCmd": "cat(var_dic_list()) "
    }
   },
   "types_to_exclude": [
    "module",
    "function",
    "builtin_function_or_method",
    "instance",
    "_Feature"
   ],
   "window_display": false
  }
 },
 "nbformat": 4,
 "nbformat_minor": 1
}
