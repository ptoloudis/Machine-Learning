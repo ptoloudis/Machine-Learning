{
 "cells": [
  {
   "cell_type": "markdown",
   "metadata": {},
   "source": [
    "# Linear Regression Models"
   ]
  },
  {
   "cell_type": "markdown",
   "metadata": {},
   "source": [
    "\n",
    "_\"There are three kinds of lies: lies, damned lies and statistics.\"_\n",
    "\n",
    "    -- Mark Twain\n",
    "    \n",
    "_\"Statistics is the art of lying by means of figures.\"_\n",
    "\n",
    "    -- Dr. Wilhelm Stekhel\n",
    "   \n",
    "Among the statistical models used by analysts, regression models are the most common. A regression model allows one to estimate or predict a random variable as a function of several other variables. The estimated variable is called the __response variable, dependent variable__, and the variables used to predict the response are called __predictor variables, predictors, factors, independent variables, features__. Regression analysis assumes that all __predictor variables are quantitative__ so that arithmetic operations such as addition and multiplication are meaningful.    \n",
    "\n",
    "### Terminology\n",
    "\n",
    "* Response or dependent Variable: Estimated variable\n",
    "* Predictor Variables: Variables used to predict the response\n",
    "    Also called predictors or factors or features or independent variables\n",
    "* Regression Model: Predict a response for a given set of predictor variables\n",
    "* Linear Regression Models: Response is a linear function of predictors\n",
    "* Simple Linear Regression Models: Only one predictor\n",
    "* Miltiple Linear Regression Models: Several predictor variables\n",
    "```"
   ]
  },
  {
   "cell_type": "markdown",
   "metadata": {},
   "source": [
    "###  Linear Regression Model\n",
    "\n",
    "Given $ n $ observation pairs $$ \\{ (x_1, y_1), \\ldots, (x_n, y_n) \\}$$, the estimated response for the i-th observation is $$ \\widehat{y}_i = b_0 + b_1 x_i $$ where the __regression parameters__ $ b_0 $ and $ b_1 $ are chosen that minimizes the __sum of squares of the errors (SSE)__ at the given data (observations).\n",
    "\n",
    "Formally, the model has the form $$ \\widehat{y} = b_0 + b_1 x $$ where, $ \\widehat{y} $ is the predicted response when the predictor variable is $ x $.\n",
    "\n",
    "The error is $$ e_i = y_i - \\widehat{y}_i $$ and $$ SSE = \\sum\\limits_{i=1}^{n} e_i^2 = \\sum\\limits_{i=1}^{n}(y_i - b_0 - b_1 x_i)^2 $$.\n",
    "\n",
    "The best linear model minimizes the sum of squared errors (__SSE__), subject to the constrained that the overall mean error is zero: $$\\sum\\limits_{i=1}^{n} e_i = \\sum\\limits_{i=1}^{n}(y_i - b_0 - b_1 x_i) = 0 $$.\n",
    ">It can be shown that this constrained minimization problem is equivalent >to minimizing the _variance_ of errors."
   ]
  },
  {
   "cell_type": "markdown",
   "metadata": {},
   "source": [
    "###  Derivation of regression parameters\n",
    "\n",
    "The error in the ith observation is:\n",
    " $$e_i = y_i -  \\widehat{y} = y_i - (b_0 + b_1x_i)$$\n",
    " \n",
    "For a sample of $n$ observations, the mean error is:  $$ \\overline{e}  =  \\overline{y}  - b_0 - b_1 \\overline{x} $$\n",
    "\n",
    "Setting the mean error to zero, we obtain:  $$b_0 = \\overline{y}  -  b_1 \\overline{x}$$  and  $$e_i = y_i-\\widehat{y} = (y_i-\\overline{y})-b_1(x_i -\\overline{x})$$\n",
    "\n",
    "For a sample of $n$ observations the mean error is : $$\\overline{e}  = \\frac{1}{n} \\sum e_i=\\overline{y}-b_0-b_1\\overline{x}$$\n",
    "\n",
    "The sum of squared errors $SSE$ is:\n",
    "\n",
    "\n",
    "\\begin{aligned} \\operatorname{SSE} &=\\sum_{i=1}^{n} e^{2} \\\\ &=\\sum_{i=1}^{n}\\left[\\left(y_{i}-\\bar{y}\\right)^{2}-2 b_{1}\\left(y_{i}-\\bar{y}\\right)\\left(x_{i}-\\bar{x}\\right)+b_{i}^{2}\\left(x_{i}-\\bar{x}\\right)^{2}\\right] \\end{aligned}\n",
    "\n",
    "\n",
    "\n",
    "$$ \\frac{SSE}{n-1}= \\frac{1}{n-1}\\sum (y_{i} - \\overline{y})^{2}-\\frac{2}{n-1}\\sum (y_{i} - \\overline{y})b_{1}(x_{i}-\\overline{x})+b_{1}^{2}\\frac{1}{n-1}\\sum(x_{i}-\\overline{x})^{2}= s_{y}^{2}-2b_{1}s_{xy}^{2}+b_{1}s_{x}^{2}$$\n",
    "\n",
    "$$\\frac{d}{db_{1}}(SSE)= -2s_{xy}^{2}+2b_{1}s_{x}^{2}=0$$\n",
    "\n",
    "$$\n",
    "b_{1}=\\frac{s_{x y}^{2}}{s_{x}^{2}}=\\frac{\\Sigma x y-n \\bar{x} \\bar{y}}{\\Sigma x^{2}-n(\\bar{x})^{2}}\n",
    "$$\n",
    "\n"
   ]
  },
  {
   "cell_type": "markdown",
   "metadata": {},
   "source": [
    "###  Estimation of model parameters\n",
    "\n",
    "Regression parameters that give minimum error variance are:\n",
    "\n",
    "$$\n",
    "b_{1}=\\frac{s_{x y}^{2}}{s_{x}^{2}}=\\frac{\\Sigma x y-n \\bar{x} \\bar{y}}{\\Sigma x^{2}-n(\\bar{x})^{2}}\n",
    "$$, \n",
    "\n",
    "$$b_0 = \\bar{y}-b_1\\bar{x} $$\n",
    "\n",
    "where $\\bar{x} = \\frac{1}{n}\\sum_{i=1}^{n}x_i,\\bar{y} = \\frac{1}{n}\\sum_{i=1}^{n}y_i,\\sum {xy} = \\sum_{i=1}^{n}x_iy_i,\\sum {x^{2}} = \\sum_{i=1}^{n}x_i^{2} $"
   ]
  },
  {
   "cell_type": "markdown",
   "metadata": {},
   "source": [
    "### Example 1\n",
    "The number of disk I/O’s and processor times of seven programs were measured as {(14, 2), (16, 5), (27, 7 (42, 9), (39, 10), (50, 13), (83, 20)}. Develop a linear regression model to predict CPU time as  a function of disk I/O’s."
   ]
  },
  {
   "cell_type": "code",
   "execution_count": 82,
   "metadata": {},
   "outputs": [],
   "source": [
    "# library imports\n",
    "\n",
    "import math\n",
    "import matplotlib.pyplot as plt\n",
    "import numpy as np\n",
    "import pandas as pd\n",
    "import seaborn as sns\n",
    "import statsmodels.api as sm\n",
    "import statsmodels.formula.api as smf\n",
    "import statsmodels.stats.api as sms\n",
    "\n",
    "from scipy import stats"
   ]
  },
  {
   "cell_type": "code",
   "execution_count": 83,
   "metadata": {},
   "outputs": [
    {
     "name": "stdout",
     "output_type": "stream",
     "text": [
      "['Disk I/Os', 'CPU Time']\n"
     ]
    },
    {
     "data": {
      "text/html": [
       "<div>\n",
       "<style scoped>\n",
       "    .dataframe tbody tr th:only-of-type {\n",
       "        vertical-align: middle;\n",
       "    }\n",
       "\n",
       "    .dataframe tbody tr th {\n",
       "        vertical-align: top;\n",
       "    }\n",
       "\n",
       "    .dataframe thead th {\n",
       "        text-align: right;\n",
       "    }\n",
       "</style>\n",
       "<table border=\"1\" class=\"dataframe\">\n",
       "  <thead>\n",
       "    <tr style=\"text-align: right;\">\n",
       "      <th></th>\n",
       "      <th>Disk_IOs</th>\n",
       "      <th>CPU_Time</th>\n",
       "    </tr>\n",
       "  </thead>\n",
       "  <tbody>\n",
       "    <tr>\n",
       "      <th>1</th>\n",
       "      <td>14</td>\n",
       "      <td>2</td>\n",
       "    </tr>\n",
       "    <tr>\n",
       "      <th>2</th>\n",
       "      <td>16</td>\n",
       "      <td>5</td>\n",
       "    </tr>\n",
       "    <tr>\n",
       "      <th>3</th>\n",
       "      <td>27</td>\n",
       "      <td>7</td>\n",
       "    </tr>\n",
       "    <tr>\n",
       "      <th>4</th>\n",
       "      <td>42</td>\n",
       "      <td>9</td>\n",
       "    </tr>\n",
       "    <tr>\n",
       "      <th>5</th>\n",
       "      <td>39</td>\n",
       "      <td>10</td>\n",
       "    </tr>\n",
       "    <tr>\n",
       "      <th>6</th>\n",
       "      <td>50</td>\n",
       "      <td>13</td>\n",
       "    </tr>\n",
       "    <tr>\n",
       "      <th>7</th>\n",
       "      <td>83</td>\n",
       "      <td>20</td>\n",
       "    </tr>\n",
       "  </tbody>\n",
       "</table>\n",
       "</div>"
      ],
      "text/plain": [
       "   Disk_IOs  CPU_Time\n",
       "1        14         2\n",
       "2        16         5\n",
       "3        27         7\n",
       "4        42         9\n",
       "5        39        10\n",
       "6        50        13\n",
       "7        83        20"
      ]
     },
     "execution_count": 83,
     "metadata": {},
     "output_type": "execute_result"
    }
   ],
   "source": [
    "df = pd.read_csv('example_1.txt', delimiter='\\t', index_col=0)\n",
    "print(list(df.columns))\n",
    "df.columns = ['Disk_IOs','CPU_Time']\n",
    "df"
   ]
  },
  {
   "cell_type": "markdown",
   "metadata": {},
   "source": [
    "### Solving the least squares problem by hand"
   ]
  },
  {
   "cell_type": "code",
   "execution_count": 84,
   "metadata": {},
   "outputs": [
    {
     "name": "stdout",
     "output_type": "stream",
     "text": [
      "SXY =  3375 SX= 271 SXX =  13855 SY= 66 SYY =  828 X mean =  38.714285714285715 Y mean =  9.428571428571429\n"
     ]
    }
   ],
   "source": [
    "n = 7\n",
    "SXY = sum(df.Disk_IOs * df.CPU_Time)\n",
    "SX = sum(df.Disk_IOs)\n",
    "SYY = sum(df.CPU_Time * df.CPU_Time)\n",
    "SY = sum(df.CPU_Time)\n",
    "SXX = sum(df.Disk_IOs * df.Disk_IOs)\n",
    "X_mean = np.mean(df.Disk_IOs)\n",
    "Y_mean = np.mean(df.CPU_Time)\n",
    "print (\"SXY = \", SXY, \"SX=\", SX, \"SXX = \", SXX,\"SY=\",SY, \"SYY = \", SYY, \"X mean = \", X_mean, \"Y mean = \", Y_mean)"
   ]
  },
  {
   "cell_type": "markdown",
   "metadata": {},
   "source": [
    "The desired linear model is\n",
    "\n",
    "  CPU time = –0.0083 + 0.2438(number of disk I/O’s) \n",
    "  \n",
    "$b_{1}=\\frac{\\Sigma x y-n \\overline{x y}}{\\Sigma x^{2}-n(\\bar{x})^{2}}=\\frac{3375-7 \\times 38.71 \\times 9.43}{13,855-7 \\times(38.71)^{2}}=0.2438$\n",
    "\n",
    "$b_{0}=\\bar{y}-b_{1} \\bar{x}=9.43-0.2438 \\times 38.71=-0.0083$\n"
   ]
  },
  {
   "cell_type": "code",
   "execution_count": 85,
   "metadata": {},
   "outputs": [
    {
     "name": "stdout",
     "output_type": "stream",
     "text": [
      "f(t) = -0.008282 + 0.243756 * t\n"
     ]
    }
   ],
   "source": [
    "b_1= slope = (SXY-n*X_mean*Y_mean)/(SXX-n*(X_mean)**2)\n",
    "X = df.Disk_IOs\n",
    "b_0=intercept = Y_mean - slope*X_mean\n",
    "Y = intercept + slope * X\n",
    "print(\"f(t) = %f + %f * t\" % (intercept, slope))"
   ]
  },
  {
   "cell_type": "code",
   "execution_count": 86,
   "metadata": {},
   "outputs": [
    {
     "data": {
      "image/png": "[encoded data removed]",
      "text/plain": [
       "<Figure size 640x480 with 1 Axes>"
      ]
     },
     "metadata": {},
     "output_type": "display_data"
    }
   ],
   "source": [
    "\n",
    "plt.plot(df.Disk_IOs, df.CPU_Time, 'o')\n",
    "plt.plot(X, Y, color='red')\n",
    "plt.margins(0.005)\n",
    "plt.title(\"Disk I/Os vs CPU Time\", weight='bold')\n",
    "plt.xlabel(\"Disk I/Os\")\n",
    "plt.ylabel(\"CPU Time\")\n",
    "plt.show()"
   ]
  },
  {
   "cell_type": "markdown",
   "metadata": {},
   "source": [
    "### Error Computation for Disk I/O’s and CPU Time Data "
   ]
  },
  {
   "cell_type": "code",
   "execution_count": 87,
   "metadata": {},
   "outputs": [
    {
     "name": "stdout",
     "output_type": "stream",
     "text": [
      "   Disk_IOs  CPU_Time   Estimate     Error  Error ^2\n",
      "1        14         2   3.404307 -1.404307  1.972078\n",
      "2        16         5   3.891820  1.108180  1.228064\n",
      "3        27         7   6.573140  0.426860  0.182210\n",
      "4        42         9  10.229485 -1.229485  1.511634\n",
      "5        39        10   9.498216  0.501784  0.251787\n",
      "6        50        13  12.179536  0.820464  0.673161\n",
      "7        83        20  20.223496 -0.223496  0.049951\n"
     ]
    }
   ],
   "source": [
    "#Estimate\n",
    "predictedValues= intercept + slope * X\n",
    "df['Estimate'] = predictedValues\n",
    "\n",
    "#Error\n",
    "e = df.CPU_Time-predictedValues\n",
    "df['Error'] = e\n",
    "\n",
    "#Error^2\n",
    "e_2 = e**2\n",
    "df['Error ^2'] = e_2\n",
    "print(df)"
   ]
  },
  {
   "cell_type": "code",
   "execution_count": 88,
   "metadata": {},
   "outputs": [
    {
     "data": {
      "text/plain": [
       "5.868883792048928"
      ]
     },
     "execution_count": 88,
     "metadata": {},
     "output_type": "execute_result"
    }
   ],
   "source": [
    "SSE = sum(e_2)\n",
    "SSE"
   ]
  },
  {
   "cell_type": "markdown",
   "metadata": {},
   "source": [
    "In the above Table, we have listed the CPU time predicted by the model, the measured values, errors, and squared errors for each of the seven observations. The SSE is 5.869. This is the minimum possible SSE. Any other values of $b_0$ and $b_1$ would give a higher SSE."
   ]
  },
  {
   "cell_type": "markdown",
   "metadata": {},
   "source": [
    "###   Allocation of variation\n",
    "\n",
    "**Error variance from the sample mean = Variance of the response from the mean value of the observation**\n",
    "\n",
    "**The purpose of a model is to be able to predict the response with minimum variability.** Without a regression model, one can use the mean response as the predicted value for all values of the predictor variables. The errors in this case would be larger than those with the regression model. In fact, in this case, the error variance would be equal to the variance of the response, since \n",
    "\n",
    "$$Error= \\varepsilon_{i}= \\text{ Observed Response - mean value of Predicted Response} =y_{i}- \\overline{y}$$\n",
    "\n",
    "$$\\text{Variance of Errors from the sample mean} =\\frac{1}{n-1}\\sum_{i=1}^{n}\\epsilon_{i}^{2}=\n",
    " \\frac{1}{n-1}\\sum_{i=1}^{n}(y_{i}- \\overline{y})^{2}=$$ variance of $y$.\n",
    " \n",
    " \n",
    "\n",
    "Note that the standard error of the model is not the square root of the average value of the squared errors within the historical sample of data. Rather, the sum of squared errors is divided by $n-1$ rather than $n$ under the square root sign because this adjusts for the fact that $a$ \"degree of freedom for error\" has been used up by estimating one model parameter (namely the mean) from the sample of $n$ data points.\n",
    "\n",
    "The sum of squared errors from the sample mean $SST= \\sum_{i=1}^{n}(y_{i}-\\overline{y})^{2}$ is called __total sum of squares__.  \n",
    "It is a measure of $y$’s variability and is called variation of $y$. $SST$ can be\n",
    "computed as follows:\n",
    "\n",
    "$SST= \\sum_{i=1}^{n}(y_{i}-\\overline{y})^{2}=(\\sum_{i=1}^{n}(y_{i}^{2})-n\\overline{y}^{2}=\n",
    "SSY-SS0$ \n",
    "\n",
    "Where, $SSY$ is the sum of squares of $y$ and SS0 is the sum of squares of $\\overline{y}$ and is equal to $n\\overline{y}^{2}$\n",
    "The difference between $SST$ ans $SSE$ is the sum of squares explained by the\n",
    "regression.\n",
    "\n",
    "It is called $SSR$: $SSR = SST - SSE$ or  $SST = SSR + SSE$\n",
    "\n",
    "The fraction of the variation that is explained by the regression line determines the goodness of the regression and it is called the coecient of determination, $$R^{2}= \\frac{SSR}{SST}= \\frac{SST-SSE}{SST}=1-\\frac{SSE}{SST}$$. \n",
    "\n",
    "The higher the value of  $R^{2}$ the better the regression  $$R^{2}= 1 \\rightarrow \\text{Perfect fit}$$   $$R^{2}= 0 \\rightarrow \\text{No fit}$$\n",
    "\n",
    "Shortcut formula for $SSE$:   $SSE= \\sum(y^{2})-b_{0}\\sum(y)-b_{1}\\sum(xy)$\n",
    "\n",
    "<img src=\"images/Project2--007.png\">\n",
    "\n",
    "The goodness of a regression is measured by $R^2$. The higher the value of R2, the better the regression. If the regression model is perfect in the sense that all observed values are equal to those predicted by the model, that is, all errors are zero, SSE is zero and the coefficient of determination is 1. On the other hand, if the regression model is so bad that it does not reduce the error variance at all, SSE is equal to SST and the coefficient of determination is zero.\n",
    "\n",
    "The coefficient of determination is denoted by $R^2$ because it is also the square of the sample correlation $R_{xy}$ between the two variables:\n",
    "\n",
    "$$\n",
    "\\text { Sample correlation }(x, y)=R_{\\mathrm{xy}}=\\frac{S_{xy}^2}{S_xS_y}\n",
    "$$\n",
    "\n",
    "In computing $R^2$, it is helpful to compute SSE using the following shortcut formula:\n",
    "\n",
    "\n",
    "$$\n",
    "\\mathrm{SSE}=SYY-b_{0} SY-b_{1} SXY\n",
    "$$\n",
    "\n",
    "For the disk I/O-CPU time data of Example  the coefficient of determination can be computed as follows:\n",
    "\n",
    "\n"
   ]
  },
  {
   "cell_type": "code",
   "execution_count": 89,
   "metadata": {},
   "outputs": [
    {
     "data": {
      "text/plain": [
       "0.9714707037886506"
      ]
     },
     "execution_count": 89,
     "metadata": {},
     "output_type": "execute_result"
    }
   ],
   "source": [
    "SSE = SYY-b_0*SY-b_1*SXY\n",
    "SST = SYY - n*(Y_mean)**2\n",
    "SSR = SST - SSE\n",
    "RR = SSR/SST\n",
    "RR"
   ]
  },
  {
   "cell_type": "markdown",
   "metadata": {},
   "source": [
    "Thus, the regression explains 97% of CPU time’s variation.\n",
    "\n"
   ]
  },
  {
   "cell_type": "markdown",
   "metadata": {},
   "source": [
    "# Introduction to Statistics\n",
    "\n",
    "__Application__ - Measuring the performance of a computer system\n",
    "\n",
    "\\begin{enumerate}\n",
    "\\item How should you report the performance as a single number?\n",
    "\\item Is specifying the mean the correct way to summarize a sequence of measurements? \n",
    "\\item How should you report the variability of measured quantities? \n",
    "\\item What are the alternatives to variance and when are they appropriate? \n",
    "\\item How should you interpret the variability? \n",
    "\\item How much confidence can you put on data with a large variability? \n",
    "\\item  How many measurements are required to get a desired level of statistical confidence? \n",
    "\\item How should you summarize the results of several different workloads on a single computer system? \n",
    "\\item How should you compare two or more computer systems using several different workloads? \n",
    "\\item Is comparing the mean performance sufficient? \n",
    "\\item What model best describes the relationship between two variables? Also, how good is the model? \n",
    "\\end{enumerate}\n"
   ]
  },
  {
   "cell_type": "markdown",
   "metadata": {},
   "source": [
    "### Statistical Concepts\n",
    "\n",
    "1.  __Independent Events__: Two events are called independent if the occurrence of one event does not in any way affect the probability of the other event. Thus, knowing that one event has occurred does not in any way change our estimate of the probability of the other event. \n",
    "2.  __Random Variable__: A variable is called a random variable if it takes one of a specified set of values with a specified probability. \n",
    "3.  __Cumulative Distribution Function__: The Cumulative Distribution Function (CDF) of a random variable maps a given value $a$ to the probability of the variable taking a value less than or equal to $a$: \n",
    "$$F_x(a) = P(x \\leq a)$$ \n",
    "\n",
    "4.  __Probability Density Function__: The derivative  \n",
    "$$\n",
    "f(x)=\\frac{dF(x)}{dx}\n",
    "$$\n",
    "of the CDF $F(x)$ is called the probability density function (pdf) of $x$. Given a pdf $f(x)$, the probability of $x$ being in the interval $(x_1, x_2)$ can also be computed by integration: \n",
    "\n",
    "$$\n",
    "P\\left(x_{1}<x \\leq x_{2}\\right)=F\\left(x_{2}\\right)-F\\left(x_{1}\\right)=\\int_{x_{1}}^{x_{2}} f(x) d x\n",
    "$$\n",
    "\n",
    "\n",
    "5.  __Probability Mass Function__: For discrete random variable, the CDF is not continuous and, therefore, not differentiable. In such cases, the probability mass function (pmf) is used in place of pdf. Consider a discrete random variable $x$ that can take $n$ distinct values ${x_1, x_2, \\ldots, x_n}$ with probabilities ${p_1, p_2, \\ldots, p_n}$ such that the probability of the ith value $x_i$ is $p_i$. The pmf maps $x_i$ to $p_i$: \n",
    "$$f(x_i)=p_i$$.\n",
    "The probability of $x$ being in the interval $(x_1, x_2)$ can also be computed by summation: \n",
    "\n",
    "$$\n",
    "P\\left(x_{1}<x \\leq x_{2}\\right)=F\\left(x_{2}\\right)-F\\left(x_{1}\\right)=\\sum_{i \\atop x_{1}<x_{i} \\leq x_{2}} p_{i}\n",
    "$$\n",
    "\n",
    "6.  __Mean or Expected Value__: \n",
    "\n",
    "$$\n",
    "\\operatorname{Mean} \\mu=E(x)=\\sum_{i=1}^{n} p_{i} x_{i}=\\int_{-\\infty}^{+\\infty} xf(x)dx\n",
    "$$\n",
    "Summation is used for discrete and integration for continuous variables, respectively. \n",
    "\n",
    "7.  __Variance__: The quantity $(x – \\mu)^2$ represents the square of distance between $x$ and its mean. The expected value of this quantity is called the variance $x$: \n",
    "\n",
    "$$\n",
    "\\operatorname{Var}(x)=E\\left[(x-\\mu)^{2}\\right]=\\sum_{i=1}^{n} p_{i}\\left(x_{i}-\\mu\\right)^{2}=\\int_{-\\infty}^{+\\infty}\\left(x_{i}-\\mu\\right)^{2}f(x)dx\n",
    "$$\n",
    "\n",
    "\n",
    "The variance is traditionally denoted by $\\sigma^2$. The square root of the variance is called the standard deviation and is denoted by $\\sigma$. \n",
    "\n",
    "\n",
    "8.  __Coefficient of Variation__: The ratio of the standard deviation to the mean is called the Coefficient of Variation (C.O.V.): \n",
    "\n",
    "$$\n",
    "\\text { C.O.V. }=\\frac{\\text { standard deviation }}{\\text { mean }}=\\frac{\\sigma}{\\mu}\n",
    "$$\n",
    "\n",
    "\n",
    "9.  __Covariance__: Given two random variables $x$ and $y$ with means $\\mu_x$ and $\\mu_y$, their covariance is \n",
    "\n",
    "$$\n",
    "\\operatorname{Cov}(x, y)=\\sigma_{x y}^{2}=E\\left[\\left(x-\\mu_{x}\\right)\\left(y-\\mu_{y}\\right)\\right]=E(x y)-E(x) E(y)\n",
    "$$\n",
    "\n",
    "\n",
    "For independent variables, the covariance is zero since \n",
    "$$E(xy) = E(x)E(y)$$  \n",
    "\n",
    "\n",
    "Although independence always implies zero covariance, the reverse is not true. It is possible for two variables to be dependent and still have zero covariance. \n",
    "\n",
    "10.  __Correlation Coefficient__: The normalized value of covariance is called the correlation coefficient or simply the correlation \n",
    "\n",
    "$$\n",
    "\\text { Correlation }(x, y)=\\rho_{x y}=\\frac{\\sigma_{x y}^{2}}{\\sigma_{x} \\sigma_{y}}\n",
    "$$\n",
    "\n",
    "The correlation always lies between -1 and +1. \n",
    "\n",
    "11.  __Mean and Variance of Sums__: If $x_1, x_2, \\ldots, x_k$ are $k$ random variables and if $a_1, a_2, \\ldots, a_k$ are $k$ arbitrary constants (called weights), then \n",
    "\n",
    "\n",
    "\\begin{array}{c}{E\\left(a_{1} x_{1}+a_{2} x_{2}+\\ldots+a_{k} x_{k}\\right)=a_{1} E\\left(x_{1}\\right)+} \\\\ {a_{2} E\\left(x_{2}\\right)+\\ldots+a_{k} E\\left(x_{k}\\right)}\\end{array}\n",
    "\n",
    "\n",
    "\n",
    "For independent variables, \n",
    "\n",
    "\n",
    "\\begin{array}{l}{\\operatorname{Var}\\left(a_{1} x_{1}+a_{2} x_{2}+\\ldots+a_{k} x_{k}\\right)=a^{2} \\operatorname{Var}\\left(x_{1}\\right)} \\\\ {\\quad+a_{2}^{2} \\operatorname{Var}\\left(x_{2}\\right)+\\ldots+a_{k}^{2} \\operatorname{Var}\\left(x_{k}\\right)}\\end{array}\n",
    "\n",
    "\n",
    "12.  __Quantile__: The x value at which the CDF takes a value $α$ is called the $\\alpha$-quantile or 100$\\ alpha$-percentile. It is denoted by $x_\\alpha$ and is such that the probability of $x$ being less than or equal to $x_\\alpha$ is $\\alpha$: \n",
    "\n",
    "$$\n",
    "P\\left(x \\leq x_{\\alpha}\\right)=F\\left(x_{\\alpha}\\right)=\\alpha\n",
    "$$\n",
    "\n",
    "\n",
    "13.  __Median__: The 50-percentile (or 0.5-quantile) of a random variable is called its median. \n",
    "\n",
    "14.  __Mode__: The most likely value, that is, $x_i$, that has the highest probability $p_i$, or the $x$ at which pdf is maximum, is called the mode of x. \n",
    "\n",
    "15.  __Normal Distribution__: This is the most commonly used distribution in data analysis. The sum of a large number of independent observations from any distribution has a normal distribution. Also known as Gaussian distribution, its pdf is given by \n",
    "\n",
    "$$\n",
    "f(x)=\\frac{1}{\\sigma \\sqrt{2 \\pi}} e^{-(x-\\mu)^{2} / 2 \\sigma^{2}}, \\quad-\\infty \\leq x \\leq+\\infty\n",
    "$$\n",
    "\n",
    "There are two parameters $\\mu$ and $\\sigma$, which are also the mean and standard deviations of x. A normal variate is denoted by $N(\\mu, \\sigma)$. A normal distribution with zero mean and unit variance is called a __unit normal__ or __standard normal distribution__ and is denoted as $N(0, 1)$. In statistical modeling, you will frequently need to use quantiles of the unit normal distribution. An $\\alpha$-quantile of a unit normal variate $z ~ N(0, 1)$ is denoted by $z_\\alpha$. If a random variable x has a $z \\sim N(\\mu, \\sigma)$ distribution, then $(x - \\mu)/\\sigma$ has a $N(0, 1)$ distribution. Thus,\n",
    "\n",
    "$$\n",
    "P\\left(\\frac{x-\\mu}{\\sigma} \\leq z_{\\alpha}\\right)=\\alpha\n",
    "$$\n",
    "\n",
    "or \n",
    "\n",
    "$$\n",
    "P\\left(x \\leq \\mu+z_{\\alpha} \\sigma\\right)=\\alpha\n",
    "$$\n",
    "\n",
    "The areas under the unit normal pdf between 0 and z for various values of z are listed in various tables in statistics books or following python function:\n",
    "\n",
    "    from math import *\n",
    "    def phi(x):\n",
    "        #'Cumulative distribution function for the standard normal distribution'\n",
    "        return (1.0 + erf(x / sqrt(2.0))) / 2.0\n",
    "\n",
    "There are two main reasons for the popularity of the normal distribution:\n",
    "\n",
    "(a)  The sum of n independent normal variates is a normal variate. If $x_i \\sim  N(\\mu_i, \\sigma_i)$, then $x=\\sum_{i=1}^{n} a_{i} x_{i}$ has a normal distribution with mean $\\mu=\\sum_{i=1}^{n} a_{i} \\mu_{i}$ and variance $\\sigma^{2}=\\sum_{i=1}^{n} a^{2} \\sigma_{i}^{2}$ . As a result of this linearity property, normal processes remain normal after passing through linear systems, which are popular in electrical engineering.\n",
    "(b)  The sum of a large number of independent observations from any distribution tends to have a normal distribution. This result, which is called the __central limit theorem__, is true for observations from all distributions. As a result of this property, experimental errors, which are contributed by many factors, are modeled with a normal distribution. "
   ]
  },
  {
   "cell_type": "markdown",
   "metadata": {},
   "source": [
    "### Expected Value of a Random Variable\n",
    "\n",
    "Let $X$ be a random variable with a finite number of finite outcomes $${\\displaystyle x_{1},x_{2},\\ldots ,x_{k}}$$ occurring with probabilities $${\\displaystyle p_{1},p_{2},\\ldots ,p_{k},}$$ respectively. The expectation of $X$ is defined as\n",
    "\n",
    "$$\n",
    "\\mathrm{E}[X]=\\sum_{i=1}^{k} x_{i} p_{i}=x_{1} p_{1}+x_{2} p_{2}+\\cdots+x_{k} p_{k}\n",
    "$$\n",
    "\n",
    "Since all probabilities $p_{i}$ add up to 1 $({\\displaystyle p_{1}+p_{2}+\\cdots +p_{k}=1})$, the expected value is the weighted average, with $p_{i}$’s being the weights.\n",
    "\n",
    "If all outcomes $x_{i}$ are equiprobable (that is, ${\\displaystyle p_{1}=p_{2}=\\cdots =p_{k}})$, then the weighted average turns into the simple average. If the outcomes $x_{i}$ are not equiprobable, then the simple average must be replaced with the weighted average, which takes into account the fact that some outcomes are more likely than the others.\n",
    "\n",
    "### Variation and Standard Deviation of a Random Variable\n",
    "\n",
    "\n",
    "The formula for the sample standard deviation is\n",
    "\n",
    "$$\n",
    "s=\\sqrt{\\frac{1}{N-1} \\sum_{i=1}^{N}\\left(x_{i}-\\bar{x}\\right)^{2}}\n",
    "$$\n",
    "\n",
    "where ${\\displaystyle \\textstyle \\{x_{1},\\,x_{2},\\,\\ldots ,\\,x_{N}\\}}$ are the observed values of the sample items, $\\textstyle {\\bar {x}}$ is the mean value of these observations, and $N$ is the number of observations in the sample."
   ]
  },
  {
   "cell_type": "markdown",
   "metadata": {},
   "source": [
    "There are two parameters $\\mu$ and $\\sigma$, which are also the mean and standard deviations of $x$. A normal variate is denoted by $N(\\mu, \\sigma)$. A normal distribution with zero mean and unit variance is called a unit normal or standard normal distribution and is denoted as $N(O, 1)$. In statistical modeling, you will frequently need to use quantiles of the unit normal distribution. An $\\alpha$-quantile of a unit normal variate $z ~ N(0, 1)$ is denoted by $z_\\alpha$. If a random variable $x$ has a $N(\\mu, \\sigma)$ distribution, then $(x – \\mu)/\\sigma$ has a $N(0, 1)$ distribution. Thus,\n",
    "\n",
    "\n",
    "$$\n",
    "P\\left(\\frac{x-\\mu}{\\sigma} \\leq z_{\\alpha}\\right)=\\alpha\n",
    "$$\n",
    "\n",
    "or \n",
    "\n",
    "$$\n",
    "P\\left(x \\leq \\mu+z_{\\alpha} \\sigma\\right)=\\alpha\n",
    "$$\n",
    "\n",
    "\n",
    "The areas under the unit normal pdf between 0 and z for various values of z can be found from appropriate tables or computed by appropriate functions. \n",
    "\n"
   ]
  },
  {
   "cell_type": "code",
   "execution_count": 90,
   "metadata": {},
   "outputs": [
    {
     "data": {
      "image/png": "[encoded data removed]",
      "text/plain": [
       "<Figure size 640x480 with 1 Axes>"
      ]
     },
     "metadata": {},
     "output_type": "display_data"
    }
   ],
   "source": [
    "#Examples\n",
    "\n",
    "#Draw samples from the distribution:\n",
    "\n",
    "\n",
    "mu, sigma = 0, 0.1 # mean and standard deviation\n",
    "s = np.random.normal(mu, sigma, 1000)\n",
    "#Verify the mean and the variance:\n",
    "\n",
    "\n",
    "abs(mu - np.mean(s)) < 0.01\n",
    "\n",
    "\n",
    "abs(sigma - np.std(s, ddof=1)) < 0.01\n",
    "\n",
    "#Display the histogram of the samples, along with the probability density function:\n",
    "\n",
    "\n",
    "import matplotlib.pyplot as plt\n",
    "count, bins, ignored = plt.hist(s, 30, density=True)\n",
    "plt.plot(bins, 1/(sigma * np.sqrt(2 * np.pi)) *\n",
    "               np.exp( - (bins - mu)**2 / (2 * sigma**2) ),\n",
    "         linewidth=2, color='r')\n",
    "plt.show()\n"
   ]
  },
  {
   "cell_type": "markdown",
   "metadata": {},
   "source": [
    "There are two main reasons for the popularity of the normal distribution:\n",
    "\n",
    "(a)  The sum of $n$ independent normal variates is a normal variate. If $x_i \\approx N(\\mu_i, \\sigma_i)$, then $x=\\sum_{i=1}^{n} a_{i} x_{i}$ has a normal distribution with mean $\\mu=\\sum_{i=1}^{n} a_{i} \\mu_{i}$ and variance $\\sigma^{2}=\\sum_{i=1}^{n} a_{i}^{2} \\sigma_{i}^{2}$. As a result of this linearity property, normal processes remain normal after passing through linear systems, which are popular in electrical engineering.\n",
    "(b)  The sum of a large number of independent observations from any distribution tends to have a normal distribution. This result, which is called the __central limit theorem__, is true for observations from all distributions. As a result of this property, experimental errors, which are contributed by many factors, are modeled with a normal distribution. \n"
   ]
  },
  {
   "cell_type": "markdown",
   "metadata": {},
   "source": [
    "### SUMMARIZING DATA BY A SINGLE NUMBER\n",
    "In the most condensed form, a single number may be presented that gives the key characteristic of the data set. This single number is usually called an __average__ of the data. To be meaningful, this average should be representative of a major part of the data set. Three popular alternatives to summarize a sample are to specify its __mean, median, or mode__. These measures are what statisticians call __indices of central tendencies__. The name is based on the fact that these measures specify the center of location of the distribution of the observations in the sample.\n",
    "\n",
    "__Sample mean__ is obtained by taking the sum of all observations and dividing this sum by the number of observations in the sample. __Sample median__ is obtained by sorting the observations in an increasing order and taking the observation that is in the middle of the series. If the number of observations is even, the mean of the middle two values is used as a median. __Sample mode__ is obtained by plotting a histogram and specifying the midpoint of the bucket where the histogram peaks. For categorical variables, mode is given by the category that occurs most frequently.\n",
    "\n",
    "The word __sample__ in the names of these indices signifies the fact that the values obtained are based on just one sample. However, if it is clear from the context that the discussion is about a single sample, and there is no ambiguity, the shorter names __mean, median, and mode__ can be used.\n",
    "\n",
    "Mean and median always exist and are unique. Given any set of observations, the mean and median can be determined. Mode, on the other hand, may not exist. An example of this would be if all observations were equal. In addition, even if modes exist, they may not be unique. There may be more than one mode, that is, there may be more than one local peak in the histogram.\n",
    "\n",
    "<img src=\"images/Figure12.1.png\">\n",
    "\n",
    "FIGURE 1  Five distributions showing relationships among mean, median, and mode.\n",
    "\n",
    "\n",
    "The three indices are generally different. Figure 1 shows five different pdf’s. Distribution (a) has a unimodal, symmetrical pdf. In this case, the mode exists with the mean, median, and mode being equal. Distribution (b) has a bimodal, symmetrical pdf. In this case, the mode is not unique. The median and mean are equal. Distribution (c) is a uniform density function. There is no mode and the mean and median are equal. Distribution (d) has a pdf skewed to the right (with a tail toward the right). For this distribution, the value of the mean is greater than the median, which in turn is greater than the mode. Finally, distribution (e) has a pdf skewed to the left; that is, it has a tail on the left. In this case, the mean is less than the median, which is less than the mode.\n",
    "\n",
    "The main problem with the mean is that it is affected more by outliers than the median or mode. A single outlier can make a considerable change in the mean. This is particularly true for small samples. Median and mode are resistant to several outlying observations.\n",
    "\n",
    "The mean gives equal weight to each observation and in this sense makes full use of the sample. Median and mode ignore a lot of the information.\n",
    "\n",
    "The mean has an additivity or linearity property in that the mean of a sum is a sum of the means. This does not apply to the mode or median."
   ]
  },
  {
   "cell_type": "markdown",
   "metadata": {},
   "source": [
    "### SELECTING AMONG THE MEAN, MEDIAN, AND MODE\n",
    "A common mistake inexperienced analysts make is to specify the wrong index of central tendency. For example, it is common to specify the mean regardless of its validity in a particular situation. \n",
    "\n",
    "The flow chart of Figure 12.2 shows a set of guidelines to select a proper index of central tendency. The first consideration is the type of variable. If the variable is categorical, the mode is the proper single measure that best describes that data. An example of categorical data is the type of microprocessor in various workstations. A statement such as “the most frequent microprocessor used in workstations is the 68000” makes sense. The mean or median of the type of processor is meaningless.\n",
    "\n",
    " \n",
    "\n",
    "\n",
    "The second consideration in selecting the index is to ask whether the total of all observations is of any interest. If yes, then the mean is a proper index of central tendency. For example, total CPU time for five queries is a meaningful number. On the other hand, if we count number of windows on the screen during each query, the total number of windows during five queries does not seem to be meaningful. If the total is of interest, specify the mean. \n",
    "\n",
    " <img src=\"images/Figure12.2.png\">\n",
    " \n",
    "FIGURE 2  Selecting among the mean, meadian, and mode.\n",
    "\n",
    "If the total is of no interest, one has to choose between median and mode. If the histogram is symmetrical and unimodal, the mean, median, and mode are all equal and it does not really matter which one is specified. \n",
    "\n",
    "If the histogram is skewed, the median is more representative of a typical observation than the mean. For example, the number of disk drives on engineering workstations is expected to have skewed distribution, and therefore, it is appropriate to specify the median number. One simple to way to determine skewness for small samples is to examine the ratio of the maximum and minimum, ymax/ymin, of the observations. If the ratio is large, the data is skewed.\n",
    "\n",
    "The following are examples of selections of indices of central tendencies:\n",
    "\n",
    "* Most Used Resource in a System: Resources are categorical and hence the mode must be used. \n",
    "*  Interarrival Time: Total time is of interest and so the mean is the proper choice. \n",
    "*  Load on a Computer: The median is preferable due to a highly skewed distribution. \n",
    "* Average Configuration: Medians of number devices, memory sizes, and number of processors are generally used to specify the configuration due to the skewness of the distribution. "
   ]
  },
  {
   "cell_type": "markdown",
   "metadata": {},
   "source": [
    "### SUMMARIZING VARIABILITY\n",
    "\n",
    "_Then there is the man who drowned crossing a stream with an average depth of six inches._\n",
    "\n",
    "— W. I. E. Gates\n",
    "\n",
    "Given a data set, summarizing it by a single number is rarely enough. It is important to include a statement about its variability in any summary of the data. This is because given two systems with the same mean performance, one would generally prefer one whose performance does not vary much from the mean. For example, Figure 3 shows histograms of the response times of two systems. Both have the same mean response time of 2 seconds. In case (a), the response time is always close to its mean value, while in case (b), the response time can be 1 millisecond sometimes and 1 minute at other times. Which system would you prefer? Most people would prefer the system with low variability. \n",
    "\n",
    "<img src=\"images/Figure12.3.png\">\n",
    "FIGURE 12.3  Histograms of response times of two systems.\n",
    "\n",
    "Variability is specified using one of the following measures, which are called indices of dispersion:\n",
    "\n",
    "*  Range — minimum and maximum of the values observed \n",
    "*  Variance or standard deviation \n",
    "*  10- and 90-percentiles \n",
    "*  Semi-interquantile range \n",
    "*  Mean absolute deviation \n",
    "\n",
    "\n",
    "The range of a stream of values can be easily calculated by keeping track of the minimum and the maximum. The variability is measured by the difference between the maximum and the minimum. The larger the difference, the higher the variability. In most cases, the range is not very useful. The minimum often comes out to be zero and the maximum comes out to be an “outlier” far from typical values. Unless there is a reason for the variable to be bounded between two values, the maximum goes on increasing with the number of observations, the minimum goes on decreasing with the number of observations, and there is no “stable” point that gives a good indication of the actual range. The conclusion is that the range is useful if and only if there is a reason to believe that the variable is bounded. The range gives the best estimate of these bounds.\n",
    "\n",
    "The variance of a sample of n observations ${x_1, x_2, \\dots, x_n}$ is calculated as follows:\n",
    "\n",
    "$$\n",
    "s^{2}=\\frac{1}{n-1} \\sum_{i=1}^{n}\\left(x_{i}-\\bar{x}\\right)^2 \\quad \\text { where } \\quad \\bar{x}=\\frac{1}{n} \\sum_{i=1}^{n} x_{i}\n",
    "$$\n",
    "\n",
    "The quantity $s^2$ is called the **sample variance** and its square root s is called the **sample standard deviation**. The word sample can be dropped if there is no ambiguity and it it is clear from the context that the quantities refer to just one sample. Notice that in computing the variance, the sum of squares  is divided by $n - 1$ and not n. This is because only $n - 1$ of the n differences  are independent. Given $n - 1$ differences, the nth difference can be computed since the sum of all $n$ differences must be zero. The number of independent terms in a sum is also called its *degrees of freedom*.\n",
    "\n",
    "\n",
    "\n",
    "\n"
   ]
  },
  {
   "cell_type": "markdown",
   "metadata": {},
   "source": [
    "In practice, the main problem with variance is that it is expressed in units that are the square of the units of the observations. For example, the variance of response time could be 4 seconds squared or 4,000,000 milliseconds squared. Changing the unit of measurement has a squared effect on the numerical magnitude of the variance. For this reason, it is preferable to use the standard deviation. It is in the same unit as the mean, which allows us to compare it with the mean. Thus, if the mean response time is 2 seconds and the standard deviation is 2 seconds, there is considerable variability. On the other hand, a standard deviation of 0.2 second for the same mean would be considered small. In fact, the ratio of standard deviation to the mean, or the coefficient of variation (C.O.V.), is even better because it takes the scale of measurement (unit of measurement) out of variability consideration. A C.O.V. of 5 is large, and a C.O.V. of 0.2 (or 20%) is small no matter what the unit is. \n",
    "\n",
    "Percentiles are also a popular means of specifying dispersion. Specifying the 5-percentile and the 95-percentile of a variable has the same impact as specifying its minimum and maximum. However, it can be done for any variable, even for variables without bounds. When expressed as a fraction between 0 and 1 (instead of a percentage), the percentiles are also called quantiles. Thus 0.9-quantile is the same as 90-percentile. \n",
    "\n",
    "Another term used is fractile, which is synonymous with quantile. The percentiles at multiples of 10% are called deciles. Thus, the first decile is 10-percentile, the second decile is 20-percentile, and so on. Quartiles divide the data into four parts at 25, 50, and 75%. Thus, 25% of the observations are less than or equal to the first quartile $Q_1$, 50% of the observations are less than or equal to the second quartile $Q_2$, and 75% are less than or equal to the third quartile $Q_3$. Notice that the second quartile $Q_2$ is also the median. The $\\alpha$-quantiles can be estimated by sorting the observations and taking the $[(n-1)\\alpha+1]$th element in the ordered set. Here, $[.]$ is used to denote rounding to the nearest integer. For quantities exactly halfway between two integers, use the lower integer.\n",
    "\n",
    "The range between $Q_3$ and $Q_1$ is called the interquartile range of the data. One half of this range is called Semi-Interquartile Range (SIQR), that is,\n",
    "\n",
    "$$\n",
    "\\operatorname{SIQR}=\\frac{Q_{3}-Q_{1}}{2}=\\frac{x_{0.75}-x_{0.25}}{2}\n",
    "$$\n",
    "\n",
    "Another measure of dispersion is the mean absolute deviation, which is calculated as follows:\n",
    "\n",
    "$$\n",
    "\\text { Mean absolute deviation }=\\frac{1}{n} \\sum_{i=1}^{n}\\left|x_{i}-x\\right|\n",
    "$$\n",
    "\n",
    "The key advantage of the mean absolute deviation over the standard deviation is that no multiplication or square root is required. \n",
    "\n",
    "Among the preceding indices of dispersion, the range is affected considerably by outliers. The sample variance is also affected by outliers, but the effect is less than that on the range. The mean absolute deviation is next in resistance to outliers. The semi-interquantile range is very resistant to outliers. It is preferred to the standard deviation for the same reasons that the median is preferred to the mean. Thus, if the distribution is highly skewed, outliers are highly likely and the SIQR is more representative of the spread in the data than the standard deviation. In general, the SIQR is used as an index of dispersion whenever the median is used as an index of central tendency.\n",
    "\n",
    "Finally, it should be mentioned that all of the preceding indices of dispersion apply only for quantitative data. For qualitative (categorical) data, the dispersion can be specified by giving the number of most frequent categories that comprise the given percentile, for instance, the top 90%.\n",
    "\n",
    "\\begin{example}\n",
    "In an experiment, which was repeated 32 times, the measured CPU time was found to be {3.1, 4.2, 2.8, 5.1, 2.8, 4.4, 5.6, 3.9, 3.9, 2.7, 4.1, 3.6, 3.1, 4.5, 3.8, 2.9, 3.4, 3.3, 2.8, 4.5, 4.9, 5.3, 1.9, 3.7, 3.2, 4.1, 5.1, 3.2, 3.9, 4.8, 5.9, 4.2}. The sorted set is {1.9, 2.7, 2.8, 2.8, 2.8, 2.9, 3.1, 3.1, 3.2 3.2, 3.3, 3.4, 3.6, 3.7, 3.8, 3.9, 3.9, 3.9, 4.1, 4.1, 4.2, 4.2, 4.4, 4.5, 4.5, 4.8, 4.9, 5.1, 5.1, 5.3, 5.6, 5.9}. Then \n",
    "\n",
    "    The 10-percentile is given by [1 + (31)(0.10)] = 4th element = 2.8. \n",
    "      \n",
    "    The 90-percentile is given by [1 + (31)(0.90)] = 29th element = 5.1.\n",
    "    \n",
    "    The first quartile $Q_1$ is given by [1 + (31)(0.25)] = 9th element = 3.2. \n",
    "    \n",
    "    The median $Q_2$ is given by [1 + (31)(0.50)] = 16th element = 3.9. \n",
    "    \n",
    "    The third quartile $Q_3$ is given by [1 + (31)(0.75)] = 24th element = 4.5. \n",
    "\\end{example}\n",
    "\n",
    "\n",
    "Thus, \n",
    "\n",
    "$$\n",
    "\\mathrm{SIOR}=\\frac{Q_{3}-Q_{1}}{2}=\\frac{4.5-3.2}{2}=0.65\n",
    "$$\n",
    "\n"
   ]
  },
  {
   "cell_type": "markdown",
   "metadata": {},
   "source": [
    "### Summarizing Observations \n",
    "Given: A sample ${x_1, x_2, \\dots, x_n}$ of n observations. \n",
    "1.  Sample arithmetic mean:  $\\bar{x}=\\frac{1}{n} \\sum_{i=1}^{n} x_{i}$\n",
    "2.  Sample geometric mean:  $\\dot{x}=\\left(\\prod_{i=1}^{n} x_{i}\\right)^{1 / n}$\n",
    "3.  Sample harmonic mean:  $x=\\frac{n}{\\frac{1}{x_{1}}+\\frac{1}{x_{2}}+\\cdots+\\frac{1}{x_{n}}}$\n",
    "4.  Sample median: $$\\left\\{\\begin{array}{ll}{x_{((n-1) / 2)}} & {\\text { if } n \\text { is odd }} \\\\ {0.5\\left(x_{(n / 2)}+x_{((1+n) / 2)}\\right)} & {\\text { otherwise }}\\end{array}\\right.$$\n",
    "Here x(i) is the ith observation in the sorted set. \n",
    "5.  Sample mode = observation with the highest frequency (for categorical data). \n",
    "6.  Sample variance:  $s^{2}=\\frac{1}{n-1} \\sum_{i=1}^{n}\\left(x_{i}-\\bar{x}\\right)^{2}$\n",
    "7.  Sample standard deviation:  $s=\\sqrt{\\frac{1}{n-1} \\sum_{i=1}^{n}\\left(x_{i}-\\bar{x}\\right)^{2}}$\n",
    "8.  Coefficient of variation =  $\\frac{s}{\\bar{x}}$\n",
    "9.  Coefficient of skewness =  $=\\frac{1}{n s^{3}} \\sum_{i=1}^{n}\\left(x_{i}-\\bar x\\right)^{3}$\n",
    "10.  Range: Specify the minimum and maximum. \n",
    "11.  Percentiles: 100p-percentile  \n",
    "12.  Semi-interquartile range  $\\mathrm{SIQR}=\\frac{Q_{3}-Q_{1}}{2}=\\frac{x_{0.75}-x_{025}}{2}$\n",
    "13.  Mean absolute deviation $=\\frac{1}{n} \\sum_{i=1}^{n}\\left|x_{i}-\\bar{x}\\right|$"
   ]
  },
  {
   "cell_type": "markdown",
   "metadata": {},
   "source": [
    "### DETERMINING DISTRIBUTION OF DATA\n",
    "In the last two cells we discussed how a measured data set could be summarized by stating its average and variability. The next step in presenting a summary could be to state the type of distribution the data follows. For example, a statement that the number of disk I/O’s are uniformly distributed between 1 and 25 is a more meaningful summary than to specify only that the mean is 13 and the variance is 48. The distribution information is also required if the summary has to be used later in simulation or analytical modeling. \n",
    "\n",
    "The simplest way to determine the distribution is to plot a histogram of the observations. This requires determining the maximum and minimum of the values observed and dividing the range into a number of subranges called cells or buckets. The count of observations that fall into each cell is determined. The counts are normalized to cell frequencies by dividing by the total number of observations. The cell frequencies are plotted as a column chart.\n",
    "\n",
    "The key problem in plotting histograms is determining the cell size. Small cells lead to very few observations per cell and a large variation in the number of observations per cell. Large cells result in less variation but the details of the distribution are completely lost. Given a data set, it is possible to reach very different conclusions about the distribution shape depending upon the cell size used. One guideline is that if any cell has less than five observations, the cell size should be increased or a variable cell histogram should be used.\n",
    "\n",
    "A better technique for small samples is to plot the observed quantiles versus the theoretical quantile in a quantile-quantile plot. Suppose, $y_(i)$ is the observed $q_i$th quantile. Using the theoretical distribution, the $q_i$th quantile $x_i$ is computed and a point is plotted at $(x_i, y_(i))$. If the observations do come from the given theoretical distribution, the quantile-quantile plot would be linear.\n",
    "\n",
    "To determine the $q_i$th quantile $x_i$, we need to invert the cumulative distribution function. For example, if $F(x)$ is the CDF for the assumed distribution,\n",
    "\n",
    "$$\n",
    "q_{i}=F\\left(x_{i}\\right)\n",
    "$$\n",
    "\n",
    "or \n",
    "\n",
    "$$\n",
    "x_{i}=F^{-1}\\left(q_{i}\\right)\n",
    "$$\n",
    "\n",
    "\n",
    "For those distributions whose CDF can be inverted, determining the x-coordinate of points on a quantile-quantile plot is straightforward. \n",
    "\n",
    "For other distributions one can use tables and interpolate the values if necessary. For the unit normal distribution $N(0, 1)$, the following approximation is often used:\n",
    "\n",
    "$$\n",
    "x_{i}=4.91\\left[q_{i}^{0.14}-\\left(1-q_{i}\\right)^{0.14}\\right]\n",
    "$$\n",
    "\n",
    "For $N(\\mu, \\sigma)$, the $x_i$ values computed by the above Equation  are scaled to $\\mu + \\sigma x_i$ before plotting.\n",
    "\n",
    "One advantage of a quantile-quantile plot is that often it is sufficient to know the name of the possible distribution. The parameter values are not required. This happens if the effect of the parameters is simply to scale the quantile. For example, in a normal quantile-quantile plot, x-coordinates can be obtained using the unit normal $N(0, 1)$ distribution. The intercept and the slope of the resulting line give the values of location and shape parameters $\\mu$ and $\\sigma$.\n",
    "\n",
    "\\begin{example}\n",
    "The difference between the values measured on a system and those predicted by a model is called modeling error. The modeling error for eight predictions of a model were found to be -0.04, -0.19, 0.14, -0.09, -0.14, 0.19, 0.04, and 0.09. \n",
    "\n",
    "\\end{example}\n"
   ]
  },
  {
   "cell_type": "code",
   "execution_count": 91,
   "metadata": {},
   "outputs": [
    {
     "name": "stdout",
     "output_type": "stream",
     "text": [
      "First 10 points (of 1000): [ 1.76405235  0.40015721  0.97873798  2.2408932   1.86755799 -0.97727788\n",
      "  0.95008842 -0.15135721 -0.10321885  0.4105985 ]\n",
      "count    1000.000000\n",
      "mean       -0.045257\n",
      "std         0.987527\n",
      "min        -3.046143\n",
      "25%        -0.698420\n",
      "50%        -0.058028\n",
      "75%         0.606951\n",
      "max         2.759355\n",
      "dtype: float64\n"
     ]
    }
   ],
   "source": [
    "# Setup\n",
    "import numpy as np \n",
    "import pandas as pd\n",
    "import matplotlib.pyplot as plt\n",
    "import scipy.stats as stats\n",
    "%matplotlib inline\n",
    "\n",
    "np.random.seed(0)\n",
    "\n",
    "mu = 0  # mean\n",
    "sigma = 1  # standard deviation\n",
    "\n",
    "points = np.random.normal(mu, sigma, 1000)\n",
    "\n",
    "print(\"First 10 points (of 1000):\", points[:10])\n",
    "print(pd.Series(points).describe())"
   ]
  },
  {
   "cell_type": "code",
   "execution_count": 92,
   "metadata": {},
   "outputs": [],
   "source": [
    "def plot_histogram_and_qq(points, mu, sigma, distribution_type=\"norm\"):\n",
    "  # Plot histogram of the 1000 points\n",
    "  plt.figure(figsize=(12,6))\n",
    "  ax = plt.subplot(1,2,1)\n",
    "  count, bins, ignored = plt.hist(points, 30, density=True)\n",
    "  ax.set_title('Histogram')\n",
    "  ax.set_xlabel('Value bin')\n",
    "  ax.set_ylabel('Frequency')\n",
    "\n",
    "  # Overlay the bell curve (normal distribution) on the bins data\n",
    "  bell_curve = 1/(sigma * np.sqrt(2 * np.pi)) * np.exp( - (bins - mu)**2 / (2 * sigma**2))\n",
    "  plt.plot(bins, bell_curve, linewidth=2, color='r')\n",
    "\n",
    "  # Q-Q plot\n",
    "  plt.subplot(1,2,2)\n",
    "  res = stats.probplot(points, dist=distribution_type, plot=plt)\n",
    "  (osm, osr) = res[0]\n",
    "  (slope, intercept, r) = res[1]\n",
    "  # For details see: https://docs.scipy.org/doc/scipy-0.14.0/reference/generated/scipy.stats.probplot.html\n",
    "  print(\"slope, intercept, r:\", slope, intercept, r)\n",
    "  print(\"r is the square root of the coefficient of determination\")\n",
    "\n",
    "  plt.show()"
   ]
  },
  {
   "cell_type": "code",
   "execution_count": 93,
   "metadata": {},
   "outputs": [
    {
     "name": "stdout",
     "output_type": "stream",
     "text": [
      "slope, intercept, r: 0.9892713568120584 -0.045256707490195364 0.9994824641317029\n",
      "r is the square root of the coefficient of determination\n"
     ]
    },
    {
     "data": {
      "image/png": "[encoded data removed]",
      "text/plain": [
       "<Figure size 1200x600 with 2 Axes>"
      ]
     },
     "metadata": {},
     "output_type": "display_data"
    }
   ],
   "source": [
    "# Run on the initial normally distributed data\n",
    "plot_histogram_and_qq(points, mu, sigma)"
   ]
  },
  {
   "cell_type": "code",
   "execution_count": 94,
   "metadata": {},
   "outputs": [
    {
     "name": "stdout",
     "output_type": "stream",
     "text": [
      "First 10 points (of 1000): [ 2.57523127  1.60422898  3.06462078  3.73260086  2.19798091  3.95386467\n",
      "  0.91815909 -3.70296317 -3.88598788 -1.263169  ]\n",
      "count    1000.000000\n",
      "mean        0.102926\n",
      "std         2.337933\n",
      "min        -3.999410\n",
      "25%        -1.851285\n",
      "50%         0.225588\n",
      "75%         2.152776\n",
      "max         3.988213\n",
      "dtype: float64\n",
      "slope, intercept, r: 2.2887559084421083 0.10292591860780509 0.9767335657066321\n",
      "r is the square root of the coefficient of determination\n"
     ]
    },
    {
     "data": {
      "image/png": "[encoded data removed]",
      "text/plain": [
       "<Figure size 1200x600 with 2 Axes>"
      ]
     },
     "metadata": {},
     "output_type": "display_data"
    }
   ],
   "source": [
    "points = np.random.uniform(low=-4, high=4, size=1000)\n",
    "\n",
    "print(\"First 10 points (of 1000):\", points[:10])\n",
    "print(pd.Series(points).describe())\n",
    "\n",
    "# Run on the initial setup\n",
    "plot_histogram_and_qq(points, mu, sigma)"
   ]
  },
  {
   "cell_type": "code",
   "execution_count": 95,
   "metadata": {},
   "outputs": [
    {
     "name": "stdout",
     "output_type": "stream",
     "text": [
      "[0. 0. 0. 0. 0. 0. 0. 0.]\n",
      "slope, intercept, r: 0.147687596953423 0.01000000000000001 0.9796285130684929\n",
      "r is the square root of the coefficient of determination\n"
     ]
    },
    {
     "data": {
      "image/png": "[encoded data removed]",
      "text/plain": [
       "<Figure size 1200x600 with 2 Axes>"
      ]
     },
     "metadata": {},
     "output_type": "display_data"
    }
   ],
   "source": [
    "\n",
    "\n",
    "points = (0.04, -0.19, 0.14, -0.09, -0.14, 0.19, 0.04, 0.09)\n",
    "n = 8\n",
    "q=np.zeros(n)\n",
    "print(q)\n",
    "x = (0.157,-1.535,0.885,-0.487,-0.885 ,1.535 ,0.157 ,0.487 )\n",
    "for i in range(8):\n",
    "    q[i]= (i-0.5)/n\n",
    "mu=0\n",
    "sigma = 1\n",
    "plot_histogram_and_qq(points, mu, sigma)\n"
   ]
  },
  {
   "cell_type": "markdown",
   "metadata": {},
   "source": [
    "\n",
    "### Q Q Plots: Simple Definition & Example\n",
    "\n",
    "#### Descriptive Statistics > Q Q plots\n",
    "\n",
    "\n",
    "Q Q Plots (Quantile-Quantile plots) are plots of two quantiles against each other. A quantile is a fraction where certain values fall below that quantile. For example, the median is a quantile where 50% of the data fall below that point and 50% lie above it. The purpose of Q Q plots is to find out if two sets of data come from the same distribution. A 45 degree angle is plotted on the Q Q plot; if the two data sets come from a common distribution, the points will fall on that reference line.\n",
    "\n",
    "\n",
    "#### How to Make a Q Q Plot\n",
    "\n",
    "Sample question: Do the following values come from a normal distribution?\n",
    "7.19, 6.31, 5.89, 4.5, 3.77, 4.25, 5.19, 5.79, 6.79.\n",
    "\n",
    "    Step 1: Order the items from smallest to largest.\n",
    "    Step 2: Draw a normal distribution curve. Divide the curve into n+1 segments. We have 9 values, so divide the curve into 10 equally-sized areas. For this example, each segment is 10% of the area (because 100% / 10 = 10%).\n",
    "    Step 3: Find the z-value (cut-off point) for each segment in Step 3. These segments are areas, so refer to a z-table (or use software) to get a z-value for each segment."
   ]
  },
  {
   "cell_type": "code",
   "execution_count": 96,
   "metadata": {},
   "outputs": [
    {
     "name": "stdout",
     "output_type": "stream",
     "text": [
      "[0. 0. 0. 0. 0. 0. 0. 0. 0.]\n",
      "slope, intercept, r: 1.276881094984163 5.52 0.9896069959517895\n",
      "r is the square root of the coefficient of determination\n"
     ]
    },
    {
     "data": {
      "image/png": "[encoded data removed]",
      "text/plain": [
       "<Figure size 1200x600 with 2 Axes>"
      ]
     },
     "metadata": {},
     "output_type": "display_data"
    }
   ],
   "source": [
    "points = ( 7.19, 6.31, 5.89, 4.5, 3.77, 4.25, 5.19, 5.79, 6.79)\n",
    "n = 9\n",
    "q=np.zeros(n)\n",
    "print(q)\n",
    "for i in range(8):\n",
    "    q[i]= (i-0.5)/n\n",
    "mu=0\n",
    "sigma = 1\n",
    "plot_histogram_and_qq(points, mu, sigma)"
   ]
  },
  {
   "cell_type": "markdown",
   "metadata": {},
   "source": [
    "\\begin{exercise}\n",
    " A distributed system has three file servers, which are chosen independently and with equal probabilities whenever a new file is created. The servers are named A, B, and C. Determine the probabilities of the following events: \n",
    "a.  Server A is selected \n",
    "b.  Server A or B is selected \n",
    "c.  Servers A and B are selected \n",
    "d.  Server A is not selected \n",
    "e.  Server A is selected twice in a row \n",
    "f.  Server selection sequence ABCABCABC is observed (in nine successive file creations) \n",
    "\n",
    "\\end{exercise}\n",
    "\n",
    "\\begin{exercise}\n",
    "\n",
    "The traffic arriving at a network gateway is bursty. The burst size x is geometrically distributed with the following pmf. \n",
    "\n",
    "$$\n",
    "f(x)=(1-p)^{x-1} p, \\quad x=1,2, \\ldots, \\infty\n",
    "$$\n",
    "\n",
    "Compute the mean, variance, standard deviation, and coefficient of variation of the burst size. Plot the pmf and CDF for P = 0.2. \n",
    "\n",
    "\\end{exercise}\n",
    "\n",
    "\\begin{exercise}\n",
    "The number of I/O requests received at a disk during a unit interval follows a Poisson distribution with the following mass function: \n",
    "\n",
    "$$\n",
    "f(x)=\\lambda^{x} \\frac{e^{-\\lambda x}}{x !}, \\quad x=0,1,2 \\ldots, \\infty\n",
    "$$\n",
    "Here, $\\lambda$ is a parameter. Determine the mean, variance, and coefficient of variation of the number. Plot the pmf and CDF for $\\lambda$ = 8.\n",
    "\\end{exercise}\n",
    "\\begin{exercise}\n",
    "Two Poisson streams  merge at a disk. The pmf for the two streams are as follows: \n",
    "\n",
    "$$\n",
    "f(x)=\\lambda^{x} \\frac{e^{-\\lambda x}}{x !}, \\quad x=0,1,2, \\ldots, \\infty\n",
    "$$\n",
    "\n",
    "$$\n",
    "f(y)=\\lambda^{y} \\frac{e^{-\\lambda y}}{y !}, \\quad y=0,1,2, \\ldots, \\infty\n",
    "$$\n",
    "Determine the following: \n",
    "a.  Mean of $x + y$ \n",
    "b.  Variance of $x + y$ \n",
    "c.  Mean of $x - y$ \n",
    "d.  Variance of $x - y$ \n",
    "e.  Mean of $3x - 4y$ \n",
    "f.  Coefficient of variation of $3x - 4y$ \n",
    "\n",
    "\n",
    "\\end{exercise}\n",
    "\n",
    "\\begin{exercise}\n",
    "The response time of a computer system has an Erlang distribution with the following CDF: \n",
    "\n",
    "$$\n",
    "F(x)=1-e^{-x / a}\\left(\\sum_{i=0}^{m-1} \\frac{(x / a)^{i}}{i !}\\right)\n",
    "$$\n",
    "\n",
    "Find expressions for the pdf, mean, variance, mode, and coefficient of variation of the response time. \n",
    "\n",
    "\n",
    "\\end{exercise}\n",
    "\n",
    "\n",
    "\\begin{exercise}\n",
    "The execution times of queries on a database is normally distributed with a mean of 5 seconds and a standard deviation of 1 second. Determine the following: \n",
    "\n",
    "    a.  What is the probability of the execution time being more than 8 seconds? \n",
    "    \n",
    "    b.  What is the probability of the execution time being less than 6 seconds? \n",
    "    \n",
    "    c.  What percentage of responses will take between 4 and 7 seconds? \n",
    "    \n",
    "    d.  What is the 95-percentile execution time? \n",
    "\n",
    "\\end{exercise}\n",
    "\n",
    "\\begin{exercise}\n",
    "\n",
    "Plot a normal quantile-quantile plot for the following sample of errors: -0.04444  -0.04439  -0.04165  -0.03268  -0.03235  -0.03182  0.02771  0.02650  \n",
    "-0.02569  -0.02358  0.02330  0.02305  0.02213  0.02128  0.01793  0.01668  \n",
    "-0.01565  -0.01509  0.01432  0.00978  0.00889  0.00687  0.00543  0.00084  \n",
    "-0.00083  -0.00048  0.00024  0.00079  0.00082  0.00106  0.00110  0.00132  \n",
    "0.00162  0.00181  0.00280  0.00379  0.00411  0.00424  0.00553  0.00865  \n",
    "0.01026  0.01085  0.01440  0.01562  0.01975  0.01996  0.02016  0.02078  \n",
    "0.02134  0.02252  0.02414  0.02568  0.02682  0.02855  0.02889  0.03072  \n",
    "0.03259  0.03754  0.04263  0.04276  \n",
    "\n",
    "Are the errors normally distributed? \n",
    "\n",
    "\n",
    "\\end{exercise}\n"
   ]
  },
  {
   "cell_type": "markdown",
   "metadata": {},
   "source": [
    "#  Regression Analysis\n",
    "\n",
    "Regression analysis is the art and science of fitting straight lines to patterns of data. In a linear regression model, the variable of interest (the so-called \"dependent\" variable) is predicted from other variable(s) (the so-called \"independent\" variable(s)) using a linear equation. If $ Y $ denotes the dependent variable, and $ X_1, X_2, \\ldots, X_k $, are the independent variables, then the assumption is that the value of $ Y_i $ in the population is determined by the linear equation $$ Y_i = \\beta_0 + \\beta_1 X_{i1} + \\beta_2 X_{i2} + \\ldots + \\beta_k X_{ik} + \\epsilon_i $$\n",
    "\n",
    "where the betas are constants and the epsilons are independent and identically distributed (i.i.d.) normal random variables with mean zero (the \"noise\" in the system). \n",
    "\n",
    "$ \\beta_0 $ is the so-called intercept of the model -- the expected value of $ Y $ when all the $ X $'s are zero and $ \\beta_i $ is the coefficient (multiplier) of the variable $ X_i $. **The betas together with the mean and standard deviation of the epsilons are the parameters of the model.**\n",
    "\n",
    "\n",
    "The corresponding equation for predicting $ Y_i $ from the corresponding values of the $ X $'s is therefore where the $ b $'s are estimates of the betas obtained by least-squares, i.e., minimizing the square prediction error within the sample. Multiple regression allows more than one $ x $ variables.\n",
    "\n",
    "**Assumptions**\n",
    "\n",
    "The error terms $ \\epsilon_i $ are mutually independent and identically distributed, with mean = 0 and constant variances $ E[\\epsilon_i] = 0 $, $ V[\\epsilon_i] = \\sigma^2 $.\n",
    "\n",
    "This is so, because the observations $ Y_1, Y_2, \\ldots, Y_k $ are a random sample, they are mutually independent and hence the error terms are also mutually independent.\n",
    "\n",
    "The distribution of the error term is independent of the joint distribution of $ X_1, X_2, \\ldots, X_k $. The unknown parameters $ \\beta_0, \\beta_1, \\beta_2, \\ldots, \\beta_k $ are constants.\n",
    "\n",
    "Population regression model showing Normality and homoscedasticity conditions.\n",
    "\n",
    "<img src=\"images/Project2--002.png\">"
   ]
  },
  {
   "cell_type": "markdown",
   "metadata": {},
   "source": [
    "### Summary of multiple linear regression model\n",
    "\n",
    "**Independent variables**: $ X_1, X_2, \\ldots, X_k $\n",
    "\n",
    "**Data**: $ \\{ (y_1, x_{11}, x_{21}, \\ldots, x_{k1}), \\ldots, (y_n, x_{1n}, x_{2n}, \\ldots, x_{kn}) \\} $\n",
    "\n",
    "**Population Model**: $ Y_i = \\beta_0 + \\beta_1 X_{i1} + \\beta_2 X_{i2} + \\ldots + \\beta_k X_{ik} + \\epsilon_i $ where $ \\epsilon_i $ are i.i.d. random variables following the normal disribution $ N(0, \\sigma) $.\n",
    "\n",
    "**Regression coefficients**: $ b_0, b_1, \\ldots, b_k $ are estimates of $ \\beta_0, \\beta_1, \\ldots, \\beta_k $.\n",
    "\n",
    "**Regression Estimates of $ Y_i $**: $ \\widehat{y} = b_0 + b_1 x_{i1} + b_2 x_{i2} + \\ldots + b_k x_{ik} $.\n",
    "\n",
    "**Goal**: Choose $ b_0, b_1, \\ldots, b_k $ to minimize the residual sum of squares $ \\sum\\limits_{i=1}^{n} e_i^2 = \\sum\\limits_{i=1}^{n}(y_i - \\widehat{y}_i)^2 $."
   ]
  },
  {
   "cell_type": "markdown",
   "metadata": {},
   "source": [
    "### Summary of single variable linear regression model\n",
    "\n",
    "Assuming that the data is a subset of a population then the linear regression model can be described as follows:\n",
    "\n",
    "**Data**: $ \\{ (x_1, y_1), \\ldots, (x_n, y_n) \\} $\n",
    "\n",
    "**Model of the Population**: $ y_i = \\beta_0 + \\beta_1 x_i + \\epsilon_i $ where $ \\epsilon_1, \\epsilon_2, \\ldots, \\epsilon_n $ are independent and identically distributed (i.i.d.) random variables, with normal distribution $ N(0, \\sigma) $.\n",
    "\n",
    "This is the true relation between $ y $ and $ x $ that depends on the estimation of the unknowns $ \\beta_0 $ and $ \\beta_1 $ based on a sample (data) of the population.\n",
    "\n",
    "**Comments**:\n",
    "\n",
    "$ E(y_i \\mid x_i) = \\beta_0 + \\beta_1 x_i $\n",
    "\n",
    "$ SD(y_i \\mid x_i) = \\sigma $\n",
    "\n",
    "Relationship is linear -- described by a \"line\"\n",
    "\n",
    "$ \\beta_0 = $ \"baseline or intercept\" value of (i.e., value of $ y $ if $ x $ is $ 0 $)\n",
    "\n",
    "$ \\beta_1 = $ \"slope\" of line (average change in $ y $ per unit change in $ x $)\n",
    "\n",
    "**Prediction regression model**:\n",
    "\n",
    "$ \\widehat{y}_i = \\beta_0 + \\beta_1 x_i $\n",
    "where the $ b $'s are estimates of the betas obtained by least-squares, i.e., minimizing the square prediction error within the sample."
   ]
  },
  {
   "cell_type": "markdown",
   "metadata": {},
   "source": [
    "<img src=\"images/Project2--003.png\">"
   ]
  },
  {
   "cell_type": "code",
   "execution_count": 97,
   "metadata": {},
   "outputs": [],
   "source": [
    "# improve functionality of Python 2\n",
    "\n",
    "from __future__ import division\n",
    "from __future__ import print_function"
   ]
  },
  {
   "cell_type": "code",
   "execution_count": 98,
   "metadata": {},
   "outputs": [],
   "source": [
    "# library imports\n",
    "\n",
    "import math\n",
    "import matplotlib.pyplot as plt\n",
    "import numpy as np\n",
    "import pandas as pd\n",
    "import seaborn as sns\n",
    "import statsmodels.api as sm\n",
    "import statsmodels.formula.api as smf\n",
    "import statsmodels.stats.api as sms\n",
    "\n",
    "from scipy import stats"
   ]
  },
  {
   "cell_type": "code",
   "execution_count": 99,
   "metadata": {},
   "outputs": [],
   "source": [
    "# plotting settings\n",
    "\n",
    "%matplotlib inline\n",
    "\n",
    "aspect_ratio = 16 / 9\n",
    "\n",
    "figure_width = 10\n",
    "figure_height = figure_width / aspect_ratio\n",
    "figsize = (figure_width, figure_height)"
   ]
  },
  {
   "cell_type": "code",
   "execution_count": 100,
   "metadata": {},
   "outputs": [],
   "source": [
    "data = pd.read_csv(\"2.2.2_example.txt\", delimiter='\\t')"
   ]
  },
  {
   "cell_type": "code",
   "execution_count": 101,
   "metadata": {},
   "outputs": [
    {
     "data": {
      "text/html": [
       "<div>\n",
       "<style scoped>\n",
       "    .dataframe tbody tr th:only-of-type {\n",
       "        vertical-align: middle;\n",
       "    }\n",
       "\n",
       "    .dataframe tbody tr th {\n",
       "        vertical-align: top;\n",
       "    }\n",
       "\n",
       "    .dataframe thead th {\n",
       "        text-align: right;\n",
       "    }\n",
       "</style>\n",
       "<table border=\"1\" class=\"dataframe\">\n",
       "  <thead>\n",
       "    <tr style=\"text-align: right;\">\n",
       "      <th></th>\n",
       "      <th>Region</th>\n",
       "      <th>x</th>\n",
       "      <th>y</th>\n",
       "    </tr>\n",
       "  </thead>\n",
       "  <tbody>\n",
       "    <tr>\n",
       "      <th>0</th>\n",
       "      <td>Maine</td>\n",
       "      <td>1.8</td>\n",
       "      <td>104</td>\n",
       "    </tr>\n",
       "    <tr>\n",
       "      <th>1</th>\n",
       "      <td>New Hampshire</td>\n",
       "      <td>1.2</td>\n",
       "      <td>68</td>\n",
       "    </tr>\n",
       "    <tr>\n",
       "      <th>2</th>\n",
       "      <td>Vermont</td>\n",
       "      <td>0.4</td>\n",
       "      <td>39</td>\n",
       "    </tr>\n",
       "    <tr>\n",
       "      <th>3</th>\n",
       "      <td>Massachusetts</td>\n",
       "      <td>0.5</td>\n",
       "      <td>43</td>\n",
       "    </tr>\n",
       "    <tr>\n",
       "      <th>4</th>\n",
       "      <td>Connecticut</td>\n",
       "      <td>2.5</td>\n",
       "      <td>127</td>\n",
       "    </tr>\n",
       "    <tr>\n",
       "      <th>5</th>\n",
       "      <td>Rhode Island</td>\n",
       "      <td>2.5</td>\n",
       "      <td>134</td>\n",
       "    </tr>\n",
       "    <tr>\n",
       "      <th>6</th>\n",
       "      <td>New York</td>\n",
       "      <td>1.5</td>\n",
       "      <td>87</td>\n",
       "    </tr>\n",
       "    <tr>\n",
       "      <th>7</th>\n",
       "      <td>New Jersey</td>\n",
       "      <td>1.2</td>\n",
       "      <td>77</td>\n",
       "    </tr>\n",
       "    <tr>\n",
       "      <th>8</th>\n",
       "      <td>Pennsylvania</td>\n",
       "      <td>1.6</td>\n",
       "      <td>102</td>\n",
       "    </tr>\n",
       "    <tr>\n",
       "      <th>9</th>\n",
       "      <td>Delaware</td>\n",
       "      <td>1.0</td>\n",
       "      <td>65</td>\n",
       "    </tr>\n",
       "    <tr>\n",
       "      <th>10</th>\n",
       "      <td>Maryland</td>\n",
       "      <td>1.5</td>\n",
       "      <td>101</td>\n",
       "    </tr>\n",
       "    <tr>\n",
       "      <th>11</th>\n",
       "      <td>West Virginia</td>\n",
       "      <td>0.7</td>\n",
       "      <td>46</td>\n",
       "    </tr>\n",
       "    <tr>\n",
       "      <th>12</th>\n",
       "      <td>Virginia</td>\n",
       "      <td>1.0</td>\n",
       "      <td>52</td>\n",
       "    </tr>\n",
       "    <tr>\n",
       "      <th>13</th>\n",
       "      <td>Ohio</td>\n",
       "      <td>0.8</td>\n",
       "      <td>33</td>\n",
       "    </tr>\n",
       "  </tbody>\n",
       "</table>\n",
       "</div>"
      ],
      "text/plain": [
       "           Region    x    y\n",
       "0           Maine  1.8  104\n",
       "1   New Hampshire  1.2   68\n",
       "2         Vermont  0.4   39\n",
       "3   Massachusetts  0.5   43\n",
       "4     Connecticut  2.5  127\n",
       "5    Rhode Island  2.5  134\n",
       "6        New York  1.5   87\n",
       "7      New Jersey  1.2   77\n",
       "8    Pennsylvania  1.6  102\n",
       "9        Delaware  1.0   65\n",
       "10       Maryland  1.5  101\n",
       "11  West Virginia  0.7   46\n",
       "12       Virginia  1.0   52\n",
       "13           Ohio  0.8   33"
      ]
     },
     "execution_count": 101,
     "metadata": {},
     "output_type": "execute_result"
    }
   ],
   "source": [
    "data"
   ]
  },
  {
   "cell_type": "markdown",
   "metadata": {},
   "source": [
    "<pre>\n",
    "x: First-Year Advertising Expenditures ($ millions)\n",
    "\n",
    "y: First-Year Sales ($ millions)\n",
    "</pre>"
   ]
  },
  {
   "cell_type": "code",
   "execution_count": 102,
   "metadata": {},
   "outputs": [
    {
     "data": {
      "image/png": "[encoded data removed]",
      "text/plain": [
       "<Figure size 1000x562.5 with 1 Axes>"
      ]
     },
     "metadata": {},
     "output_type": "display_data"
    }
   ],
   "source": [
    "plt.figure(figsize=figsize)\n",
    "xmin = 0\n",
    "xmax = 2.5\n",
    "plt.xlim(xmin, xmax)\n",
    "ymin = 0\n",
    "ymax = 160\n",
    "plt.ylim(ymin, ymax)\n",
    "plt.yticks(range(0, 160+1, 40))\n",
    "plt.tick_params(axis='both', which='major', labelsize=22)\n",
    "plt.plot(data.x, data.y, 'D', color='black')\n",
    "plt.xlabel(\"Advertising Expenditures ($ millions)\", fontsize=22)\n",
    "plt.ylabel(\"First-Year Sales ($ millions)\", fontsize=22)\n",
    "plt.show()"
   ]
  },
  {
   "cell_type": "markdown",
   "metadata": {},
   "source": [
    "**a) How to relate advertising expenditure to sales?**\n",
    "\n",
    "**b) What is expected first-year sales if advertising expenditure is $2.2 million?**"
   ]
  },
  {
   "cell_type": "code",
   "execution_count": 103,
   "metadata": {},
   "outputs": [
    {
     "data": {
      "image/png": "[encoded data removed]",
      "text/plain": [
       "<Figure size 1000x562.5 with 1 Axes>"
      ]
     },
     "metadata": {},
     "output_type": "display_data"
    }
   ],
   "source": [
    "lm = smf.ols(\"y ~ x\", data=data).fit()\n",
    "\n",
    "plt.figure(figsize=figsize)\n",
    "xmin = 0\n",
    "xmax = 3\n",
    "plt.xlim(xmin, xmax)\n",
    "ymin = 0\n",
    "ymax = 160\n",
    "plt.ylim(ymin, ymax)\n",
    "plt.yticks(range(0, 160+1, 40))\n",
    "plt.tick_params(axis='both', which='major', labelsize=22)\n",
    "plt.plot(data.x, data.y, 'D', color='black', label='training examples')\n",
    "plt.xlabel(\"Advertising Expenditures ($ millions)\", fontsize=22)\n",
    "plt.ylabel(\"First-Year Sales ($ millions)\", fontsize=22)\n",
    "\n",
    "X = np.linspace(min(data.x), max(data.x), 100)\n",
    "intercept = lm.params[0]\n",
    "slope = lm.params[1]\n",
    "Y = intercept + slope * X\n",
    "plt.plot(X, Y, color='darkgreen', label='linear fit')\n",
    "\n",
    "new_example = 2.2\n",
    "prediction = lm.predict({'x': [new_example]})\n",
    "plt.plot(new_example, prediction, 's', color='blue', label='new example')\n",
    "\n",
    "plt.legend(loc='lower right', fontsize=16)\n",
    "\n",
    "plt.show()"
   ]
  },
  {
   "cell_type": "code",
   "execution_count": 104,
   "metadata": {},
   "outputs": [
    {
     "name": "stderr",
     "output_type": "stream",
     "text": [
      "D:\\app\\Anaconda3\\lib\\site-packages\\scipy\\stats\\_stats_py.py:1769: UserWarning: kurtosistest only valid for n>=20 ... continuing anyway, n=14\n",
      "  warnings.warn(\"kurtosistest only valid for n>=20 ... continuing \"\n"
     ]
    },
    {
     "data": {
      "text/html": [
       "<table class=\"simpletable\">\n",
       "<caption>OLS Regression Results</caption>\n",
       "<tr>\n",
       "  <th>Dep. Variable:</th>            <td>y</td>        <th>  R-squared:         </th> <td>   0.930</td>\n",
       "</tr>\n",
       "<tr>\n",
       "  <th>Model:</th>                   <td>OLS</td>       <th>  Adj. R-squared:    </th> <td>   0.924</td>\n",
       "</tr>\n",
       "<tr>\n",
       "  <th>Method:</th>             <td>Least Squares</td>  <th>  F-statistic:       </th> <td>   158.4</td>\n",
       "</tr>\n",
       "<tr>\n",
       "  <th>Date:</th>             <td>Thu, 16 Mar 2023</td> <th>  Prob (F-statistic):</th> <td>2.84e-08</td>\n",
       "</tr>\n",
       "<tr>\n",
       "  <th>Time:</th>                 <td>20:26:40</td>     <th>  Log-Likelihood:    </th> <td> -49.711</td>\n",
       "</tr>\n",
       "<tr>\n",
       "  <th>No. Observations:</th>      <td>    14</td>      <th>  AIC:               </th> <td>   103.4</td>\n",
       "</tr>\n",
       "<tr>\n",
       "  <th>Df Residuals:</th>          <td>    12</td>      <th>  BIC:               </th> <td>   104.7</td>\n",
       "</tr>\n",
       "<tr>\n",
       "  <th>Df Model:</th>              <td>     1</td>      <th>                     </th>     <td> </td>   \n",
       "</tr>\n",
       "<tr>\n",
       "  <th>Covariance Type:</th>      <td>nonrobust</td>    <th>                     </th>     <td> </td>   \n",
       "</tr>\n",
       "</table>\n",
       "<table class=\"simpletable\">\n",
       "<tr>\n",
       "      <td></td>         <th>coef</th>     <th>std err</th>      <th>t</th>      <th>P>|t|</th>  <th>[0.025</th>    <th>0.975]</th>  \n",
       "</tr>\n",
       "<tr>\n",
       "  <th>Intercept</th> <td>   13.8237</td> <td>    5.579</td> <td>    2.478</td> <td> 0.029</td> <td>    1.668</td> <td>   25.980</td>\n",
       "</tr>\n",
       "<tr>\n",
       "  <th>x</th>         <td>   48.5971</td> <td>    3.862</td> <td>   12.584</td> <td> 0.000</td> <td>   40.183</td> <td>   57.011</td>\n",
       "</tr>\n",
       "</table>\n",
       "<table class=\"simpletable\">\n",
       "<tr>\n",
       "  <th>Omnibus:</th>       <td> 2.084</td> <th>  Durbin-Watson:     </th> <td>   1.046</td>\n",
       "</tr>\n",
       "<tr>\n",
       "  <th>Prob(Omnibus):</th> <td> 0.353</td> <th>  Jarque-Bera (JB):  </th> <td>   0.821</td>\n",
       "</tr>\n",
       "<tr>\n",
       "  <th>Skew:</th>          <td>-0.588</td> <th>  Prob(JB):          </th> <td>   0.663</td>\n",
       "</tr>\n",
       "<tr>\n",
       "  <th>Kurtosis:</th>      <td> 3.156</td> <th>  Cond. No.          </th> <td>    4.69</td>\n",
       "</tr>\n",
       "</table><br/><br/>Notes:<br/>[1] Standard Errors assume that the covariance matrix of the errors is correctly specified."
      ],
      "text/plain": [
       "<class 'statsmodels.iolib.summary.Summary'>\n",
       "\"\"\"\n",
       "                            OLS Regression Results                            \n",
       "==============================================================================\n",
       "Dep. Variable:                      y   R-squared:                       0.930\n",
       "Model:                            OLS   Adj. R-squared:                  0.924\n",
       "Method:                 Least Squares   F-statistic:                     158.4\n",
       "Date:                Thu, 16 Mar 2023   Prob (F-statistic):           2.84e-08\n",
       "Time:                        20:26:40   Log-Likelihood:                -49.711\n",
       "No. Observations:                  14   AIC:                             103.4\n",
       "Df Residuals:                      12   BIC:                             104.7\n",
       "Df Model:                           1                                         \n",
       "Covariance Type:            nonrobust                                         \n",
       "==============================================================================\n",
       "                 coef    std err          t      P>|t|      [0.025      0.975]\n",
       "------------------------------------------------------------------------------\n",
       "Intercept     13.8237      5.579      2.478      0.029       1.668      25.980\n",
       "x             48.5971      3.862     12.584      0.000      40.183      57.011\n",
       "==============================================================================\n",
       "Omnibus:                        2.084   Durbin-Watson:                   1.046\n",
       "Prob(Omnibus):                  0.353   Jarque-Bera (JB):                0.821\n",
       "Skew:                          -0.588   Prob(JB):                        0.663\n",
       "Kurtosis:                       3.156   Cond. No.                         4.69\n",
       "==============================================================================\n",
       "\n",
       "Notes:\n",
       "[1] Standard Errors assume that the covariance matrix of the errors is correctly specified.\n",
       "\"\"\""
      ]
     },
     "execution_count": 104,
     "metadata": {},
     "output_type": "execute_result"
    }
   ],
   "source": [
    "lm.summary()"
   ]
  },
  {
   "cell_type": "markdown",
   "metadata": {},
   "source": [
    "**c) How confident is your estimate? How good is the \"fit\"?**"
   ]
  },
  {
   "cell_type": "markdown",
   "metadata": {},
   "source": [
    "The R-squared of the regression model is 0.930 which is very high and imply a very good fit."
   ]
  },
  {
   "cell_type": "markdown",
   "metadata": {},
   "source": [
    "Alternatively:"
   ]
  },
  {
   "cell_type": "markdown",
   "metadata": {},
   "source": [
    "## Standard deviation of errors\n",
    "\n",
    "Since errors are obtained after calculating two regression parameters from the data, errors have $n − 2$ degrees of freedom. Thus, the variance estimate is $SSE/(n − 2)$ is called mean squared errors or $(MSE)$       \n",
    "$ S_e^{2} = \\frac{SSE}{n-2}$\n",
    "\n",
    "Standard deviation of errors = square root of MSE= $\\sqrt(MSE)$\n",
    "\n",
    "Note:\n",
    "\n",
    "$SSY$ has n degrees of freedom since it is obtained from n independent observations without estimating any parameters\n",
    "\n",
    "$SS0$ has just one degree of freedom since it can be computed simply from $\\bar{y}\n",
    "\n",
    "$SST$ has $n − 1$ degrees of freedom, since one parameter must be calculated from the data before $SST$ can be computed\n",
    "\n",
    "$SSR$, which is the difference between $SST$ and $SSE$, has the remaining one degree of freedom.\n",
    "\n",
    "Overall,\n",
    "\n",
    "$SST = SSY − SS0 = SSR + SSE$\n",
    "\n",
    "$n −1 = n −1 = 1+(n − 2)$\n",
    "\n",
    "Notice that the degrees of freedom add just the way the sums of squares do."
   ]
  },
  {
   "cell_type": "markdown",
   "metadata": {},
   "source": [
    "### Example 2:\n",
    "\n",
    "For the disk I/O-CPU data verify the following:"
   ]
  },
  {
   "cell_type": "markdown",
   "metadata": {},
   "source": [
    "### SS:"
   ]
  },
  {
   "cell_type": "code",
   "execution_count": 105,
   "metadata": {},
   "outputs": [
    {
     "data": {
      "text/plain": [
       "828"
      ]
     },
     "execution_count": 105,
     "metadata": {},
     "output_type": "execute_result"
    }
   ],
   "source": [
    "SSy = sum(df.CPU_Time * df.CPU_Time)\n",
    "SSy"
   ]
  },
  {
   "cell_type": "code",
   "execution_count": 106,
   "metadata": {},
   "outputs": [
    {
     "data": {
      "text/plain": [
       "7"
      ]
     },
     "execution_count": 106,
     "metadata": {},
     "output_type": "execute_result"
    }
   ],
   "source": [
    "#Number of Observations\n",
    "n=len(df)\n",
    "n"
   ]
  },
  {
   "cell_type": "markdown",
   "metadata": {},
   "source": [
    "Alternatively:"
   ]
  },
  {
   "cell_type": "code",
   "execution_count": 107,
   "metadata": {},
   "outputs": [
    {
     "data": {
      "text/plain": [
       "14.0"
      ]
     },
     "execution_count": 107,
     "metadata": {},
     "output_type": "execute_result"
    }
   ],
   "source": [
    "n= lm.nobs\n",
    "n"
   ]
  },
  {
   "cell_type": "code",
   "execution_count": 108,
   "metadata": {},
   "outputs": [
    {
     "data": {
      "text/plain": [
       "1244.5714285714287"
      ]
     },
     "execution_count": 108,
     "metadata": {},
     "output_type": "execute_result"
    }
   ],
   "source": [
    "SSO = n*np.mean(df.CPU_Time)**2\n",
    "SSO"
   ]
  },
  {
   "cell_type": "code",
   "execution_count": 109,
   "metadata": {},
   "outputs": [
    {
     "data": {
      "text/plain": [
       "-416.57142857142867"
      ]
     },
     "execution_count": 109,
     "metadata": {},
     "output_type": "execute_result"
    }
   ],
   "source": [
    "SST= SSy-SSO  \n",
    "SST"
   ]
  },
  {
   "cell_type": "code",
   "execution_count": 110,
   "metadata": {},
   "outputs": [
    {
     "data": {
      "text/plain": [
       "205.71428571428567"
      ]
     },
     "execution_count": 110,
     "metadata": {},
     "output_type": "execute_result"
    }
   ],
   "source": [
    "SST= SSR + SSE\n",
    "SST"
   ]
  },
  {
   "cell_type": "markdown",
   "metadata": {},
   "source": [
    "### DF:"
   ]
  },
  {
   "cell_type": "code",
   "execution_count": 111,
   "metadata": {},
   "outputs": [
    {
     "name": "stdout",
     "output_type": "stream",
     "text": [
      "                sum_sq    df           F        PR(>F)\n",
      "x         13130.942446   1.0  158.353965  2.843305e-08\n",
      "Residual    995.057554  12.0         NaN           NaN\n"
     ]
    },
    {
     "data": {
      "text/plain": [
       "12.0"
      ]
     },
     "execution_count": 111,
     "metadata": {},
     "output_type": "execute_result"
    }
   ],
   "source": [
    "aov_table = sm.stats.anova_lm(lm, typ=2)\n",
    "print(aov_table)\n",
    "df_SSE = aov_table.df[1]\n",
    "df_SSE"
   ]
  },
  {
   "cell_type": "code",
   "execution_count": 112,
   "metadata": {},
   "outputs": [
    {
     "data": {
      "text/plain": [
       "1.0"
      ]
     },
     "execution_count": 112,
     "metadata": {},
     "output_type": "execute_result"
    }
   ],
   "source": [
    "df_SSR = aov_table.df[0]\n",
    "df_SSR"
   ]
  },
  {
   "cell_type": "code",
   "execution_count": 113,
   "metadata": {},
   "outputs": [
    {
     "data": {
      "text/plain": [
       "13.0"
      ]
     },
     "execution_count": 113,
     "metadata": {},
     "output_type": "execute_result"
    }
   ],
   "source": [
    "df_SST = df_SSR +  df_SSE\n",
    "df_SST"
   ]
  },
  {
   "cell_type": "markdown",
   "metadata": {},
   "source": [
    "Alternatively:"
   ]
  },
  {
   "cell_type": "code",
   "execution_count": 114,
   "metadata": {},
   "outputs": [
    {
     "data": {
      "text/plain": [
       "1.0"
      ]
     },
     "execution_count": 114,
     "metadata": {},
     "output_type": "execute_result"
    }
   ],
   "source": [
    "df_SS0 = 1.0\n",
    "df_SS0"
   ]
  },
  {
   "cell_type": "code",
   "execution_count": 115,
   "metadata": {},
   "outputs": [
    {
     "data": {
      "text/plain": [
       "14.0"
      ]
     },
     "execution_count": 115,
     "metadata": {},
     "output_type": "execute_result"
    }
   ],
   "source": [
    "df_SSy = n\n",
    "df_SSy"
   ]
  },
  {
   "cell_type": "code",
   "execution_count": 116,
   "metadata": {},
   "outputs": [
    {
     "data": {
      "text/plain": [
       "13.0"
      ]
     },
     "execution_count": 116,
     "metadata": {},
     "output_type": "execute_result"
    }
   ],
   "source": [
    "df_SST = df_SSy - df_SS0\n",
    "df_SST"
   ]
  },
  {
   "cell_type": "markdown",
   "metadata": {},
   "source": [
    "The mean squared error is:"
   ]
  },
  {
   "cell_type": "code",
   "execution_count": 117,
   "metadata": {},
   "outputs": [
    {
     "data": {
      "text/plain": [
       "0.4890736493374182"
      ]
     },
     "execution_count": 117,
     "metadata": {},
     "output_type": "execute_result"
    }
   ],
   "source": [
    "MSE = SSE/df_SSE\n",
    "MSE"
   ]
  },
  {
   "cell_type": "markdown",
   "metadata": {},
   "source": [
    "Alternatively:"
   ]
  },
  {
   "cell_type": "code",
   "execution_count": 118,
   "metadata": {},
   "outputs": [
    {
     "data": {
      "text/plain": [
       "82.9214628297362"
      ]
     },
     "execution_count": 118,
     "metadata": {},
     "output_type": "execute_result"
    }
   ],
   "source": [
    "MSE = lm.mse_resid\n",
    "MSE"
   ]
  },
  {
   "cell_type": "markdown",
   "metadata": {},
   "source": [
    "The standard deviation of errors is:"
   ]
  },
  {
   "cell_type": "code",
   "execution_count": 119,
   "metadata": {},
   "outputs": [
    {
     "data": {
      "text/plain": [
       "9.106122271841961"
      ]
     },
     "execution_count": 119,
     "metadata": {},
     "output_type": "execute_result"
    }
   ],
   "source": [
    "s_e = math.sqrt(MSE)\n",
    "s_e"
   ]
  },
  {
   "cell_type": "markdown",
   "metadata": {},
   "source": [
    "# Regression Statistics\n",
    "\n",
    "<img src=\"images/Project2--008.png\">\n",
    "\n",
    "<img src=\"images/Project2--009.png\">"
   ]
  },
  {
   "cell_type": "code",
   "execution_count": 120,
   "metadata": {},
   "outputs": [
    {
     "name": "stdout",
     "output_type": "stream",
     "text": [
      "['X', 'Y']\n"
     ]
    },
    {
     "data": {
      "text/plain": [
       "1     126\n",
       "2     114\n",
       "3      89\n",
       "4     130\n",
       "5     152\n",
       "6     110\n",
       "7     144\n",
       "8     146\n",
       "9     139\n",
       "10    104\n",
       "11    160\n",
       "12    134\n",
       "13    155\n",
       "14    138\n",
       "15    186\n",
       "16    160\n",
       "17    177\n",
       "18    144\n",
       "19    174\n",
       "20    180\n",
       "Name: Y, dtype: int64"
      ]
     },
     "execution_count": 120,
     "metadata": {},
     "output_type": "execute_result"
    }
   ],
   "source": [
    "# read data into a DataFrame\n",
    "df = pd.read_csv('chapter6.txt', delimiter='\\t', index_col=0)\n",
    "print(list(df.columns))\n",
    "df.columns = ['X','Y']\n",
    "df.Y"
   ]
  },
  {
   "cell_type": "code",
   "execution_count": 121,
   "metadata": {},
   "outputs": [],
   "source": [
    "# create a fitted model in one line\n",
    "lm = smf.ols(formula='Y ~ X ', data=df).fit()\n",
    "xmin = df.X.min()\n",
    "xmax = df.X.max()\n",
    "X = np.linspace(xmin, xmax, 100)\n",
    "\n",
    "# beta0\n",
    "intercept = lm.params[0]\n",
    "# beta1\n",
    "slope = lm.params[1]"
   ]
  },
  {
   "cell_type": "markdown",
   "metadata": {},
   "source": [
    "## Polynomial fit"
   ]
  },
  {
   "cell_type": "code",
   "execution_count": 122,
   "metadata": {},
   "outputs": [
    {
     "name": "stdout",
     "output_type": "stream",
     "text": [
      "f(t) = 109.168421 + 3.231579*x\n"
     ]
    }
   ],
   "source": [
    "Y = intercept + slope * X\n",
    "print(\"f(t) = %f + %f*x\" % (intercept, slope))"
   ]
  },
  {
   "cell_type": "code",
   "execution_count": 123,
   "metadata": {},
   "outputs": [
    {
     "data": {
      "image/png": "[encoded data removed]",
      "text/plain": [
       "<Figure size 1000x562.5 with 1 Axes>"
      ]
     },
     "metadata": {},
     "output_type": "display_data"
    }
   ],
   "source": [
    "plt.figure(figsize=figsize)\n",
    "plt.plot(df.X, df.Y, 'o',label='Y')\n",
    "plt.plot(X, Y, color='red', label='linear fit')\n",
    "plt.margins(0.005)\n",
    "plt.title(\"X vs Y\", weight='bold')\n",
    "plt.xlabel(\"X\")\n",
    "plt.ylabel(\"Y\")\n",
    "plt.legend(loc='lower right', fontsize=16)\n",
    "plt.show()\n"
   ]
  },
  {
   "cell_type": "code",
   "execution_count": 124,
   "metadata": {},
   "outputs": [
    {
     "name": "stdout",
     "output_type": "stream",
     "text": [
      "     X    Y  Predictions  Residuals  Residuals ^2\n",
      "1    1  126   112.400000  13.600000    184.960000\n",
      "2    2  114   115.631579  -1.631579      2.662050\n",
      "3    3   89   118.863158 -29.863158    891.808199\n",
      "4    4  130   122.094737   7.905263     62.493186\n",
      "5    5  152   125.326316  26.673684    711.485429\n",
      "6    6  110   128.557895 -18.557895    344.395457\n",
      "7    7  144   131.789474  12.210526    149.096953\n",
      "8    8  146   135.021053  10.978947    120.537285\n",
      "9    9  139   138.252632   0.747368      0.558560\n",
      "10  10  104   141.484211 -37.484211   1405.066039\n",
      "11  11  160   144.715789  15.284211    233.607091\n",
      "12  12  134   147.947368 -13.947368    194.529086\n",
      "13  13  155   151.178947   3.821053     14.600443\n",
      "14  14  138   154.410526 -16.410526    269.305374\n",
      "15  15  186   157.642105  28.357895    804.170194\n",
      "16  16  160   160.873684  -0.873684      0.763324\n",
      "17  17  177   164.105263  12.894737    166.274238\n",
      "18  18  144   167.336842 -23.336842    544.608199\n",
      "19  19  174   170.568421   3.431579     11.775734\n",
      "20  20  180   173.800000   6.200000     38.440000\n"
     ]
    }
   ],
   "source": [
    "#Estimate\n",
    "predictedValues=lm.predict()\n",
    "df['Predictions'] = predictedValues\n",
    "\n",
    "#Error\n",
    "res = df.Y-predictedValues\n",
    "df['Residuals'] = res\n",
    "\n",
    "#Error^2\n",
    "res_2 = res**2\n",
    "df['Residuals ^2'] = res_2\n",
    "print(df)"
   ]
  },
  {
   "cell_type": "code",
   "execution_count": 125,
   "metadata": {},
   "outputs": [
    {
     "data": {
      "image/png": "[encoded data removed]",
      "text/plain": [
       "<Figure size 1000x562.5 with 1 Axes>"
      ]
     },
     "metadata": {},
     "output_type": "display_data"
    }
   ],
   "source": [
    "plt.figure(figsize=figsize)\n",
    "plt.plot(df.X, df.Y, 'o',label='Y')\n",
    "plt.plot(df.X, df.Predictions, color='red',label='Predictions')\n",
    "plt.margins(0.005)\n",
    "plt.title(\"X vs Predictions\", weight='bold')\n",
    "plt.xlabel(\"X\")\n",
    "plt.ylabel(\"Predictions\")\n",
    "plt.legend(loc='lower right', fontsize=16)\n",
    "plt.show()"
   ]
  },
  {
   "cell_type": "code",
   "execution_count": 126,
   "metadata": {},
   "outputs": [
    {
     "data": {
      "text/plain": [
       "20"
      ]
     },
     "execution_count": 126,
     "metadata": {},
     "output_type": "execute_result"
    }
   ],
   "source": [
    "#Number of observations\n",
    "n= len(df)\n",
    "n"
   ]
  },
  {
   "cell_type": "markdown",
   "metadata": {},
   "source": [
    "Alternatively:"
   ]
  },
  {
   "cell_type": "code",
   "execution_count": 127,
   "metadata": {},
   "outputs": [
    {
     "data": {
      "text/plain": [
       "20.0"
      ]
     },
     "execution_count": 127,
     "metadata": {},
     "output_type": "execute_result"
    }
   ],
   "source": [
    "n = lm.nobs\n",
    "n"
   ]
  },
  {
   "cell_type": "code",
   "execution_count": 128,
   "metadata": {},
   "outputs": [
    {
     "data": {
      "text/plain": [
       "143.1"
      ]
     },
     "execution_count": 128,
     "metadata": {},
     "output_type": "execute_result"
    }
   ],
   "source": [
    "#Mean Y\n",
    "meanY = np.mean(df.Y)\n",
    "meanY"
   ]
  },
  {
   "cell_type": "code",
   "execution_count": 129,
   "metadata": {},
   "outputs": [
    {
     "data": {
      "text/plain": [
       "26.25362130409722"
      ]
     },
     "execution_count": 129,
     "metadata": {},
     "output_type": "execute_result"
    }
   ],
   "source": [
    "#Sample Standard Deviation of Y\n",
    "STD_Y = np.std(df.Y,ddof = 1)\n",
    "STD_Y"
   ]
  },
  {
   "cell_type": "code",
   "execution_count": 130,
   "metadata": {},
   "outputs": [
    {
     "data": {
      "text/plain": [
       "10.5"
      ]
     },
     "execution_count": 130,
     "metadata": {},
     "output_type": "execute_result"
    }
   ],
   "source": [
    "#Mean X\n",
    "meanX = np.mean(df.X)\n",
    "meanX"
   ]
  },
  {
   "cell_type": "code",
   "execution_count": 131,
   "metadata": {},
   "outputs": [
    {
     "data": {
      "text/plain": [
       "5.916079783099616"
      ]
     },
     "execution_count": 131,
     "metadata": {},
     "output_type": "execute_result"
    }
   ],
   "source": [
    "#Sample Standard Deviation of X\n",
    "STD_X = np.std(df.X,ddof = 1)\n",
    "STD_X"
   ]
  },
  {
   "cell_type": "code",
   "execution_count": 132,
   "metadata": {},
   "outputs": [
    {
     "data": {
      "text/html": [
       "<div>\n",
       "<style scoped>\n",
       "    .dataframe tbody tr th:only-of-type {\n",
       "        vertical-align: middle;\n",
       "    }\n",
       "\n",
       "    .dataframe tbody tr th {\n",
       "        vertical-align: top;\n",
       "    }\n",
       "\n",
       "    .dataframe thead th {\n",
       "        text-align: right;\n",
       "    }\n",
       "</style>\n",
       "<table border=\"1\" class=\"dataframe\">\n",
       "  <thead>\n",
       "    <tr style=\"text-align: right;\">\n",
       "      <th></th>\n",
       "      <th>X</th>\n",
       "      <th>Y</th>\n",
       "      <th>Predictions</th>\n",
       "      <th>Residuals</th>\n",
       "      <th>Residuals ^2</th>\n",
       "    </tr>\n",
       "  </thead>\n",
       "  <tbody>\n",
       "    <tr>\n",
       "      <th>X</th>\n",
       "      <td>1.000000e+00</td>\n",
       "      <td>0.728215</td>\n",
       "      <td>1.000000e+00</td>\n",
       "      <td>-2.845684e-16</td>\n",
       "      <td>-0.122912</td>\n",
       "    </tr>\n",
       "    <tr>\n",
       "      <th>Y</th>\n",
       "      <td>7.282149e-01</td>\n",
       "      <td>1.000000</td>\n",
       "      <td>7.282149e-01</td>\n",
       "      <td>6.853488e-01</td>\n",
       "      <td>-0.362903</td>\n",
       "    </tr>\n",
       "    <tr>\n",
       "      <th>Predictions</th>\n",
       "      <td>1.000000e+00</td>\n",
       "      <td>0.728215</td>\n",
       "      <td>1.000000e+00</td>\n",
       "      <td>-3.739774e-16</td>\n",
       "      <td>-0.122912</td>\n",
       "    </tr>\n",
       "    <tr>\n",
       "      <th>Residuals</th>\n",
       "      <td>-2.845684e-16</td>\n",
       "      <td>0.685349</td>\n",
       "      <td>-3.739774e-16</td>\n",
       "      <td>1.000000e+00</td>\n",
       "      <td>-0.398916</td>\n",
       "    </tr>\n",
       "    <tr>\n",
       "      <th>Residuals ^2</th>\n",
       "      <td>-1.229125e-01</td>\n",
       "      <td>-0.362903</td>\n",
       "      <td>-1.229125e-01</td>\n",
       "      <td>-3.989158e-01</td>\n",
       "      <td>1.000000</td>\n",
       "    </tr>\n",
       "  </tbody>\n",
       "</table>\n",
       "</div>"
      ],
      "text/plain": [
       "                         X         Y   Predictions     Residuals  Residuals ^2\n",
       "X             1.000000e+00  0.728215  1.000000e+00 -2.845684e-16     -0.122912\n",
       "Y             7.282149e-01  1.000000  7.282149e-01  6.853488e-01     -0.362903\n",
       "Predictions   1.000000e+00  0.728215  1.000000e+00 -3.739774e-16     -0.122912\n",
       "Residuals    -2.845684e-16  0.685349 -3.739774e-16  1.000000e+00     -0.398916\n",
       "Residuals ^2 -1.229125e-01 -0.362903 -1.229125e-01 -3.989158e-01      1.000000"
      ]
     },
     "execution_count": 132,
     "metadata": {},
     "output_type": "execute_result"
    }
   ],
   "source": [
    "#Correlation of X,Y\n",
    "df.corr()"
   ]
  },
  {
   "cell_type": "code",
   "execution_count": 133,
   "metadata": {},
   "outputs": [
    {
     "data": {
      "text/plain": [
       "0.5302969774961999"
      ]
     },
     "execution_count": 133,
     "metadata": {},
     "output_type": "execute_result"
    }
   ],
   "source": [
    "#Rquared ((correlation of X,Y) ^2)\n",
    "R_quared = lm.rsquared\n",
    "R_quared"
   ]
  },
  {
   "cell_type": "code",
   "execution_count": 134,
   "metadata": {},
   "outputs": [
    {
     "data": {
      "text/plain": [
       "0.5042023651348776"
      ]
     },
     "execution_count": 134,
     "metadata": {},
     "output_type": "execute_result"
    }
   ],
   "source": [
    "#Adgusted Rquared \n",
    "Adj_Rquared = lm.rsquared_adj\n",
    "Adj_Rquared"
   ]
  },
  {
   "cell_type": "code",
   "execution_count": 135,
   "metadata": {},
   "outputs": [
    {
     "data": {
      "text/plain": [
       "18.48593585841419"
      ]
     },
     "execution_count": 135,
     "metadata": {},
     "output_type": "execute_result"
    }
   ],
   "source": [
    "#Standard Error of regression\n",
    "STDE_reg = math.sqrt(1-Adj_Rquared) * STD_Y\n",
    "STDE_reg"
   ]
  },
  {
   "cell_type": "code",
   "execution_count": 136,
   "metadata": {},
   "outputs": [
    {
     "data": {
      "text/plain": [
       "3.2315789473684218"
      ]
     },
     "execution_count": 136,
     "metadata": {},
     "output_type": "execute_result"
    }
   ],
   "source": [
    "#slope\n",
    "slope"
   ]
  },
  {
   "cell_type": "code",
   "execution_count": 137,
   "metadata": {},
   "outputs": [
    {
     "data": {
      "text/plain": [
       "0.7168538452367275"
      ]
     },
     "execution_count": 137,
     "metadata": {},
     "output_type": "execute_result"
    }
   ],
   "source": [
    "#Standard Error of Slope \n",
    "STDE_slope = (STDE_reg/math.sqrt(n))*(1/np.std(df.X,ddof =0))\n",
    "STDE_slope"
   ]
  },
  {
   "cell_type": "markdown",
   "metadata": {},
   "source": [
    "Alternatively:"
   ]
  },
  {
   "cell_type": "code",
   "execution_count": 138,
   "metadata": {},
   "outputs": [
    {
     "data": {
      "text/plain": [
       "0.7168538452367277"
      ]
     },
     "execution_count": 138,
     "metadata": {},
     "output_type": "execute_result"
    }
   ],
   "source": [
    "STDE_slope = lm.bse.X \n",
    "STDE_slope"
   ]
  },
  {
   "cell_type": "code",
   "execution_count": 139,
   "metadata": {},
   "outputs": [
    {
     "data": {
      "text/plain": [
       "4.508002529164439"
      ]
     },
     "execution_count": 139,
     "metadata": {},
     "output_type": "execute_result"
    }
   ],
   "source": [
    "#T-stat of SLOPE \n",
    "t_stat_slope = slope/STDE_slope\n",
    "t_stat_slope"
   ]
  },
  {
   "cell_type": "markdown",
   "metadata": {},
   "source": [
    "Alternatively:"
   ]
  },
  {
   "cell_type": "code",
   "execution_count": 140,
   "metadata": {},
   "outputs": [
    {
     "data": {
      "text/plain": [
       "4.508002529164439"
      ]
     },
     "execution_count": 140,
     "metadata": {},
     "output_type": "execute_result"
    }
   ],
   "source": [
    "t_stat_slope = lm.tvalues.X\n",
    "t_stat_slope"
   ]
  },
  {
   "cell_type": "code",
   "execution_count": 141,
   "metadata": {},
   "outputs": [
    {
     "data": {
      "text/plain": [
       "0.0002721537632911419"
      ]
     },
     "execution_count": 141,
     "metadata": {},
     "output_type": "execute_result"
    }
   ],
   "source": [
    "#p-value of Slope\n",
    "p_value_slope = lm.f_pvalue\n",
    "p_value_slope"
   ]
  },
  {
   "cell_type": "code",
   "execution_count": 142,
   "metadata": {},
   "outputs": [
    {
     "data": {
      "text/plain": [
       "109.16842105263152"
      ]
     },
     "execution_count": 142,
     "metadata": {},
     "output_type": "execute_result"
    }
   ],
   "source": [
    "#Intercept\n",
    "intercept"
   ]
  },
  {
   "cell_type": "code",
   "execution_count": 143,
   "metadata": {},
   "outputs": [
    {
     "data": {
      "text/plain": [
       "8.587298701239106"
      ]
     },
     "execution_count": 143,
     "metadata": {},
     "output_type": "execute_result"
    }
   ],
   "source": [
    "#Standard Error of intercept \n",
    "STDE_interc =lm.bse.Intercept\n",
    "STDE_interc"
   ]
  },
  {
   "cell_type": "code",
   "execution_count": 144,
   "metadata": {},
   "outputs": [
    {
     "data": {
      "text/plain": [
       "12.712777888683322"
      ]
     },
     "execution_count": 144,
     "metadata": {},
     "output_type": "execute_result"
    }
   ],
   "source": [
    "#T-stat of intercept \n",
    "t_stat_interc = intercept/STDE_interc\n",
    "t_stat_interc"
   ]
  },
  {
   "cell_type": "markdown",
   "metadata": {},
   "source": [
    "Alternatively:"
   ]
  },
  {
   "cell_type": "code",
   "execution_count": 145,
   "metadata": {},
   "outputs": [
    {
     "data": {
      "text/plain": [
       "12.712777888683322"
      ]
     },
     "execution_count": 145,
     "metadata": {},
     "output_type": "execute_result"
    }
   ],
   "source": [
    "t_stat_interc = lm.tvalues.Intercept\n",
    "t_stat_interc"
   ]
  },
  {
   "cell_type": "code",
   "execution_count": 146,
   "metadata": {},
   "outputs": [
    {
     "data": {
      "text/plain": [
       "0.95"
      ]
     },
     "execution_count": 146,
     "metadata": {},
     "output_type": "execute_result"
    }
   ],
   "source": [
    "#Confidence Level\n",
    "conf_level = 0.95\n",
    "conf_level"
   ]
  },
  {
   "cell_type": "code",
   "execution_count": 147,
   "metadata": {},
   "outputs": [
    {
     "data": {
      "text/plain": [
       "2.10092204024096"
      ]
     },
     "execution_count": 147,
     "metadata": {},
     "output_type": "execute_result"
    }
   ],
   "source": [
    "#Critical t-value\n",
    "critical_t_val = stats.t.ppf((1-(1-conf_level)/2),n-2)\n",
    "critical_t_val"
   ]
  },
  {
   "cell_type": "code",
   "execution_count": 148,
   "metadata": {},
   "outputs": [
    {
     "data": {
      "text/plain": [
       "21"
      ]
     },
     "execution_count": 148,
     "metadata": {},
     "output_type": "execute_result"
    }
   ],
   "source": [
    "x = 21\n",
    "x"
   ]
  },
  {
   "cell_type": "code",
   "execution_count": 149,
   "metadata": {},
   "outputs": [
    {
     "data": {
      "text/plain": [
       "177.03157894736836"
      ]
     },
     "execution_count": 149,
     "metadata": {},
     "output_type": "execute_result"
    }
   ],
   "source": [
    "#Forecast at x\n",
    "forecact_x = intercept + x*slope\n",
    "forecact_x"
   ]
  },
  {
   "cell_type": "code",
   "execution_count": 150,
   "metadata": {},
   "outputs": [
    {
     "data": {
      "text/plain": [
       "8.587298701239108"
      ]
     },
     "execution_count": 150,
     "metadata": {},
     "output_type": "execute_result"
    }
   ],
   "source": [
    "#Standard Error of mean at x \n",
    "STD_mean_x = (STDE_reg/math.sqrt(n))*math.sqrt(1+((x-meanX)**2)/np.var(df.X,ddof =0))\n",
    "#STD_mean_x = stats.sem(df.X, ddof = 0)\n",
    "STD_mean_x"
   ]
  },
  {
   "cell_type": "code",
   "execution_count": 151,
   "metadata": {},
   "outputs": [
    {
     "data": {
      "text/plain": [
       "158.99033383980253"
      ]
     },
     "execution_count": 151,
     "metadata": {},
     "output_type": "execute_result"
    }
   ],
   "source": [
    "#Lower 95% conf limit for mean\n",
    "forecact_x - (critical_t_val * STD_mean_x )"
   ]
  },
  {
   "cell_type": "code",
   "execution_count": 152,
   "metadata": {},
   "outputs": [
    {
     "data": {
      "text/plain": [
       "195.0728240549342"
      ]
     },
     "execution_count": 152,
     "metadata": {},
     "output_type": "execute_result"
    }
   ],
   "source": [
    "#Upper 95% conf limit for mean\n",
    "forecact_x + critical_t_val * STD_mean_x "
   ]
  },
  {
   "cell_type": "code",
   "execution_count": 153,
   "metadata": {},
   "outputs": [
    {
     "data": {
      "text/plain": [
       "20.38311859224948"
      ]
     },
     "execution_count": 153,
     "metadata": {},
     "output_type": "execute_result"
    }
   ],
   "source": [
    "#Standard Error of forecast at x LOOK AGAIN\n",
    "STD_forec_x = math.sqrt(STDE_reg**2 + STD_mean_x**2)\n",
    "STD_forec_x"
   ]
  },
  {
   "cell_type": "code",
   "execution_count": 154,
   "metadata": {},
   "outputs": [
    {
     "data": {
      "text/plain": [
       "134.20823584806612"
      ]
     },
     "execution_count": 154,
     "metadata": {},
     "output_type": "execute_result"
    }
   ],
   "source": [
    "#Lower 95% conf limit for forecast\n",
    "forecact_x - (critical_t_val * STD_forec_x )"
   ]
  },
  {
   "cell_type": "code",
   "execution_count": 155,
   "metadata": {},
   "outputs": [
    {
     "data": {
      "text/plain": [
       "219.8549220466706"
      ]
     },
     "execution_count": 155,
     "metadata": {},
     "output_type": "execute_result"
    }
   ],
   "source": [
    "#Upper 95% conf limit for forecast\n",
    "forecact_x + (critical_t_val * STD_forec_x )"
   ]
  },
  {
   "cell_type": "markdown",
   "metadata": {},
   "source": [
    "## CIs for regression parameters\n",
    "\n",
    "1. Regression coefficients $ \\beta_0 $ and $ \\beta_1 $ are estimates from a single random sample of size $ n \\ge 1 $.\n",
    "\n",
    "2. Using another sample, the estimates may be different.\n",
    "\n",
    "\n",
    "Thus, the coefficients are random in the same way as the sample mean or any other parameter computed from a smaple.\n",
    "\n",
    "Using a single sample, only probabilistic statements can be made about true parameters.\n",
    "\n",
    "**If $ \\beta_0 $ and $ \\beta_1 $ are true regression parameters of the population (i.e., $ y = \\beta_0 + \\beta_1 x + \\epsilon $), then the computed coefficients $ b_0 $ and $ b_1 $ are estimates of $ \\beta_0 $ and $ \\beta_1 $, respectively.**\n",
    "\n",
    "Sample standard deviation of $ b_0 $ and $ b_1 $ from the population parameters can be computed as follows:\n",
    "\n",
    "$ s_{b_0} = s_e \\left[ \\dfrac{1}{n} + \\dfrac{ \\overline{x}^2 }{ \\sum x^2 - n \\overline{x}^2 } \\right]^{1/2} $\n",
    "\n",
    "$ s_{b_1} = \\dfrac{ s_e }{ \\left[ \\sum x^2 - n \\overline{x}^2 \\right]^{1/2} } $\n",
    "\n",
    "Here the $ s_e $ is the standard devation of errors and $ \\overline{x} $ is the sample mean of $ x $.\n",
    "\n",
    "The $ 100 (1 - a) \\% $ confidence intervals (interval that contains the coefficient values) for $ \\beta_0 $ and $ \\beta_1 $ can be computed using $ t_{[1 - a/2; n - 2]} $ -- the $ 1 - a / 2 $ quantile of a $ t $ variate with $ n - 2 $ degrees of freedom or with $ 100 (1 - a) $ percent confidence.\n",
    "\n",
    "The confidence intervals are:\n",
    "\n",
    "$ b_0 \\mp t s_{b_0} $\n",
    "\n",
    "$ b_1 \\mp t s_{b_1} $\n",
    "\n",
    "If a confidence interval includes zero, then the regression parameter cannot be considered different from zero at the $ 100 (1 - a) \\% $ confidence level.\n",
    "\n",
    "Notice that the $ t_{[1 - a/2; n - 2]} $ is computed by the following table."
   ]
  },
  {
   "cell_type": "markdown",
   "metadata": {},
   "source": [
    "## Example \n",
    "\n",
    "For the disk I/O and CPU data, we have $ n = 7 $, $ \\overline{x} = 38.71 $, $ \\sum{x^2} = 13855 $ and $ s_e = 1.0834 $.\n",
    "\n",
    "1) standard deviations of $ b_0 $ and $ b_1 $ are\n",
    "\n",
    "$ s_{b_0} = s_e \\left[ \\dfrac{1}{n} + \\dfrac{ \\overline{x}^2 }{ \\sum x^2 - n \\overline{x}^2 } \\right]^{1/2} = 0.8311 $\n",
    "\n",
    "$ s_{b_1} = \\dfrac{ s_e }{ \\left[ \\sum x^2 - n \\overline{x}^2 \\right]^{1/2} } = 0.0187 $"
   ]
  },
  {
   "cell_type": "code",
   "execution_count": 156,
   "metadata": {},
   "outputs": [
    {
     "name": "stdout",
     "output_type": "stream",
     "text": [
      "['Disk I/Os', 'CPU Time']\n"
     ]
    },
    {
     "data": {
      "text/html": [
       "<div>\n",
       "<style scoped>\n",
       "    .dataframe tbody tr th:only-of-type {\n",
       "        vertical-align: middle;\n",
       "    }\n",
       "\n",
       "    .dataframe tbody tr th {\n",
       "        vertical-align: top;\n",
       "    }\n",
       "\n",
       "    .dataframe thead th {\n",
       "        text-align: right;\n",
       "    }\n",
       "</style>\n",
       "<table border=\"1\" class=\"dataframe\">\n",
       "  <thead>\n",
       "    <tr style=\"text-align: right;\">\n",
       "      <th></th>\n",
       "      <th>Disk_IOs</th>\n",
       "      <th>CPU_Time</th>\n",
       "    </tr>\n",
       "  </thead>\n",
       "  <tbody>\n",
       "    <tr>\n",
       "      <th>1</th>\n",
       "      <td>14</td>\n",
       "      <td>2</td>\n",
       "    </tr>\n",
       "    <tr>\n",
       "      <th>2</th>\n",
       "      <td>16</td>\n",
       "      <td>5</td>\n",
       "    </tr>\n",
       "    <tr>\n",
       "      <th>3</th>\n",
       "      <td>27</td>\n",
       "      <td>7</td>\n",
       "    </tr>\n",
       "    <tr>\n",
       "      <th>4</th>\n",
       "      <td>42</td>\n",
       "      <td>9</td>\n",
       "    </tr>\n",
       "    <tr>\n",
       "      <th>5</th>\n",
       "      <td>39</td>\n",
       "      <td>10</td>\n",
       "    </tr>\n",
       "    <tr>\n",
       "      <th>6</th>\n",
       "      <td>50</td>\n",
       "      <td>13</td>\n",
       "    </tr>\n",
       "    <tr>\n",
       "      <th>7</th>\n",
       "      <td>83</td>\n",
       "      <td>20</td>\n",
       "    </tr>\n",
       "  </tbody>\n",
       "</table>\n",
       "</div>"
      ],
      "text/plain": [
       "   Disk_IOs  CPU_Time\n",
       "1        14         2\n",
       "2        16         5\n",
       "3        27         7\n",
       "4        42         9\n",
       "5        39        10\n",
       "6        50        13\n",
       "7        83        20"
      ]
     },
     "execution_count": 156,
     "metadata": {},
     "output_type": "execute_result"
    }
   ],
   "source": [
    "ex1 = pd.read_csv('example_1.txt', delimiter='\\t', index_col=0)\n",
    "print(list(ex1.columns))\n",
    "ex1.columns = ['Disk_IOs','CPU_Time']\n",
    "ex1"
   ]
  },
  {
   "cell_type": "code",
   "execution_count": 157,
   "metadata": {},
   "outputs": [
    {
     "data": {
      "text/plain": [
       "7"
      ]
     },
     "execution_count": 157,
     "metadata": {},
     "output_type": "execute_result"
    }
   ],
   "source": [
    "n = len(ex1)\n",
    "n"
   ]
  },
  {
   "cell_type": "code",
   "execution_count": 158,
   "metadata": {},
   "outputs": [
    {
     "data": {
      "text/plain": [
       "38.714285714285715"
      ]
     },
     "execution_count": 158,
     "metadata": {},
     "output_type": "execute_result"
    }
   ],
   "source": [
    "x_bar = ex1.Disk_IOs.mean()\n",
    "x_bar"
   ]
  },
  {
   "cell_type": "code",
   "execution_count": 159,
   "metadata": {},
   "outputs": [
    {
     "data": {
      "text/plain": [
       "13855"
      ]
     },
     "execution_count": 159,
     "metadata": {},
     "output_type": "execute_result"
    }
   ],
   "source": [
    "sum_x_squared = sum(ex1.Disk_IOs ** 2)\n",
    "sum_x_squared"
   ]
  },
  {
   "cell_type": "code",
   "execution_count": 160,
   "metadata": {},
   "outputs": [
    {
     "data": {
      "text/plain": [
       "1.0834097832352199"
      ]
     },
     "execution_count": 160,
     "metadata": {},
     "output_type": "execute_result"
    }
   ],
   "source": [
    "lm = smf.ols(formula='CPU_Time ~ Disk_IOs ', data=ex1).fit()\n",
    "s_e = math.sqrt(lm.mse_resid)\n",
    "s_e"
   ]
  },
  {
   "cell_type": "code",
   "execution_count": 161,
   "metadata": {},
   "outputs": [
    {
     "data": {
      "text/plain": [
       "0.8311049969529887"
      ]
     },
     "execution_count": 161,
     "metadata": {},
     "output_type": "execute_result"
    }
   ],
   "source": [
    "sb0 = s_e * (1 / n + x_bar ** 2 / (sum_x_squared - n * x_bar ** 2)) ** 0.5\n",
    "sb0"
   ]
  },
  {
   "cell_type": "code",
   "execution_count": 162,
   "metadata": {},
   "outputs": [
    {
     "data": {
      "text/plain": [
       "0.01868106572582482"
      ]
     },
     "execution_count": 162,
     "metadata": {},
     "output_type": "execute_result"
    }
   ],
   "source": [
    "sb1 = s_e / (sum_x_squared - n * x_bar ** 2) ** 0.5\n",
    "sb1"
   ]
  },
  {
   "cell_type": "markdown",
   "metadata": {},
   "source": [
    "2) For the 0.95-quantile of a t-variate with 5 degrees of freedom is 2.015 $ \\Rightarrow $ 90% compute the confidence interval for $ b_0 $ and $ b_1 $.\n",
    "\n",
    "Since, the confidence interval includes zero, the hypothesis that this parameter is zero cannot be rejected at 0.10 significance level $ \\Rightarrow b $ is essentially zero.\n",
    "\n",
    "90% Confidence Interval for $ b_1 $ is: $ 0.2438 \\mp 0.0376 = (0.2061, 0.2814) $\n",
    "\n",
    "Since the confidence interval does not include zero, the slope $ b_1 $ is significantly\n",
    "different from zero at this confidence level.\n",
    "\n",
    "<img src=\"images/Project2--011.png\">\n",
    "\n",
    "<img src=\"images/Project2--012.png\">"
   ]
  },
  {
   "cell_type": "markdown",
   "metadata": {},
   "source": [
    "\n",
    "\n",
    "\\begin{exercise}\n",
    "\n",
    "\n",
    "\n",
    "\n",
    "The performance of a remote procedure call (RPC) mechanism was compared on two operating systems named UNIX and ARGUS. The performance metric was total elapsed time, which was measured for various data sizes. The measurements are shown in Table below.\n",
    "\n",
    "1) Plot the scatter diagrams of the two data sets along with the regression lines a for UNIX and ARGUS, respectively.\n",
    "\n",
    "2) Notice that for large data sizes the variance of both data sets is large.  This is because ARGUS measurements are affected by the garbage collection and UNIX measurements are affected by a page optimization technique that avoids copying of complete data pages by mapping the pages from the input buffer into the kernel instead of the normal copying.\n",
    "\n",
    "3) Compute the 90% confidence intervals for regression coefficients for RPC study.\n",
    "\n",
    "4) How much of the variation is explained by regression in the two data sets?\n",
    "\n",
    "5) Compute the Best linear models for UNIX and ARGUS\n",
    "\n",
    "6) Does ARGUS takes larger time per byte as well as a larger set up time per call than UNIX?\n",
    "\n",
    "7) Intervals for intercepts overlap while those of the slopes do not. What does it mean?\n",
    "\n",
    "<img src=\"images/Project2--013.png\">\n",
    "\\end{exercise}"
   ]
  },
  {
   "cell_type": "markdown",
   "metadata": {},
   "source": [
    "**1) Plot the scatter diagrams of the two data sets along with the regression lines a for UNIX and ARGUS, respectively.**"
   ]
  },
  {
   "cell_type": "markdown",
   "metadata": {},
   "source": [
    "**3) Compute the 90% confidence intervals for regression coefficients for RPC study.**"
   ]
  },
  {
   "cell_type": "markdown",
   "metadata": {},
   "source": [
    "**4) How much of the variation is explained by regression in the two data sets?**"
   ]
  },
  {
   "cell_type": "markdown",
   "metadata": {},
   "source": [
    "**5) Compute the Best linear models for UNIX and ARGUS**"
   ]
  },
  {
   "cell_type": "markdown",
   "metadata": {},
   "source": [
    "**6) Does ARGUS takes larger time per byte as well as a larger set up time per call than UNIX?**"
   ]
  },
  {
   "cell_type": "markdown",
   "metadata": {},
   "source": [
    "**7) Intervals for intercepts overlap while those of the slopes do not. What does it mean?**"
   ]
  },
  {
   "cell_type": "markdown",
   "metadata": {},
   "source": [
    "## CI for predications\n",
    "\n",
    "The purpose of developing regression usually is to predict the value of the response variable for those values of predictor variables that have not been measured.\n",
    "\n",
    "Given the regression equation, it is easy to predict the response $\\widehat{y_{p}}$ for any given value of predictor variable $x_{p}$:\n",
    "\t\t\t\t \\widehat{y_{p}}=b_{0}+b_{1}x_{p} \n",
    "                 \n",
    "This is only the mean value of the predicted response based upon the sample.\n",
    "\n",
    "Like most of the other computations based on the sample, it is necessaryto specify a confidence interval for this predicted mean. The formula for the standard deviation of the mean of a future sample of $m$ observations is:\n",
    "\n",
    "$s_{ \\widehat{y}_{mp}} = s_{e}\\left [ \\frac{1}{m}+ \\frac{1}{n}+ \\frac{(x_{p}- \\overline{x})^{2}}{\\sum(x^{2})-n( \\overline{x})^{2}}\\right ]  ^{ \\frac{1}{2}} $\n",
    "\n",
    "$m= 1 \\rightarrow$  Standard deviation of a single future observation:\n",
    "\n",
    "$m= \\infty \\rightarrow$  Standard deviation of the mean of a large number of future observations at $x_{p} $:\n",
    "\n",
    "$s_{ \\widehat{y}_{mp}} = s_{e}\\left [  \\frac{1}{n}+ \\frac{(x_{p}- \\overline{x})^{2}}{\\sum(x^{2})-n( \\overline{x})^{2}}\\right ]  ^{ \\frac{1}{2}}$\n",
    "\n",
    "Notice that the standard deviation for the mean of an infinite future sample is lower than that of finite samples since in the latter case the error associated with the future observations should also be accounted for.\n",
    "In all cases discussed above, a $100(1-a)\\%$  confidence interval for the mean can be constructed using a $t$ quantile read at $n-2$ degrees of freedom.\n",
    "\n",
    "Standard deviation of the prediction is minimal at the center of the measured range (i.e.,\n",
    "when $x=x$); Goodness of the prediction decreases as we move away\n",
    "from the center.\n",
    "\n",
    "<img src=\"images/Project2--015.png\">"
   ]
  },
  {
   "cell_type": "markdown",
   "metadata": {
    "collapsed": true
   },
   "source": [
    "\\begin{exercise}\n",
    "Using the disk $I/O$ and $CPU$ time data of Example above, estimate the $CPU$ time for a program with $100$ disk $I/O$’s, compute the standard deviation of errors, the standard deviation of the predicted mean of a large number of observations $s_{ \\widehat{y}_{p}} $, from table above, find the $0.95$-quantile of the $t$-variate with $5$ degrees of freedom, the $90\\%$ $CI$ for the predicted mean, compute the $CPU$ time of a single future program with $100$ disk $I/O$’s with $90\\%$ $CI$ for a single prediction.\n",
    "\\end{exercise}\n",
    "\n",
    "\n"
   ]
  },
  {
   "cell_type": "markdown",
   "metadata": {
    "collapsed": true
   },
   "source": [
    "### Outline\n",
    "\n",
    "• Definition of a Good Model\n",
    "\n",
    "• Estimation of Model parameters\n",
    "\n",
    "• Allocation of Variation\n",
    "\n",
    "• Standard deviation of Errors\n",
    "\n",
    "• Confidence Intervals for Regression Parameters\n",
    "\n",
    "• Confidence Intervals for Predictions\n",
    "\n",
    "• **Visual Tests for verifying Regression Assumption**"
   ]
  },
  {
   "cell_type": "markdown",
   "metadata": {
    "collapsed": true
   },
   "source": [
    "## Visual test for regress assumptions\n",
    "\n",
    "Regression assumptions:\n",
    "\n",
    "The true relationship between the response variable y and the predictor\n",
    "variable x is linear.\n",
    "\n",
    "The predictor variable x is non-stochastic and it is measured without any\n",
    "error.\n",
    "\n",
    "The model errors are statistically independent.\n",
    "\n",
    "The errors are normally distributed with zero mean and a constant standard\n",
    "deviation.\n",
    "\n",
    "If any of the assumptions are violated, the conclusions based on the regression\n",
    "model would be misleading. In this section, we describe a number of visual\n",
    "techniques to verify that these assumptions hold. Unlike statistical tests, all\n",
    "visual techniques are approximate. However, we have found them useful for\n",
    "two reasons. First, they are easier to explain to decision makers who may not\n",
    "understand statistical tests. Second, they often provide more information than\n",
    "a simple “pass-fail” type answer obtained from a test. Often, using a visual\n",
    "test, one can also find the cause of the problem."
   ]
  },
  {
   "cell_type": "markdown",
   "metadata": {
    "collapsed": true
   },
   "source": [
    "## Visual test for linear relationship\n",
    "\n",
    "Independent Errors: After the regression, compute errors and prepare a scatter plot of $ \\in i $ versus the predicted response . Any visible trends in the scatter plot would indicate a dependence of errors on the predictor variable. In the Figure below shows three hypothetical plots of error versus predicted response. In case (a), there is no visible trend or clustering of points, and therefore, the errors appear to be independent. In case (b), we see that the errors increase with increasing response. In case (c), the trend is nonlinear. Any such trend is indicative of an inappropriate model. It is quite possible that a linear model is not appropriate for this case.\n",
    "\n",
    "<img src=\"images/Project2--016.png\">"
   ]
  },
  {
   "cell_type": "markdown",
   "metadata": {},
   "source": [
    "## Visual test for independent errors\n",
    "Scatter plot of $ \\varepsilon_i $ versus the predicted response $ \\widehat{y}_i $.\n",
    "\n",
    "<img src=\"images/Project2--018.png\">\n",
    "\n",
    "Any trend would imply the dependence of errors on predictor variable $ \\Rightarrow $ curvilinear model or transformation.\n",
    "\n",
    "In practice, dependence can be proven yet independence cannot.\n",
    "\n",
    "Plot the residuals as a function of the experiment number\n",
    "\n",
    "<img src=\"images/Project2--020.png\">\n",
    "\n",
    "Any trend would imply that other factors (such as environmental conditions or side effects) should be considered in the modeling."
   ]
  },
  {
   "cell_type": "markdown",
   "metadata": {},
   "source": [
    "## Visual test for \"normal distribution of errors\"\n",
    "\n",
    "Prepare a normal quantile-quantile plot of errors.\n",
    "\n",
    "Linear $\\Rightarrow$  the assumption is satisfied\n",
    "\n",
    "<img src=\"images/Project2--022.png\">"
   ]
  },
  {
   "cell_type": "markdown",
   "metadata": {},
   "source": [
    "## Visual test for constant standard deviation of errors\n",
    "\n",
    "Also known as **homoscedasticity**.\n",
    "\n",
    "To verify it, observe the scatter plot of errors versus predicted responseprepared for the independence test. If the spread in one part of the graph seems significantly different than that in other parts, then the assumption of constant\n",
    "variance is not valid. \n",
    "\n",
    "The Figure below shows two hypothetical examples. \n",
    "\n",
    "In case (a), the spread is homogeneous. In case (b), the spread appears to be\n",
    "increasing as the predicted response increases. This implies that the distribution\n",
    "of the errors still depends on the predictor variables. The regression model does\n",
    "not fully incorporate the e↵ect of predictors. The linear model is not a good\n",
    "model in this case.\n",
    "<img src=\"images/Project2--024.png\">\n",
    "\n",
    "Trend $\\Rightarrow$ Try curvilinear regression or transformation"
   ]
  },
  {
   "cell_type": "markdown",
   "metadata": {},
   "source": [
    "## Summary\n",
    "\n",
    "• Definition of a Good Model\n",
    "\n",
    "• Estimation of Model parameters\n",
    "\n",
    "• Allocation of Variation\n",
    "\n",
    "• Standard deviation of Errors\n",
    "\n",
    "• Confidence Intervals for Regression Parameters\n",
    "\n",
    "• Confidence Intervals for Predictions\n",
    "\n",
    "• Visual Tests for verifying Regression Assumption\n",
    "\n",
    "<img src=\"images/Project2--026.png\">"
   ]
  },
  {
   "cell_type": "markdown",
   "metadata": {},
   "source": [
    "\\begin{exercise}\n",
    "The time to encrypt a k-byte record using an encryption technique is shown in the following Table. Fit an optimal linear regression model to this data. First try to identify a linear model with non zero intersect. Use the statistical data (i.e. confidence interval) to accept or reject the model. Explain. Second, try to generate a linear model with zero intersect. What do you observe?\n",
    "\n",
    "\\end{exercise}\n",
    "\n",
    "\n",
    "\n",
    "**TABLE: Measured Encryption Times for Various Record Sizes**\n",
    "\n",
    "<img src=\"images/Project2--027.png\">"
   ]
  },
  {
   "cell_type": "markdown",
   "metadata": {},
   "source": [
    "# Review Questions\n",
    "\n",
    "\n",
    "### **1. How does regression differ from correlation?**\n",
    "\n",
    "\n",
    "\n",
    "### **2. How does an algebraic line differ from a statistical line?**\n",
    "\n",
    "T \n",
    "\n",
    "\n",
    "### **3. Lines are characterized by their slope and intercept. What does the slope tell you about the line? What does the intercept tell you? What does a slope of 0 indicate?**\n",
    "\n",
    "\n",
    "\n",
    "### **4. What is ”squared” in a least squared regression line?**\n",
    "\n",
    "\n",
    "\n",
    "### **5. Suppose the relation between AGE (years) and HEIGHT (inches) in an adolescent population is described              by this model: = 46 + 1.5X. Interpret the slope of this model.Then, predict the average height of a 10 year-old**\n",
    "\n",
    "\n",
    "\n",
    "\n",
    "### **6. What t value do you use when calculating a $95\\%$ confidence interval for b when n = 25?**\n",
    "\n",
    "\n",
    "\n",
    "### **7. What symbol is used to denote the slope in the data?**\n",
    "\n",
    "\n",
    "\n",
    "\n",
    "### **8. What symbol is used to denote the slope in the population?**\n",
    "\n",
    "\n",
    "\n",
    "### **9. The Normality and equal variance assumptions for regression refer to the distribution of the **residuals****.\n",
    "\n",
    "\n",
    "### **10. What is a residual?**\n",
    "\n",
    "\n",
    "\n",
    "### **11. What distributional conditions are necessary to help infer population slope beta?**\n",
    "\n",
    "\n",
    "\n",
    "\n",
    "### **12. Assuming that the 90% confidence interval of the slope contains zero (0). What that implies?**\n",
    "\n"
   ]
  },
  {
   "cell_type": "code",
   "execution_count": null,
   "metadata": {},
   "outputs": [],
   "source": []
  }
 ],
 "metadata": {
  "anaconda-cloud": {},
  "author": "",
  "kernelspec": {
   "display_name": "Python 3 (ipykernel)",
   "language": "python",
   "name": "python3"
  },
  "language_info": {
   "codemirror_mode": {
    "name": "ipython",
    "version": 3
   },
   "file_extension": ".py",
   "mimetype": "text/x-python",
   "name": "python",
   "nbconvert_exporter": "python",
   "pygments_lexer": "ipython3",
   "version": "3.9.13"
  },
  "latex_envs": {
   "LaTeX_envs_menu_present": true,
   "autoclose": false,
   "autocomplete": true,
   "bibliofile": "biblio.bib",
   "cite_by": "apalike",
   "current_citInitial": 1,
   "eqLabelWithNumbers": true,
   "eqNumInitial": 1,
   "hotkeys": {
    "equation": "Ctrl-E",
    "itemize": "Ctrl-I"
   },
   "labels_anchors": false,
   "latex_user_defs": false,
   "report_style_numbering": false,
   "user_envs_cfg": false
  },
  "nbTranslate": {
   "displayLangs": [
    "*"
   ],
   "hotkey": "alt-t",
   "langInMainMenu": true,
   "sourceLang": "en",
   "targetLang": "fr",
   "useGoogleTranslate": true
  },
  "toc": {
   "base_numbering": 1,
   "nav_menu": {},
   "number_sections": true,
   "sideBar": true,
   "skip_h1_title": false,
   "title_cell": "Table of Contents",
   "title_sidebar": "Contents",
   "toc_cell": false,
   "toc_position": {
    "height": "calc(100% - 180px)",
    "left": "10px",
    "top": "150px",
    "width": "281.6px"
   },
   "toc_section_display": true,
   "toc_window_display": false
  },
  "varInspector": {
   "cols": {
    "lenName": 16,
    "lenType": 16,
    "lenVar": 40
   },
   "kernels_config": {
    "python": {
     "delete_cmd_postfix": "",
     "delete_cmd_prefix": "del ",
     "library": "var_list.py",
     "varRefreshCmd": "print(var_dic_list())"
    },
    "r": {
     "delete_cmd_postfix": ") ",
     "delete_cmd_prefix": "rm(",
     "library": "var_list.r",
     "varRefreshCmd": "cat(var_dic_list()) "
    }
   },
   "types_to_exclude": [
    "module",
    "function",
    "builtin_function_or_method",
    "instance",
    "_Feature"
   ],
   "window_display": false
  }
 },
 "nbformat": 4,
 "nbformat_minor": 1
}
