{
  "cells": [
    {
      "attachments": {},
      "cell_type": "markdown",
      "metadata": {
        "id": "VFhaDRDlqhEc"
      },
      "source": [
        "# Import Libraries"
      ]
    },
    {
      "cell_type": "code",
      "execution_count": 4,
      "metadata": {
        "execution": {
          "iopub.execute_input": "2022-03-18T11:57:21.348636Z",
          "iopub.status.busy": "2022-03-18T11:57:21.348307Z",
          "iopub.status.idle": "2022-03-18T11:57:22.993839Z",
          "shell.execute_reply": "2022-03-18T11:57:22.992658Z",
          "shell.execute_reply.started": "2022-03-18T11:57:21.348603Z"
        },
        "id": "bOo8FkKfqhEf",
        "trusted": true
      },
      "outputs": [],
      "source": [
        "import numpy as np\n",
        "import pandas as pd\n",
        "import matplotlib.pyplot as plt\n",
        "\n",
        "from sklearn.feature_extraction.text import TfidfVectorizer\n",
        "\n",
        "from sklearn.ensemble import RandomForestClassifier\n",
        "from sklearn.model_selection import cross_val_score\n",
        "from sklearn.preprocessing import LabelEncoder\n",
        "\n",
        "import tweepy\n",
        "\n",
        "from warnings import filterwarnings\n",
        "filterwarnings ('ignore')"
      ]
    },
    {
      "attachments": {},
      "cell_type": "markdown",
      "metadata": {
        "id": "QV5rpOe9qhEf"
      },
      "source": [
        "<hr style=\"height:2px;border-width:0;color:white;background-color:green\">\n",
        "\n",
        "# Twitter API\n",
        "<br>\n",
        "\n",
        "##### For more informations about Twitter API you can use this link.\n",
        "https://developer.twitter.com/en/docs/twitter-api"
      ]
    },
    {
      "cell_type": "code",
      "execution_count": 5,
      "metadata": {
        "id": "VUr5YTrltJGv"
      },
      "outputs": [],
      "source": [
        "consumer_key = 'WmqDx2vHvVTg6ZpqCVomx2qDt'\n",
        "consumer_secret = '2HMXCay6lla9mRyG2A8Ion2yq0P1TsB0FmzWSUQgKRtby6dEnU'\n",
        "access_token = '16065195-lcOE7dsySGMD0EETkhDM3ZnJ3iK9ZjYmcp1fzHIXM'\n",
        "access_token_secret = 'vYp7EGo9JwPLHGbxK4V8rZoZ3l1nR6RKVl6ZLZRKBSLQg'"
      ]
    },
    {
      "cell_type": "code",
      "execution_count": 6,
      "metadata": {
        "id": "Tm6OzT4qtcPp"
      },
      "outputs": [],
      "source": [
        "auth = tweepy.OAuthHandler(consumer_key, consumer_secret)\n",
        "auth.set_access_token(access_token, access_token_secret)\n",
        "\n",
        "api = tweepy.API(auth)"
      ]
    },
    {
      "cell_type": "code",
      "execution_count": 7,
      "metadata": {
        "execution": {
          "iopub.execute_input": "2022-03-18T09:13:40.5971Z",
          "iopub.status.busy": "2022-03-18T09:13:40.596706Z",
          "iopub.status.idle": "2022-03-18T09:13:41.03512Z",
          "shell.execute_reply": "2022-03-18T09:13:41.03451Z",
          "shell.execute_reply.started": "2022-03-18T09:13:40.597071Z"
        },
        "id": "t8grhlQHqhEg",
        "trusted": true
      },
      "outputs": [],
      "source": [
        "# We get the tweets with hastag \"F1\", in english.\n",
        "\n",
        "tweets = api.search_tweets(q = \"F!\", lang = \"en\", count = 100)"
      ]
    },
    {
      "cell_type": "code",
      "execution_count": 8,
      "metadata": {
        "execution": {
          "iopub.execute_input": "2022-03-18T09:13:44.293115Z",
          "iopub.status.busy": "2022-03-18T09:13:44.292706Z",
          "iopub.status.idle": "2022-03-18T09:13:44.299406Z",
          "shell.execute_reply": "2022-03-18T09:13:44.298642Z",
          "shell.execute_reply.started": "2022-03-18T09:13:44.293084Z"
        },
        "id": "A-4dU_YeqhEh",
        "trusted": true
      },
      "outputs": [],
      "source": [
        "def hashtag_df(tweets):\n",
        "    id_list = [tweet.id for tweet in tweets]\n",
        "    dataframe = pd.DataFrame(id_list, columns = [\"id\"])\n",
        "    \n",
        "    dataframe[\"user\"] = [tweet.author.screen_name for tweet in tweets]\n",
        "    dataframe[\"text\"] = [tweet.text for tweet in tweets]\n",
        "    dataframe[\"hashtags\"] = [tweet.entities.get(\"hashtags\") for tweet in tweets]\n",
        "    \n",
        "    return dataframe"
      ]
    },
    {
      "cell_type": "code",
      "execution_count": 9,
      "metadata": {
        "colab": {
          "base_uri": "https://localhost:8080/",
          "height": 237
        },
        "execution": {
          "iopub.execute_input": "2022-03-18T09:13:45.821559Z",
          "iopub.status.busy": "2022-03-18T09:13:45.821119Z",
          "iopub.status.idle": "2022-03-18T09:13:45.868996Z",
          "shell.execute_reply": "2022-03-18T09:13:45.868142Z",
          "shell.execute_reply.started": "2022-03-18T09:13:45.821524Z"
        },
        "id": "Cgu0G5zpqhEh",
        "outputId": "ec76752b-a709-4ab9-8b60-9def7d55d146",
        "trusted": true
      },
      "outputs": [
        {
          "data": {
            "text/html": [
              "<div>\n",
              "<style scoped>\n",
              "    .dataframe tbody tr th:only-of-type {\n",
              "        vertical-align: middle;\n",
              "    }\n",
              "\n",
              "    .dataframe tbody tr th {\n",
              "        vertical-align: top;\n",
              "    }\n",
              "\n",
              "    .dataframe thead th {\n",
              "        text-align: right;\n",
              "    }\n",
              "</style>\n",
              "<table border=\"1\" class=\"dataframe\">\n",
              "  <thead>\n",
              "    <tr style=\"text-align: right;\">\n",
              "      <th></th>\n",
              "      <th>text</th>\n",
              "      <th>hashtags</th>\n",
              "    </tr>\n",
              "    <tr>\n",
              "      <th>user</th>\n",
              "      <th></th>\n",
              "      <th></th>\n",
              "    </tr>\n",
              "  </thead>\n",
              "  <tbody>\n",
              "    <tr>\n",
              "      <th>PamelaD42805040</th>\n",
              "      <td>RT @CalltoActivism: 🚨🚨🚨BREAKING: Kevin McCarth...</td>\n",
              "      <td>[]</td>\n",
              "    </tr>\n",
              "    <tr>\n",
              "      <th>_wxyl</th>\n",
              "      <td>RT @pledis_17: ‘F*ck My Life’ MV Behind Sketch...</td>\n",
              "      <td>[{'text': 'SEVENTEEN', 'indices': [76, 86]}, {...</td>\n",
              "    </tr>\n",
              "    <tr>\n",
              "      <th>mackl58</th>\n",
              "      <td>RT @peytonyager: 6yo William Cho is the only s...</td>\n",
              "      <td>[{'text': 'AllenTexas', 'indices': [99, 110]}]</td>\n",
              "    </tr>\n",
              "    <tr>\n",
              "      <th>MariaLo92714093</th>\n",
              "      <td>RT @CalltoActivism: 🚨🚨🚨BREAKING: Kevin McCarth...</td>\n",
              "      <td>[]</td>\n",
              "    </tr>\n",
              "    <tr>\n",
              "      <th>tkstkuc</th>\n",
              "      <td>RT @BABYMETAL_JAPAN: F.HERO Special Appearance...</td>\n",
              "      <td>[{'text': 'BABYMETAL', 'indices': [52, 62]}]</td>\n",
              "    </tr>\n",
              "  </tbody>\n",
              "</table>\n",
              "</div>"
            ],
            "text/plain": [
              "                                                              text   \n",
              "user                                                                 \n",
              "PamelaD42805040  RT @CalltoActivism: 🚨🚨🚨BREAKING: Kevin McCarth...  \\\n",
              "_wxyl            RT @pledis_17: ‘F*ck My Life’ MV Behind Sketch...   \n",
              "mackl58          RT @peytonyager: 6yo William Cho is the only s...   \n",
              "MariaLo92714093  RT @CalltoActivism: 🚨🚨🚨BREAKING: Kevin McCarth...   \n",
              "tkstkuc          RT @BABYMETAL_JAPAN: F.HERO Special Appearance...   \n",
              "\n",
              "                                                          hashtags  \n",
              "user                                                                \n",
              "PamelaD42805040                                                 []  \n",
              "_wxyl            [{'text': 'SEVENTEEN', 'indices': [76, 86]}, {...  \n",
              "mackl58             [{'text': 'AllenTexas', 'indices': [99, 110]}]  \n",
              "MariaLo92714093                                                 []  \n",
              "tkstkuc               [{'text': 'BABYMETAL', 'indices': [52, 62]}]  "
            ]
          },
          "execution_count": 9,
          "metadata": {},
          "output_type": "execute_result"
        }
      ],
      "source": [
        "df = hashtag_df(tweets)\n",
        "df = df.drop_duplicates(\"user\", keep = \"first\")\n",
        "df.drop(\"id\", axis=1, inplace=True)\n",
        "df.index = df[\"user\"]\n",
        "df.drop(\"user\", axis=1, inplace=True)\n",
        "\n",
        "# Let's see our dataset...\n",
        "\n",
        "df.head()"
      ]
    },
    {
      "attachments": {},
      "cell_type": "markdown",
      "metadata": {
        "id": "ZSJFpunOqhEh"
      },
      "source": [
        "<hr style=\"height:2px;border-width:0;color:white;background-color:green\">\n",
        "\n",
        "# Dataset Cleaning"
      ]
    },
    {
      "cell_type": "code",
      "execution_count": 10,
      "metadata": {
        "colab": {
          "base_uri": "https://localhost:8080/",
          "height": 258
        },
        "execution": {
          "iopub.execute_input": "2022-03-18T09:13:50.245008Z",
          "iopub.status.busy": "2022-03-18T09:13:50.244718Z",
          "iopub.status.idle": "2022-03-18T09:13:52.694896Z",
          "shell.execute_reply": "2022-03-18T09:13:52.693989Z",
          "shell.execute_reply.started": "2022-03-18T09:13:50.244973Z"
        },
        "id": "KpKOQmvIqhEh",
        "outputId": "ea7dd1d0-5468-4cda-fd7a-e72d7a3d5c03",
        "trusted": true
      },
      "outputs": [
        {
          "name": "stderr",
          "output_type": "stream",
          "text": [
            "[nltk_data] Downloading package stopwords to\n",
            "[nltk_data]     C:\\Users\\ptolo\\AppData\\Roaming\\nltk_data...\n",
            "[nltk_data]   Package stopwords is already up-to-date!\n",
            "[nltk_data] Downloading package wordnet to\n",
            "[nltk_data]     C:\\Users\\ptolo\\AppData\\Roaming\\nltk_data...\n",
            "[nltk_data]   Package wordnet is already up-to-date!\n"
          ]
        },
        {
          "data": {
            "text/html": [
              "<div>\n",
              "<style scoped>\n",
              "    .dataframe tbody tr th:only-of-type {\n",
              "        vertical-align: middle;\n",
              "    }\n",
              "\n",
              "    .dataframe tbody tr th {\n",
              "        vertical-align: top;\n",
              "    }\n",
              "\n",
              "    .dataframe thead th {\n",
              "        text-align: right;\n",
              "    }\n",
              "</style>\n",
              "<table border=\"1\" class=\"dataframe\">\n",
              "  <thead>\n",
              "    <tr style=\"text-align: right;\">\n",
              "      <th></th>\n",
              "      <th>user</th>\n",
              "      <th>text</th>\n",
              "      <th>hashtags</th>\n",
              "    </tr>\n",
              "  </thead>\n",
              "  <tbody>\n",
              "    <tr>\n",
              "      <th>0</th>\n",
              "      <td>PamelaD42805040</td>\n",
              "      <td>@calltoactivism: 🚨🚨🚨breaking: kevin mccahy f*...</td>\n",
              "      <td>[]</td>\n",
              "    </tr>\n",
              "    <tr>\n",
              "      <th>1</th>\n",
              "      <td>_wxyl</td>\n",
              "      <td>@pledis_17: ‘f*ck life’ mv behind sketch ▶️ h...</td>\n",
              "      <td>[{'text': 'SEVENTEEN', 'indices': [76, 86]}, {...</td>\n",
              "    </tr>\n",
              "    <tr>\n",
              "      <th>2</th>\n",
              "      <td>mackl58</td>\n",
              "      <td>@peytonyager: 6yo william cho surviving membe...</td>\n",
              "      <td>[{'text': 'AllenTexas', 'indices': [99, 110]}]</td>\n",
              "    </tr>\n",
              "    <tr>\n",
              "      <th>3</th>\n",
              "      <td>MariaLo92714093</td>\n",
              "      <td>@calltoactivism: 🚨🚨🚨breaking: kevin mccahy f*...</td>\n",
              "      <td>[]</td>\n",
              "    </tr>\n",
              "    <tr>\n",
              "      <th>4</th>\n",
              "      <td>tkstkuc</td>\n",
              "      <td>@babymetal_japan: f.hero special appearance ＃...</td>\n",
              "      <td>[{'text': 'BABYMETAL', 'indices': [52, 62]}]</td>\n",
              "    </tr>\n",
              "  </tbody>\n",
              "</table>\n",
              "</div>"
            ],
            "text/plain": [
              "              user                                               text   \n",
              "0  PamelaD42805040   @calltoactivism: 🚨🚨🚨breaking: kevin mccahy f*...  \\\n",
              "1            _wxyl   @pledis_17: ‘f*ck life’ mv behind sketch ▶️ h...   \n",
              "2          mackl58   @peytonyager: 6yo william cho surviving membe...   \n",
              "3  MariaLo92714093   @calltoactivism: 🚨🚨🚨breaking: kevin mccahy f*...   \n",
              "4          tkstkuc   @babymetal_japan: f.hero special appearance ＃...   \n",
              "\n",
              "                                            hashtags  \n",
              "0                                                 []  \n",
              "1  [{'text': 'SEVENTEEN', 'indices': [76, 86]}, {...  \n",
              "2     [{'text': 'AllenTexas', 'indices': [99, 110]}]  \n",
              "3                                                 []  \n",
              "4       [{'text': 'BABYMETAL', 'indices': [52, 62]}]  "
            ]
          },
          "execution_count": 10,
          "metadata": {},
          "output_type": "execute_result"
        }
      ],
      "source": [
        "# Texts will be lower\n",
        "df[\"text\"] = df[\"text\"].apply(lambda x: \" \".join(x.lower() for x in x.split()))\n",
        "\n",
        "# We get rid of the punctuations\n",
        "df[\"text\"] = df[\"text\"].str.replace('[^\\w\\s]', '')\n",
        "\n",
        "# And also numbers we don't need it in text.\n",
        "df[\"text\"] = df[\"text\"].str.replace('\\d', '')\n",
        "\n",
        "# Stopwords! It is a library with some adverbs, plural suffix etc. that they are not important for the analysis\n",
        "import nltk\n",
        "nltk.download('stopwords')\n",
        "from nltk.corpus import stopwords\n",
        "sw = stopwords.words('english')\n",
        "df['text'] = df['text'].apply(lambda x: \" \".join(x for x in x.split() if x not in sw))\n",
        "\n",
        "# We reach to the root of the word with lemmatize.\n",
        "from textblob import Word\n",
        "nltk.download('wordnet')\n",
        "df[\"text\"] = df[\"text\"].apply(lambda x: \" \".join([Word(word).lemmatize() for word in x.split()]))\n",
        "\n",
        "# Retweets... We don't need them.\n",
        "df[\"text\"] = df[\"text\"].str.replace('rt','')\n",
        "\n",
        "# reset index\n",
        "df = df.reset_index()\n",
        "df.head()"
      ]
    },
    {
      "attachments": {},
      "cell_type": "markdown",
      "metadata": {
        "id": "BzrBuTAqqhEi"
      },
      "source": [
        "<hr style=\"height:2px;border-width:0;color:white;background-color:green\">\n",
        "\n",
        "# Sentiment Analysis"
      ]
    },
    {
      "cell_type": "code",
      "execution_count": 11,
      "metadata": {
        "colab": {
          "base_uri": "https://localhost:8080/",
          "height": 206
        },
        "execution": {
          "iopub.execute_input": "2022-03-18T09:40:52.338894Z",
          "iopub.status.busy": "2022-03-18T09:40:52.338542Z",
          "iopub.status.idle": "2022-03-18T09:40:52.417871Z",
          "shell.execute_reply": "2022-03-18T09:40:52.416426Z",
          "shell.execute_reply.started": "2022-03-18T09:40:52.33886Z"
        },
        "id": "odytw2S_qhEi",
        "outputId": "048e8fc4-2b24-4eb5-fbab-a4f457820b70",
        "trusted": true
      },
      "outputs": [
        {
          "data": {
            "text/html": [
              "<div>\n",
              "<style scoped>\n",
              "    .dataframe tbody tr th:only-of-type {\n",
              "        vertical-align: middle;\n",
              "    }\n",
              "\n",
              "    .dataframe tbody tr th {\n",
              "        vertical-align: top;\n",
              "    }\n",
              "\n",
              "    .dataframe thead th {\n",
              "        text-align: right;\n",
              "    }\n",
              "</style>\n",
              "<table border=\"1\" class=\"dataframe\">\n",
              "  <thead>\n",
              "    <tr style=\"text-align: right;\">\n",
              "      <th></th>\n",
              "      <th>user</th>\n",
              "      <th>text</th>\n",
              "      <th>hashtags</th>\n",
              "      <th>polarity_score</th>\n",
              "      <th>sentiment_label</th>\n",
              "    </tr>\n",
              "  </thead>\n",
              "  <tbody>\n",
              "    <tr>\n",
              "      <th>0</th>\n",
              "      <td>PamelaD42805040</td>\n",
              "      <td>@calltoactivism: 🚨🚨🚨breaking: kevin mccahy f*...</td>\n",
              "      <td>[]</td>\n",
              "      <td>-0.3102</td>\n",
              "      <td>0</td>\n",
              "    </tr>\n",
              "    <tr>\n",
              "      <th>1</th>\n",
              "      <td>_wxyl</td>\n",
              "      <td>@pledis_17: ‘f*ck life’ mv behind sketch ▶️ h...</td>\n",
              "      <td>[{'text': 'SEVENTEEN', 'indices': [76, 86]}, {...</td>\n",
              "      <td>0.3400</td>\n",
              "      <td>1</td>\n",
              "    </tr>\n",
              "    <tr>\n",
              "      <th>2</th>\n",
              "      <td>mackl58</td>\n",
              "      <td>@peytonyager: 6yo william cho surviving membe...</td>\n",
              "      <td>[{'text': 'AllenTexas', 'indices': [99, 110]}]</td>\n",
              "      <td>0.2960</td>\n",
              "      <td>1</td>\n",
              "    </tr>\n",
              "    <tr>\n",
              "      <th>3</th>\n",
              "      <td>MariaLo92714093</td>\n",
              "      <td>@calltoactivism: 🚨🚨🚨breaking: kevin mccahy f*...</td>\n",
              "      <td>[]</td>\n",
              "      <td>-0.3102</td>\n",
              "      <td>0</td>\n",
              "    </tr>\n",
              "    <tr>\n",
              "      <th>4</th>\n",
              "      <td>tkstkuc</td>\n",
              "      <td>@babymetal_japan: f.hero special appearance ＃...</td>\n",
              "      <td>[{'text': 'BABYMETAL', 'indices': [52, 62]}]</td>\n",
              "      <td>0.6597</td>\n",
              "      <td>1</td>\n",
              "    </tr>\n",
              "  </tbody>\n",
              "</table>\n",
              "</div>"
            ],
            "text/plain": [
              "              user                                               text   \n",
              "0  PamelaD42805040   @calltoactivism: 🚨🚨🚨breaking: kevin mccahy f*...  \\\n",
              "1            _wxyl   @pledis_17: ‘f*ck life’ mv behind sketch ▶️ h...   \n",
              "2          mackl58   @peytonyager: 6yo william cho surviving membe...   \n",
              "3  MariaLo92714093   @calltoactivism: 🚨🚨🚨breaking: kevin mccahy f*...   \n",
              "4          tkstkuc   @babymetal_japan: f.hero special appearance ＃...   \n",
              "\n",
              "                                            hashtags  polarity_score   \n",
              "0                                                 []         -0.3102  \\\n",
              "1  [{'text': 'SEVENTEEN', 'indices': [76, 86]}, {...          0.3400   \n",
              "2     [{'text': 'AllenTexas', 'indices': [99, 110]}]          0.2960   \n",
              "3                                                 []         -0.3102   \n",
              "4       [{'text': 'BABYMETAL', 'indices': [52, 62]}]          0.6597   \n",
              "\n",
              "   sentiment_label  \n",
              "0                0  \n",
              "1                1  \n",
              "2                1  \n",
              "3                0  \n",
              "4                1  "
            ]
          },
          "execution_count": 11,
          "metadata": {},
          "output_type": "execute_result"
        }
      ],
      "source": [
        "from vaderSentiment.vaderSentiment import SentimentIntensityAnalyzer\n",
        "vader = SentimentIntensityAnalyzer()\n",
        "\n",
        "# The range of polarity is from -1 to 1(negative to positive) and will tell us if the text contains positive or negative feedback.\n",
        "df[\"polarity_score\"] = df[\"text\"].apply(lambda x: vader.polarity_scores(x)[\"compound\"])\n",
        "\n",
        "# So we labeling the scores as positive or negative.\n",
        "df[\"sentiment_label\"] = df[\"text\"].apply(lambda x: \"pos\" if vader.polarity_scores(x)[\"compound\"] > df[\"polarity_score\"].median() else \"neg\")\n",
        "\n",
        "# That part is just for encoding.\n",
        "df[\"sentiment_label\"] = LabelEncoder().fit_transform(df[\"sentiment_label\"])\n",
        "\n",
        "df.head()"
      ]
    },
    {
      "cell_type": "code",
      "execution_count": 12,
      "metadata": {
        "colab": {
          "base_uri": "https://localhost:8080/",
          "height": 563
        },
        "execution": {
          "iopub.execute_input": "2022-03-18T10:15:25.994032Z",
          "iopub.status.busy": "2022-03-18T10:15:25.993741Z",
          "iopub.status.idle": "2022-03-18T10:15:26.161187Z",
          "shell.execute_reply": "2022-03-18T10:15:26.159846Z",
          "shell.execute_reply.started": "2022-03-18T10:15:25.994002Z"
        },
        "id": "mfN2auSoqhEj",
        "outputId": "63391333-0885-41ca-c450-a0d10cb68bf6",
        "trusted": true
      },
      "outputs": [
        {
          "data": {
            "image/png": "[encoded data removed]",
            "text/plain": [
              "<Figure size 640x480 with 1 Axes>"
            ]
          },
          "metadata": {},
          "output_type": "display_data"
        }
      ],
      "source": [
        "# Let's check the positive and negative labels...\n",
        "\n",
        "pos = df[df[\"sentiment_label\"]==1][\"sentiment_label\"].count()\n",
        "neg = df[df[\"sentiment_label\"]==0][\"sentiment_label\"].count()\n",
        "\n",
        "fig = plt.figure()\n",
        "ax = fig.add_axes([0,0,1,1])\n",
        "sent = ['positive', 'negative']\n",
        "count = [pos, neg]\n",
        "ax.bar(sent,count, color=[\"#6B8E23\", '#B22222'])\n",
        "ax.set_title(\"twitter sentiment analysis with #btc\")\n",
        "plt.show()"
      ]
    },
    {
      "attachments": {},
      "cell_type": "markdown",
      "metadata": {
        "id": "zroWvokVqhEj"
      },
      "source": [
        "<hr style=\"height:2px;border-width:0;color:white;background-color:green\">\n",
        "\n",
        "# TF-IDF (Term Frequency - Inverse Document Frequency)"
      ]
    },
    {
      "cell_type": "code",
      "execution_count": 13,
      "metadata": {
        "execution": {
          "iopub.execute_input": "2022-03-18T10:12:44.204537Z",
          "iopub.status.busy": "2022-03-18T10:12:44.204222Z",
          "iopub.status.idle": "2022-03-18T10:12:44.232694Z",
          "shell.execute_reply": "2022-03-18T10:12:44.231408Z",
          "shell.execute_reply.started": "2022-03-18T10:12:44.204508Z"
        },
        "id": "AcA23EnZqhEk",
        "trusted": true
      },
      "outputs": [],
      "source": [
        "# We describe our feature and target.\n",
        "y = df[\"sentiment_label\"]  #target\n",
        "X = df[\"text\"]\n",
        "\n",
        "# CountVectorizer returns unigrams or single words.\n",
        "# If we increase the ngram_range, the vocabulary is expanded from single words to short phrases. \n",
        "\n",
        "# word vectorize (checking one word)\n",
        "tf_idf_word_vectorizer = TfidfVectorizer()\n",
        "X_tf_idf_word = tf_idf_word_vectorizer.fit_transform(X)\n",
        "\n",
        "# n_gram vectorize (checking double words - phrases)\n",
        "tf_idf_ngram_vectorizer = TfidfVectorizer(ngram_range=(2, 3))\n",
        "X_tf_idf_ngram = tf_idf_ngram_vectorizer.fit_transform(X)"
      ]
    },
    {
      "attachments": {},
      "cell_type": "markdown",
      "metadata": {
        "id": "x546am_7qhEk"
      },
      "source": [
        "<hr style=\"height:2px;border-width:0;color:white;background-color:green\">\n",
        "\n",
        "# Sentiment Modelling"
      ]
    },
    {
      "cell_type": "code",
      "execution_count": 14,
      "metadata": {
        "colab": {
          "base_uri": "https://localhost:8080/"
        },
        "execution": {
          "iopub.execute_input": "2022-03-18T10:17:32.751628Z",
          "iopub.status.busy": "2022-03-18T10:17:32.751264Z",
          "iopub.status.idle": "2022-03-18T10:17:32.817706Z",
          "shell.execute_reply": "2022-03-18T10:17:32.816674Z",
          "shell.execute_reply.started": "2022-03-18T10:17:32.751593Z"
        },
        "id": "CXKKrFc5qhEk",
        "outputId": "53549a25-d72f-4c6a-ee09-7a6fe408d626",
        "trusted": true
      },
      "outputs": [
        {
          "data": {
            "text/plain": [
              "0.6552631578947368"
            ]
          },
          "execution_count": 14,
          "metadata": {},
          "output_type": "execute_result"
        }
      ],
      "source": [
        "# word\n",
        "rf_model_word = RandomForestClassifier()\n",
        "rf_model_word.fit(X_tf_idf_word, y)\n",
        "\n",
        "cross_val_score(rf_model_word,\n",
        "               X_tf_idf_word,\n",
        "               y,\n",
        "               scoring=\"accuracy\",\n",
        "               cv=5).mean()"
      ]
    },
    {
      "cell_type": "code",
      "execution_count": 16,
      "metadata": {
        "colab": {
          "base_uri": "https://localhost:8080/"
        },
        "execution": {
          "iopub.execute_input": "2022-03-18T10:17:33.391223Z",
          "iopub.status.busy": "2022-03-18T10:17:33.390725Z",
          "iopub.status.idle": "2022-03-18T10:17:33.458513Z",
          "shell.execute_reply": "2022-03-18T10:17:33.45762Z",
          "shell.execute_reply.started": "2022-03-18T10:17:33.391167Z"
        },
        "id": "ZJVZWV3uqhEk",
        "outputId": "a19ce003-10f6-431c-dbea-038e4dc35c55",
        "trusted": true
      },
      "outputs": [
        {
          "data": {
            "text/plain": [
              "0.6552631578947368"
            ]
          },
          "execution_count": 16,
          "metadata": {},
          "output_type": "execute_result"
        }
      ],
      "source": [
        "# ngram\n",
        "rf_model_ngram = RandomForestClassifier()\n",
        "rf_model_ngram.fit(X_tf_idf_word, y)\n",
        "\n",
        "cross_val_score(rf_model_ngram,\n",
        "               X_tf_idf_ngram,\n",
        "               y,\n",
        "               scoring=\"accuracy\",\n",
        "               cv=5).mean()"
      ]
    },
    {
      "cell_type": "code",
      "execution_count": 17,
      "metadata": {
        "colab": {
          "base_uri": "https://localhost:8080/",
          "height": 35
        },
        "execution": {
          "iopub.execute_input": "2022-03-18T10:17:35.800373Z",
          "iopub.status.busy": "2022-03-18T10:17:35.799847Z",
          "iopub.status.idle": "2022-03-18T10:17:35.807824Z",
          "shell.execute_reply": "2022-03-18T10:17:35.806645Z",
          "shell.execute_reply.started": "2022-03-18T10:17:35.800325Z"
        },
        "id": "53nlTp2MqhEl",
        "outputId": "0029e243-7b81-4d0e-a60a-b36be844d05d",
        "trusted": true
      },
      "outputs": [
        {
          "data": {
            "text/plain": [
              "' @btsmemeories: f&amp;f viewer f&amp;f feature https://t.co/65j2fxicmi'"
            ]
          },
          "execution_count": 17,
          "metadata": {},
          "output_type": "execute_result"
        }
      ],
      "source": [
        "# Let's pick up a random tweet.\n",
        "\n",
        "random_tweet = pd.Series(df[\"text\"].sample(1).values)\n",
        "random_tweet[0]"
      ]
    },
    {
      "cell_type": "code",
      "execution_count": 18,
      "metadata": {
        "colab": {
          "base_uri": "https://localhost:8080/"
        },
        "execution": {
          "iopub.execute_input": "2022-03-18T10:17:40.327774Z",
          "iopub.status.busy": "2022-03-18T10:17:40.327435Z",
          "iopub.status.idle": "2022-03-18T10:17:40.335393Z",
          "shell.execute_reply": "2022-03-18T10:17:40.334351Z",
          "shell.execute_reply.started": "2022-03-18T10:17:40.327738Z"
        },
        "id": "siTzUthZqhEl",
        "outputId": "eaaf0f0e-3f94-4e83-8df3-a22c23824f16",
        "trusted": true
      },
      "outputs": [
        {
          "data": {
            "text/plain": [
              "array([0])"
            ]
          },
          "execution_count": 18,
          "metadata": {},
          "output_type": "execute_result"
        }
      ],
      "source": [
        "# Example\n",
        "# random tweet analysis\n",
        "\n",
        "random_tweet = TfidfVectorizer().fit(X).transform(random_tweet)\n",
        "\n",
        "# with Logistic Regression by word vectorize we found better score that's why we use for a predict log_model_word..\n",
        "\n",
        "rf_model_word.predict(random_tweet)"
      ]
    }
  ],
  "metadata": {
    "colab": {
      "provenance": []
    },
    "kernelspec": {
      "display_name": "Python 3",
      "language": "python",
      "name": "python3"
    },
    "language_info": {
      "codemirror_mode": {
        "name": "ipython",
        "version": 3
      },
      "file_extension": ".py",
      "mimetype": "text/x-python",
      "name": "python",
      "nbconvert_exporter": "python",
      "pygments_lexer": "ipython3",
      "version": "3.9.16"
    }
  },
  "nbformat": 4,
  "nbformat_minor": 0
}
