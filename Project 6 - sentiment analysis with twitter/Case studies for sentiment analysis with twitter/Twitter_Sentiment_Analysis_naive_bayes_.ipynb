{
  "cells": [
    {
      "cell_type": "markdown",
      "metadata": {
        "id": "view-in-github"
      },
      "source": [
        "<a href=\"https://colab.research.google.com/github/ujjalkumarmaity/Twitter_Sentiment_Analysis/blob/master/Twitter_Sentiment_Analysis_naive_bayes_.ipynb\" target=\"_parent\"><img src=\"https://colab.research.google.com/assets/colab-badge.svg\" alt=\"Open In Colab\"/></a>"
      ]
    },
    {
      "cell_type": "markdown",
      "metadata": {
        "id": "y5PJwEdfWXxC"
      },
      "source": [
        "__What is Sentiment Analysis?__\n",
        "\n",
        "Sentiment analysis is a process of identifying an attitude of the author on a topic that is being written about. "
      ]
    },
    {
      "cell_type": "markdown",
      "metadata": {
        "id": "Yunc9XDuWXxF"
      },
      "source": [
        "#### Table of contents\n",
        "\n",
        "1. Load the libraries\n",
        "1. Load Dataset\n",
        "1. EDA\n",
        "1. Preprocessing Tweet Text\n",
        "1. Featurization\n",
        "    1. Bag-of-Words\n",
        "    1. TF-IDF\n",
        "    1. Word2vec\n",
        "1. Resample\n",
        "    1. Upsampling BOW\n",
        "    2. Upsampling TF-IDF\n",
        "    1. Upsampling word2vec\n",
        "1. Split Dataset\n",
        "1. Model Selection\n",
        "    1. naive bayes  \n",
        "1. Summary\n"
      ]
    },
    {
      "cell_type": "markdown",
      "metadata": {
        "id": "EVQhlPDoWXxK"
      },
      "source": [
        "# Load the libraries"
      ]
    },
    {
      "cell_type": "code",
      "execution_count": 1,
      "metadata": {
        "colab": {
          "base_uri": "https://localhost:8080/"
        },
        "id": "wLBHYO2EWt2Z",
        "outputId": "bf7c7c99-f554-4490-9333-2de831ae3503"
      },
      "outputs": [
        {
          "name": "stdout",
          "output_type": "stream",
          "text": [
            "Mounted at /content/drive\n"
          ]
        }
      ],
      "source": [
        "from google.colab import drive\n",
        "drive.mount('/content/drive')"
      ]
    },
    {
      "cell_type": "code",
      "execution_count": 3,
      "metadata": {
        "colab": {
          "base_uri": "https://localhost:8080/"
        },
        "id": "UEVZsgd90xFK",
        "outputId": "426a5d3f-2da3-45a0-ea6e-33502e346811"
      },
      "outputs": [
        {
          "name": "stdout",
          "output_type": "stream",
          "text": [
            "/content/drive/MyDrive\n"
          ]
        }
      ],
      "source": [
        "%cd /content/drive/MyDrive"
      ]
    },
    {
      "cell_type": "code",
      "execution_count": 4,
      "metadata": {
        "id": "gln-z21xWXxN"
      },
      "outputs": [],
      "source": [
        "import warnings\n",
        "warnings.filterwarnings('ignore')\n",
        "import pandas as pd\n",
        "import numpy as np\n",
        "import matplotlib.pyplot as plt\n",
        "import seaborn as sns\n",
        "import nltk\n",
        "from nltk.stem import PorterStemmer,WordNetLemmatizer\n",
        "from wordcloud import WordCloud\n",
        "import re\n",
        "import gensim\n",
        "from sklearn.model_selection import train_test_split\n",
        "from sklearn.feature_extraction.text import CountVectorizer,TfidfVectorizer\n",
        "from sklearn.utils import resample\n",
        "from sklearn.metrics import accuracy_score,f1_score"
      ]
    },
    {
      "cell_type": "markdown",
      "metadata": {
        "id": "4aGXyK-mWXxd"
      },
      "source": [
        "# Load Dataset"
      ]
    },
    {
      "cell_type": "code",
      "execution_count": 5,
      "metadata": {
        "colab": {
          "base_uri": "https://localhost:8080/",
          "height": 175
        },
        "id": "3Mvcs9BjWXxf",
        "outputId": "13e948d7-fdb7-41fd-dd4f-709ab31eeeb1"
      },
      "outputs": [
        {
          "data": {
            "text/html": [
              "\n",
              "  <div id=\"df-f60f0948-f797-454b-aecf-8e2f6e70809e\">\n",
              "    <div class=\"colab-df-container\">\n",
              "      <div>\n",
              "<style scoped>\n",
              "    .dataframe tbody tr th:only-of-type {\n",
              "        vertical-align: middle;\n",
              "    }\n",
              "\n",
              "    .dataframe tbody tr th {\n",
              "        vertical-align: top;\n",
              "    }\n",
              "\n",
              "    .dataframe thead th {\n",
              "        text-align: right;\n",
              "    }\n",
              "</style>\n",
              "<table border=\"1\" class=\"dataframe\">\n",
              "  <thead>\n",
              "    <tr style=\"text-align: right;\">\n",
              "      <th></th>\n",
              "      <th>id</th>\n",
              "      <th>label</th>\n",
              "      <th>tweet</th>\n",
              "    </tr>\n",
              "  </thead>\n",
              "  <tbody>\n",
              "    <tr>\n",
              "      <th>0</th>\n",
              "      <td>1</td>\n",
              "      <td>0</td>\n",
              "      <td>@user when a father is dysfunctional and is s...</td>\n",
              "    </tr>\n",
              "    <tr>\n",
              "      <th>1</th>\n",
              "      <td>2</td>\n",
              "      <td>0</td>\n",
              "      <td>@user @user thanks for #lyft credit i can't us...</td>\n",
              "    </tr>\n",
              "    <tr>\n",
              "      <th>2</th>\n",
              "      <td>3</td>\n",
              "      <td>0</td>\n",
              "      <td>bihday your majesty</td>\n",
              "    </tr>\n",
              "    <tr>\n",
              "      <th>3</th>\n",
              "      <td>4</td>\n",
              "      <td>0</td>\n",
              "      <td>#model   i love u take with u all the time in ...</td>\n",
              "    </tr>\n",
              "  </tbody>\n",
              "</table>\n",
              "</div>\n",
              "      <button class=\"colab-df-convert\" onclick=\"convertToInteractive('df-f60f0948-f797-454b-aecf-8e2f6e70809e')\"\n",
              "              title=\"Convert this dataframe to an interactive table.\"\n",
              "              style=\"display:none;\">\n",
              "        \n",
              "  <svg xmlns=\"http://www.w3.org/2000/svg\" height=\"24px\"viewBox=\"0 0 24 24\"\n",
              "       width=\"24px\">\n",
              "    <path d=\"M0 0h24v24H0V0z\" fill=\"none\"/>\n",
              "    <path d=\"M18.56 5.44l.94 2.06.94-2.06 2.06-.94-2.06-.94-.94-2.06-.94 2.06-2.06.94zm-11 1L8.5 8.5l.94-2.06 2.06-.94-2.06-.94L8.5 2.5l-.94 2.06-2.06.94zm10 10l.94 2.06.94-2.06 2.06-.94-2.06-.94-.94-2.06-.94 2.06-2.06.94z\"/><path d=\"M17.41 7.96l-1.37-1.37c-.4-.4-.92-.59-1.43-.59-.52 0-1.04.2-1.43.59L10.3 9.45l-7.72 7.72c-.78.78-.78 2.05 0 2.83L4 21.41c.39.39.9.59 1.41.59.51 0 1.02-.2 1.41-.59l7.78-7.78 2.81-2.81c.8-.78.8-2.07 0-2.86zM5.41 20L4 18.59l7.72-7.72 1.47 1.35L5.41 20z\"/>\n",
              "  </svg>\n",
              "      </button>\n",
              "      \n",
              "  <style>\n",
              "    .colab-df-container {\n",
              "      display:flex;\n",
              "      flex-wrap:wrap;\n",
              "      gap: 12px;\n",
              "    }\n",
              "\n",
              "    .colab-df-convert {\n",
              "      background-color: #E8F0FE;\n",
              "      border: none;\n",
              "      border-radius: 50%;\n",
              "      cursor: pointer;\n",
              "      display: none;\n",
              "      fill: #1967D2;\n",
              "      height: 32px;\n",
              "      padding: 0 0 0 0;\n",
              "      width: 32px;\n",
              "    }\n",
              "\n",
              "    .colab-df-convert:hover {\n",
              "      background-color: #E2EBFA;\n",
              "      box-shadow: 0px 1px 2px rgba(60, 64, 67, 0.3), 0px 1px 3px 1px rgba(60, 64, 67, 0.15);\n",
              "      fill: #174EA6;\n",
              "    }\n",
              "\n",
              "    [theme=dark] .colab-df-convert {\n",
              "      background-color: #3B4455;\n",
              "      fill: #D2E3FC;\n",
              "    }\n",
              "\n",
              "    [theme=dark] .colab-df-convert:hover {\n",
              "      background-color: #434B5C;\n",
              "      box-shadow: 0px 1px 3px 1px rgba(0, 0, 0, 0.15);\n",
              "      filter: drop-shadow(0px 1px 2px rgba(0, 0, 0, 0.3));\n",
              "      fill: #FFFFFF;\n",
              "    }\n",
              "  </style>\n",
              "\n",
              "      <script>\n",
              "        const buttonEl =\n",
              "          document.querySelector('#df-f60f0948-f797-454b-aecf-8e2f6e70809e button.colab-df-convert');\n",
              "        buttonEl.style.display =\n",
              "          google.colab.kernel.accessAllowed ? 'block' : 'none';\n",
              "\n",
              "        async function convertToInteractive(key) {\n",
              "          const element = document.querySelector('#df-f60f0948-f797-454b-aecf-8e2f6e70809e');\n",
              "          const dataTable =\n",
              "            await google.colab.kernel.invokeFunction('convertToInteractive',\n",
              "                                                     [key], {});\n",
              "          if (!dataTable) return;\n",
              "\n",
              "          const docLinkHtml = 'Like what you see? Visit the ' +\n",
              "            '<a target=\"_blank\" href=https://colab.research.google.com/notebooks/data_table.ipynb>data table notebook</a>'\n",
              "            + ' to learn more about interactive tables.';\n",
              "          element.innerHTML = '';\n",
              "          dataTable['output_type'] = 'display_data';\n",
              "          await google.colab.output.renderOutput(dataTable, element);\n",
              "          const docLink = document.createElement('div');\n",
              "          docLink.innerHTML = docLinkHtml;\n",
              "          element.appendChild(docLink);\n",
              "        }\n",
              "      </script>\n",
              "    </div>\n",
              "  </div>\n",
              "  "
            ],
            "text/plain": [
              "   id  label                                              tweet\n",
              "0   1      0   @user when a father is dysfunctional and is s...\n",
              "1   2      0  @user @user thanks for #lyft credit i can't us...\n",
              "2   3      0                                bihday your majesty\n",
              "3   4      0  #model   i love u take with u all the time in ..."
            ]
          },
          "execution_count": 5,
          "metadata": {},
          "output_type": "execute_result"
        }
      ],
      "source": [
        "df=pd.read_csv('train.csv.zip')\n",
        "test=pd.read_csv('test.csv.zip')\n",
        "df.head(4)"
      ]
    },
    {
      "cell_type": "markdown",
      "metadata": {
        "id": "nehjc8uFWXxs"
      },
      "source": [
        "#  EDA"
      ]
    },
    {
      "cell_type": "code",
      "execution_count": 6,
      "metadata": {
        "colab": {
          "base_uri": "https://localhost:8080/"
        },
        "id": "oOmogVsaWXxt",
        "outputId": "3a5538ae-ee12-40ee-976f-a876bab535e1"
      },
      "outputs": [
        {
          "name": "stdout",
          "output_type": "stream",
          "text": [
            "<class 'pandas.core.frame.DataFrame'>\n",
            "RangeIndex: 31962 entries, 0 to 31961\n",
            "Data columns (total 3 columns):\n",
            " #   Column  Non-Null Count  Dtype \n",
            "---  ------  --------------  ----- \n",
            " 0   id      31962 non-null  int64 \n",
            " 1   label   31962 non-null  int64 \n",
            " 2   tweet   31962 non-null  object\n",
            "dtypes: int64(2), object(1)\n",
            "memory usage: 749.2+ KB\n"
          ]
        }
      ],
      "source": [
        "df.info()"
      ]
    },
    {
      "cell_type": "code",
      "execution_count": 8,
      "metadata": {
        "colab": {
          "base_uri": "https://localhost:8080/"
        },
        "id": "cpLDlr9JWXx2",
        "outputId": "cfd5fcec-6221-4f3d-bbca-7c241cea513a"
      },
      "outputs": [
        {
          "name": "stdout",
          "output_type": "stream",
          "text": [
            "shape of train dataset (31962, 3)\n"
          ]
        },
        {
          "data": {
            "text/plain": [
              "0    29720\n",
              "1     2242\n",
              "Name: label, dtype: int64"
            ]
          },
          "execution_count": 8,
          "metadata": {},
          "output_type": "execute_result"
        }
      ],
      "source": [
        "print('shape of train dataset',df.shape)\n",
        "df.label.value_counts()"
      ]
    },
    {
      "cell_type": "code",
      "execution_count": 9,
      "metadata": {
        "colab": {
          "base_uri": "https://localhost:8080/",
          "height": 449
        },
        "id": "O8e4ttghWXx-",
        "outputId": "f240c615-d651-4a4b-e0a4-c8351abd6d48"
      },
      "outputs": [
        {
          "data": {
            "image/png": "[encoded data removed]",
            "text/plain": [
              "<Figure size 640x480 with 1 Axes>"
            ]
          },
          "metadata": {},
          "output_type": "display_data"
        }
      ],
      "source": [
        "# \n",
        "sns.countplot(df.label,)\n",
        "plt.xlabel('class label')\n",
        "plt.ylabel('number of tweets')\n",
        "plt.show()"
      ]
    },
    {
      "cell_type": "code",
      "execution_count": 10,
      "metadata": {
        "colab": {
          "base_uri": "https://localhost:8080/",
          "height": 881
        },
        "id": "fWBFmBH4WXyJ",
        "outputId": "eb10ece7-3cfd-47e7-afe2-61f81ae48af4"
      },
      "outputs": [
        {
          "data": {
            "image/png": "[encoded data removed]",
            "text/plain": [
              "<Figure size 640x480 with 1 Axes>"
            ]
          },
          "metadata": {},
          "output_type": "display_data"
        },
        {
          "data": {
            "image/png": "[encoded data removed]",
            "text/plain": [
              "<Figure size 640x480 with 1 Axes>"
            ]
          },
          "metadata": {},
          "output_type": "display_data"
        }
      ],
      "source": [
        "plt.hist(df[df['label']==1].tweet.str.len(),bins=20,label='class 1')\n",
        "plt.legend()\n",
        "plt.xlabel('length of tweets')\n",
        "plt.ylabel('number of tweets')\n",
        "plt.show()\n",
        "plt.hist(df[df['label']==0].tweet.str.len(),color='yellow',bins=20,label='class 0')\n",
        "plt.legend()\n",
        "plt.xlabel('length of tweets')\n",
        "plt.ylabel('number of tweets')\n",
        "plt.show()"
      ]
    },
    {
      "cell_type": "markdown",
      "metadata": {
        "id": "j2F5HlwPWXyQ"
      },
      "source": [
        "#   Preprocessing Tweet Text\n",
        "\n",
        "1. Removing Twitter Handles (@user)\n",
        "2. Removing urls from text \n",
        "3. Removing Punctuations, Numbers, and Special Characters\n",
        "\n",
        "5. Convert the word to lowercase\n",
        "6. Remove Stopwords\n",
        "7. Stemming the word\n",
        "8. Lemmatization<br>\n",
        "\n",
        "After which we collect the words used to describe positive and negative reviews"
      ]
    },
    {
      "cell_type": "code",
      "execution_count": 11,
      "metadata": {
        "colab": {
          "base_uri": "https://localhost:8080/"
        },
        "id": "Kl-PSHglWXyR",
        "outputId": "af7edaeb-2730-449e-ecf7-71c5657d26d5"
      },
      "outputs": [
        {
          "name": "stdout",
          "output_type": "stream",
          "text": [
            "49159\n"
          ]
        }
      ],
      "source": [
        "text=df['tweet'].values.tolist()\n",
        "text_test=test['tweet'].values.tolist()\n",
        "text+=text_test\n",
        "print(len(text))"
      ]
    },
    {
      "cell_type": "code",
      "execution_count": 13,
      "metadata": {
        "colab": {
          "base_uri": "https://localhost:8080/"
        },
        "id": "QIAPatCtWXyY",
        "outputId": "ac979057-37d5-4ace-d7b1-1c4f7cdb14a5"
      },
      "outputs": [
        {
          "name": "stderr",
          "output_type": "stream",
          "text": [
            "[nltk_data] Downloading package stopwords to /root/nltk_data...\n",
            "[nltk_data]   Unzipping corpora/stopwords.zip.\n"
          ]
        }
      ],
      "source": [
        "import nltk\n",
        "nltk.download('stopwords')\n",
        "stopword=nltk.corpus.stopwords.words('english')\n",
        "stopword.remove('not')\n",
        "for index,text_ in enumerate(text):\n",
        "    text_=re.sub(r'@[\\w]*','',text_) #Removing Twitter Handles (@user)\n",
        "    text_=re.sub(r'http/S+','',text_) #Removing urls from text \n",
        "    text_=re.sub(r'[^A-Za-z#]',' ',text_) #Removing Punctuations, Numbers, and Special Characters\n",
        "    text_=\" \".join(i.lower() for i in text_.split() if i.lower() not in stopword) #Removing stopword\n",
        "    text[index]=text_"
      ]
    },
    {
      "cell_type": "code",
      "execution_count": 15,
      "metadata": {
        "colab": {
          "base_uri": "https://localhost:8080/"
        },
        "id": "k8c4eQr6WXyf",
        "outputId": "9f939185-4d54-4a03-b2c8-b5b986a1e58d"
      },
      "outputs": [
        {
          "name": "stderr",
          "output_type": "stream",
          "text": [
            "[nltk_data] Downloading package wordnet to /root/nltk_data...\n"
          ]
        }
      ],
      "source": [
        "#Stemming the word\n",
        "nltk.download('wordnet')\n",
        "pt=PorterStemmer()\n",
        "wordnet=WordNetLemmatizer()\n",
        "for index,text_ in enumerate(text):\n",
        "    text_=\" \".join(pt.stem(i) for i in text_.split())\n",
        "    text_=\" \".join(wordnet.lemmatize(i) for i in text_.split())  \n",
        "    text[index]=text_\n"
      ]
    },
    {
      "cell_type": "code",
      "execution_count": 16,
      "metadata": {
        "colab": {
          "base_uri": "https://localhost:8080/",
          "height": 206
        },
        "id": "gjNP4Q6mWXyk",
        "outputId": "e6e05690-ba83-4cd7-b4bb-3831c0e009ae",
        "scrolled": true
      },
      "outputs": [
        {
          "data": {
            "text/html": [
              "\n",
              "  <div id=\"df-65d3db59-70fe-42b7-ba32-8315a21b636a\">\n",
              "    <div class=\"colab-df-container\">\n",
              "      <div>\n",
              "<style scoped>\n",
              "    .dataframe tbody tr th:only-of-type {\n",
              "        vertical-align: middle;\n",
              "    }\n",
              "\n",
              "    .dataframe tbody tr th {\n",
              "        vertical-align: top;\n",
              "    }\n",
              "\n",
              "    .dataframe thead th {\n",
              "        text-align: right;\n",
              "    }\n",
              "</style>\n",
              "<table border=\"1\" class=\"dataframe\">\n",
              "  <thead>\n",
              "    <tr style=\"text-align: right;\">\n",
              "      <th></th>\n",
              "      <th>id</th>\n",
              "      <th>label</th>\n",
              "      <th>tweet</th>\n",
              "      <th>preprocess_tweet</th>\n",
              "      <th>length_tweet</th>\n",
              "    </tr>\n",
              "  </thead>\n",
              "  <tbody>\n",
              "    <tr>\n",
              "      <th>0</th>\n",
              "      <td>1</td>\n",
              "      <td>0</td>\n",
              "      <td>@user when a father is dysfunctional and is s...</td>\n",
              "      <td>father dysfunct selfish drag kid dysfunct #run</td>\n",
              "      <td>46</td>\n",
              "    </tr>\n",
              "    <tr>\n",
              "      <th>1</th>\n",
              "      <td>2</td>\n",
              "      <td>0</td>\n",
              "      <td>@user @user thanks for #lyft credit i can't us...</td>\n",
              "      <td>thank #lyft credit use caus offer wheelchair v...</td>\n",
              "      <td>73</td>\n",
              "    </tr>\n",
              "    <tr>\n",
              "      <th>2</th>\n",
              "      <td>3</td>\n",
              "      <td>0</td>\n",
              "      <td>bihday your majesty</td>\n",
              "      <td>bihday majesti</td>\n",
              "      <td>14</td>\n",
              "    </tr>\n",
              "    <tr>\n",
              "      <th>3</th>\n",
              "      <td>4</td>\n",
              "      <td>0</td>\n",
              "      <td>#model   i love u take with u all the time in ...</td>\n",
              "      <td>#model love u take u time ur</td>\n",
              "      <td>28</td>\n",
              "    </tr>\n",
              "    <tr>\n",
              "      <th>4</th>\n",
              "      <td>5</td>\n",
              "      <td>0</td>\n",
              "      <td>factsguide: society now    #motivation</td>\n",
              "      <td>factsguid societi #motiv</td>\n",
              "      <td>24</td>\n",
              "    </tr>\n",
              "  </tbody>\n",
              "</table>\n",
              "</div>\n",
              "      <button class=\"colab-df-convert\" onclick=\"convertToInteractive('df-65d3db59-70fe-42b7-ba32-8315a21b636a')\"\n",
              "              title=\"Convert this dataframe to an interactive table.\"\n",
              "              style=\"display:none;\">\n",
              "        \n",
              "  <svg xmlns=\"http://www.w3.org/2000/svg\" height=\"24px\"viewBox=\"0 0 24 24\"\n",
              "       width=\"24px\">\n",
              "    <path d=\"M0 0h24v24H0V0z\" fill=\"none\"/>\n",
              "    <path d=\"M18.56 5.44l.94 2.06.94-2.06 2.06-.94-2.06-.94-.94-2.06-.94 2.06-2.06.94zm-11 1L8.5 8.5l.94-2.06 2.06-.94-2.06-.94L8.5 2.5l-.94 2.06-2.06.94zm10 10l.94 2.06.94-2.06 2.06-.94-2.06-.94-.94-2.06-.94 2.06-2.06.94z\"/><path d=\"M17.41 7.96l-1.37-1.37c-.4-.4-.92-.59-1.43-.59-.52 0-1.04.2-1.43.59L10.3 9.45l-7.72 7.72c-.78.78-.78 2.05 0 2.83L4 21.41c.39.39.9.59 1.41.59.51 0 1.02-.2 1.41-.59l7.78-7.78 2.81-2.81c.8-.78.8-2.07 0-2.86zM5.41 20L4 18.59l7.72-7.72 1.47 1.35L5.41 20z\"/>\n",
              "  </svg>\n",
              "      </button>\n",
              "      \n",
              "  <style>\n",
              "    .colab-df-container {\n",
              "      display:flex;\n",
              "      flex-wrap:wrap;\n",
              "      gap: 12px;\n",
              "    }\n",
              "\n",
              "    .colab-df-convert {\n",
              "      background-color: #E8F0FE;\n",
              "      border: none;\n",
              "      border-radius: 50%;\n",
              "      cursor: pointer;\n",
              "      display: none;\n",
              "      fill: #1967D2;\n",
              "      height: 32px;\n",
              "      padding: 0 0 0 0;\n",
              "      width: 32px;\n",
              "    }\n",
              "\n",
              "    .colab-df-convert:hover {\n",
              "      background-color: #E2EBFA;\n",
              "      box-shadow: 0px 1px 2px rgba(60, 64, 67, 0.3), 0px 1px 3px 1px rgba(60, 64, 67, 0.15);\n",
              "      fill: #174EA6;\n",
              "    }\n",
              "\n",
              "    [theme=dark] .colab-df-convert {\n",
              "      background-color: #3B4455;\n",
              "      fill: #D2E3FC;\n",
              "    }\n",
              "\n",
              "    [theme=dark] .colab-df-convert:hover {\n",
              "      background-color: #434B5C;\n",
              "      box-shadow: 0px 1px 3px 1px rgba(0, 0, 0, 0.15);\n",
              "      filter: drop-shadow(0px 1px 2px rgba(0, 0, 0, 0.3));\n",
              "      fill: #FFFFFF;\n",
              "    }\n",
              "  </style>\n",
              "\n",
              "      <script>\n",
              "        const buttonEl =\n",
              "          document.querySelector('#df-65d3db59-70fe-42b7-ba32-8315a21b636a button.colab-df-convert');\n",
              "        buttonEl.style.display =\n",
              "          google.colab.kernel.accessAllowed ? 'block' : 'none';\n",
              "\n",
              "        async function convertToInteractive(key) {\n",
              "          const element = document.querySelector('#df-65d3db59-70fe-42b7-ba32-8315a21b636a');\n",
              "          const dataTable =\n",
              "            await google.colab.kernel.invokeFunction('convertToInteractive',\n",
              "                                                     [key], {});\n",
              "          if (!dataTable) return;\n",
              "\n",
              "          const docLinkHtml = 'Like what you see? Visit the ' +\n",
              "            '<a target=\"_blank\" href=https://colab.research.google.com/notebooks/data_table.ipynb>data table notebook</a>'\n",
              "            + ' to learn more about interactive tables.';\n",
              "          element.innerHTML = '';\n",
              "          dataTable['output_type'] = 'display_data';\n",
              "          await google.colab.output.renderOutput(dataTable, element);\n",
              "          const docLink = document.createElement('div');\n",
              "          docLink.innerHTML = docLinkHtml;\n",
              "          element.appendChild(docLink);\n",
              "        }\n",
              "      </script>\n",
              "    </div>\n",
              "  </div>\n",
              "  "
            ],
            "text/plain": [
              "   id  label                                              tweet  \\\n",
              "0   1      0   @user when a father is dysfunctional and is s...   \n",
              "1   2      0  @user @user thanks for #lyft credit i can't us...   \n",
              "2   3      0                                bihday your majesty   \n",
              "3   4      0  #model   i love u take with u all the time in ...   \n",
              "4   5      0             factsguide: society now    #motivation   \n",
              "\n",
              "                                    preprocess_tweet  length_tweet  \n",
              "0     father dysfunct selfish drag kid dysfunct #run            46  \n",
              "1  thank #lyft credit use caus offer wheelchair v...            73  \n",
              "2                                     bihday majesti            14  \n",
              "3                       #model love u take u time ur            28  \n",
              "4                           factsguid societi #motiv            24  "
            ]
          },
          "execution_count": 16,
          "metadata": {},
          "output_type": "execute_result"
        }
      ],
      "source": [
        "df['preprocess_tweet']=text[:len(df)]\n",
        "df['length_tweet']=df['preprocess_tweet'].str.len()\n",
        "test['preprocess_tweet']=text[len(df):]\n",
        "df.head()"
      ]
    },
    {
      "cell_type": "code",
      "execution_count": null,
      "metadata": {
        "id": "fSeMUl9LWXyt"
      },
      "outputs": [],
      "source": []
    },
    {
      "cell_type": "code",
      "execution_count": null,
      "metadata": {
        "id": "lGo97BEvWXy0"
      },
      "outputs": [],
      "source": [
        "\n"
      ]
    },
    {
      "cell_type": "markdown",
      "metadata": {
        "id": "QAFzJ26TWXy6"
      },
      "source": [
        "# Featurization"
      ]
    },
    {
      "cell_type": "markdown",
      "metadata": {
        "id": "KqZzPYAcWXy7"
      },
      "source": [
        "###BOW"
      ]
    },
    {
      "cell_type": "code",
      "execution_count": 17,
      "metadata": {
        "id": "5UoV9n9NWXy9"
      },
      "outputs": [],
      "source": [
        "train=df.copy()\n",
        "train.drop(columns=['id','tweet','preprocess_tweet'],inplace=True)\n"
      ]
    },
    {
      "cell_type": "code",
      "execution_count": 19,
      "metadata": {
        "id": "bhkiRtoY2ugJ"
      },
      "outputs": [],
      "source": [
        "from sklearn.feature_extraction.text import CountVectorizer\n",
        "from sklearn.feature_extraction.text import TfidfVectorizer\n",
        "import pandas as pd"
      ]
    },
    {
      "cell_type": "code",
      "execution_count": 21,
      "metadata": {
        "colab": {
          "base_uri": "https://localhost:8080/",
          "height": 305
        },
        "id": "ijuvNDk-WXzD",
        "outputId": "e3dffd91-65db-4fa2-b2ac-2b66cd02afa8"
      },
      "outputs": [
        {
          "name": "stdout",
          "output_type": "stream",
          "text": [
            "feature name== ['abl' 'absolut' 'accept' 'account' 'act' 'action' 'actor' 'actual' 'ad'\n",
            " 'adapt']\n",
            "number of uniqe words 1000\n",
            "shape (31962, 1000)\n"
          ]
        },
        {
          "data": {
            "text/html": [
              "\n",
              "  <div id=\"df-74e1bccf-e8c9-49a0-baab-aa2357b6a5bb\">\n",
              "    <div class=\"colab-df-container\">\n",
              "      <div>\n",
              "<style scoped>\n",
              "    .dataframe tbody tr th:only-of-type {\n",
              "        vertical-align: middle;\n",
              "    }\n",
              "\n",
              "    .dataframe tbody tr th {\n",
              "        vertical-align: top;\n",
              "    }\n",
              "\n",
              "    .dataframe thead th {\n",
              "        text-align: right;\n",
              "    }\n",
              "</style>\n",
              "<table border=\"1\" class=\"dataframe\">\n",
              "  <thead>\n",
              "    <tr style=\"text-align: right;\">\n",
              "      <th></th>\n",
              "      <th>0</th>\n",
              "      <th>1</th>\n",
              "      <th>2</th>\n",
              "      <th>3</th>\n",
              "      <th>4</th>\n",
              "      <th>5</th>\n",
              "      <th>6</th>\n",
              "      <th>7</th>\n",
              "      <th>8</th>\n",
              "      <th>9</th>\n",
              "      <th>...</th>\n",
              "      <th>992</th>\n",
              "      <th>993</th>\n",
              "      <th>994</th>\n",
              "      <th>995</th>\n",
              "      <th>996</th>\n",
              "      <th>997</th>\n",
              "      <th>998</th>\n",
              "      <th>999</th>\n",
              "      <th>length_tweet</th>\n",
              "      <th>label</th>\n",
              "    </tr>\n",
              "  </thead>\n",
              "  <tbody>\n",
              "    <tr>\n",
              "      <th>0</th>\n",
              "      <td>0</td>\n",
              "      <td>0</td>\n",
              "      <td>0</td>\n",
              "      <td>0</td>\n",
              "      <td>0</td>\n",
              "      <td>0</td>\n",
              "      <td>0</td>\n",
              "      <td>0</td>\n",
              "      <td>0</td>\n",
              "      <td>0</td>\n",
              "      <td>...</td>\n",
              "      <td>0</td>\n",
              "      <td>0</td>\n",
              "      <td>0</td>\n",
              "      <td>0</td>\n",
              "      <td>0</td>\n",
              "      <td>0</td>\n",
              "      <td>0</td>\n",
              "      <td>0</td>\n",
              "      <td>46</td>\n",
              "      <td>0</td>\n",
              "    </tr>\n",
              "    <tr>\n",
              "      <th>1</th>\n",
              "      <td>0</td>\n",
              "      <td>0</td>\n",
              "      <td>0</td>\n",
              "      <td>0</td>\n",
              "      <td>0</td>\n",
              "      <td>0</td>\n",
              "      <td>0</td>\n",
              "      <td>0</td>\n",
              "      <td>0</td>\n",
              "      <td>0</td>\n",
              "      <td>...</td>\n",
              "      <td>0</td>\n",
              "      <td>0</td>\n",
              "      <td>0</td>\n",
              "      <td>0</td>\n",
              "      <td>0</td>\n",
              "      <td>0</td>\n",
              "      <td>0</td>\n",
              "      <td>0</td>\n",
              "      <td>73</td>\n",
              "      <td>0</td>\n",
              "    </tr>\n",
              "    <tr>\n",
              "      <th>2</th>\n",
              "      <td>0</td>\n",
              "      <td>0</td>\n",
              "      <td>0</td>\n",
              "      <td>0</td>\n",
              "      <td>0</td>\n",
              "      <td>0</td>\n",
              "      <td>0</td>\n",
              "      <td>0</td>\n",
              "      <td>0</td>\n",
              "      <td>0</td>\n",
              "      <td>...</td>\n",
              "      <td>0</td>\n",
              "      <td>0</td>\n",
              "      <td>0</td>\n",
              "      <td>0</td>\n",
              "      <td>0</td>\n",
              "      <td>0</td>\n",
              "      <td>0</td>\n",
              "      <td>0</td>\n",
              "      <td>14</td>\n",
              "      <td>0</td>\n",
              "    </tr>\n",
              "    <tr>\n",
              "      <th>3</th>\n",
              "      <td>0</td>\n",
              "      <td>0</td>\n",
              "      <td>0</td>\n",
              "      <td>0</td>\n",
              "      <td>0</td>\n",
              "      <td>0</td>\n",
              "      <td>0</td>\n",
              "      <td>0</td>\n",
              "      <td>0</td>\n",
              "      <td>0</td>\n",
              "      <td>...</td>\n",
              "      <td>0</td>\n",
              "      <td>0</td>\n",
              "      <td>0</td>\n",
              "      <td>0</td>\n",
              "      <td>0</td>\n",
              "      <td>0</td>\n",
              "      <td>0</td>\n",
              "      <td>0</td>\n",
              "      <td>28</td>\n",
              "      <td>0</td>\n",
              "    </tr>\n",
              "    <tr>\n",
              "      <th>4</th>\n",
              "      <td>0</td>\n",
              "      <td>0</td>\n",
              "      <td>0</td>\n",
              "      <td>0</td>\n",
              "      <td>0</td>\n",
              "      <td>0</td>\n",
              "      <td>0</td>\n",
              "      <td>0</td>\n",
              "      <td>0</td>\n",
              "      <td>0</td>\n",
              "      <td>...</td>\n",
              "      <td>0</td>\n",
              "      <td>0</td>\n",
              "      <td>0</td>\n",
              "      <td>0</td>\n",
              "      <td>0</td>\n",
              "      <td>0</td>\n",
              "      <td>0</td>\n",
              "      <td>0</td>\n",
              "      <td>24</td>\n",
              "      <td>0</td>\n",
              "    </tr>\n",
              "  </tbody>\n",
              "</table>\n",
              "<p>5 rows × 1002 columns</p>\n",
              "</div>\n",
              "      <button class=\"colab-df-convert\" onclick=\"convertToInteractive('df-74e1bccf-e8c9-49a0-baab-aa2357b6a5bb')\"\n",
              "              title=\"Convert this dataframe to an interactive table.\"\n",
              "              style=\"display:none;\">\n",
              "        \n",
              "  <svg xmlns=\"http://www.w3.org/2000/svg\" height=\"24px\"viewBox=\"0 0 24 24\"\n",
              "       width=\"24px\">\n",
              "    <path d=\"M0 0h24v24H0V0z\" fill=\"none\"/>\n",
              "    <path d=\"M18.56 5.44l.94 2.06.94-2.06 2.06-.94-2.06-.94-.94-2.06-.94 2.06-2.06.94zm-11 1L8.5 8.5l.94-2.06 2.06-.94-2.06-.94L8.5 2.5l-.94 2.06-2.06.94zm10 10l.94 2.06.94-2.06 2.06-.94-2.06-.94-.94-2.06-.94 2.06-2.06.94z\"/><path d=\"M17.41 7.96l-1.37-1.37c-.4-.4-.92-.59-1.43-.59-.52 0-1.04.2-1.43.59L10.3 9.45l-7.72 7.72c-.78.78-.78 2.05 0 2.83L4 21.41c.39.39.9.59 1.41.59.51 0 1.02-.2 1.41-.59l7.78-7.78 2.81-2.81c.8-.78.8-2.07 0-2.86zM5.41 20L4 18.59l7.72-7.72 1.47 1.35L5.41 20z\"/>\n",
              "  </svg>\n",
              "      </button>\n",
              "      \n",
              "  <style>\n",
              "    .colab-df-container {\n",
              "      display:flex;\n",
              "      flex-wrap:wrap;\n",
              "      gap: 12px;\n",
              "    }\n",
              "\n",
              "    .colab-df-convert {\n",
              "      background-color: #E8F0FE;\n",
              "      border: none;\n",
              "      border-radius: 50%;\n",
              "      cursor: pointer;\n",
              "      display: none;\n",
              "      fill: #1967D2;\n",
              "      height: 32px;\n",
              "      padding: 0 0 0 0;\n",
              "      width: 32px;\n",
              "    }\n",
              "\n",
              "    .colab-df-convert:hover {\n",
              "      background-color: #E2EBFA;\n",
              "      box-shadow: 0px 1px 2px rgba(60, 64, 67, 0.3), 0px 1px 3px 1px rgba(60, 64, 67, 0.15);\n",
              "      fill: #174EA6;\n",
              "    }\n",
              "\n",
              "    [theme=dark] .colab-df-convert {\n",
              "      background-color: #3B4455;\n",
              "      fill: #D2E3FC;\n",
              "    }\n",
              "\n",
              "    [theme=dark] .colab-df-convert:hover {\n",
              "      background-color: #434B5C;\n",
              "      box-shadow: 0px 1px 3px 1px rgba(0, 0, 0, 0.15);\n",
              "      filter: drop-shadow(0px 1px 2px rgba(0, 0, 0, 0.3));\n",
              "      fill: #FFFFFF;\n",
              "    }\n",
              "  </style>\n",
              "\n",
              "      <script>\n",
              "        const buttonEl =\n",
              "          document.querySelector('#df-74e1bccf-e8c9-49a0-baab-aa2357b6a5bb button.colab-df-convert');\n",
              "        buttonEl.style.display =\n",
              "          google.colab.kernel.accessAllowed ? 'block' : 'none';\n",
              "\n",
              "        async function convertToInteractive(key) {\n",
              "          const element = document.querySelector('#df-74e1bccf-e8c9-49a0-baab-aa2357b6a5bb');\n",
              "          const dataTable =\n",
              "            await google.colab.kernel.invokeFunction('convertToInteractive',\n",
              "                                                     [key], {});\n",
              "          if (!dataTable) return;\n",
              "\n",
              "          const docLinkHtml = 'Like what you see? Visit the ' +\n",
              "            '<a target=\"_blank\" href=https://colab.research.google.com/notebooks/data_table.ipynb>data table notebook</a>'\n",
              "            + ' to learn more about interactive tables.';\n",
              "          element.innerHTML = '';\n",
              "          dataTable['output_type'] = 'display_data';\n",
              "          await google.colab.output.renderOutput(dataTable, element);\n",
              "          const docLink = document.createElement('div');\n",
              "          docLink.innerHTML = docLinkHtml;\n",
              "          element.appendChild(docLink);\n",
              "        }\n",
              "      </script>\n",
              "    </div>\n",
              "  </div>\n",
              "  "
            ],
            "text/plain": [
              "   0  1  2  3  4  5  6  7  8  9  ...  992  993  994  995  996  997  998  999  \\\n",
              "0  0  0  0  0  0  0  0  0  0  0  ...    0    0    0    0    0    0    0    0   \n",
              "1  0  0  0  0  0  0  0  0  0  0  ...    0    0    0    0    0    0    0    0   \n",
              "2  0  0  0  0  0  0  0  0  0  0  ...    0    0    0    0    0    0    0    0   \n",
              "3  0  0  0  0  0  0  0  0  0  0  ...    0    0    0    0    0    0    0    0   \n",
              "4  0  0  0  0  0  0  0  0  0  0  ...    0    0    0    0    0    0    0    0   \n",
              "\n",
              "   length_tweet  label  \n",
              "0            46      0  \n",
              "1            73      0  \n",
              "2            14      0  \n",
              "3            28      0  \n",
              "4            24      0  \n",
              "\n",
              "[5 rows x 1002 columns]"
            ]
          },
          "execution_count": 21,
          "metadata": {},
          "output_type": "execute_result"
        }
      ],
      "source": [
        "bow=CountVectorizer( min_df=2, max_features=1000)\n",
        "bow.fit(df['preprocess_tweet'])\n",
        "bow_df=bow.transform(df['preprocess_tweet']).toarray()\n",
        "print('feature name==',bow.get_feature_names_out()[:10])\n",
        "#print('feature name==',bow.get_feature_names()[:10])\n",
        "print('number of uniqe words',bow_df.shape[1])\n",
        "print('shape',bow_df.shape)\n",
        "bow_train=pd.DataFrame(bow_df)\n",
        "bow_train['length_tweet']=df['length_tweet']\n",
        "bow_train['label']=df['label']\n",
        "bow_train.head()"
      ]
    },
    {
      "cell_type": "markdown",
      "metadata": {
        "id": "snfas7BtthC3"
      },
      "source": [
        "### TF-IDF Features (Bi-Grams)"
      ]
    },
    {
      "cell_type": "code",
      "execution_count": 22,
      "metadata": {
        "colab": {
          "base_uri": "https://localhost:8080/",
          "height": 270
        },
        "id": "tI0wLzBwcjHx",
        "outputId": "2d510d44-355d-4db7-839c-3405980d2ae8"
      },
      "outputs": [
        {
          "name": "stdout",
          "output_type": "stream",
          "text": [
            "number of uniqe words 1000\n",
            "shape (31962, 1000)\n"
          ]
        },
        {
          "data": {
            "text/html": [
              "\n",
              "  <div id=\"df-1c58fef0-5025-451e-ac9f-d1c127d3e727\">\n",
              "    <div class=\"colab-df-container\">\n",
              "      <div>\n",
              "<style scoped>\n",
              "    .dataframe tbody tr th:only-of-type {\n",
              "        vertical-align: middle;\n",
              "    }\n",
              "\n",
              "    .dataframe tbody tr th {\n",
              "        vertical-align: top;\n",
              "    }\n",
              "\n",
              "    .dataframe thead th {\n",
              "        text-align: right;\n",
              "    }\n",
              "</style>\n",
              "<table border=\"1\" class=\"dataframe\">\n",
              "  <thead>\n",
              "    <tr style=\"text-align: right;\">\n",
              "      <th></th>\n",
              "      <th>0</th>\n",
              "      <th>1</th>\n",
              "      <th>2</th>\n",
              "      <th>3</th>\n",
              "      <th>4</th>\n",
              "      <th>5</th>\n",
              "      <th>6</th>\n",
              "      <th>7</th>\n",
              "      <th>8</th>\n",
              "      <th>9</th>\n",
              "      <th>...</th>\n",
              "      <th>992</th>\n",
              "      <th>993</th>\n",
              "      <th>994</th>\n",
              "      <th>995</th>\n",
              "      <th>996</th>\n",
              "      <th>997</th>\n",
              "      <th>998</th>\n",
              "      <th>999</th>\n",
              "      <th>length_tweet</th>\n",
              "      <th>label</th>\n",
              "    </tr>\n",
              "  </thead>\n",
              "  <tbody>\n",
              "    <tr>\n",
              "      <th>0</th>\n",
              "      <td>0.0</td>\n",
              "      <td>0.0</td>\n",
              "      <td>0.0</td>\n",
              "      <td>0.0</td>\n",
              "      <td>0.0</td>\n",
              "      <td>0.0</td>\n",
              "      <td>0.0</td>\n",
              "      <td>0.0</td>\n",
              "      <td>0.0</td>\n",
              "      <td>0.0</td>\n",
              "      <td>...</td>\n",
              "      <td>0.0</td>\n",
              "      <td>0.0</td>\n",
              "      <td>0.0</td>\n",
              "      <td>0.0</td>\n",
              "      <td>0.0</td>\n",
              "      <td>0.0</td>\n",
              "      <td>0.0</td>\n",
              "      <td>0.0</td>\n",
              "      <td>46</td>\n",
              "      <td>0</td>\n",
              "    </tr>\n",
              "    <tr>\n",
              "      <th>1</th>\n",
              "      <td>0.0</td>\n",
              "      <td>0.0</td>\n",
              "      <td>0.0</td>\n",
              "      <td>0.0</td>\n",
              "      <td>0.0</td>\n",
              "      <td>0.0</td>\n",
              "      <td>0.0</td>\n",
              "      <td>0.0</td>\n",
              "      <td>0.0</td>\n",
              "      <td>0.0</td>\n",
              "      <td>...</td>\n",
              "      <td>0.0</td>\n",
              "      <td>0.0</td>\n",
              "      <td>0.0</td>\n",
              "      <td>0.0</td>\n",
              "      <td>0.0</td>\n",
              "      <td>0.0</td>\n",
              "      <td>0.0</td>\n",
              "      <td>0.0</td>\n",
              "      <td>73</td>\n",
              "      <td>0</td>\n",
              "    </tr>\n",
              "    <tr>\n",
              "      <th>2</th>\n",
              "      <td>0.0</td>\n",
              "      <td>0.0</td>\n",
              "      <td>0.0</td>\n",
              "      <td>0.0</td>\n",
              "      <td>0.0</td>\n",
              "      <td>0.0</td>\n",
              "      <td>0.0</td>\n",
              "      <td>0.0</td>\n",
              "      <td>0.0</td>\n",
              "      <td>0.0</td>\n",
              "      <td>...</td>\n",
              "      <td>0.0</td>\n",
              "      <td>0.0</td>\n",
              "      <td>0.0</td>\n",
              "      <td>0.0</td>\n",
              "      <td>0.0</td>\n",
              "      <td>0.0</td>\n",
              "      <td>0.0</td>\n",
              "      <td>0.0</td>\n",
              "      <td>14</td>\n",
              "      <td>0</td>\n",
              "    </tr>\n",
              "    <tr>\n",
              "      <th>3</th>\n",
              "      <td>0.0</td>\n",
              "      <td>0.0</td>\n",
              "      <td>0.0</td>\n",
              "      <td>0.0</td>\n",
              "      <td>0.0</td>\n",
              "      <td>0.0</td>\n",
              "      <td>0.0</td>\n",
              "      <td>0.0</td>\n",
              "      <td>0.0</td>\n",
              "      <td>0.0</td>\n",
              "      <td>...</td>\n",
              "      <td>0.0</td>\n",
              "      <td>0.0</td>\n",
              "      <td>0.0</td>\n",
              "      <td>0.0</td>\n",
              "      <td>0.0</td>\n",
              "      <td>0.0</td>\n",
              "      <td>0.0</td>\n",
              "      <td>0.0</td>\n",
              "      <td>28</td>\n",
              "      <td>0</td>\n",
              "    </tr>\n",
              "    <tr>\n",
              "      <th>4</th>\n",
              "      <td>0.0</td>\n",
              "      <td>0.0</td>\n",
              "      <td>0.0</td>\n",
              "      <td>0.0</td>\n",
              "      <td>0.0</td>\n",
              "      <td>0.0</td>\n",
              "      <td>0.0</td>\n",
              "      <td>0.0</td>\n",
              "      <td>0.0</td>\n",
              "      <td>0.0</td>\n",
              "      <td>...</td>\n",
              "      <td>0.0</td>\n",
              "      <td>0.0</td>\n",
              "      <td>0.0</td>\n",
              "      <td>0.0</td>\n",
              "      <td>0.0</td>\n",
              "      <td>0.0</td>\n",
              "      <td>0.0</td>\n",
              "      <td>0.0</td>\n",
              "      <td>24</td>\n",
              "      <td>0</td>\n",
              "    </tr>\n",
              "  </tbody>\n",
              "</table>\n",
              "<p>5 rows × 1002 columns</p>\n",
              "</div>\n",
              "      <button class=\"colab-df-convert\" onclick=\"convertToInteractive('df-1c58fef0-5025-451e-ac9f-d1c127d3e727')\"\n",
              "              title=\"Convert this dataframe to an interactive table.\"\n",
              "              style=\"display:none;\">\n",
              "        \n",
              "  <svg xmlns=\"http://www.w3.org/2000/svg\" height=\"24px\"viewBox=\"0 0 24 24\"\n",
              "       width=\"24px\">\n",
              "    <path d=\"M0 0h24v24H0V0z\" fill=\"none\"/>\n",
              "    <path d=\"M18.56 5.44l.94 2.06.94-2.06 2.06-.94-2.06-.94-.94-2.06-.94 2.06-2.06.94zm-11 1L8.5 8.5l.94-2.06 2.06-.94-2.06-.94L8.5 2.5l-.94 2.06-2.06.94zm10 10l.94 2.06.94-2.06 2.06-.94-2.06-.94-.94-2.06-.94 2.06-2.06.94z\"/><path d=\"M17.41 7.96l-1.37-1.37c-.4-.4-.92-.59-1.43-.59-.52 0-1.04.2-1.43.59L10.3 9.45l-7.72 7.72c-.78.78-.78 2.05 0 2.83L4 21.41c.39.39.9.59 1.41.59.51 0 1.02-.2 1.41-.59l7.78-7.78 2.81-2.81c.8-.78.8-2.07 0-2.86zM5.41 20L4 18.59l7.72-7.72 1.47 1.35L5.41 20z\"/>\n",
              "  </svg>\n",
              "      </button>\n",
              "      \n",
              "  <style>\n",
              "    .colab-df-container {\n",
              "      display:flex;\n",
              "      flex-wrap:wrap;\n",
              "      gap: 12px;\n",
              "    }\n",
              "\n",
              "    .colab-df-convert {\n",
              "      background-color: #E8F0FE;\n",
              "      border: none;\n",
              "      border-radius: 50%;\n",
              "      cursor: pointer;\n",
              "      display: none;\n",
              "      fill: #1967D2;\n",
              "      height: 32px;\n",
              "      padding: 0 0 0 0;\n",
              "      width: 32px;\n",
              "    }\n",
              "\n",
              "    .colab-df-convert:hover {\n",
              "      background-color: #E2EBFA;\n",
              "      box-shadow: 0px 1px 2px rgba(60, 64, 67, 0.3), 0px 1px 3px 1px rgba(60, 64, 67, 0.15);\n",
              "      fill: #174EA6;\n",
              "    }\n",
              "\n",
              "    [theme=dark] .colab-df-convert {\n",
              "      background-color: #3B4455;\n",
              "      fill: #D2E3FC;\n",
              "    }\n",
              "\n",
              "    [theme=dark] .colab-df-convert:hover {\n",
              "      background-color: #434B5C;\n",
              "      box-shadow: 0px 1px 3px 1px rgba(0, 0, 0, 0.15);\n",
              "      filter: drop-shadow(0px 1px 2px rgba(0, 0, 0, 0.3));\n",
              "      fill: #FFFFFF;\n",
              "    }\n",
              "  </style>\n",
              "\n",
              "      <script>\n",
              "        const buttonEl =\n",
              "          document.querySelector('#df-1c58fef0-5025-451e-ac9f-d1c127d3e727 button.colab-df-convert');\n",
              "        buttonEl.style.display =\n",
              "          google.colab.kernel.accessAllowed ? 'block' : 'none';\n",
              "\n",
              "        async function convertToInteractive(key) {\n",
              "          const element = document.querySelector('#df-1c58fef0-5025-451e-ac9f-d1c127d3e727');\n",
              "          const dataTable =\n",
              "            await google.colab.kernel.invokeFunction('convertToInteractive',\n",
              "                                                     [key], {});\n",
              "          if (!dataTable) return;\n",
              "\n",
              "          const docLinkHtml = 'Like what you see? Visit the ' +\n",
              "            '<a target=\"_blank\" href=https://colab.research.google.com/notebooks/data_table.ipynb>data table notebook</a>'\n",
              "            + ' to learn more about interactive tables.';\n",
              "          element.innerHTML = '';\n",
              "          dataTable['output_type'] = 'display_data';\n",
              "          await google.colab.output.renderOutput(dataTable, element);\n",
              "          const docLink = document.createElement('div');\n",
              "          docLink.innerHTML = docLinkHtml;\n",
              "          element.appendChild(docLink);\n",
              "        }\n",
              "      </script>\n",
              "    </div>\n",
              "  </div>\n",
              "  "
            ],
            "text/plain": [
              "     0    1    2    3    4    5    6    7    8    9  ...  992  993  994  995  \\\n",
              "0  0.0  0.0  0.0  0.0  0.0  0.0  0.0  0.0  0.0  0.0  ...  0.0  0.0  0.0  0.0   \n",
              "1  0.0  0.0  0.0  0.0  0.0  0.0  0.0  0.0  0.0  0.0  ...  0.0  0.0  0.0  0.0   \n",
              "2  0.0  0.0  0.0  0.0  0.0  0.0  0.0  0.0  0.0  0.0  ...  0.0  0.0  0.0  0.0   \n",
              "3  0.0  0.0  0.0  0.0  0.0  0.0  0.0  0.0  0.0  0.0  ...  0.0  0.0  0.0  0.0   \n",
              "4  0.0  0.0  0.0  0.0  0.0  0.0  0.0  0.0  0.0  0.0  ...  0.0  0.0  0.0  0.0   \n",
              "\n",
              "   996  997  998  999  length_tweet  label  \n",
              "0  0.0  0.0  0.0  0.0            46      0  \n",
              "1  0.0  0.0  0.0  0.0            73      0  \n",
              "2  0.0  0.0  0.0  0.0            14      0  \n",
              "3  0.0  0.0  0.0  0.0            28      0  \n",
              "4  0.0  0.0  0.0  0.0            24      0  \n",
              "\n",
              "[5 rows x 1002 columns]"
            ]
          },
          "execution_count": 22,
          "metadata": {},
          "output_type": "execute_result"
        }
      ],
      "source": [
        "tfidf=TfidfVectorizer(ngram_range=(1, 2),min_df=2,max_features=1000)\n",
        "tfidf.fit(df['preprocess_tweet'])\n",
        "tfidf_df=tfidf.transform(df['preprocess_tweet']).toarray()\n",
        "print('number of uniqe words',bow_df.shape[1])\n",
        "print('shape',tfidf_df.shape)\n",
        "tfidf_train=pd.DataFrame(tfidf_df)\n",
        "tfidf_train['length_tweet']=df['length_tweet']\n",
        "tfidf_train['label']=df['label']\n",
        "tfidf_train.head()"
      ]
    },
    {
      "cell_type": "markdown",
      "metadata": {
        "id": "vVnvNDOSwkNw"
      },
      "source": [
        "###Word2vec\n",
        "__size:__ The number of dimensions of the embeddings and the default is 100.\n",
        "\n",
        "__window:__ The maximum distance between a target word and words around the target word. The default window is 5.\n",
        "\n",
        "__min_count:__ The minimum count of words to consider when training the model; words with occurrence less than this count will be ignored. The default for min_count is 5.\n",
        "\n",
        "__workers:__ The number of partitions during training and the default workers is 3.\n",
        "\n",
        "__sg:__ The training algorithm, either CBOW(0) or skip gram(1). The default training algorithm is CBOW."
      ]
    },
    {
      "cell_type": "code",
      "execution_count": 24,
      "metadata": {
        "colab": {
          "base_uri": "https://localhost:8080/"
        },
        "id": "ktHTDqEUxvOd",
        "outputId": "1d504a4e-4954-4a90-a7e1-b33b39ab2385"
      },
      "outputs": [
        {
          "name": "stderr",
          "output_type": "stream",
          "text": [
            "WARNING:gensim.models.word2vec:Effective 'alpha' higher than previous training cycles\n"
          ]
        },
        {
          "data": {
            "text/plain": [
              "(4813755, 5011220)"
            ]
          },
          "execution_count": 24,
          "metadata": {},
          "output_type": "execute_result"
        }
      ],
      "source": [
        "tokenize=df['preprocess_tweet'].apply(lambda x: x.split())\n",
        "w2vec_model=gensim.models.Word2Vec(tokenize,min_count = 1, window = 5, sg = 1)\n",
        "w2vec_model.train(tokenize,total_examples= len(df['preprocess_tweet']),epochs=20)"
      ]
    },
    {
      "cell_type": "code",
      "execution_count": 29,
      "metadata": {
        "colab": {
          "base_uri": "https://localhost:8080/"
        },
        "id": "irG-nBTh5yvX",
        "outputId": "9b4923cb-7299-4513-9da7-c3c03df2d5db"
      },
      "outputs": [
        {
          "data": {
            "text/plain": [
              "[('#fathersday', 0.7649288773536682),\n",
              " ('dad', 0.7409059405326843),\n",
              " ('#father', 0.7287586331367493),\n",
              " ('fathersday', 0.7112504243850708),\n",
              " ('papa', 0.7028763294219971),\n",
              " ('#dad', 0.6890040040016174),\n",
              " ('#hackney', 0.6829062104225159),\n",
              " ('#hackneywick', 0.6795486211776733),\n",
              " ('day#', 0.6704931855201721),\n",
              " ('#felizdiadelpadr', 0.6656774282455444)]"
            ]
          },
          "execution_count": 29,
          "metadata": {},
          "output_type": "execute_result"
        }
      ],
      "source": [
        "\n",
        "w2vec_model.wv.most_similar('father')"
      ]
    },
    {
      "cell_type": "code",
      "execution_count": 31,
      "metadata": {
        "colab": {
          "base_uri": "https://localhost:8080/"
        },
        "id": "1NEROZJ26UFu",
        "outputId": "886b0e6a-1829-497d-c7b1-e642410ad76e"
      },
      "outputs": [
        {
          "data": {
            "text/plain": [
              "36842"
            ]
          },
          "execution_count": 31,
          "metadata": {},
          "output_type": "execute_result"
        }
      ],
      "source": [
        "vocab_len = len(w2vec_model.wv)\n",
        "vocab_len"
      ]
    },
    {
      "cell_type": "code",
      "execution_count": 32,
      "metadata": {
        "colab": {
          "base_uri": "https://localhost:8080/"
        },
        "id": "JY1phcBQ9H09",
        "outputId": "1fd28d10-640a-4b3d-c8fa-a6c172e75476"
      },
      "outputs": [
        {
          "name": "stdout",
          "output_type": "stream",
          "text": [
            "number of words that occured minimum 5 times  36842\n",
            "sample words  ['day', 'amp', 'happi', 'u', '#love', 'love', '#', 'get', 'time', 'not', 'go', 'like', 'thank', 'today', 'make', 'new', '#posit', 'see', 'one', 'peopl', 'good', 'want', 'father', 'life', 'take', 'look', 'feel', '#smile', 'need', 'wait', 'come', 'work', 'bihday', 'week', '#healthi', 'way', 'year', '#thank', 'got', 'bull', 'great', 'know', 'live', 'think', 'best', 'thing', 'first', 'realli', 'back', 'ur']\n"
          ]
        }
      ],
      "source": [
        "w2v_words = list(w2vec_model.wv.key_to_index)\n",
        "print(\"number of words that occured minimum 5 times \",len(w2v_words))\n",
        "print(\"sample words \", w2v_words[0:50])"
      ]
    },
    {
      "cell_type": "code",
      "execution_count": 33,
      "metadata": {
        "colab": {
          "base_uri": "https://localhost:8080/"
        },
        "id": "tO9YiOU19HyJ",
        "outputId": "985f78fb-d358-47fd-f557-3ed1a54dd00d"
      },
      "outputs": [
        {
          "name": "stderr",
          "output_type": "stream",
          "text": [
            "100%|██████████| 31962/31962 [00:23<00:00, 1363.33it/s]"
          ]
        },
        {
          "name": "stdout",
          "output_type": "stream",
          "text": [
            "31962\n",
            "100\n"
          ]
        },
        {
          "name": "stderr",
          "output_type": "stream",
          "text": [
            "\n"
          ]
        }
      ],
      "source": [
        "vector=[]\n",
        "from tqdm import tqdm\n",
        "for sent in tqdm(tokenize):\n",
        "  sent_vec=np.zeros(100)\n",
        "  count =0\n",
        "  for word in sent: \n",
        "    if word in w2v_words:\n",
        "      vec = w2vec_model.wv[word]\n",
        "      sent_vec += vec \n",
        "      count += 1\n",
        "  if count != 0:\n",
        "    sent_vec /= count #normalize\n",
        "  vector.append(sent_vec)\n",
        "print(len(vector))\n",
        "print(len(vector[0]))        "
      ]
    },
    {
      "cell_type": "code",
      "execution_count": 34,
      "metadata": {
        "colab": {
          "base_uri": "https://localhost:8080/"
        },
        "id": "8dnm7AIHQZV0",
        "outputId": "7eb628dc-42ee-417b-eba2-4db8d3231af9"
      },
      "outputs": [
        {
          "data": {
            "text/plain": [
              "array([ -8.27881246,  21.12654772,   7.94369924,   9.44820024,\n",
              "         2.55777642,  -8.99161221,   5.13187068,  21.9888107 ,\n",
              "       -12.99569045,   1.8386575 ,   5.39762652,   0.10969893,\n",
              "         4.64522044,   2.97381567,  13.48387026,  -9.71446493,\n",
              "         0.09642595,  -8.54485572, -11.86845102, -25.29337269,\n",
              "         4.75771279,  -3.92457863,   5.38346807,  -8.39975759,\n",
              "        -6.0577039 ,  -2.53891969,  -3.42609094,  -4.26673616,\n",
              "        -8.2732337 ,  -2.59226144,  11.09433715,   7.01048028,\n",
              "        -5.57844043,   2.11700013,   6.12771824,   9.17134094,\n",
              "         3.1980814 , -14.34954776,  -6.03450018, -11.90010935,\n",
              "         7.74830347, -12.98060959,  -3.27719931,   0.57098677,\n",
              "        -0.5125931 ,   0.35299531,  -4.45246234,  -0.96031284,\n",
              "        -1.94929544,  12.96560384,  14.92222494,  -9.0644584 ,\n",
              "       -10.3170232 ,   2.12120493,  -7.11443871,   4.31129618,\n",
              "        11.92416028,   6.45834554, -13.41509803,   0.50199826,\n",
              "        -9.11392853,   8.56906799,  -3.63523692,   4.19060043,\n",
              "        -7.027496  ,   8.85082597,   2.22782386,   0.43008377,\n",
              "        -9.86396076,  11.12275437, -10.10211959,  -4.12870865,\n",
              "         4.24343221,  -0.43845383,  -3.58135876,  -0.30587295,\n",
              "        11.2678649 ,  -4.52249964,  -7.26953356,   7.55638023,\n",
              "        -8.506246  ,  -0.77890527,  -5.22781583,   0.90692196,\n",
              "        -2.16970855,   1.55603991,  -1.82388079,   9.56966689,\n",
              "         0.27257334,   2.64505381,   9.77040676,  10.26014147,\n",
              "         3.51856786,   2.09357039,  22.04811368,  -0.11303254,\n",
              "         1.46279541,  -7.6471593 ,   1.14778118,  -8.38200736])"
            ]
          },
          "execution_count": 34,
          "metadata": {},
          "output_type": "execute_result"
        }
      ],
      "source": [
        "#example\n",
        "l='father dysfunct selfish drag kid dysfunct'\n",
        "count=0\n",
        "vcc=np.zeros(100)\n",
        "for word in l:\n",
        "  if word in w2v_words:\n",
        "    v=w2vec_model.wv[word]\n",
        "    vcc+=v\n",
        "    count+=1\n",
        "vcc"
      ]
    },
    {
      "cell_type": "code",
      "execution_count": 35,
      "metadata": {
        "colab": {
          "base_uri": "https://localhost:8080/",
          "height": 317
        },
        "id": "PqDCPRDIOmYT",
        "outputId": "16f73bf7-c8d9-4d31-c6d3-e83ec33ff1d7"
      },
      "outputs": [
        {
          "name": "stdout",
          "output_type": "stream",
          "text": [
            "number of uniqe words 100\n"
          ]
        },
        {
          "data": {
            "text/html": [
              "\n",
              "  <div id=\"df-f0663c7c-53d5-4c3b-b3a2-997c6879c008\">\n",
              "    <div class=\"colab-df-container\">\n",
              "      <div>\n",
              "<style scoped>\n",
              "    .dataframe tbody tr th:only-of-type {\n",
              "        vertical-align: middle;\n",
              "    }\n",
              "\n",
              "    .dataframe tbody tr th {\n",
              "        vertical-align: top;\n",
              "    }\n",
              "\n",
              "    .dataframe thead th {\n",
              "        text-align: right;\n",
              "    }\n",
              "</style>\n",
              "<table border=\"1\" class=\"dataframe\">\n",
              "  <thead>\n",
              "    <tr style=\"text-align: right;\">\n",
              "      <th></th>\n",
              "      <th>0</th>\n",
              "      <th>1</th>\n",
              "      <th>2</th>\n",
              "      <th>3</th>\n",
              "      <th>4</th>\n",
              "      <th>5</th>\n",
              "      <th>6</th>\n",
              "      <th>7</th>\n",
              "      <th>8</th>\n",
              "      <th>9</th>\n",
              "      <th>...</th>\n",
              "      <th>92</th>\n",
              "      <th>93</th>\n",
              "      <th>94</th>\n",
              "      <th>95</th>\n",
              "      <th>96</th>\n",
              "      <th>97</th>\n",
              "      <th>98</th>\n",
              "      <th>99</th>\n",
              "      <th>length_tweet</th>\n",
              "      <th>label</th>\n",
              "    </tr>\n",
              "  </thead>\n",
              "  <tbody>\n",
              "    <tr>\n",
              "      <th>0</th>\n",
              "      <td>0.098473</td>\n",
              "      <td>0.004853</td>\n",
              "      <td>0.066748</td>\n",
              "      <td>-0.184206</td>\n",
              "      <td>-0.094047</td>\n",
              "      <td>-0.476505</td>\n",
              "      <td>-0.074124</td>\n",
              "      <td>0.898454</td>\n",
              "      <td>-0.278669</td>\n",
              "      <td>-0.315727</td>\n",
              "      <td>...</td>\n",
              "      <td>-0.138249</td>\n",
              "      <td>0.458639</td>\n",
              "      <td>0.306839</td>\n",
              "      <td>0.111534</td>\n",
              "      <td>0.278602</td>\n",
              "      <td>-0.389843</td>\n",
              "      <td>0.045776</td>\n",
              "      <td>-0.330711</td>\n",
              "      <td>46</td>\n",
              "      <td>0</td>\n",
              "    </tr>\n",
              "    <tr>\n",
              "      <th>1</th>\n",
              "      <td>-0.087088</td>\n",
              "      <td>0.395361</td>\n",
              "      <td>0.274229</td>\n",
              "      <td>-0.073581</td>\n",
              "      <td>-0.043825</td>\n",
              "      <td>-0.108330</td>\n",
              "      <td>-0.015920</td>\n",
              "      <td>0.341374</td>\n",
              "      <td>-0.209306</td>\n",
              "      <td>0.011212</td>\n",
              "      <td>...</td>\n",
              "      <td>0.019060</td>\n",
              "      <td>-0.107183</td>\n",
              "      <td>0.166892</td>\n",
              "      <td>0.094100</td>\n",
              "      <td>0.016098</td>\n",
              "      <td>-0.255501</td>\n",
              "      <td>0.128436</td>\n",
              "      <td>0.001913</td>\n",
              "      <td>73</td>\n",
              "      <td>0</td>\n",
              "    </tr>\n",
              "    <tr>\n",
              "      <th>2</th>\n",
              "      <td>0.540009</td>\n",
              "      <td>0.137538</td>\n",
              "      <td>-0.125979</td>\n",
              "      <td>0.562313</td>\n",
              "      <td>0.265417</td>\n",
              "      <td>-0.436926</td>\n",
              "      <td>-0.288803</td>\n",
              "      <td>0.303588</td>\n",
              "      <td>0.164426</td>\n",
              "      <td>-0.222131</td>\n",
              "      <td>...</td>\n",
              "      <td>0.261015</td>\n",
              "      <td>-0.286987</td>\n",
              "      <td>0.794873</td>\n",
              "      <td>0.898219</td>\n",
              "      <td>0.647335</td>\n",
              "      <td>-0.036030</td>\n",
              "      <td>0.826891</td>\n",
              "      <td>-0.462686</td>\n",
              "      <td>14</td>\n",
              "      <td>0</td>\n",
              "    </tr>\n",
              "    <tr>\n",
              "      <th>3</th>\n",
              "      <td>-0.347005</td>\n",
              "      <td>0.633842</td>\n",
              "      <td>-0.058345</td>\n",
              "      <td>-0.289134</td>\n",
              "      <td>0.199690</td>\n",
              "      <td>-0.205716</td>\n",
              "      <td>0.560977</td>\n",
              "      <td>1.070878</td>\n",
              "      <td>-0.354286</td>\n",
              "      <td>-0.493028</td>\n",
              "      <td>...</td>\n",
              "      <td>0.489827</td>\n",
              "      <td>-0.724248</td>\n",
              "      <td>1.129317</td>\n",
              "      <td>0.390458</td>\n",
              "      <td>0.236546</td>\n",
              "      <td>-0.924604</td>\n",
              "      <td>0.093013</td>\n",
              "      <td>-0.607534</td>\n",
              "      <td>28</td>\n",
              "      <td>0</td>\n",
              "    </tr>\n",
              "    <tr>\n",
              "      <th>4</th>\n",
              "      <td>-0.055208</td>\n",
              "      <td>0.166905</td>\n",
              "      <td>0.360649</td>\n",
              "      <td>0.333246</td>\n",
              "      <td>-0.047096</td>\n",
              "      <td>-0.464597</td>\n",
              "      <td>-0.470219</td>\n",
              "      <td>0.880207</td>\n",
              "      <td>-0.344010</td>\n",
              "      <td>0.077666</td>\n",
              "      <td>...</td>\n",
              "      <td>0.082662</td>\n",
              "      <td>0.512107</td>\n",
              "      <td>0.261816</td>\n",
              "      <td>0.559026</td>\n",
              "      <td>0.086876</td>\n",
              "      <td>-0.358115</td>\n",
              "      <td>0.039024</td>\n",
              "      <td>-0.136302</td>\n",
              "      <td>24</td>\n",
              "      <td>0</td>\n",
              "    </tr>\n",
              "  </tbody>\n",
              "</table>\n",
              "<p>5 rows × 102 columns</p>\n",
              "</div>\n",
              "      <button class=\"colab-df-convert\" onclick=\"convertToInteractive('df-f0663c7c-53d5-4c3b-b3a2-997c6879c008')\"\n",
              "              title=\"Convert this dataframe to an interactive table.\"\n",
              "              style=\"display:none;\">\n",
              "        \n",
              "  <svg xmlns=\"http://www.w3.org/2000/svg\" height=\"24px\"viewBox=\"0 0 24 24\"\n",
              "       width=\"24px\">\n",
              "    <path d=\"M0 0h24v24H0V0z\" fill=\"none\"/>\n",
              "    <path d=\"M18.56 5.44l.94 2.06.94-2.06 2.06-.94-2.06-.94-.94-2.06-.94 2.06-2.06.94zm-11 1L8.5 8.5l.94-2.06 2.06-.94-2.06-.94L8.5 2.5l-.94 2.06-2.06.94zm10 10l.94 2.06.94-2.06 2.06-.94-2.06-.94-.94-2.06-.94 2.06-2.06.94z\"/><path d=\"M17.41 7.96l-1.37-1.37c-.4-.4-.92-.59-1.43-.59-.52 0-1.04.2-1.43.59L10.3 9.45l-7.72 7.72c-.78.78-.78 2.05 0 2.83L4 21.41c.39.39.9.59 1.41.59.51 0 1.02-.2 1.41-.59l7.78-7.78 2.81-2.81c.8-.78.8-2.07 0-2.86zM5.41 20L4 18.59l7.72-7.72 1.47 1.35L5.41 20z\"/>\n",
              "  </svg>\n",
              "      </button>\n",
              "      \n",
              "  <style>\n",
              "    .colab-df-container {\n",
              "      display:flex;\n",
              "      flex-wrap:wrap;\n",
              "      gap: 12px;\n",
              "    }\n",
              "\n",
              "    .colab-df-convert {\n",
              "      background-color: #E8F0FE;\n",
              "      border: none;\n",
              "      border-radius: 50%;\n",
              "      cursor: pointer;\n",
              "      display: none;\n",
              "      fill: #1967D2;\n",
              "      height: 32px;\n",
              "      padding: 0 0 0 0;\n",
              "      width: 32px;\n",
              "    }\n",
              "\n",
              "    .colab-df-convert:hover {\n",
              "      background-color: #E2EBFA;\n",
              "      box-shadow: 0px 1px 2px rgba(60, 64, 67, 0.3), 0px 1px 3px 1px rgba(60, 64, 67, 0.15);\n",
              "      fill: #174EA6;\n",
              "    }\n",
              "\n",
              "    [theme=dark] .colab-df-convert {\n",
              "      background-color: #3B4455;\n",
              "      fill: #D2E3FC;\n",
              "    }\n",
              "\n",
              "    [theme=dark] .colab-df-convert:hover {\n",
              "      background-color: #434B5C;\n",
              "      box-shadow: 0px 1px 3px 1px rgba(0, 0, 0, 0.15);\n",
              "      filter: drop-shadow(0px 1px 2px rgba(0, 0, 0, 0.3));\n",
              "      fill: #FFFFFF;\n",
              "    }\n",
              "  </style>\n",
              "\n",
              "      <script>\n",
              "        const buttonEl =\n",
              "          document.querySelector('#df-f0663c7c-53d5-4c3b-b3a2-997c6879c008 button.colab-df-convert');\n",
              "        buttonEl.style.display =\n",
              "          google.colab.kernel.accessAllowed ? 'block' : 'none';\n",
              "\n",
              "        async function convertToInteractive(key) {\n",
              "          const element = document.querySelector('#df-f0663c7c-53d5-4c3b-b3a2-997c6879c008');\n",
              "          const dataTable =\n",
              "            await google.colab.kernel.invokeFunction('convertToInteractive',\n",
              "                                                     [key], {});\n",
              "          if (!dataTable) return;\n",
              "\n",
              "          const docLinkHtml = 'Like what you see? Visit the ' +\n",
              "            '<a target=\"_blank\" href=https://colab.research.google.com/notebooks/data_table.ipynb>data table notebook</a>'\n",
              "            + ' to learn more about interactive tables.';\n",
              "          element.innerHTML = '';\n",
              "          dataTable['output_type'] = 'display_data';\n",
              "          await google.colab.output.renderOutput(dataTable, element);\n",
              "          const docLink = document.createElement('div');\n",
              "          docLink.innerHTML = docLinkHtml;\n",
              "          element.appendChild(docLink);\n",
              "        }\n",
              "      </script>\n",
              "    </div>\n",
              "  </div>\n",
              "  "
            ],
            "text/plain": [
              "          0         1         2         3         4         5         6  \\\n",
              "0  0.098473  0.004853  0.066748 -0.184206 -0.094047 -0.476505 -0.074124   \n",
              "1 -0.087088  0.395361  0.274229 -0.073581 -0.043825 -0.108330 -0.015920   \n",
              "2  0.540009  0.137538 -0.125979  0.562313  0.265417 -0.436926 -0.288803   \n",
              "3 -0.347005  0.633842 -0.058345 -0.289134  0.199690 -0.205716  0.560977   \n",
              "4 -0.055208  0.166905  0.360649  0.333246 -0.047096 -0.464597 -0.470219   \n",
              "\n",
              "          7         8         9  ...        92        93        94        95  \\\n",
              "0  0.898454 -0.278669 -0.315727  ... -0.138249  0.458639  0.306839  0.111534   \n",
              "1  0.341374 -0.209306  0.011212  ...  0.019060 -0.107183  0.166892  0.094100   \n",
              "2  0.303588  0.164426 -0.222131  ...  0.261015 -0.286987  0.794873  0.898219   \n",
              "3  1.070878 -0.354286 -0.493028  ...  0.489827 -0.724248  1.129317  0.390458   \n",
              "4  0.880207 -0.344010  0.077666  ...  0.082662  0.512107  0.261816  0.559026   \n",
              "\n",
              "         96        97        98        99  length_tweet  label  \n",
              "0  0.278602 -0.389843  0.045776 -0.330711            46      0  \n",
              "1  0.016098 -0.255501  0.128436  0.001913            73      0  \n",
              "2  0.647335 -0.036030  0.826891 -0.462686            14      0  \n",
              "3  0.236546 -0.924604  0.093013 -0.607534            28      0  \n",
              "4  0.086876 -0.358115  0.039024 -0.136302            24      0  \n",
              "\n",
              "[5 rows x 102 columns]"
            ]
          },
          "execution_count": 35,
          "metadata": {},
          "output_type": "execute_result"
        }
      ],
      "source": [
        "\n",
        "print('number of uniqe words',len(vector[1]))\n",
        "w2v_train=pd.DataFrame(vector)\n",
        "w2v_train['length_tweet']=df['length_tweet']\n",
        "w2v_train['label']=df['label']\n",
        "w2v_train.head()"
      ]
    },
    {
      "cell_type": "code",
      "execution_count": null,
      "metadata": {
        "id": "bno6BF8uXWj_"
      },
      "outputs": [],
      "source": []
    },
    {
      "cell_type": "markdown",
      "metadata": {
        "id": "aDAZQPo2ckOA"
      },
      "source": [
        "#Resample"
      ]
    },
    {
      "cell_type": "markdown",
      "metadata": {
        "id": "qyBl_7dphiqx"
      },
      "source": [
        "##Upsampling BOW"
      ]
    },
    {
      "cell_type": "code",
      "execution_count": 36,
      "metadata": {
        "colab": {
          "base_uri": "https://localhost:8080/",
          "height": 465
        },
        "id": "_gwsiRZect0l",
        "outputId": "0d07e978-c870-4626-91f7-65796d8adb68"
      },
      "outputs": [
        {
          "name": "stdout",
          "output_type": "stream",
          "text": [
            "shape (59440, 1002)\n"
          ]
        },
        {
          "data": {
            "text/plain": [
              "<Axes: ylabel='count'>"
            ]
          },
          "execution_count": 36,
          "metadata": {},
          "output_type": "execute_result"
        },
        {
          "data": {
            "image/png": "[encoded data removed]",
            "text/plain": [
              "<Figure size 640x480 with 1 Axes>"
            ]
          },
          "metadata": {},
          "output_type": "display_data"
        }
      ],
      "source": [
        "major_class_0,major_class_1=bow_train.label.value_counts()\n",
        "df_major=bow_train[bow_train['label']==0]\n",
        "df_minor=bow_train[bow_train['label']==1]\n",
        "df_minor_upsampled = resample(df_minor, \n",
        "                                 replace=True,     # sample with replacement\n",
        "                                 n_samples=major_class_0)\n",
        "df_bow_upsampled = pd.concat([df_major, df_minor_upsampled])\n",
        "print('shape',df_bow_upsampled.shape)\n",
        "sns.countplot(df_bow_upsampled.label)"
      ]
    },
    {
      "cell_type": "markdown",
      "metadata": {
        "id": "DcXm4-2nh8qU"
      },
      "source": [
        "##Upsampling TF-IDF"
      ]
    },
    {
      "cell_type": "code",
      "execution_count": 37,
      "metadata": {
        "colab": {
          "base_uri": "https://localhost:8080/",
          "height": 465
        },
        "id": "-92Lrks_ihFr",
        "outputId": "fc92e673-0f92-4e59-d0ac-d407cd7b95b1"
      },
      "outputs": [
        {
          "name": "stdout",
          "output_type": "stream",
          "text": [
            "shape (59440, 1002)\n"
          ]
        },
        {
          "data": {
            "text/plain": [
              "<Axes: ylabel='count'>"
            ]
          },
          "execution_count": 37,
          "metadata": {},
          "output_type": "execute_result"
        },
        {
          "data": {
            "image/png": "[encoded data removed]",
            "text/plain": [
              "<Figure size 640x480 with 1 Axes>"
            ]
          },
          "metadata": {},
          "output_type": "display_data"
        }
      ],
      "source": [
        "major_class_0,major_class_1=tfidf_train.label.value_counts()\n",
        "df_major=tfidf_train[tfidf_train['label']==0]\n",
        "df_minor=tfidf_train[tfidf_train['label']==1]\n",
        "df_minor_upsampled = resample(df_minor, \n",
        "                                 replace=True,     # sample with replacement\n",
        "                                 n_samples=major_class_0)\n",
        "df_tfidf_upsampled = pd.concat([df_major, df_minor_upsampled])\n",
        "print('shape',df_tfidf_upsampled.shape)\n",
        "sns.countplot(df_tfidf_upsampled.label)"
      ]
    },
    {
      "cell_type": "markdown",
      "metadata": {
        "id": "otKNRsUOi3uT"
      },
      "source": [
        "##Upsampling  word2vec"
      ]
    },
    {
      "cell_type": "code",
      "execution_count": 38,
      "metadata": {
        "colab": {
          "base_uri": "https://localhost:8080/",
          "height": 465
        },
        "id": "IC_kKXYYihJN",
        "outputId": "cdf95be8-3ba6-46fe-cadc-08c5e2cd9259"
      },
      "outputs": [
        {
          "name": "stdout",
          "output_type": "stream",
          "text": [
            "shape (59440, 102)\n"
          ]
        },
        {
          "data": {
            "text/plain": [
              "<Axes: ylabel='count'>"
            ]
          },
          "execution_count": 38,
          "metadata": {},
          "output_type": "execute_result"
        },
        {
          "data": {
            "image/png": "[encoded data removed]",
            "text/plain": [
              "<Figure size 640x480 with 1 Axes>"
            ]
          },
          "metadata": {},
          "output_type": "display_data"
        }
      ],
      "source": [
        "major_class_0,major_class_1=w2v_train.label.value_counts()\n",
        "df_major=w2v_train[w2v_train['label']==0]\n",
        "df_minor=w2v_train[w2v_train['label']==1]\n",
        "df_minor_upsampled = resample(df_minor, \n",
        "                                 replace=True,     # sample with replacement\n",
        "                                 n_samples=major_class_0)\n",
        "df_w2v_upsampled = pd.concat([df_major, df_minor_upsampled])\n",
        "print('shape',df_w2v_upsampled.shape)\n",
        "sns.countplot(df_w2v_upsampled.label)"
      ]
    },
    {
      "cell_type": "markdown",
      "metadata": {
        "id": "_9DKbyeyjY0m"
      },
      "source": [
        "# Split Dataset"
      ]
    },
    {
      "cell_type": "code",
      "execution_count": 40,
      "metadata": {
        "id": "VeBiQFw8WXzK"
      },
      "outputs": [],
      "source": [
        "x=df_bow_upsampled.iloc[:,0:-2]\n",
        "y=df_bow_upsampled['label']\n",
        "x_train_bow,x_test_bow,y_train_bow,y_test_bow=train_test_split(x,y,test_size=0.2)"
      ]
    },
    {
      "cell_type": "code",
      "execution_count": 41,
      "metadata": {
        "id": "jOnl7DRxj4xv"
      },
      "outputs": [],
      "source": [
        "x=df_tfidf_upsampled.iloc[:,0:-2]\n",
        "y=df_tfidf_upsampled['label']\n",
        "x_train_tfidf,x_test_tfidf,y_train_tfidf,y_test_tfidf=train_test_split(x,y,test_size=0.2)"
      ]
    },
    {
      "cell_type": "code",
      "execution_count": 42,
      "metadata": {
        "id": "1NI_sKZ_j6uq"
      },
      "outputs": [],
      "source": [
        "x=df_w2v_upsampled.iloc[:,0:-2]\n",
        "y=df_w2v_upsampled['label']\n",
        "x_train_w2v,x_test_w2v,y_train_w2v,y_test_w2v=train_test_split(x,y,test_size=0.2)"
      ]
    },
    {
      "cell_type": "markdown",
      "metadata": {
        "id": "PIMfJGHDkLQd"
      },
      "source": [
        "#Model Selection"
      ]
    },
    {
      "cell_type": "code",
      "execution_count": 43,
      "metadata": {
        "id": "tHoEw3CqlICd"
      },
      "outputs": [],
      "source": [
        "def f1_score_(y_proba,y_test):\n",
        "  proba = y_proba[:,1] >= 0.3\n",
        "  proba = proba.astype(np.int) \n",
        "  return f1_score( proba,y_test)   \n"
      ]
    },
    {
      "cell_type": "markdown",
      "metadata": {
        "id": "J0IMkpq3kQHw"
      },
      "source": [
        "## Naive bayes "
      ]
    },
    {
      "cell_type": "code",
      "execution_count": 44,
      "metadata": {
        "colab": {
          "base_uri": "https://localhost:8080/"
        },
        "id": "QBKRy0tOWXzO",
        "outputId": "93acc65b-9682-49a6-a8a8-0ace8896c52b",
        "scrolled": true
      },
      "outputs": [
        {
          "name": "stdout",
          "output_type": "stream",
          "text": [
            "Accuracy Score 0.857335127860027\n",
            "f1 score  0.8615384615384617\n"
          ]
        }
      ],
      "source": [
        "#use Bow\n",
        "from sklearn.naive_bayes import BernoulliNB\n",
        "\n",
        "model=BernoulliNB()\n",
        "model.fit(x_train_bow,y_train_bow)\n",
        "y_pred=model.predict(x_test_bow)\n",
        "acc=accuracy_score(y_pred,y_test_bow)\n",
        "print('Accuracy Score',acc)\n",
        "y_proba=model.predict_proba(x_test_bow)\n",
        "f1_scor=f1_score_(y_proba,y_test_bow)\n",
        "print('f1 score ',f1_scor)"
      ]
    },
    {
      "cell_type": "code",
      "execution_count": 45,
      "metadata": {
        "colab": {
          "base_uri": "https://localhost:8080/"
        },
        "id": "0c1jyK2RiPRJ",
        "outputId": "6c0b57c9-952d-48fd-917b-9097546c4172"
      },
      "outputs": [
        {
          "name": "stdout",
          "output_type": "stream",
          "text": [
            "Accuracy Score 0.8488391655450875\n",
            "f1 score  0.8494344237236319\n"
          ]
        }
      ],
      "source": [
        "#use tfidf\n",
        "\n",
        "model=BernoulliNB()\n",
        "model.fit(x_train_tfidf,y_train_tfidf)\n",
        "y_pred=model.predict(x_test_tfidf)\n",
        "acc=accuracy_score(y_pred,y_test_tfidf)\n",
        "print('Accuracy Score',acc)\n",
        "y_proba=model.predict_proba(x_test_tfidf)\n",
        "f1_scor=f1_score_(y_proba,y_test_tfidf)\n",
        "print('f1 score ',f1_scor)"
      ]
    },
    {
      "cell_type": "code",
      "execution_count": 46,
      "metadata": {
        "colab": {
          "base_uri": "https://localhost:8080/"
        },
        "id": "iMnzsdEZiyad",
        "outputId": "9711748c-945c-49be-819f-ce67dc9101c9"
      },
      "outputs": [
        {
          "name": "stdout",
          "output_type": "stream",
          "text": [
            "Accuracy Score 0.8162853297442799\n",
            "f1 score  0.8221797323135756\n"
          ]
        }
      ],
      "source": [
        "#use word2vec\n",
        "model=BernoulliNB()\n",
        "model.fit(x_train_w2v,y_train_w2v)\n",
        "y_pred=model.predict(x_test_w2v)\n",
        "acc=accuracy_score(y_pred,y_test_w2v)\n",
        "print('Accuracy Score',acc)\n",
        "y_proba=model.predict_proba(x_test_w2v)\n",
        "f1_scor=f1_score_(y_proba,y_test_w2v)\n",
        "print('f1 score ',f1_scor)"
      ]
    },
    {
      "cell_type": "markdown",
      "metadata": {
        "id": "tcQ9-VYtmtr2"
      },
      "source": [
        "#Summary\n",
        "<table>\n",
        "<tr>\n",
        "<td colspan=2>BOW</td>\n",
        "<td colspan=2>TF-IDF</td>\n",
        "<td colspan=2>WORD2VEC</td>\n",
        "</tr>\n",
        "<td>Accuray</td>\n",
        "<td>f1_score</td>\n",
        "<td>Accuray</td>\n",
        "<td>f1_score</td>\n",
        "<td>Accuray</td>\n",
        "<td>f1_score</td>\n",
        "</tr>\n",
        "\n",
        "<td>0.8645693135935397</td>\n",
        "<td>0.8682122775937764</td>\n",
        "<td>0.8496803499327052</td>\n",
        "<td>0.85264359071890451</td>\n",
        "<td>0.8110699865410498</td>\n",
        "<td>0.8182540944506281</td>\n",
        "</tr>\n",
        "\n",
        "</table>\n",
        "\n"
      ]
    },
    {
      "cell_type": "code",
      "execution_count": null,
      "metadata": {
        "id": "pmNcOEK5msX7"
      },
      "outputs": [],
      "source": []
    }
  ],
  "metadata": {
    "colab": {
      "provenance": [],
      "toc_visible": true
    },
    "kernelspec": {
      "display_name": "Python 3",
      "language": "python",
      "name": "python3"
    },
    "language_info": {
      "codemirror_mode": {
        "name": "ipython",
        "version": 3
      },
      "file_extension": ".py",
      "mimetype": "text/x-python",
      "name": "python",
      "nbconvert_exporter": "python",
      "pygments_lexer": "ipython3",
      "version": "3.6.13"
    },
    "latex_envs": {
      "LaTeX_envs_menu_present": true,
      "autoclose": false,
      "autocomplete": true,
      "bibliofile": "biblio.bib",
      "cite_by": "apalike",
      "current_citInitial": 1,
      "eqLabelWithNumbers": true,
      "eqNumInitial": 1,
      "hotkeys": {
        "equation": "Ctrl-E",
        "itemize": "Ctrl-I"
      },
      "labels_anchors": false,
      "latex_user_defs": false,
      "report_style_numbering": false,
      "user_envs_cfg": false
    },
    "nbTranslate": {
      "displayLangs": [
        "*"
      ],
      "hotkey": "alt-t",
      "langInMainMenu": true,
      "sourceLang": "en",
      "targetLang": "fr",
      "useGoogleTranslate": true
    },
    "toc": {
      "base_numbering": 1,
      "nav_menu": {},
      "number_sections": true,
      "sideBar": true,
      "skip_h1_title": false,
      "title_cell": "Table of Contents",
      "title_sidebar": "Contents",
      "toc_cell": false,
      "toc_position": {},
      "toc_section_display": true,
      "toc_window_display": false
    }
  },
  "nbformat": 4,
  "nbformat_minor": 0
}
