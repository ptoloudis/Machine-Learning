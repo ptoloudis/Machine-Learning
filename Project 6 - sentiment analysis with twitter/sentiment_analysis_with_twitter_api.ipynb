{
  "cells": [
    {
      "cell_type": "markdown",
      "metadata": {
        "id": "VFhaDRDlqhEc"
      },
      "source": [
        "# Import Libraries"
      ]
    },
    {
      "cell_type": "code",
      "execution_count": 1,
      "metadata": {
        "_kg_hide-output": true,
        "colab": {
          "base_uri": "https://localhost:8080/"
        },
        "execution": {
          "iopub.execute_input": "2022-03-18T11:57:06.591706Z",
          "iopub.status.busy": "2022-03-18T11:57:06.591268Z",
          "iopub.status.idle": "2022-03-18T11:57:21.075305Z",
          "shell.execute_reply": "2022-03-18T11:57:21.074513Z",
          "shell.execute_reply.started": "2022-03-18T11:57:06.591665Z"
        },
        "id": "Naopt-TVqhEd",
        "outputId": "38968d36-d435-46dc-aac5-659dc456a16c",
        "trusted": true
      },
      "outputs": [
        {
          "name": "stdout",
          "output_type": "stream",
          "text": [
            "Looking in indexes: https://pypi.org/simple, https://us-python.pkg.dev/colab-wheels/public/simple/\n",
            "Requirement already satisfied: tweepy in /usr/local/lib/python3.10/dist-packages (4.13.0)\n",
            "Requirement already satisfied: oauthlib<4,>=3.2.0 in /usr/local/lib/python3.10/dist-packages (from tweepy) (3.2.2)\n",
            "Requirement already satisfied: requests-oauthlib<2,>=1.2.0 in /usr/local/lib/python3.10/dist-packages (from tweepy) (1.3.1)\n",
            "Requirement already satisfied: requests<3,>=2.27.0 in /usr/local/lib/python3.10/dist-packages (from tweepy) (2.27.1)\n",
            "Requirement already satisfied: urllib3<1.27,>=1.21.1 in /usr/local/lib/python3.10/dist-packages (from requests<3,>=2.27.0->tweepy) (1.26.15)\n",
            "Requirement already satisfied: certifi>=2017.4.17 in /usr/local/lib/python3.10/dist-packages (from requests<3,>=2.27.0->tweepy) (2022.12.7)\n",
            "Requirement already satisfied: idna<4,>=2.5 in /usr/local/lib/python3.10/dist-packages (from requests<3,>=2.27.0->tweepy) (3.4)\n",
            "Requirement already satisfied: charset-normalizer~=2.0.0 in /usr/local/lib/python3.10/dist-packages (from requests<3,>=2.27.0->tweepy) (2.0.12)\n"
          ]
        }
      ],
      "source": [
        "!pip install tweepy"
      ]
    },
    {
      "cell_type": "code",
      "execution_count": 2,
      "metadata": {
        "execution": {
          "iopub.execute_input": "2022-03-18T11:57:21.348636Z",
          "iopub.status.busy": "2022-03-18T11:57:21.348307Z",
          "iopub.status.idle": "2022-03-18T11:57:22.993839Z",
          "shell.execute_reply": "2022-03-18T11:57:22.992658Z",
          "shell.execute_reply.started": "2022-03-18T11:57:21.348603Z"
        },
        "id": "bOo8FkKfqhEf",
        "trusted": true
      },
      "outputs": [],
      "source": [
        "import numpy as np\n",
        "import pandas as pd\n",
        "import seaborn as sns\n",
        "import matplotlib.pyplot as plt\n",
        "\n",
        "from sklearn.feature_extraction.text import CountVectorizer\n",
        "from sklearn.feature_extraction.text import TfidfVectorizer\n",
        "\n",
        "from sklearn.linear_model import LogisticRegression\n",
        "from sklearn.model_selection import cross_val_score, GridSearchCV, cross_validate\n",
        "from sklearn.preprocessing import LabelEncoder\n",
        "\n",
        "import tweepy\n",
        "\n",
        "from warnings import filterwarnings\n",
        "filterwarnings ('ignore')"
      ]
    },
    {
      "cell_type": "markdown",
      "metadata": {
        "id": "QV5rpOe9qhEf"
      },
      "source": [
        "<hr style=\"height:2px;border-width:0;color:white;background-color:green\">\n",
        "\n",
        "# Twitter API\n",
        "<br>\n",
        "\n",
        "##### For more informations about Twitter API you can use this link.\n",
        "https://developer.twitter.com/en/docs/twitter-api"
      ]
    },
    {
      "cell_type": "code",
      "execution_count": 3,
      "metadata": {
        "colab": {
          "base_uri": "https://localhost:8080/"
        },
        "id": "L7fs30NLruux",
        "outputId": "6ed4aae1-9a07-4045-f34d-3697cbd754d4"
      },
      "outputs": [
        {
          "name": "stdout",
          "output_type": "stream",
          "text": [
            "Looking in indexes: https://pypi.org/simple, https://us-python.pkg.dev/colab-wheels/public/simple/\n",
            "Requirement already satisfied: kaggle in /usr/local/lib/python3.10/dist-packages (1.5.13)\n",
            "Requirement already satisfied: tqdm in /usr/local/lib/python3.10/dist-packages (from kaggle) (4.65.0)\n",
            "Requirement already satisfied: python-slugify in /usr/local/lib/python3.10/dist-packages (from kaggle) (8.0.1)\n",
            "Requirement already satisfied: python-dateutil in /usr/local/lib/python3.10/dist-packages (from kaggle) (2.8.2)\n",
            "Requirement already satisfied: certifi in /usr/local/lib/python3.10/dist-packages (from kaggle) (2022.12.7)\n",
            "Requirement already satisfied: six>=1.10 in /usr/local/lib/python3.10/dist-packages (from kaggle) (1.16.0)\n",
            "Requirement already satisfied: requests in /usr/local/lib/python3.10/dist-packages (from kaggle) (2.27.1)\n",
            "Requirement already satisfied: urllib3 in /usr/local/lib/python3.10/dist-packages (from kaggle) (1.26.15)\n",
            "Requirement already satisfied: text-unidecode>=1.3 in /usr/local/lib/python3.10/dist-packages (from python-slugify->kaggle) (1.3)\n",
            "Requirement already satisfied: idna<4,>=2.5 in /usr/local/lib/python3.10/dist-packages (from requests->kaggle) (3.4)\n",
            "Requirement already satisfied: charset-normalizer~=2.0.0 in /usr/local/lib/python3.10/dist-packages (from requests->kaggle) (2.0.12)\n"
          ]
        }
      ],
      "source": [
        "!pip install kaggle"
      ]
    },
    {
      "cell_type": "code",
      "execution_count": 4,
      "metadata": {
        "id": "VUr5YTrltJGv"
      },
      "outputs": [],
      "source": [
        "import tweepy\n",
        "import pandas as pd\n",
        "\n",
        "consumer_key = 'WmqDx2vHvVTg6ZpqCVomx2qDt'\n",
        "consumer_secret = '2HMXCay6lla9mRyG2A8Ion2yq0P1TsB0FmzWSUQgKRtby6dEnU'\n",
        "access_token = '16065195-lcOE7dsySGMD0EETkhDM3ZnJ3iK9ZjYmcp1fzHIXM'\n",
        "access_token_secret = 'vYp7EGo9JwPLHGbxK4V8rZoZ3l1nR6RKVl6ZLZRKBSLQg'"
      ]
    },
    {
      "cell_type": "code",
      "execution_count": 5,
      "metadata": {
        "id": "Tm6OzT4qtcPp"
      },
      "outputs": [],
      "source": [
        "auth = tweepy.OAuthHandler(consumer_key, consumer_secret)\n",
        "auth.set_access_token(access_token, access_token_secret)\n",
        "\n",
        "api = tweepy.API(auth)"
      ]
    },
    {
      "cell_type": "code",
      "execution_count": 6,
      "metadata": {
        "execution": {
          "iopub.execute_input": "2022-03-18T09:13:40.5971Z",
          "iopub.status.busy": "2022-03-18T09:13:40.596706Z",
          "iopub.status.idle": "2022-03-18T09:13:41.03512Z",
          "shell.execute_reply": "2022-03-18T09:13:41.03451Z",
          "shell.execute_reply.started": "2022-03-18T09:13:40.597071Z"
        },
        "id": "t8grhlQHqhEg",
        "trusted": true
      },
      "outputs": [],
      "source": [
        "# We get the tweets with hastag \"BTC\", in english.\n",
        "\n",
        "tweets = api.search_tweets(q = \"F1\", lang = \"en\", count = 100)"
      ]
    },
    {
      "cell_type": "code",
      "execution_count": 7,
      "metadata": {
        "execution": {
          "iopub.execute_input": "2022-03-18T09:13:44.293115Z",
          "iopub.status.busy": "2022-03-18T09:13:44.292706Z",
          "iopub.status.idle": "2022-03-18T09:13:44.299406Z",
          "shell.execute_reply": "2022-03-18T09:13:44.298642Z",
          "shell.execute_reply.started": "2022-03-18T09:13:44.293084Z"
        },
        "id": "A-4dU_YeqhEh",
        "trusted": true
      },
      "outputs": [],
      "source": [
        "def hashtag_df(tweets):\n",
        "    import pandas as pd\n",
        "    id_list = [tweet.id for tweet in tweets]\n",
        "    dataframe = pd.DataFrame(id_list, columns = [\"id\"])\n",
        "    \n",
        "    dataframe[\"user\"] = [tweet.author.screen_name for tweet in tweets]\n",
        "    dataframe[\"text\"] = [tweet.text for tweet in tweets]\n",
        "    dataframe[\"hashtags\"] = [tweet.entities.get(\"hashtags\") for tweet in tweets]\n",
        "    \n",
        "    return dataframe"
      ]
    },
    {
      "cell_type": "code",
      "execution_count": 8,
      "metadata": {
        "colab": {
          "base_uri": "https://localhost:8080/",
          "height": 237
        },
        "execution": {
          "iopub.execute_input": "2022-03-18T09:13:45.821559Z",
          "iopub.status.busy": "2022-03-18T09:13:45.821119Z",
          "iopub.status.idle": "2022-03-18T09:13:45.868996Z",
          "shell.execute_reply": "2022-03-18T09:13:45.868142Z",
          "shell.execute_reply.started": "2022-03-18T09:13:45.821524Z"
        },
        "id": "Cgu0G5zpqhEh",
        "outputId": "ec76752b-a709-4ab9-8b60-9def7d55d146",
        "trusted": true
      },
      "outputs": [
        {
          "data": {
            "text/html": [
              "\n",
              "  <div id=\"df-ace83e86-5635-444c-bd41-529d7225aee1\">\n",
              "    <div class=\"colab-df-container\">\n",
              "      <div>\n",
              "<style scoped>\n",
              "    .dataframe tbody tr th:only-of-type {\n",
              "        vertical-align: middle;\n",
              "    }\n",
              "\n",
              "    .dataframe tbody tr th {\n",
              "        vertical-align: top;\n",
              "    }\n",
              "\n",
              "    .dataframe thead th {\n",
              "        text-align: right;\n",
              "    }\n",
              "</style>\n",
              "<table border=\"1\" class=\"dataframe\">\n",
              "  <thead>\n",
              "    <tr style=\"text-align: right;\">\n",
              "      <th></th>\n",
              "      <th>text</th>\n",
              "      <th>hashtags</th>\n",
              "    </tr>\n",
              "    <tr>\n",
              "      <th>user</th>\n",
              "      <th></th>\n",
              "      <th></th>\n",
              "    </tr>\n",
              "  </thead>\n",
              "  <tbody>\n",
              "    <tr>\n",
              "      <th>TwiknightRei</th>\n",
              "      <td>@MAiJiNTHEARTIST Off-chain... smart contract.....</td>\n",
              "      <td>[]</td>\n",
              "    </tr>\n",
              "    <tr>\n",
              "      <th>Jhonwic65</th>\n",
              "      <td>$XRP &amp;amp; $sun buy the dip 😘🚀\\nhttps://t.co/b...</td>\n",
              "      <td>[]</td>\n",
              "    </tr>\n",
              "    <tr>\n",
              "      <th>chanel22111</th>\n",
              "      <td>nft \\n DOG \\n shib \\n btc \\n USDT \\n  Quincy M...</td>\n",
              "      <td>[{'text': '代收', 'indices': [113, 116]}, {'text...</td>\n",
              "    </tr>\n",
              "    <tr>\n",
              "      <th>aunwichada</th>\n",
              "      <td>RT @SUI_C0MMUNITY: $2,500,000 - USDT #Giveaway...</td>\n",
              "      <td>[{'text': 'Giveaway', 'indices': [37, 46]}]</td>\n",
              "    </tr>\n",
              "    <tr>\n",
              "      <th>aorabi85</th>\n",
              "      <td>#CRYPTO is shooting up! Use https://t.co/LRb24...</td>\n",
              "      <td>[{'text': 'CRYPTO', 'indices': [0, 7]}]</td>\n",
              "    </tr>\n",
              "  </tbody>\n",
              "</table>\n",
              "</div>\n",
              "      <button class=\"colab-df-convert\" onclick=\"convertToInteractive('df-ace83e86-5635-444c-bd41-529d7225aee1')\"\n",
              "              title=\"Convert this dataframe to an interactive table.\"\n",
              "              style=\"display:none;\">\n",
              "        \n",
              "  <svg xmlns=\"http://www.w3.org/2000/svg\" height=\"24px\"viewBox=\"0 0 24 24\"\n",
              "       width=\"24px\">\n",
              "    <path d=\"M0 0h24v24H0V0z\" fill=\"none\"/>\n",
              "    <path d=\"M18.56 5.44l.94 2.06.94-2.06 2.06-.94-2.06-.94-.94-2.06-.94 2.06-2.06.94zm-11 1L8.5 8.5l.94-2.06 2.06-.94-2.06-.94L8.5 2.5l-.94 2.06-2.06.94zm10 10l.94 2.06.94-2.06 2.06-.94-2.06-.94-.94-2.06-.94 2.06-2.06.94z\"/><path d=\"M17.41 7.96l-1.37-1.37c-.4-.4-.92-.59-1.43-.59-.52 0-1.04.2-1.43.59L10.3 9.45l-7.72 7.72c-.78.78-.78 2.05 0 2.83L4 21.41c.39.39.9.59 1.41.59.51 0 1.02-.2 1.41-.59l7.78-7.78 2.81-2.81c.8-.78.8-2.07 0-2.86zM5.41 20L4 18.59l7.72-7.72 1.47 1.35L5.41 20z\"/>\n",
              "  </svg>\n",
              "      </button>\n",
              "      \n",
              "  <style>\n",
              "    .colab-df-container {\n",
              "      display:flex;\n",
              "      flex-wrap:wrap;\n",
              "      gap: 12px;\n",
              "    }\n",
              "\n",
              "    .colab-df-convert {\n",
              "      background-color: #E8F0FE;\n",
              "      border: none;\n",
              "      border-radius: 50%;\n",
              "      cursor: pointer;\n",
              "      display: none;\n",
              "      fill: #1967D2;\n",
              "      height: 32px;\n",
              "      padding: 0 0 0 0;\n",
              "      width: 32px;\n",
              "    }\n",
              "\n",
              "    .colab-df-convert:hover {\n",
              "      background-color: #E2EBFA;\n",
              "      box-shadow: 0px 1px 2px rgba(60, 64, 67, 0.3), 0px 1px 3px 1px rgba(60, 64, 67, 0.15);\n",
              "      fill: #174EA6;\n",
              "    }\n",
              "\n",
              "    [theme=dark] .colab-df-convert {\n",
              "      background-color: #3B4455;\n",
              "      fill: #D2E3FC;\n",
              "    }\n",
              "\n",
              "    [theme=dark] .colab-df-convert:hover {\n",
              "      background-color: #434B5C;\n",
              "      box-shadow: 0px 1px 3px 1px rgba(0, 0, 0, 0.15);\n",
              "      filter: drop-shadow(0px 1px 2px rgba(0, 0, 0, 0.3));\n",
              "      fill: #FFFFFF;\n",
              "    }\n",
              "  </style>\n",
              "\n",
              "      <script>\n",
              "        const buttonEl =\n",
              "          document.querySelector('#df-ace83e86-5635-444c-bd41-529d7225aee1 button.colab-df-convert');\n",
              "        buttonEl.style.display =\n",
              "          google.colab.kernel.accessAllowed ? 'block' : 'none';\n",
              "\n",
              "        async function convertToInteractive(key) {\n",
              "          const element = document.querySelector('#df-ace83e86-5635-444c-bd41-529d7225aee1');\n",
              "          const dataTable =\n",
              "            await google.colab.kernel.invokeFunction('convertToInteractive',\n",
              "                                                     [key], {});\n",
              "          if (!dataTable) return;\n",
              "\n",
              "          const docLinkHtml = 'Like what you see? Visit the ' +\n",
              "            '<a target=\"_blank\" href=https://colab.research.google.com/notebooks/data_table.ipynb>data table notebook</a>'\n",
              "            + ' to learn more about interactive tables.';\n",
              "          element.innerHTML = '';\n",
              "          dataTable['output_type'] = 'display_data';\n",
              "          await google.colab.output.renderOutput(dataTable, element);\n",
              "          const docLink = document.createElement('div');\n",
              "          docLink.innerHTML = docLinkHtml;\n",
              "          element.appendChild(docLink);\n",
              "        }\n",
              "      </script>\n",
              "    </div>\n",
              "  </div>\n",
              "  "
            ],
            "text/plain": [
              "                                                           text  \\\n",
              "user                                                              \n",
              "TwiknightRei  @MAiJiNTHEARTIST Off-chain... smart contract.....   \n",
              "Jhonwic65     $XRP &amp; $sun buy the dip 😘🚀\\nhttps://t.co/b...   \n",
              "chanel22111   nft \\n DOG \\n shib \\n btc \\n USDT \\n  Quincy M...   \n",
              "aunwichada    RT @SUI_C0MMUNITY: $2,500,000 - USDT #Giveaway...   \n",
              "aorabi85      #CRYPTO is shooting up! Use https://t.co/LRb24...   \n",
              "\n",
              "                                                       hashtags  \n",
              "user                                                             \n",
              "TwiknightRei                                                 []  \n",
              "Jhonwic65                                                    []  \n",
              "chanel22111   [{'text': '代收', 'indices': [113, 116]}, {'text...  \n",
              "aunwichada          [{'text': 'Giveaway', 'indices': [37, 46]}]  \n",
              "aorabi85                [{'text': 'CRYPTO', 'indices': [0, 7]}]  "
            ]
          },
          "execution_count": 8,
          "metadata": {},
          "output_type": "execute_result"
        }
      ],
      "source": [
        "df = hashtag_df(tweets)\n",
        "df = df.drop_duplicates(\"user\", keep = \"first\")\n",
        "df.drop(\"id\", axis=1, inplace=True)\n",
        "df.index = df[\"user\"]\n",
        "df.drop(\"user\", axis=1, inplace=True)\n",
        "\n",
        "# Let's see our dataset...\n",
        "\n",
        "df.head()"
      ]
    },
    {
      "cell_type": "markdown",
      "metadata": {
        "id": "ZSJFpunOqhEh"
      },
      "source": [
        "<hr style=\"height:2px;border-width:0;color:white;background-color:green\">\n",
        "\n",
        "# Dataset Cleaning"
      ]
    },
    {
      "cell_type": "code",
      "execution_count": 9,
      "metadata": {
        "colab": {
          "base_uri": "https://localhost:8080/",
          "height": 258
        },
        "execution": {
          "iopub.execute_input": "2022-03-18T09:13:50.245008Z",
          "iopub.status.busy": "2022-03-18T09:13:50.244718Z",
          "iopub.status.idle": "2022-03-18T09:13:52.694896Z",
          "shell.execute_reply": "2022-03-18T09:13:52.693989Z",
          "shell.execute_reply.started": "2022-03-18T09:13:50.244973Z"
        },
        "id": "KpKOQmvIqhEh",
        "outputId": "ea7dd1d0-5468-4cda-fd7a-e72d7a3d5c03",
        "trusted": true
      },
      "outputs": [
        {
          "name": "stderr",
          "output_type": "stream",
          "text": [
            "[nltk_data] Downloading package stopwords to /root/nltk_data...\n",
            "[nltk_data]   Unzipping corpora/stopwords.zip.\n",
            "[nltk_data] Downloading package wordnet to /root/nltk_data...\n"
          ]
        },
        {
          "data": {
            "text/html": [
              "\n",
              "  <div id=\"df-44861a2f-e276-4aeb-8056-c3eba6fd3415\">\n",
              "    <div class=\"colab-df-container\">\n",
              "      <div>\n",
              "<style scoped>\n",
              "    .dataframe tbody tr th:only-of-type {\n",
              "        vertical-align: middle;\n",
              "    }\n",
              "\n",
              "    .dataframe tbody tr th {\n",
              "        vertical-align: top;\n",
              "    }\n",
              "\n",
              "    .dataframe thead th {\n",
              "        text-align: right;\n",
              "    }\n",
              "</style>\n",
              "<table border=\"1\" class=\"dataframe\">\n",
              "  <thead>\n",
              "    <tr style=\"text-align: right;\">\n",
              "      <th></th>\n",
              "      <th>user</th>\n",
              "      <th>text</th>\n",
              "      <th>hashtags</th>\n",
              "    </tr>\n",
              "  </thead>\n",
              "  <tbody>\n",
              "    <tr>\n",
              "      <th>0</th>\n",
              "      <td>TwiknightRei</td>\n",
              "      <td>maijintheaist offchain sma contract using ai e...</td>\n",
              "      <td>[]</td>\n",
              "    </tr>\n",
              "    <tr>\n",
              "      <th>1</th>\n",
              "      <td>Jhonwic65</td>\n",
              "      <td>xrp amp sun buy dip httpstcobptwwojr btc shib ...</td>\n",
              "      <td>[]</td>\n",
              "    </tr>\n",
              "    <tr>\n",
              "      <th>2</th>\n",
              "      <td>chanel22111</td>\n",
              "      <td>nft dog shib btc usdt quincy moulton hannah ja...</td>\n",
              "      <td>[{'text': '代收', 'indices': [113, 116]}, {'text...</td>\n",
              "    </tr>\n",
              "    <tr>\n",
              "      <th>3</th>\n",
              "      <td>aunwichada</td>\n",
              "      <td>sui_cmmunity usdt giveaway paicipant retweet ...</td>\n",
              "      <td>[{'text': 'Giveaway', 'indices': [37, 46]}]</td>\n",
              "    </tr>\n",
              "    <tr>\n",
              "      <th>4</th>\n",
              "      <td>aorabi85</td>\n",
              "      <td>crypto shooting use httpstcolrbfeymt find coin...</td>\n",
              "      <td>[{'text': 'CRYPTO', 'indices': [0, 7]}]</td>\n",
              "    </tr>\n",
              "  </tbody>\n",
              "</table>\n",
              "</div>\n",
              "      <button class=\"colab-df-convert\" onclick=\"convertToInteractive('df-44861a2f-e276-4aeb-8056-c3eba6fd3415')\"\n",
              "              title=\"Convert this dataframe to an interactive table.\"\n",
              "              style=\"display:none;\">\n",
              "        \n",
              "  <svg xmlns=\"http://www.w3.org/2000/svg\" height=\"24px\"viewBox=\"0 0 24 24\"\n",
              "       width=\"24px\">\n",
              "    <path d=\"M0 0h24v24H0V0z\" fill=\"none\"/>\n",
              "    <path d=\"M18.56 5.44l.94 2.06.94-2.06 2.06-.94-2.06-.94-.94-2.06-.94 2.06-2.06.94zm-11 1L8.5 8.5l.94-2.06 2.06-.94-2.06-.94L8.5 2.5l-.94 2.06-2.06.94zm10 10l.94 2.06.94-2.06 2.06-.94-2.06-.94-.94-2.06-.94 2.06-2.06.94z\"/><path d=\"M17.41 7.96l-1.37-1.37c-.4-.4-.92-.59-1.43-.59-.52 0-1.04.2-1.43.59L10.3 9.45l-7.72 7.72c-.78.78-.78 2.05 0 2.83L4 21.41c.39.39.9.59 1.41.59.51 0 1.02-.2 1.41-.59l7.78-7.78 2.81-2.81c.8-.78.8-2.07 0-2.86zM5.41 20L4 18.59l7.72-7.72 1.47 1.35L5.41 20z\"/>\n",
              "  </svg>\n",
              "      </button>\n",
              "      \n",
              "  <style>\n",
              "    .colab-df-container {\n",
              "      display:flex;\n",
              "      flex-wrap:wrap;\n",
              "      gap: 12px;\n",
              "    }\n",
              "\n",
              "    .colab-df-convert {\n",
              "      background-color: #E8F0FE;\n",
              "      border: none;\n",
              "      border-radius: 50%;\n",
              "      cursor: pointer;\n",
              "      display: none;\n",
              "      fill: #1967D2;\n",
              "      height: 32px;\n",
              "      padding: 0 0 0 0;\n",
              "      width: 32px;\n",
              "    }\n",
              "\n",
              "    .colab-df-convert:hover {\n",
              "      background-color: #E2EBFA;\n",
              "      box-shadow: 0px 1px 2px rgba(60, 64, 67, 0.3), 0px 1px 3px 1px rgba(60, 64, 67, 0.15);\n",
              "      fill: #174EA6;\n",
              "    }\n",
              "\n",
              "    [theme=dark] .colab-df-convert {\n",
              "      background-color: #3B4455;\n",
              "      fill: #D2E3FC;\n",
              "    }\n",
              "\n",
              "    [theme=dark] .colab-df-convert:hover {\n",
              "      background-color: #434B5C;\n",
              "      box-shadow: 0px 1px 3px 1px rgba(0, 0, 0, 0.15);\n",
              "      filter: drop-shadow(0px 1px 2px rgba(0, 0, 0, 0.3));\n",
              "      fill: #FFFFFF;\n",
              "    }\n",
              "  </style>\n",
              "\n",
              "      <script>\n",
              "        const buttonEl =\n",
              "          document.querySelector('#df-44861a2f-e276-4aeb-8056-c3eba6fd3415 button.colab-df-convert');\n",
              "        buttonEl.style.display =\n",
              "          google.colab.kernel.accessAllowed ? 'block' : 'none';\n",
              "\n",
              "        async function convertToInteractive(key) {\n",
              "          const element = document.querySelector('#df-44861a2f-e276-4aeb-8056-c3eba6fd3415');\n",
              "          const dataTable =\n",
              "            await google.colab.kernel.invokeFunction('convertToInteractive',\n",
              "                                                     [key], {});\n",
              "          if (!dataTable) return;\n",
              "\n",
              "          const docLinkHtml = 'Like what you see? Visit the ' +\n",
              "            '<a target=\"_blank\" href=https://colab.research.google.com/notebooks/data_table.ipynb>data table notebook</a>'\n",
              "            + ' to learn more about interactive tables.';\n",
              "          element.innerHTML = '';\n",
              "          dataTable['output_type'] = 'display_data';\n",
              "          await google.colab.output.renderOutput(dataTable, element);\n",
              "          const docLink = document.createElement('div');\n",
              "          docLink.innerHTML = docLinkHtml;\n",
              "          element.appendChild(docLink);\n",
              "        }\n",
              "      </script>\n",
              "    </div>\n",
              "  </div>\n",
              "  "
            ],
            "text/plain": [
              "           user                                               text  \\\n",
              "0  TwiknightRei  maijintheaist offchain sma contract using ai e...   \n",
              "1     Jhonwic65  xrp amp sun buy dip httpstcobptwwojr btc shib ...   \n",
              "2   chanel22111  nft dog shib btc usdt quincy moulton hannah ja...   \n",
              "3    aunwichada   sui_cmmunity usdt giveaway paicipant retweet ...   \n",
              "4      aorabi85  crypto shooting use httpstcolrbfeymt find coin...   \n",
              "\n",
              "                                            hashtags  \n",
              "0                                                 []  \n",
              "1                                                 []  \n",
              "2  [{'text': '代收', 'indices': [113, 116]}, {'text...  \n",
              "3        [{'text': 'Giveaway', 'indices': [37, 46]}]  \n",
              "4            [{'text': 'CRYPTO', 'indices': [0, 7]}]  "
            ]
          },
          "execution_count": 9,
          "metadata": {},
          "output_type": "execute_result"
        }
      ],
      "source": [
        "# Texts will be lower\n",
        "df[\"text\"] = df[\"text\"].apply(lambda x: \" \".join(x.lower() for x in x.split()))\n",
        "\n",
        "# We get rid of the punctuations\n",
        "df[\"text\"] = df[\"text\"].str.replace('[^\\w\\s]', '')\n",
        "\n",
        "# And also numbers we don't need it in text.\n",
        "df[\"text\"] = df[\"text\"].str.replace('\\d', '')\n",
        "\n",
        "# Stopwords! It is a library with some adverbs, plural suffix etc. that they are not important for the analysis\n",
        "import nltk\n",
        "nltk.download('stopwords')\n",
        "from nltk.corpus import stopwords\n",
        "sw = stopwords.words('english')\n",
        "df['text'] = df['text'].apply(lambda x: \" \".join(x for x in x.split() if x not in sw))\n",
        "\n",
        "# We reach to the root of the word with lemmatize.\n",
        "from textblob import Word\n",
        "nltk.download('wordnet')\n",
        "df[\"text\"] = df[\"text\"].apply(lambda x: \" \".join([Word(word).lemmatize() for word in x.split()]))\n",
        "\n",
        "# Retweets... We don't need them.\n",
        "df[\"text\"] = df[\"text\"].str.replace('rt','')\n",
        "\n",
        "# reset index\n",
        "df = df.reset_index()\n",
        "df.head()"
      ]
    },
    {
      "cell_type": "markdown",
      "metadata": {
        "id": "BzrBuTAqqhEi"
      },
      "source": [
        "<hr style=\"height:2px;border-width:0;color:white;background-color:green\">\n",
        "\n",
        "# Sentiment Analysis"
      ]
    },
    {
      "cell_type": "code",
      "execution_count": 11,
      "metadata": {
        "colab": {
          "base_uri": "https://localhost:8080/",
          "height": 206
        },
        "execution": {
          "iopub.execute_input": "2022-03-18T09:40:52.338894Z",
          "iopub.status.busy": "2022-03-18T09:40:52.338542Z",
          "iopub.status.idle": "2022-03-18T09:40:52.417871Z",
          "shell.execute_reply": "2022-03-18T09:40:52.416426Z",
          "shell.execute_reply.started": "2022-03-18T09:40:52.33886Z"
        },
        "id": "odytw2S_qhEi",
        "outputId": "048e8fc4-2b24-4eb5-fbab-a4f457820b70",
        "trusted": true
      },
      "outputs": [
        {
          "data": {
            "text/html": [
              "\n",
              "  <div id=\"df-1fb2d673-b2fc-4b6e-81eb-102130a39c56\">\n",
              "    <div class=\"colab-df-container\">\n",
              "      <div>\n",
              "<style scoped>\n",
              "    .dataframe tbody tr th:only-of-type {\n",
              "        vertical-align: middle;\n",
              "    }\n",
              "\n",
              "    .dataframe tbody tr th {\n",
              "        vertical-align: top;\n",
              "    }\n",
              "\n",
              "    .dataframe thead th {\n",
              "        text-align: right;\n",
              "    }\n",
              "</style>\n",
              "<table border=\"1\" class=\"dataframe\">\n",
              "  <thead>\n",
              "    <tr style=\"text-align: right;\">\n",
              "      <th></th>\n",
              "      <th>user</th>\n",
              "      <th>text</th>\n",
              "      <th>hashtags</th>\n",
              "      <th>polarity_score</th>\n",
              "      <th>sentiment_label</th>\n",
              "    </tr>\n",
              "  </thead>\n",
              "  <tbody>\n",
              "    <tr>\n",
              "      <th>0</th>\n",
              "      <td>TwiknightRei</td>\n",
              "      <td>maijintheaist offchain sma contract using ai e...</td>\n",
              "      <td>[]</td>\n",
              "      <td>0.0000</td>\n",
              "      <td>0</td>\n",
              "    </tr>\n",
              "    <tr>\n",
              "      <th>1</th>\n",
              "      <td>Jhonwic65</td>\n",
              "      <td>xrp amp sun buy dip httpstcobptwwojr btc shib ...</td>\n",
              "      <td>[]</td>\n",
              "      <td>0.0000</td>\n",
              "      <td>0</td>\n",
              "    </tr>\n",
              "    <tr>\n",
              "      <th>2</th>\n",
              "      <td>chanel22111</td>\n",
              "      <td>nft dog shib btc usdt quincy moulton hannah ja...</td>\n",
              "      <td>[{'text': '代收', 'indices': [113, 116]}, {'text...</td>\n",
              "      <td>0.5574</td>\n",
              "      <td>1</td>\n",
              "    </tr>\n",
              "    <tr>\n",
              "      <th>3</th>\n",
              "      <td>aunwichada</td>\n",
              "      <td>sui_cmmunity usdt giveaway paicipant retweet ...</td>\n",
              "      <td>[{'text': 'Giveaway', 'indices': [37, 46]}]</td>\n",
              "      <td>0.1027</td>\n",
              "      <td>0</td>\n",
              "    </tr>\n",
              "    <tr>\n",
              "      <th>4</th>\n",
              "      <td>aorabi85</td>\n",
              "      <td>crypto shooting use httpstcolrbfeymt find coin...</td>\n",
              "      <td>[{'text': 'CRYPTO', 'indices': [0, 7]}]</td>\n",
              "      <td>0.0000</td>\n",
              "      <td>0</td>\n",
              "    </tr>\n",
              "  </tbody>\n",
              "</table>\n",
              "</div>\n",
              "      <button class=\"colab-df-convert\" onclick=\"convertToInteractive('df-1fb2d673-b2fc-4b6e-81eb-102130a39c56')\"\n",
              "              title=\"Convert this dataframe to an interactive table.\"\n",
              "              style=\"display:none;\">\n",
              "        \n",
              "  <svg xmlns=\"http://www.w3.org/2000/svg\" height=\"24px\"viewBox=\"0 0 24 24\"\n",
              "       width=\"24px\">\n",
              "    <path d=\"M0 0h24v24H0V0z\" fill=\"none\"/>\n",
              "    <path d=\"M18.56 5.44l.94 2.06.94-2.06 2.06-.94-2.06-.94-.94-2.06-.94 2.06-2.06.94zm-11 1L8.5 8.5l.94-2.06 2.06-.94-2.06-.94L8.5 2.5l-.94 2.06-2.06.94zm10 10l.94 2.06.94-2.06 2.06-.94-2.06-.94-.94-2.06-.94 2.06-2.06.94z\"/><path d=\"M17.41 7.96l-1.37-1.37c-.4-.4-.92-.59-1.43-.59-.52 0-1.04.2-1.43.59L10.3 9.45l-7.72 7.72c-.78.78-.78 2.05 0 2.83L4 21.41c.39.39.9.59 1.41.59.51 0 1.02-.2 1.41-.59l7.78-7.78 2.81-2.81c.8-.78.8-2.07 0-2.86zM5.41 20L4 18.59l7.72-7.72 1.47 1.35L5.41 20z\"/>\n",
              "  </svg>\n",
              "      </button>\n",
              "      \n",
              "  <style>\n",
              "    .colab-df-container {\n",
              "      display:flex;\n",
              "      flex-wrap:wrap;\n",
              "      gap: 12px;\n",
              "    }\n",
              "\n",
              "    .colab-df-convert {\n",
              "      background-color: #E8F0FE;\n",
              "      border: none;\n",
              "      border-radius: 50%;\n",
              "      cursor: pointer;\n",
              "      display: none;\n",
              "      fill: #1967D2;\n",
              "      height: 32px;\n",
              "      padding: 0 0 0 0;\n",
              "      width: 32px;\n",
              "    }\n",
              "\n",
              "    .colab-df-convert:hover {\n",
              "      background-color: #E2EBFA;\n",
              "      box-shadow: 0px 1px 2px rgba(60, 64, 67, 0.3), 0px 1px 3px 1px rgba(60, 64, 67, 0.15);\n",
              "      fill: #174EA6;\n",
              "    }\n",
              "\n",
              "    [theme=dark] .colab-df-convert {\n",
              "      background-color: #3B4455;\n",
              "      fill: #D2E3FC;\n",
              "    }\n",
              "\n",
              "    [theme=dark] .colab-df-convert:hover {\n",
              "      background-color: #434B5C;\n",
              "      box-shadow: 0px 1px 3px 1px rgba(0, 0, 0, 0.15);\n",
              "      filter: drop-shadow(0px 1px 2px rgba(0, 0, 0, 0.3));\n",
              "      fill: #FFFFFF;\n",
              "    }\n",
              "  </style>\n",
              "\n",
              "      <script>\n",
              "        const buttonEl =\n",
              "          document.querySelector('#df-1fb2d673-b2fc-4b6e-81eb-102130a39c56 button.colab-df-convert');\n",
              "        buttonEl.style.display =\n",
              "          google.colab.kernel.accessAllowed ? 'block' : 'none';\n",
              "\n",
              "        async function convertToInteractive(key) {\n",
              "          const element = document.querySelector('#df-1fb2d673-b2fc-4b6e-81eb-102130a39c56');\n",
              "          const dataTable =\n",
              "            await google.colab.kernel.invokeFunction('convertToInteractive',\n",
              "                                                     [key], {});\n",
              "          if (!dataTable) return;\n",
              "\n",
              "          const docLinkHtml = 'Like what you see? Visit the ' +\n",
              "            '<a target=\"_blank\" href=https://colab.research.google.com/notebooks/data_table.ipynb>data table notebook</a>'\n",
              "            + ' to learn more about interactive tables.';\n",
              "          element.innerHTML = '';\n",
              "          dataTable['output_type'] = 'display_data';\n",
              "          await google.colab.output.renderOutput(dataTable, element);\n",
              "          const docLink = document.createElement('div');\n",
              "          docLink.innerHTML = docLinkHtml;\n",
              "          element.appendChild(docLink);\n",
              "        }\n",
              "      </script>\n",
              "    </div>\n",
              "  </div>\n",
              "  "
            ],
            "text/plain": [
              "           user                                               text  \\\n",
              "0  TwiknightRei  maijintheaist offchain sma contract using ai e...   \n",
              "1     Jhonwic65  xrp amp sun buy dip httpstcobptwwojr btc shib ...   \n",
              "2   chanel22111  nft dog shib btc usdt quincy moulton hannah ja...   \n",
              "3    aunwichada   sui_cmmunity usdt giveaway paicipant retweet ...   \n",
              "4      aorabi85  crypto shooting use httpstcolrbfeymt find coin...   \n",
              "\n",
              "                                            hashtags  polarity_score  \\\n",
              "0                                                 []          0.0000   \n",
              "1                                                 []          0.0000   \n",
              "2  [{'text': '代收', 'indices': [113, 116]}, {'text...          0.5574   \n",
              "3        [{'text': 'Giveaway', 'indices': [37, 46]}]          0.1027   \n",
              "4            [{'text': 'CRYPTO', 'indices': [0, 7]}]          0.0000   \n",
              "\n",
              "   sentiment_label  \n",
              "0                0  \n",
              "1                0  \n",
              "2                1  \n",
              "3                0  \n",
              "4                0  "
            ]
          },
          "execution_count": 11,
          "metadata": {},
          "output_type": "execute_result"
        }
      ],
      "source": [
        "from vaderSentiment.vaderSentiment import SentimentIntensityAnalyzer\n",
        "vader = SentimentIntensityAnalyzer()\n",
        "\n",
        "# The range of polarity is from -1 to 1(negative to positive) and will tell us if the text contains positive or negative feedback.\n",
        "df[\"polarity_score\"] = df[\"text\"].apply(lambda x: vader.polarity_scores(x)[\"compound\"])\n",
        "\n",
        "# So we labeling the scores as positive or negative.\n",
        "df[\"sentiment_label\"] = df[\"text\"].apply(lambda x: \"pos\" if vader.polarity_scores(x)[\"compound\"] > df[\"polarity_score\"].median() else \"neg\")\n",
        "\n",
        "# That part is just for encoding.\n",
        "df[\"sentiment_label\"] = LabelEncoder().fit_transform(df[\"sentiment_label\"])\n",
        "\n",
        "df.head()"
      ]
    },
    {
      "cell_type": "code",
      "execution_count": 12,
      "metadata": {
        "colab": {
          "base_uri": "https://localhost:8080/",
          "height": 563
        },
        "execution": {
          "iopub.execute_input": "2022-03-18T10:15:25.994032Z",
          "iopub.status.busy": "2022-03-18T10:15:25.993741Z",
          "iopub.status.idle": "2022-03-18T10:15:26.161187Z",
          "shell.execute_reply": "2022-03-18T10:15:26.159846Z",
          "shell.execute_reply.started": "2022-03-18T10:15:25.994002Z"
        },
        "id": "mfN2auSoqhEj",
        "outputId": "63391333-0885-41ca-c450-a0d10cb68bf6",
        "trusted": true
      },
      "outputs": [
        {
          "data": {
            "image/png": "[encoded data removed]",
            "text/plain": [
              "<Figure size 640x480 with 1 Axes>"
            ]
          },
          "metadata": {},
          "output_type": "display_data"
        }
      ],
      "source": [
        "# Let's check the positive and negative labels...\n",
        "\n",
        "pos = df[df[\"sentiment_label\"]==1][\"sentiment_label\"].count()\n",
        "neg = df[df[\"sentiment_label\"]==0][\"sentiment_label\"].count()\n",
        "\n",
        "fig = plt.figure()\n",
        "ax = fig.add_axes([0,0,1,1])\n",
        "sent = ['positive', 'negative']\n",
        "count = [pos, neg]\n",
        "ax.bar(sent,count, color=[\"#6B8E23\", '#B22222'])\n",
        "ax.set_title(\"twitter sentiment analysis with #btc\")\n",
        "plt.show()"
      ]
    },
    {
      "cell_type": "markdown",
      "metadata": {
        "id": "zroWvokVqhEj"
      },
      "source": [
        "<hr style=\"height:2px;border-width:0;color:white;background-color:green\">\n",
        "\n",
        "# TF-IDF (Term Frequency - Inverse Document Frequency)"
      ]
    },
    {
      "cell_type": "markdown",
      "metadata": {
        "id": "VQXi-ATSqhEj"
      },
      "source": [
        "#### *TF-IDF is an abbreviation for Term Frequency Inverse Document Frequency.<br>This is very common algorithm to transform text into a meaningful representation of numbers which is used to fit machine algorithm for prediction.*"
      ]
    },
    {
      "cell_type": "code",
      "execution_count": 13,
      "metadata": {
        "execution": {
          "iopub.execute_input": "2022-03-18T10:12:44.204537Z",
          "iopub.status.busy": "2022-03-18T10:12:44.204222Z",
          "iopub.status.idle": "2022-03-18T10:12:44.232694Z",
          "shell.execute_reply": "2022-03-18T10:12:44.231408Z",
          "shell.execute_reply.started": "2022-03-18T10:12:44.204508Z"
        },
        "id": "AcA23EnZqhEk",
        "trusted": true
      },
      "outputs": [],
      "source": [
        "# We describe our feature and target.\n",
        "y = df[\"sentiment_label\"]  #target\n",
        "X = df[\"text\"]\n",
        "\n",
        "# CountVectorizer returns unigrams or single words.\n",
        "# If we increase the ngram_range, the vocabulary is expanded from single words to short phrases. \n",
        "\n",
        "# word vectorize (checking one word)\n",
        "tf_idf_word_vectorizer = TfidfVectorizer()\n",
        "X_tf_idf_word = tf_idf_word_vectorizer.fit_transform(X)\n",
        "\n",
        "# n_gram vectorize (checking double words - phrases)\n",
        "tf_idf_ngram_vectorizer = TfidfVectorizer(ngram_range=(2, 3))\n",
        "X_tf_idf_ngram = tf_idf_ngram_vectorizer.fit_transform(X)"
      ]
    },
    {
      "cell_type": "markdown",
      "metadata": {
        "id": "x546am_7qhEk"
      },
      "source": [
        "<hr style=\"height:2px;border-width:0;color:white;background-color:green\">\n",
        "\n",
        "# Sentiment Modelling"
      ]
    },
    {
      "cell_type": "code",
      "execution_count": 14,
      "metadata": {
        "colab": {
          "base_uri": "https://localhost:8080/"
        },
        "execution": {
          "iopub.execute_input": "2022-03-18T10:17:32.751628Z",
          "iopub.status.busy": "2022-03-18T10:17:32.751264Z",
          "iopub.status.idle": "2022-03-18T10:17:32.817706Z",
          "shell.execute_reply": "2022-03-18T10:17:32.816674Z",
          "shell.execute_reply.started": "2022-03-18T10:17:32.751593Z"
        },
        "id": "CXKKrFc5qhEk",
        "outputId": "53549a25-d72f-4c6a-ee09-7a6fe408d626",
        "trusted": true
      },
      "outputs": [
        {
          "data": {
            "text/plain": [
              "0.7381818181818182"
            ]
          },
          "execution_count": 14,
          "metadata": {},
          "output_type": "execute_result"
        }
      ],
      "source": [
        "# Logistic Regression\n",
        "\n",
        "# word\n",
        "log_model_word = LogisticRegression().fit(X_tf_idf_word, y)\n",
        "\n",
        "cross_val_score(log_model_word,\n",
        "               X_tf_idf_word,\n",
        "               y,\n",
        "               scoring=\"accuracy\",\n",
        "               cv=5).mean()"
      ]
    },
    {
      "cell_type": "code",
      "execution_count": 15,
      "metadata": {
        "colab": {
          "base_uri": "https://localhost:8080/"
        },
        "execution": {
          "iopub.execute_input": "2022-03-18T10:17:33.391223Z",
          "iopub.status.busy": "2022-03-18T10:17:33.390725Z",
          "iopub.status.idle": "2022-03-18T10:17:33.458513Z",
          "shell.execute_reply": "2022-03-18T10:17:33.45762Z",
          "shell.execute_reply.started": "2022-03-18T10:17:33.391167Z"
        },
        "id": "ZJVZWV3uqhEk",
        "outputId": "a19ce003-10f6-431c-dbea-038e4dc35c55",
        "trusted": true
      },
      "outputs": [
        {
          "data": {
            "text/plain": [
              "0.7563636363636363"
            ]
          },
          "execution_count": 15,
          "metadata": {},
          "output_type": "execute_result"
        }
      ],
      "source": [
        "# Logistic Regression\n",
        "\n",
        "# ngram\n",
        "log_model_ngram = LogisticRegression().fit(X_tf_idf_word, y)\n",
        "\n",
        "cross_val_score(log_model_ngram,\n",
        "               X_tf_idf_ngram,\n",
        "               y,\n",
        "               scoring=\"accuracy\",\n",
        "               cv=5).mean()"
      ]
    },
    {
      "cell_type": "code",
      "execution_count": 16,
      "metadata": {
        "colab": {
          "base_uri": "https://localhost:8080/",
          "height": 35
        },
        "execution": {
          "iopub.execute_input": "2022-03-18T10:17:35.800373Z",
          "iopub.status.busy": "2022-03-18T10:17:35.799847Z",
          "iopub.status.idle": "2022-03-18T10:17:35.807824Z",
          "shell.execute_reply": "2022-03-18T10:17:35.806645Z",
          "shell.execute_reply.started": "2022-03-18T10:17:35.800325Z"
        },
        "id": "53nlTp2MqhEl",
        "outputId": "0029e243-7b81-4d0e-a60a-b36be844d05d",
        "trusted": true
      },
      "outputs": [
        {
          "data": {
            "application/vnd.google.colaboratory.intrinsic+json": {
              "type": "string"
            },
            "text/plain": [
              "'crypto shooting use httpstcolrbfeymt find coin moving track crypto high buyer httpstcobzexelq'"
            ]
          },
          "execution_count": 16,
          "metadata": {},
          "output_type": "execute_result"
        }
      ],
      "source": [
        "# Let's pick up a random tweet.\n",
        "\n",
        "random_tweet = pd.Series(df[\"text\"].sample(1).values)\n",
        "random_tweet[0]"
      ]
    },
    {
      "cell_type": "code",
      "execution_count": 17,
      "metadata": {
        "colab": {
          "base_uri": "https://localhost:8080/"
        },
        "execution": {
          "iopub.execute_input": "2022-03-18T10:17:40.327774Z",
          "iopub.status.busy": "2022-03-18T10:17:40.327435Z",
          "iopub.status.idle": "2022-03-18T10:17:40.335393Z",
          "shell.execute_reply": "2022-03-18T10:17:40.334351Z",
          "shell.execute_reply.started": "2022-03-18T10:17:40.327738Z"
        },
        "id": "siTzUthZqhEl",
        "outputId": "eaaf0f0e-3f94-4e83-8df3-a22c23824f16",
        "trusted": true
      },
      "outputs": [
        {
          "data": {
            "text/plain": [
              "array([0])"
            ]
          },
          "execution_count": 17,
          "metadata": {},
          "output_type": "execute_result"
        }
      ],
      "source": [
        "# Example\n",
        "# random tweet analysis\n",
        "\n",
        "random_tweet = TfidfVectorizer().fit(X).transform(random_tweet)\n",
        "\n",
        "# with Logistic Regression by word vectorize we found better score that's why we use for a predict log_model_word..\n",
        "\n",
        "log_model_word.predict(random_tweet)"
      ]
    }
  ],
  "metadata": {
    "colab": {
      "provenance": []
    },
    "kernelspec": {
      "display_name": "Python 3",
      "language": "python",
      "name": "python3"
    },
    "language_info": {
      "codemirror_mode": {
        "name": "ipython",
        "version": 3
      },
      "file_extension": ".py",
      "mimetype": "text/x-python",
      "name": "python",
      "nbconvert_exporter": "python",
      "pygments_lexer": "ipython3",
      "version": "3.9.16"
    }
  },
  "nbformat": 4,
  "nbformat_minor": 0
}
