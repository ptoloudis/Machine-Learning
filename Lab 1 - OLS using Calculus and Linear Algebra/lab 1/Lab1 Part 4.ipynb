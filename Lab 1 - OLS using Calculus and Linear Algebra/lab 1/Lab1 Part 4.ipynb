{
 "cells": [
  {
   "cell_type": "markdown",
   "metadata": {},
   "source": [
    "Problem: Implement OLS methods using pytorch library and the dataset provided."
   ]
  },
  {
   "cell_type": "markdown",
   "metadata": {},
   "source": [
    "Import the necessary libraries and load the dataset."
   ]
  },
  {
   "cell_type": "code",
   "execution_count": 71,
   "metadata": {},
   "outputs": [],
   "source": [
    "import torch\n",
    "import pandas as pd\n",
    "from sklearn.preprocessing import MinMaxScaler\n",
    "\n",
    "# Load the data\n",
    "data = pd.read_csv('Linear_regression_dataset.csv')\n",
    "scaler = MinMaxScaler()"
   ]
  },
  {
   "cell_type": "markdown",
   "metadata": {},
   "source": [
    "Assuming that the dataset has two columns, one for the independent variable (X) and one for the dependent variable (y), we can then create tensors for X and y."
   ]
  },
  {
   "cell_type": "code",
   "execution_count": 72,
   "metadata": {},
   "outputs": [],
   "source": [
    "# Prepare the data for PyTorch var_1,var_2,var_3,var_4,var_5,output\n",
    "var_1 = scaler.fit_transform(data['var_1'].values.reshape(-1, 1))\n",
    "var_2 = scaler.fit_transform(data['var_2'].values.reshape(-1, 1))\n",
    "var_3 = scaler.fit_transform(data['var_3'].values.reshape(-1, 1))\n",
    "var_4 = scaler.fit_transform(data['var_4'].values.reshape(-1, 1))\n",
    "var_5 = scaler.fit_transform(data['var_5'].values.reshape(-1, 1))\n",
    "\n",
    "var = torch.tensor([var_1, var_2, var_3, var_4, var_5], dtype=torch.float32)\n",
    "\n",
    "output = scaler.fit_transform(data['output'].values.reshape(-1, 1))\n",
    "output = torch.tensor(output, dtype=torch.float32)\n"
   ]
  },
  {
   "cell_type": "markdown",
   "metadata": {},
   "source": [
    "Define the number of input features"
   ]
  },
  {
   "cell_type": "code",
   "execution_count": 73,
   "metadata": {},
   "outputs": [],
   "source": [
    "num_features = 5"
   ]
  },
  {
   "cell_type": "markdown",
   "metadata": {},
   "source": [
    "Initialize the model parameters"
   ]
  },
  {
   "cell_type": "code",
   "execution_count": 74,
   "metadata": {},
   "outputs": [
    {
     "name": "stdout",
     "output_type": "stream",
     "text": [
      "tensor([-0.6098, -1.6523,  0.1182,  1.8150,  0.0507], requires_grad=True)\n",
      "tensor([0.7975], requires_grad=True)\n"
     ]
    }
   ],
   "source": [
    "weights = torch.randn(num_features, requires_grad=True)\n",
    "bias = torch.randn(1, requires_grad=True)\n",
    "\n",
    "#print the weights and bias\n",
    "print(weights)\n",
    "print(bias)"
   ]
  },
  {
   "cell_type": "markdown",
   "metadata": {},
   "source": [
    "Define the learning rate and number of epochs"
   ]
  },
  {
   "cell_type": "code",
   "execution_count": 75,
   "metadata": {},
   "outputs": [],
   "source": [
    "learning_rate = 0.1\n",
    "num_epochs = 1000"
   ]
  },
  {
   "cell_type": "markdown",
   "metadata": {},
   "source": [
    "Perform gradient descent to optimize the model parameters"
   ]
  },
  {
   "cell_type": "code",
   "execution_count": 76,
   "metadata": {},
   "outputs": [
    {
     "name": "stdout",
     "output_type": "stream",
     "text": [
      "torch.Size([1232, 1])\n",
      "epoch: 100, loss = 0.05792\n",
      "epoch: 200, loss = 0.04518\n",
      "epoch: 300, loss = 0.04105\n",
      "epoch: 400, loss = 0.03923\n",
      "epoch: 500, loss = 0.03810\n",
      "epoch: 600, loss = 0.03722\n",
      "epoch: 700, loss = 0.03648\n",
      "epoch: 800, loss = 0.03584\n",
      "epoch: 900, loss = 0.03527\n",
      "epoch: 1000, loss = 0.03477\n"
     ]
    }
   ],
   "source": [
    "# Perform gradient descent to optimize the model parameters\n",
    "print(output.shape)\n",
    "for epoch in range(num_epochs):\n",
    "    # Compute the predicted output\n",
    "    y_predicted = torch.matmul(var.T, weights) + bias\n",
    "    loss = torch.mean((y_predicted - output)**2)\n",
    "    \n",
    "    # print (y_predicted, loss)\n",
    "\n",
    "    # Compute the gradients of the loss with respect to the model parameters\n",
    "    loss.backward()\n",
    "    \n",
    "    # Update the model parameters using gradient descent\n",
    "    with torch.no_grad():\n",
    "        weights -= learning_rate * weights.grad\n",
    "        bias -= learning_rate * bias.grad\n",
    "    \n",
    "        # Reset the gradients to zero for the next iteration of gradient descent\n",
    "        weights.grad.zero_()\n",
    "        bias.grad.zero_()\n",
    "    # Print the loss every 100 epochs\n",
    "    if (epoch + 1) % 100 == 0:\n",
    "        print(f'epoch: {epoch + 1}, loss = {loss.item():.5f}')"
   ]
  },
  {
   "cell_type": "markdown",
   "metadata": {},
   "source": [
    "Print the final model parameters"
   ]
  },
  {
   "cell_type": "code",
   "execution_count": 77,
   "metadata": {},
   "outputs": [
    {
     "name": "stdout",
     "output_type": "stream",
     "text": [
      "Weights: [-0.3300381  -0.45567548 -0.5065425   0.9438231  -0.17300709]\n",
      "Bias: [0.720925]\n",
      "Loss: 0.0348\n"
     ]
    }
   ],
   "source": [
    "# Print the final model parameters\n",
    "print(f'Weights: {weights.detach().numpy()}')\n",
    "print(f'Bias: {bias.detach().numpy()}')\n",
    "print(f'Loss: {loss.item():.4f}')"
   ]
  }
 ],
 "metadata": {
  "kernelspec": {
   "display_name": "Python 3 (ipykernel)",
   "language": "python",
   "name": "python3"
  },
  "language_info": {
   "codemirror_mode": {
    "name": "ipython",
    "version": 3
   },
   "file_extension": ".py",
   "mimetype": "text/x-python",
   "name": "python",
   "nbconvert_exporter": "python",
   "pygments_lexer": "ipython3",
   "version": "3.9.13"
  },
  "latex_envs": {
   "LaTeX_envs_menu_present": true,
   "autoclose": false,
   "autocomplete": true,
   "bibliofile": "biblio.bib",
   "cite_by": "apalike",
   "current_citInitial": 1,
   "eqLabelWithNumbers": true,
   "eqNumInitial": 1,
   "hotkeys": {
    "equation": "Ctrl-E",
    "itemize": "Ctrl-I"
   },
   "labels_anchors": false,
   "latex_user_defs": false,
   "report_style_numbering": false,
   "user_envs_cfg": false
  },
  "varInspector": {
   "cols": {
    "lenName": 16,
    "lenType": 16,
    "lenVar": 40
   },
   "kernels_config": {
    "python": {
     "delete_cmd_postfix": "",
     "delete_cmd_prefix": "del ",
     "library": "var_list.py",
     "varRefreshCmd": "print(var_dic_list())"
    },
    "r": {
     "delete_cmd_postfix": ") ",
     "delete_cmd_prefix": "rm(",
     "library": "var_list.r",
     "varRefreshCmd": "cat(var_dic_list()) "
    }
   },
   "types_to_exclude": [
    "module",
    "function",
    "builtin_function_or_method",
    "instance",
    "_Feature"
   ],
   "window_display": false
  },
  "vscode": {
   "interpreter": {
    "hash": "4c3cb98a989e99d67af091f38c8951d2a4cd4dd65a8f44f48b9657242a9a9365"
   }
  }
 },
 "nbformat": 4,
 "nbformat_minor": 2
}
