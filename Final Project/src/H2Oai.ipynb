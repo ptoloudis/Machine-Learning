{
 "cells": [
  {
   "cell_type": "markdown",
   "metadata": {
    "id": "w8Xl8myIQBma"
   },
   "source": [
    "In this notebook using the H2O.ai analyze."
   ]
  },
  {
   "cell_type": "code",
   "execution_count": 1,
   "metadata": {
    "colab": {
     "base_uri": "https://localhost:8080/"
    },
    "id": "XeKIQE_RQH9-",
    "outputId": "b0bd1bf0-2a45-4db8-eac6-704a829fe2a6"
   },
   "outputs": [
    {
     "name": "stdout",
     "output_type": "stream",
     "text": [
      "Looking in indexes: https://pypi.org/simple, https://us-python.pkg.dev/colab-wheels/public/simple/\n",
      "Requirement already satisfied: h2o in /usr/local/lib/python3.10/dist-packages (3.40.0.4)\n",
      "Requirement already satisfied: requests in /usr/local/lib/python3.10/dist-packages (from h2o) (2.27.1)\n",
      "Requirement already satisfied: tabulate in /usr/local/lib/python3.10/dist-packages (from h2o) (0.8.10)\n",
      "Requirement already satisfied: future in /usr/local/lib/python3.10/dist-packages (from h2o) (0.18.3)\n",
      "Requirement already satisfied: urllib3<1.27,>=1.21.1 in /usr/local/lib/python3.10/dist-packages (from requests->h2o) (1.26.15)\n",
      "Requirement already satisfied: certifi>=2017.4.17 in /usr/local/lib/python3.10/dist-packages (from requests->h2o) (2022.12.7)\n",
      "Requirement already satisfied: charset-normalizer~=2.0.0 in /usr/local/lib/python3.10/dist-packages (from requests->h2o) (2.0.12)\n",
      "Requirement already satisfied: idna<4,>=2.5 in /usr/local/lib/python3.10/dist-packages (from requests->h2o) (3.4)\n"
     ]
    }
   ],
   "source": [
    "!pip install h2o"
   ]
  },
  {
   "cell_type": "code",
   "execution_count": 2,
   "metadata": {
    "id": "NogF_sHpP3Yg"
   },
   "outputs": [],
   "source": [
    "import h2o\n",
    "import pandas as pd\n",
    "from h2o.automl import H2OAutoML"
   ]
  },
  {
   "cell_type": "markdown",
   "metadata": {
    "id": "XE04viImQVus"
   },
   "source": [
    "## Initialize H2O cluster"
   ]
  },
  {
   "cell_type": "code",
   "execution_count": 3,
   "metadata": {
    "colab": {
     "base_uri": "https://localhost:8080/",
     "height": 524
    },
    "id": "JX2t1ktEQZHL",
    "outputId": "1045c0ec-37be-40ea-ddf5-5df1c3ab1e97"
   },
   "outputs": [
    {
     "name": "stdout",
     "output_type": "stream",
     "text": [
      "Checking whether there is an H2O instance running at http://localhost:54321..... not found.\n",
      "Attempting to start a local H2O server...\n",
      "  Java Version: openjdk version \"11.0.19\" 2023-04-18; OpenJDK Runtime Environment (build 11.0.19+7-post-Ubuntu-0ubuntu120.04.1); OpenJDK 64-Bit Server VM (build 11.0.19+7-post-Ubuntu-0ubuntu120.04.1, mixed mode, sharing)\n",
      "  Starting server from /usr/local/lib/python3.10/dist-packages/h2o/backend/bin/h2o.jar\n",
      "  Ice root: /tmp/tmp_akc55w7\n",
      "  JVM stdout: /tmp/tmp_akc55w7/h2o_unknownUser_started_from_python.out\n",
      "  JVM stderr: /tmp/tmp_akc55w7/h2o_unknownUser_started_from_python.err\n",
      "  Server is running at http://127.0.0.1:54321\n",
      "Connecting to H2O server at http://127.0.0.1:54321 ... successful.\n"
     ]
    },
    {
     "data": {
      "text/html": [
       "\n",
       "<style>\n",
       "\n",
       "#h2o-table-1.h2o-container {\n",
       "  overflow-x: auto;\n",
       "}\n",
       "#h2o-table-1 .h2o-table {\n",
       "  /* width: 100%; */\n",
       "  margin-top: 1em;\n",
       "  margin-bottom: 1em;\n",
       "}\n",
       "#h2o-table-1 .h2o-table caption {\n",
       "  white-space: nowrap;\n",
       "  caption-side: top;\n",
       "  text-align: left;\n",
       "  /* margin-left: 1em; */\n",
       "  margin: 0;\n",
       "  font-size: larger;\n",
       "}\n",
       "#h2o-table-1 .h2o-table thead {\n",
       "  white-space: nowrap; \n",
       "  position: sticky;\n",
       "  top: 0;\n",
       "  box-shadow: 0 -1px inset;\n",
       "}\n",
       "#h2o-table-1 .h2o-table tbody {\n",
       "  overflow: auto;\n",
       "}\n",
       "#h2o-table-1 .h2o-table th,\n",
       "#h2o-table-1 .h2o-table td {\n",
       "  text-align: right;\n",
       "  /* border: 1px solid; */\n",
       "}\n",
       "#h2o-table-1 .h2o-table tr:nth-child(even) {\n",
       "  /* background: #F5F5F5 */\n",
       "}\n",
       "\n",
       "</style>      \n",
       "<div id=\"h2o-table-1\" class=\"h2o-container\">\n",
       "  <table class=\"h2o-table\">\n",
       "    <caption></caption>\n",
       "    <thead></thead>\n",
       "    <tbody><tr><td>H2O_cluster_uptime:</td>\n",
       "<td>02 secs</td></tr>\n",
       "<tr><td>H2O_cluster_timezone:</td>\n",
       "<td>Etc/UTC</td></tr>\n",
       "<tr><td>H2O_data_parsing_timezone:</td>\n",
       "<td>UTC</td></tr>\n",
       "<tr><td>H2O_cluster_version:</td>\n",
       "<td>3.40.0.4</td></tr>\n",
       "<tr><td>H2O_cluster_version_age:</td>\n",
       "<td>25 days</td></tr>\n",
       "<tr><td>H2O_cluster_name:</td>\n",
       "<td>H2O_from_python_unknownUser_pl0l8w</td></tr>\n",
       "<tr><td>H2O_cluster_total_nodes:</td>\n",
       "<td>1</td></tr>\n",
       "<tr><td>H2O_cluster_free_memory:</td>\n",
       "<td>3.170 Gb</td></tr>\n",
       "<tr><td>H2O_cluster_total_cores:</td>\n",
       "<td>2</td></tr>\n",
       "<tr><td>H2O_cluster_allowed_cores:</td>\n",
       "<td>2</td></tr>\n",
       "<tr><td>H2O_cluster_status:</td>\n",
       "<td>locked, healthy</td></tr>\n",
       "<tr><td>H2O_connection_url:</td>\n",
       "<td>http://127.0.0.1:54321</td></tr>\n",
       "<tr><td>H2O_connection_proxy:</td>\n",
       "<td>{\"http\": null, \"https\": null, \"colab_language_server\": \"/usr/colab/bin/language_service\"}</td></tr>\n",
       "<tr><td>H2O_internal_security:</td>\n",
       "<td>False</td></tr>\n",
       "<tr><td>Python_version:</td>\n",
       "<td>3.10.11 final</td></tr></tbody>\n",
       "  </table>\n",
       "</div>\n"
      ],
      "text/plain": [
       "--------------------------  -----------------------------------------------------------------------------------------\n",
       "H2O_cluster_uptime:         02 secs\n",
       "H2O_cluster_timezone:       Etc/UTC\n",
       "H2O_data_parsing_timezone:  UTC\n",
       "H2O_cluster_version:        3.40.0.4\n",
       "H2O_cluster_version_age:    25 days\n",
       "H2O_cluster_name:           H2O_from_python_unknownUser_pl0l8w\n",
       "H2O_cluster_total_nodes:    1\n",
       "H2O_cluster_free_memory:    3.170 Gb\n",
       "H2O_cluster_total_cores:    2\n",
       "H2O_cluster_allowed_cores:  2\n",
       "H2O_cluster_status:         locked, healthy\n",
       "H2O_connection_url:         http://127.0.0.1:54321\n",
       "H2O_connection_proxy:       {\"http\": null, \"https\": null, \"colab_language_server\": \"/usr/colab/bin/language_service\"}\n",
       "H2O_internal_security:      False\n",
       "Python_version:             3.10.11 final\n",
       "--------------------------  -----------------------------------------------------------------------------------------"
      ]
     },
     "metadata": {},
     "output_type": "display_data"
    }
   ],
   "source": [
    "h2o.init()"
   ]
  },
  {
   "cell_type": "markdown",
   "metadata": {
    "id": "M0U9uGObQ0g7"
   },
   "source": [
    "## Load the timeseries dataset"
   ]
  },
  {
   "cell_type": "code",
   "execution_count": 4,
   "metadata": {
    "id": "e-xNb0FiQsl8"
   },
   "outputs": [],
   "source": [
    "dataset_path = '/content/drive/MyDrive/Colab Notebooks/final ml/data.zip'\n",
    "data = pd.read_csv(dataset_path)"
   ]
  },
  {
   "cell_type": "code",
   "execution_count": 5,
   "metadata": {
    "colab": {
     "base_uri": "https://localhost:8080/",
     "height": 206
    },
    "id": "9n4DQZ0JQ240",
    "outputId": "5bdd7ff9-c2f6-4213-d091-ade8f4a28592"
   },
   "outputs": [
    {
     "data": {
      "text/html": [
       "\n",
       "  <div id=\"df-7fd80665-7be3-4c75-8e03-0e4d680d043c\">\n",
       "    <div class=\"colab-df-container\">\n",
       "      <div>\n",
       "<style scoped>\n",
       "    .dataframe tbody tr th:only-of-type {\n",
       "        vertical-align: middle;\n",
       "    }\n",
       "\n",
       "    .dataframe tbody tr th {\n",
       "        vertical-align: top;\n",
       "    }\n",
       "\n",
       "    .dataframe thead th {\n",
       "        text-align: right;\n",
       "    }\n",
       "</style>\n",
       "<table border=\"1\" class=\"dataframe\">\n",
       "  <thead>\n",
       "    <tr style=\"text-align: right;\">\n",
       "      <th></th>\n",
       "      <th>utc_timestamp</th>\n",
       "      <th>GR_load_actual_entsoe_transparency</th>\n",
       "      <th>GR_load_forecast_entsoe_transparency</th>\n",
       "      <th>GR_solar_generation_actual</th>\n",
       "      <th>GR_wind_onshore_generation_actual</th>\n",
       "    </tr>\n",
       "  </thead>\n",
       "  <tbody>\n",
       "    <tr>\n",
       "      <th>0</th>\n",
       "      <td>1/1/2018-0:00</td>\n",
       "      <td>54567300</td>\n",
       "      <td>54470000</td>\n",
       "      <td>0.0</td>\n",
       "      <td>1420000.0</td>\n",
       "    </tr>\n",
       "    <tr>\n",
       "      <th>1</th>\n",
       "      <td>1/1/2018-1:00</td>\n",
       "      <td>51409000</td>\n",
       "      <td>50870000</td>\n",
       "      <td>0.0</td>\n",
       "      <td>1550000.0</td>\n",
       "    </tr>\n",
       "    <tr>\n",
       "      <th>2</th>\n",
       "      <td>1/1/2018-2:00</td>\n",
       "      <td>50433800</td>\n",
       "      <td>49580000</td>\n",
       "      <td>0.0</td>\n",
       "      <td>1490000.0</td>\n",
       "    </tr>\n",
       "    <tr>\n",
       "      <th>3</th>\n",
       "      <td>1/1/2018-3:00</td>\n",
       "      <td>47678200</td>\n",
       "      <td>46270000</td>\n",
       "      <td>0.0</td>\n",
       "      <td>1470000.0</td>\n",
       "    </tr>\n",
       "    <tr>\n",
       "      <th>4</th>\n",
       "      <td>1/1/2018-4:00</td>\n",
       "      <td>45096300</td>\n",
       "      <td>43860000</td>\n",
       "      <td>0.0</td>\n",
       "      <td>1440000.0</td>\n",
       "    </tr>\n",
       "  </tbody>\n",
       "</table>\n",
       "</div>\n",
       "      <button class=\"colab-df-convert\" onclick=\"convertToInteractive('df-7fd80665-7be3-4c75-8e03-0e4d680d043c')\"\n",
       "              title=\"Convert this dataframe to an interactive table.\"\n",
       "              style=\"display:none;\">\n",
       "        \n",
       "  <svg xmlns=\"http://www.w3.org/2000/svg\" height=\"24px\"viewBox=\"0 0 24 24\"\n",
       "       width=\"24px\">\n",
       "    <path d=\"M0 0h24v24H0V0z\" fill=\"none\"/>\n",
       "    <path d=\"M18.56 5.44l.94 2.06.94-2.06 2.06-.94-2.06-.94-.94-2.06-.94 2.06-2.06.94zm-11 1L8.5 8.5l.94-2.06 2.06-.94-2.06-.94L8.5 2.5l-.94 2.06-2.06.94zm10 10l.94 2.06.94-2.06 2.06-.94-2.06-.94-.94-2.06-.94 2.06-2.06.94z\"/><path d=\"M17.41 7.96l-1.37-1.37c-.4-.4-.92-.59-1.43-.59-.52 0-1.04.2-1.43.59L10.3 9.45l-7.72 7.72c-.78.78-.78 2.05 0 2.83L4 21.41c.39.39.9.59 1.41.59.51 0 1.02-.2 1.41-.59l7.78-7.78 2.81-2.81c.8-.78.8-2.07 0-2.86zM5.41 20L4 18.59l7.72-7.72 1.47 1.35L5.41 20z\"/>\n",
       "  </svg>\n",
       "      </button>\n",
       "      \n",
       "  <style>\n",
       "    .colab-df-container {\n",
       "      display:flex;\n",
       "      flex-wrap:wrap;\n",
       "      gap: 12px;\n",
       "    }\n",
       "\n",
       "    .colab-df-convert {\n",
       "      background-color: #E8F0FE;\n",
       "      border: none;\n",
       "      border-radius: 50%;\n",
       "      cursor: pointer;\n",
       "      display: none;\n",
       "      fill: #1967D2;\n",
       "      height: 32px;\n",
       "      padding: 0 0 0 0;\n",
       "      width: 32px;\n",
       "    }\n",
       "\n",
       "    .colab-df-convert:hover {\n",
       "      background-color: #E2EBFA;\n",
       "      box-shadow: 0px 1px 2px rgba(60, 64, 67, 0.3), 0px 1px 3px 1px rgba(60, 64, 67, 0.15);\n",
       "      fill: #174EA6;\n",
       "    }\n",
       "\n",
       "    [theme=dark] .colab-df-convert {\n",
       "      background-color: #3B4455;\n",
       "      fill: #D2E3FC;\n",
       "    }\n",
       "\n",
       "    [theme=dark] .colab-df-convert:hover {\n",
       "      background-color: #434B5C;\n",
       "      box-shadow: 0px 1px 3px 1px rgba(0, 0, 0, 0.15);\n",
       "      filter: drop-shadow(0px 1px 2px rgba(0, 0, 0, 0.3));\n",
       "      fill: #FFFFFF;\n",
       "    }\n",
       "  </style>\n",
       "\n",
       "      <script>\n",
       "        const buttonEl =\n",
       "          document.querySelector('#df-7fd80665-7be3-4c75-8e03-0e4d680d043c button.colab-df-convert');\n",
       "        buttonEl.style.display =\n",
       "          google.colab.kernel.accessAllowed ? 'block' : 'none';\n",
       "\n",
       "        async function convertToInteractive(key) {\n",
       "          const element = document.querySelector('#df-7fd80665-7be3-4c75-8e03-0e4d680d043c');\n",
       "          const dataTable =\n",
       "            await google.colab.kernel.invokeFunction('convertToInteractive',\n",
       "                                                     [key], {});\n",
       "          if (!dataTable) return;\n",
       "\n",
       "          const docLinkHtml = 'Like what you see? Visit the ' +\n",
       "            '<a target=\"_blank\" href=https://colab.research.google.com/notebooks/data_table.ipynb>data table notebook</a>'\n",
       "            + ' to learn more about interactive tables.';\n",
       "          element.innerHTML = '';\n",
       "          dataTable['output_type'] = 'display_data';\n",
       "          await google.colab.output.renderOutput(dataTable, element);\n",
       "          const docLink = document.createElement('div');\n",
       "          docLink.innerHTML = docLinkHtml;\n",
       "          element.appendChild(docLink);\n",
       "        }\n",
       "      </script>\n",
       "    </div>\n",
       "  </div>\n",
       "  "
      ],
      "text/plain": [
       "   utc_timestamp  GR_load_actual_entsoe_transparency  \\\n",
       "0  1/1/2018-0:00                            54567300   \n",
       "1  1/1/2018-1:00                            51409000   \n",
       "2  1/1/2018-2:00                            50433800   \n",
       "3  1/1/2018-3:00                            47678200   \n",
       "4  1/1/2018-4:00                            45096300   \n",
       "\n",
       "   GR_load_forecast_entsoe_transparency  GR_solar_generation_actual  \\\n",
       "0                              54470000                         0.0   \n",
       "1                              50870000                         0.0   \n",
       "2                              49580000                         0.0   \n",
       "3                              46270000                         0.0   \n",
       "4                              43860000                         0.0   \n",
       "\n",
       "   GR_wind_onshore_generation_actual  \n",
       "0                          1420000.0  \n",
       "1                          1550000.0  \n",
       "2                          1490000.0  \n",
       "3                          1470000.0  \n",
       "4                          1440000.0  "
      ]
     },
     "execution_count": 5,
     "metadata": {},
     "output_type": "execute_result"
    }
   ],
   "source": [
    "data.head()"
   ]
  },
  {
   "cell_type": "markdown",
   "metadata": {
    "id": "UqfLfOWdQ7zd"
   },
   "source": [
    "## Set the timestamp column as a datetime type"
   ]
  },
  {
   "cell_type": "code",
   "execution_count": 6,
   "metadata": {
    "colab": {
     "base_uri": "https://localhost:8080/"
    },
    "id": "iw8ML1pBQ9CT",
    "outputId": "621bcc5e-ecc2-4bf8-83cb-e813f22acf44"
   },
   "outputs": [
    {
     "name": "stdout",
     "output_type": "stream",
     "text": [
      "Parse progress: |████████████████████████████████████████████████████████████████| (done) 100%\n"
     ]
    }
   ],
   "source": [
    "h2o_data = h2o.H2OFrame(data)"
   ]
  },
  {
   "cell_type": "code",
   "execution_count": 7,
   "metadata": {
    "colab": {
     "base_uri": "https://localhost:8080/",
     "height": 389
    },
    "id": "vpOdWghlR-3w",
    "outputId": "6e4bdaac-38d1-4e19-d534-4825d371bb9c"
   },
   "outputs": [
    {
     "data": {
      "text/html": [
       "<table class='dataframe'>\n",
       "<thead>\n",
       "<tr><th>utc_timestamp  </th><th style=\"text-align: right;\">  GR_load_actual_entsoe_transparency</th><th style=\"text-align: right;\">  GR_load_forecast_entsoe_transparency</th><th style=\"text-align: right;\">  GR_solar_generation_actual</th><th style=\"text-align: right;\">  GR_wind_onshore_generation_actual</th></tr>\n",
       "</thead>\n",
       "<tbody>\n",
       "<tr><td>1/1/2018-0:00  </td><td style=\"text-align: right;\">                         5.45673e+07</td><td style=\"text-align: right;\">                             5.447e+07</td><td style=\"text-align: right;\">                    0       </td><td style=\"text-align: right;\">                           1.42e+06</td></tr>\n",
       "<tr><td>1/1/2018-1:00  </td><td style=\"text-align: right;\">                         5.1409e+07 </td><td style=\"text-align: right;\">                             5.087e+07</td><td style=\"text-align: right;\">                    0       </td><td style=\"text-align: right;\">                           1.55e+06</td></tr>\n",
       "<tr><td>1/1/2018-2:00  </td><td style=\"text-align: right;\">                         5.04338e+07</td><td style=\"text-align: right;\">                             4.958e+07</td><td style=\"text-align: right;\">                    0       </td><td style=\"text-align: right;\">                           1.49e+06</td></tr>\n",
       "<tr><td>1/1/2018-3:00  </td><td style=\"text-align: right;\">                         4.76782e+07</td><td style=\"text-align: right;\">                             4.627e+07</td><td style=\"text-align: right;\">                    0       </td><td style=\"text-align: right;\">                           1.47e+06</td></tr>\n",
       "<tr><td>1/1/2018-4:00  </td><td style=\"text-align: right;\">                         4.50963e+07</td><td style=\"text-align: right;\">                             4.386e+07</td><td style=\"text-align: right;\">                    0       </td><td style=\"text-align: right;\">                           1.44e+06</td></tr>\n",
       "<tr><td>1/1/2018-5:00  </td><td style=\"text-align: right;\">                         4.44526e+07</td><td style=\"text-align: right;\">                             4.285e+07</td><td style=\"text-align: right;\">                    0       </td><td style=\"text-align: right;\">                           1.79e+06</td></tr>\n",
       "<tr><td>1/1/2018-6:00  </td><td style=\"text-align: right;\">                         4.51606e+07</td><td style=\"text-align: right;\">                             4.306e+07</td><td style=\"text-align: right;\">                    0       </td><td style=\"text-align: right;\">                           2.44e+06</td></tr>\n",
       "<tr><td>1/1/2018-7:00  </td><td style=\"text-align: right;\">                         4.57211e+07</td><td style=\"text-align: right;\">                             4.383e+07</td><td style=\"text-align: right;\">                10000       </td><td style=\"text-align: right;\">                           2.84e+06</td></tr>\n",
       "<tr><td>1/1/2018-8:00  </td><td style=\"text-align: right;\">                         4.7278e+07 </td><td style=\"text-align: right;\">                             4.68e+07 </td><td style=\"text-align: right;\">                    1.88e+06</td><td style=\"text-align: right;\">                           3.67e+06</td></tr>\n",
       "<tr><td>1/1/2018-9:00  </td><td style=\"text-align: right;\">                         5.13352e+07</td><td style=\"text-align: right;\">                             5.263e+07</td><td style=\"text-align: right;\">                    7.38e+06</td><td style=\"text-align: right;\">                           4.39e+06</td></tr>\n",
       "</tbody>\n",
       "</table><pre style='font-size: smaller; margin-bottom: 1em;'>[10 rows x 5 columns]</pre>"
      ],
      "text/plain": [
       "utc_timestamp      GR_load_actual_entsoe_transparency    GR_load_forecast_entsoe_transparency    GR_solar_generation_actual    GR_wind_onshore_generation_actual\n",
       "---------------  ------------------------------------  --------------------------------------  ----------------------------  -----------------------------------\n",
       "1/1/2018-0:00                             5.45673e+07                               5.447e+07                      0                                    1.42e+06\n",
       "1/1/2018-1:00                             5.1409e+07                                5.087e+07                      0                                    1.55e+06\n",
       "1/1/2018-2:00                             5.04338e+07                               4.958e+07                      0                                    1.49e+06\n",
       "1/1/2018-3:00                             4.76782e+07                               4.627e+07                      0                                    1.47e+06\n",
       "1/1/2018-4:00                             4.50963e+07                               4.386e+07                      0                                    1.44e+06\n",
       "1/1/2018-5:00                             4.44526e+07                               4.285e+07                      0                                    1.79e+06\n",
       "1/1/2018-6:00                             4.51606e+07                               4.306e+07                      0                                    2.44e+06\n",
       "1/1/2018-7:00                             4.57211e+07                               4.383e+07                  10000                                    2.84e+06\n",
       "1/1/2018-8:00                             4.7278e+07                                4.68e+07                       1.88e+06                             3.67e+06\n",
       "1/1/2018-9:00                             5.13352e+07                               5.263e+07                      7.38e+06                             4.39e+06\n",
       "[10 rows x 5 columns]\n"
      ]
     },
     "execution_count": 7,
     "metadata": {},
     "output_type": "execute_result"
    }
   ],
   "source": [
    "h2o_data.head()"
   ]
  },
  {
   "cell_type": "markdown",
   "metadata": {
    "id": "oousWe5dRUhe"
   },
   "source": [
    "## Split the data into train and test sets"
   ]
  },
  {
   "cell_type": "code",
   "execution_count": 9,
   "metadata": {
    "id": "m0STPWdXRVqo"
   },
   "outputs": [],
   "source": [
    "train_data, test_data = h2o_data.split_frame(ratios=[0.8], seed=123)"
   ]
  },
  {
   "cell_type": "markdown",
   "metadata": {
    "id": "6yE0W29ZTHvN"
   },
   "source": [
    "## Define the target variable"
   ]
  },
  {
   "cell_type": "code",
   "execution_count": 10,
   "metadata": {
    "id": "sIM4YJK1TGe_"
   },
   "outputs": [],
   "source": [
    "target_column = 'GR_load_actual_entsoe_transparency'"
   ]
  },
  {
   "cell_type": "markdown",
   "metadata": {
    "id": "QgRj0q5FTNjK"
   },
   "source": [
    "## GR_load_actual_entsoe_transparency"
   ]
  },
  {
   "cell_type": "code",
   "execution_count": 11,
   "metadata": {
    "id": "1K-1plvsTPez"
   },
   "outputs": [],
   "source": [
    "train_data[target_column] = train_data[target_column].asnumeric()"
   ]
  },
  {
   "cell_type": "markdown",
   "metadata": {
    "id": "xhiKMsPSTS3F"
   },
   "source": [
    "## Define the H2O AutoML configuration"
   ]
  },
  {
   "cell_type": "code",
   "execution_count": 12,
   "metadata": {
    "id": "jBt7FYGVTT49"
   },
   "outputs": [],
   "source": [
    "aml = H2OAutoML(max_models=10, seed=123)"
   ]
  },
  {
   "cell_type": "markdown",
   "metadata": {
    "id": "TUW3_cWOTZCG"
   },
   "source": [
    "## Train the AutoML model"
   ]
  },
  {
   "cell_type": "code",
   "execution_count": 13,
   "metadata": {
    "colab": {
     "base_uri": "https://localhost:8080/",
     "height": 1000
    },
    "id": "l6HHFbIFTaEq",
    "outputId": "1b5cbefa-0ae9-4e18-83ae-c156b5d8aca2"
   },
   "outputs": [
    {
     "name": "stdout",
     "output_type": "stream",
     "text": [
      "AutoML progress: |\n",
      "15:50:18.29: _train param, Dropping bad and constant columns: [utc_timestamp]\n",
      "\n",
      "██\n",
      "15:50:32.915: _train param, Dropping bad and constant columns: [utc_timestamp]\n",
      "\n",
      "\n",
      "15:50:34.259: _train param, Dropping bad and constant columns: [utc_timestamp]\n",
      "\n",
      "███\n",
      "15:50:48.644: _train param, Dropping bad and constant columns: [utc_timestamp]\n",
      "\n",
      "\n",
      "15:50:54.448: _train param, Dropping bad and constant columns: [utc_timestamp]\n",
      "\n",
      "██\n",
      "15:51:05.269: _train param, Dropping bad and constant columns: [utc_timestamp]\n",
      "\n",
      "█\n",
      "15:51:12.620: _train param, Dropping bad and constant columns: [utc_timestamp]\n",
      "\n",
      "█\n",
      "15:51:21.265: _train param, Dropping bad and constant columns: [utc_timestamp]\n",
      "\n",
      "██\n",
      "15:51:30.133: _train param, Dropping bad and constant columns: [utc_timestamp]\n",
      "\n",
      "█\n",
      "15:51:36.469: _train param, Dropping bad and constant columns: [utc_timestamp]\n",
      "\n",
      "█\n",
      "15:51:44.548: _train param, Dropping unused columns: [utc_timestamp]\n",
      "\n",
      "█\n",
      "15:51:47.741: _train param, Dropping unused columns: [utc_timestamp]\n",
      "\n",
      "█████████████████████████████████████████████████| (done) 100%\n"
     ]
    },
    {
     "data": {
      "text/html": [
       "<pre style='margin: 1em 0 1em 0;'>Model Details\n",
       "=============\n",
       "H2OStackedEnsembleEstimator : Stacked Ensemble\n",
       "Model Key: StackedEnsemble_AllModels_1_AutoML_1_20230523_155017\n",
       "</pre>\n",
       "<div style='margin: 1em 0 1em 0;'>\n",
       "<style>\n",
       "\n",
       "#h2o-table-2.h2o-container {\n",
       "  overflow-x: auto;\n",
       "}\n",
       "#h2o-table-2 .h2o-table {\n",
       "  /* width: 100%; */\n",
       "  margin-top: 1em;\n",
       "  margin-bottom: 1em;\n",
       "}\n",
       "#h2o-table-2 .h2o-table caption {\n",
       "  white-space: nowrap;\n",
       "  caption-side: top;\n",
       "  text-align: left;\n",
       "  /* margin-left: 1em; */\n",
       "  margin: 0;\n",
       "  font-size: larger;\n",
       "}\n",
       "#h2o-table-2 .h2o-table thead {\n",
       "  white-space: nowrap; \n",
       "  position: sticky;\n",
       "  top: 0;\n",
       "  box-shadow: 0 -1px inset;\n",
       "}\n",
       "#h2o-table-2 .h2o-table tbody {\n",
       "  overflow: auto;\n",
       "}\n",
       "#h2o-table-2 .h2o-table th,\n",
       "#h2o-table-2 .h2o-table td {\n",
       "  text-align: right;\n",
       "  /* border: 1px solid; */\n",
       "}\n",
       "#h2o-table-2 .h2o-table tr:nth-child(even) {\n",
       "  /* background: #F5F5F5 */\n",
       "}\n",
       "\n",
       "</style>      \n",
       "<div id=\"h2o-table-2\" class=\"h2o-container\">\n",
       "  <table class=\"h2o-table\">\n",
       "    <caption>Model Summary for Stacked Ensemble: </caption>\n",
       "    <thead><tr><th>key</th>\n",
       "<th>value</th></tr></thead>\n",
       "    <tbody><tr><td>Stacking strategy</td>\n",
       "<td>cross_validation</td></tr>\n",
       "<tr><td>Number of base models (used / total)</td>\n",
       "<td>7/10</td></tr>\n",
       "<tr><td># GBM base models (used / total)</td>\n",
       "<td>4/4</td></tr>\n",
       "<tr><td># XGBoost base models (used / total)</td>\n",
       "<td>3/3</td></tr>\n",
       "<tr><td># DRF base models (used / total)</td>\n",
       "<td>0/2</td></tr>\n",
       "<tr><td># GLM base models (used / total)</td>\n",
       "<td>0/1</td></tr>\n",
       "<tr><td>Metalearner algorithm</td>\n",
       "<td>GLM</td></tr>\n",
       "<tr><td>Metalearner fold assignment scheme</td>\n",
       "<td>Random</td></tr>\n",
       "<tr><td>Metalearner nfolds</td>\n",
       "<td>5</td></tr>\n",
       "<tr><td>Metalearner fold_column</td>\n",
       "<td>None</td></tr>\n",
       "<tr><td>Custom metalearner hyperparameters</td>\n",
       "<td>None</td></tr></tbody>\n",
       "  </table>\n",
       "</div>\n",
       "</div>\n",
       "<div style='margin: 1em 0 1em 0;'><pre style='margin: 1em 0 1em 0;'>ModelMetricsRegressionGLM: stackedensemble\n",
       "** Reported on train data. **\n",
       "\n",
       "MSE: 3517418035650.899\n",
       "RMSE: 1875478.0818902948\n",
       "MAE: 1386162.5148232258\n",
       "RMSLE: 0.031496644655704585\n",
       "Mean Residual Deviance: 3517418035650.899\n",
       "R^2: 0.973268898953974\n",
       "Null degrees of freedom: 10039\n",
       "Residual degrees of freedom: 10032\n",
       "Null deviance: 1.3212865205156608e+18\n",
       "Residual deviance: 3.5314877077935024e+16\n",
       "AIC: 318553.3189175752</pre></div>\n",
       "<div style='margin: 1em 0 1em 0;'><pre style='margin: 1em 0 1em 0;'>ModelMetricsRegressionGLM: stackedensemble\n",
       "** Reported on cross-validation data. **\n",
       "\n",
       "MSE: 4453587215909.751\n",
       "RMSE: 2110352.391405225\n",
       "MAE: 1547279.8532015597\n",
       "RMSLE: 0.03528657985361276\n",
       "Mean Residual Deviance: 4453587215909.751\n",
       "R^2: 0.9659232204704427\n",
       "Null degrees of freedom: 19375\n",
       "Residual degrees of freedom: 19368\n",
       "Null deviance: 2.5325041424212966e+18\n",
       "Residual deviance: 8.629270589546734e+16\n",
       "AIC: 619325.493958776</pre></div>\n",
       "<div style='margin: 1em 0 1em 0;'>\n",
       "<style>\n",
       "\n",
       "#h2o-table-3.h2o-container {\n",
       "  overflow-x: auto;\n",
       "}\n",
       "#h2o-table-3 .h2o-table {\n",
       "  /* width: 100%; */\n",
       "  margin-top: 1em;\n",
       "  margin-bottom: 1em;\n",
       "}\n",
       "#h2o-table-3 .h2o-table caption {\n",
       "  white-space: nowrap;\n",
       "  caption-side: top;\n",
       "  text-align: left;\n",
       "  /* margin-left: 1em; */\n",
       "  margin: 0;\n",
       "  font-size: larger;\n",
       "}\n",
       "#h2o-table-3 .h2o-table thead {\n",
       "  white-space: nowrap; \n",
       "  position: sticky;\n",
       "  top: 0;\n",
       "  box-shadow: 0 -1px inset;\n",
       "}\n",
       "#h2o-table-3 .h2o-table tbody {\n",
       "  overflow: auto;\n",
       "}\n",
       "#h2o-table-3 .h2o-table th,\n",
       "#h2o-table-3 .h2o-table td {\n",
       "  text-align: right;\n",
       "  /* border: 1px solid; */\n",
       "}\n",
       "#h2o-table-3 .h2o-table tr:nth-child(even) {\n",
       "  /* background: #F5F5F5 */\n",
       "}\n",
       "\n",
       "</style>      \n",
       "<div id=\"h2o-table-3\" class=\"h2o-container\">\n",
       "  <table class=\"h2o-table\">\n",
       "    <caption>Cross-Validation Metrics Summary: </caption>\n",
       "    <thead><tr><th></th>\n",
       "<th>mean</th>\n",
       "<th>sd</th>\n",
       "<th>cv_1_valid</th>\n",
       "<th>cv_2_valid</th>\n",
       "<th>cv_3_valid</th>\n",
       "<th>cv_4_valid</th>\n",
       "<th>cv_5_valid</th></tr></thead>\n",
       "    <tbody><tr><td>mae</td>\n",
       "<td>1547351.5</td>\n",
       "<td>19676.408</td>\n",
       "<td>1560319.6</td>\n",
       "<td>1567978.2</td>\n",
       "<td>1516625.5</td>\n",
       "<td>1544072.0</td>\n",
       "<td>1547762.0</td></tr>\n",
       "<tr><td>mean_residual_deviance</td>\n",
       "<td>4453942400000.0000000</td>\n",
       "<td>123322696000.0000000</td>\n",
       "<td>4401845000000.0000000</td>\n",
       "<td>4608494100000.0000000</td>\n",
       "<td>4292322260000.0000000</td>\n",
       "<td>4427123000000.0000000</td>\n",
       "<td>4539926200000.0000000</td></tr>\n",
       "<tr><td>mse</td>\n",
       "<td>4453942400000.0000000</td>\n",
       "<td>123322696000.0000000</td>\n",
       "<td>4401845000000.0000000</td>\n",
       "<td>4608494100000.0000000</td>\n",
       "<td>4292322260000.0000000</td>\n",
       "<td>4427123000000.0000000</td>\n",
       "<td>4539926200000.0000000</td></tr>\n",
       "<tr><td>null_deviance</td>\n",
       "<td>506500820000000000.0000000</td>\n",
       "<td>13911915500000000.0000000</td>\n",
       "<td>483550542000000000.0000000</td>\n",
       "<td>508421255000000000.0000000</td>\n",
       "<td>518454333000000000.0000000</td>\n",
       "<td>516501875000000000.0000000</td>\n",
       "<td>505576131000000000.0000000</td></tr>\n",
       "<tr><td>r2</td>\n",
       "<td>0.9659020</td>\n",
       "<td>0.0011136</td>\n",
       "<td>0.9649332</td>\n",
       "<td>0.9649579</td>\n",
       "<td>0.9674377</td>\n",
       "<td>0.9666827</td>\n",
       "<td>0.9654989</td></tr>\n",
       "<tr><td>residual_deviance</td>\n",
       "<td>17257393300000000.0000000</td>\n",
       "<td>382331613000000.0000000</td>\n",
       "<td>16947103400000000.0000000</td>\n",
       "<td>17811830700000000.0000000</td>\n",
       "<td>16877411100000000.0000000</td>\n",
       "<td>17208227800000000.0000000</td>\n",
       "<td>17442396900000000.0000000</td></tr>\n",
       "<tr><td>rmse</td>\n",
       "<td>2110274.8</td>\n",
       "<td>29223.254</td>\n",
       "<td>2098057.5</td>\n",
       "<td>2146740.5</td>\n",
       "<td>2071792.1</td>\n",
       "<td>2104073.0</td>\n",
       "<td>2130710.2</td></tr>\n",
       "<tr><td>rmsle</td>\n",
       "<td>0.0352851</td>\n",
       "<td>0.0004889</td>\n",
       "<td>0.0349583</td>\n",
       "<td>0.0359835</td>\n",
       "<td>0.0347492</td>\n",
       "<td>0.0351929</td>\n",
       "<td>0.0355416</td></tr></tbody>\n",
       "  </table>\n",
       "</div>\n",
       "</div><pre style=\"font-size: smaller; margin: 1em 0 0 0;\">\n",
       "\n",
       "[tips]\n",
       "Use `model.explain()` to inspect the model.\n",
       "--\n",
       "Use `h2o.display.toggle_user_tips()` to switch on/off this section.</pre>"
      ],
      "text/plain": [
       "Model Details\n",
       "=============\n",
       "H2OStackedEnsembleEstimator : Stacked Ensemble\n",
       "Model Key: StackedEnsemble_AllModels_1_AutoML_1_20230523_155017\n",
       "\n",
       "\n",
       "Model Summary for Stacked Ensemble: \n",
       "key                                   value\n",
       "------------------------------------  ----------------\n",
       "Stacking strategy                     cross_validation\n",
       "Number of base models (used / total)  7/10\n",
       "# GBM base models (used / total)      4/4\n",
       "# XGBoost base models (used / total)  3/3\n",
       "# DRF base models (used / total)      0/2\n",
       "# GLM base models (used / total)      0/1\n",
       "Metalearner algorithm                 GLM\n",
       "Metalearner fold assignment scheme    Random\n",
       "Metalearner nfolds                    5\n",
       "Metalearner fold_column\n",
       "Custom metalearner hyperparameters    None\n",
       "\n",
       "ModelMetricsRegressionGLM: stackedensemble\n",
       "** Reported on train data. **\n",
       "\n",
       "MSE: 3517418035650.899\n",
       "RMSE: 1875478.0818902948\n",
       "MAE: 1386162.5148232258\n",
       "RMSLE: 0.031496644655704585\n",
       "Mean Residual Deviance: 3517418035650.899\n",
       "R^2: 0.973268898953974\n",
       "Null degrees of freedom: 10039\n",
       "Residual degrees of freedom: 10032\n",
       "Null deviance: 1.3212865205156608e+18\n",
       "Residual deviance: 3.5314877077935024e+16\n",
       "AIC: 318553.3189175752\n",
       "\n",
       "ModelMetricsRegressionGLM: stackedensemble\n",
       "** Reported on cross-validation data. **\n",
       "\n",
       "MSE: 4453587215909.751\n",
       "RMSE: 2110352.391405225\n",
       "MAE: 1547279.8532015597\n",
       "RMSLE: 0.03528657985361276\n",
       "Mean Residual Deviance: 4453587215909.751\n",
       "R^2: 0.9659232204704427\n",
       "Null degrees of freedom: 19375\n",
       "Residual degrees of freedom: 19368\n",
       "Null deviance: 2.5325041424212966e+18\n",
       "Residual deviance: 8.629270589546734e+16\n",
       "AIC: 619325.493958776\n",
       "\n",
       "Cross-Validation Metrics Summary: \n",
       "                        mean         sd           cv_1_valid    cv_2_valid    cv_3_valid    cv_4_valid    cv_5_valid\n",
       "----------------------  -----------  -----------  ------------  ------------  ------------  ------------  ------------\n",
       "mae                     1.54735e+06  19676.4      1.56032e+06   1.56798e+06   1.51663e+06   1.54407e+06   1.54776e+06\n",
       "mean_residual_deviance  4.45394e+12  1.23323e+11  4.40184e+12   4.60849e+12   4.29232e+12   4.42712e+12   4.53993e+12\n",
       "mse                     4.45394e+12  1.23323e+11  4.40184e+12   4.60849e+12   4.29232e+12   4.42712e+12   4.53993e+12\n",
       "null_deviance           5.06501e+17  1.39119e+16  4.83551e+17   5.08421e+17   5.18454e+17   5.16502e+17   5.05576e+17\n",
       "r2                      0.965902     0.00111358   0.964933      0.964958      0.967438      0.966683      0.965499\n",
       "residual_deviance       1.72574e+16  3.82332e+14  1.69471e+16   1.78118e+16   1.68774e+16   1.72082e+16   1.74424e+16\n",
       "rmse                    2.11027e+06  29223.3      2.09806e+06   2.14674e+06   2.07179e+06   2.10407e+06   2.13071e+06\n",
       "rmsle                   0.0352851    0.000488873  0.0349583     0.0359835     0.0347492     0.0351929     0.0355416\n",
       "\n",
       "[tips]\n",
       "Use `model.explain()` to inspect the model.\n",
       "--\n",
       "Use `h2o.display.toggle_user_tips()` to switch on/off this section."
      ]
     },
     "execution_count": 13,
     "metadata": {},
     "output_type": "execute_result"
    }
   ],
   "source": [
    "aml.train(x=h2o_data.columns, y=target_column, training_frame=train_data)"
   ]
  },
  {
   "cell_type": "markdown",
   "metadata": {
    "id": "1OERlKuBTfuc"
   },
   "source": [
    "## View the leaderboard to see the performance of generated models"
   ]
  },
  {
   "cell_type": "code",
   "execution_count": 14,
   "metadata": {
    "id": "KneMQhM0TkCk"
   },
   "outputs": [],
   "source": [
    "# View the leaderboard to see the performance of generated models\n",
    "leaderboard = aml.leaderboard\n",
    "\n",
    "# Get the best performing model\n",
    "best_model = aml.leader"
   ]
  },
  {
   "cell_type": "markdown",
   "metadata": {
    "id": "0yMMYfZaTnI0"
   },
   "source": [
    "## Make predictions on the test set using the best model"
   ]
  },
  {
   "cell_type": "code",
   "execution_count": 15,
   "metadata": {
    "colab": {
     "base_uri": "https://localhost:8080/"
    },
    "id": "kPWg7nT4Tp-a",
    "outputId": "a25eecc4-a08a-4d2a-e2e0-97e5cb1565cc"
   },
   "outputs": [
    {
     "name": "stdout",
     "output_type": "stream",
     "text": [
      "stackedensemble prediction progress: |███████████████████████████████████████████| (done) 100%\n"
     ]
    }
   ],
   "source": [
    "predictions = best_model.predict(test_data)"
   ]
  },
  {
   "cell_type": "markdown",
   "metadata": {
    "id": "kGncMjPeTrpa"
   },
   "source": [
    "## Evaluate the model's performance on the test set"
   ]
  },
  {
   "cell_type": "code",
   "execution_count": 16,
   "metadata": {
    "colab": {
     "base_uri": "https://localhost:8080/"
    },
    "id": "YoiZaoJDTt26",
    "outputId": "9ece46bc-ca7c-4a0f-b7b7-904ce5919e91"
   },
   "outputs": [
    {
     "name": "stdout",
     "output_type": "stream",
     "text": [
      "ModelMetricsRegressionGLM: stackedensemble\n",
      "** Reported on test data. **\n",
      "\n",
      "MSE: 4528498171569.509\n",
      "RMSE: 2128026.8258575853\n",
      "MAE: 1557603.0190972523\n",
      "RMSLE: 0.03565571506703599\n",
      "Mean Residual Deviance: 4528498171569.509\n",
      "R^2: 0.9645925630870953\n",
      "Null degrees of freedom: 4720\n",
      "Residual degrees of freedom: 4713\n",
      "Null deviance: 6.038496502126353e+17\n",
      "Residual deviance: 2.1379039867979652e+16\n",
      "AIC: 150992.22118511234\n",
      "H2O session _sid_88a3 closed.\n"
     ]
    }
   ],
   "source": [
    "# Evaluate the model's performance on the test set\n",
    "performance = best_model.model_performance(test_data)\n",
    "print(performance)\n",
    "\n",
    "# Shutdown the H2O cluster\n",
    "h2o.cluster().shutdown()"
   ]
  }
 ],
 "metadata": {
  "colab": {
   "provenance": []
  },
  "kernelspec": {
   "display_name": "Python 3 (ipykernel)",
   "language": "python",
   "name": "python3"
  },
  "language_info": {
   "codemirror_mode": {
    "name": "ipython",
    "version": 3
   },
   "file_extension": ".py",
   "mimetype": "text/x-python",
   "name": "python",
   "nbconvert_exporter": "python",
   "pygments_lexer": "ipython3",
   "version": "3.10.9"
  },
  "varInspector": {
   "cols": {
    "lenName": 16,
    "lenType": 16,
    "lenVar": 40
   },
   "kernels_config": {
    "python": {
     "delete_cmd_postfix": "",
     "delete_cmd_prefix": "del ",
     "library": "var_list.py",
     "varRefreshCmd": "print(var_dic_list())"
    },
    "r": {
     "delete_cmd_postfix": ") ",
     "delete_cmd_prefix": "rm(",
     "library": "var_list.r",
     "varRefreshCmd": "cat(var_dic_list()) "
    }
   },
   "types_to_exclude": [
    "module",
    "function",
    "builtin_function_or_method",
    "instance",
    "_Feature"
   ],
   "window_display": false
  }
 },
 "nbformat": 4,
 "nbformat_minor": 1
}
