{
 "cells": [
  {
   "cell_type": "markdown",
   "metadata": {},
   "source": [
    "XGBoost (Extreme Gradient Boosting): XGBoost is a popular machine learning algorithm that is particularly effective for modeling structured data. It is based on decision trees and uses gradient boosting to improve the performance of the models"
   ]
  },
  {
   "cell_type": "markdown",
   "metadata": {},
   "source": [
    "In this notebook using the XGBoost analyze."
   ]
  },
  {
   "cell_type": "markdown",
   "metadata": {},
   "source": [
    "1. Import the necessary libraries."
   ]
  },
  {
   "cell_type": "code",
   "execution_count": 51,
   "metadata": {},
   "outputs": [],
   "source": [
    "import pandas as pd\n",
    "import xgboost as xgb\n",
    "import numpy as np\n",
    "from sklearn.metrics import mean_squared_error\n",
    "from sklearn.model_selection import train_test_split"
   ]
  },
  {
   "cell_type": "markdown",
   "metadata": {},
   "source": [
    "2. Load the dataset into a Pandas DataFrame and preprocess it as needed:"
   ]
  },
  {
   "cell_type": "code",
   "execution_count": 52,
   "metadata": {},
   "outputs": [],
   "source": [
    "# Load the CSV file into a pandas DataFrame\n",
    "df = pd.read_csv(\"data.csv\")\n",
    "df = df.dropna() # remove any rows with missing data"
   ]
  },
  {
   "cell_type": "markdown",
   "metadata": {},
   "source": [
    "3. Define the model"
   ]
  },
  {
   "cell_type": "code",
   "execution_count": 53,
   "metadata": {},
   "outputs": [],
   "source": [
    "# Define the XGBoost model and its hyperparameters\n",
    "model = xgb.XGBRegressor(\n",
    "    objective='reg:squarederror',\n",
    "    n_estimators=100,\n",
    "    max_depth=6,\n",
    "    learning_rate=0.1,\n",
    "    subsample=0.5\n",
    ")"
   ]
  },
  {
   "cell_type": "markdown",
   "metadata": {},
   "source": [
    "4. The data for the GR_load_actual_entsoe_transparency"
   ]
  },
  {
   "cell_type": "code",
   "execution_count": 54,
   "metadata": {},
   "outputs": [],
   "source": [
    "# Split the data into features (X) and target (y)\n",
    "df['utc_timestamp'] = pd.to_datetime(df['utc_timestamp'])\n",
    "X = df.drop('utc_timestamp', axis=1)\n",
    "y = df['GR_load_actual_entsoe_transparency']\n",
    "\n",
    "# Split the data into training and testing sets\n",
    "X_train, X_test, y_train, y_test = train_test_split(X, y, test_size=0.2)"
   ]
  },
  {
   "cell_type": "code",
   "execution_count": 55,
   "metadata": {},
   "outputs": [
    {
     "data": {
      "text/html": [
       "<div>\n",
       "<style scoped>\n",
       "    .dataframe tbody tr th:only-of-type {\n",
       "        vertical-align: middle;\n",
       "    }\n",
       "\n",
       "    .dataframe tbody tr th {\n",
       "        vertical-align: top;\n",
       "    }\n",
       "\n",
       "    .dataframe thead th {\n",
       "        text-align: right;\n",
       "    }\n",
       "</style>\n",
       "<table border=\"1\" class=\"dataframe\">\n",
       "  <thead>\n",
       "    <tr style=\"text-align: right;\">\n",
       "      <th></th>\n",
       "      <th>GR_load_actual_entsoe_transparency</th>\n",
       "      <th>GR_load_forecast_entsoe_transparency</th>\n",
       "      <th>GR_solar_generation_actual</th>\n",
       "      <th>GR_wind_onshore_generation_actual</th>\n",
       "    </tr>\n",
       "  </thead>\n",
       "  <tbody>\n",
       "    <tr>\n",
       "      <th>4307</th>\n",
       "      <td>63612300</td>\n",
       "      <td>66780000</td>\n",
       "      <td>15960000.0</td>\n",
       "      <td>6700000.0</td>\n",
       "    </tr>\n",
       "    <tr>\n",
       "      <th>22942</th>\n",
       "      <td>60766200</td>\n",
       "      <td>60908800</td>\n",
       "      <td>0.0</td>\n",
       "      <td>7340000.0</td>\n",
       "    </tr>\n",
       "    <tr>\n",
       "      <th>9403</th>\n",
       "      <td>72354900</td>\n",
       "      <td>73960000</td>\n",
       "      <td>10000.0</td>\n",
       "      <td>1740000.0</td>\n",
       "    </tr>\n",
       "    <tr>\n",
       "      <th>10513</th>\n",
       "      <td>50146100</td>\n",
       "      <td>49477100</td>\n",
       "      <td>0.0</td>\n",
       "      <td>4120000.0</td>\n",
       "    </tr>\n",
       "    <tr>\n",
       "      <th>14096</th>\n",
       "      <td>60238600</td>\n",
       "      <td>59380100</td>\n",
       "      <td>9180000.0</td>\n",
       "      <td>16690000.0</td>\n",
       "    </tr>\n",
       "  </tbody>\n",
       "</table>\n",
       "</div>"
      ],
      "text/plain": [
       "       GR_load_actual_entsoe_transparency  \\\n",
       "4307                             63612300   \n",
       "22942                            60766200   \n",
       "9403                             72354900   \n",
       "10513                            50146100   \n",
       "14096                            60238600   \n",
       "\n",
       "       GR_load_forecast_entsoe_transparency  GR_solar_generation_actual  \\\n",
       "4307                               66780000                  15960000.0   \n",
       "22942                              60908800                         0.0   \n",
       "9403                               73960000                     10000.0   \n",
       "10513                              49477100                         0.0   \n",
       "14096                              59380100                   9180000.0   \n",
       "\n",
       "       GR_wind_onshore_generation_actual  \n",
       "4307                           6700000.0  \n",
       "22942                          7340000.0  \n",
       "9403                           1740000.0  \n",
       "10513                          4120000.0  \n",
       "14096                         16690000.0  "
      ]
     },
     "execution_count": 55,
     "metadata": {},
     "output_type": "execute_result"
    }
   ],
   "source": [
    "X_train.head()"
   ]
  },
  {
   "cell_type": "markdown",
   "metadata": {},
   "source": [
    "Train and prediction"
   ]
  },
  {
   "cell_type": "code",
   "execution_count": 56,
   "metadata": {},
   "outputs": [],
   "source": [
    "# Train the model on the training set\n",
    "model.fit(X_train, y_train)\n",
    "\n",
    "# Make predictions on the testing set\n",
    "y_pred = model.predict(X_test)"
   ]
  },
  {
   "cell_type": "code",
   "execution_count": 57,
   "metadata": {},
   "outputs": [
    {
     "data": {
      "text/plain": [
       "array([66201820., 59507024., 41082864., ..., 48974040., 66303360.,\n",
       "       63670044.], dtype=float32)"
      ]
     },
     "execution_count": 57,
     "metadata": {},
     "output_type": "execute_result"
    }
   ],
   "source": [
    "y_pred"
   ]
  },
  {
   "cell_type": "code",
   "execution_count": 58,
   "metadata": {},
   "outputs": [
    {
     "data": {
      "text/plain": [
       "1023     66171500\n",
       "6492     59467600\n",
       "10733    41086100\n",
       "13745    74282200\n",
       "12932    70842200\n",
       "           ...   \n",
       "12167    47630700\n",
       "18353    59089100\n",
       "5449     48956900\n",
       "23313    66414500\n",
       "3586     63641800\n",
       "Name: GR_load_actual_entsoe_transparency, Length: 4815, dtype: int64"
      ]
     },
     "execution_count": 58,
     "metadata": {},
     "output_type": "execute_result"
    }
   ],
   "source": [
    "y_test"
   ]
  },
  {
   "cell_type": "code",
   "execution_count": 59,
   "metadata": {},
   "outputs": [
    {
     "name": "stdout",
     "output_type": "stream",
     "text": [
      "Mean Squared Error: 4179604559.307996\n"
     ]
    }
   ],
   "source": [
    "# Evaluate the model using mean squared error\n",
    "mse = mean_squared_error(y_test, y_pred)\n",
    "print(\"Mean Squared Error:\", mse)"
   ]
  },
  {
   "cell_type": "markdown",
   "metadata": {},
   "source": [
    "5. The data for the GR_load_forecast_entsoe_transparency"
   ]
  },
  {
   "cell_type": "code",
   "execution_count": 60,
   "metadata": {},
   "outputs": [],
   "source": [
    "# Split the data into features (X) and target (y)\n",
    "df['utc_timestamp'] = pd.to_datetime(df['utc_timestamp'])\n",
    "X = df.drop('utc_timestamp', axis=1)\n",
    "y = df['GR_load_forecast_entsoe_transparency']\n",
    "\n",
    "# Split the data into training and testing sets\n",
    "X_train, X_test, y_train, y_test = train_test_split(X, y, test_size=0.2)"
   ]
  },
  {
   "cell_type": "code",
   "execution_count": 61,
   "metadata": {},
   "outputs": [],
   "source": [
    "# Train the model on the training set\n",
    "model.fit(X_train, y_train)\n",
    "\n",
    "# Make predictions on the testing set\n",
    "y_pred = model.predict(X_test)"
   ]
  },
  {
   "cell_type": "code",
   "execution_count": 62,
   "metadata": {},
   "outputs": [
    {
     "data": {
      "text/plain": [
       "array([51595084., 40720100., 76391744., ..., 60933364., 55472148.,\n",
       "       63189272.], dtype=float32)"
      ]
     },
     "execution_count": 62,
     "metadata": {},
     "output_type": "execute_result"
    }
   ],
   "source": [
    "y_pred"
   ]
  },
  {
   "cell_type": "code",
   "execution_count": 63,
   "metadata": {},
   "outputs": [
    {
     "data": {
      "text/plain": [
       "23022    51611600\n",
       "15097    40674700\n",
       "540      76450000\n",
       "18544    66851900\n",
       "723      49580000\n",
       "           ...   \n",
       "11302    56961700\n",
       "14268    61179300\n",
       "18301    60950300\n",
       "5192     55570000\n",
       "7123     63150000\n",
       "Name: GR_load_forecast_entsoe_transparency, Length: 4815, dtype: int64"
      ]
     },
     "execution_count": 63,
     "metadata": {},
     "output_type": "execute_result"
    }
   ],
   "source": [
    "y_test"
   ]
  },
  {
   "cell_type": "code",
   "execution_count": 64,
   "metadata": {},
   "outputs": [
    {
     "name": "stdout",
     "output_type": "stream",
     "text": [
      "Mean Squared Error: 3971697205.2060227\n"
     ]
    }
   ],
   "source": [
    "# Evaluate the model using mean squared error\n",
    "mse = mean_squared_error(y_test, y_pred)\n",
    "print(\"Mean Squared Error:\", mse)"
   ]
  },
  {
   "cell_type": "markdown",
   "metadata": {},
   "source": [
    "6. The data for the GR_solar_generation_actual"
   ]
  },
  {
   "cell_type": "code",
   "execution_count": 65,
   "metadata": {},
   "outputs": [],
   "source": [
    "# Split the data into features (X) and target (y)\n",
    "df['utc_timestamp'] = pd.to_datetime(df['utc_timestamp'])\n",
    "X = df.drop('utc_timestamp', axis=1)\n",
    "y = df['GR_solar_generation_actual']\n",
    "\n",
    "# Split the data into training and testing sets\n",
    "X_train, X_test, y_train, y_test = train_test_split(X, y, test_size=0.2)"
   ]
  },
  {
   "cell_type": "code",
   "execution_count": 66,
   "metadata": {},
   "outputs": [],
   "source": [
    "# Train the model on the training set\n",
    "model.fit(X_train, y_train)\n",
    "\n",
    "# Make predictions on the testing set\n",
    "y_pred = model.predict(X_test)"
   ]
  },
  {
   "cell_type": "code",
   "execution_count": 67,
   "metadata": {},
   "outputs": [
    {
     "data": {
      "text/plain": [
       "array([1.6871027e+02, 1.6562167e+07, 1.5606325e+07, ..., 1.6871027e+02,\n",
       "       1.5405820e+07, 1.6871027e+02], dtype=float32)"
      ]
     },
     "execution_count": 67,
     "metadata": {},
     "output_type": "execute_result"
    }
   ],
   "source": [
    "y_pred"
   ]
  },
  {
   "cell_type": "code",
   "execution_count": 68,
   "metadata": {},
   "outputs": [
    {
     "data": {
      "text/plain": [
       "1397            0.0\n",
       "14245    16590000.0\n",
       "5509     15590000.0\n",
       "17098     1500000.0\n",
       "7570     11510000.0\n",
       "            ...    \n",
       "5628     17580000.0\n",
       "11764           0.0\n",
       "71              0.0\n",
       "13069    15390000.0\n",
       "14781           0.0\n",
       "Name: GR_solar_generation_actual, Length: 4815, dtype: float64"
      ]
     },
     "execution_count": 68,
     "metadata": {},
     "output_type": "execute_result"
    }
   ],
   "source": [
    "y_test"
   ]
  },
  {
   "cell_type": "code",
   "execution_count": 69,
   "metadata": {},
   "outputs": [
    {
     "name": "stdout",
     "output_type": "stream",
     "text": [
      "Mean Squared Error: 178525867.4920639\n"
     ]
    }
   ],
   "source": [
    "# Evaluate the model using mean squared error\n",
    "mse = mean_squared_error(y_test, y_pred)\n",
    "print(\"Mean Squared Error:\", mse)"
   ]
  },
  {
   "cell_type": "markdown",
   "metadata": {},
   "source": [
    "7. The data for the GR_wind_onshore_generation_actual"
   ]
  },
  {
   "cell_type": "code",
   "execution_count": 70,
   "metadata": {},
   "outputs": [],
   "source": [
    "# Split the data into features (X) and target (y)\n",
    "df['utc_timestamp'] = pd.to_datetime(df['utc_timestamp'])\n",
    "X = df.drop('utc_timestamp', axis=1)\n",
    "y = df['GR_wind_onshore_generation_actual']\n",
    "\n",
    "# Split the data into training and testing sets\n",
    "X_train, X_test, y_train, y_test = train_test_split(X, y, test_size=0.2)"
   ]
  },
  {
   "cell_type": "code",
   "execution_count": 71,
   "metadata": {},
   "outputs": [],
   "source": [
    "# Train the model on the training set\n",
    "model.fit(X_train, y_train)\n",
    "\n",
    "# Make predictions on the testing set\n",
    "y_pred = model.predict(X_test)"
   ]
  },
  {
   "cell_type": "code",
   "execution_count": 72,
   "metadata": {},
   "outputs": [
    {
     "data": {
      "text/plain": [
       "array([17332950. ,  1454575.5, 11891878. , ...,  4290031.5, 13257710. ,\n",
       "       19425660. ], dtype=float32)"
      ]
     },
     "execution_count": 72,
     "metadata": {},
     "output_type": "execute_result"
    }
   ],
   "source": [
    "y_pred"
   ]
  },
  {
   "cell_type": "code",
   "execution_count": 73,
   "metadata": {},
   "outputs": [
    {
     "data": {
      "text/plain": [
       "20216    17390000.0\n",
       "875       1460000.0\n",
       "18064    11890000.0\n",
       "8562      1310000.0\n",
       "7945     10260000.0\n",
       "            ...    \n",
       "5634      6500000.0\n",
       "18510     8960000.0\n",
       "12785     4290000.0\n",
       "16126    13260000.0\n",
       "19828    19420000.0\n",
       "Name: GR_wind_onshore_generation_actual, Length: 4815, dtype: float64"
      ]
     },
     "execution_count": 73,
     "metadata": {},
     "output_type": "execute_result"
    }
   ],
   "source": [
    "y_test"
   ]
  },
  {
   "cell_type": "code",
   "execution_count": 74,
   "metadata": {},
   "outputs": [
    {
     "name": "stdout",
     "output_type": "stream",
     "text": [
      "Mean Squared Error: 227438983.1501955\n"
     ]
    }
   ],
   "source": [
    "# Evaluate the model using mean squared error\n",
    "mse = mean_squared_error(y_test, y_pred)\n",
    "print(\"Mean Squared Error:\", mse)"
   ]
  }
 ],
 "metadata": {
  "kernelspec": {
   "display_name": "Python 3 (ipykernel)",
   "language": "python",
   "name": "python3"
  },
  "language_info": {
   "codemirror_mode": {
    "name": "ipython",
    "version": 3
   },
   "file_extension": ".py",
   "mimetype": "text/x-python",
   "name": "python",
   "nbconvert_exporter": "python",
   "pygments_lexer": "ipython3",
   "version": "3.10.9"
  },
  "varInspector": {
   "cols": {
    "lenName": 16,
    "lenType": 16,
    "lenVar": 40
   },
   "kernels_config": {
    "python": {
     "delete_cmd_postfix": "",
     "delete_cmd_prefix": "del ",
     "library": "var_list.py",
     "varRefreshCmd": "print(var_dic_list())"
    },
    "r": {
     "delete_cmd_postfix": ") ",
     "delete_cmd_prefix": "rm(",
     "library": "var_list.r",
     "varRefreshCmd": "cat(var_dic_list()) "
    }
   },
   "types_to_exclude": [
    "module",
    "function",
    "builtin_function_or_method",
    "instance",
    "_Feature"
   ],
   "window_display": false
  }
 },
 "nbformat": 4,
 "nbformat_minor": 2
}
