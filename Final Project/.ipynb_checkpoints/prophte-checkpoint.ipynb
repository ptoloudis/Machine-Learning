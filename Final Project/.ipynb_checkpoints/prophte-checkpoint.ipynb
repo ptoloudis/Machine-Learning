{
 "cells": [
  {
   "cell_type": "markdown",
   "metadata": {},
   "source": [
    "Prophet: Prophet is a forecasting algorithm developed by Facebook that is particularly effective for time series with strong seasonal patterns. It uses a decomposable time series model with three main components: trend, seasonality, and holidays"
   ]
  },
  {
   "cell_type": "markdown",
   "metadata": {},
   "source": [
    "In this notebook using the Prophet analyze."
   ]
  },
  {
   "cell_type": "markdown",
   "metadata": {},
   "source": [
    "1. Import the necessary libraries."
   ]
  },
  {
   "cell_type": "code",
   "execution_count": 54,
   "metadata": {},
   "outputs": [],
   "source": [
    "import pandas as pd\n",
    "import numpy as np\n",
    "from fbprophet import Prophet"
   ]
  },
  {
   "cell_type": "markdown",
   "metadata": {},
   "source": [
    "2. Load the dataset into a Pandas DataFrame and preprocess it as needed:"
   ]
  },
  {
   "cell_type": "code",
   "execution_count": 55,
   "metadata": {},
   "outputs": [],
   "source": [
    "df = pd.read_csv('data.zip')\n",
    "df = df.dropna() # remove any rows with missing data"
   ]
  },
  {
   "cell_type": "code",
   "execution_count": 56,
   "metadata": {},
   "outputs": [
    {
     "data": {
      "text/html": [
       "<div>\n",
       "<style scoped>\n",
       "    .dataframe tbody tr th:only-of-type {\n",
       "        vertical-align: middle;\n",
       "    }\n",
       "\n",
       "    .dataframe tbody tr th {\n",
       "        vertical-align: top;\n",
       "    }\n",
       "\n",
       "    .dataframe thead th {\n",
       "        text-align: right;\n",
       "    }\n",
       "</style>\n",
       "<table border=\"1\" class=\"dataframe\">\n",
       "  <thead>\n",
       "    <tr style=\"text-align: right;\">\n",
       "      <th></th>\n",
       "      <th>utc_timestamp</th>\n",
       "      <th>GR_load_actual_entsoe_transparency</th>\n",
       "      <th>GR_load_forecast_entsoe_transparency</th>\n",
       "      <th>GR_solar_generation_actual</th>\n",
       "      <th>GR_wind_onshore_generation_actual</th>\n",
       "    </tr>\n",
       "  </thead>\n",
       "  <tbody>\n",
       "    <tr>\n",
       "      <th>0</th>\n",
       "      <td>1/1/2018-0:00</td>\n",
       "      <td>54567300</td>\n",
       "      <td>54470000</td>\n",
       "      <td>0.0</td>\n",
       "      <td>1420000.0</td>\n",
       "    </tr>\n",
       "    <tr>\n",
       "      <th>1</th>\n",
       "      <td>1/1/2018-1:00</td>\n",
       "      <td>51409000</td>\n",
       "      <td>50870000</td>\n",
       "      <td>0.0</td>\n",
       "      <td>1550000.0</td>\n",
       "    </tr>\n",
       "    <tr>\n",
       "      <th>2</th>\n",
       "      <td>1/1/2018-2:00</td>\n",
       "      <td>50433800</td>\n",
       "      <td>49580000</td>\n",
       "      <td>0.0</td>\n",
       "      <td>1490000.0</td>\n",
       "    </tr>\n",
       "    <tr>\n",
       "      <th>3</th>\n",
       "      <td>1/1/2018-3:00</td>\n",
       "      <td>47678200</td>\n",
       "      <td>46270000</td>\n",
       "      <td>0.0</td>\n",
       "      <td>1470000.0</td>\n",
       "    </tr>\n",
       "    <tr>\n",
       "      <th>4</th>\n",
       "      <td>1/1/2018-4:00</td>\n",
       "      <td>45096300</td>\n",
       "      <td>43860000</td>\n",
       "      <td>0.0</td>\n",
       "      <td>1440000.0</td>\n",
       "    </tr>\n",
       "  </tbody>\n",
       "</table>\n",
       "</div>"
      ],
      "text/plain": [
       "   utc_timestamp  GR_load_actual_entsoe_transparency  \\\n",
       "0  1/1/2018-0:00                            54567300   \n",
       "1  1/1/2018-1:00                            51409000   \n",
       "2  1/1/2018-2:00                            50433800   \n",
       "3  1/1/2018-3:00                            47678200   \n",
       "4  1/1/2018-4:00                            45096300   \n",
       "\n",
       "   GR_load_forecast_entsoe_transparency  GR_solar_generation_actual  \\\n",
       "0                              54470000                         0.0   \n",
       "1                              50870000                         0.0   \n",
       "2                              49580000                         0.0   \n",
       "3                              46270000                         0.0   \n",
       "4                              43860000                         0.0   \n",
       "\n",
       "   GR_wind_onshore_generation_actual  \n",
       "0                          1420000.0  \n",
       "1                          1550000.0  \n",
       "2                          1490000.0  \n",
       "3                          1470000.0  \n",
       "4                          1440000.0  "
      ]
     },
     "execution_count": 56,
     "metadata": {},
     "output_type": "execute_result"
    }
   ],
   "source": [
    "df.head()"
   ]
  },
  {
   "cell_type": "markdown",
   "metadata": {},
   "source": [
    "3. The data for the GR_load_actual_entsoe_transparency"
   ]
  },
  {
   "cell_type": "code",
   "execution_count": 23,
   "metadata": {},
   "outputs": [
    {
     "data": {
      "text/html": [
       "<div>\n",
       "<style scoped>\n",
       "    .dataframe tbody tr th:only-of-type {\n",
       "        vertical-align: middle;\n",
       "    }\n",
       "\n",
       "    .dataframe tbody tr th {\n",
       "        vertical-align: top;\n",
       "    }\n",
       "\n",
       "    .dataframe thead th {\n",
       "        text-align: right;\n",
       "    }\n",
       "</style>\n",
       "<table border=\"1\" class=\"dataframe\">\n",
       "  <thead>\n",
       "    <tr style=\"text-align: right;\">\n",
       "      <th></th>\n",
       "      <th>utc_timestamp</th>\n",
       "      <th>GR_load_actual_entsoe_transparency</th>\n",
       "    </tr>\n",
       "  </thead>\n",
       "  <tbody>\n",
       "    <tr>\n",
       "      <th>0</th>\n",
       "      <td>1/1/2018-0:00</td>\n",
       "      <td>54567300</td>\n",
       "    </tr>\n",
       "    <tr>\n",
       "      <th>1</th>\n",
       "      <td>1/1/2018-1:00</td>\n",
       "      <td>51409000</td>\n",
       "    </tr>\n",
       "    <tr>\n",
       "      <th>2</th>\n",
       "      <td>1/1/2018-2:00</td>\n",
       "      <td>50433800</td>\n",
       "    </tr>\n",
       "    <tr>\n",
       "      <th>3</th>\n",
       "      <td>1/1/2018-3:00</td>\n",
       "      <td>47678200</td>\n",
       "    </tr>\n",
       "    <tr>\n",
       "      <th>4</th>\n",
       "      <td>1/1/2018-4:00</td>\n",
       "      <td>45096300</td>\n",
       "    </tr>\n",
       "  </tbody>\n",
       "</table>\n",
       "</div>"
      ],
      "text/plain": [
       "   utc_timestamp  GR_load_actual_entsoe_transparency\n",
       "0  1/1/2018-0:00                            54567300\n",
       "1  1/1/2018-1:00                            51409000\n",
       "2  1/1/2018-2:00                            50433800\n",
       "3  1/1/2018-3:00                            47678200\n",
       "4  1/1/2018-4:00                            45096300"
      ]
     },
     "execution_count": 23,
     "metadata": {},
     "output_type": "execute_result"
    }
   ],
   "source": [
    "# create a new dataframe with the columns we need\n",
    "energy_df = df.loc[:,['utc_timestamp','GR_load_actual_entsoe_transparency']]\n",
    "energy_df.head()"
   ]
  },
  {
   "cell_type": "code",
   "execution_count": 25,
   "metadata": {},
   "outputs": [],
   "source": [
    "# convert the utc_timestamp column to a pandas datetime object\n",
    "energy_df['utc_timestamp'] = pd.to_datetime(energy_df['utc_timestamp'])\n",
    "\n",
    "# rename the columns to fit Prophet's requirements\n",
    "energy_df = energy_df.rename(columns={'utc_timestamp': 'ds',\n",
    "                        'GR_load_actual_entsoe_transparency': 'y'})\n"
   ]
  },
  {
   "cell_type": "markdown",
   "metadata": {},
   "source": [
    "Create a model"
   ]
  },
  {
   "cell_type": "code",
   "execution_count": 26,
   "metadata": {},
   "outputs": [
    {
     "name": "stderr",
     "output_type": "stream",
     "text": [
      "d:\\app\\anaconda3\\envs\\ml2\\lib\\site-packages\\fbprophet\\forecaster.py:891: FutureWarning: The frame.append method is deprecated and will be removed from pandas in a future version. Use pandas.concat instead.\n",
      "  components = components.append(new_comp)\n"
     ]
    },
    {
     "data": {
      "text/plain": [
       "<fbprophet.forecaster.Prophet at 0x183e899f640>"
      ]
     },
     "execution_count": 26,
     "metadata": {},
     "output_type": "execute_result"
    }
   ],
   "source": [
    "# create a Prophet model and fit it to the data\n",
    "model = Prophet()\n",
    "model.fit(energy_df)"
   ]
  },
  {
   "cell_type": "code",
   "execution_count": 27,
   "metadata": {},
   "outputs": [
    {
     "name": "stderr",
     "output_type": "stream",
     "text": [
      "d:\\app\\anaconda3\\envs\\ml2\\lib\\site-packages\\fbprophet\\forecaster.py:891: FutureWarning: The frame.append method is deprecated and will be removed from pandas in a future version. Use pandas.concat instead.\n",
      "  components = components.append(new_comp)\n",
      "d:\\app\\anaconda3\\envs\\ml2\\lib\\site-packages\\fbprophet\\forecaster.py:891: FutureWarning: The frame.append method is deprecated and will be removed from pandas in a future version. Use pandas.concat instead.\n",
      "  components = components.append(new_comp)\n"
     ]
    }
   ],
   "source": [
    "# create a DataFrame with future timestamps to make forecasts\n",
    "future = model.make_future_dataframe(periods=365)\n",
    "\n",
    "# make predictions for the future timestamps\n",
    "forecast = model.predict(future)"
   ]
  },
  {
   "cell_type": "markdown",
   "metadata": {},
   "source": [
    "Print the forecast"
   ]
  },
  {
   "cell_type": "code",
   "execution_count": 38,
   "metadata": {},
   "outputs": [
    {
     "name": "stdout",
     "output_type": "stream",
     "text": [
      "                   ds         trend    yhat_lower    yhat_upper   trend_lower  \\\n",
      "0 2018-01-01 00:00:00  5.115150e+07  4.289080e+07  5.383322e+07  5.115150e+07   \n",
      "1 2018-01-01 01:00:00  5.115819e+07  3.897426e+07  5.118129e+07  5.115819e+07   \n",
      "2 2018-01-01 02:00:00  5.116489e+07  3.780183e+07  4.940105e+07  5.116489e+07   \n",
      "3 2018-01-01 03:00:00  5.117158e+07  3.630325e+07  4.830509e+07  5.117158e+07   \n",
      "4 2018-01-01 04:00:00  5.117827e+07  3.619573e+07  4.747289e+07  5.117827e+07   \n",
      "\n",
      "    trend_upper  additive_terms  additive_terms_lower  additive_terms_upper  \\\n",
      "0  5.115150e+07   -2.996816e+06         -2.996816e+06         -2.996816e+06   \n",
      "1  5.115819e+07   -5.902448e+06         -5.902448e+06         -5.902448e+06   \n",
      "2  5.116489e+07   -7.720492e+06         -7.720492e+06         -7.720492e+06   \n",
      "3  5.117158e+07   -8.874031e+06         -8.874031e+06         -8.874031e+06   \n",
      "4  5.117827e+07   -9.290518e+06         -9.290518e+06         -9.290518e+06   \n",
      "\n",
      "          daily  ...        weekly  weekly_lower  weekly_upper        yearly  \\\n",
      "0 -6.314450e+06  ... -3.336074e+06 -3.336074e+06 -3.336074e+06  6.653709e+06   \n",
      "1 -9.470504e+06  ... -3.106071e+06 -3.106071e+06 -3.106071e+06  6.674127e+06   \n",
      "2 -1.154859e+07  ... -2.866484e+06 -2.866484e+06 -2.866484e+06  6.694581e+06   \n",
      "3 -1.297007e+07  ... -2.619027e+06 -2.619027e+06 -2.619027e+06  6.715070e+06   \n",
      "4 -1.366065e+07  ... -2.365456e+06 -2.365456e+06 -2.365456e+06  6.735593e+06   \n",
      "\n",
      "   yearly_lower  yearly_upper  multiplicative_terms  \\\n",
      "0  6.653709e+06  6.653709e+06                   0.0   \n",
      "1  6.674127e+06  6.674127e+06                   0.0   \n",
      "2  6.694581e+06  6.694581e+06                   0.0   \n",
      "3  6.715070e+06  6.715070e+06                   0.0   \n",
      "4  6.735593e+06  6.735593e+06                   0.0   \n",
      "\n",
      "   multiplicative_terms_lower  multiplicative_terms_upper          yhat  \n",
      "0                         0.0                         0.0  4.815469e+07  \n",
      "1                         0.0                         0.0  4.525575e+07  \n",
      "2                         0.0                         0.0  4.344439e+07  \n",
      "3                         0.0                         0.0  4.229754e+07  \n",
      "4                         0.0                         0.0  4.188775e+07  \n",
      "\n",
      "[5 rows x 22 columns]\n"
     ]
    }
   ],
   "source": [
    "print(forecast.head())"
   ]
  },
  {
   "cell_type": "markdown",
   "metadata": {},
   "source": [
    "4. The data for the GR_load_actual_entsoe_transparency"
   ]
  },
  {
   "cell_type": "code",
   "execution_count": 39,
   "metadata": {},
   "outputs": [
    {
     "data": {
      "text/html": [
       "<div>\n",
       "<style scoped>\n",
       "    .dataframe tbody tr th:only-of-type {\n",
       "        vertical-align: middle;\n",
       "    }\n",
       "\n",
       "    .dataframe tbody tr th {\n",
       "        vertical-align: top;\n",
       "    }\n",
       "\n",
       "    .dataframe thead th {\n",
       "        text-align: right;\n",
       "    }\n",
       "</style>\n",
       "<table border=\"1\" class=\"dataframe\">\n",
       "  <thead>\n",
       "    <tr style=\"text-align: right;\">\n",
       "      <th></th>\n",
       "      <th>utc_timestamp</th>\n",
       "      <th>GR_load_forecast_entsoe_transparency</th>\n",
       "    </tr>\n",
       "  </thead>\n",
       "  <tbody>\n",
       "    <tr>\n",
       "      <th>0</th>\n",
       "      <td>1/1/2018-0:00</td>\n",
       "      <td>54470000</td>\n",
       "    </tr>\n",
       "    <tr>\n",
       "      <th>1</th>\n",
       "      <td>1/1/2018-1:00</td>\n",
       "      <td>50870000</td>\n",
       "    </tr>\n",
       "    <tr>\n",
       "      <th>2</th>\n",
       "      <td>1/1/2018-2:00</td>\n",
       "      <td>49580000</td>\n",
       "    </tr>\n",
       "    <tr>\n",
       "      <th>3</th>\n",
       "      <td>1/1/2018-3:00</td>\n",
       "      <td>46270000</td>\n",
       "    </tr>\n",
       "    <tr>\n",
       "      <th>4</th>\n",
       "      <td>1/1/2018-4:00</td>\n",
       "      <td>43860000</td>\n",
       "    </tr>\n",
       "  </tbody>\n",
       "</table>\n",
       "</div>"
      ],
      "text/plain": [
       "   utc_timestamp  GR_load_forecast_entsoe_transparency\n",
       "0  1/1/2018-0:00                              54470000\n",
       "1  1/1/2018-1:00                              50870000\n",
       "2  1/1/2018-2:00                              49580000\n",
       "3  1/1/2018-3:00                              46270000\n",
       "4  1/1/2018-4:00                              43860000"
      ]
     },
     "execution_count": 39,
     "metadata": {},
     "output_type": "execute_result"
    }
   ],
   "source": [
    "# create a new dataframe with the columns we need\n",
    "energy_df = df.loc[:,['utc_timestamp','GR_load_forecast_entsoe_transparency']]\n",
    "energy_df.head()"
   ]
  },
  {
   "cell_type": "code",
   "execution_count": 40,
   "metadata": {},
   "outputs": [],
   "source": [
    "# convert the utc_timestamp column to a pandas datetime object\n",
    "energy_df['utc_timestamp'] = pd.to_datetime(energy_df['utc_timestamp'])\n",
    "\n",
    "# rename the columns to fit Prophet's requirements\n",
    "energy_df = energy_df.rename(columns={'utc_timestamp': 'ds',\n",
    "                        'GR_load_forecast_entsoe_transparency': 'y'})"
   ]
  },
  {
   "cell_type": "markdown",
   "metadata": {},
   "source": [
    "Create a model"
   ]
  },
  {
   "cell_type": "code",
   "execution_count": 41,
   "metadata": {},
   "outputs": [
    {
     "name": "stderr",
     "output_type": "stream",
     "text": [
      "d:\\app\\anaconda3\\envs\\ml2\\lib\\site-packages\\fbprophet\\forecaster.py:891: FutureWarning: The frame.append method is deprecated and will be removed from pandas in a future version. Use pandas.concat instead.\n",
      "  components = components.append(new_comp)\n"
     ]
    },
    {
     "data": {
      "text/plain": [
       "<fbprophet.forecaster.Prophet at 0x1839ace4fd0>"
      ]
     },
     "execution_count": 41,
     "metadata": {},
     "output_type": "execute_result"
    }
   ],
   "source": [
    "# create a Prophet model and fit it to the data\n",
    "model = Prophet()\n",
    "model.fit(energy_df)"
   ]
  },
  {
   "cell_type": "code",
   "execution_count": 42,
   "metadata": {},
   "outputs": [
    {
     "name": "stderr",
     "output_type": "stream",
     "text": [
      "d:\\app\\anaconda3\\envs\\ml2\\lib\\site-packages\\fbprophet\\forecaster.py:891: FutureWarning: The frame.append method is deprecated and will be removed from pandas in a future version. Use pandas.concat instead.\n",
      "  components = components.append(new_comp)\n",
      "d:\\app\\anaconda3\\envs\\ml2\\lib\\site-packages\\fbprophet\\forecaster.py:891: FutureWarning: The frame.append method is deprecated and will be removed from pandas in a future version. Use pandas.concat instead.\n",
      "  components = components.append(new_comp)\n"
     ]
    }
   ],
   "source": [
    "# create a DataFrame with future timestamps to make forecasts\n",
    "future = model.make_future_dataframe(periods=365)\n",
    "\n",
    "# make predictions for the future timestamps\n",
    "forecast = model.predict(future)"
   ]
  },
  {
   "cell_type": "markdown",
   "metadata": {},
   "source": [
    "Print the forecast"
   ]
  },
  {
   "cell_type": "code",
   "execution_count": 43,
   "metadata": {},
   "outputs": [
    {
     "name": "stdout",
     "output_type": "stream",
     "text": [
      "                   ds         trend    yhat_lower    yhat_upper   trend_lower  \\\n",
      "0 2018-01-01 00:00:00  4.998724e+07  4.280840e+07  5.390222e+07  4.998724e+07   \n",
      "1 2018-01-01 01:00:00  4.999596e+07  3.897755e+07  5.060132e+07  4.999596e+07   \n",
      "2 2018-01-01 02:00:00  5.000469e+07  3.736401e+07  4.865905e+07  5.000469e+07   \n",
      "3 2018-01-01 03:00:00  5.001341e+07  3.630386e+07  4.834796e+07  5.001341e+07   \n",
      "4 2018-01-01 04:00:00  5.002213e+07  3.604450e+07  4.705833e+07  5.002213e+07   \n",
      "\n",
      "    trend_upper  additive_terms  additive_terms_lower  additive_terms_upper  \\\n",
      "0  4.998724e+07   -1.729728e+06         -1.729728e+06         -1.729728e+06   \n",
      "1  4.999596e+07   -4.843984e+06         -4.843984e+06         -4.843984e+06   \n",
      "2  5.000469e+07   -6.777526e+06         -6.777526e+06         -6.777526e+06   \n",
      "3  5.001341e+07   -7.955646e+06         -7.955646e+06         -7.955646e+06   \n",
      "4  5.002213e+07   -8.335098e+06         -8.335098e+06         -8.335098e+06   \n",
      "\n",
      "          daily  ...        weekly  weekly_lower  weekly_upper        yearly  \\\n",
      "0 -6.435641e+06  ... -3.141942e+06 -3.141942e+06 -3.141942e+06  7.847854e+06   \n",
      "1 -9.802059e+06  ... -2.909800e+06 -2.909800e+06 -2.909800e+06  7.867874e+06   \n",
      "2 -1.199596e+07  ... -2.669486e+06 -2.669486e+06 -2.669486e+06  7.887922e+06   \n",
      "3 -1.344094e+07  ... -2.422706e+06 -2.422706e+06 -2.422706e+06  7.907997e+06   \n",
      "4 -1.409200e+07  ... -2.171191e+06 -2.171191e+06 -2.171191e+06  7.928098e+06   \n",
      "\n",
      "   yearly_lower  yearly_upper  multiplicative_terms  \\\n",
      "0  7.847854e+06  7.847854e+06                   0.0   \n",
      "1  7.867874e+06  7.867874e+06                   0.0   \n",
      "2  7.887922e+06  7.887922e+06                   0.0   \n",
      "3  7.907997e+06  7.907997e+06                   0.0   \n",
      "4  7.928098e+06  7.928098e+06                   0.0   \n",
      "\n",
      "   multiplicative_terms_lower  multiplicative_terms_upper          yhat  \n",
      "0                         0.0                         0.0  4.825751e+07  \n",
      "1                         0.0                         0.0  4.515198e+07  \n",
      "2                         0.0                         0.0  4.322716e+07  \n",
      "3                         0.0                         0.0  4.205776e+07  \n",
      "4                         0.0                         0.0  4.168704e+07  \n",
      "\n",
      "[5 rows x 22 columns]\n"
     ]
    }
   ],
   "source": [
    "print(forecast.head())"
   ]
  },
  {
   "cell_type": "markdown",
   "metadata": {},
   "source": [
    "5. The data for the GR_solar_generation_actual"
   ]
  },
  {
   "cell_type": "code",
   "execution_count": 44,
   "metadata": {},
   "outputs": [
    {
     "data": {
      "text/html": [
       "<div>\n",
       "<style scoped>\n",
       "    .dataframe tbody tr th:only-of-type {\n",
       "        vertical-align: middle;\n",
       "    }\n",
       "\n",
       "    .dataframe tbody tr th {\n",
       "        vertical-align: top;\n",
       "    }\n",
       "\n",
       "    .dataframe thead th {\n",
       "        text-align: right;\n",
       "    }\n",
       "</style>\n",
       "<table border=\"1\" class=\"dataframe\">\n",
       "  <thead>\n",
       "    <tr style=\"text-align: right;\">\n",
       "      <th></th>\n",
       "      <th>utc_timestamp</th>\n",
       "      <th>GR_solar_generation_actual</th>\n",
       "    </tr>\n",
       "  </thead>\n",
       "  <tbody>\n",
       "    <tr>\n",
       "      <th>0</th>\n",
       "      <td>1/1/2018-0:00</td>\n",
       "      <td>0.0</td>\n",
       "    </tr>\n",
       "    <tr>\n",
       "      <th>1</th>\n",
       "      <td>1/1/2018-1:00</td>\n",
       "      <td>0.0</td>\n",
       "    </tr>\n",
       "    <tr>\n",
       "      <th>2</th>\n",
       "      <td>1/1/2018-2:00</td>\n",
       "      <td>0.0</td>\n",
       "    </tr>\n",
       "    <tr>\n",
       "      <th>3</th>\n",
       "      <td>1/1/2018-3:00</td>\n",
       "      <td>0.0</td>\n",
       "    </tr>\n",
       "    <tr>\n",
       "      <th>4</th>\n",
       "      <td>1/1/2018-4:00</td>\n",
       "      <td>0.0</td>\n",
       "    </tr>\n",
       "  </tbody>\n",
       "</table>\n",
       "</div>"
      ],
      "text/plain": [
       "   utc_timestamp  GR_solar_generation_actual\n",
       "0  1/1/2018-0:00                         0.0\n",
       "1  1/1/2018-1:00                         0.0\n",
       "2  1/1/2018-2:00                         0.0\n",
       "3  1/1/2018-3:00                         0.0\n",
       "4  1/1/2018-4:00                         0.0"
      ]
     },
     "execution_count": 44,
     "metadata": {},
     "output_type": "execute_result"
    }
   ],
   "source": [
    "# create a new dataframe with the columns we need\n",
    "energy_df = df.loc[:,['utc_timestamp','GR_solar_generation_actual']]\n",
    "energy_df.head()"
   ]
  },
  {
   "cell_type": "code",
   "execution_count": 45,
   "metadata": {},
   "outputs": [],
   "source": [
    "# convert the utc_timestamp column to a pandas datetime object\n",
    "energy_df['utc_timestamp'] = pd.to_datetime(energy_df['utc_timestamp'])\n",
    "\n",
    "# rename the columns to fit Prophet's requirements\n",
    "energy_df = energy_df.rename(columns={'utc_timestamp': 'ds',\n",
    "                        'GR_solar_generation_actual': 'y'})"
   ]
  },
  {
   "cell_type": "markdown",
   "metadata": {},
   "source": [
    "Create a model"
   ]
  },
  {
   "cell_type": "code",
   "execution_count": 46,
   "metadata": {},
   "outputs": [
    {
     "name": "stderr",
     "output_type": "stream",
     "text": [
      "d:\\app\\anaconda3\\envs\\ml2\\lib\\site-packages\\fbprophet\\forecaster.py:891: FutureWarning: The frame.append method is deprecated and will be removed from pandas in a future version. Use pandas.concat instead.\n",
      "  components = components.append(new_comp)\n"
     ]
    },
    {
     "data": {
      "text/plain": [
       "<fbprophet.forecaster.Prophet at 0x1839ad49e50>"
      ]
     },
     "execution_count": 46,
     "metadata": {},
     "output_type": "execute_result"
    }
   ],
   "source": [
    "# create a Prophet model and fit it to the data\n",
    "model = Prophet()\n",
    "model.fit(energy_df)"
   ]
  },
  {
   "cell_type": "code",
   "execution_count": 47,
   "metadata": {},
   "outputs": [
    {
     "name": "stderr",
     "output_type": "stream",
     "text": [
      "d:\\app\\anaconda3\\envs\\ml2\\lib\\site-packages\\fbprophet\\forecaster.py:891: FutureWarning: The frame.append method is deprecated and will be removed from pandas in a future version. Use pandas.concat instead.\n",
      "  components = components.append(new_comp)\n",
      "d:\\app\\anaconda3\\envs\\ml2\\lib\\site-packages\\fbprophet\\forecaster.py:891: FutureWarning: The frame.append method is deprecated and will be removed from pandas in a future version. Use pandas.concat instead.\n",
      "  components = components.append(new_comp)\n"
     ]
    }
   ],
   "source": [
    "# create a DataFrame with future timestamps to make forecasts\n",
    "future = model.make_future_dataframe(periods=365)\n",
    "\n",
    "# make predictions for the future timestamps\n",
    "forecast = model.predict(future)"
   ]
  },
  {
   "cell_type": "markdown",
   "metadata": {},
   "source": [
    "Print the forecast"
   ]
  },
  {
   "cell_type": "code",
   "execution_count": 48,
   "metadata": {},
   "outputs": [
    {
     "name": "stdout",
     "output_type": "stream",
     "text": [
      "                   ds         trend    yhat_lower    yhat_upper   trend_lower  \\\n",
      "0 2018-01-01 00:00:00  3.812957e+06 -5.327350e+06  3.778284e+05  3.812957e+06   \n",
      "1 2018-01-01 01:00:00  3.812985e+06 -5.193556e+06  3.874846e+05  3.812985e+06   \n",
      "2 2018-01-01 02:00:00  3.813012e+06 -5.114559e+06  5.456537e+05  3.813012e+06   \n",
      "3 2018-01-01 03:00:00  3.813040e+06 -4.996994e+06  1.014039e+06  3.813040e+06   \n",
      "4 2018-01-01 04:00:00  3.813067e+06 -4.986908e+06  6.374663e+05  3.813067e+06   \n",
      "\n",
      "    trend_upper  additive_terms  additive_terms_lower  additive_terms_upper  \\\n",
      "0  3.812957e+06   -6.235219e+06         -6.235219e+06         -6.235219e+06   \n",
      "1  3.812985e+06   -6.269811e+06         -6.269811e+06         -6.269811e+06   \n",
      "2  3.813012e+06   -6.070745e+06         -6.070745e+06         -6.070745e+06   \n",
      "3  3.813040e+06   -5.905784e+06         -5.905784e+06         -5.905784e+06   \n",
      "4  3.813067e+06   -6.056603e+06         -6.056603e+06         -6.056603e+06   \n",
      "\n",
      "          daily  ...        weekly  weekly_lower  weekly_upper        yearly  \\\n",
      "0 -4.399489e+06  ... -49700.446557 -49700.446557 -49700.446557 -1.786029e+06   \n",
      "1 -4.429838e+06  ... -54457.352429 -54457.352429 -54457.352429 -1.785516e+06   \n",
      "2 -4.226793e+06  ... -58949.774992 -58949.774992 -58949.774992 -1.785003e+06   \n",
      "3 -4.058160e+06  ... -63135.109986 -63135.109986 -63135.109986 -1.784489e+06   \n",
      "4 -4.205653e+06  ... -66973.909894 -66973.909894 -66973.909894 -1.783976e+06   \n",
      "\n",
      "   yearly_lower  yearly_upper  multiplicative_terms  \\\n",
      "0 -1.786029e+06 -1.786029e+06                   0.0   \n",
      "1 -1.785516e+06 -1.785516e+06                   0.0   \n",
      "2 -1.785003e+06 -1.785003e+06                   0.0   \n",
      "3 -1.784489e+06 -1.784489e+06                   0.0   \n",
      "4 -1.783976e+06 -1.783976e+06                   0.0   \n",
      "\n",
      "   multiplicative_terms_lower  multiplicative_terms_upper          yhat  \n",
      "0                         0.0                         0.0 -2.422262e+06  \n",
      "1                         0.0                         0.0 -2.456826e+06  \n",
      "2                         0.0                         0.0 -2.257733e+06  \n",
      "3                         0.0                         0.0 -2.092745e+06  \n",
      "4                         0.0                         0.0 -2.243536e+06  \n",
      "\n",
      "[5 rows x 22 columns]\n"
     ]
    }
   ],
   "source": [
    "print(forecast.head())"
   ]
  },
  {
   "cell_type": "markdown",
   "metadata": {},
   "source": [
    "6. The data for the GR_wind_onshore_generation_actual"
   ]
  },
  {
   "cell_type": "code",
   "execution_count": 49,
   "metadata": {},
   "outputs": [
    {
     "data": {
      "text/html": [
       "<div>\n",
       "<style scoped>\n",
       "    .dataframe tbody tr th:only-of-type {\n",
       "        vertical-align: middle;\n",
       "    }\n",
       "\n",
       "    .dataframe tbody tr th {\n",
       "        vertical-align: top;\n",
       "    }\n",
       "\n",
       "    .dataframe thead th {\n",
       "        text-align: right;\n",
       "    }\n",
       "</style>\n",
       "<table border=\"1\" class=\"dataframe\">\n",
       "  <thead>\n",
       "    <tr style=\"text-align: right;\">\n",
       "      <th></th>\n",
       "      <th>utc_timestamp</th>\n",
       "      <th>GR_wind_onshore_generation_actual</th>\n",
       "    </tr>\n",
       "  </thead>\n",
       "  <tbody>\n",
       "    <tr>\n",
       "      <th>0</th>\n",
       "      <td>1/1/2018-0:00</td>\n",
       "      <td>1420000.0</td>\n",
       "    </tr>\n",
       "    <tr>\n",
       "      <th>1</th>\n",
       "      <td>1/1/2018-1:00</td>\n",
       "      <td>1550000.0</td>\n",
       "    </tr>\n",
       "    <tr>\n",
       "      <th>2</th>\n",
       "      <td>1/1/2018-2:00</td>\n",
       "      <td>1490000.0</td>\n",
       "    </tr>\n",
       "    <tr>\n",
       "      <th>3</th>\n",
       "      <td>1/1/2018-3:00</td>\n",
       "      <td>1470000.0</td>\n",
       "    </tr>\n",
       "    <tr>\n",
       "      <th>4</th>\n",
       "      <td>1/1/2018-4:00</td>\n",
       "      <td>1440000.0</td>\n",
       "    </tr>\n",
       "  </tbody>\n",
       "</table>\n",
       "</div>"
      ],
      "text/plain": [
       "   utc_timestamp  GR_wind_onshore_generation_actual\n",
       "0  1/1/2018-0:00                          1420000.0\n",
       "1  1/1/2018-1:00                          1550000.0\n",
       "2  1/1/2018-2:00                          1490000.0\n",
       "3  1/1/2018-3:00                          1470000.0\n",
       "4  1/1/2018-4:00                          1440000.0"
      ]
     },
     "execution_count": 49,
     "metadata": {},
     "output_type": "execute_result"
    }
   ],
   "source": [
    "# create a new dataframe with the columns we need\n",
    "energy_df = df.loc[:,['utc_timestamp','GR_wind_onshore_generation_actual']]\n",
    "energy_df.head()"
   ]
  },
  {
   "cell_type": "code",
   "execution_count": 50,
   "metadata": {},
   "outputs": [],
   "source": [
    "# convert the utc_timestamp column to a pandas datetime object\n",
    "energy_df['utc_timestamp'] = pd.to_datetime(energy_df['utc_timestamp'])\n",
    "\n",
    "# rename the columns to fit Prophet's requirements\n",
    "energy_df = energy_df.rename(columns={'utc_timestamp': 'ds',\n",
    "                        'GR_wind_onshore_generation_actual': 'y'})"
   ]
  },
  {
   "cell_type": "markdown",
   "metadata": {},
   "source": [
    "Create a model"
   ]
  },
  {
   "cell_type": "code",
   "execution_count": 51,
   "metadata": {},
   "outputs": [
    {
     "name": "stderr",
     "output_type": "stream",
     "text": [
      "d:\\app\\anaconda3\\envs\\ml2\\lib\\site-packages\\fbprophet\\forecaster.py:891: FutureWarning: The frame.append method is deprecated and will be removed from pandas in a future version. Use pandas.concat instead.\n",
      "  components = components.append(new_comp)\n"
     ]
    },
    {
     "data": {
      "text/plain": [
       "<fbprophet.forecaster.Prophet at 0x1839ad393d0>"
      ]
     },
     "execution_count": 51,
     "metadata": {},
     "output_type": "execute_result"
    }
   ],
   "source": [
    "# create a Prophet model and fit it to the data\n",
    "model = Prophet()\n",
    "model.fit(energy_df)"
   ]
  },
  {
   "cell_type": "code",
   "execution_count": 52,
   "metadata": {},
   "outputs": [
    {
     "name": "stderr",
     "output_type": "stream",
     "text": [
      "d:\\app\\anaconda3\\envs\\ml2\\lib\\site-packages\\fbprophet\\forecaster.py:891: FutureWarning: The frame.append method is deprecated and will be removed from pandas in a future version. Use pandas.concat instead.\n",
      "  components = components.append(new_comp)\n",
      "d:\\app\\anaconda3\\envs\\ml2\\lib\\site-packages\\fbprophet\\forecaster.py:891: FutureWarning: The frame.append method is deprecated and will be removed from pandas in a future version. Use pandas.concat instead.\n",
      "  components = components.append(new_comp)\n"
     ]
    }
   ],
   "source": [
    "# create a DataFrame with future timestamps to make forecasts\n",
    "future = model.make_future_dataframe(periods=365)\n",
    "\n",
    "# make predictions for the future timestamps\n",
    "forecast = model.predict(future)"
   ]
  },
  {
   "cell_type": "markdown",
   "metadata": {},
   "source": [
    "Print the forecast"
   ]
  },
  {
   "cell_type": "code",
   "execution_count": 53,
   "metadata": {},
   "outputs": [
    {
     "name": "stdout",
     "output_type": "stream",
     "text": [
      "                   ds         trend     yhat_lower    yhat_upper  \\\n",
      "0 2018-01-01 00:00:00  4.361669e+06 -230469.052197  1.077036e+07   \n",
      "1 2018-01-01 01:00:00  4.362051e+06 -470565.292179  1.023173e+07   \n",
      "2 2018-01-01 02:00:00  4.362432e+06   -5299.662021  1.066581e+07   \n",
      "3 2018-01-01 03:00:00  4.362814e+06 -328813.833307  1.073347e+07   \n",
      "4 2018-01-01 04:00:00  4.363196e+06 -120597.679962  1.104952e+07   \n",
      "\n",
      "    trend_lower   trend_upper  additive_terms  additive_terms_lower  \\\n",
      "0  4.361669e+06  4.361669e+06    7.685618e+05          7.685618e+05   \n",
      "1  4.362051e+06  4.362051e+06    7.956175e+05          7.956175e+05   \n",
      "2  4.362432e+06  4.362432e+06    8.543475e+05          8.543475e+05   \n",
      "3  4.362814e+06  4.362814e+06    9.488131e+05          9.488131e+05   \n",
      "4  4.363196e+06  4.363196e+06    1.059700e+06          1.059700e+06   \n",
      "\n",
      "   additive_terms_upper          daily  ...         weekly   weekly_lower  \\\n",
      "0          7.685618e+05 -131857.178234  ... -371711.009690 -371711.009690   \n",
      "1          7.956175e+05  -97225.030560  ... -378656.403487 -378656.403487   \n",
      "2          8.543475e+05  -33073.443969  ... -383438.959196 -383438.959196   \n",
      "3          9.488131e+05   64620.384804  ... -386020.132445 -386020.132445   \n",
      "4          1.059700e+06  176525.371365  ... -386383.242825 -386383.242825   \n",
      "\n",
      "    weekly_upper        yearly  yearly_lower  yearly_upper  \\\n",
      "0 -371711.009690  1.272130e+06  1.272130e+06  1.272130e+06   \n",
      "1 -378656.403487  1.271499e+06  1.271499e+06  1.271499e+06   \n",
      "2 -383438.959196  1.270860e+06  1.270860e+06  1.270860e+06   \n",
      "3 -386020.132445  1.270213e+06  1.270213e+06  1.270213e+06   \n",
      "4 -386383.242825  1.269558e+06  1.269558e+06  1.269558e+06   \n",
      "\n",
      "   multiplicative_terms  multiplicative_terms_lower  \\\n",
      "0                   0.0                         0.0   \n",
      "1                   0.0                         0.0   \n",
      "2                   0.0                         0.0   \n",
      "3                   0.0                         0.0   \n",
      "4                   0.0                         0.0   \n",
      "\n",
      "   multiplicative_terms_upper          yhat  \n",
      "0                         0.0  5.130231e+06  \n",
      "1                         0.0  5.157668e+06  \n",
      "2                         0.0  5.216780e+06  \n",
      "3                         0.0  5.311627e+06  \n",
      "4                         0.0  5.422896e+06  \n",
      "\n",
      "[5 rows x 22 columns]\n"
     ]
    }
   ],
   "source": [
    "print(forecast.head())"
   ]
  }
 ],
 "metadata": {
  "kernelspec": {
   "display_name": "Python 3 (ipykernel)",
   "language": "python",
   "name": "python3"
  },
  "language_info": {
   "codemirror_mode": {
    "name": "ipython",
    "version": 3
   },
   "file_extension": ".py",
   "mimetype": "text/x-python",
   "name": "python",
   "nbconvert_exporter": "python",
   "pygments_lexer": "ipython3",
   "version": "3.10.9"
  },
  "varInspector": {
   "cols": {
    "lenName": 16,
    "lenType": 16,
    "lenVar": 40
   },
   "kernels_config": {
    "python": {
     "delete_cmd_postfix": "",
     "delete_cmd_prefix": "del ",
     "library": "var_list.py",
     "varRefreshCmd": "print(var_dic_list())"
    },
    "r": {
     "delete_cmd_postfix": ") ",
     "delete_cmd_prefix": "rm(",
     "library": "var_list.r",
     "varRefreshCmd": "cat(var_dic_list()) "
    }
   },
   "types_to_exclude": [
    "module",
    "function",
    "builtin_function_or_method",
    "instance",
    "_Feature"
   ],
   "window_display": false
  }
 },
 "nbformat": 4,
 "nbformat_minor": 2
}
